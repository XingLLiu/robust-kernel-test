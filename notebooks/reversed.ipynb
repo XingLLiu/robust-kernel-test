{
 "cells": [
  {
   "cell_type": "code",
   "execution_count": 1,
   "id": "d4ae2b71-cb70-498d-868f-4d2e66286791",
   "metadata": {},
   "outputs": [],
   "source": [
    "%load_ext autoreload\n",
    "%autoreload 2\n",
    "\n",
    "import numpy as np\n",
    "import matplotlib.pyplot as plt\n",
    "from tqdm.notebook import tqdm, trange\n",
    "import seaborn as sns\n",
    "\n",
    "import src.metrics as metrics\n",
    "import src.kernels as kernels\n",
    "import src.bootstrap as boot"
   ]
  },
  {
   "cell_type": "code",
   "execution_count": 2,
   "id": "ab1cbfad-fbb4-440c-87f0-0c9936f08b85",
   "metadata": {},
   "outputs": [],
   "source": [
    "np.random.seed(2024)"
   ]
  },
  {
   "cell_type": "code",
   "execution_count": 3,
   "id": "938048f0-f4f4-4c2b-b388-a95270781272",
   "metadata": {},
   "outputs": [],
   "source": [
    "dim = 1\n",
    "n = 1000\n",
    "\n",
    "x_sample = np.random.multivariate_normal(np.zeros((dim,)), np.eye(dim), n)\n",
    "\n",
    "y_sample = np.random.multivariate_normal(np.zeros((dim,)), np.eye(dim), n)"
   ]
  },
  {
   "cell_type": "code",
   "execution_count": 37,
   "id": "60eddf72-1500-4847-888d-6b56f0b88e69",
   "metadata": {},
   "outputs": [],
   "source": [
    "def mmd_experiment_single(kernel_class, Xs, Ys, theta, nboot=500, alpha=0.05):\n",
    "    res = {\n",
    "        \"deviation\": {\"val\": [], \"threshold\": [], \"rej\": []},\n",
    "        \"boot\": {\"val\": [], \"threshold\": [], \"pval\": [], \"rej\": []},\n",
    "        \"robust\": {\"val\": [], \"threshold\": [], \"rej\": []},\n",
    "        \"relaxed\": {\"val\": [], \"threshold\": [], \"rej\": []},\n",
    "    }\n",
    "\n",
    "    for X, Y in tqdm(zip(Xs, Ys), total=Xs.shape[0]):\n",
    "        kernel = kernel_class(sigma_sq=2.)\n",
    "        mmd = metrics.MMD(kernel)\n",
    "        val = mmd(X, Y)\n",
    "        threshold = mmd.test_threshold(X.shape[0])\n",
    "        \n",
    "        # 1. deviation bound\n",
    "        rej = mmd.reverse_test(X, Y, theta, alpha)\n",
    "\n",
    "        # save results\n",
    "        res[\"deviation\"][\"val\"].append(val)\n",
    "        res[\"deviation\"][\"threshold\"].append(threshold)\n",
    "        res[\"deviation\"][\"rej\"].append(rej)\n",
    "        \n",
    "    return res\n",
    "\n",
    "def mmd_experiment(kernel_class, Xs, Ys, theta, keys, nboot=500):\n",
    "    \"\"\"\n",
    "    Xs: [array(nrep, n, d), ...]\n",
    "    Ys: [array(nrep, n, d), ...]\n",
    "    \"\"\"\n",
    "    res = {}\n",
    "    for Xs_i, Ys_i, kk in zip(Xs, Ys, keys):\n",
    "        print(\"key:\", kk)\n",
    "        res[kk] = mmd_experiment_single(kernel_class, Xs_i, Ys_i, theta, nboot=nboot)\n",
    "\n",
    "    return res\n",
    "    "
   ]
  },
  {
   "cell_type": "code",
   "execution_count": 94,
   "id": "bc7cff9f-1048-4458-ab15-438cb5c4ea38",
   "metadata": {},
   "outputs": [],
   "source": [
    "np.random.seed(2024)"
   ]
  },
  {
   "cell_type": "code",
   "execution_count": 95,
   "id": "6e39fcca-4e72-4898-89a2-f9c6aa0e3877",
   "metadata": {},
   "outputs": [],
   "source": [
    "nrep = 10\n",
    "n = 1000\n",
    "dim = 1\n",
    "mean1 = np.zeros((dim,)) + 1. # data\n",
    "mean2 = np.zeros((dim,)) # model\n",
    "\n",
    "### Gaussian loc\n",
    "Xs = np.random.multivariate_normal(mean1, np.eye(dim), (nrep, n))\n",
    "\n",
    "Ys = np.random.multivariate_normal(mean2, np.eye(dim), (nrep, n))\n",
    "###\n",
    "\n",
    "kernel_class = kernels.RBF"
   ]
  },
  {
   "cell_type": "code",
   "execution_count": 96,
   "id": "7a7ccce0-7d92-427c-ae05-ced22a15ccac",
   "metadata": {},
   "outputs": [
    {
     "data": {
      "image/png": "[encoded data removed]",
      "text/plain": [
       "<Figure size 400x400 with 1 Axes>"
      ]
     },
     "metadata": {},
     "output_type": "display_data"
    }
   ],
   "source": [
    "fig, ax = plt.subplots(nrows=1, ncols=1, figsize=(4, 4))\n",
    "_ = ax.hist(Xs[0, :, 0], bins=50, label=\"X\", alpha=0.5, density=True)\n",
    "_ = ax.hist(Ys[0, :, 0], bins=50, label=\"Y\", alpha=0.5, density=True)"
   ]
  },
  {
   "cell_type": "code",
   "execution_count": 97,
   "id": "abd63023-732e-4ecc-b5fc-114f5c82a3de",
   "metadata": {},
   "outputs": [
    {
     "data": {
      "application/vnd.jupyter.widget-view+json": {
       "model_id": "e3d8f3f90d004b7084a7608d099e1d88",
       "version_major": 2,
       "version_minor": 0
      },
      "text/plain": [
       "  0%|          | 0/10 [00:00<?, ?it/s]"
      ]
     },
     "metadata": {},
     "output_type": "display_data"
    }
   ],
   "source": [
    "theta = 1.\n",
    "res = mmd_experiment_single(kernel_class, Xs, Ys, theta=theta, nboot=500)"
   ]
  },
  {
   "cell_type": "code",
   "execution_count": 98,
   "id": "42959191-b26e-4ce2-bfe1-d82511b1fc83",
   "metadata": {},
   "outputs": [
    {
     "data": {
      "text/plain": [
       "[0.1720179636345991,\n",
       " 0.18428476926383563,\n",
       " 0.19582963197821102,\n",
       " 0.16876194066065464,\n",
       " 0.18649441828899527,\n",
       " 0.17913646195417887,\n",
       " 0.18342694734633536,\n",
       " 0.1783882833690058,\n",
       " 0.1668056666349813,\n",
       " 0.17507306934642775]"
      ]
     },
     "execution_count": 98,
     "metadata": {},
     "output_type": "execute_result"
    }
   ],
   "source": [
    "res[\"deviation\"][\"val\"]"
   ]
  },
  {
   "cell_type": "code",
   "execution_count": 108,
   "id": "8802c6fd-e4d1-4081-aacf-9e9d092c4770",
   "metadata": {},
   "outputs": [],
   "source": [
    "def population_mmd(mean, bandwidth_sq):\n",
    "    \"\"\"Compute population MMD under a mean-shift Gaussians setup\n",
    "    \"\"\"\n",
    "    d = mean.shape[-1]\n",
    "    mean_norm_sq = np.sum(mean**2)\n",
    "    return 2 * (bandwidth_sq / (2. + bandwidth_sq))**(d/2) * (1 - np.exp(- mean_norm_sq / (2 * (2 + bandwidth_sq))))\n",
    "\n",
    "def population_mmd_inverse(val, d, bandwidth_sq):\n",
    "    \"\"\"Compute the \\| \\mu \\|_2^2 required for the population MMD \n",
    "    under a mean-shift Gaussians setup to equal to a given value.\n",
    "    \"\"\"\n",
    "    c = 2 * (bandwidth_sq / (2. + bandwidth_sq))**(d/2)\n",
    "    return -2. * (2 + bandwidth_sq) * np.log(1 - val / c)\n",
    "    "
   ]
  },
  {
   "cell_type": "code",
   "execution_count": 109,
   "id": "2a930b9f-614b-4781-b931-6c94dc4c205d",
   "metadata": {},
   "outputs": [
    {
     "data": {
      "text/plain": [
       "1.0"
      ]
     },
     "execution_count": 109,
     "metadata": {},
     "output_type": "execute_result"
    }
   ],
   "source": [
    "np.sum((np.eye(dim)[:1, 0] * 1.)**2)"
   ]
  },
  {
   "cell_type": "code",
   "execution_count": 110,
   "id": "b54f5b42-b24b-4c48-a23f-54e9b8fecfd5",
   "metadata": {},
   "outputs": [
    {
     "name": "stdout",
     "output_type": "stream",
     "text": [
      "0.17726763491986192\n",
      "0.17902191524772246\n"
     ]
    }
   ],
   "source": [
    "print(population_mmd(mean1, 1.))\n",
    "print(np.mean(res[\"deviation\"][\"val\"]))"
   ]
  },
  {
   "cell_type": "code",
   "execution_count": 111,
   "id": "9335102e-24f4-4f3b-968d-f82ba9fce0c1",
   "metadata": {},
   "outputs": [
    {
     "data": {
      "text/plain": [
       "0.9999999999999996"
      ]
     },
     "execution_count": 111,
     "metadata": {},
     "output_type": "execute_result"
    }
   ],
   "source": [
    "population_mmd_inverse(population_mmd(mean1, 1.), dim, 1.)"
   ]
  },
  {
   "cell_type": "code",
   "execution_count": 163,
   "id": "2996fecd-ee60-4572-96dc-7bed4dd70553",
   "metadata": {},
   "outputs": [],
   "source": [
    "np.random.seed(2024)"
   ]
  },
  {
   "cell_type": "code",
   "execution_count": 164,
   "id": "1842cecd-2acd-4d93-be88-cc9a9e6a3820",
   "metadata": {},
   "outputs": [],
   "source": [
    "nrep = 100\n",
    "population_mmd_ls = [1e-1, 2e-1, 3e-1, 3.5e-1, 4e-1, 4.5e-1, 5e-1, 7.5e-1, 1.]\n",
    "shift_sq_ls = [population_mmd_inverse(v, dim, 1.) for v in population_mmd_ls]\n",
    "\n",
    "Xs_ls = []\n",
    "Ys_ls = []\n",
    "\n",
    "for shift_sq in shift_sq_ls:\n",
    "    ### Gaussian loc\n",
    "    mean1 = np.eye(dim)[:1, 0] * shift_sq**0.5\n",
    "    mean2 = np.zeros((dim,))\n",
    "\n",
    "    Xs = np.random.multivariate_normal(mean1, np.eye(dim), (nrep, n))\n",
    "    Ys = np.random.multivariate_normal(mean2, np.eye(dim), (nrep, n))\n",
    "    ###\n",
    "\n",
    "    Xs_ls.append(Xs)\n",
    "    Ys_ls.append(Ys)\n",
    "\n",
    "kernel_class = kernels.RBF\n",
    "\n",
    "keys = population_mmd_ls"
   ]
  },
  {
   "cell_type": "code",
   "execution_count": 165,
   "id": "0412d878-ce94-44ed-b9fc-ac1cc1e70ed4",
   "metadata": {},
   "outputs": [
    {
     "name": "stdout",
     "output_type": "stream",
     "text": [
      "key: 0.1\n"
     ]
    },
    {
     "data": {
      "application/vnd.jupyter.widget-view+json": {
       "model_id": "05ed8e18afd04d12988b7af03906f443",
       "version_major": 2,
       "version_minor": 0
      },
      "text/plain": [
       "  0%|          | 0/100 [00:00<?, ?it/s]"
      ]
     },
     "metadata": {},
     "output_type": "display_data"
    },
    {
     "name": "stdout",
     "output_type": "stream",
     "text": [
      "key: 0.2\n"
     ]
    },
    {
     "data": {
      "application/vnd.jupyter.widget-view+json": {
       "model_id": "850b4297d16942e99e0b98235f8a8f74",
       "version_major": 2,
       "version_minor": 0
      },
      "text/plain": [
       "  0%|          | 0/100 [00:00<?, ?it/s]"
      ]
     },
     "metadata": {},
     "output_type": "display_data"
    },
    {
     "name": "stdout",
     "output_type": "stream",
     "text": [
      "key: 0.3\n"
     ]
    },
    {
     "data": {
      "application/vnd.jupyter.widget-view+json": {
       "model_id": "79f2a2f04ff946ebae4797be455295c9",
       "version_major": 2,
       "version_minor": 0
      },
      "text/plain": [
       "  0%|          | 0/100 [00:00<?, ?it/s]"
      ]
     },
     "metadata": {},
     "output_type": "display_data"
    },
    {
     "name": "stdout",
     "output_type": "stream",
     "text": [
      "key: 0.35\n"
     ]
    },
    {
     "data": {
      "application/vnd.jupyter.widget-view+json": {
       "model_id": "dd4b1a69dbcb46269d1103b381500059",
       "version_major": 2,
       "version_minor": 0
      },
      "text/plain": [
       "  0%|          | 0/100 [00:00<?, ?it/s]"
      ]
     },
     "metadata": {},
     "output_type": "display_data"
    },
    {
     "name": "stdout",
     "output_type": "stream",
     "text": [
      "key: 0.4\n"
     ]
    },
    {
     "data": {
      "application/vnd.jupyter.widget-view+json": {
       "model_id": "0575465386e547a6845e7e1d98c7cc7e",
       "version_major": 2,
       "version_minor": 0
      },
      "text/plain": [
       "  0%|          | 0/100 [00:00<?, ?it/s]"
      ]
     },
     "metadata": {},
     "output_type": "display_data"
    },
    {
     "name": "stdout",
     "output_type": "stream",
     "text": [
      "key: 0.45\n"
     ]
    },
    {
     "data": {
      "application/vnd.jupyter.widget-view+json": {
       "model_id": "9cba29cf1d8e4937a30ad40fa90260d1",
       "version_major": 2,
       "version_minor": 0
      },
      "text/plain": [
       "  0%|          | 0/100 [00:00<?, ?it/s]"
      ]
     },
     "metadata": {},
     "output_type": "display_data"
    },
    {
     "name": "stdout",
     "output_type": "stream",
     "text": [
      "key: 0.5\n"
     ]
    },
    {
     "data": {
      "application/vnd.jupyter.widget-view+json": {
       "model_id": "3f5928943692466f8dc79479490eda46",
       "version_major": 2,
       "version_minor": 0
      },
      "text/plain": [
       "  0%|          | 0/100 [00:00<?, ?it/s]"
      ]
     },
     "metadata": {},
     "output_type": "display_data"
    },
    {
     "name": "stdout",
     "output_type": "stream",
     "text": [
      "key: 0.75\n"
     ]
    },
    {
     "data": {
      "application/vnd.jupyter.widget-view+json": {
       "model_id": "029a646a4b9e4936b98963f94b74d42d",
       "version_major": 2,
       "version_minor": 0
      },
      "text/plain": [
       "  0%|          | 0/100 [00:00<?, ?it/s]"
      ]
     },
     "metadata": {},
     "output_type": "display_data"
    },
    {
     "name": "stdout",
     "output_type": "stream",
     "text": [
      "key: 1.0\n"
     ]
    },
    {
     "data": {
      "application/vnd.jupyter.widget-view+json": {
       "model_id": "a35f7314da4e4f9090911082a68d0b64",
       "version_major": 2,
       "version_minor": 0
      },
      "text/plain": [
       "  0%|          | 0/100 [00:00<?, ?it/s]"
      ]
     },
     "metadata": {},
     "output_type": "display_data"
    }
   ],
   "source": [
    "theta = 0.5\n",
    "res = mmd_experiment(kernel_class, Xs_ls, Ys_ls, theta=theta, keys=keys, nboot=500)"
   ]
  },
  {
   "cell_type": "code",
   "execution_count": 167,
   "id": "458f746a-0f63-44a0-9f9b-9198d42594a2",
   "metadata": {},
   "outputs": [
    {
     "data": {
      "image/png": "[encoded data removed]",
      "text/plain": [
       "<Figure size 600x300 with 2 Axes>"
      ]
     },
     "metadata": {},
     "output_type": "display_data"
    }
   ],
   "source": [
    "figs, axes = plt.subplots(nrows=1, ncols=2, figsize=(6, 3))\n",
    "\n",
    "ax = axes[0]\n",
    "rej_prob = [np.mean(res[kk][\"deviation\"][\"rej\"]) for kk in keys]\n",
    "ax.scatter(keys, rej_prob)\n",
    "ax.axhline(0.05, color=\"grey\", linestyle=\"--\", label=\"level\")\n",
    "ax.axvline(theta, color=\"k\", linestyle=\"-.\", label=r\"$\\theta$\")\n",
    "ax.set_xscale(\"log\")\n",
    "ax.set_ylim(-0.05, 1.05)\n",
    "ax.set_xlabel(\"MMD\")\n",
    "ax.set_ylabel(\"rej prob\")\n",
    "ax.legend()\n",
    "\n",
    "ax = axes[1]\n",
    "vals = [np.mean(res[kk][\"deviation\"][\"val\"]) for kk in keys]\n",
    "ax.scatter(shift_sq_ls, vals, label=\"empirical\")\n",
    "ax.scatter(shift_sq_ls, [population_mmd(np.eye(dim)[:1, 0] * s**0.5, 1.) for s in shift_sq_ls], marker=\"x\", label=\"theoretical\")\n",
    "ax.set_xscale(\"log\")\n",
    "ax.set_ylim(-0.05, 1.05)\n",
    "ax.set_xlabel(r\"$\\| \\mu \\|_2^2$\")\n",
    "ax.set_ylabel(\"MMD\")\n",
    "ax.legend()\n",
    "\n",
    "_ = plt.tight_layout()"
   ]
  },
  {
   "cell_type": "code",
   "execution_count": null,
   "id": "a1c7aafe-8061-4ebe-a0d5-7db591ce8001",
   "metadata": {},
   "outputs": [],
   "source": []
  }
 ],
 "metadata": {
  "kernelspec": {
   "display_name": "robust",
   "language": "python",
   "name": "robust"
  },
  "language_info": {
   "codemirror_mode": {
    "name": "ipython",
    "version": 3
   },
   "file_extension": ".py",
   "mimetype": "text/x-python",
   "name": "python",
   "nbconvert_exporter": "python",
   "pygments_lexer": "ipython3",
   "version": "3.8.10"
  }
 },
 "nbformat": 4,
 "nbformat_minor": 5
}
