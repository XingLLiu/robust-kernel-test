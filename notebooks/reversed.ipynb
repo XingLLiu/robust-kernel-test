{
 "cells": [
  {
   "cell_type": "code",
   "execution_count": 1,
   "id": "d4ae2b71-cb70-498d-868f-4d2e66286791",
   "metadata": {},
   "outputs": [],
   "source": [
    "%load_ext autoreload\n",
    "%autoreload 2\n",
    "\n",
    "import numpy as np\n",
    "import matplotlib.pyplot as plt\n",
    "from tqdm.notebook import tqdm, trange\n",
    "import seaborn as sns\n",
    "\n",
    "import src.metrics as metrics\n",
    "import src.kernels as kernels\n",
    "import src.bootstrap as boot"
   ]
  },
  {
   "cell_type": "code",
   "execution_count": 2,
   "id": "ab1cbfad-fbb4-440c-87f0-0c9936f08b85",
   "metadata": {},
   "outputs": [],
   "source": [
    "np.random.seed(2024)"
   ]
  },
  {
   "cell_type": "code",
   "execution_count": 3,
   "id": "938048f0-f4f4-4c2b-b388-a95270781272",
   "metadata": {},
   "outputs": [],
   "source": [
    "dim = 1\n",
    "n = 1000\n",
    "\n",
    "x_sample = np.random.multivariate_normal(np.zeros((dim,)), np.eye(dim), n)\n",
    "\n",
    "y_sample = np.random.multivariate_normal(np.zeros((dim,)), np.eye(dim), n)"
   ]
  },
  {
   "cell_type": "code",
   "execution_count": 125,
   "id": "60eddf72-1500-4847-888d-6b56f0b88e69",
   "metadata": {},
   "outputs": [],
   "source": [
    "def mmd_experiment_single(kernel_class, Xs, Ys, theta, nboot=500, alpha=0.05, quantile=None):\n",
    "    res = {\n",
    "        \"deviation\": {\"val\": [], \"threshold\": [], \"rej\": []},\n",
    "        \"boot_oracle\": {\"val\": [], \"threshold\": [], \"pval\": [], \"rej\": []},\n",
    "        \"boot\": {\"val\": [], \"threshold\": [], \"rej\": []},\n",
    "        \"simple\": {\"val\": [], \"threshold\": [], \"rej\": []},\n",
    "    }\n",
    "    for X, Y in tqdm(zip(Xs, Ys), total=Xs.shape[0]):\n",
    "        kernel = kernel_class(sigma_sq=2.)\n",
    "        mmd = metrics.MMD(kernel)\n",
    "        val = mmd(X, Y)\n",
    "        threshold = mmd.test_threshold(X.shape[0])\n",
    "        \n",
    "        # 1. deviation bound\n",
    "        rej = mmd.reverse_test(X, Y, theta, alpha)\n",
    "\n",
    "        res[\"deviation\"][\"val\"].append(val)\n",
    "        res[\"deviation\"][\"threshold\"].append(threshold)\n",
    "        res[\"deviation\"][\"rej\"].append(rej)\n",
    "\n",
    "        # 2. bootstrap with ground truth quantile\n",
    "        # boot_rej = float(max(0, theta - val**0.5) > quantile)\n",
    "        boot_rej = float(max(0, theta - val**0.5) > quantile)\n",
    "        res[\"boot_oracle\"][\"rej\"].append(boot_rej)\n",
    "        res[\"boot_oracle\"][\"threshold\"].append(quantile)\n",
    "\n",
    "        # # 3. bootstrap\n",
    "        # # quantile = mmd.test_threshold(X.shape[0], X, method=\"bootstrap\")\n",
    "        # # boot_rej = float(max(0, theta - val**0.5) > quantile)\n",
    "        \n",
    "        # boot_stats = mmd.test_threshold(X.shape[0], X, method=\"bootstrap_efron\")\n",
    "        # boot_stats = np.array(boot_stats)**0.5\n",
    "        # boot_pval = (1. + np.sum((theta - boot_stats) > val**0.5)) / (boot_stats.shape[0] + 1)\n",
    "        # boot_rej = np.float32(boot_pval > alpha)\n",
    "        # quantile = np.quantile(boot_stats, 1 - alpha)\n",
    "        \n",
    "        # res[\"boot\"][\"val\"].append(val**0.5)\n",
    "        # res[\"boot\"][\"rej\"].append(boot_rej)\n",
    "        # res[\"boot\"][\"threshold\"].append(quantile)\n",
    "\n",
    "        # # 4. simpe bootstrap\n",
    "        # wild_boot = boot.WildBootstrap(mmd)\n",
    "        # boot_stats, test_stat = wild_boot.compute_bootstrap(X, Y)\n",
    "        # boot_stats = boot_stats**0.5\n",
    "        # test_stat = test_stat**0.5\n",
    "        # boot_pval = (1. + np.sum(boot_stats > test_stat)) / (boot_stats.shape[0] + 1)\n",
    "        # boot_rej = np.float32(boot_pval < alpha)\n",
    "        # quantile = np.quantile(boot_stats, 1 - alpha)\n",
    "        \n",
    "        # res[\"simple\"][\"val\"].append(val**0.5)\n",
    "        # res[\"simple\"][\"rej\"].append(boot_rej)\n",
    "        # res[\"simple\"][\"threshold\"].append(quantile)\n",
    "\n",
    "    return res\n",
    "\n",
    "def mmd_experiment(kernel_class, Xs, Ys, theta, keys, nboot=500, quantiles=None):\n",
    "    \"\"\"\n",
    "    Xs: [array(nrep, n, d), ...]\n",
    "    Ys: [array(nrep, n, d), ...]\n",
    "    \"\"\"\n",
    "    res = {}\n",
    "    for Xs_i, Ys_i, kk, qq in zip(Xs, Ys, keys, quantiles):\n",
    "        print(\"key:\", kk)\n",
    "        res[kk] = mmd_experiment_single(kernel_class, Xs_i, Ys_i, theta, nboot=nboot, quantile=qq)\n",
    "\n",
    "    return res\n",
    "    "
   ]
  },
  {
   "cell_type": "code",
   "execution_count": 4,
   "id": "82c424ca-9336-412e-b4c5-1776dce93e45",
   "metadata": {},
   "outputs": [],
   "source": [
    "def population_mmd(mean, bandwidth_sq):\n",
    "    \"\"\"Compute population MMD under a mean-shift Gaussians setup\n",
    "    \"\"\"\n",
    "    d = mean.shape[-1]\n",
    "    mean_norm_sq = np.sum(mean**2)\n",
    "    mmd_sq = 2 * (bandwidth_sq / (2. + bandwidth_sq))**(d/2) * (1 - np.exp(- mean_norm_sq / (2 * (2 + bandwidth_sq))))\n",
    "    return mmd_sq**0.5\n",
    "\n",
    "def population_mmd_inverse(val, d, bandwidth_sq):\n",
    "    \"\"\"Compute the \\| \\mu \\|_2^2 required for the population MMD \n",
    "    under a mean-shift Gaussians setup to equal to a given value.\n",
    "    \"\"\"\n",
    "    mmd_sq = val**2\n",
    "    c = 2 * (bandwidth_sq / (2. + bandwidth_sq))**(d/2)\n",
    "    return -2. * (2 + bandwidth_sq) * np.log(1 - mmd_sq / c)"
   ]
  },
  {
   "cell_type": "code",
   "execution_count": 94,
   "id": "bc7cff9f-1048-4458-ab15-438cb5c4ea38",
   "metadata": {},
   "outputs": [],
   "source": [
    "np.random.seed(2024)"
   ]
  },
  {
   "cell_type": "code",
   "execution_count": 95,
   "id": "6e39fcca-4e72-4898-89a2-f9c6aa0e3877",
   "metadata": {},
   "outputs": [],
   "source": [
    "nrep = 10\n",
    "n = 1000\n",
    "dim = 1\n",
    "mean1 = np.zeros((dim,)) + 1. # data\n",
    "mean2 = np.zeros((dim,)) # model\n",
    "\n",
    "### Gaussian loc\n",
    "Xs = np.random.multivariate_normal(mean1, np.eye(dim), (nrep, n))\n",
    "\n",
    "Ys = np.random.multivariate_normal(mean2, np.eye(dim), (nrep, n))\n",
    "###\n",
    "\n",
    "kernel_class = kernels.RBF"
   ]
  },
  {
   "cell_type": "code",
   "execution_count": 96,
   "id": "7a7ccce0-7d92-427c-ae05-ced22a15ccac",
   "metadata": {},
   "outputs": [
    {
     "data": {
      "image/png": "[encoded data removed]",
      "text/plain": [
       "<Figure size 400x400 with 1 Axes>"
      ]
     },
     "metadata": {},
     "output_type": "display_data"
    }
   ],
   "source": [
    "fig, ax = plt.subplots(nrows=1, ncols=1, figsize=(4, 4))\n",
    "_ = ax.hist(Xs[0, :, 0], bins=50, label=\"X\", alpha=0.5, density=True)\n",
    "_ = ax.hist(Ys[0, :, 0], bins=50, label=\"Y\", alpha=0.5, density=True)"
   ]
  },
  {
   "cell_type": "code",
   "execution_count": 97,
   "id": "abd63023-732e-4ecc-b5fc-114f5c82a3de",
   "metadata": {},
   "outputs": [
    {
     "data": {
      "application/vnd.jupyter.widget-view+json": {
       "model_id": "e3d8f3f90d004b7084a7608d099e1d88",
       "version_major": 2,
       "version_minor": 0
      },
      "text/plain": [
       "  0%|          | 0/10 [00:00<?, ?it/s]"
      ]
     },
     "metadata": {},
     "output_type": "display_data"
    }
   ],
   "source": [
    "theta = 1.\n",
    "res = mmd_experiment_single(kernel_class, Xs, Ys, theta=theta, nboot=500)"
   ]
  },
  {
   "cell_type": "code",
   "execution_count": 98,
   "id": "42959191-b26e-4ce2-bfe1-d82511b1fc83",
   "metadata": {},
   "outputs": [
    {
     "data": {
      "text/plain": [
       "[0.1720179636345991,\n",
       " 0.18428476926383563,\n",
       " 0.19582963197821102,\n",
       " 0.16876194066065464,\n",
       " 0.18649441828899527,\n",
       " 0.17913646195417887,\n",
       " 0.18342694734633536,\n",
       " 0.1783882833690058,\n",
       " 0.1668056666349813,\n",
       " 0.17507306934642775]"
      ]
     },
     "execution_count": 98,
     "metadata": {},
     "output_type": "execute_result"
    }
   ],
   "source": [
    "res[\"deviation\"][\"val\"]"
   ]
  },
  {
   "cell_type": "code",
   "execution_count": 109,
   "id": "2a930b9f-614b-4781-b931-6c94dc4c205d",
   "metadata": {},
   "outputs": [
    {
     "data": {
      "text/plain": [
       "1.0"
      ]
     },
     "execution_count": 109,
     "metadata": {},
     "output_type": "execute_result"
    }
   ],
   "source": [
    "np.sum((np.eye(dim)[:1, 0] * 1.)**2)"
   ]
  },
  {
   "cell_type": "code",
   "execution_count": 110,
   "id": "b54f5b42-b24b-4c48-a23f-54e9b8fecfd5",
   "metadata": {},
   "outputs": [
    {
     "name": "stdout",
     "output_type": "stream",
     "text": [
      "0.17726763491986192\n",
      "0.17902191524772246\n"
     ]
    }
   ],
   "source": [
    "print(population_mmd(mean1, 1.))\n",
    "print(np.mean(res[\"deviation\"][\"val\"]))"
   ]
  },
  {
   "cell_type": "code",
   "execution_count": 111,
   "id": "9335102e-24f4-4f3b-968d-f82ba9fce0c1",
   "metadata": {},
   "outputs": [
    {
     "data": {
      "text/plain": [
       "0.9999999999999996"
      ]
     },
     "execution_count": 111,
     "metadata": {},
     "output_type": "execute_result"
    }
   ],
   "source": [
    "population_mmd_inverse(population_mmd(mean1, 1.), dim, 1.)"
   ]
  },
  {
   "cell_type": "code",
   "execution_count": 163,
   "id": "2996fecd-ee60-4572-96dc-7bed4dd70553",
   "metadata": {},
   "outputs": [],
   "source": [
    "np.random.seed(2024)"
   ]
  },
  {
   "cell_type": "code",
   "execution_count": 164,
   "id": "1842cecd-2acd-4d93-be88-cc9a9e6a3820",
   "metadata": {},
   "outputs": [],
   "source": [
    "nrep = 100\n",
    "population_mmd_ls = [1e-1, 2e-1, 3e-1, 3.5e-1, 4e-1, 4.5e-1, 5e-1, 7.5e-1, 1.]\n",
    "shift_sq_ls = [population_mmd_inverse(v, dim, 1.) for v in population_mmd_ls]\n",
    "\n",
    "Xs_ls = []\n",
    "Ys_ls = []\n",
    "\n",
    "for shift_sq in shift_sq_ls:\n",
    "    ### Gaussian loc\n",
    "    mean1 = np.eye(dim)[:1, 0] * shift_sq**0.5\n",
    "    mean2 = np.zeros((dim,))\n",
    "\n",
    "    Xs = np.random.multivariate_normal(mean1, np.eye(dim), (nrep, n))\n",
    "    Ys = np.random.multivariate_normal(mean2, np.eye(dim), (nrep, n))\n",
    "    ###\n",
    "\n",
    "    Xs_ls.append(Xs)\n",
    "    Ys_ls.append(Ys)\n",
    "\n",
    "kernel_class = kernels.RBF\n",
    "\n",
    "keys = population_mmd_ls"
   ]
  },
  {
   "cell_type": "code",
   "execution_count": 165,
   "id": "0412d878-ce94-44ed-b9fc-ac1cc1e70ed4",
   "metadata": {},
   "outputs": [
    {
     "name": "stdout",
     "output_type": "stream",
     "text": [
      "key: 0.1\n"
     ]
    },
    {
     "data": {
      "application/vnd.jupyter.widget-view+json": {
       "model_id": "05ed8e18afd04d12988b7af03906f443",
       "version_major": 2,
       "version_minor": 0
      },
      "text/plain": [
       "  0%|          | 0/100 [00:00<?, ?it/s]"
      ]
     },
     "metadata": {},
     "output_type": "display_data"
    },
    {
     "name": "stdout",
     "output_type": "stream",
     "text": [
      "key: 0.2\n"
     ]
    },
    {
     "data": {
      "application/vnd.jupyter.widget-view+json": {
       "model_id": "850b4297d16942e99e0b98235f8a8f74",
       "version_major": 2,
       "version_minor": 0
      },
      "text/plain": [
       "  0%|          | 0/100 [00:00<?, ?it/s]"
      ]
     },
     "metadata": {},
     "output_type": "display_data"
    },
    {
     "name": "stdout",
     "output_type": "stream",
     "text": [
      "key: 0.3\n"
     ]
    },
    {
     "data": {
      "application/vnd.jupyter.widget-view+json": {
       "model_id": "79f2a2f04ff946ebae4797be455295c9",
       "version_major": 2,
       "version_minor": 0
      },
      "text/plain": [
       "  0%|          | 0/100 [00:00<?, ?it/s]"
      ]
     },
     "metadata": {},
     "output_type": "display_data"
    },
    {
     "name": "stdout",
     "output_type": "stream",
     "text": [
      "key: 0.35\n"
     ]
    },
    {
     "data": {
      "application/vnd.jupyter.widget-view+json": {
       "model_id": "dd4b1a69dbcb46269d1103b381500059",
       "version_major": 2,
       "version_minor": 0
      },
      "text/plain": [
       "  0%|          | 0/100 [00:00<?, ?it/s]"
      ]
     },
     "metadata": {},
     "output_type": "display_data"
    },
    {
     "name": "stdout",
     "output_type": "stream",
     "text": [
      "key: 0.4\n"
     ]
    },
    {
     "data": {
      "application/vnd.jupyter.widget-view+json": {
       "model_id": "0575465386e547a6845e7e1d98c7cc7e",
       "version_major": 2,
       "version_minor": 0
      },
      "text/plain": [
       "  0%|          | 0/100 [00:00<?, ?it/s]"
      ]
     },
     "metadata": {},
     "output_type": "display_data"
    },
    {
     "name": "stdout",
     "output_type": "stream",
     "text": [
      "key: 0.45\n"
     ]
    },
    {
     "data": {
      "application/vnd.jupyter.widget-view+json": {
       "model_id": "9cba29cf1d8e4937a30ad40fa90260d1",
       "version_major": 2,
       "version_minor": 0
      },
      "text/plain": [
       "  0%|          | 0/100 [00:00<?, ?it/s]"
      ]
     },
     "metadata": {},
     "output_type": "display_data"
    },
    {
     "name": "stdout",
     "output_type": "stream",
     "text": [
      "key: 0.5\n"
     ]
    },
    {
     "data": {
      "application/vnd.jupyter.widget-view+json": {
       "model_id": "3f5928943692466f8dc79479490eda46",
       "version_major": 2,
       "version_minor": 0
      },
      "text/plain": [
       "  0%|          | 0/100 [00:00<?, ?it/s]"
      ]
     },
     "metadata": {},
     "output_type": "display_data"
    },
    {
     "name": "stdout",
     "output_type": "stream",
     "text": [
      "key: 0.75\n"
     ]
    },
    {
     "data": {
      "application/vnd.jupyter.widget-view+json": {
       "model_id": "029a646a4b9e4936b98963f94b74d42d",
       "version_major": 2,
       "version_minor": 0
      },
      "text/plain": [
       "  0%|          | 0/100 [00:00<?, ?it/s]"
      ]
     },
     "metadata": {},
     "output_type": "display_data"
    },
    {
     "name": "stdout",
     "output_type": "stream",
     "text": [
      "key: 1.0\n"
     ]
    },
    {
     "data": {
      "application/vnd.jupyter.widget-view+json": {
       "model_id": "a35f7314da4e4f9090911082a68d0b64",
       "version_major": 2,
       "version_minor": 0
      },
      "text/plain": [
       "  0%|          | 0/100 [00:00<?, ?it/s]"
      ]
     },
     "metadata": {},
     "output_type": "display_data"
    }
   ],
   "source": [
    "theta = 0.5\n",
    "res = mmd_experiment(kernel_class, Xs_ls, Ys_ls, theta=theta, keys=keys, nboot=500)"
   ]
  },
  {
   "cell_type": "code",
   "execution_count": 167,
   "id": "458f746a-0f63-44a0-9f9b-9198d42594a2",
   "metadata": {},
   "outputs": [
    {
     "data": {
      "image/png": "[encoded data removed]",
      "text/plain": [
       "<Figure size 600x300 with 2 Axes>"
      ]
     },
     "metadata": {},
     "output_type": "display_data"
    }
   ],
   "source": [
    "figs, axes = plt.subplots(nrows=1, ncols=2, figsize=(6, 3))\n",
    "\n",
    "ax = axes[0]\n",
    "rej_prob = [np.mean(res[kk][\"deviation\"][\"rej\"]) for kk in keys]\n",
    "ax.scatter(keys, rej_prob)\n",
    "ax.axhline(0.05, color=\"grey\", linestyle=\"--\", label=\"level\")\n",
    "ax.axvline(theta, color=\"k\", linestyle=\"-.\", label=r\"$\\theta$\")\n",
    "ax.set_xscale(\"log\")\n",
    "ax.set_ylim(-0.05, 1.05)\n",
    "ax.set_xlabel(\"MMD\")\n",
    "ax.set_ylabel(\"rej prob\")\n",
    "ax.legend()\n",
    "\n",
    "ax = axes[1]\n",
    "vals = [np.mean(res[kk][\"deviation\"][\"val\"]) for kk in keys]\n",
    "ax.scatter(shift_sq_ls, vals, label=\"empirical\")\n",
    "ax.scatter(shift_sq_ls, [population_mmd(np.eye(dim)[:1, 0] * s**0.5, 1.) for s in shift_sq_ls], marker=\"x\", label=\"theoretical\")\n",
    "ax.set_xscale(\"log\")\n",
    "ax.set_ylim(-0.05, 1.05)\n",
    "ax.set_xlabel(r\"$\\| \\mu \\|_2^2$\")\n",
    "ax.set_ylabel(\"MMD\")\n",
    "ax.legend()\n",
    "\n",
    "_ = plt.tight_layout()"
   ]
  },
  {
   "cell_type": "markdown",
   "id": "bb2cf634-692e-49ce-88be-c1c96572f44d",
   "metadata": {},
   "source": [
    "# Checking the bootstrap approach"
   ]
  },
  {
   "cell_type": "code",
   "execution_count": 5,
   "id": "3cf1f5bc-1dc6-4ebc-8182-0bc7c7755912",
   "metadata": {},
   "outputs": [],
   "source": [
    "def mmd_bootstrap(mean_ls, nrep, dim=1, n=1000):\n",
    "    stats_ls_all = []\n",
    "    \n",
    "    for mean in mean_ls:\n",
    "        stat_ls = []\n",
    "        \n",
    "        ###\n",
    "        mean1 = np.eye(dim)[:1, 0] * mean\n",
    "        mean2 = np.zeros((dim,))\n",
    "\n",
    "        Xs = np.random.multivariate_normal(mean1, np.eye(dim), (nrep, n))\n",
    "        Ys = np.random.multivariate_normal(mean2, np.eye(dim), (nrep, n))\n",
    "        ###\n",
    "        \n",
    "        kernel = kernels.RBF(sigma_sq=2.)\n",
    "        \n",
    "        mmd = metrics.MMD(kernel)\n",
    "        for X, Y in tqdm(zip(Xs, Ys), total=Xs.shape[0]):\n",
    "            stat_ls.append(mmd(X, Y))\n",
    "    \n",
    "        stats_ls_all.append(stat_ls)\n",
    "\n",
    "    return stats_ls_all"
   ]
  },
  {
   "cell_type": "code",
   "execution_count": 6,
   "id": "660f279e-8303-4997-8080-9f1b5e9d1002",
   "metadata": {},
   "outputs": [],
   "source": [
    "np.random.seed(2024)"
   ]
  },
  {
   "cell_type": "code",
   "execution_count": 8,
   "id": "d94f27d1-f013-4f47-ac76-7c989a07e633",
   "metadata": {},
   "outputs": [],
   "source": [
    "mean_ls = [1e-3, 1e-2, 1e-1, 5e-1, 1., 10.]\n",
    "stats_ls_ms = mmd_bootstrap(mean_ls, nrep=1000)"
   ]
  },
  {
   "cell_type": "code",
   "execution_count": 10,
   "id": "1b4a2179-348c-47ca-9fee-1718f5b58f0c",
   "metadata": {},
   "outputs": [],
   "source": [
    "# true sampling distribution\n",
    "figs, axes = plt.subplots(nrows=2, ncols=3, figsize=(9, 6))\n",
    "\n",
    "for i, ww in enumerate(mean_ls):\n",
    "    ax = axes.flatten()[i]\n",
    "    ax.hist(stats_ls_ms[i], bins=50, label=f\"mean shift = {ww}\")\n",
    "    ax.legend()"
   ]
  },
  {
   "cell_type": "code",
   "execution_count": 120,
   "id": "55fb4fce-f954-430b-9218-7ac6b9ce09b4",
   "metadata": {},
   "outputs": [],
   "source": [
    "np.random.seed(2024)"
   ]
  },
  {
   "cell_type": "code",
   "execution_count": 121,
   "id": "d61dc70c-0209-4994-99f6-d72df8f3a349",
   "metadata": {},
   "outputs": [
    {
     "data": {
      "application/vnd.jupyter.widget-view+json": {
       "model_id": "b46a5d2f1f1a4508a1ac862e4e2d2339",
       "version_major": 2,
       "version_minor": 0
      },
      "text/plain": [
       "  0%|          | 0/100 [00:00<?, ?it/s]"
      ]
     },
     "metadata": {},
     "output_type": "display_data"
    },
    {
     "data": {
      "application/vnd.jupyter.widget-view+json": {
       "model_id": "e1809950de7445929100fdf5d7c9ce3f",
       "version_major": 2,
       "version_minor": 0
      },
      "text/plain": [
       "  0%|          | 0/100 [00:00<?, ?it/s]"
      ]
     },
     "metadata": {},
     "output_type": "display_data"
    },
    {
     "data": {
      "application/vnd.jupyter.widget-view+json": {
       "model_id": "0d68e85bb03d4dc2a487abb2c6e9e216",
       "version_major": 2,
       "version_minor": 0
      },
      "text/plain": [
       "  0%|          | 0/100 [00:00<?, ?it/s]"
      ]
     },
     "metadata": {},
     "output_type": "display_data"
    },
    {
     "data": {
      "application/vnd.jupyter.widget-view+json": {
       "model_id": "01d04e76e586490ebe95a1235f05ee3a",
       "version_major": 2,
       "version_minor": 0
      },
      "text/plain": [
       "  0%|          | 0/100 [00:00<?, ?it/s]"
      ]
     },
     "metadata": {},
     "output_type": "display_data"
    },
    {
     "data": {
      "application/vnd.jupyter.widget-view+json": {
       "model_id": "a7d8a9947806486ca0dacf0652e95b8a",
       "version_major": 2,
       "version_minor": 0
      },
      "text/plain": [
       "  0%|          | 0/100 [00:00<?, ?it/s]"
      ]
     },
     "metadata": {},
     "output_type": "display_data"
    },
    {
     "data": {
      "application/vnd.jupyter.widget-view+json": {
       "model_id": "e8152f16d4744c1aa0f12c424ca18b66",
       "version_major": 2,
       "version_minor": 0
      },
      "text/plain": [
       "  0%|          | 0/100 [00:00<?, ?it/s]"
      ]
     },
     "metadata": {},
     "output_type": "display_data"
    }
   ],
   "source": [
    "n = 1000\n",
    "dim = 1\n",
    "nrep = 100\n",
    "# population_mmd_ls = [2e-1, 2.5e-1, 3e-1, 3.5e-1, 4e-1, 4.5e-1, 5e-1, 5.5e-1, 6e-1]\n",
    "# population_mmd_ls = [4.8e-1, 4.9e-1, 4.95e-1, 5e-1, 5.05e-1, 5.1e-1, 5.2e-1, 5.3e-1]\n",
    "population_mmd_ls = [2e-1, 3e-1, 4e-1, 5e-1, 6e-1, 7e-1]\n",
    "# population_mmd_ls = [3e-1, 4e-1, 5e-1, 6e-1]\n",
    "shift_sq_ls = [population_mmd_inverse(v, dim, 1.) for v in population_mmd_ls]\n",
    "\n",
    "Xs_ls = []\n",
    "Ys_ls = []\n",
    "quantiles = []\n",
    "stats_all_ls = []\n",
    "\n",
    "for shift_sq in shift_sq_ls:\n",
    "    ### Gaussian loc\n",
    "    mean1 = np.eye(dim)[:1, 0] * shift_sq**0.5\n",
    "    mean2 = np.zeros((dim,))\n",
    "\n",
    "    Xs = np.random.multivariate_normal(mean1, np.eye(dim), (nrep*3, n))\n",
    "    Ys = np.random.multivariate_normal(mean2, np.eye(dim), (nrep, n))\n",
    "    ###\n",
    "\n",
    "    Xs_ls.append(Xs[:nrep])\n",
    "    Ys_ls.append(Ys[:nrep])\n",
    "\n",
    "    # compute true quantiles\n",
    "    stat_ls = []\n",
    "    kernel = kernels.RBF(sigma_sq=2.)\n",
    "    mmd = metrics.MMD(kernel)\n",
    "    # Xs = np.random.multivariate_normal(mean1, np.eye(dim), (1000*2, n))\n",
    "    for i in trange(nrep):\n",
    "    # for i in trange(1000):\n",
    "        X, Y = Xs[nrep+i], Xs[2*nrep+i]\n",
    "        # X, Y = Xs[i], Xs[nrep+i]\n",
    "        stat_ls.append(mmd(X, Y)**0.5)\n",
    "\n",
    "    quantile = np.quantile(stat_ls, 0.95)\n",
    "    quantiles.append(quantile)\n",
    "    stats_all_ls.append(stat_ls)\n",
    "            \n",
    "kernel_class = kernels.RBF\n",
    "\n",
    "keys = population_mmd_ls"
   ]
  },
  {
   "cell_type": "code",
   "execution_count": 122,
   "id": "7adc52e2-9d81-4812-ae24-d1491396e757",
   "metadata": {},
   "outputs": [
    {
     "data": {
      "image/png": "[encoded data removed]",
      "text/plain": [
       "<Figure size 900x900 with 9 Axes>"
      ]
     },
     "metadata": {},
     "output_type": "display_data"
    }
   ],
   "source": [
    "# true sampling distribution\n",
    "figs, axes = plt.subplots(nrows=3, ncols=3, figsize=(9, 9))\n",
    "\n",
    "for i, ww in enumerate(population_mmd_ls):\n",
    "    ax = axes.flatten()[i]\n",
    "    ax.hist(stats_all_ls[i], bins=20, label=f\"mean shift = {ww}\")\n",
    "    ax.axvline(quantiles[i], color=\"gray\", linestyle=\"--\")\n",
    "    ax.legend()"
   ]
  },
  {
   "cell_type": "code",
   "execution_count": 126,
   "id": "667e3be7-8ecf-481d-abfd-17cd763d68a0",
   "metadata": {},
   "outputs": [],
   "source": [
    "np.random.seed(2024)"
   ]
  },
  {
   "cell_type": "code",
   "execution_count": 127,
   "id": "53d7344a-110e-4902-b694-1b14bbc63cda",
   "metadata": {},
   "outputs": [
    {
     "name": "stdout",
     "output_type": "stream",
     "text": [
      "key: 0.2\n"
     ]
    },
    {
     "data": {
      "application/vnd.jupyter.widget-view+json": {
       "model_id": "4fa4905fad9b4bc793ebd7f4d1a91965",
       "version_major": 2,
       "version_minor": 0
      },
      "text/plain": [
       "  0%|          | 0/100 [00:00<?, ?it/s]"
      ]
     },
     "metadata": {},
     "output_type": "display_data"
    },
    {
     "name": "stdout",
     "output_type": "stream",
     "text": [
      "key: 0.3\n"
     ]
    },
    {
     "data": {
      "application/vnd.jupyter.widget-view+json": {
       "model_id": "aa67073e509846099849ebc44fe73a0d",
       "version_major": 2,
       "version_minor": 0
      },
      "text/plain": [
       "  0%|          | 0/100 [00:00<?, ?it/s]"
      ]
     },
     "metadata": {},
     "output_type": "display_data"
    },
    {
     "name": "stdout",
     "output_type": "stream",
     "text": [
      "key: 0.4\n"
     ]
    },
    {
     "data": {
      "application/vnd.jupyter.widget-view+json": {
       "model_id": "e74ffcf42ae6422aadfbf76ec9831996",
       "version_major": 2,
       "version_minor": 0
      },
      "text/plain": [
       "  0%|          | 0/100 [00:00<?, ?it/s]"
      ]
     },
     "metadata": {},
     "output_type": "display_data"
    },
    {
     "name": "stdout",
     "output_type": "stream",
     "text": [
      "key: 0.5\n"
     ]
    },
    {
     "data": {
      "application/vnd.jupyter.widget-view+json": {
       "model_id": "99dd276c2c7347a6abbf7ad19ca5a1d5",
       "version_major": 2,
       "version_minor": 0
      },
      "text/plain": [
       "  0%|          | 0/100 [00:00<?, ?it/s]"
      ]
     },
     "metadata": {},
     "output_type": "display_data"
    },
    {
     "name": "stdout",
     "output_type": "stream",
     "text": [
      "key: 0.6\n"
     ]
    },
    {
     "data": {
      "application/vnd.jupyter.widget-view+json": {
       "model_id": "b493b2101da84a0784a2ae325ccbd7f8",
       "version_major": 2,
       "version_minor": 0
      },
      "text/plain": [
       "  0%|          | 0/100 [00:00<?, ?it/s]"
      ]
     },
     "metadata": {},
     "output_type": "display_data"
    },
    {
     "name": "stdout",
     "output_type": "stream",
     "text": [
      "key: 0.7\n"
     ]
    },
    {
     "data": {
      "application/vnd.jupyter.widget-view+json": {
       "model_id": "a71df41a55244b0d87b29ae758539a5d",
       "version_major": 2,
       "version_minor": 0
      },
      "text/plain": [
       "  0%|          | 0/100 [00:00<?, ?it/s]"
      ]
     },
     "metadata": {},
     "output_type": "display_data"
    }
   ],
   "source": [
    "theta = 0.5\n",
    "res = mmd_experiment(kernel_class, Xs_ls, Ys_ls, theta=theta, keys=keys, quantiles=quantiles)"
   ]
  },
  {
   "cell_type": "code",
   "execution_count": 141,
   "id": "5c0a0c11-f907-4462-a021-bd447df8b563",
   "metadata": {},
   "outputs": [],
   "source": [
    "# fig, ax = plt.subplots(nrows=1, ncols=1, figsize=(4, 3))\n",
    "\n",
    "# rej_prob = [np.mean(res[kk][\"deviation\"][\"rej\"]) for kk in keys]\n",
    "# ax.scatter(keys, rej_prob, label=\"Deviation\")\n",
    "# ax.axhline(0.05, color=\"grey\", linestyle=\"--\", label=\"level\")\n",
    "# ax.axvline(theta, color=\"k\", linestyle=\"-.\", label=r\"$\\theta$\")\n",
    "# # ax.set_xscale(\"log\")\n",
    "# ax.set_ylim(-0.05, 1.05)\n",
    "# ax.set_xlabel(\"MMD\")\n",
    "# ax.set_ylabel(\"Rejection probability\")\n",
    "# ax.legend()\n",
    "\n",
    "# _ = plt.tight_layout()\n",
    "# plt.tight_layout()\n",
    "# # plt.savefig(\"../figs/reversed/ms.pdf\")"
   ]
  },
  {
   "cell_type": "code",
   "execution_count": 84,
   "id": "23d5506e-e2ac-4573-b6dd-b49529ea32e7",
   "metadata": {},
   "outputs": [
    {
     "data": {
      "image/png": "[encoded data removed]",
      "text/plain": [
       "<Figure size 900x300 with 3 Axes>"
      ]
     },
     "metadata": {},
     "output_type": "display_data"
    }
   ],
   "source": [
    "figs, axes = plt.subplots(nrows=1, ncols=3, figsize=(9, 3))\n",
    "\n",
    "ax = axes[0]\n",
    "rej_prob = [np.mean(res[kk][\"deviation\"][\"rej\"]) for kk in keys]\n",
    "ax.scatter(keys, rej_prob, label=\"deviation\")\n",
    "rej_prob = [np.mean(res[kk][\"boot\"][\"rej\"]) for kk in keys]\n",
    "ax.scatter(keys, rej_prob, marker=\"x\", label=\"boot\")\n",
    "rej_prob = [np.mean(res[kk][\"boot_oracle\"][\"rej\"]) for kk in keys]\n",
    "ax.scatter(keys, rej_prob, marker=\"+\", label=\"boot_oracle\")\n",
    "ax.axhline(0.05, color=\"grey\", linestyle=\"--\", label=\"level\")\n",
    "ax.axvline(theta, color=\"k\", linestyle=\"-.\", label=r\"$\\theta$\")\n",
    "# ax.set_xscale(\"log\")\n",
    "ax.set_ylim(-0.05, 1.05)\n",
    "ax.set_xlabel(\"MMD\")\n",
    "ax.set_ylabel(\"rej prob\")\n",
    "ax.legend()\n",
    "\n",
    "ax = axes[1]\n",
    "vals = [np.mean(res[kk][\"deviation\"][\"val\"]) for kk in keys]\n",
    "ax.scatter(shift_sq_ls, [vv**0.5 for vv in vals], label=\"empirical\")\n",
    "ax.scatter(shift_sq_ls, [population_mmd(np.eye(dim)[:1, 0] * s**0.5, 1.) for s in shift_sq_ls], marker=\"x\", label=\"theoretical\")\n",
    "# ax.set_xscale(\"log\")\n",
    "ax.set_ylim(-0.05, 1.05)\n",
    "ax.set_xlabel(r\"$\\| \\mu \\|_2^2$\")\n",
    "ax.set_ylabel(\"MMD\")\n",
    "ax.legend()\n",
    "\n",
    "ax = axes[2]\n",
    "quantile_boot = [np.mean(res[kk][\"boot\"][\"threshold\"]) for kk in keys]\n",
    "quantile_oracle = [np.mean(res[kk][\"boot_oracle\"][\"threshold\"]) for kk in keys]\n",
    "ax.scatter(shift_sq_ls, quantile_boot, marker=\"x\", color=\"C1\", label=\"boot\")\n",
    "ax.scatter(shift_sq_ls, quantile_oracle, marker=\"+\", color=\"C2\", label=\"oracle\")\n",
    "ax.set_xlabel(r\"$\\| \\mu \\|_2^2$\")\n",
    "ax.legend()\n",
    "\n",
    "_ = plt.tight_layout()\n",
    "plt.tight_layout()"
   ]
  },
  {
   "cell_type": "code",
   "execution_count": null,
   "id": "e616ff22-3d0b-490d-8bbf-022854e3034f",
   "metadata": {},
   "outputs": [],
   "source": []
  },
  {
   "cell_type": "code",
   "execution_count": null,
   "id": "9146fcc5-9186-4657-a98c-b88716d7ae49",
   "metadata": {},
   "outputs": [],
   "source": []
  },
  {
   "cell_type": "code",
   "execution_count": 102,
   "id": "f7f77103-4f5f-41ae-87ee-7b53b4763605",
   "metadata": {},
   "outputs": [
    {
     "data": {
      "image/png": "[encoded data removed]",
      "text/plain": [
       "<Figure size 900x300 with 3 Axes>"
      ]
     },
     "metadata": {},
     "output_type": "display_data"
    }
   ],
   "source": [
    "figs, axes = plt.subplots(nrows=1, ncols=3, figsize=(9, 3))\n",
    "\n",
    "ax = axes[0]\n",
    "rej_prob = [np.mean(res[kk][\"deviation\"][\"rej\"]) for kk in keys]\n",
    "ax.scatter(keys, rej_prob, label=\"deviation\")\n",
    "rej_prob = [np.mean(res[kk][\"boot\"][\"rej\"]) for kk in keys]\n",
    "ax.scatter(keys, rej_prob, marker=\"x\", label=\"boot\")\n",
    "rej_prob = [np.mean(res[kk][\"boot_oracle\"][\"rej\"]) for kk in keys]\n",
    "ax.scatter(keys, rej_prob, marker=\"+\", label=\"boot_oracle\")\n",
    "ax.axhline(0.05, color=\"grey\", linestyle=\"--\", label=\"level\")\n",
    "ax.axvline(theta, color=\"k\", linestyle=\"-.\", label=r\"$\\theta$\")\n",
    "# ax.set_xscale(\"log\")\n",
    "ax.set_ylim(-0.05, 1.05)\n",
    "ax.set_xlabel(\"MMD\")\n",
    "ax.set_ylabel(\"rej prob\")\n",
    "ax.legend()\n",
    "\n",
    "ax = axes[1]\n",
    "vals = [np.mean(res[kk][\"deviation\"][\"val\"]) for kk in keys]\n",
    "ax.scatter(shift_sq_ls, [vv**0.5 for vv in vals], label=\"empirical\")\n",
    "ax.scatter(shift_sq_ls, [population_mmd(np.eye(dim)[:1, 0] * s**0.5, 1.) for s in shift_sq_ls], marker=\"x\", label=\"theoretical\")\n",
    "# ax.set_xscale(\"log\")\n",
    "ax.set_ylim(-0.05, 1.05)\n",
    "ax.set_xlabel(r\"$\\| \\mu \\|_2^2$\")\n",
    "ax.set_ylabel(\"MMD\")\n",
    "ax.legend()\n",
    "\n",
    "ax = axes[2]\n",
    "quantile_oracle = [np.mean(res[kk][\"boot_oracle\"][\"threshold\"]) for kk in keys]\n",
    "quantile_boot = [np.mean(res[kk][\"boot\"][\"threshold\"]) for kk in keys]\n",
    "ax.scatter(shift_sq_ls, quantile_oracle, label=\"oracle\")\n",
    "ax.scatter(shift_sq_ls, quantile_boot, marker=\"x\", label=\"boot\")\n",
    "# ax.set_xscale(\"log\")\n",
    "ax.set_xlabel(r\"$\\| \\mu \\|_2^2$\")\n",
    "ax.legend()\n",
    "\n",
    "_ = plt.tight_layout()\n",
    "plt.tight_layout()"
   ]
  },
  {
   "cell_type": "markdown",
   "id": "2ce7a1db-5c56-4936-922b-eb951eba0b6d",
   "metadata": {},
   "source": [
    "Check if bootstrap produces the correct quantiles"
   ]
  },
  {
   "cell_type": "code",
   "execution_count": 112,
   "id": "def34d2d-1eed-41bb-bbfe-c43a3eab026b",
   "metadata": {},
   "outputs": [],
   "source": [
    "np.random.seed(2024)"
   ]
  },
  {
   "cell_type": "code",
   "execution_count": 113,
   "id": "b733f0a4-b865-4569-9f8d-1411ce3d40ce",
   "metadata": {},
   "outputs": [
    {
     "data": {
      "application/vnd.jupyter.widget-view+json": {
       "model_id": "a7b36f00fa95427893e5f7e62f0abe90",
       "version_major": 2,
       "version_minor": 0
      },
      "text/plain": [
       "  0%|          | 0/100 [00:00<?, ?it/s]"
      ]
     },
     "metadata": {},
     "output_type": "display_data"
    }
   ],
   "source": [
    "idx = -1\n",
    "shift_sq = shift_sq_ls[idx]\n",
    "n_list = [1000] # [100, 500, 1000, 2000]\n",
    "boot_quantiles = {nn: [] for nn in n_list}\n",
    "alpha = 0.05\n",
    "nrep = 100\n",
    "\n",
    "for n in n_list:\n",
    "    ### Gaussian loc\n",
    "    mean1 = np.eye(dim)[:1, 0] * shift_sq**0.5\n",
    "    mean2 = np.zeros((dim,))\n",
    "\n",
    "    Xs = np.random.multivariate_normal(mean1, np.eye(dim), (nrep, n))\n",
    "    Ys = np.random.multivariate_normal(mean2, np.eye(dim), (nrep, n))\n",
    "    ###\n",
    "\n",
    "    for X, Y in tqdm(zip(Xs, Ys), total=Xs.shape[0]):\n",
    "        kernel = kernels.RBF(sigma_sq=2.)\n",
    "        mmd = metrics.MMD(kernel)\n",
    "        val = mmd(X, Y)\n",
    "        threshold = mmd.test_threshold(X.shape[0])\n",
    "        \n",
    "        # 3. bootstrap\n",
    "        boot_stats, test_stat = mmd.test_threshold(X.shape[0], X, method=\"bootstrap\")\n",
    "        boot_stats = boot_stats**0.5\n",
    "        boot_pval = (1. + np.sum((theta - boot_stats) > val**0.5)) / (boot_stats.shape[0] + 1)\n",
    "        boot_rej = np.float32(boot_pval > alpha)\n",
    "        boot_quantile = np.quantile(boot_stats, 1 - alpha)\n",
    "        boot_quantiles[n].append(boot_quantile)"
   ]
  },
  {
   "cell_type": "code",
   "execution_count": 118,
   "id": "18c71d0d-f3c6-42ec-8cca-529cd9dde837",
   "metadata": {},
   "outputs": [
    {
     "data": {
      "image/png": "[encoded data removed]",
      "text/plain": [
       "<Figure size 300x300 with 1 Axes>"
      ]
     },
     "metadata": {},
     "output_type": "display_data"
    }
   ],
   "source": [
    "import pandas as pd\n",
    "plot_df = pd.DataFrame(np.array([[ii, xx] for ii in n_list for xx in boot_quantiles[ii]]), columns=[\"n\", \"quantile\"])\n",
    "\n",
    "fig, ax = plt.subplots(figsize=(3, 3))\n",
    "sns.lineplot(ax=ax, data=plot_df, x=\"n\", y=\"quantile\")\n",
    "ax.set_xscale(\"log\")\n",
    "ax.axhline(quantiles[idx], color=\"grey\", linestyle=\"--\", label=\"level\")\n"
   ]
  },
  {
   "cell_type": "code",
   "execution_count": 119,
   "id": "fad78db5-aeea-489b-8ea8-96250e96b489",
   "metadata": {},
   "outputs": [
    {
     "data": {
      "text/plain": [
       "Array(0.28055257, dtype=float32)"
      ]
     },
     "execution_count": 119,
     "metadata": {},
     "output_type": "execute_result"
    }
   ],
   "source": [
    "val"
   ]
  },
  {
   "cell_type": "code",
   "execution_count": 120,
   "id": "750be485-5ddd-4dad-a6d6-5110053c697e",
   "metadata": {},
   "outputs": [
    {
     "data": {
      "text/plain": [
       "200"
      ]
     },
     "execution_count": 120,
     "metadata": {},
     "output_type": "execute_result"
    }
   ],
   "source": [
    "len(stats_all_ls[idx])"
   ]
  },
  {
   "cell_type": "code",
   "execution_count": 122,
   "id": "6b516d54-ab3a-457f-b230-ef00c9cc7caf",
   "metadata": {},
   "outputs": [
    {
     "data": {
      "image/png": "[encoded data removed]",
      "text/plain": [
       "<Figure size 640x480 with 1 Axes>"
      ]
     },
     "metadata": {},
     "output_type": "display_data"
    }
   ],
   "source": [
    "_ = plt.hist(boot_stats, bins=50)\n",
    "_ = plt.hist(stats_all_ls, bins=50, alpha=0.2)"
   ]
  },
  {
   "cell_type": "markdown",
   "id": "522a27fd-c828-4e40-80d0-5e7b93faed62",
   "metadata": {},
   "source": [
    "Simple MMD test to check if the bootstrap produces the correct quantile"
   ]
  },
  {
   "cell_type": "code",
   "execution_count": 134,
   "id": "011ad613-14ed-4cc4-90a2-38535e872a97",
   "metadata": {},
   "outputs": [],
   "source": [
    "np.random.seed(2024)"
   ]
  },
  {
   "cell_type": "code",
   "execution_count": 135,
   "id": "aeb7bb41-172c-43e8-827c-ad5f0f6661dd",
   "metadata": {},
   "outputs": [
    {
     "data": {
      "application/vnd.jupyter.widget-view+json": {
       "model_id": "5fa54280937a438f83eda77798b45ecd",
       "version_major": 2,
       "version_minor": 0
      },
      "text/plain": [
       "  0%|          | 0/200 [00:00<?, ?it/s]"
      ]
     },
     "metadata": {},
     "output_type": "display_data"
    },
    {
     "name": "stdout",
     "output_type": "stream",
     "text": [
      "key: 0.0\n"
     ]
    },
    {
     "data": {
      "application/vnd.jupyter.widget-view+json": {
       "model_id": "aa95b6e9eaf3448f95ccdaa087632946",
       "version_major": 2,
       "version_minor": 0
      },
      "text/plain": [
       "  0%|          | 0/200 [00:00<?, ?it/s]"
      ]
     },
     "metadata": {},
     "output_type": "display_data"
    }
   ],
   "source": [
    "n = 1000\n",
    "dim = 1\n",
    "nrep = 200\n",
    "population_mmd_ls = [0.]\n",
    "shift_sq_ls = [population_mmd_inverse(v, dim, 1.) for v in population_mmd_ls]\n",
    "\n",
    "Xs_ls = []\n",
    "Ys_ls = []\n",
    "quantiles = []\n",
    "stats_all_ls = []\n",
    "\n",
    "for shift_sq in shift_sq_ls:\n",
    "    ### Gaussian loc\n",
    "    mean1 = np.eye(dim)[:1, 0] * shift_sq**0.5\n",
    "    mean2 = np.zeros((dim,))\n",
    "\n",
    "    Xs = np.random.multivariate_normal(mean1, np.eye(dim), (nrep*3, n))\n",
    "    Ys = np.random.multivariate_normal(mean2, np.eye(dim), (nrep, n))\n",
    "    ###\n",
    "\n",
    "    Xs_ls.append(Xs[:nrep])\n",
    "    Ys_ls.append(Ys[:nrep])\n",
    "\n",
    "    # compute true quantiles\n",
    "    stat_ls = []\n",
    "    kernel = kernels.RBF(sigma_sq=2.)\n",
    "    mmd = metrics.MMD(kernel)\n",
    "    # Xs = np.random.multivariate_normal(mean1, np.eye(dim), (1000*2, n))\n",
    "    for i in trange(nrep):\n",
    "    # for i in trange(1000):\n",
    "        X, Y = Xs[nrep+i], Xs[2*nrep+i]\n",
    "        # X, Y = Xs[i], Xs[nrep+i]\n",
    "        stat_ls.append(mmd(X, Y)**0.5)\n",
    "\n",
    "    quantile = np.quantile(stat_ls, 0.95)\n",
    "    quantiles.append(quantile)\n",
    "    stats_all_ls.append(stat_ls)\n",
    "            \n",
    "kernel_class = kernels.RBF\n",
    "\n",
    "keys = population_mmd_ls\n",
    "\n",
    "res_simple = mmd_experiment(kernel_class, Xs_ls, Ys_ls, theta=theta, keys=keys, quantiles=quantiles)"
   ]
  },
  {
   "cell_type": "code",
   "execution_count": 137,
   "id": "fd6ecf2d-708e-4e07-9a70-7acb9d5ada9c",
   "metadata": {},
   "outputs": [
    {
     "data": {
      "text/plain": [
       "[0.055]"
      ]
     },
     "execution_count": 137,
     "metadata": {},
     "output_type": "execute_result"
    }
   ],
   "source": [
    "rej_prob_simple = [np.mean(res_simple[kk][\"simple\"][\"rej\"]) for kk in keys]\n",
    "rej_prob_simple"
   ]
  },
  {
   "cell_type": "code",
   "execution_count": null,
   "id": "15fd95e0-bdf1-49a3-bf66-fdadcfc019df",
   "metadata": {},
   "outputs": [],
   "source": []
  },
  {
   "cell_type": "code",
   "execution_count": null,
   "id": "1d529479-de6a-4081-bfba-7317a9e95a28",
   "metadata": {},
   "outputs": [],
   "source": []
  },
  {
   "cell_type": "code",
   "execution_count": null,
   "id": "db9673ba-8ef9-4686-964c-f8a455742de9",
   "metadata": {},
   "outputs": [],
   "source": []
  },
  {
   "cell_type": "code",
   "execution_count": 48,
   "id": "e0a1cfd7-7569-4fd7-bd86-7ec07da0e8d8",
   "metadata": {},
   "outputs": [
    {
     "data": {
      "image/png": "[encoded data removed]",
      "text/plain": [
       "<Figure size 900x300 with 3 Axes>"
      ]
     },
     "metadata": {},
     "output_type": "display_data"
    }
   ],
   "source": [
    "figs, axes = plt.subplots(nrows=1, ncols=3, figsize=(9, 3))\n",
    "\n",
    "ax = axes[0]\n",
    "rej_prob = [np.mean(res[kk][\"deviation\"][\"rej\"]) for kk in keys]\n",
    "ax.scatter(keys, rej_prob, label=\"deviation\")\n",
    "rej_prob = [np.mean(res[kk][\"boot\"][\"rej\"]) for kk in keys]\n",
    "ax.scatter(keys, rej_prob, marker=\"x\", label=\"boot\")\n",
    "rej_prob = [np.mean(res[kk][\"boot_oracle\"][\"rej\"]) for kk in keys]\n",
    "ax.scatter(keys, rej_prob, marker=\"s\", label=\"boot_oracle\")\n",
    "ax.axhline(0.05, color=\"grey\", linestyle=\"--\", label=\"level\")\n",
    "ax.axvline(theta, color=\"k\", linestyle=\"-.\", label=r\"$\\theta$\")\n",
    "# ax.set_xscale(\"log\")\n",
    "ax.set_ylim(-0.05, 1.05)\n",
    "ax.set_xlabel(\"MMD\")\n",
    "ax.set_ylabel(\"rej prob\")\n",
    "ax.legend()\n",
    "\n",
    "ax = axes[1]\n",
    "vals = [np.mean(res[kk][\"deviation\"][\"val\"]) for kk in keys]\n",
    "ax.scatter(shift_sq_ls, [vv**0.5 for vv in vals], label=\"empirical\")\n",
    "ax.scatter(shift_sq_ls, [population_mmd(np.eye(dim)[:1, 0] * s**0.5, 1.) for s in shift_sq_ls], marker=\"x\", label=\"theoretical\")\n",
    "# ax.set_xscale(\"log\")\n",
    "ax.set_ylim(-0.05, 1.05)\n",
    "ax.set_xlabel(r\"$\\| \\mu \\|_2^2$\")\n",
    "ax.set_ylabel(\"MMD\")\n",
    "ax.legend()\n",
    "\n",
    "ax = axes[2]\n",
    "quantile_oracle = [np.mean(res[kk][\"boot_oracle\"][\"threshold\"]) for kk in keys]\n",
    "quantile_boot = [np.mean(res[kk][\"boot\"][\"threshold\"]) for kk in keys]\n",
    "ax.scatter(shift_sq_ls, quantile_oracle, label=\"oracle\")\n",
    "ax.scatter(shift_sq_ls, quantile_boot, marker=\"x\", label=\"boot\")\n",
    "# ax.set_xscale(\"log\")\n",
    "ax.set_xlabel(r\"$\\| \\mu \\|_2^2$\")\n",
    "ax.legend()\n",
    "\n",
    "_ = plt.tight_layout()\n",
    "plt.tight_layout()"
   ]
  },
  {
   "cell_type": "markdown",
   "id": "1702ae32-2d50-4ca2-9a48-2a570a9fc5b9",
   "metadata": {},
   "source": [
    "# Debug bootstrap deviation"
   ]
  },
  {
   "cell_type": "code",
   "execution_count": 109,
   "id": "ae68f617-72b8-467f-9488-582300bb7dae",
   "metadata": {},
   "outputs": [],
   "source": [
    "n = 1000\n",
    "dim = 1\n",
    "\n",
    "def debug_bootstrap(shift_sq_ls, nrep):\n",
    "    Xs_ls = []\n",
    "    Ys_ls = []\n",
    "    stats_all_ls = []\n",
    "\n",
    "    res = {\"shift_sq\": shift_sq_ls, \"Xs\": [], \"Ys\": [], \"quantile\": [], \"boot_quantile\": [], \"boot_ora_quantile\": []}\n",
    "    \n",
    "    for shift_sq in shift_sq_ls:\n",
    "        print(\"shift_sq\", shift_sq)\n",
    "        ### Gaussian loc\n",
    "        mean1 = np.eye(dim)[:1, 0] * shift_sq**0.5\n",
    "        mean2 = np.zeros((dim,))\n",
    "    \n",
    "        Xs = np.random.multivariate_normal(mean1, np.eye(dim), (nrep*3, n))\n",
    "        Ys = np.random.multivariate_normal(mean2, np.eye(dim), (nrep, n))\n",
    "        ###\n",
    "    \n",
    "        Xs_ls.append(Xs[:nrep])\n",
    "        Ys_ls.append(Ys[:nrep])\n",
    "\n",
    "        # 1. true quantiles\n",
    "        quantiles = []\n",
    "        for _ in trange(nrep):\n",
    "            Xs = np.random.multivariate_normal(mean1, np.eye(dim), (nrep*2, n))\n",
    "            stat_ls = []\n",
    "            kernel = kernels.RBF(sigma_sq=2.)\n",
    "            mmd = metrics.MMD(kernel)\n",
    "            for i in trange(nrep):\n",
    "                X, Y = Xs[i], Xs[nrep+i]\n",
    "                stat_ls.append(mmd(X, Y)**0.5)\n",
    "        \n",
    "            quantile = np.quantile(stat_ls, 0.95)\n",
    "            quantiles.append(quantile)\n",
    "        res[\"quantile\"].append(quantiles)\n",
    "\n",
    "        # 2. bootstrap quantiles\n",
    "        boot_quantiles = []\n",
    "        boot_ora_quantiles = []\n",
    "        kernel = kernels.RBF(sigma_sq=2.)\n",
    "        mmd = metrics.MMD(kernel)\n",
    "        for X, Y in tqdm(zip(Xs_ls[-1], Ys_ls[-1]), total=Xs_ls[-1].shape[0]):\n",
    "            # val = mmd(X, Y) # MMD^2 v-stat\n",
    "            # boot_stats = mmd.test_threshold(X.shape[0], X, method=\"bootstrap_efron\")\n",
    "            boot_stats = mmd.test_threshold(X.shape[0], X, method=\"bootstrap_efron\")\n",
    "            boot_stats = np.array(boot_stats)**0.5\n",
    "            boot_quantile = np.quantile(boot_stats, 0.95)\n",
    "            boot_quantiles.append(boot_quantile)\n",
    "\n",
    "            boot_ora_stats = mmd.test_threshold(X.shape[0], X, Y=Xs[nrep:2*nrep], method=\"bootstrap_efron\")\n",
    "            boot_ora_stats = np.array(boot_ora_stats)**0.5\n",
    "            boot_ora_quantile = np.quantile(boot_ora_stats, 0.95)\n",
    "            boot_ora_quantiles.append(boot_ora_quantile)\n",
    "\n",
    "        res[\"boot_quantile\"].append(boot_quantiles)\n",
    "        res[\"boot_ora_quantile\"].append(boot_ora_quantiles)\n",
    "    \n",
    "    return res"
   ]
  },
  {
   "cell_type": "code",
   "execution_count": 116,
   "id": "c68429f5-f215-48d8-b111-fdb52bee3b4b",
   "metadata": {},
   "outputs": [],
   "source": [
    "np.random.seed(2024)"
   ]
  },
  {
   "cell_type": "code",
   "execution_count": null,
   "id": "62b612cb-5a5e-4dd7-bab4-9423afc007a5",
   "metadata": {
    "scrolled": true
   },
   "outputs": [
    {
     "name": "stdout",
     "output_type": "stream",
     "text": [
      "shift_sq 0.4868847673483844\n"
     ]
    },
    {
     "data": {
      "application/vnd.jupyter.widget-view+json": {
       "model_id": "940a349c338744ed8e8cd50bc4fea53f",
       "version_major": 2,
       "version_minor": 0
      },
      "text/plain": [
       "  0%|          | 0/100 [00:00<?, ?it/s]"
      ]
     },
     "metadata": {},
     "output_type": "display_data"
    },
    {
     "data": {
      "application/vnd.jupyter.widget-view+json": {
       "model_id": "92522f55386f4f7c87e7257b3413cd91",
       "version_major": 2,
       "version_minor": 0
      },
      "text/plain": [
       "  0%|          | 0/100 [00:00<?, ?it/s]"
      ]
     },
     "metadata": {},
     "output_type": "display_data"
    },
    {
     "data": {
      "application/vnd.jupyter.widget-view+json": {
       "model_id": "10681c1aeab749a592f6207dd652323c",
       "version_major": 2,
       "version_minor": 0
      },
      "text/plain": [
       "  0%|          | 0/100 [00:00<?, ?it/s]"
      ]
     },
     "metadata": {},
     "output_type": "display_data"
    },
    {
     "data": {
      "application/vnd.jupyter.widget-view+json": {
       "model_id": "ca40a6dd99034a26895feef424c98c76",
       "version_major": 2,
       "version_minor": 0
      },
      "text/plain": [
       "  0%|          | 0/100 [00:00<?, ?it/s]"
      ]
     },
     "metadata": {},
     "output_type": "display_data"
    },
    {
     "data": {
      "application/vnd.jupyter.widget-view+json": {
       "model_id": "5912652650fa4ba4bbf05f09e8c67d0e",
       "version_major": 2,
       "version_minor": 0
      },
      "text/plain": [
       "  0%|          | 0/100 [00:00<?, ?it/s]"
      ]
     },
     "metadata": {},
     "output_type": "display_data"
    },
    {
     "data": {
      "application/vnd.jupyter.widget-view+json": {
       "model_id": "999b3f5db90b412bbadaadb9a5b75e6d",
       "version_major": 2,
       "version_minor": 0
      },
      "text/plain": [
       "  0%|          | 0/100 [00:00<?, ?it/s]"
      ]
     },
     "metadata": {},
     "output_type": "display_data"
    },
    {
     "data": {
      "application/vnd.jupyter.widget-view+json": {
       "model_id": "f91844b5780f41adae6522d8bb44f0b3",
       "version_major": 2,
       "version_minor": 0
      },
      "text/plain": [
       "  0%|          | 0/100 [00:00<?, ?it/s]"
      ]
     },
     "metadata": {},
     "output_type": "display_data"
    },
    {
     "data": {
      "application/vnd.jupyter.widget-view+json": {
       "model_id": "dac57a44f82b4920bf2530d3030cf20c",
       "version_major": 2,
       "version_minor": 0
      },
      "text/plain": [
       "  0%|          | 0/100 [00:00<?, ?it/s]"
      ]
     },
     "metadata": {},
     "output_type": "display_data"
    },
    {
     "data": {
      "application/vnd.jupyter.widget-view+json": {
       "model_id": "deb7a31344f04e7d806bb8d4be674dc4",
       "version_major": 2,
       "version_minor": 0
      },
      "text/plain": [
       "  0%|          | 0/100 [00:00<?, ?it/s]"
      ]
     },
     "metadata": {},
     "output_type": "display_data"
    },
    {
     "data": {
      "application/vnd.jupyter.widget-view+json": {
       "model_id": "3448e50dddcf45538f273b2f01a9f8de",
       "version_major": 2,
       "version_minor": 0
      },
      "text/plain": [
       "  0%|          | 0/100 [00:00<?, ?it/s]"
      ]
     },
     "metadata": {},
     "output_type": "display_data"
    },
    {
     "data": {
      "application/vnd.jupyter.widget-view+json": {
       "model_id": "8d2c2ee645da4c50a9c1ed978414c820",
       "version_major": 2,
       "version_minor": 0
      },
      "text/plain": [
       "  0%|          | 0/100 [00:00<?, ?it/s]"
      ]
     },
     "metadata": {},
     "output_type": "display_data"
    },
    {
     "data": {
      "application/vnd.jupyter.widget-view+json": {
       "model_id": "40da8e52ec4a45f9bf0a194773cf3367",
       "version_major": 2,
       "version_minor": 0
      },
      "text/plain": [
       "  0%|          | 0/100 [00:00<?, ?it/s]"
      ]
     },
     "metadata": {},
     "output_type": "display_data"
    },
    {
     "data": {
      "application/vnd.jupyter.widget-view+json": {
       "model_id": "a3f86f0cc8cb4a1993f55e8f6dafbbd4",
       "version_major": 2,
       "version_minor": 0
      },
      "text/plain": [
       "  0%|          | 0/100 [00:00<?, ?it/s]"
      ]
     },
     "metadata": {},
     "output_type": "display_data"
    },
    {
     "data": {
      "application/vnd.jupyter.widget-view+json": {
       "model_id": "8911f3c118c944509e1ded68a2631655",
       "version_major": 2,
       "version_minor": 0
      },
      "text/plain": [
       "  0%|          | 0/100 [00:00<?, ?it/s]"
      ]
     },
     "metadata": {},
     "output_type": "display_data"
    },
    {
     "data": {
      "application/vnd.jupyter.widget-view+json": {
       "model_id": "2cd415e471704c04831d04f556465585",
       "version_major": 2,
       "version_minor": 0
      },
      "text/plain": [
       "  0%|          | 0/100 [00:00<?, ?it/s]"
      ]
     },
     "metadata": {},
     "output_type": "display_data"
    },
    {
     "data": {
      "application/vnd.jupyter.widget-view+json": {
       "model_id": "1d6f98a963bc44549d1e3c1cee119c37",
       "version_major": 2,
       "version_minor": 0
      },
      "text/plain": [
       "  0%|          | 0/100 [00:00<?, ?it/s]"
      ]
     },
     "metadata": {},
     "output_type": "display_data"
    },
    {
     "data": {
      "application/vnd.jupyter.widget-view+json": {
       "model_id": "9baaded1d0f943f4ad68d0e463bff040",
       "version_major": 2,
       "version_minor": 0
      },
      "text/plain": [
       "  0%|          | 0/100 [00:00<?, ?it/s]"
      ]
     },
     "metadata": {},
     "output_type": "display_data"
    },
    {
     "data": {
      "application/vnd.jupyter.widget-view+json": {
       "model_id": "a71e2c8ce7f045e58c8ea8f101819e6c",
       "version_major": 2,
       "version_minor": 0
      },
      "text/plain": [
       "  0%|          | 0/100 [00:00<?, ?it/s]"
      ]
     },
     "metadata": {},
     "output_type": "display_data"
    },
    {
     "data": {
      "application/vnd.jupyter.widget-view+json": {
       "model_id": "dd3eb9ba82f14e73810ed8f71260fbb8",
       "version_major": 2,
       "version_minor": 0
      },
      "text/plain": [
       "  0%|          | 0/100 [00:00<?, ?it/s]"
      ]
     },
     "metadata": {},
     "output_type": "display_data"
    },
    {
     "data": {
      "application/vnd.jupyter.widget-view+json": {
       "model_id": "951e731dfcf643b5a0ecfcc57e3571d8",
       "version_major": 2,
       "version_minor": 0
      },
      "text/plain": [
       "  0%|          | 0/100 [00:00<?, ?it/s]"
      ]
     },
     "metadata": {},
     "output_type": "display_data"
    },
    {
     "data": {
      "application/vnd.jupyter.widget-view+json": {
       "model_id": "3c0d8884dc8442549b9b2461ae7b7cd0",
       "version_major": 2,
       "version_minor": 0
      },
      "text/plain": [
       "  0%|          | 0/100 [00:00<?, ?it/s]"
      ]
     },
     "metadata": {},
     "output_type": "display_data"
    },
    {
     "data": {
      "application/vnd.jupyter.widget-view+json": {
       "model_id": "c6ec963b136c4791ac54d9f39ec2659f",
       "version_major": 2,
       "version_minor": 0
      },
      "text/plain": [
       "  0%|          | 0/100 [00:00<?, ?it/s]"
      ]
     },
     "metadata": {},
     "output_type": "display_data"
    },
    {
     "data": {
      "application/vnd.jupyter.widget-view+json": {
       "model_id": "f2a54189906041ceb1fdb4f5eaada1a6",
       "version_major": 2,
       "version_minor": 0
      },
      "text/plain": [
       "  0%|          | 0/100 [00:00<?, ?it/s]"
      ]
     },
     "metadata": {},
     "output_type": "display_data"
    },
    {
     "data": {
      "application/vnd.jupyter.widget-view+json": {
       "model_id": "545a13a9181f4d799b0fc260eebdcdd5",
       "version_major": 2,
       "version_minor": 0
      },
      "text/plain": [
       "  0%|          | 0/100 [00:00<?, ?it/s]"
      ]
     },
     "metadata": {},
     "output_type": "display_data"
    },
    {
     "data": {
      "application/vnd.jupyter.widget-view+json": {
       "model_id": "7f2b1555d35941b38dc6100205319ce1",
       "version_major": 2,
       "version_minor": 0
      },
      "text/plain": [
       "  0%|          | 0/100 [00:00<?, ?it/s]"
      ]
     },
     "metadata": {},
     "output_type": "display_data"
    },
    {
     "data": {
      "application/vnd.jupyter.widget-view+json": {
       "model_id": "e24aa0bcc77c402f9a73577cb787613e",
       "version_major": 2,
       "version_minor": 0
      },
      "text/plain": [
       "  0%|          | 0/100 [00:00<?, ?it/s]"
      ]
     },
     "metadata": {},
     "output_type": "display_data"
    },
    {
     "data": {
      "application/vnd.jupyter.widget-view+json": {
       "model_id": "568124af3c134c9cb0c7f70837f5b1ed",
       "version_major": 2,
       "version_minor": 0
      },
      "text/plain": [
       "  0%|          | 0/100 [00:00<?, ?it/s]"
      ]
     },
     "metadata": {},
     "output_type": "display_data"
    },
    {
     "data": {
      "application/vnd.jupyter.widget-view+json": {
       "model_id": "3d199a6b949b4b73ad53d96f03318b1c",
       "version_major": 2,
       "version_minor": 0
      },
      "text/plain": [
       "  0%|          | 0/100 [00:00<?, ?it/s]"
      ]
     },
     "metadata": {},
     "output_type": "display_data"
    },
    {
     "data": {
      "application/vnd.jupyter.widget-view+json": {
       "model_id": "79a3df98b18c477d8e7ae3247e74ad7d",
       "version_major": 2,
       "version_minor": 0
      },
      "text/plain": [
       "  0%|          | 0/100 [00:00<?, ?it/s]"
      ]
     },
     "metadata": {},
     "output_type": "display_data"
    },
    {
     "data": {
      "application/vnd.jupyter.widget-view+json": {
       "model_id": "cf27b3b1b6fe4105988c02d5dd429c9b",
       "version_major": 2,
       "version_minor": 0
      },
      "text/plain": [
       "  0%|          | 0/100 [00:00<?, ?it/s]"
      ]
     },
     "metadata": {},
     "output_type": "display_data"
    },
    {
     "data": {
      "application/vnd.jupyter.widget-view+json": {
       "model_id": "71fcde5b862d4365bf769ad78b271306",
       "version_major": 2,
       "version_minor": 0
      },
      "text/plain": [
       "  0%|          | 0/100 [00:00<?, ?it/s]"
      ]
     },
     "metadata": {},
     "output_type": "display_data"
    },
    {
     "data": {
      "application/vnd.jupyter.widget-view+json": {
       "model_id": "538f41cae32c4af3a05c334c64189f6d",
       "version_major": 2,
       "version_minor": 0
      },
      "text/plain": [
       "  0%|          | 0/100 [00:00<?, ?it/s]"
      ]
     },
     "metadata": {},
     "output_type": "display_data"
    },
    {
     "data": {
      "application/vnd.jupyter.widget-view+json": {
       "model_id": "9c1f94286dc84969841afe24f62bc1ef",
       "version_major": 2,
       "version_minor": 0
      },
      "text/plain": [
       "  0%|          | 0/100 [00:00<?, ?it/s]"
      ]
     },
     "metadata": {},
     "output_type": "display_data"
    },
    {
     "data": {
      "application/vnd.jupyter.widget-view+json": {
       "model_id": "3e216f4eaf414830aeacd92d9e110509",
       "version_major": 2,
       "version_minor": 0
      },
      "text/plain": [
       "  0%|          | 0/100 [00:00<?, ?it/s]"
      ]
     },
     "metadata": {},
     "output_type": "display_data"
    },
    {
     "data": {
      "application/vnd.jupyter.widget-view+json": {
       "model_id": "f393386d26d543b092fc67bf94bec1be",
       "version_major": 2,
       "version_minor": 0
      },
      "text/plain": [
       "  0%|          | 0/100 [00:00<?, ?it/s]"
      ]
     },
     "metadata": {},
     "output_type": "display_data"
    },
    {
     "data": {
      "application/vnd.jupyter.widget-view+json": {
       "model_id": "e3f51413a2da404fba302c1060c9bcad",
       "version_major": 2,
       "version_minor": 0
      },
      "text/plain": [
       "  0%|          | 0/100 [00:00<?, ?it/s]"
      ]
     },
     "metadata": {},
     "output_type": "display_data"
    },
    {
     "data": {
      "application/vnd.jupyter.widget-view+json": {
       "model_id": "815a0271664049bfbeeb481a1d489e65",
       "version_major": 2,
       "version_minor": 0
      },
      "text/plain": [
       "  0%|          | 0/100 [00:00<?, ?it/s]"
      ]
     },
     "metadata": {},
     "output_type": "display_data"
    },
    {
     "data": {
      "application/vnd.jupyter.widget-view+json": {
       "model_id": "41cf00b5bb7648cda00b9a893596fea4",
       "version_major": 2,
       "version_minor": 0
      },
      "text/plain": [
       "  0%|          | 0/100 [00:00<?, ?it/s]"
      ]
     },
     "metadata": {},
     "output_type": "display_data"
    },
    {
     "data": {
      "application/vnd.jupyter.widget-view+json": {
       "model_id": "c347b47c89854b2cad1f84f733fb70ba",
       "version_major": 2,
       "version_minor": 0
      },
      "text/plain": [
       "  0%|          | 0/100 [00:00<?, ?it/s]"
      ]
     },
     "metadata": {},
     "output_type": "display_data"
    },
    {
     "data": {
      "application/vnd.jupyter.widget-view+json": {
       "model_id": "5e5fe7665c2846d9b077a72551b96c4c",
       "version_major": 2,
       "version_minor": 0
      },
      "text/plain": [
       "  0%|          | 0/100 [00:00<?, ?it/s]"
      ]
     },
     "metadata": {},
     "output_type": "display_data"
    },
    {
     "data": {
      "application/vnd.jupyter.widget-view+json": {
       "model_id": "496257ef79ef45d4a153a6963e02cf32",
       "version_major": 2,
       "version_minor": 0
      },
      "text/plain": [
       "  0%|          | 0/100 [00:00<?, ?it/s]"
      ]
     },
     "metadata": {},
     "output_type": "display_data"
    },
    {
     "data": {
      "application/vnd.jupyter.widget-view+json": {
       "model_id": "a0563965e8bf4267868a78832b376944",
       "version_major": 2,
       "version_minor": 0
      },
      "text/plain": [
       "  0%|          | 0/100 [00:00<?, ?it/s]"
      ]
     },
     "metadata": {},
     "output_type": "display_data"
    },
    {
     "data": {
      "application/vnd.jupyter.widget-view+json": {
       "model_id": "597254c6143d41d589d5bb52b690243a",
       "version_major": 2,
       "version_minor": 0
      },
      "text/plain": [
       "  0%|          | 0/100 [00:00<?, ?it/s]"
      ]
     },
     "metadata": {},
     "output_type": "display_data"
    },
    {
     "data": {
      "application/vnd.jupyter.widget-view+json": {
       "model_id": "7a133ac85da74637bfb9f1f7c5d9acbf",
       "version_major": 2,
       "version_minor": 0
      },
      "text/plain": [
       "  0%|          | 0/100 [00:00<?, ?it/s]"
      ]
     },
     "metadata": {},
     "output_type": "display_data"
    },
    {
     "data": {
      "application/vnd.jupyter.widget-view+json": {
       "model_id": "0933410384af475188a9870ad764bb8f",
       "version_major": 2,
       "version_minor": 0
      },
      "text/plain": [
       "  0%|          | 0/100 [00:00<?, ?it/s]"
      ]
     },
     "metadata": {},
     "output_type": "display_data"
    },
    {
     "data": {
      "application/vnd.jupyter.widget-view+json": {
       "model_id": "6422a55bb99f4ef2bf3a9bd96fe79b75",
       "version_major": 2,
       "version_minor": 0
      },
      "text/plain": [
       "  0%|          | 0/100 [00:00<?, ?it/s]"
      ]
     },
     "metadata": {},
     "output_type": "display_data"
    },
    {
     "data": {
      "application/vnd.jupyter.widget-view+json": {
       "model_id": "a2c08efa244241c09bfd297faa8a283b",
       "version_major": 2,
       "version_minor": 0
      },
      "text/plain": [
       "  0%|          | 0/100 [00:00<?, ?it/s]"
      ]
     },
     "metadata": {},
     "output_type": "display_data"
    },
    {
     "data": {
      "application/vnd.jupyter.widget-view+json": {
       "model_id": "1aa1aa9356204a00aad096d11639ffad",
       "version_major": 2,
       "version_minor": 0
      },
      "text/plain": [
       "  0%|          | 0/100 [00:00<?, ?it/s]"
      ]
     },
     "metadata": {},
     "output_type": "display_data"
    },
    {
     "data": {
      "application/vnd.jupyter.widget-view+json": {
       "model_id": "483f5f71ff464c45bea3f1e0fa21ce9a",
       "version_major": 2,
       "version_minor": 0
      },
      "text/plain": [
       "  0%|          | 0/100 [00:00<?, ?it/s]"
      ]
     },
     "metadata": {},
     "output_type": "display_data"
    },
    {
     "data": {
      "application/vnd.jupyter.widget-view+json": {
       "model_id": "df517372f8c64405b2a55ddc5285ab83",
       "version_major": 2,
       "version_minor": 0
      },
      "text/plain": [
       "  0%|          | 0/100 [00:00<?, ?it/s]"
      ]
     },
     "metadata": {},
     "output_type": "display_data"
    },
    {
     "data": {
      "application/vnd.jupyter.widget-view+json": {
       "model_id": "84d122776c0d47f68d320c4bef318f0e",
       "version_major": 2,
       "version_minor": 0
      },
      "text/plain": [
       "  0%|          | 0/100 [00:00<?, ?it/s]"
      ]
     },
     "metadata": {},
     "output_type": "display_data"
    },
    {
     "data": {
      "application/vnd.jupyter.widget-view+json": {
       "model_id": "2fd8bd70881f4dc196f6293ff03aa115",
       "version_major": 2,
       "version_minor": 0
      },
      "text/plain": [
       "  0%|          | 0/100 [00:00<?, ?it/s]"
      ]
     },
     "metadata": {},
     "output_type": "display_data"
    },
    {
     "data": {
      "application/vnd.jupyter.widget-view+json": {
       "model_id": "c41735eb00044028b10d63b8f899e31f",
       "version_major": 2,
       "version_minor": 0
      },
      "text/plain": [
       "  0%|          | 0/100 [00:00<?, ?it/s]"
      ]
     },
     "metadata": {},
     "output_type": "display_data"
    },
    {
     "data": {
      "application/vnd.jupyter.widget-view+json": {
       "model_id": "b52728f0610c42de9b8d7b044a7f421f",
       "version_major": 2,
       "version_minor": 0
      },
      "text/plain": [
       "  0%|          | 0/100 [00:00<?, ?it/s]"
      ]
     },
     "metadata": {},
     "output_type": "display_data"
    },
    {
     "data": {
      "application/vnd.jupyter.widget-view+json": {
       "model_id": "577df4979ef3463aa5a8395c93aca4ae",
       "version_major": 2,
       "version_minor": 0
      },
      "text/plain": [
       "  0%|          | 0/100 [00:00<?, ?it/s]"
      ]
     },
     "metadata": {},
     "output_type": "display_data"
    },
    {
     "data": {
      "application/vnd.jupyter.widget-view+json": {
       "model_id": "95f2fc07133f4d0185ff6e22a7bb3e4f",
       "version_major": 2,
       "version_minor": 0
      },
      "text/plain": [
       "  0%|          | 0/100 [00:00<?, ?it/s]"
      ]
     },
     "metadata": {},
     "output_type": "display_data"
    },
    {
     "data": {
      "application/vnd.jupyter.widget-view+json": {
       "model_id": "308c1164a2574ddfb42206ecc724104e",
       "version_major": 2,
       "version_minor": 0
      },
      "text/plain": [
       "  0%|          | 0/100 [00:00<?, ?it/s]"
      ]
     },
     "metadata": {},
     "output_type": "display_data"
    },
    {
     "data": {
      "application/vnd.jupyter.widget-view+json": {
       "model_id": "dffe0dff4c9a4662b2711850efa88f2c",
       "version_major": 2,
       "version_minor": 0
      },
      "text/plain": [
       "  0%|          | 0/100 [00:00<?, ?it/s]"
      ]
     },
     "metadata": {},
     "output_type": "display_data"
    },
    {
     "data": {
      "application/vnd.jupyter.widget-view+json": {
       "model_id": "a5c15cdca90745df8b015daac6aa1160",
       "version_major": 2,
       "version_minor": 0
      },
      "text/plain": [
       "  0%|          | 0/100 [00:00<?, ?it/s]"
      ]
     },
     "metadata": {},
     "output_type": "display_data"
    },
    {
     "data": {
      "application/vnd.jupyter.widget-view+json": {
       "model_id": "ce2bd80203e44731a473043120191284",
       "version_major": 2,
       "version_minor": 0
      },
      "text/plain": [
       "  0%|          | 0/100 [00:00<?, ?it/s]"
      ]
     },
     "metadata": {},
     "output_type": "display_data"
    },
    {
     "data": {
      "application/vnd.jupyter.widget-view+json": {
       "model_id": "24b7e9452068459099cb774e7c6427c6",
       "version_major": 2,
       "version_minor": 0
      },
      "text/plain": [
       "  0%|          | 0/100 [00:00<?, ?it/s]"
      ]
     },
     "metadata": {},
     "output_type": "display_data"
    },
    {
     "data": {
      "application/vnd.jupyter.widget-view+json": {
       "model_id": "35afd78babf34b12a1f66e1cc2dd4e9c",
       "version_major": 2,
       "version_minor": 0
      },
      "text/plain": [
       "  0%|          | 0/100 [00:00<?, ?it/s]"
      ]
     },
     "metadata": {},
     "output_type": "display_data"
    },
    {
     "data": {
      "application/vnd.jupyter.widget-view+json": {
       "model_id": "574a9e09d8974b14ba555c3617bc018d",
       "version_major": 2,
       "version_minor": 0
      },
      "text/plain": [
       "  0%|          | 0/100 [00:00<?, ?it/s]"
      ]
     },
     "metadata": {},
     "output_type": "display_data"
    },
    {
     "data": {
      "application/vnd.jupyter.widget-view+json": {
       "model_id": "f6c5be18c6fa4d4e931d524167dffa1f",
       "version_major": 2,
       "version_minor": 0
      },
      "text/plain": [
       "  0%|          | 0/100 [00:00<?, ?it/s]"
      ]
     },
     "metadata": {},
     "output_type": "display_data"
    },
    {
     "data": {
      "application/vnd.jupyter.widget-view+json": {
       "model_id": "9e2c4579f03d490c98c255be9e69f4b5",
       "version_major": 2,
       "version_minor": 0
      },
      "text/plain": [
       "  0%|          | 0/100 [00:00<?, ?it/s]"
      ]
     },
     "metadata": {},
     "output_type": "display_data"
    },
    {
     "data": {
      "application/vnd.jupyter.widget-view+json": {
       "model_id": "e1029c201f4643ed800b5148ce6d98b8",
       "version_major": 2,
       "version_minor": 0
      },
      "text/plain": [
       "  0%|          | 0/100 [00:00<?, ?it/s]"
      ]
     },
     "metadata": {},
     "output_type": "display_data"
    },
    {
     "data": {
      "application/vnd.jupyter.widget-view+json": {
       "model_id": "bdf815cc99024692aca1e32b39075734",
       "version_major": 2,
       "version_minor": 0
      },
      "text/plain": [
       "  0%|          | 0/100 [00:00<?, ?it/s]"
      ]
     },
     "metadata": {},
     "output_type": "display_data"
    },
    {
     "data": {
      "application/vnd.jupyter.widget-view+json": {
       "model_id": "0916fac3a2ed4658a2444f9b6ada60e9",
       "version_major": 2,
       "version_minor": 0
      },
      "text/plain": [
       "  0%|          | 0/100 [00:00<?, ?it/s]"
      ]
     },
     "metadata": {},
     "output_type": "display_data"
    },
    {
     "data": {
      "application/vnd.jupyter.widget-view+json": {
       "model_id": "3fd6588b6aa24cb2acc8f05b0536e53b",
       "version_major": 2,
       "version_minor": 0
      },
      "text/plain": [
       "  0%|          | 0/100 [00:00<?, ?it/s]"
      ]
     },
     "metadata": {},
     "output_type": "display_data"
    },
    {
     "data": {
      "application/vnd.jupyter.widget-view+json": {
       "model_id": "1ac2fa7cbb5245faaa04b7506dae3758",
       "version_major": 2,
       "version_minor": 0
      },
      "text/plain": [
       "  0%|          | 0/100 [00:00<?, ?it/s]"
      ]
     },
     "metadata": {},
     "output_type": "display_data"
    },
    {
     "data": {
      "application/vnd.jupyter.widget-view+json": {
       "model_id": "e439b18b1f7b4f6685ef627fd9863270",
       "version_major": 2,
       "version_minor": 0
      },
      "text/plain": [
       "  0%|          | 0/100 [00:00<?, ?it/s]"
      ]
     },
     "metadata": {},
     "output_type": "display_data"
    },
    {
     "data": {
      "application/vnd.jupyter.widget-view+json": {
       "model_id": "a7c25294df0143978ee51e9bc826478a",
       "version_major": 2,
       "version_minor": 0
      },
      "text/plain": [
       "  0%|          | 0/100 [00:00<?, ?it/s]"
      ]
     },
     "metadata": {},
     "output_type": "display_data"
    },
    {
     "data": {
      "application/vnd.jupyter.widget-view+json": {
       "model_id": "8db4518b568c4f30bd35a548c9418157",
       "version_major": 2,
       "version_minor": 0
      },
      "text/plain": [
       "  0%|          | 0/100 [00:00<?, ?it/s]"
      ]
     },
     "metadata": {},
     "output_type": "display_data"
    },
    {
     "data": {
      "application/vnd.jupyter.widget-view+json": {
       "model_id": "c247ac8036504a1e85f34459bb3dfa87",
       "version_major": 2,
       "version_minor": 0
      },
      "text/plain": [
       "  0%|          | 0/100 [00:00<?, ?it/s]"
      ]
     },
     "metadata": {},
     "output_type": "display_data"
    },
    {
     "data": {
      "application/vnd.jupyter.widget-view+json": {
       "model_id": "3451e297d8ad4838a2d2dbe3f9a7f6b3",
       "version_major": 2,
       "version_minor": 0
      },
      "text/plain": [
       "  0%|          | 0/100 [00:00<?, ?it/s]"
      ]
     },
     "metadata": {},
     "output_type": "display_data"
    },
    {
     "data": {
      "application/vnd.jupyter.widget-view+json": {
       "model_id": "b090425d73a44d3cae5e54e95fc51c1f",
       "version_major": 2,
       "version_minor": 0
      },
      "text/plain": [
       "  0%|          | 0/100 [00:00<?, ?it/s]"
      ]
     },
     "metadata": {},
     "output_type": "display_data"
    },
    {
     "data": {
      "application/vnd.jupyter.widget-view+json": {
       "model_id": "ac42dc7a4eee4f39a104e311129d0086",
       "version_major": 2,
       "version_minor": 0
      },
      "text/plain": [
       "  0%|          | 0/100 [00:00<?, ?it/s]"
      ]
     },
     "metadata": {},
     "output_type": "display_data"
    },
    {
     "data": {
      "application/vnd.jupyter.widget-view+json": {
       "model_id": "73ff37c31ae24992a475555deacd0fc7",
       "version_major": 2,
       "version_minor": 0
      },
      "text/plain": [
       "  0%|          | 0/100 [00:00<?, ?it/s]"
      ]
     },
     "metadata": {},
     "output_type": "display_data"
    },
    {
     "data": {
      "application/vnd.jupyter.widget-view+json": {
       "model_id": "061f760f82dc48308ecd71dcee467c8a",
       "version_major": 2,
       "version_minor": 0
      },
      "text/plain": [
       "  0%|          | 0/100 [00:00<?, ?it/s]"
      ]
     },
     "metadata": {},
     "output_type": "display_data"
    },
    {
     "data": {
      "application/vnd.jupyter.widget-view+json": {
       "model_id": "0bf923c574b74dd186c68b3e8df211b9",
       "version_major": 2,
       "version_minor": 0
      },
      "text/plain": [
       "  0%|          | 0/100 [00:00<?, ?it/s]"
      ]
     },
     "metadata": {},
     "output_type": "display_data"
    },
    {
     "data": {
      "application/vnd.jupyter.widget-view+json": {
       "model_id": "5900c2bd38b346c781b70989fe177bb1",
       "version_major": 2,
       "version_minor": 0
      },
      "text/plain": [
       "  0%|          | 0/100 [00:00<?, ?it/s]"
      ]
     },
     "metadata": {},
     "output_type": "display_data"
    },
    {
     "data": {
      "application/vnd.jupyter.widget-view+json": {
       "model_id": "60a3b0a3381f44338c3a0cf00050848d",
       "version_major": 2,
       "version_minor": 0
      },
      "text/plain": [
       "  0%|          | 0/100 [00:00<?, ?it/s]"
      ]
     },
     "metadata": {},
     "output_type": "display_data"
    },
    {
     "data": {
      "application/vnd.jupyter.widget-view+json": {
       "model_id": "b639ec087fe04426aafe6456d52f68ae",
       "version_major": 2,
       "version_minor": 0
      },
      "text/plain": [
       "  0%|          | 0/100 [00:00<?, ?it/s]"
      ]
     },
     "metadata": {},
     "output_type": "display_data"
    },
    {
     "data": {
      "application/vnd.jupyter.widget-view+json": {
       "model_id": "1e35aff8805a43e8b077497a4a84d30f",
       "version_major": 2,
       "version_minor": 0
      },
      "text/plain": [
       "  0%|          | 0/100 [00:00<?, ?it/s]"
      ]
     },
     "metadata": {},
     "output_type": "display_data"
    },
    {
     "data": {
      "application/vnd.jupyter.widget-view+json": {
       "model_id": "037de588a04e42bf8b8758b3ffc00fd9",
       "version_major": 2,
       "version_minor": 0
      },
      "text/plain": [
       "  0%|          | 0/100 [00:00<?, ?it/s]"
      ]
     },
     "metadata": {},
     "output_type": "display_data"
    },
    {
     "data": {
      "application/vnd.jupyter.widget-view+json": {
       "model_id": "51bf2ee8f17d4144951de5c857c3e2a4",
       "version_major": 2,
       "version_minor": 0
      },
      "text/plain": [
       "  0%|          | 0/100 [00:00<?, ?it/s]"
      ]
     },
     "metadata": {},
     "output_type": "display_data"
    },
    {
     "data": {
      "application/vnd.jupyter.widget-view+json": {
       "model_id": "bf2f0d76ac6c419581c792037f4092cb",
       "version_major": 2,
       "version_minor": 0
      },
      "text/plain": [
       "  0%|          | 0/100 [00:00<?, ?it/s]"
      ]
     },
     "metadata": {},
     "output_type": "display_data"
    },
    {
     "data": {
      "application/vnd.jupyter.widget-view+json": {
       "model_id": "1061277ba39a48f1931d4024b29f88d5",
       "version_major": 2,
       "version_minor": 0
      },
      "text/plain": [
       "  0%|          | 0/100 [00:00<?, ?it/s]"
      ]
     },
     "metadata": {},
     "output_type": "display_data"
    },
    {
     "data": {
      "application/vnd.jupyter.widget-view+json": {
       "model_id": "09089eea8f584fababe854f5f36710aa",
       "version_major": 2,
       "version_minor": 0
      },
      "text/plain": [
       "  0%|          | 0/100 [00:00<?, ?it/s]"
      ]
     },
     "metadata": {},
     "output_type": "display_data"
    },
    {
     "data": {
      "application/vnd.jupyter.widget-view+json": {
       "model_id": "420b5907f24540e18cc2ac81b7d94dcd",
       "version_major": 2,
       "version_minor": 0
      },
      "text/plain": [
       "  0%|          | 0/100 [00:00<?, ?it/s]"
      ]
     },
     "metadata": {},
     "output_type": "display_data"
    },
    {
     "data": {
      "application/vnd.jupyter.widget-view+json": {
       "model_id": "f863c173ef0f446aa012c2a9c75e27c4",
       "version_major": 2,
       "version_minor": 0
      },
      "text/plain": [
       "  0%|          | 0/100 [00:00<?, ?it/s]"
      ]
     },
     "metadata": {},
     "output_type": "display_data"
    },
    {
     "data": {
      "application/vnd.jupyter.widget-view+json": {
       "model_id": "57371f40b69e4195a9694695a612a562",
       "version_major": 2,
       "version_minor": 0
      },
      "text/plain": [
       "  0%|          | 0/100 [00:00<?, ?it/s]"
      ]
     },
     "metadata": {},
     "output_type": "display_data"
    },
    {
     "data": {
      "application/vnd.jupyter.widget-view+json": {
       "model_id": "4bddfaf9f03848a99b3a18c477459a69",
       "version_major": 2,
       "version_minor": 0
      },
      "text/plain": [
       "  0%|          | 0/100 [00:00<?, ?it/s]"
      ]
     },
     "metadata": {},
     "output_type": "display_data"
    },
    {
     "data": {
      "application/vnd.jupyter.widget-view+json": {
       "model_id": "7761c2237b7f41368b294dbcb67c74bd",
       "version_major": 2,
       "version_minor": 0
      },
      "text/plain": [
       "  0%|          | 0/100 [00:00<?, ?it/s]"
      ]
     },
     "metadata": {},
     "output_type": "display_data"
    },
    {
     "data": {
      "application/vnd.jupyter.widget-view+json": {
       "model_id": "95b90eac3cf14d1cb25bab7740a3472d",
       "version_major": 2,
       "version_minor": 0
      },
      "text/plain": [
       "  0%|          | 0/100 [00:00<?, ?it/s]"
      ]
     },
     "metadata": {},
     "output_type": "display_data"
    },
    {
     "data": {
      "application/vnd.jupyter.widget-view+json": {
       "model_id": "cb99da1501e14d3bba1824cf89e1067a",
       "version_major": 2,
       "version_minor": 0
      },
      "text/plain": [
       "  0%|          | 0/100 [00:00<?, ?it/s]"
      ]
     },
     "metadata": {},
     "output_type": "display_data"
    },
    {
     "data": {
      "application/vnd.jupyter.widget-view+json": {
       "model_id": "ccaa3779dcb8480d87f32b363f71ceca",
       "version_major": 2,
       "version_minor": 0
      },
      "text/plain": [
       "  0%|          | 0/100 [00:00<?, ?it/s]"
      ]
     },
     "metadata": {},
     "output_type": "display_data"
    },
    {
     "data": {
      "application/vnd.jupyter.widget-view+json": {
       "model_id": "695750e3cbcc4714b8369f3358351e08",
       "version_major": 2,
       "version_minor": 0
      },
      "text/plain": [
       "  0%|          | 0/100 [00:00<?, ?it/s]"
      ]
     },
     "metadata": {},
     "output_type": "display_data"
    },
    {
     "data": {
      "application/vnd.jupyter.widget-view+json": {
       "model_id": "1ee159cc7d164e4db9e99f7aa3f819db",
       "version_major": 2,
       "version_minor": 0
      },
      "text/plain": [
       "  0%|          | 0/100 [00:00<?, ?it/s]"
      ]
     },
     "metadata": {},
     "output_type": "display_data"
    },
    {
     "data": {
      "application/vnd.jupyter.widget-view+json": {
       "model_id": "883c63188de74a409edc44da4ddb3af3",
       "version_major": 2,
       "version_minor": 0
      },
      "text/plain": [
       "  0%|          | 0/100 [00:00<?, ?it/s]"
      ]
     },
     "metadata": {},
     "output_type": "display_data"
    },
    {
     "data": {
      "application/vnd.jupyter.widget-view+json": {
       "model_id": "80279c23c196417b8ab7b2eeece4d948",
       "version_major": 2,
       "version_minor": 0
      },
      "text/plain": [
       "  0%|          | 0/100 [00:00<?, ?it/s]"
      ]
     },
     "metadata": {},
     "output_type": "display_data"
    },
    {
     "data": {
      "application/vnd.jupyter.widget-view+json": {
       "model_id": "e02d228035b74e9ab7031aa95f3b1d68",
       "version_major": 2,
       "version_minor": 0
      },
      "text/plain": [
       "  0%|          | 0/100 [00:00<?, ?it/s]"
      ]
     },
     "metadata": {},
     "output_type": "display_data"
    }
   ],
   "source": [
    "nrep = 100\n",
    "# population_mmd_ls = [2e-1, 2.5e-1, 3e-1, 3.5e-1, 4e-1, 4.5e-1, 5e-1, 5.5e-1, 6e-1]\n",
    "# population_mmd_ls = [4.8e-1, 4.9e-1, 4.95e-1, 5e-1, 5.05e-1, 5.1e-1, 5.2e-1, 5.3e-1]\n",
    "population_mmd_ls = [3e-1, 4e-1, 5e-1, 6e-1]\n",
    "shift_sq_ls = [population_mmd_inverse(v, dim, 1.) for v in population_mmd_ls]\n",
    "\n",
    "keys = population_mmd_ls\n",
    "\n",
    "res = debug_bootstrap(shift_sq_ls, nrep=100)"
   ]
  },
  {
   "cell_type": "code",
   "execution_count": 118,
   "id": "8c96e8ad-ecbf-4ea2-adcc-30965aff69ae",
   "metadata": {},
   "outputs": [
    {
     "data": {
      "image/png": "[encoded data removed]",
      "text/plain": [
       "<Figure size 640x480 with 1 Axes>"
      ]
     },
     "metadata": {},
     "output_type": "display_data"
    }
   ],
   "source": [
    "fig, ax = plt.subplots(ncols=1, nrows=1)\n",
    "\n",
    "ora_quantile = [np.mean(r) for r in res[\"quantile\"]]\n",
    "boot_quantile = [np.mean(r) for r in res[\"boot_quantile\"]]\n",
    "boot_ora_quantile = [np.mean(r) for r in res[\"boot_ora_quantile\"]]\n",
    "_ = ax.scatter(res[\"shift_sq\"], ora_quantile, label=\"oracle\")\n",
    "_ = ax.scatter(res[\"shift_sq\"], boot_quantile, label=\"boot\")\n",
    "_ = ax.scatter(res[\"shift_sq\"], boot_ora_quantile, marker=\"x\", label=\"boot_ora\")"
   ]
  },
  {
   "cell_type": "code",
   "execution_count": null,
   "id": "0061aacd-fa1e-4233-aa40-7ead030b9165",
   "metadata": {},
   "outputs": [],
   "source": []
  },
  {
   "cell_type": "code",
   "execution_count": 62,
   "id": "f14cb021-468c-4361-af5e-bccb1f836323",
   "metadata": {},
   "outputs": [
    {
     "data": {
      "image/png": "[encoded data removed]",
      "text/plain": [
       "<Figure size 640x480 with 1 Axes>"
      ]
     },
     "metadata": {},
     "output_type": "display_data"
    }
   ],
   "source": [
    "fig, ax = plt.subplots(ncols=1, nrows=1)\n",
    "\n",
    "boot_quantile = [np.mean(r) for r in res[\"boot_quantile\"]]\n",
    "_ = ax.scatter(res[\"shift_sq\"], res[\"quantile\"], label=\"oracle\")\n",
    "_ = ax.scatter(res[\"shift_sq\"], boot_quantile, label=\"boot\")\n",
    "_ = ax.scatter(res[\"shift_sq\"], boot_quantile, marker=\"x\", label=\"boot_ora\")"
   ]
  },
  {
   "cell_type": "code",
   "execution_count": null,
   "id": "22b15db8-e8c4-425e-8798-3e411ff10cf6",
   "metadata": {},
   "outputs": [],
   "source": []
  },
  {
   "cell_type": "code",
   "execution_count": null,
   "id": "1924c723-9c14-477f-b28c-71662bdf1ccf",
   "metadata": {},
   "outputs": [],
   "source": []
  },
  {
   "cell_type": "code",
   "execution_count": null,
   "id": "0c2475ef-5723-4598-b150-98c0aaf348e9",
   "metadata": {},
   "outputs": [],
   "source": []
  },
  {
   "cell_type": "code",
   "execution_count": null,
   "id": "a1c7aafe-8061-4ebe-a0d5-7db591ce8001",
   "metadata": {},
   "outputs": [],
   "source": []
  }
 ],
 "metadata": {
  "kernelspec": {
   "display_name": "robust",
   "language": "python",
   "name": "robust"
  },
  "language_info": {
   "codemirror_mode": {
    "name": "ipython",
    "version": 3
   },
   "file_extension": ".py",
   "mimetype": "text/x-python",
   "name": "python",
   "nbconvert_exporter": "python",
   "pygments_lexer": "ipython3",
   "version": "3.8.10"
  }
 },
 "nbformat": 4,
 "nbformat_minor": 5
}
