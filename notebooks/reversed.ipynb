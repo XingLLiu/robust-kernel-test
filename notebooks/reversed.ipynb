{
 "cells": [
  {
   "cell_type": "code",
   "execution_count": 1,
   "id": "d4ae2b71-cb70-498d-868f-4d2e66286791",
   "metadata": {},
   "outputs": [],
   "source": [
    "%load_ext autoreload\n",
    "%autoreload 2\n",
    "\n",
    "import numpy as np\n",
    "import matplotlib.pyplot as plt\n",
    "from tqdm.notebook import tqdm, trange\n",
    "import seaborn as sns\n",
    "\n",
    "import src.metrics as metrics\n",
    "import src.kernels as kernels\n",
    "import src.bootstrap as boot"
   ]
  },
  {
   "cell_type": "code",
   "execution_count": 2,
   "id": "ab1cbfad-fbb4-440c-87f0-0c9936f08b85",
   "metadata": {},
   "outputs": [],
   "source": [
    "np.random.seed(2024)"
   ]
  },
  {
   "cell_type": "code",
   "execution_count": 3,
   "id": "938048f0-f4f4-4c2b-b388-a95270781272",
   "metadata": {},
   "outputs": [],
   "source": [
    "dim = 1\n",
    "n = 1000\n",
    "\n",
    "x_sample = np.random.multivariate_normal(np.zeros((dim,)), np.eye(dim), n)\n",
    "\n",
    "y_sample = np.random.multivariate_normal(np.zeros((dim,)), np.eye(dim), n)"
   ]
  },
  {
   "cell_type": "code",
   "execution_count": 3,
   "id": "60eddf72-1500-4847-888d-6b56f0b88e69",
   "metadata": {},
   "outputs": [],
   "source": [
    "def mmd_experiment_single(kernel_class, Xs, Ys, theta, nboot=500, alpha=0.05, quantile=None):\n",
    "    res = {\n",
    "        \"deviation\": {\"val\": [], \"threshold\": [], \"rej\": []},\n",
    "        \"boot\": {\"val\": [], \"threshold\": [], \"pval\": [], \"rej\": []},\n",
    "        \"robust\": {\"val\": [], \"threshold\": [], \"rej\": []},\n",
    "        \"relaxed\": {\"val\": [], \"threshold\": [], \"rej\": []},\n",
    "    }\n",
    "\n",
    "    for X, Y in tqdm(zip(Xs, Ys), total=Xs.shape[0]):\n",
    "        kernel = kernel_class(sigma_sq=2.)\n",
    "        mmd = metrics.MMD(kernel)\n",
    "        val = mmd(X, Y)\n",
    "        threshold = mmd.test_threshold(X.shape[0])\n",
    "        \n",
    "        # 1. deviation bound\n",
    "        rej = mmd.reverse_test(X, Y, theta, alpha)\n",
    "\n",
    "        # save results\n",
    "        res[\"deviation\"][\"val\"].append(val)\n",
    "        res[\"deviation\"][\"threshold\"].append(threshold)\n",
    "        res[\"deviation\"][\"rej\"].append(rej)\n",
    "\n",
    "        # 2. bootstrap\n",
    "        boot_rej = float(max(0, theta - val**0.5) > quantile)\n",
    "        res[\"boot\"][\"rej\"].append(boot_rej)\n",
    "        \n",
    "    return res\n",
    "\n",
    "def mmd_experiment(kernel_class, Xs, Ys, theta, keys, nboot=500, quantiles=None):\n",
    "    \"\"\"\n",
    "    Xs: [array(nrep, n, d), ...]\n",
    "    Ys: [array(nrep, n, d), ...]\n",
    "    \"\"\"\n",
    "    res = {}\n",
    "    for Xs_i, Ys_i, kk, qq in zip(Xs, Ys, keys, quantiles):\n",
    "        print(\"key:\", kk)\n",
    "        res[kk] = mmd_experiment_single(kernel_class, Xs_i, Ys_i, theta, nboot=nboot, quantile=qq)\n",
    "\n",
    "    return res\n",
    "    "
   ]
  },
  {
   "cell_type": "code",
   "execution_count": 94,
   "id": "bc7cff9f-1048-4458-ab15-438cb5c4ea38",
   "metadata": {},
   "outputs": [],
   "source": [
    "np.random.seed(2024)"
   ]
  },
  {
   "cell_type": "code",
   "execution_count": 95,
   "id": "6e39fcca-4e72-4898-89a2-f9c6aa0e3877",
   "metadata": {},
   "outputs": [],
   "source": [
    "nrep = 10\n",
    "n = 1000\n",
    "dim = 1\n",
    "mean1 = np.zeros((dim,)) + 1. # data\n",
    "mean2 = np.zeros((dim,)) # model\n",
    "\n",
    "### Gaussian loc\n",
    "Xs = np.random.multivariate_normal(mean1, np.eye(dim), (nrep, n))\n",
    "\n",
    "Ys = np.random.multivariate_normal(mean2, np.eye(dim), (nrep, n))\n",
    "###\n",
    "\n",
    "kernel_class = kernels.RBF"
   ]
  },
  {
   "cell_type": "code",
   "execution_count": 96,
   "id": "7a7ccce0-7d92-427c-ae05-ced22a15ccac",
   "metadata": {},
   "outputs": [
    {
     "data": {
      "image/png": "[encoded data removed]",
      "text/plain": [
       "<Figure size 400x400 with 1 Axes>"
      ]
     },
     "metadata": {},
     "output_type": "display_data"
    }
   ],
   "source": [
    "fig, ax = plt.subplots(nrows=1, ncols=1, figsize=(4, 4))\n",
    "_ = ax.hist(Xs[0, :, 0], bins=50, label=\"X\", alpha=0.5, density=True)\n",
    "_ = ax.hist(Ys[0, :, 0], bins=50, label=\"Y\", alpha=0.5, density=True)"
   ]
  },
  {
   "cell_type": "code",
   "execution_count": 97,
   "id": "abd63023-732e-4ecc-b5fc-114f5c82a3de",
   "metadata": {},
   "outputs": [
    {
     "data": {
      "application/vnd.jupyter.widget-view+json": {
       "model_id": "e3d8f3f90d004b7084a7608d099e1d88",
       "version_major": 2,
       "version_minor": 0
      },
      "text/plain": [
       "  0%|          | 0/10 [00:00<?, ?it/s]"
      ]
     },
     "metadata": {},
     "output_type": "display_data"
    }
   ],
   "source": [
    "theta = 1.\n",
    "res = mmd_experiment_single(kernel_class, Xs, Ys, theta=theta, nboot=500)"
   ]
  },
  {
   "cell_type": "code",
   "execution_count": 98,
   "id": "42959191-b26e-4ce2-bfe1-d82511b1fc83",
   "metadata": {},
   "outputs": [
    {
     "data": {
      "text/plain": [
       "[0.1720179636345991,\n",
       " 0.18428476926383563,\n",
       " 0.19582963197821102,\n",
       " 0.16876194066065464,\n",
       " 0.18649441828899527,\n",
       " 0.17913646195417887,\n",
       " 0.18342694734633536,\n",
       " 0.1783882833690058,\n",
       " 0.1668056666349813,\n",
       " 0.17507306934642775]"
      ]
     },
     "execution_count": 98,
     "metadata": {},
     "output_type": "execute_result"
    }
   ],
   "source": [
    "res[\"deviation\"][\"val\"]"
   ]
  },
  {
   "cell_type": "code",
   "execution_count": 14,
   "id": "8802c6fd-e4d1-4081-aacf-9e9d092c4770",
   "metadata": {},
   "outputs": [],
   "source": [
    "def population_mmd(mean, bandwidth_sq):\n",
    "    \"\"\"Compute population MMD under a mean-shift Gaussians setup\n",
    "    \"\"\"\n",
    "    d = mean.shape[-1]\n",
    "    mean_norm_sq = np.sum(mean**2)\n",
    "    mmd_sq = 2 * (bandwidth_sq / (2. + bandwidth_sq))**(d/2) * (1 - np.exp(- mean_norm_sq / (2 * (2 + bandwidth_sq))))\n",
    "    return mmd_sq**0.5\n",
    "\n",
    "def population_mmd_inverse(val, d, bandwidth_sq):\n",
    "    \"\"\"Compute the \\| \\mu \\|_2^2 required for the population MMD \n",
    "    under a mean-shift Gaussians setup to equal to a given value.\n",
    "    \"\"\"\n",
    "    mmd_sq = val**2\n",
    "    c = 2 * (bandwidth_sq / (2. + bandwidth_sq))**(d/2)\n",
    "    return -2. * (2 + bandwidth_sq) * np.log(1 - mmd_sq / c)"
   ]
  },
  {
   "cell_type": "code",
   "execution_count": 109,
   "id": "2a930b9f-614b-4781-b931-6c94dc4c205d",
   "metadata": {},
   "outputs": [
    {
     "data": {
      "text/plain": [
       "1.0"
      ]
     },
     "execution_count": 109,
     "metadata": {},
     "output_type": "execute_result"
    }
   ],
   "source": [
    "np.sum((np.eye(dim)[:1, 0] * 1.)**2)"
   ]
  },
  {
   "cell_type": "code",
   "execution_count": 110,
   "id": "b54f5b42-b24b-4c48-a23f-54e9b8fecfd5",
   "metadata": {},
   "outputs": [
    {
     "name": "stdout",
     "output_type": "stream",
     "text": [
      "0.17726763491986192\n",
      "0.17902191524772246\n"
     ]
    }
   ],
   "source": [
    "print(population_mmd(mean1, 1.))\n",
    "print(np.mean(res[\"deviation\"][\"val\"]))"
   ]
  },
  {
   "cell_type": "code",
   "execution_count": 111,
   "id": "9335102e-24f4-4f3b-968d-f82ba9fce0c1",
   "metadata": {},
   "outputs": [
    {
     "data": {
      "text/plain": [
       "0.9999999999999996"
      ]
     },
     "execution_count": 111,
     "metadata": {},
     "output_type": "execute_result"
    }
   ],
   "source": [
    "population_mmd_inverse(population_mmd(mean1, 1.), dim, 1.)"
   ]
  },
  {
   "cell_type": "code",
   "execution_count": 163,
   "id": "2996fecd-ee60-4572-96dc-7bed4dd70553",
   "metadata": {},
   "outputs": [],
   "source": [
    "np.random.seed(2024)"
   ]
  },
  {
   "cell_type": "code",
   "execution_count": 164,
   "id": "1842cecd-2acd-4d93-be88-cc9a9e6a3820",
   "metadata": {},
   "outputs": [],
   "source": [
    "nrep = 100\n",
    "population_mmd_ls = [1e-1, 2e-1, 3e-1, 3.5e-1, 4e-1, 4.5e-1, 5e-1, 7.5e-1, 1.]\n",
    "shift_sq_ls = [population_mmd_inverse(v, dim, 1.) for v in population_mmd_ls]\n",
    "\n",
    "Xs_ls = []\n",
    "Ys_ls = []\n",
    "\n",
    "for shift_sq in shift_sq_ls:\n",
    "    ### Gaussian loc\n",
    "    mean1 = np.eye(dim)[:1, 0] * shift_sq**0.5\n",
    "    mean2 = np.zeros((dim,))\n",
    "\n",
    "    Xs = np.random.multivariate_normal(mean1, np.eye(dim), (nrep, n))\n",
    "    Ys = np.random.multivariate_normal(mean2, np.eye(dim), (nrep, n))\n",
    "    ###\n",
    "\n",
    "    Xs_ls.append(Xs)\n",
    "    Ys_ls.append(Ys)\n",
    "\n",
    "kernel_class = kernels.RBF\n",
    "\n",
    "keys = population_mmd_ls"
   ]
  },
  {
   "cell_type": "code",
   "execution_count": 165,
   "id": "0412d878-ce94-44ed-b9fc-ac1cc1e70ed4",
   "metadata": {},
   "outputs": [
    {
     "name": "stdout",
     "output_type": "stream",
     "text": [
      "key: 0.1\n"
     ]
    },
    {
     "data": {
      "application/vnd.jupyter.widget-view+json": {
       "model_id": "05ed8e18afd04d12988b7af03906f443",
       "version_major": 2,
       "version_minor": 0
      },
      "text/plain": [
       "  0%|          | 0/100 [00:00<?, ?it/s]"
      ]
     },
     "metadata": {},
     "output_type": "display_data"
    },
    {
     "name": "stdout",
     "output_type": "stream",
     "text": [
      "key: 0.2\n"
     ]
    },
    {
     "data": {
      "application/vnd.jupyter.widget-view+json": {
       "model_id": "850b4297d16942e99e0b98235f8a8f74",
       "version_major": 2,
       "version_minor": 0
      },
      "text/plain": [
       "  0%|          | 0/100 [00:00<?, ?it/s]"
      ]
     },
     "metadata": {},
     "output_type": "display_data"
    },
    {
     "name": "stdout",
     "output_type": "stream",
     "text": [
      "key: 0.3\n"
     ]
    },
    {
     "data": {
      "application/vnd.jupyter.widget-view+json": {
       "model_id": "79f2a2f04ff946ebae4797be455295c9",
       "version_major": 2,
       "version_minor": 0
      },
      "text/plain": [
       "  0%|          | 0/100 [00:00<?, ?it/s]"
      ]
     },
     "metadata": {},
     "output_type": "display_data"
    },
    {
     "name": "stdout",
     "output_type": "stream",
     "text": [
      "key: 0.35\n"
     ]
    },
    {
     "data": {
      "application/vnd.jupyter.widget-view+json": {
       "model_id": "dd4b1a69dbcb46269d1103b381500059",
       "version_major": 2,
       "version_minor": 0
      },
      "text/plain": [
       "  0%|          | 0/100 [00:00<?, ?it/s]"
      ]
     },
     "metadata": {},
     "output_type": "display_data"
    },
    {
     "name": "stdout",
     "output_type": "stream",
     "text": [
      "key: 0.4\n"
     ]
    },
    {
     "data": {
      "application/vnd.jupyter.widget-view+json": {
       "model_id": "0575465386e547a6845e7e1d98c7cc7e",
       "version_major": 2,
       "version_minor": 0
      },
      "text/plain": [
       "  0%|          | 0/100 [00:00<?, ?it/s]"
      ]
     },
     "metadata": {},
     "output_type": "display_data"
    },
    {
     "name": "stdout",
     "output_type": "stream",
     "text": [
      "key: 0.45\n"
     ]
    },
    {
     "data": {
      "application/vnd.jupyter.widget-view+json": {
       "model_id": "9cba29cf1d8e4937a30ad40fa90260d1",
       "version_major": 2,
       "version_minor": 0
      },
      "text/plain": [
       "  0%|          | 0/100 [00:00<?, ?it/s]"
      ]
     },
     "metadata": {},
     "output_type": "display_data"
    },
    {
     "name": "stdout",
     "output_type": "stream",
     "text": [
      "key: 0.5\n"
     ]
    },
    {
     "data": {
      "application/vnd.jupyter.widget-view+json": {
       "model_id": "3f5928943692466f8dc79479490eda46",
       "version_major": 2,
       "version_minor": 0
      },
      "text/plain": [
       "  0%|          | 0/100 [00:00<?, ?it/s]"
      ]
     },
     "metadata": {},
     "output_type": "display_data"
    },
    {
     "name": "stdout",
     "output_type": "stream",
     "text": [
      "key: 0.75\n"
     ]
    },
    {
     "data": {
      "application/vnd.jupyter.widget-view+json": {
       "model_id": "029a646a4b9e4936b98963f94b74d42d",
       "version_major": 2,
       "version_minor": 0
      },
      "text/plain": [
       "  0%|          | 0/100 [00:00<?, ?it/s]"
      ]
     },
     "metadata": {},
     "output_type": "display_data"
    },
    {
     "name": "stdout",
     "output_type": "stream",
     "text": [
      "key: 1.0\n"
     ]
    },
    {
     "data": {
      "application/vnd.jupyter.widget-view+json": {
       "model_id": "a35f7314da4e4f9090911082a68d0b64",
       "version_major": 2,
       "version_minor": 0
      },
      "text/plain": [
       "  0%|          | 0/100 [00:00<?, ?it/s]"
      ]
     },
     "metadata": {},
     "output_type": "display_data"
    }
   ],
   "source": [
    "theta = 0.5\n",
    "res = mmd_experiment(kernel_class, Xs_ls, Ys_ls, theta=theta, keys=keys, nboot=500)"
   ]
  },
  {
   "cell_type": "code",
   "execution_count": 167,
   "id": "458f746a-0f63-44a0-9f9b-9198d42594a2",
   "metadata": {},
   "outputs": [
    {
     "data": {
      "image/png": "[encoded data removed]",
      "text/plain": [
       "<Figure size 600x300 with 2 Axes>"
      ]
     },
     "metadata": {},
     "output_type": "display_data"
    }
   ],
   "source": [
    "figs, axes = plt.subplots(nrows=1, ncols=2, figsize=(6, 3))\n",
    "\n",
    "ax = axes[0]\n",
    "rej_prob = [np.mean(res[kk][\"deviation\"][\"rej\"]) for kk in keys]\n",
    "ax.scatter(keys, rej_prob)\n",
    "ax.axhline(0.05, color=\"grey\", linestyle=\"--\", label=\"level\")\n",
    "ax.axvline(theta, color=\"k\", linestyle=\"-.\", label=r\"$\\theta$\")\n",
    "ax.set_xscale(\"log\")\n",
    "ax.set_ylim(-0.05, 1.05)\n",
    "ax.set_xlabel(\"MMD\")\n",
    "ax.set_ylabel(\"rej prob\")\n",
    "ax.legend()\n",
    "\n",
    "ax = axes[1]\n",
    "vals = [np.mean(res[kk][\"deviation\"][\"val\"]) for kk in keys]\n",
    "ax.scatter(shift_sq_ls, vals, label=\"empirical\")\n",
    "ax.scatter(shift_sq_ls, [population_mmd(np.eye(dim)[:1, 0] * s**0.5, 1.) for s in shift_sq_ls], marker=\"x\", label=\"theoretical\")\n",
    "ax.set_xscale(\"log\")\n",
    "ax.set_ylim(-0.05, 1.05)\n",
    "ax.set_xlabel(r\"$\\| \\mu \\|_2^2$\")\n",
    "ax.set_ylabel(\"MMD\")\n",
    "ax.legend()\n",
    "\n",
    "_ = plt.tight_layout()"
   ]
  },
  {
   "cell_type": "markdown",
   "id": "bb2cf634-692e-49ce-88be-c1c96572f44d",
   "metadata": {},
   "source": [
    "# Checking the bootstrap approach"
   ]
  },
  {
   "cell_type": "code",
   "execution_count": 5,
   "id": "3cf1f5bc-1dc6-4ebc-8182-0bc7c7755912",
   "metadata": {},
   "outputs": [],
   "source": [
    "def mmd_bootstrap(mean_ls, nrep, dim=1, n=1000):\n",
    "    stats_ls_all = []\n",
    "    \n",
    "    for mean in mean_ls:\n",
    "        stat_ls = []\n",
    "        \n",
    "        ###\n",
    "        mean1 = np.eye(dim)[:1, 0] * mean\n",
    "        mean2 = np.zeros((dim,))\n",
    "\n",
    "        Xs = np.random.multivariate_normal(mean1, np.eye(dim), (nrep, n))\n",
    "        Ys = np.random.multivariate_normal(mean2, np.eye(dim), (nrep, n))\n",
    "        ###\n",
    "        \n",
    "        kernel = kernels.RBF(sigma_sq=2.)\n",
    "        \n",
    "        mmd = metrics.MMD(kernel)\n",
    "        for X, Y in tqdm(zip(Xs, Ys), total=Xs.shape[0]):\n",
    "            stat_ls.append(mmd(X, Y))\n",
    "    \n",
    "        stats_ls_all.append(stat_ls)\n",
    "\n",
    "    return stats_ls_all"
   ]
  },
  {
   "cell_type": "code",
   "execution_count": 190,
   "id": "660f279e-8303-4997-8080-9f1b5e9d1002",
   "metadata": {},
   "outputs": [],
   "source": [
    "np.random.seed(2024)"
   ]
  },
  {
   "cell_type": "code",
   "execution_count": 191,
   "id": "d94f27d1-f013-4f47-ac76-7c989a07e633",
   "metadata": {},
   "outputs": [
    {
     "data": {
      "application/vnd.jupyter.widget-view+json": {
       "model_id": "b03d0340bb3149d680f48d9902a8387e",
       "version_major": 2,
       "version_minor": 0
      },
      "text/plain": [
       "  0%|          | 0/1000 [00:00<?, ?it/s]"
      ]
     },
     "metadata": {},
     "output_type": "display_data"
    },
    {
     "data": {
      "application/vnd.jupyter.widget-view+json": {
       "model_id": "a74be32cb5954cb0aaff9d2a9046d158",
       "version_major": 2,
       "version_minor": 0
      },
      "text/plain": [
       "  0%|          | 0/1000 [00:00<?, ?it/s]"
      ]
     },
     "metadata": {},
     "output_type": "display_data"
    },
    {
     "data": {
      "application/vnd.jupyter.widget-view+json": {
       "model_id": "9efe28d476444dfbbe095d6e11de6039",
       "version_major": 2,
       "version_minor": 0
      },
      "text/plain": [
       "  0%|          | 0/1000 [00:00<?, ?it/s]"
      ]
     },
     "metadata": {},
     "output_type": "display_data"
    },
    {
     "data": {
      "application/vnd.jupyter.widget-view+json": {
       "model_id": "66bbff36e5ba405587db4104f79571b9",
       "version_major": 2,
       "version_minor": 0
      },
      "text/plain": [
       "  0%|          | 0/1000 [00:00<?, ?it/s]"
      ]
     },
     "metadata": {},
     "output_type": "display_data"
    },
    {
     "data": {
      "application/vnd.jupyter.widget-view+json": {
       "model_id": "93d6a7c8cd954d77be81148782aee8eb",
       "version_major": 2,
       "version_minor": 0
      },
      "text/plain": [
       "  0%|          | 0/1000 [00:00<?, ?it/s]"
      ]
     },
     "metadata": {},
     "output_type": "display_data"
    },
    {
     "data": {
      "application/vnd.jupyter.widget-view+json": {
       "model_id": "1df5b9bc03ce493c9f83ad7dc6e87e9c",
       "version_major": 2,
       "version_minor": 0
      },
      "text/plain": [
       "  0%|          | 0/1000 [00:00<?, ?it/s]"
      ]
     },
     "metadata": {},
     "output_type": "display_data"
    }
   ],
   "source": [
    "mean_ls = [1e-3, 1e-2, 1e-1, 5e-1, 1., 10.]\n",
    "stats_ls_ms = mmd_bootstrap(mean_ls, nrep=1000)"
   ]
  },
  {
   "cell_type": "code",
   "execution_count": 192,
   "id": "1b4a2179-348c-47ca-9fee-1718f5b58f0c",
   "metadata": {},
   "outputs": [
    {
     "data": {
      "image/png": "[encoded data removed]",
      "text/plain": [
       "<Figure size 900x600 with 6 Axes>"
      ]
     },
     "metadata": {},
     "output_type": "display_data"
    }
   ],
   "source": [
    "# true sampling distribution\n",
    "figs, axes = plt.subplots(nrows=2, ncols=3, figsize=(9, 6))\n",
    "\n",
    "for i, ww in enumerate(mean_ls):\n",
    "    ax = axes.flatten()[i]\n",
    "    ax.hist(stats_ls_ms[i], bins=50, label=f\"mean shift = {ww}\")\n",
    "    ax.legend()"
   ]
  },
  {
   "cell_type": "code",
   "execution_count": 26,
   "id": "55fb4fce-f954-430b-9218-7ac6b9ce09b4",
   "metadata": {},
   "outputs": [],
   "source": [
    "np.random.seed(2024)"
   ]
  },
  {
   "cell_type": "code",
   "execution_count": 27,
   "id": "d61dc70c-0209-4994-99f6-d72df8f3a349",
   "metadata": {},
   "outputs": [
    {
     "data": {
      "application/vnd.jupyter.widget-view+json": {
       "model_id": "84fed936402b4837926db80f7208917e",
       "version_major": 2,
       "version_minor": 0
      },
      "text/plain": [
       "  0%|          | 0/200 [00:00<?, ?it/s]"
      ]
     },
     "metadata": {},
     "output_type": "display_data"
    },
    {
     "data": {
      "application/vnd.jupyter.widget-view+json": {
       "model_id": "cf5576ef42ee4dd899cc76b22ccb3aad",
       "version_major": 2,
       "version_minor": 0
      },
      "text/plain": [
       "  0%|          | 0/200 [00:00<?, ?it/s]"
      ]
     },
     "metadata": {},
     "output_type": "display_data"
    },
    {
     "data": {
      "application/vnd.jupyter.widget-view+json": {
       "model_id": "95739e48121e422b82e14ba6368265d1",
       "version_major": 2,
       "version_minor": 0
      },
      "text/plain": [
       "  0%|          | 0/200 [00:00<?, ?it/s]"
      ]
     },
     "metadata": {},
     "output_type": "display_data"
    },
    {
     "data": {
      "application/vnd.jupyter.widget-view+json": {
       "model_id": "fe5ffe1e5a6645a8a3c8f833110c2ada",
       "version_major": 2,
       "version_minor": 0
      },
      "text/plain": [
       "  0%|          | 0/200 [00:00<?, ?it/s]"
      ]
     },
     "metadata": {},
     "output_type": "display_data"
    },
    {
     "data": {
      "application/vnd.jupyter.widget-view+json": {
       "model_id": "f7aadc7171ed4be89fe04d9fb120116c",
       "version_major": 2,
       "version_minor": 0
      },
      "text/plain": [
       "  0%|          | 0/200 [00:00<?, ?it/s]"
      ]
     },
     "metadata": {},
     "output_type": "display_data"
    },
    {
     "data": {
      "application/vnd.jupyter.widget-view+json": {
       "model_id": "1c8d830b831043e6bcad00e9083873e1",
       "version_major": 2,
       "version_minor": 0
      },
      "text/plain": [
       "  0%|          | 0/200 [00:00<?, ?it/s]"
      ]
     },
     "metadata": {},
     "output_type": "display_data"
    },
    {
     "data": {
      "application/vnd.jupyter.widget-view+json": {
       "model_id": "41bd7bd2c3b646d2a58c0dd0dabefaa5",
       "version_major": 2,
       "version_minor": 0
      },
      "text/plain": [
       "  0%|          | 0/200 [00:00<?, ?it/s]"
      ]
     },
     "metadata": {},
     "output_type": "display_data"
    },
    {
     "data": {
      "application/vnd.jupyter.widget-view+json": {
       "model_id": "01a7cfb8cf324683bec9d125f77cf19a",
       "version_major": 2,
       "version_minor": 0
      },
      "text/plain": [
       "  0%|          | 0/200 [00:00<?, ?it/s]"
      ]
     },
     "metadata": {},
     "output_type": "display_data"
    },
    {
     "data": {
      "application/vnd.jupyter.widget-view+json": {
       "model_id": "474f2e8abd324899b59d498fe6f52c81",
       "version_major": 2,
       "version_minor": 0
      },
      "text/plain": [
       "  0%|          | 0/200 [00:00<?, ?it/s]"
      ]
     },
     "metadata": {},
     "output_type": "display_data"
    }
   ],
   "source": [
    "n = 1000\n",
    "dim = 1\n",
    "nrep = 200\n",
    "# population_mmd_ls = [1e-1, 2e-1, 3e-1, 3.5e-1, 4e-1, 4.5e-1, 5e-1, 7.5e-1, 1.]\n",
    "# population_mmd_ls = [3e-1, 5e-1, 7.5e-1, 9e-1]\n",
    "population_mmd_ls = [2e-1, 2.5e-1, 3e-1, 3.5e-1, 4e-1, 4.5e-1, 5e-1, 5.5e-1, 6e-1]\n",
    "shift_sq_ls = [population_mmd_inverse(v, dim, 1.) for v in population_mmd_ls]\n",
    "\n",
    "Xs_ls = []\n",
    "Ys_ls = []\n",
    "quantiles = []\n",
    "stats_all_ls = []\n",
    "\n",
    "for shift_sq in shift_sq_ls:\n",
    "    ### Gaussian loc\n",
    "    mean1 = np.eye(dim)[:1, 0] * shift_sq**0.5\n",
    "    mean2 = np.zeros((dim,))\n",
    "\n",
    "    Xs = np.random.multivariate_normal(mean1, np.eye(dim), (nrep*3, n))\n",
    "    Ys = np.random.multivariate_normal(mean2, np.eye(dim), (nrep, n))\n",
    "    ###\n",
    "\n",
    "    Xs_ls.append(Xs[:nrep])\n",
    "    Ys_ls.append(Ys[:nrep])\n",
    "\n",
    "    # compute true quantiles\n",
    "    stat_ls = []\n",
    "    kernel = kernels.RBF(sigma_sq=2.)\n",
    "    mmd = metrics.MMD(kernel)\n",
    "    # Xs = np.random.multivariate_normal(mean1, np.eye(dim), (1000*2, n))\n",
    "    for i in trange(nrep):\n",
    "    # for i in trange(1000):\n",
    "        X, Y = Xs[nrep+i], Xs[2*nrep+i]\n",
    "        # X, Y = Xs[i], Xs[nrep+i]\n",
    "        stat_ls.append(mmd(X, Y)**0.5)\n",
    "\n",
    "    quantile = np.quantile(stat_ls, 0.95)\n",
    "    quantiles.append(quantile)\n",
    "    stats_all_ls.append(stat_ls)\n",
    "            \n",
    "kernel_class = kernels.RBF\n",
    "\n",
    "keys = population_mmd_ls"
   ]
  },
  {
   "cell_type": "code",
   "execution_count": 28,
   "id": "7adc52e2-9d81-4812-ae24-d1491396e757",
   "metadata": {},
   "outputs": [
    {
     "data": {
      "image/png": "[encoded data removed]",
      "text/plain": [
       "<Figure size 900x900 with 9 Axes>"
      ]
     },
     "metadata": {},
     "output_type": "display_data"
    }
   ],
   "source": [
    "# true sampling distribution\n",
    "figs, axes = plt.subplots(nrows=3, ncols=3, figsize=(9, 9))\n",
    "\n",
    "for i, ww in enumerate(population_mmd_ls):\n",
    "    ax = axes.flatten()[i]\n",
    "    ax.hist(stats_all_ls[i], bins=20, label=f\"mean shift = {ww}\")\n",
    "    ax.axvline(quantiles[i], color=\"gray\", linestyle=\"--\")\n",
    "    ax.legend()"
   ]
  },
  {
   "cell_type": "code",
   "execution_count": 29,
   "id": "53d7344a-110e-4902-b694-1b14bbc63cda",
   "metadata": {},
   "outputs": [
    {
     "name": "stdout",
     "output_type": "stream",
     "text": [
      "key: 0.2\n"
     ]
    },
    {
     "data": {
      "application/vnd.jupyter.widget-view+json": {
       "model_id": "5d62185e3d2841b0a2a2d2b2c530061d",
       "version_major": 2,
       "version_minor": 0
      },
      "text/plain": [
       "  0%|          | 0/200 [00:00<?, ?it/s]"
      ]
     },
     "metadata": {},
     "output_type": "display_data"
    },
    {
     "name": "stdout",
     "output_type": "stream",
     "text": [
      "key: 0.25\n"
     ]
    },
    {
     "data": {
      "application/vnd.jupyter.widget-view+json": {
       "model_id": "75bf9fbcf2184110a53294d8a345ddff",
       "version_major": 2,
       "version_minor": 0
      },
      "text/plain": [
       "  0%|          | 0/200 [00:00<?, ?it/s]"
      ]
     },
     "metadata": {},
     "output_type": "display_data"
    },
    {
     "name": "stdout",
     "output_type": "stream",
     "text": [
      "key: 0.3\n"
     ]
    },
    {
     "data": {
      "application/vnd.jupyter.widget-view+json": {
       "model_id": "08b33f0c091644448bd47649b593c22a",
       "version_major": 2,
       "version_minor": 0
      },
      "text/plain": [
       "  0%|          | 0/200 [00:00<?, ?it/s]"
      ]
     },
     "metadata": {},
     "output_type": "display_data"
    },
    {
     "name": "stdout",
     "output_type": "stream",
     "text": [
      "key: 0.35\n"
     ]
    },
    {
     "data": {
      "application/vnd.jupyter.widget-view+json": {
       "model_id": "09259015a57e42c0a7b9d13a55d7f28d",
       "version_major": 2,
       "version_minor": 0
      },
      "text/plain": [
       "  0%|          | 0/200 [00:00<?, ?it/s]"
      ]
     },
     "metadata": {},
     "output_type": "display_data"
    },
    {
     "name": "stdout",
     "output_type": "stream",
     "text": [
      "key: 0.4\n"
     ]
    },
    {
     "data": {
      "application/vnd.jupyter.widget-view+json": {
       "model_id": "7093d3e7607f486c8f6e685773e28d01",
       "version_major": 2,
       "version_minor": 0
      },
      "text/plain": [
       "  0%|          | 0/200 [00:00<?, ?it/s]"
      ]
     },
     "metadata": {},
     "output_type": "display_data"
    },
    {
     "name": "stdout",
     "output_type": "stream",
     "text": [
      "key: 0.45\n"
     ]
    },
    {
     "data": {
      "application/vnd.jupyter.widget-view+json": {
       "model_id": "c5f1221aee5a42a488a4cdad53e1ab86",
       "version_major": 2,
       "version_minor": 0
      },
      "text/plain": [
       "  0%|          | 0/200 [00:00<?, ?it/s]"
      ]
     },
     "metadata": {},
     "output_type": "display_data"
    },
    {
     "name": "stdout",
     "output_type": "stream",
     "text": [
      "key: 0.5\n"
     ]
    },
    {
     "data": {
      "application/vnd.jupyter.widget-view+json": {
       "model_id": "1ef6fa66d4db41fe9bfb73cacb64d763",
       "version_major": 2,
       "version_minor": 0
      },
      "text/plain": [
       "  0%|          | 0/200 [00:00<?, ?it/s]"
      ]
     },
     "metadata": {},
     "output_type": "display_data"
    },
    {
     "name": "stdout",
     "output_type": "stream",
     "text": [
      "key: 0.55\n"
     ]
    },
    {
     "data": {
      "application/vnd.jupyter.widget-view+json": {
       "model_id": "e74363c930f948a883ed22db3d3eb771",
       "version_major": 2,
       "version_minor": 0
      },
      "text/plain": [
       "  0%|          | 0/200 [00:00<?, ?it/s]"
      ]
     },
     "metadata": {},
     "output_type": "display_data"
    },
    {
     "name": "stdout",
     "output_type": "stream",
     "text": [
      "key: 0.6\n"
     ]
    },
    {
     "data": {
      "application/vnd.jupyter.widget-view+json": {
       "model_id": "2e9781c07a3a481392142f1129159f2b",
       "version_major": 2,
       "version_minor": 0
      },
      "text/plain": [
       "  0%|          | 0/200 [00:00<?, ?it/s]"
      ]
     },
     "metadata": {},
     "output_type": "display_data"
    }
   ],
   "source": [
    "theta = 0.5\n",
    "res = mmd_experiment(kernel_class, Xs_ls, Ys_ls, theta=theta, keys=keys, quantiles=quantiles)"
   ]
  },
  {
   "cell_type": "code",
   "execution_count": 30,
   "id": "2e41afae-2ccd-4df1-a2b3-4e9c78b99410",
   "metadata": {},
   "outputs": [
    {
     "data": {
      "image/png": "[encoded data removed]",
      "text/plain": [
       "<Figure size 600x300 with 2 Axes>"
      ]
     },
     "metadata": {},
     "output_type": "display_data"
    }
   ],
   "source": [
    "figs, axes = plt.subplots(nrows=1, ncols=2, figsize=(6, 3))\n",
    "\n",
    "ax = axes[0]\n",
    "rej_prob = [np.mean(res[kk][\"deviation\"][\"rej\"]) for kk in keys]\n",
    "ax.scatter(keys, rej_prob, label=\"deviation\")\n",
    "rej_prob = [np.mean(res[kk][\"boot\"][\"rej\"]) for kk in keys]\n",
    "ax.scatter(keys, rej_prob, marker=\"x\", label=\"boot\")\n",
    "ax.axhline(0.05, color=\"grey\", linestyle=\"--\", label=\"level\")\n",
    "ax.axvline(theta, color=\"k\", linestyle=\"-.\", label=r\"$\\theta$\")\n",
    "# ax.set_xscale(\"log\")\n",
    "ax.set_ylim(-0.05, 1.05)\n",
    "ax.set_xlabel(\"MMD\")\n",
    "ax.set_ylabel(\"rej prob\")\n",
    "ax.legend()\n",
    "    \n",
    "ax = axes[1]\n",
    "vals = [np.mean(res[kk][\"deviation\"][\"val\"]) for kk in keys]\n",
    "ax.scatter(shift_sq_ls, [vv**0.5 for vv in vals], label=\"empirical\")\n",
    "ax.scatter(shift_sq_ls, [population_mmd(np.eye(dim)[:1, 0] * s**0.5, 1.) for s in shift_sq_ls], marker=\"x\", label=\"theoretical\")\n",
    "# ax.set_xscale(\"log\")\n",
    "ax.set_ylim(-0.05, 1.05)\n",
    "ax.set_xlabel(r\"$\\| \\mu \\|_2^2$\")\n",
    "ax.set_ylabel(\"MMD\")\n",
    "ax.legend()\n",
    "\n",
    "_ = plt.tight_layout()\n",
    "plt.tight_layout()"
   ]
  },
  {
   "cell_type": "code",
   "execution_count": null,
   "id": "0c2475ef-5723-4598-b150-98c0aaf348e9",
   "metadata": {},
   "outputs": [],
   "source": []
  },
  {
   "cell_type": "code",
   "execution_count": null,
   "id": "a1c7aafe-8061-4ebe-a0d5-7db591ce8001",
   "metadata": {},
   "outputs": [],
   "source": []
  }
 ],
 "metadata": {
  "kernelspec": {
   "display_name": "robust",
   "language": "python",
   "name": "robust"
  },
  "language_info": {
   "codemirror_mode": {
    "name": "ipython",
    "version": 3
   },
   "file_extension": ".py",
   "mimetype": "text/x-python",
   "name": "python",
   "nbconvert_exporter": "python",
   "pygments_lexer": "ipython3",
   "version": "3.8.10"
  }
 },
 "nbformat": 4,
 "nbformat_minor": 5
}
