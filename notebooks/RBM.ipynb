{
 "cells": [
  {
   "cell_type": "code",
   "execution_count": 1,
   "id": "53ba4499-ea5f-437d-997e-3a715aee93d4",
   "metadata": {},
   "outputs": [],
   "source": [
    "%load_ext autoreload\n",
    "%autoreload 2\n",
    "\n",
    "import numpy as np\n",
    "import jax.numpy as jnp\n",
    "import jax\n",
    "import pandas as pd\n",
    "import matplotlib.pyplot as plt\n",
    "from tqdm.notebook import tqdm, trange\n",
    "import seaborn as sns\n",
    "import pickle\n",
    "import copy\n",
    "import jaxopt\n",
    "\n",
    "import src.metrics as metrics\n",
    "import src.kernels as kernels\n",
    "import src.bootstrap as boot\n",
    "import src.exp_utils as exp_utils\n",
    "import experiments.kef as exp_kef\n",
    "import experiments.efm as exp_efm\n",
    "import experiments.rbm as exp_rbm"
   ]
  },
  {
   "cell_type": "markdown",
   "id": "cb91d3f7-46c4-4753-b415-443cfa3e5b73",
   "metadata": {
    "jp-MarkdownHeadingCollapsed": true
   },
   "source": [
    "# Explore"
   ]
  },
  {
   "cell_type": "code",
   "execution_count": 160,
   "id": "5fd98f3c-b822-424a-94db-1974e715b94a",
   "metadata": {},
   "outputs": [],
   "source": [
    "from kgof import data as kgof_data\n",
    "# from kgof import density as kgof_den\n",
    "import src.kgof_density as kgof_den"
   ]
  },
  {
   "cell_type": "code",
   "execution_count": null,
   "id": "feecc35e-d70e-4555-97ad-f93ee4f3b2d9",
   "metadata": {},
   "outputs": [],
   "source": [
    "seed = 2024\n",
    "key = jax.random.key(seed)\n",
    "keys = jax.random.split(key, 3)\n",
    "\n",
    "dim = 50\n",
    "h_dim = 10\n",
    "b = jax.random.normal(keys[0], shape=(dim,))\n",
    "c = jax.random.normal(keys[1], shape=(h_dim,))\n",
    "B = jax.random.bernoulli(keys[2], shape=(dim, h_dim)).astype(jnp.float32) * 2 - 1."
   ]
  },
  {
   "cell_type": "code",
   "execution_count": null,
   "id": "632bc164-c2df-40fa-8015-abb7d0267ad6",
   "metadata": {},
   "outputs": [],
   "source": [
    "rbm_sampler = kgof_data.DSGaussBernRBM(B, b, c)"
   ]
  },
  {
   "cell_type": "code",
   "execution_count": null,
   "id": "1666bef2-2313-478e-aaeb-7041a7d0a660",
   "metadata": {},
   "outputs": [],
   "source": [
    "rbm_samples = rbm_sampler.sample(500).data()"
   ]
  },
  {
   "cell_type": "code",
   "execution_count": null,
   "id": "a242c65c-8716-41cd-801b-e39e827f572b",
   "metadata": {},
   "outputs": [],
   "source": [
    "rbm_model = kgof_den.GaussBernRBM(B, b, c)"
   ]
  },
  {
   "cell_type": "code",
   "execution_count": 161,
   "id": "e64412fc-44e4-449b-bf05-246eee67265a",
   "metadata": {},
   "outputs": [],
   "source": [
    "X_res = pickle.load(open(\"../data/rbm/X_res_seed2024.pkl\", \"rb\"))\n",
    "score_res = pickle.load(open(\"../data/rbm/score_res_seed2024.pkl\", \"rb\"))"
   ]
  },
  {
   "cell_type": "code",
   "execution_count": 162,
   "id": "3c0cfc79-80c1-400e-9bba-a6bd5c582337",
   "metadata": {},
   "outputs": [],
   "source": [
    "eps = 0.1\n",
    "X = X_res[eps][0]\n",
    "score = score_res[eps][0]"
   ]
  },
  {
   "cell_type": "code",
   "execution_count": 165,
   "id": "fd370447-7df7-440d-a33d-6178c7f306c1",
   "metadata": {},
   "outputs": [],
   "source": [
    "score_weight_fn = kernels.PolyWeightFunction(loc=jnp.zeros_like(X[0]))\n",
    "kernel0 = kernels.RBF(med_heuristic=True, X=X, Y=X)\n",
    "kernel = kernels.TiltedKernel(kernel=kernel0, weight_fn=score_weight_fn)\n",
    "ksd = metrics.KSD(kernel, score_fn=rbm_model.grad_log)"
   ]
  },
  {
   "cell_type": "code",
   "execution_count": 166,
   "id": "d3403625-9c39-418e-bee3-1f46b756bb2c",
   "metadata": {},
   "outputs": [],
   "source": [
    "def obj(x):\n",
    "    s = ksd.score_fn(x)\n",
    "    return -ksd(x, x, score=s, vstat=True)\n",
    "\n",
    "def weighted_score(x):\n",
    "    s = ksd.score_fn(x)\n",
    "    w = score_weight_fn(x)\n",
    "    return -jnp.sum((w * s)**2)"
   ]
  },
  {
   "cell_type": "code",
   "execution_count": 174,
   "id": "da91f53b-7e3a-4819-8195-fbbff373b7dc",
   "metadata": {},
   "outputs": [],
   "source": [
    "init_val = X[[0], :]\n",
    "solver = jaxopt.LBFGS(fun=lambda x: exp_rbm.minus_stein_kernel(x, ksd), maxiter=2000)\n",
    "opt_res = solver.run(init_val)"
   ]
  },
  {
   "cell_type": "code",
   "execution_count": 175,
   "id": "e9673b7d-6f97-4509-89ef-57bd60388dba",
   "metadata": {},
   "outputs": [
    {
     "name": "stdout",
     "output_type": "stream",
     "text": [
      "LbfgsState(iter_num=Array(5, dtype=int32, weak_type=True), value=Array(-0.9645757, dtype=float32), grad=Array([[ 1.5281547e-04, -7.7755976e-07,  5.1139068e-05, -3.0709041e-05,\n",
      "         1.2315471e-05, -1.9021798e-05, -4.4261105e-05,  5.1556199e-05,\n",
      "         2.7462220e-05, -4.7177193e-05, -4.2020465e-06, -3.9225190e-05,\n",
      "         2.5478294e-06, -1.0941626e-04, -3.4177134e-05, -7.7971439e-05,\n",
      "         1.3500398e-04,  1.3555521e-04, -3.1131778e-05,  2.2084350e-08,\n",
      "         1.0929838e-05, -1.6963204e-05, -3.8442642e-05,  8.7619861e-05,\n",
      "        -8.0437283e-05, -7.5808450e-05,  3.7933685e-05,  8.3511855e-05,\n",
      "        -2.4626359e-05, -8.0194222e-06, -2.8642600e-05,  1.3100915e-05,\n",
      "        -6.4510241e-05, -6.5056247e-06, -1.3459531e-04, -1.3100350e-04,\n",
      "        -1.0809209e-04,  5.6102879e-05, -3.0876839e-05, -7.1857547e-05,\n",
      "         7.2831444e-06,  8.9861191e-05, -6.7529894e-05, -1.2257899e-04,\n",
      "        -8.5058622e-05,  1.5774436e-04,  6.3538137e-05, -5.3806853e-05,\n",
      "        -7.1405753e-05,  8.7528388e-05]], dtype=float32), stepsize=Array(1., dtype=float32), error=Array(0.00051496, dtype=float32), s_history=Array([[[ 4.28366661e-03,  1.13534927e-03, -1.92070007e-03,\n",
      "          1.18374825e-04,  1.62899494e-03, -4.24289703e-03,\n",
      "          1.54674053e-03, -1.28245354e-03, -4.32074070e-04,\n",
      "          9.52839851e-04,  1.22822821e-04,  1.15954876e-03,\n",
      "         -7.48634338e-04, -4.52995300e-05,  8.82869959e-03,\n",
      "         -4.93860245e-03, -3.34048271e-03, -6.41298294e-03,\n",
      "          4.14609909e-04,  7.02917576e-03, -7.35855103e-03,\n",
      "          6.44171238e-03, -1.48630142e-02,  5.20277023e-03,\n",
      "         -8.67247581e-04,  3.68118286e-04, -4.61122394e-03,\n",
      "          2.16293335e-03,  3.26490402e-03, -4.91142273e-04,\n",
      "         -5.17678261e-03, -7.09199905e-03, -1.01542473e-03,\n",
      "         -1.13372803e-02,  4.25755978e-03, -3.43775749e-03,\n",
      "         -4.56738472e-03, -1.58524513e-03, -2.00778246e-03,\n",
      "         -6.60824776e-03, -5.92839718e-03, -1.69825554e-03,\n",
      "         -5.95116615e-03,  6.59227371e-04, -1.11145973e-02,\n",
      "          7.04526901e-05,  1.74000859e-03,  3.39090824e-03,\n",
      "          8.42386484e-03,  5.44595718e-03]],\n",
      "\n",
      "       [[-7.44174242e-01,  1.18686676e-01,  2.18317389e+00,\n",
      "         -3.87586355e-01, -2.04510331e-01,  2.31419587e+00,\n",
      "         -7.00697660e-01,  1.30741692e+00, -4.89392281e-02,\n",
      "         -6.14809990e-03, -1.68174058e-02, -7.61262119e-01,\n",
      "          8.97818804e-01, -8.43747616e-01, -3.49258018e+00,\n",
      "          1.58413148e+00,  2.80752420e-01,  2.79027033e+00,\n",
      "         -1.10964799e+00, -3.01291966e+00,  3.06068921e+00,\n",
      "         -2.01766920e+00,  6.69809580e+00, -1.18096042e+00,\n",
      "         -1.39827490e-01, -7.08812475e-01,  1.65297782e+00,\n",
      "          1.56935453e-01, -5.90730906e-01,  8.77580047e-01,\n",
      "          1.26565957e+00,  1.73060441e+00,  9.85219717e-01,\n",
      "          4.91468954e+00, -1.87465286e+00,  7.94336081e-01,\n",
      "          2.60390210e+00,  1.39838278e+00,  5.25110006e-01,\n",
      "          1.64898038e+00,  2.47883868e+00,  1.15908396e+00,\n",
      "          1.33039856e+00, -1.03346324e+00,  5.80346870e+00,\n",
      "          4.20901775e-01, -6.88805938e-01, -9.94593859e-01,\n",
      "         -3.00176883e+00, -1.88303971e+00]],\n",
      "\n",
      "       [[ 0.00000000e+00,  0.00000000e+00,  0.00000000e+00,\n",
      "          0.00000000e+00,  0.00000000e+00, -5.96046448e-08,\n",
      "          1.49011612e-08,  0.00000000e+00,  0.00000000e+00,\n",
      "          0.00000000e+00,  0.00000000e+00,  0.00000000e+00,\n",
      "          0.00000000e+00,  0.00000000e+00,  0.00000000e+00,\n",
      "          0.00000000e+00,  0.00000000e+00,  0.00000000e+00,\n",
      "          0.00000000e+00,  0.00000000e+00,  0.00000000e+00,\n",
      "          0.00000000e+00,  0.00000000e+00,  0.00000000e+00,\n",
      "          0.00000000e+00,  0.00000000e+00,  0.00000000e+00,\n",
      "          0.00000000e+00,  0.00000000e+00,  0.00000000e+00,\n",
      "          0.00000000e+00,  0.00000000e+00,  0.00000000e+00,\n",
      "          0.00000000e+00,  0.00000000e+00,  0.00000000e+00,\n",
      "         -5.96046448e-08,  0.00000000e+00,  0.00000000e+00,\n",
      "          0.00000000e+00,  0.00000000e+00,  0.00000000e+00,\n",
      "          0.00000000e+00,  0.00000000e+00, -1.19209290e-07,\n",
      "          0.00000000e+00,  0.00000000e+00,  0.00000000e+00,\n",
      "          0.00000000e+00,  0.00000000e+00]],\n",
      "\n",
      "       [[ 0.00000000e+00,  0.00000000e+00,  0.00000000e+00,\n",
      "          0.00000000e+00,  0.00000000e+00, -5.96046448e-08,\n",
      "          1.49011612e-08,  0.00000000e+00,  0.00000000e+00,\n",
      "          0.00000000e+00,  0.00000000e+00,  0.00000000e+00,\n",
      "          0.00000000e+00,  0.00000000e+00,  0.00000000e+00,\n",
      "          0.00000000e+00,  0.00000000e+00,  0.00000000e+00,\n",
      "          0.00000000e+00,  0.00000000e+00,  0.00000000e+00,\n",
      "          0.00000000e+00,  0.00000000e+00,  0.00000000e+00,\n",
      "          0.00000000e+00,  0.00000000e+00,  0.00000000e+00,\n",
      "          0.00000000e+00,  0.00000000e+00,  0.00000000e+00,\n",
      "          0.00000000e+00,  0.00000000e+00,  0.00000000e+00,\n",
      "          0.00000000e+00,  0.00000000e+00,  0.00000000e+00,\n",
      "         -5.96046448e-08,  0.00000000e+00,  0.00000000e+00,\n",
      "          0.00000000e+00,  0.00000000e+00,  0.00000000e+00,\n",
      "          0.00000000e+00,  0.00000000e+00, -5.96046448e-08,\n",
      "          0.00000000e+00,  0.00000000e+00,  0.00000000e+00,\n",
      "          0.00000000e+00,  0.00000000e+00]],\n",
      "\n",
      "       [[ 3.52088690e-01,  3.23338509e-02, -5.14768839e-01,\n",
      "          8.05541277e-02,  1.18737578e-01,  1.37342361e+02,\n",
      "         -1.71050320e+01, -3.14718723e-01, -1.15848780e-02,\n",
      "          4.75492477e-02,  9.22286510e-03,  2.03348100e-01,\n",
      "         -2.09703922e-01,  1.60631180e-01,  1.10366094e+00,\n",
      "         -5.46044827e-01, -2.16737270e-01, -8.50567698e-01,\n",
      "          2.34314680e-01,  9.23523486e-01, -9.48761523e-01,\n",
      "          7.02858448e-01, -2.01593590e+00,  4.81092691e-01,\n",
      "         -1.52229071e-02,  1.54716015e-01, -5.43401957e-01,\n",
      "          7.49847889e-02,  2.72882223e-01, -1.93274379e-01,\n",
      "         -4.96187210e-01, -6.79093838e-01, -2.39559889e-01,\n",
      "         -1.50019693e+00,  5.68974972e-01, -3.20596457e-01,\n",
      "          1.38210281e+02, -3.47005248e-01, -1.99043393e-01,\n",
      "         -6.39814854e-01, -7.66882777e-01, -3.06319714e-01,\n",
      "         -5.46345711e-01,  2.31516838e-01,  1.38051620e+02,\n",
      "         -7.77933598e-02,  2.17606515e-01,  3.56950879e-01,\n",
      "          9.89242315e-01,  6.28420353e-01]],\n",
      "\n",
      "       [[ 0.00000000e+00,  0.00000000e+00,  0.00000000e+00,\n",
      "          0.00000000e+00,  0.00000000e+00,  0.00000000e+00,\n",
      "          0.00000000e+00,  0.00000000e+00,  0.00000000e+00,\n",
      "          0.00000000e+00,  0.00000000e+00,  0.00000000e+00,\n",
      "          0.00000000e+00,  0.00000000e+00,  0.00000000e+00,\n",
      "          0.00000000e+00,  0.00000000e+00,  0.00000000e+00,\n",
      "          0.00000000e+00,  0.00000000e+00,  0.00000000e+00,\n",
      "          0.00000000e+00,  0.00000000e+00,  0.00000000e+00,\n",
      "          0.00000000e+00,  0.00000000e+00,  0.00000000e+00,\n",
      "          0.00000000e+00,  0.00000000e+00,  0.00000000e+00,\n",
      "          0.00000000e+00,  0.00000000e+00,  0.00000000e+00,\n",
      "          0.00000000e+00,  0.00000000e+00,  0.00000000e+00,\n",
      "          0.00000000e+00,  0.00000000e+00,  0.00000000e+00,\n",
      "          0.00000000e+00,  0.00000000e+00,  0.00000000e+00,\n",
      "          0.00000000e+00,  0.00000000e+00,  0.00000000e+00,\n",
      "          0.00000000e+00,  0.00000000e+00,  0.00000000e+00,\n",
      "          0.00000000e+00,  0.00000000e+00]],\n",
      "\n",
      "       [[ 0.00000000e+00,  0.00000000e+00,  0.00000000e+00,\n",
      "          0.00000000e+00,  0.00000000e+00,  0.00000000e+00,\n",
      "          0.00000000e+00,  0.00000000e+00,  0.00000000e+00,\n",
      "          0.00000000e+00,  0.00000000e+00,  0.00000000e+00,\n",
      "          0.00000000e+00,  0.00000000e+00,  0.00000000e+00,\n",
      "          0.00000000e+00,  0.00000000e+00,  0.00000000e+00,\n",
      "          0.00000000e+00,  0.00000000e+00,  0.00000000e+00,\n",
      "          0.00000000e+00,  0.00000000e+00,  0.00000000e+00,\n",
      "          0.00000000e+00,  0.00000000e+00,  0.00000000e+00,\n",
      "          0.00000000e+00,  0.00000000e+00,  0.00000000e+00,\n",
      "          0.00000000e+00,  0.00000000e+00,  0.00000000e+00,\n",
      "          0.00000000e+00,  0.00000000e+00,  0.00000000e+00,\n",
      "          0.00000000e+00,  0.00000000e+00,  0.00000000e+00,\n",
      "          0.00000000e+00,  0.00000000e+00,  0.00000000e+00,\n",
      "          0.00000000e+00,  0.00000000e+00,  0.00000000e+00,\n",
      "          0.00000000e+00,  0.00000000e+00,  0.00000000e+00,\n",
      "          0.00000000e+00,  0.00000000e+00]],\n",
      "\n",
      "       [[ 0.00000000e+00,  0.00000000e+00,  0.00000000e+00,\n",
      "          0.00000000e+00,  0.00000000e+00,  0.00000000e+00,\n",
      "          0.00000000e+00,  0.00000000e+00,  0.00000000e+00,\n",
      "          0.00000000e+00,  0.00000000e+00,  0.00000000e+00,\n",
      "          0.00000000e+00,  0.00000000e+00,  0.00000000e+00,\n",
      "          0.00000000e+00,  0.00000000e+00,  0.00000000e+00,\n",
      "          0.00000000e+00,  0.00000000e+00,  0.00000000e+00,\n",
      "          0.00000000e+00,  0.00000000e+00,  0.00000000e+00,\n",
      "          0.00000000e+00,  0.00000000e+00,  0.00000000e+00,\n",
      "          0.00000000e+00,  0.00000000e+00,  0.00000000e+00,\n",
      "          0.00000000e+00,  0.00000000e+00,  0.00000000e+00,\n",
      "          0.00000000e+00,  0.00000000e+00,  0.00000000e+00,\n",
      "          0.00000000e+00,  0.00000000e+00,  0.00000000e+00,\n",
      "          0.00000000e+00,  0.00000000e+00,  0.00000000e+00,\n",
      "          0.00000000e+00,  0.00000000e+00,  0.00000000e+00,\n",
      "          0.00000000e+00,  0.00000000e+00,  0.00000000e+00,\n",
      "          0.00000000e+00,  0.00000000e+00]],\n",
      "\n",
      "       [[ 0.00000000e+00,  0.00000000e+00,  0.00000000e+00,\n",
      "          0.00000000e+00,  0.00000000e+00,  0.00000000e+00,\n",
      "          0.00000000e+00,  0.00000000e+00,  0.00000000e+00,\n",
      "          0.00000000e+00,  0.00000000e+00,  0.00000000e+00,\n",
      "          0.00000000e+00,  0.00000000e+00,  0.00000000e+00,\n",
      "          0.00000000e+00,  0.00000000e+00,  0.00000000e+00,\n",
      "          0.00000000e+00,  0.00000000e+00,  0.00000000e+00,\n",
      "          0.00000000e+00,  0.00000000e+00,  0.00000000e+00,\n",
      "          0.00000000e+00,  0.00000000e+00,  0.00000000e+00,\n",
      "          0.00000000e+00,  0.00000000e+00,  0.00000000e+00,\n",
      "          0.00000000e+00,  0.00000000e+00,  0.00000000e+00,\n",
      "          0.00000000e+00,  0.00000000e+00,  0.00000000e+00,\n",
      "          0.00000000e+00,  0.00000000e+00,  0.00000000e+00,\n",
      "          0.00000000e+00,  0.00000000e+00,  0.00000000e+00,\n",
      "          0.00000000e+00,  0.00000000e+00,  0.00000000e+00,\n",
      "          0.00000000e+00,  0.00000000e+00,  0.00000000e+00,\n",
      "          0.00000000e+00,  0.00000000e+00]],\n",
      "\n",
      "       [[ 0.00000000e+00,  0.00000000e+00,  0.00000000e+00,\n",
      "          0.00000000e+00,  0.00000000e+00,  0.00000000e+00,\n",
      "          0.00000000e+00,  0.00000000e+00,  0.00000000e+00,\n",
      "          0.00000000e+00,  0.00000000e+00,  0.00000000e+00,\n",
      "          0.00000000e+00,  0.00000000e+00,  0.00000000e+00,\n",
      "          0.00000000e+00,  0.00000000e+00,  0.00000000e+00,\n",
      "          0.00000000e+00,  0.00000000e+00,  0.00000000e+00,\n",
      "          0.00000000e+00,  0.00000000e+00,  0.00000000e+00,\n",
      "          0.00000000e+00,  0.00000000e+00,  0.00000000e+00,\n",
      "          0.00000000e+00,  0.00000000e+00,  0.00000000e+00,\n",
      "          0.00000000e+00,  0.00000000e+00,  0.00000000e+00,\n",
      "          0.00000000e+00,  0.00000000e+00,  0.00000000e+00,\n",
      "          0.00000000e+00,  0.00000000e+00,  0.00000000e+00,\n",
      "          0.00000000e+00,  0.00000000e+00,  0.00000000e+00,\n",
      "          0.00000000e+00,  0.00000000e+00,  0.00000000e+00,\n",
      "          0.00000000e+00,  0.00000000e+00,  0.00000000e+00,\n",
      "          0.00000000e+00,  0.00000000e+00]]], dtype=float32), y_history=Array([[[-4.2715110e-05, -2.0216219e-05, -3.2924581e-05,  9.1539696e-06,\n",
      "         -1.8453342e-05, -2.0982698e-06, -3.2598618e-06, -1.7751707e-05,\n",
      "          7.8000012e-06, -1.3988814e-05, -1.3520039e-06,  4.2001484e-06,\n",
      "         -1.4152611e-05,  2.4430454e-05, -3.2881275e-05,  2.8798357e-05,\n",
      "          4.1744439e-05,  1.6751233e-05,  2.5082147e-05, -1.9640662e-05,\n",
      "          2.3190863e-05, -3.8932078e-05,  3.2312237e-05, -4.4076703e-05,\n",
      "          1.6827136e-05,  1.4486257e-05,  2.1994114e-05, -3.6566984e-05,\n",
      "         -3.1893142e-05, -1.7409679e-05,  4.1306019e-05,  5.6679826e-05,\n",
      "         -1.2648059e-05,  3.0124560e-05, -1.0496005e-05,  2.8729672e-05,\n",
      "         -5.4324046e-06, -1.5812693e-05,  1.5056226e-05,  5.1788520e-05,\n",
      "          1.8317718e-05, -7.3952833e-06,  5.0992239e-05,  1.9301195e-05,\n",
      "          1.7890707e-06, -1.2898585e-05, -6.4672204e-06, -2.2394350e-05,\n",
      "         -4.0683895e-05, -2.7922913e-05]],\n",
      "\n",
      "       [[ 3.1118956e-03, -8.4566581e-04, -1.1174639e-02,  2.0266392e-03,\n",
      "          7.6840882e-04, -1.1421289e-02,  3.4078143e-03, -6.6666501e-03,\n",
      "          3.4177810e-04, -1.5053182e-04,  6.5326691e-05,  3.8024243e-03,\n",
      "         -4.6034213e-03,  4.4700457e-03,  1.6771048e-02, -7.4273767e-03,\n",
      "         -8.4273540e-04, -1.3521638e-02,  5.7876436e-03,  1.4580524e-02,\n",
      "         -1.4769844e-02,  9.4309635e-03, -3.2561038e-02,  5.2448516e-03,\n",
      "          9.0596417e-04,  3.6771407e-03, -7.8543061e-03, -1.2453485e-03,\n",
      "          2.4962835e-03, -4.5458623e-03, -5.6976881e-03, -7.7881771e-03,\n",
      "         -5.0142966e-03, -2.3808543e-02,  9.0943547e-03, -3.5396339e-03,\n",
      "         -1.2890766e-02, -7.0894826e-03, -2.3908196e-03, -7.4495059e-03,\n",
      "         -1.1968024e-02, -5.8024498e-03, -5.8912397e-03,  5.3378399e-03,\n",
      "         -2.8550798e-02, -2.2390832e-03,  3.3078077e-03,  4.6075233e-03,\n",
      "          1.4253611e-02,  8.9104064e-03]],\n",
      "\n",
      "       [[ 0.0000000e+00,  0.0000000e+00,  0.0000000e+00,  0.0000000e+00,\n",
      "          0.0000000e+00,  4.6566129e-10, -2.3283064e-10,  0.0000000e+00,\n",
      "          0.0000000e+00,  0.0000000e+00,  0.0000000e+00,  0.0000000e+00,\n",
      "          0.0000000e+00,  0.0000000e+00,  0.0000000e+00,  0.0000000e+00,\n",
      "          0.0000000e+00,  0.0000000e+00,  0.0000000e+00,  0.0000000e+00,\n",
      "          0.0000000e+00,  0.0000000e+00,  0.0000000e+00,  0.0000000e+00,\n",
      "          0.0000000e+00,  0.0000000e+00,  0.0000000e+00,  0.0000000e+00,\n",
      "          0.0000000e+00,  0.0000000e+00,  0.0000000e+00,  0.0000000e+00,\n",
      "          0.0000000e+00,  0.0000000e+00,  0.0000000e+00,  0.0000000e+00,\n",
      "         -9.3132257e-10,  0.0000000e+00,  0.0000000e+00,  0.0000000e+00,\n",
      "          0.0000000e+00,  0.0000000e+00,  0.0000000e+00,  0.0000000e+00,\n",
      "          1.8626451e-09,  0.0000000e+00,  0.0000000e+00,  0.0000000e+00,\n",
      "          0.0000000e+00,  0.0000000e+00]],\n",
      "\n",
      "       [[ 0.0000000e+00,  0.0000000e+00,  0.0000000e+00,  0.0000000e+00,\n",
      "          0.0000000e+00,  0.0000000e+00,  1.1641532e-10,  0.0000000e+00,\n",
      "          0.0000000e+00,  0.0000000e+00,  0.0000000e+00,  0.0000000e+00,\n",
      "          0.0000000e+00,  0.0000000e+00,  0.0000000e+00,  0.0000000e+00,\n",
      "          0.0000000e+00,  0.0000000e+00,  0.0000000e+00,  0.0000000e+00,\n",
      "          0.0000000e+00,  0.0000000e+00,  0.0000000e+00,  0.0000000e+00,\n",
      "          0.0000000e+00,  0.0000000e+00,  0.0000000e+00,  0.0000000e+00,\n",
      "          0.0000000e+00,  0.0000000e+00,  0.0000000e+00,  0.0000000e+00,\n",
      "          0.0000000e+00,  0.0000000e+00,  0.0000000e+00,  0.0000000e+00,\n",
      "          0.0000000e+00,  0.0000000e+00,  0.0000000e+00,  0.0000000e+00,\n",
      "          0.0000000e+00,  0.0000000e+00,  0.0000000e+00,  0.0000000e+00,\n",
      "          0.0000000e+00,  0.0000000e+00,  0.0000000e+00,  0.0000000e+00,\n",
      "          0.0000000e+00,  0.0000000e+00]],\n",
      "\n",
      "       [[ 1.3674133e-03,  2.0003607e-03,  9.3382001e-03, -1.9481737e-03,\n",
      "          8.9132955e-04,  7.1615111e-03, -1.9020661e-03,  5.4535400e-03,\n",
      "         -7.5421535e-04,  1.0701398e-03,  5.4648590e-05, -2.6862558e-03,\n",
      "          3.8714488e-03, -4.6491683e-03, -7.9436377e-03,  2.3820372e-03,\n",
      "         -2.4044460e-03,  7.2274487e-03, -5.4293363e-03, -7.5316667e-03,\n",
      "          7.3990859e-03, -2.9673155e-03,  1.7627284e-02,  8.9581692e-05,\n",
      "         -1.8705054e-03, -3.3992368e-03,  3.2590304e-03,  3.5284753e-03,\n",
      "          7.7585655e-04,  4.0640230e-03,  4.5087887e-04,  6.5271463e-04,\n",
      "          3.9469260e-03,  1.2434559e-02, -4.9608820e-03, -5.7897938e-05,\n",
      "          8.2207117e-03,  5.5762092e-03,  3.3712306e-04,  7.1761297e-04,\n",
      "          6.0285907e-03,  4.2015500e-03, -1.7836333e-04, -4.8205610e-03,\n",
      "          1.7349418e-02,  2.4802275e-03, -1.4977907e-03, -1.2480844e-03,\n",
      "         -5.8604605e-03, -3.3490201e-03]],\n",
      "\n",
      "       [[ 0.0000000e+00,  0.0000000e+00,  0.0000000e+00,  0.0000000e+00,\n",
      "          0.0000000e+00,  0.0000000e+00,  0.0000000e+00,  0.0000000e+00,\n",
      "          0.0000000e+00,  0.0000000e+00,  0.0000000e+00,  0.0000000e+00,\n",
      "          0.0000000e+00,  0.0000000e+00,  0.0000000e+00,  0.0000000e+00,\n",
      "          0.0000000e+00,  0.0000000e+00,  0.0000000e+00,  0.0000000e+00,\n",
      "          0.0000000e+00,  0.0000000e+00,  0.0000000e+00,  0.0000000e+00,\n",
      "          0.0000000e+00,  0.0000000e+00,  0.0000000e+00,  0.0000000e+00,\n",
      "          0.0000000e+00,  0.0000000e+00,  0.0000000e+00,  0.0000000e+00,\n",
      "          0.0000000e+00,  0.0000000e+00,  0.0000000e+00,  0.0000000e+00,\n",
      "          0.0000000e+00,  0.0000000e+00,  0.0000000e+00,  0.0000000e+00,\n",
      "          0.0000000e+00,  0.0000000e+00,  0.0000000e+00,  0.0000000e+00,\n",
      "          0.0000000e+00,  0.0000000e+00,  0.0000000e+00,  0.0000000e+00,\n",
      "          0.0000000e+00,  0.0000000e+00]],\n",
      "\n",
      "       [[ 0.0000000e+00,  0.0000000e+00,  0.0000000e+00,  0.0000000e+00,\n",
      "          0.0000000e+00,  0.0000000e+00,  0.0000000e+00,  0.0000000e+00,\n",
      "          0.0000000e+00,  0.0000000e+00,  0.0000000e+00,  0.0000000e+00,\n",
      "          0.0000000e+00,  0.0000000e+00,  0.0000000e+00,  0.0000000e+00,\n",
      "          0.0000000e+00,  0.0000000e+00,  0.0000000e+00,  0.0000000e+00,\n",
      "          0.0000000e+00,  0.0000000e+00,  0.0000000e+00,  0.0000000e+00,\n",
      "          0.0000000e+00,  0.0000000e+00,  0.0000000e+00,  0.0000000e+00,\n",
      "          0.0000000e+00,  0.0000000e+00,  0.0000000e+00,  0.0000000e+00,\n",
      "          0.0000000e+00,  0.0000000e+00,  0.0000000e+00,  0.0000000e+00,\n",
      "          0.0000000e+00,  0.0000000e+00,  0.0000000e+00,  0.0000000e+00,\n",
      "          0.0000000e+00,  0.0000000e+00,  0.0000000e+00,  0.0000000e+00,\n",
      "          0.0000000e+00,  0.0000000e+00,  0.0000000e+00,  0.0000000e+00,\n",
      "          0.0000000e+00,  0.0000000e+00]],\n",
      "\n",
      "       [[ 0.0000000e+00,  0.0000000e+00,  0.0000000e+00,  0.0000000e+00,\n",
      "          0.0000000e+00,  0.0000000e+00,  0.0000000e+00,  0.0000000e+00,\n",
      "          0.0000000e+00,  0.0000000e+00,  0.0000000e+00,  0.0000000e+00,\n",
      "          0.0000000e+00,  0.0000000e+00,  0.0000000e+00,  0.0000000e+00,\n",
      "          0.0000000e+00,  0.0000000e+00,  0.0000000e+00,  0.0000000e+00,\n",
      "          0.0000000e+00,  0.0000000e+00,  0.0000000e+00,  0.0000000e+00,\n",
      "          0.0000000e+00,  0.0000000e+00,  0.0000000e+00,  0.0000000e+00,\n",
      "          0.0000000e+00,  0.0000000e+00,  0.0000000e+00,  0.0000000e+00,\n",
      "          0.0000000e+00,  0.0000000e+00,  0.0000000e+00,  0.0000000e+00,\n",
      "          0.0000000e+00,  0.0000000e+00,  0.0000000e+00,  0.0000000e+00,\n",
      "          0.0000000e+00,  0.0000000e+00,  0.0000000e+00,  0.0000000e+00,\n",
      "          0.0000000e+00,  0.0000000e+00,  0.0000000e+00,  0.0000000e+00,\n",
      "          0.0000000e+00,  0.0000000e+00]],\n",
      "\n",
      "       [[ 0.0000000e+00,  0.0000000e+00,  0.0000000e+00,  0.0000000e+00,\n",
      "          0.0000000e+00,  0.0000000e+00,  0.0000000e+00,  0.0000000e+00,\n",
      "          0.0000000e+00,  0.0000000e+00,  0.0000000e+00,  0.0000000e+00,\n",
      "          0.0000000e+00,  0.0000000e+00,  0.0000000e+00,  0.0000000e+00,\n",
      "          0.0000000e+00,  0.0000000e+00,  0.0000000e+00,  0.0000000e+00,\n",
      "          0.0000000e+00,  0.0000000e+00,  0.0000000e+00,  0.0000000e+00,\n",
      "          0.0000000e+00,  0.0000000e+00,  0.0000000e+00,  0.0000000e+00,\n",
      "          0.0000000e+00,  0.0000000e+00,  0.0000000e+00,  0.0000000e+00,\n",
      "          0.0000000e+00,  0.0000000e+00,  0.0000000e+00,  0.0000000e+00,\n",
      "          0.0000000e+00,  0.0000000e+00,  0.0000000e+00,  0.0000000e+00,\n",
      "          0.0000000e+00,  0.0000000e+00,  0.0000000e+00,  0.0000000e+00,\n",
      "          0.0000000e+00,  0.0000000e+00,  0.0000000e+00,  0.0000000e+00,\n",
      "          0.0000000e+00,  0.0000000e+00]],\n",
      "\n",
      "       [[ 0.0000000e+00,  0.0000000e+00,  0.0000000e+00,  0.0000000e+00,\n",
      "          0.0000000e+00,  0.0000000e+00,  0.0000000e+00,  0.0000000e+00,\n",
      "          0.0000000e+00,  0.0000000e+00,  0.0000000e+00,  0.0000000e+00,\n",
      "          0.0000000e+00,  0.0000000e+00,  0.0000000e+00,  0.0000000e+00,\n",
      "          0.0000000e+00,  0.0000000e+00,  0.0000000e+00,  0.0000000e+00,\n",
      "          0.0000000e+00,  0.0000000e+00,  0.0000000e+00,  0.0000000e+00,\n",
      "          0.0000000e+00,  0.0000000e+00,  0.0000000e+00,  0.0000000e+00,\n",
      "          0.0000000e+00,  0.0000000e+00,  0.0000000e+00,  0.0000000e+00,\n",
      "          0.0000000e+00,  0.0000000e+00,  0.0000000e+00,  0.0000000e+00,\n",
      "          0.0000000e+00,  0.0000000e+00,  0.0000000e+00,  0.0000000e+00,\n",
      "          0.0000000e+00,  0.0000000e+00,  0.0000000e+00,  0.0000000e+00,\n",
      "          0.0000000e+00,  0.0000000e+00,  0.0000000e+00,  0.0000000e+00,\n",
      "          0.0000000e+00,  0.0000000e+00]]], dtype=float32), rho_history=Array([-2.0959795e+05, -9.5511448e-01, -5.0566733e+15,  5.7646075e+17,\n",
      "        2.2589082e-01,  0.0000000e+00,  0.0000000e+00,  0.0000000e+00,\n",
      "        0.0000000e+00,  0.0000000e+00], dtype=float32), gamma=Array(2768.744, dtype=float32), aux=None, failed_linesearch=Array(False, dtype=bool), num_fun_eval=Array(63, dtype=int32), num_grad_eval=Array(63, dtype=int32), num_linesearch_iter=Array(55, dtype=int32))\n"
     ]
    }
   ],
   "source": [
    "print(opt_res.state)"
   ]
  },
  {
   "cell_type": "code",
   "execution_count": 195,
   "id": "2d450414-3427-4d5a-87ae-dac6e481095c",
   "metadata": {},
   "outputs": [],
   "source": [
    "opt_res = exp_rbm.parallel_optimize(X[:10], ksd, maxiter=500)"
   ]
  },
  {
   "cell_type": "code",
   "execution_count": 198,
   "id": "7bef72af-6e16-49d3-98c8-4791140c8497",
   "metadata": {},
   "outputs": [
    {
     "data": {
      "text/plain": [
       "Array(127.46715, dtype=float32)"
      ]
     },
     "execution_count": 198,
     "metadata": {},
     "output_type": "execute_result"
    }
   ],
   "source": [
    "jnp.max(-opt_res)"
   ]
  },
  {
   "cell_type": "code",
   "execution_count": null,
   "id": "a48bcd60-3d74-417c-a323-5c7c3fdb9ebd",
   "metadata": {},
   "outputs": [],
   "source": []
  },
  {
   "cell_type": "code",
   "execution_count": null,
   "id": "6611a298-1b7b-4c57-9249-83fb2410c984",
   "metadata": {},
   "outputs": [],
   "source": []
  },
  {
   "cell_type": "code",
   "execution_count": null,
   "id": "1f225427-d23c-4e69-a532-d6233ac1d954",
   "metadata": {},
   "outputs": [],
   "source": []
  },
  {
   "cell_type": "markdown",
   "id": "c7455488-40d3-45f5-a67f-e82915e4efd4",
   "metadata": {},
   "source": [
    "# Load"
   ]
  },
  {
   "cell_type": "code",
   "execution_count": 2,
   "id": "51c75d34-135c-4e20-afde-fa7e0d21bfcd",
   "metadata": {},
   "outputs": [
    {
     "data": {
      "text/plain": [
       "[0.0, 0.1, 0.2, 0.3, 0.4, 0.5, 0.6, 0.7, 0.8, 0.9, 1.0]"
      ]
     },
     "execution_count": 2,
     "metadata": {},
     "output_type": "execute_result"
    }
   ],
   "source": [
    "n = 500\n",
    "res_stats = pickle.load(open(f\"../data/rbm/stats_n{n}_seed2024.pkl\", \"rb\"))\n",
    "\n",
    "eps_ls = list(res_stats.keys())\n",
    "eps_ls"
   ]
  },
  {
   "cell_type": "code",
   "execution_count": 3,
   "id": "44336c0c-b35b-4b4f-8ecb-b17e9ad5ff4a",
   "metadata": {},
   "outputs": [],
   "source": [
    "# tau = pickle.load(open(f\"../data/rbm/tau_n{n}_seed2024.pkl\", \"rb\"))\n",
    "# tau"
   ]
  },
  {
   "cell_type": "code",
   "execution_count": 4,
   "id": "a84c5940-4e2f-4bc5-95e4-64847d51645c",
   "metadata": {},
   "outputs": [],
   "source": [
    "# change theta\n",
    "eps0_ls = [0.05, 0.1, 0.25]\n",
    "plot_df_ls = {}\n",
    "\n",
    "for i, eps0 in enumerate(eps0_ls):\n",
    "    # change theta\n",
    "    res_stats_new = copy.deepcopy(res_stats)\n",
    "    for eps in eps_ls:\n",
    "        tau = jnp.array(res_stats[eps][\"tilted_r_bootmax\"][\"tau\"])\n",
    "        theta_new = eps0 * tau**0.5\n",
    "        res_stats_new[eps] = exp_utils.change_theta(res_stats_new[eps], [\"tilted_r_bootmax\", \"tilted_r_boot\"], theta_new)\n",
    "    \n",
    "    # methods = {\"standard\": \"IMQ\", \"tilted\": \"Tilted\", \"tilted_r_boot\": \"R-KSD-Boot\", \"tilted_r_bootmax\": \"R-KSD-BootMax\"}\n",
    "    methods = {\"standard\": \"IMQ\", \"tilted\": \"Tilted\", \"tilted_r_boot\": \"R-KSD\"}\n",
    "    \n",
    "    plot_df = {\"eps\": [], \"nonsq_stat\": [], \"method\": [], \"rej\": []}\n",
    "    for eps in eps_ls:\n",
    "        for m, m_label in methods.items():\n",
    "            rr = res_stats_new[eps][m]\n",
    "            plot_df[\"nonsq_stat\"].extend(np.array(rr[\"nonsq_stat\"]).tolist())\n",
    "            plot_df[\"eps\"].extend([eps] * len(rr[\"nonsq_stat\"]))\n",
    "            \n",
    "            plot_df[\"rej\"].extend(rr[\"rej\"])\n",
    "            plot_df[\"method\"].extend([m_label] * len(rr[\"nonsq_stat\"]))\n",
    "    \n",
    "    plot_df = pd.DataFrame(plot_df)\n",
    "    plot_df_ls[eps0] = plot_df"
   ]
  },
  {
   "cell_type": "code",
   "execution_count": 14,
   "id": "71eb2794-0434-48f8-a7d9-bfbff7602e55",
   "metadata": {},
   "outputs": [
    {
     "data": {
      "image/png": "[encoded data removed]",
      "text/plain": [
       "<Figure size 1350x200 with 3 Axes>"
      ]
     },
     "metadata": {},
     "output_type": "display_data"
    }
   ],
   "source": [
    "_, axes = plt.subplots(ncols=len(eps0_ls), figsize=(4.5*len(eps0_ls), 2))\n",
    "\n",
    "for i, eps0 in enumerate(eps0_ls):\n",
    "    plot_df = plot_df_ls[eps0]\n",
    "\n",
    "    ax = axes[i]\n",
    "    _ = sns.lineplot(ax=ax, data=plot_df, x=\"eps\", y=\"rej\", hue=\"method\", style=\"method\", markers=True, err_style=\"bars\")\n",
    "    ax.axvline(eps0, color=\"k\", linestyle=\"-.\", label=r\"$\\epsilon_0$\")\n",
    "    ax.axhline(0.05, color=\"grey\", linestyle=\"--\", label=r\"$\\alpha=0.05$\")\n",
    "    ax.set_xlabel(\"Contamination ratio\", fontsize=14)\n",
    "    ax.set_ylabel(\"Rejection rate\", fontsize=14)\n",
    "    ax.tick_params(axis=\"both\", labelsize=11)\n",
    "    ax.set_title(rf\"$\\epsilon_0={eps0}$\", fontsize=14)\n",
    "    if i > 0:\n",
    "        ax.legend([],[], frameon=False)\n",
    "        ax.get_yaxis().set_ticks([])\n",
    "        ax.set_ylabel(\"\")\n",
    "\n",
    "lgd = axes[0].legend(bbox_to_anchor=(0.65, 1.11, 1, 0.2), loc=\"lower left\", ncol=6, fontsize=12)\n",
    "\n",
    "plt.subplots_adjust(wspace=0.1)\n",
    "# plt.savefig(\"../figs/robust/rbm.pdf\", bbox_extra_artists=(lgd,), bbox_inches=\"tight\")"
   ]
  },
  {
   "cell_type": "markdown",
   "id": "d8adc01b-ac70-426c-b672-aed170703513",
   "metadata": {},
   "source": [
    "# Samples"
   ]
  },
  {
   "cell_type": "code",
   "execution_count": 12,
   "id": "125af023-99e9-49ac-9435-15ce24f60732",
   "metadata": {},
   "outputs": [],
   "source": [
    "X_res = pickle.load(open(f\"../data/rbm/X_res_n{n}_seed2024.pkl\", \"rb\"))\n",
    "score_res = pickle.load(open(f\"../data/rbm/score_res_n{n}_seed2024.pkl\", \"rb\"))"
   ]
  },
  {
   "cell_type": "code",
   "execution_count": 17,
   "id": "1375902d-b6df-4e65-a7c3-6910cba76308",
   "metadata": {},
   "outputs": [
    {
     "data": {
      "image/png": "[encoded data removed]",
      "text/plain": [
       "<Figure size 640x480 with 1 Axes>"
      ]
     },
     "metadata": {},
     "output_type": "display_data"
    }
   ],
   "source": [
    "eps = 0.1\n",
    "X = X_res[eps][0]\n",
    "\n",
    "_ = plt.scatter(X[:, 0], X[:, 1])"
   ]
  },
  {
   "cell_type": "code",
   "execution_count": 25,
   "id": "86f125dc-42b4-4168-a373-15e926889b83",
   "metadata": {},
   "outputs": [
    {
     "data": {
      "text/plain": [
       "0.094"
      ]
     },
     "execution_count": 25,
     "metadata": {},
     "output_type": "execute_result"
    }
   ],
   "source": [
    "np.array(X)[np.abs(X[:, 0]) < .5].shape[0] / X.shape[0]"
   ]
  },
  {
   "cell_type": "markdown",
   "id": "737350ff-586d-4cd8-95e3-b7f2c5ce5c63",
   "metadata": {},
   "source": [
    "# Sampling cost"
   ]
  },
  {
   "cell_type": "code",
   "execution_count": 6,
   "id": "c8b9b3b4-a9ef-4ae7-a60d-b0421853de2f",
   "metadata": {},
   "outputs": [
    {
     "name": "stdout",
     "output_type": "stream",
     "text": [
      "Sampling data\n"
     ]
    },
    {
     "name": "stderr",
     "output_type": "stream",
     "text": [
      "/home/ma/x/xl6116/.envs/robust/lib/python3.9/site-packages/autograd/tracer.py:48: RuntimeWarning: overflow encountered in exp\n",
      "  return f_raw(*args, **kwargs)\n"
     ]
    },
    {
     "name": "stdout",
     "output_type": "stream",
     "text": [
      "4.919645547866821\n"
     ]
    }
   ],
   "source": [
    "import time\n",
    "from kgof import data as kgof_data\n",
    "import src.kgof_density as kgof_den\n",
    "\n",
    "\n",
    "dim = 50\n",
    "hdim = 10\n",
    "nrep = 1\n",
    "n = 500\n",
    "\n",
    "key = jax.random.key(2024)\n",
    "keys = jax.random.split(key, 4)\n",
    "\n",
    "b = jax.random.normal(keys[0], shape=(dim,))\n",
    "c = jax.random.normal(keys[1], shape=(hdim,))\n",
    "B = jax.random.bernoulli(keys[2], shape=(dim, hdim)).astype(jnp.float32) * 2 - 1.\n",
    "\n",
    "rbm_sampler = kgof_data.DSGaussBernRBM(B, b, c)\n",
    "rbm_model = kgof_den.GaussBernRBM(B, b, c)\n",
    "\n",
    "# generate raw data\n",
    "nrep_keys = jax.random.split(keys[3], nrep)\n",
    "nrep_seed = jax.random.key_data(nrep_keys)\n",
    "print(\"Sampling data\")\n",
    "t0 = time.time()\n",
    "X = rbm_sampler.sample(n, seed=nrep_seed[0, 1]).data()\n",
    "t1 = time.time()\n",
    "print(t1 - t0)\n",
    "\n",
    "score = rbm_model.grad_log(X)"
   ]
  },
  {
   "cell_type": "code",
   "execution_count": 4,
   "id": "620bdef6-9dcd-446a-bfeb-d378e04e9234",
   "metadata": {},
   "outputs": [
    {
     "data": {
      "text/plain": [
       "<Axes: xlabel='Lag', ylabel='Autocorrelation'>"
      ]
     },
     "execution_count": 4,
     "metadata": {},
     "output_type": "execute_result"
    },
    {
     "data": {
      "image/png": "[encoded data removed]",
      "text/plain": [
       "<Figure size 640x480 with 1 Axes>"
      ]
     },
     "metadata": {},
     "output_type": "display_data"
    }
   ],
   "source": [
    "pd.plotting.autocorrelation_plot(X[:, 0])"
   ]
  },
  {
   "cell_type": "code",
   "execution_count": 10,
   "id": "40e6c206-aaca-46c8-a7d8-f06bc48ad210",
   "metadata": {},
   "outputs": [
    {
     "name": "stdout",
     "output_type": "stream",
     "text": [
      "0.8506410121917725\n"
     ]
    }
   ],
   "source": [
    "# ksd\n",
    "\n",
    "weight_fn_args = {}\n",
    "kernel_args = {\"sigma_sq\": None, \"med_heuristic\": True, \"X\": X, \"Y\": X}\n",
    "\n",
    "weight_fn = kernels.PolyWeightFunction(**weight_fn_args)\n",
    "kernel0 = kernels.IMQ(**kernel_args)\n",
    "kernel = kernels.TiltedKernel(kernel=kernel0, weight_fn=weight_fn)\n",
    "\n",
    "ksd = metrics.KSD(kernel)\n",
    "\n",
    "score = rbm_model.grad_log(X)\n",
    "time2 = time.time()\n",
    "vstat = ksd(X, X, vstat=True, score=score)\n",
    "time3 = time.time()\n",
    "print(time3 - time2)"
   ]
  },
  {
   "cell_type": "code",
   "execution_count": null,
   "id": "3e15bbb6-5997-4628-a919-9a3485997c21",
   "metadata": {},
   "outputs": [],
   "source": []
  },
  {
   "cell_type": "code",
   "execution_count": null,
   "id": "9c6864a4-3596-4ff8-88b5-106e052aa3f9",
   "metadata": {},
   "outputs": [],
   "source": []
  },
  {
   "cell_type": "code",
   "execution_count": null,
   "id": "9967d3f8-ca8e-4318-a6d1-bc988dbb85ed",
   "metadata": {},
   "outputs": [],
   "source": []
  },
  {
   "cell_type": "code",
   "execution_count": null,
   "id": "2352f334-5b5e-4fbf-a56e-77f9e54ebf8b",
   "metadata": {},
   "outputs": [],
   "source": []
  }
 ],
 "metadata": {
  "kernelspec": {
   "display_name": "robust",
   "language": "python",
   "name": "robust"
  },
  "language_info": {
   "codemirror_mode": {
    "name": "ipython",
    "version": 3
   },
   "file_extension": ".py",
   "mimetype": "text/x-python",
   "name": "python",
   "nbconvert_exporter": "python",
   "pygments_lexer": "ipython3",
   "version": "3.9.5"
  }
 },
 "nbformat": 4,
 "nbformat_minor": 5
}
