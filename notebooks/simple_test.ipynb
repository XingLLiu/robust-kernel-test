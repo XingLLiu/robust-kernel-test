{
 "cells": [
  {
   "cell_type": "code",
   "execution_count": 1,
   "id": "d8c0257e-4e22-46ac-9154-9776715c9008",
   "metadata": {},
   "outputs": [],
   "source": [
    "%load_ext autoreload\n",
    "%autoreload 2\n",
    "\n",
    "import numpy as np\n",
    "import matplotlib.pyplot as plt\n",
    "from tqdm.notebook import tqdm, trange\n",
    "import seaborn as sns\n",
    "\n",
    "import src.metrics as metrics\n",
    "import src.kernels as kernels\n",
    "import src.bootstrap as boot"
   ]
  },
  {
   "cell_type": "markdown",
   "id": "78a99f46-a804-4fff-be97-71ac876daf11",
   "metadata": {
    "jp-MarkdownHeadingCollapsed": true
   },
   "source": [
    "# KSD standard kernel"
   ]
  },
  {
   "cell_type": "code",
   "execution_count": null,
   "id": "05d571b4-63ac-4a58-a91a-702cf3ecbdb3",
   "metadata": {},
   "outputs": [],
   "source": [
    "np.random.seed(2024)"
   ]
  },
  {
   "cell_type": "code",
   "execution_count": null,
   "id": "13a5d0c8-0f1d-496a-8282-63d7577b0569",
   "metadata": {},
   "outputs": [],
   "source": [
    "# simulate sampling distribution for stat\n",
    "stats_ls_all_eps = []\n",
    "eps_ls = [0.001, 0.005, 0.01, 0.05, 0.1]\n",
    "nreps = 1000\n",
    "\n",
    "for eps in eps_ls:\n",
    "    stat_ls = []\n",
    "    \n",
    "    ###\n",
    "    mean1 = np.zeros((dim,)) # data\n",
    "    mean2 = np.zeros((dim,)) # model\n",
    "    \n",
    "    Xs = np.random.multivariate_normal(mean1, np.eye(dim), (nreps, n))\n",
    "    n_outlier = max(1, int(n * eps))\n",
    "    Xs[:, :n_outlier] = outlier\n",
    "\n",
    "    score_fn = lambda x: - (x - mean2)\n",
    "    ###\n",
    "    \n",
    "    kernel = kernels.RBF(sigma_sq=2.)\n",
    "    ksd = metrics.KSD(kernel, score_fn=score_fn)\n",
    "    for X in tqdm(Xs):\n",
    "        stat_ls.append(ksd(X, X, vstat=True))\n",
    "\n",
    "    stats_ls_all_eps.append(stat_ls)"
   ]
  },
  {
   "cell_type": "markdown",
   "id": "1c201476-c496-44ce-b962-553635472eaa",
   "metadata": {
    "jp-MarkdownHeadingCollapsed": true
   },
   "source": [
    "# KSD tilted kernel"
   ]
  },
  {
   "cell_type": "code",
   "execution_count": 138,
   "id": "22409984-3d41-4b9e-8f04-feca6105a088",
   "metadata": {},
   "outputs": [],
   "source": [
    "def stats_against_outliers(outliers_ls, kernel_name, nreps, eps=0.01, dim=1, n=1000):\n",
    "    stats_ls_all_ol = []\n",
    "    \n",
    "    for outlier in outliers_ls:\n",
    "        stat_ls = []\n",
    "        \n",
    "        ###\n",
    "        mean1 = np.zeros((dim,)) # data\n",
    "        mean2 = np.zeros((dim,)) # model\n",
    "        \n",
    "        Xs = np.random.multivariate_normal(mean1, np.eye(dim), (nreps, n))\n",
    "        n_outlier = max(1, int(n * eps))\n",
    "        Xs[:, :n_outlier] = outlier\n",
    "    \n",
    "        score_fn = lambda x: - (x - mean2)\n",
    "        ###\n",
    "\n",
    "        if kernel_name == \"tilted\":\n",
    "            score_weight_fn = kernels.PolyWeightFunction()\n",
    "            kernel0 = kernels.RBF(sigma_sq=2.)\n",
    "            kernel = kernels.TiltedKernel(kernel=kernel0, weight_fn=score_weight_fn)\n",
    "        elif kernel_name == \"rbf\":\n",
    "            kernel = kernels.RBF(sigma_sq=2.)\n",
    "        \n",
    "        ksd = metrics.KSD(kernel, score_fn=score_fn)\n",
    "        for X in tqdm(Xs):\n",
    "            stat_ls.append(ksd(X, X))\n",
    "    \n",
    "        stats_ls_all_ol.append(stat_ls)\n",
    "\n",
    "    return stats_ls_all_ol"
   ]
  },
  {
   "cell_type": "code",
   "execution_count": 18,
   "id": "5e6849be-a87d-4704-b9d5-f683bf8c50a3",
   "metadata": {},
   "outputs": [],
   "source": [
    "np.random.seed(2024)"
   ]
  },
  {
   "cell_type": "code",
   "execution_count": 19,
   "id": "3845ee8c-21ba-4b37-8869-fe8efe6ab6e9",
   "metadata": {},
   "outputs": [],
   "source": [
    "# # simulate sampling distribution for stat\n",
    "# # res_ol = {\"RBF\": [], \"tilted\": []}\n",
    "# stats_ls_all_ol = []\n",
    "# outliers_ls = [0.001, 0.01, 0.1, 1., 10., 100.]\n",
    "# nreps = 10\n",
    "\n",
    "# for outlier in outliers_ls:\n",
    "#     stat_ls = []\n",
    "    \n",
    "#     ###\n",
    "#     mean1 = np.zeros((dim,)) # data\n",
    "#     mean2 = np.zeros((dim,)) # model\n",
    "    \n",
    "#     eps = 0.01\n",
    "#     Xs = np.random.multivariate_normal(mean1, np.eye(dim), (nreps, n))\n",
    "#     n_outlier = max(1, int(n * eps))\n",
    "#     Xs[:, :n_outlier] = outlier\n",
    "\n",
    "#     score_fn = lambda x: - (x - mean2)\n",
    "#     ###\n",
    "    \n",
    "#     score_weight_fn = kernels.ScoreWeightFunction(score_fn)\n",
    "#     kernel0 = kernels.RBF(sigma_sq=2.)\n",
    "#     kernel = kernels.TiltedKernel(kernel=kernel0, weight_fn=score_weight_fn)\n",
    "    \n",
    "#     ksd = metrics.KSD(kernel, score_fn=score_fn)\n",
    "#     for X in tqdm(Xs):\n",
    "#         stat_ls.append(ksd(X, X))\n",
    "\n",
    "#     stats_ls_all_ol.append(stat_ls)"
   ]
  },
  {
   "cell_type": "code",
   "execution_count": 136,
   "id": "09eed48f-86a9-49df-b5a0-1dc8c28e33fb",
   "metadata": {},
   "outputs": [],
   "source": [
    "outliers_ls = [0.001, 0.01, 0.1, 1., 10., 100.]"
   ]
  },
  {
   "cell_type": "code",
   "execution_count": 139,
   "id": "5031b6a4-7b0b-454d-bd61-47f352ce1698",
   "metadata": {},
   "outputs": [
    {
     "data": {
      "application/vnd.jupyter.widget-view+json": {
       "model_id": "03e038a875b143edb89fafe2470b1527",
       "version_major": 2,
       "version_minor": 0
      },
      "text/plain": [
       "  0%|          | 0/1000 [00:00<?, ?it/s]"
      ]
     },
     "metadata": {},
     "output_type": "display_data"
    }
   ],
   "source": [
    "stats_ls_all_ol_tilted_null = stats_against_outliers([0.], \"tilted\", eps=0., nreps=1000)"
   ]
  },
  {
   "cell_type": "code",
   "execution_count": 142,
   "id": "b17283d9-7f8d-4df1-aebb-ab7372880f03",
   "metadata": {},
   "outputs": [
    {
     "data": {
      "application/vnd.jupyter.widget-view+json": {
       "model_id": "31fbbf49200a40d088de2669639bbfb9",
       "version_major": 2,
       "version_minor": 0
      },
      "text/plain": [
       "  0%|          | 0/1000 [00:00<?, ?it/s]"
      ]
     },
     "metadata": {},
     "output_type": "display_data"
    },
    {
     "data": {
      "application/vnd.jupyter.widget-view+json": {
       "model_id": "8ec703196d5c4356a23e058c9b9c3d2c",
       "version_major": 2,
       "version_minor": 0
      },
      "text/plain": [
       "  0%|          | 0/1000 [00:00<?, ?it/s]"
      ]
     },
     "metadata": {},
     "output_type": "display_data"
    },
    {
     "data": {
      "application/vnd.jupyter.widget-view+json": {
       "model_id": "38b2d32d55894cbd964e02ed49c706bd",
       "version_major": 2,
       "version_minor": 0
      },
      "text/plain": [
       "  0%|          | 0/1000 [00:00<?, ?it/s]"
      ]
     },
     "metadata": {},
     "output_type": "display_data"
    },
    {
     "data": {
      "application/vnd.jupyter.widget-view+json": {
       "model_id": "e66aeab95aba4325832b3a86473215db",
       "version_major": 2,
       "version_minor": 0
      },
      "text/plain": [
       "  0%|          | 0/1000 [00:00<?, ?it/s]"
      ]
     },
     "metadata": {},
     "output_type": "display_data"
    },
    {
     "data": {
      "application/vnd.jupyter.widget-view+json": {
       "model_id": "a020d9eaed8b48d29b7e4e9639c0ddbe",
       "version_major": 2,
       "version_minor": 0
      },
      "text/plain": [
       "  0%|          | 0/1000 [00:00<?, ?it/s]"
      ]
     },
     "metadata": {},
     "output_type": "display_data"
    },
    {
     "data": {
      "application/vnd.jupyter.widget-view+json": {
       "model_id": "bae503e6bf9a44a88c2d2368de6358c2",
       "version_major": 2,
       "version_minor": 0
      },
      "text/plain": [
       "  0%|          | 0/1000 [00:00<?, ?it/s]"
      ]
     },
     "metadata": {},
     "output_type": "display_data"
    }
   ],
   "source": [
    "stats_ls_all_ol_tilted = stats_against_outliers(outliers_ls, \"tilted\", nreps=1000)"
   ]
  },
  {
   "cell_type": "code",
   "execution_count": 50,
   "id": "5f491d1f-908c-497b-842a-9a0a5a2b01f4",
   "metadata": {},
   "outputs": [
    {
     "data": {
      "application/vnd.jupyter.widget-view+json": {
       "model_id": "cd79cf48475d40d495801a08b751ec0b",
       "version_major": 2,
       "version_minor": 0
      },
      "text/plain": [
       "  0%|          | 0/1000 [00:00<?, ?it/s]"
      ]
     },
     "metadata": {},
     "output_type": "display_data"
    }
   ],
   "source": [
    "stats_ls_all_ol_rbf_null = stats_against_outliers([0.], \"rbf\", eps=0., nreps=1000)"
   ]
  },
  {
   "cell_type": "code",
   "execution_count": 32,
   "id": "d6d0fdc8-c8c6-48be-ad15-6a16cdb20aae",
   "metadata": {},
   "outputs": [
    {
     "data": {
      "application/vnd.jupyter.widget-view+json": {
       "model_id": "86f93c6a75b64161b431fbc247888967",
       "version_major": 2,
       "version_minor": 0
      },
      "text/plain": [
       "  0%|          | 0/1000 [00:00<?, ?it/s]"
      ]
     },
     "metadata": {},
     "output_type": "display_data"
    },
    {
     "data": {
      "application/vnd.jupyter.widget-view+json": {
       "model_id": "d79833a0dfa247e18ca29d41a9acb56a",
       "version_major": 2,
       "version_minor": 0
      },
      "text/plain": [
       "  0%|          | 0/1000 [00:00<?, ?it/s]"
      ]
     },
     "metadata": {},
     "output_type": "display_data"
    },
    {
     "data": {
      "application/vnd.jupyter.widget-view+json": {
       "model_id": "2dfef6f5f799449aa1c16fde10fdf352",
       "version_major": 2,
       "version_minor": 0
      },
      "text/plain": [
       "  0%|          | 0/1000 [00:00<?, ?it/s]"
      ]
     },
     "metadata": {},
     "output_type": "display_data"
    },
    {
     "data": {
      "application/vnd.jupyter.widget-view+json": {
       "model_id": "eac28fe9fbbb4d28a61cf6327c0dab25",
       "version_major": 2,
       "version_minor": 0
      },
      "text/plain": [
       "  0%|          | 0/1000 [00:00<?, ?it/s]"
      ]
     },
     "metadata": {},
     "output_type": "display_data"
    },
    {
     "data": {
      "application/vnd.jupyter.widget-view+json": {
       "model_id": "a68de02ce9be4931a3fa1f290efc6805",
       "version_major": 2,
       "version_minor": 0
      },
      "text/plain": [
       "  0%|          | 0/1000 [00:00<?, ?it/s]"
      ]
     },
     "metadata": {},
     "output_type": "display_data"
    },
    {
     "data": {
      "application/vnd.jupyter.widget-view+json": {
       "model_id": "d69a30796bd74e689ca1590b87cef3f9",
       "version_major": 2,
       "version_minor": 0
      },
      "text/plain": [
       "  0%|          | 0/1000 [00:00<?, ?it/s]"
      ]
     },
     "metadata": {},
     "output_type": "display_data"
    }
   ],
   "source": [
    "stats_ls_all_ol_rbf = stats_against_outliers(outliers_ls, \"rbf\", nreps=1000)"
   ]
  },
  {
   "cell_type": "code",
   "execution_count": 150,
   "id": "da7a58d3-bc9d-40a0-a9e8-f8c16d96233b",
   "metadata": {},
   "outputs": [],
   "source": [
    "res_ol = {\"tilted\": stats_ls_all_ol_tilted, \"rbf\": stats_ls_all_ol_rbf, \n",
    "          \"tilted_null\": stats_ls_all_ol_tilted_null, \"rbf_null\": stats_ls_all_ol_rbf_null}"
   ]
  },
  {
   "cell_type": "code",
   "execution_count": 252,
   "id": "5a4bf998-a635-468e-8d14-518097f65d47",
   "metadata": {},
   "outputs": [],
   "source": [
    "# import pickle\n",
    "# pickle.dump(res_ol, open(\"../res/ustats_outlier.pkl\", \"wb\"))\n",
    "# ustats_outlier = pickle.load(open(\"../res/ustats_outlier.pkl\", \"rb\"))"
   ]
  },
  {
   "cell_type": "code",
   "execution_count": 192,
   "id": "7eab0c36-4720-4585-83ff-b25843760c48",
   "metadata": {},
   "outputs": [
    {
     "data": {
      "image/png": "[encoded data removed]",
      "text/plain": [
       "<Figure size 900x600 with 6 Axes>"
      ]
     },
     "metadata": {},
     "output_type": "display_data"
    }
   ],
   "source": [
    "# true sampling distribution\n",
    "figs, axes = plt.subplots(nrows=2, ncols=3, figsize=(9, 6))\n",
    "\n",
    "for i, ww in enumerate(outliers_ls):\n",
    "    ax = axes.flatten()[i]\n",
    "    ax.hist(res_ol[\"tilted\"][i], bins=50, label=f\"outlier = {ww}\")\n",
    "    ax.hist(res_ol[\"tilted_null\"][0], bins=50, label=f\"null\")\n",
    "    # ax.set_xlim(0., 0.11)\n",
    "    ax.legend()\n",
    "\n",
    "# plt.savefig(\"../figs/ustats_ol_tilted.pdf\")"
   ]
  },
  {
   "cell_type": "code",
   "execution_count": 193,
   "id": "e4d28351-beba-4afe-9c07-c367c002f671",
   "metadata": {},
   "outputs": [
    {
     "data": {
      "image/png": "[encoded data removed]",
      "text/plain": [
       "<Figure size 900x600 with 6 Axes>"
      ]
     },
     "metadata": {},
     "output_type": "display_data"
    }
   ],
   "source": [
    "# true sampling distribution\n",
    "figs, axes = plt.subplots(nrows=2, ncols=3, figsize=(9, 6))\n",
    "\n",
    "for i, ww in enumerate(outliers_ls):\n",
    "    ax = axes.flatten()[i]\n",
    "    ax.hist(res_ol[\"rbf\"][i], bins=50, label=f\"outlier = {ww}\")\n",
    "    ax.hist(res_ol[\"rbf_null\"][0], bins=50, label=f\"null\")\n",
    "    ax.set_xlim(0.)\n",
    "    ax.legend()\n",
    "\n",
    "# plt.savefig(\"../figs/ustats_ol_rbf.pdf\")"
   ]
  },
  {
   "cell_type": "markdown",
   "id": "110f3fd0-a3fc-4bfd-a212-ca8b3784a48e",
   "metadata": {},
   "source": [
    "#### Check power"
   ]
  },
  {
   "cell_type": "code",
   "execution_count": 164,
   "id": "75fbd806-e9da-45b3-a630-39e68cbe6d22",
   "metadata": {},
   "outputs": [],
   "source": [
    "def stats_mean_shift(mean_ls, kernel_name, nreps, dim=1, n=1000):\n",
    "    stats_ls_all_ol = []\n",
    "    \n",
    "    for mean in mean_ls:\n",
    "        stat_ls = []\n",
    "        \n",
    "        ###\n",
    "        mean1 = np.eye(dim)[0] * mean # data\n",
    "        mean2 = np.zeros((dim,)) # model\n",
    "        \n",
    "        Xs = np.random.multivariate_normal(mean1, np.eye(dim), (nreps, n))    \n",
    "        score_fn = lambda x: - (x - mean2)\n",
    "        ###\n",
    "\n",
    "        if kernel_name == \"tilted\":\n",
    "            score_weight_fn = kernels.PolyWeightFunction()\n",
    "            kernel0 = kernels.RBF(sigma_sq=2.)\n",
    "            kernel = kernels.TiltedKernel(kernel=kernel0, weight_fn=score_weight_fn)\n",
    "        elif kernel_name == \"rbf\":\n",
    "            kernel = kernels.RBF(sigma_sq=2.)\n",
    "        \n",
    "        ksd = metrics.KSD(kernel, score_fn=score_fn)\n",
    "        for X in tqdm(Xs):\n",
    "            stat_ls.append(ksd(X, X))\n",
    "    \n",
    "        stats_ls_all_ol.append(stat_ls)\n",
    "\n",
    "    return stats_ls_all_ol"
   ]
  },
  {
   "cell_type": "code",
   "execution_count": 183,
   "id": "9951e995-6423-4ccc-a5e1-f9effd886eb2",
   "metadata": {},
   "outputs": [],
   "source": [
    "np.random.seed(2024)"
   ]
  },
  {
   "cell_type": "code",
   "execution_count": 184,
   "id": "977bf833-6240-4602-ba85-44f784acb0a8",
   "metadata": {},
   "outputs": [],
   "source": [
    "mean_ls = [1e-2, 1e-1, 1., 10., 100., 1000.]"
   ]
  },
  {
   "cell_type": "code",
   "execution_count": null,
   "id": "99ba3e51-baa2-48f5-b236-1019db1333f7",
   "metadata": {},
   "outputs": [
    {
     "data": {
      "application/vnd.jupyter.widget-view+json": {
       "model_id": "d3306fbda9cb4453a8bdbed93fcf003d",
       "version_major": 2,
       "version_minor": 0
      },
      "text/plain": [
       "  0%|          | 0/1000 [00:00<?, ?it/s]"
      ]
     },
     "metadata": {},
     "output_type": "display_data"
    }
   ],
   "source": [
    "stats_ls_all_ms_tilted = stats_mean_shift(mean_ls, \"tilted\", nreps=1000)"
   ]
  },
  {
   "cell_type": "code",
   "execution_count": null,
   "id": "353956af-bdbb-49e4-93ee-a9788d4740f3",
   "metadata": {},
   "outputs": [],
   "source": [
    "plt.plot(mean_ls, [np.mean(rr) for rr in stats_ls_all_ms_tilted])\n",
    "plt.xscale(\"log\")"
   ]
  },
  {
   "cell_type": "code",
   "execution_count": null,
   "id": "972bb85b-0f68-4700-a5bc-b7c5ac9326ae",
   "metadata": {},
   "outputs": [],
   "source": [
    "res_ms = {\"tilted\": stats_ls_all_ms_tilted,  \n",
    "          \"tilted_null\": stats_ls_all_ol_tilted_null}"
   ]
  },
  {
   "cell_type": "code",
   "execution_count": null,
   "id": "475be4f1-e5d1-45db-b81b-d16f171990ff",
   "metadata": {},
   "outputs": [],
   "source": [
    "# pickle.dump(res_ms, open(\"../res/ustats_ms.pkl\", \"wb\"))"
   ]
  },
  {
   "cell_type": "code",
   "execution_count": 194,
   "id": "7920bd9a-9f0f-4234-a079-af046eef1128",
   "metadata": {},
   "outputs": [
    {
     "data": {
      "image/png": "[encoded data removed]",
      "text/plain": [
       "<Figure size 900x600 with 6 Axes>"
      ]
     },
     "metadata": {},
     "output_type": "display_data"
    }
   ],
   "source": [
    "# true sampling distribution\n",
    "figs, axes = plt.subplots(nrows=2, ncols=3, figsize=(9, 6))\n",
    "\n",
    "for i, ww in enumerate(mean_ls):\n",
    "    ax = axes.flatten()[i]\n",
    "    ax.hist(res_ms[\"tilted\"][i], bins=50, label=f\"outlier = {ww}\")\n",
    "    ax.hist(res_ms[\"tilted_null\"][0], bins=50, label=f\"null\")\n",
    "    ax.legend()\n",
    "\n",
    "# plt.savefig(\"../figs/ustats_ms_tilted.pdf\")"
   ]
  },
  {
   "cell_type": "markdown",
   "id": "88be40c7-53f4-43bc-a82c-43db99c1c599",
   "metadata": {},
   "source": [
    "#### Check that the simple test with tilted kernel is asymptotically valid\n",
    "Need $\\epsilon_{m, n} \\to 0$, $m \\to \\infty$"
   ]
  },
  {
   "cell_type": "code",
   "execution_count": 2,
   "id": "35b467bc-b3b5-4273-813c-cfe224cc1390",
   "metadata": {},
   "outputs": [],
   "source": [
    "def simple_test_outliers(outliers_ls, kernel_name, nreps, eps=0.01, dim=1, n=1000):\n",
    "    res = {\"stats\": [], \"pval\": [], \"boot_stat\": []}\n",
    "    \n",
    "    for outlier in outliers_ls:\n",
    "        stat_ls = []\n",
    "        pval_ls = []\n",
    "        boot_stats_ls = []\n",
    "        \n",
    "        ###\n",
    "        mean1 = np.zeros((dim,)) # data\n",
    "        mean2 = np.zeros((dim,)) # model\n",
    "        \n",
    "        Xs = np.random.multivariate_normal(mean1, np.eye(dim), (nreps, n))\n",
    "        n_outlier = max(1, int(n * eps))\n",
    "        Xs[:, :n_outlier] = outlier\n",
    "    \n",
    "        score_fn = lambda x: - (x - mean2)\n",
    "        ###\n",
    "\n",
    "        if kernel_name == \"tilted\":\n",
    "            score_weight_fn = kernels.PolyWeightFunction()\n",
    "            kernel0 = kernels.RBF(sigma_sq=2.)\n",
    "            kernel = kernels.TiltedKernel(kernel=kernel0, weight_fn=score_weight_fn)\n",
    "        elif kernel_name == \"rbf\":\n",
    "            kernel = kernels.RBF(sigma_sq=2.)\n",
    "        \n",
    "        ksd = metrics.KSD(kernel, score_fn=score_fn)\n",
    "        wild_boot = boot.WildBootstrap(ksd)\n",
    "        for X in tqdm(Xs):\n",
    "            # pval, stat = wild_boot.pval(X, X, return_test_stat=True)\n",
    "            pval, stat, boot_stats = wild_boot.pval(X, X, return_boot=True, return_stat=True)\n",
    "            stat_ls.append(stat)\n",
    "            pval_ls.append(pval)\n",
    "            boot_stats_ls.append(boot_stats)\n",
    "    \n",
    "        res[\"stats\"].append(stat_ls)\n",
    "        res[\"pval\"].append(pval_ls)\n",
    "        res[\"boot_stat\"].append(boot_stats_ls)\n",
    "\n",
    "    return res"
   ]
  },
  {
   "cell_type": "code",
   "execution_count": 6,
   "id": "7f2a000a-d55f-4ffb-bd3d-bf76a475669d",
   "metadata": {},
   "outputs": [],
   "source": [
    "np.random.seed(2024)"
   ]
  },
  {
   "cell_type": "code",
   "execution_count": 32,
   "id": "67cbdedf-a716-400f-99b6-1690f3d3c3da",
   "metadata": {},
   "outputs": [],
   "source": [
    "outliers_ls = [0.001, 0.01, 0.1, 1., 10., 100.]"
   ]
  },
  {
   "cell_type": "code",
   "execution_count": 8,
   "id": "39be6cd3-4e87-4790-8110-94598230cc6a",
   "metadata": {},
   "outputs": [
    {
     "data": {
      "application/vnd.jupyter.widget-view+json": {
       "model_id": "94460e2a0b464d17824c0604e47f0476",
       "version_major": 2,
       "version_minor": 0
      },
      "text/plain": [
       "  0%|          | 0/1000 [00:00<?, ?it/s]"
      ]
     },
     "metadata": {},
     "output_type": "display_data"
    },
    {
     "name": "stderr",
     "output_type": "stream",
     "text": [
      "No GPU/TPU found, falling back to CPU. (Set TF_CPP_MIN_LOG_LEVEL=0 and rerun for more info.)\n"
     ]
    }
   ],
   "source": [
    "res_null_tilted = simple_test_outliers([0.], \"tilted\", eps=0., nreps=1000)"
   ]
  },
  {
   "cell_type": "code",
   "execution_count": 30,
   "id": "bbbf06c0-c50d-4552-8b25-d83d405fe655",
   "metadata": {},
   "outputs": [
    {
     "data": {
      "image/png": "[encoded data removed]",
      "text/plain": [
       "<Figure size 600x300 with 2 Axes>"
      ]
     },
     "metadata": {},
     "output_type": "display_data"
    }
   ],
   "source": [
    "figs, axes = plt.subplots(nrows=1, ncols=2, figsize=(6, 3))\n",
    "\n",
    "ax = axes[0]\n",
    "_ = ax.hist(res_null_tilted[\"stats\"], bins=50)\n",
    "\n",
    "ax = axes[1]\n",
    "# _ = ax.hist(res_null_tilted[\"pval\"], bins=50)\n",
    "sns.ecdfplot(ax=ax, x=np.array(res_null_tilted[\"pval\"][0]))\n",
    "ax.plot([0., 1.], [0., 1.], linestyle=\"--\", color=\"grey\")\n",
    "ax.set_xlim(0., 1.)\n",
    "ax.set_ylim(0., 1.)\n",
    "\n",
    "plt.tight_layout()"
   ]
  },
  {
   "cell_type": "code",
   "execution_count": null,
   "id": "f29b86cf-eba9-48df-8f20-b0de90b9bcba",
   "metadata": {},
   "outputs": [
    {
     "data": {
      "application/vnd.jupyter.widget-view+json": {
       "model_id": "6993336733344b09bb5e8a356fc43481",
       "version_major": 2,
       "version_minor": 0
      },
      "text/plain": [
       "  0%|          | 0/1000 [00:00<?, ?it/s]"
      ]
     },
     "metadata": {},
     "output_type": "display_data"
    }
   ],
   "source": [
    "res_ol_tilted = simple_test_outliers(outliers_ls, \"tilted\", nreps=1000)"
   ]
  },
  {
   "cell_type": "code",
   "execution_count": null,
   "id": "7cb0ae01-b320-4240-ac79-49a00971307b",
   "metadata": {},
   "outputs": [],
   "source": [
    "fig, ax = plt.subplots(nrows=1, ncols=2, figsize=(3, 3))\n",
    "\n",
    "for i, kk in enumerate(outliers_ls):\n",
    "    sns.ecdfplot(ax=ax, x=np.array(res_ol_tilted[\"pval\"][i]), label=f\"outlier: {kk}\")\n",
    "\n",
    "ax.plot([0., 1.], [0., 1.], linestyle=\"--\", color=\"grey\")\n",
    "ax.set_xlim(0., 1.)\n",
    "ax.set_ylim(0., 1.)\n",
    "\n",
    "plt.tight_layout()"
   ]
  },
  {
   "cell_type": "markdown",
   "id": "73789c84-76e3-4132-acb7-403b3a3ce954",
   "metadata": {
    "jp-MarkdownHeadingCollapsed": true
   },
   "source": [
    "# Deviation threshold"
   ]
  },
  {
   "cell_type": "code",
   "execution_count": 2,
   "id": "4f31a6e8-ed2f-420c-b1e1-d739ad854142",
   "metadata": {},
   "outputs": [],
   "source": [
    "def make_contam_score(mu, eps):\n",
    "    \"\"\"\n",
    "    score function of (1-eps)*p(x) + eps*r(x), where p, r are Gaussians.\n",
    "    \"\"\"\n",
    "    mu_norm_sq = np.sum(mu**2)\n",
    "    mu_pd = np.reshape(mu, (1, -1))\n",
    "    def contam_score(x):\n",
    "        exp = np.exp(- 0.5 * mu_norm_sq + np.sum(mu_pd * x))\n",
    "        num = - (1 - eps) * x - eps * (x - mu_pd) * exp\n",
    "        denom = 1 - eps + eps * exp\n",
    "        return num / denom\n",
    "    return contam_score\n",
    "\n",
    "def stats_mean_shift_threshold(mean_ls, kernel_name, nreps, dim=1, n=1000, eps0=0.01, model=\"mean_shift\"):\n",
    "    stats_ls_all_ol = []\n",
    "    threshold_res = {\"threshold\": [], \"tau\": [], \"threshold_robust\": [],}\n",
    "    \n",
    "    for mean in mean_ls:\n",
    "        stat_ls = []\n",
    "        \n",
    "        ### 1. mean shift\n",
    "        mean1 = np.eye(dim)[0] * mean # data\n",
    "        mean2 = np.zeros((dim,)) # model\n",
    "        \n",
    "        Xs = np.random.multivariate_normal(mean1, np.eye(dim), (nreps, n))    \n",
    "        score_fn = lambda x: - (x - mean2)\n",
    "        ###\n",
    "\n",
    "        if kernel_name == \"tilted\":\n",
    "            score_weight_fn = kernels.PolyWeightFunction()\n",
    "            kernel0 = kernels.RBF(sigma_sq=2.)\n",
    "            kernel = kernels.TiltedKernel(kernel=kernel0, weight_fn=score_weight_fn)\n",
    "        elif kernel_name == \"rbf\":\n",
    "            kernel = kernels.RBF(sigma_sq=2.)\n",
    "        \n",
    "        ksd = metrics.KSD(kernel, score_fn=score_fn)\n",
    "        for X in tqdm(Xs):\n",
    "            stat_ls.append(ksd(X, X, vstat=True))\n",
    "    \n",
    "        stats_ls_all_ol.append(stat_ls)\n",
    "\n",
    "        # compute deviation threshold\n",
    "        test_thres = ksd.test_threshold(n)\n",
    "        tau = ksd.tau\n",
    "        threshold_res[\"threshold\"].append(test_thres)\n",
    "        threshold_res[\"tau\"].append(tau)\n",
    "        threshold_res[\"threshold_robust\"].append(ksd.test_threshold(n, m0=int(n*(1-eps0)), method=\"eps_robust\"))\n",
    "\n",
    "    return stats_ls_all_ol, threshold_res"
   ]
  },
  {
   "cell_type": "code",
   "execution_count": 7,
   "id": "83bcbaa5-7ae4-4bf2-b69a-9813b7983ca4",
   "metadata": {},
   "outputs": [],
   "source": [
    "np.random.seed(2024)"
   ]
  },
  {
   "cell_type": "code",
   "execution_count": 8,
   "id": "057b5be8-3996-453b-96c1-22afde11cdff",
   "metadata": {},
   "outputs": [
    {
     "name": "stdout",
     "output_type": "stream",
     "text": [
      "eps0: 0.01\n"
     ]
    },
    {
     "data": {
      "application/vnd.jupyter.widget-view+json": {
       "model_id": "d72458f4ce3e45f2b3390aa4f67dc1b4",
       "version_major": 2,
       "version_minor": 0
      },
      "text/plain": [
       "  0%|          | 0/100 [00:00<?, ?it/s]"
      ]
     },
     "metadata": {},
     "output_type": "display_data"
    },
    {
     "data": {
      "application/vnd.jupyter.widget-view+json": {
       "model_id": "e773f456eaae4c56985b6a7e50986aee",
       "version_major": 2,
       "version_minor": 0
      },
      "text/plain": [
       "  0%|          | 0/100 [00:00<?, ?it/s]"
      ]
     },
     "metadata": {},
     "output_type": "display_data"
    },
    {
     "data": {
      "application/vnd.jupyter.widget-view+json": {
       "model_id": "e8954dc5e62f4a3c984eb48f3b92f4dd",
       "version_major": 2,
       "version_minor": 0
      },
      "text/plain": [
       "  0%|          | 0/100 [00:00<?, ?it/s]"
      ]
     },
     "metadata": {},
     "output_type": "display_data"
    },
    {
     "data": {
      "application/vnd.jupyter.widget-view+json": {
       "model_id": "ba56ef96d8294de380c2f7a585bdf947",
       "version_major": 2,
       "version_minor": 0
      },
      "text/plain": [
       "  0%|          | 0/100 [00:00<?, ?it/s]"
      ]
     },
     "metadata": {},
     "output_type": "display_data"
    },
    {
     "data": {
      "application/vnd.jupyter.widget-view+json": {
       "model_id": "1b8d1786285442e48547eed31e831038",
       "version_major": 2,
       "version_minor": 0
      },
      "text/plain": [
       "  0%|          | 0/100 [00:00<?, ?it/s]"
      ]
     },
     "metadata": {},
     "output_type": "display_data"
    },
    {
     "data": {
      "application/vnd.jupyter.widget-view+json": {
       "model_id": "2b33cf85bee146de8970159ec24200c0",
       "version_major": 2,
       "version_minor": 0
      },
      "text/plain": [
       "  0%|          | 0/100 [00:00<?, ?it/s]"
      ]
     },
     "metadata": {},
     "output_type": "display_data"
    },
    {
     "data": {
      "application/vnd.jupyter.widget-view+json": {
       "model_id": "0ae6665b5dde4be4b5ed4c0af336fdc8",
       "version_major": 2,
       "version_minor": 0
      },
      "text/plain": [
       "  0%|          | 0/100 [00:00<?, ?it/s]"
      ]
     },
     "metadata": {},
     "output_type": "display_data"
    },
    {
     "data": {
      "application/vnd.jupyter.widget-view+json": {
       "model_id": "470fa8ef49444649b47567b9f2917085",
       "version_major": 2,
       "version_minor": 0
      },
      "text/plain": [
       "  0%|          | 0/100 [00:00<?, ?it/s]"
      ]
     },
     "metadata": {},
     "output_type": "display_data"
    },
    {
     "name": "stdout",
     "output_type": "stream",
     "text": [
      "eps0: 0.05\n"
     ]
    },
    {
     "data": {
      "application/vnd.jupyter.widget-view+json": {
       "model_id": "2068a9addfb94ab59ab0f2a6b026bcef",
       "version_major": 2,
       "version_minor": 0
      },
      "text/plain": [
       "  0%|          | 0/100 [00:00<?, ?it/s]"
      ]
     },
     "metadata": {},
     "output_type": "display_data"
    },
    {
     "data": {
      "application/vnd.jupyter.widget-view+json": {
       "model_id": "87d1c6866e6240d99f2df741ae0d9827",
       "version_major": 2,
       "version_minor": 0
      },
      "text/plain": [
       "  0%|          | 0/100 [00:00<?, ?it/s]"
      ]
     },
     "metadata": {},
     "output_type": "display_data"
    },
    {
     "data": {
      "application/vnd.jupyter.widget-view+json": {
       "model_id": "fd746c98b8824f2aa2b444347b1fb7c8",
       "version_major": 2,
       "version_minor": 0
      },
      "text/plain": [
       "  0%|          | 0/100 [00:00<?, ?it/s]"
      ]
     },
     "metadata": {},
     "output_type": "display_data"
    },
    {
     "data": {
      "application/vnd.jupyter.widget-view+json": {
       "model_id": "a0b055e9a25341ee98519fc4be6bdc7a",
       "version_major": 2,
       "version_minor": 0
      },
      "text/plain": [
       "  0%|          | 0/100 [00:00<?, ?it/s]"
      ]
     },
     "metadata": {},
     "output_type": "display_data"
    },
    {
     "data": {
      "application/vnd.jupyter.widget-view+json": {
       "model_id": "d4ce286b731846df903d87d3bf00e574",
       "version_major": 2,
       "version_minor": 0
      },
      "text/plain": [
       "  0%|          | 0/100 [00:00<?, ?it/s]"
      ]
     },
     "metadata": {},
     "output_type": "display_data"
    },
    {
     "data": {
      "application/vnd.jupyter.widget-view+json": {
       "model_id": "f425032c704841d09447374662f72f3f",
       "version_major": 2,
       "version_minor": 0
      },
      "text/plain": [
       "  0%|          | 0/100 [00:00<?, ?it/s]"
      ]
     },
     "metadata": {},
     "output_type": "display_data"
    },
    {
     "data": {
      "application/vnd.jupyter.widget-view+json": {
       "model_id": "50ad0f735ea746ccb570ffd32e31ca8c",
       "version_major": 2,
       "version_minor": 0
      },
      "text/plain": [
       "  0%|          | 0/100 [00:00<?, ?it/s]"
      ]
     },
     "metadata": {},
     "output_type": "display_data"
    },
    {
     "data": {
      "application/vnd.jupyter.widget-view+json": {
       "model_id": "e84846e70a8349798f001d436b418d4b",
       "version_major": 2,
       "version_minor": 0
      },
      "text/plain": [
       "  0%|          | 0/100 [00:00<?, ?it/s]"
      ]
     },
     "metadata": {},
     "output_type": "display_data"
    },
    {
     "name": "stdout",
     "output_type": "stream",
     "text": [
      "eps0: 0.1\n"
     ]
    },
    {
     "data": {
      "application/vnd.jupyter.widget-view+json": {
       "model_id": "64a75993cada443a919e82589c43ce7f",
       "version_major": 2,
       "version_minor": 0
      },
      "text/plain": [
       "  0%|          | 0/100 [00:00<?, ?it/s]"
      ]
     },
     "metadata": {},
     "output_type": "display_data"
    },
    {
     "data": {
      "application/vnd.jupyter.widget-view+json": {
       "model_id": "b7a5cf49356a4834806625f155c05b5b",
       "version_major": 2,
       "version_minor": 0
      },
      "text/plain": [
       "  0%|          | 0/100 [00:00<?, ?it/s]"
      ]
     },
     "metadata": {},
     "output_type": "display_data"
    },
    {
     "data": {
      "application/vnd.jupyter.widget-view+json": {
       "model_id": "6ed1e9703c79428aa199a5ae06c026e5",
       "version_major": 2,
       "version_minor": 0
      },
      "text/plain": [
       "  0%|          | 0/100 [00:00<?, ?it/s]"
      ]
     },
     "metadata": {},
     "output_type": "display_data"
    },
    {
     "data": {
      "application/vnd.jupyter.widget-view+json": {
       "model_id": "f905252119a04b7b805813a5efbafedc",
       "version_major": 2,
       "version_minor": 0
      },
      "text/plain": [
       "  0%|          | 0/100 [00:00<?, ?it/s]"
      ]
     },
     "metadata": {},
     "output_type": "display_data"
    },
    {
     "data": {
      "application/vnd.jupyter.widget-view+json": {
       "model_id": "44c3ce50f9c64947ab76d0886fb51590",
       "version_major": 2,
       "version_minor": 0
      },
      "text/plain": [
       "  0%|          | 0/100 [00:00<?, ?it/s]"
      ]
     },
     "metadata": {},
     "output_type": "display_data"
    },
    {
     "data": {
      "application/vnd.jupyter.widget-view+json": {
       "model_id": "ae37f105a3fc488eaa7a075452650042",
       "version_major": 2,
       "version_minor": 0
      },
      "text/plain": [
       "  0%|          | 0/100 [00:00<?, ?it/s]"
      ]
     },
     "metadata": {},
     "output_type": "display_data"
    },
    {
     "data": {
      "application/vnd.jupyter.widget-view+json": {
       "model_id": "e151503e1ae34b6db58bae34d520c8a9",
       "version_major": 2,
       "version_minor": 0
      },
      "text/plain": [
       "  0%|          | 0/100 [00:00<?, ?it/s]"
      ]
     },
     "metadata": {},
     "output_type": "display_data"
    },
    {
     "data": {
      "application/vnd.jupyter.widget-view+json": {
       "model_id": "6377ac3f4ca14afd9024a2c9b5a2a874",
       "version_major": 2,
       "version_minor": 0
      },
      "text/plain": [
       "  0%|          | 0/100 [00:00<?, ?it/s]"
      ]
     },
     "metadata": {},
     "output_type": "display_data"
    }
   ],
   "source": [
    "# mean_ls = [0., 1e-1, 1., 10., 100.]\n",
    "mean_ls = [0., 1e-1, 1., 1.2, 1.4, 1.6, 1.8, 10.]\n",
    "eps0_ls = [0.01, 0.05, 0.1]\n",
    "\n",
    "stats_ls_all_ms_tilted_all = []\n",
    "thresh_res_ms_all = []\n",
    "\n",
    "for eps0 in eps0_ls:\n",
    "    print(\"eps0:\", eps0)\n",
    "    stats_ls_all_ms_tilted, thresh_res_ms = stats_mean_shift_threshold(mean_ls, \"tilted\", eps0=eps0, nreps=100)\n",
    "    stats_ls_all_ms_tilted_all.append(stats_ls_all_ms_tilted)\n",
    "    thresh_res_ms_all.append(thresh_res_ms)"
   ]
  },
  {
   "cell_type": "code",
   "execution_count": null,
   "id": "173ffb39-e7bf-4f30-90f2-3307e14d988e",
   "metadata": {},
   "outputs": [],
   "source": [
    "# np.random.seed(1)\n",
    "# _ = stats_mean_shift_threshold([0., 1e-1], \"tilted\", nreps=2)\n",
    "# # _[0]"
   ]
  },
  {
   "cell_type": "code",
   "execution_count": 9,
   "id": "6ae29606-1a9b-4813-827d-02e98c0318f5",
   "metadata": {},
   "outputs": [
    {
     "data": {
      "image/png": "[encoded data removed]",
      "text/plain": [
       "<Figure size 1200x600 with 8 Axes>"
      ]
     },
     "metadata": {},
     "output_type": "display_data"
    }
   ],
   "source": [
    "# true sampling distribution\n",
    "figs, axes = plt.subplots(nrows=2, ncols=4, figsize=(12, 6))\n",
    "\n",
    "for i, ww in enumerate(mean_ls):\n",
    "    ax = axes.flatten()[i]\n",
    "    ax.hist(stats_ls_all_ms_tilted[i], bins=50, label=f\"mean shift = {ww}\")\n",
    "    # ax.hist(stats_ls_all_ms_tilted[\"tilted_null\"][0], bins=50, label=f\"null\")\n",
    "    ax.axvline(thresh_res_ms[\"threshold\"][i], color=\"gray\", linestyle=\"-\", linewidth=3)\n",
    "    ax.axvline(thresh_res_ms[\"threshold_robust\"][i], color=\"C2\", linestyle=\"--\")\n",
    "    ax.legend()"
   ]
  },
  {
   "cell_type": "code",
   "execution_count": 56,
   "id": "1940f44f-fdaa-4fc0-89fc-257309413818",
   "metadata": {},
   "outputs": [
    {
     "data": {
      "image/png": "[encoded data removed]",
      "text/plain": [
       "<Figure size 900x300 with 3 Axes>"
      ]
     },
     "metadata": {},
     "output_type": "display_data"
    }
   ],
   "source": [
    "figs, axes = plt.subplots(nrows=1, ncols=len(eps0_ls), figsize=(3*len(eps0_ls), 3))\n",
    "\n",
    "for i, ax in enumerate(axes.flatten()):\n",
    "    stats_ls_all_ms_tilted = stats_ls_all_ms_tilted_all[i]\n",
    "    thresh_res_ms = thresh_res_ms_all[i]\n",
    "    \n",
    "    robust_rej = [np.mean(np.array(ss) > tt) for ss, tt in zip(stats_ls_all_ms_tilted, thresh_res_ms[\"threshold_robust\"])]\n",
    "    ax.scatter(mean_ls, robust_rej)\n",
    "    ax.set_xscale(\"log\")\n",
    "    ax.set_ylabel(\"rejection rate\")\n",
    "    ax.set_xlabel(\"mean shift\")\n",
    "    ax.set_title(f\"eps0: {eps0_ls[i]}\")\n",
    "    ax.set_ylim(-0.05, 1.05)\n",
    "    ax.set_xlim(mean_ls[0] + 0.05, mean_ls[-1] + 5.)\n",
    "\n",
    "plt.tight_layout()"
   ]
  },
  {
   "cell_type": "code",
   "execution_count": 11,
   "id": "ee67d496-81eb-40c6-ac55-b56d35e91e56",
   "metadata": {},
   "outputs": [],
   "source": [
    "def ksd_experiment_single(kernel_class, weight_fn_class, Xs, score_fn, theta, nboot=500, alpha=0.05):\n",
    "    res = {\n",
    "        \"deviation\": {\"val\": [], \"threshold\": [], \"rej\": [], \"tau\": []},\n",
    "    }\n",
    "\n",
    "    for X in tqdm(Xs, total=Xs.shape[0]):\n",
    "        weight_fn = weight_fn_class()\n",
    "        kernel0 = kernel_class(sigma_sq=2.)\n",
    "        kernel = kernels.TiltedKernel(kernel=kernel0, weight_fn=weight_fn)\n",
    "    \n",
    "        ksd = metrics.KSD(kernel, score_fn=score_fn)\n",
    "        val = ksd(X, X, vstat=True)\n",
    "        threshold = ksd.test_threshold(X.shape[0])\n",
    "        \n",
    "        # 1. deviation bound\n",
    "        # rej = mmd.reverse_test(X, Y, theta, alpha)\n",
    "        rej = np.float32(val > threshold)\n",
    "        \n",
    "        # save results\n",
    "        res[\"deviation\"][\"val\"].append(val)\n",
    "        res[\"deviation\"][\"threshold\"].append(threshold)\n",
    "        res[\"deviation\"][\"rej\"].append(rej)\n",
    "        res[\"deviation\"][\"tau\"].append(ksd.tau)\n",
    "        \n",
    "    return res\n",
    "\n",
    "def ksd_experiment(kernel_class, weight_fn_class, Xs, score_fns, theta, keys, nboot=500):\n",
    "    \"\"\"\n",
    "    Xs: [array(nrep, n, d), ...]\n",
    "    Ys: [array(nrep, n, d), ...]\n",
    "    \"\"\"\n",
    "    res = {}\n",
    "    for Xs_i, score_fn_i, kk in zip(Xs, score_fns, keys):\n",
    "        print(\"key:\", kk)\n",
    "        res[kk] = ksd_experiment_single(kernel_class, weight_fn_class, Xs_i, score_fn_i, theta, nboot=nboot)\n",
    "\n",
    "    return res\n",
    "    "
   ]
  },
  {
   "cell_type": "code",
   "execution_count": 17,
   "id": "3a070a47-4e09-4cb2-bf63-b71ab35f27f2",
   "metadata": {},
   "outputs": [],
   "source": [
    "np.random.seed(2024)"
   ]
  },
  {
   "cell_type": "code",
   "execution_count": 18,
   "id": "cc2cac11-425b-42b5-975e-b0f059e2da06",
   "metadata": {},
   "outputs": [],
   "source": [
    "nrep = 100\n",
    "n = 1000\n",
    "dim = 1\n",
    "mean1 = np.zeros((dim,)) # data\n",
    "mean2 = np.zeros((dim,)) # model\n",
    "\n",
    "# mean_ls = [1., 1.2, 1.4, 1.6, 1.8, 2.]\n",
    "mean_ls = [.1, .2, .4, .5, .6, .8]\n",
    "\n",
    "### Gaussian loc\n",
    "Xs = [\n",
    "    np.random.multivariate_normal(np.eye(dim)[0] * m, np.eye(dim), (nrep, n)) for m in mean_ls\n",
    "]\n",
    "\n",
    "score_fns = [lambda x: - (x - mean2) for _ in range(nrep)]\n",
    "\n",
    "### Gaussian with outliers\n",
    "# score_fns = [lambda x: - (x - mean2) for _ in range(nrep)]\n",
    "\n",
    "# eps = 0.01\n",
    "# outlier = 10.\n",
    "# Xs = np.random.multivariate_normal(mean1, np.eye(dim), (nrep, n))\n",
    "# n_outlier = max(1, int(n * eps))\n",
    "# Xs[:, :n_outlier] = outlier\n",
    "###\n",
    "\n",
    "weight_fn_class = kernels.PolyWeightFunction\n",
    "kernel_class = kernels.RBF"
   ]
  },
  {
   "cell_type": "code",
   "execution_count": 19,
   "id": "45a86154-7172-4b13-a1a1-7c27ebe7c5d9",
   "metadata": {},
   "outputs": [
    {
     "name": "stdout",
     "output_type": "stream",
     "text": [
      "key: 0.1\n"
     ]
    },
    {
     "data": {
      "application/vnd.jupyter.widget-view+json": {
       "model_id": "6dc12166077c4fbd8ece8570802fe8a0",
       "version_major": 2,
       "version_minor": 0
      },
      "text/plain": [
       "  0%|          | 0/100 [00:00<?, ?it/s]"
      ]
     },
     "metadata": {},
     "output_type": "display_data"
    },
    {
     "name": "stdout",
     "output_type": "stream",
     "text": [
      "key: 0.2\n"
     ]
    },
    {
     "data": {
      "application/vnd.jupyter.widget-view+json": {
       "model_id": "86af4a05cc234ca5998d49ec7f09c98f",
       "version_major": 2,
       "version_minor": 0
      },
      "text/plain": [
       "  0%|          | 0/100 [00:00<?, ?it/s]"
      ]
     },
     "metadata": {},
     "output_type": "display_data"
    },
    {
     "name": "stdout",
     "output_type": "stream",
     "text": [
      "key: 0.4\n"
     ]
    },
    {
     "data": {
      "application/vnd.jupyter.widget-view+json": {
       "model_id": "73840c3db28d4ab5980152a39f67f06b",
       "version_major": 2,
       "version_minor": 0
      },
      "text/plain": [
       "  0%|          | 0/100 [00:00<?, ?it/s]"
      ]
     },
     "metadata": {},
     "output_type": "display_data"
    },
    {
     "name": "stdout",
     "output_type": "stream",
     "text": [
      "key: 0.5\n"
     ]
    },
    {
     "data": {
      "application/vnd.jupyter.widget-view+json": {
       "model_id": "d7e041478a244f8aba4b45b185717f1c",
       "version_major": 2,
       "version_minor": 0
      },
      "text/plain": [
       "  0%|          | 0/100 [00:00<?, ?it/s]"
      ]
     },
     "metadata": {},
     "output_type": "display_data"
    },
    {
     "name": "stdout",
     "output_type": "stream",
     "text": [
      "key: 0.6\n"
     ]
    },
    {
     "data": {
      "application/vnd.jupyter.widget-view+json": {
       "model_id": "6e1fecb6b1ff44c19da104aa3a3d692d",
       "version_major": 2,
       "version_minor": 0
      },
      "text/plain": [
       "  0%|          | 0/100 [00:00<?, ?it/s]"
      ]
     },
     "metadata": {},
     "output_type": "display_data"
    },
    {
     "name": "stdout",
     "output_type": "stream",
     "text": [
      "key: 0.8\n"
     ]
    },
    {
     "data": {
      "application/vnd.jupyter.widget-view+json": {
       "model_id": "d6e536cff4b04443ad05b6aa46a92799",
       "version_major": 2,
       "version_minor": 0
      },
      "text/plain": [
       "  0%|          | 0/100 [00:00<?, ?it/s]"
      ]
     },
     "metadata": {},
     "output_type": "display_data"
    }
   ],
   "source": [
    "res_ms = ksd_experiment(kernel_class, weight_fn_class, Xs, score_fns, theta=0., keys=mean_ls)"
   ]
  },
  {
   "cell_type": "code",
   "execution_count": 22,
   "id": "fc5ac95d-63ad-48f4-b35f-8f14c4a1c069",
   "metadata": {},
   "outputs": [
    {
     "data": {
      "image/png": "[encoded data removed]",
      "text/plain": [
       "<Figure size 300x300 with 1 Axes>"
      ]
     },
     "metadata": {},
     "output_type": "display_data"
    }
   ],
   "source": [
    "# expect to see power for larger mean shifts\n",
    "fig, ax = plt.subplots(figsize=(3, 3))\n",
    "\n",
    "rej_rate = [np.mean(res_ms[kk][\"deviation\"][\"rej\"]) for kk in mean_ls]\n",
    "ax.scatter(mean_ls, rej_rate)\n",
    "ax.axhline(0.05, color=\"gray\", linestyle=\"--\")\n",
    "ax.set_xlabel(\"mean shift\")\n",
    "ax.set_ylabel(\"rejection prob\")\n",
    "# ax.set_xscale(\"log\")\n",
    "\n",
    "plt.tight_layout()"
   ]
  },
  {
   "cell_type": "markdown",
   "id": "2ee6ac64-15ee-4c3e-a305-35daa414b914",
   "metadata": {},
   "source": [
    "#### Check kernel upper bounds"
   ]
  },
  {
   "cell_type": "code",
   "execution_count": 46,
   "id": "77b155ae-15a3-4986-9119-29b38ff972df",
   "metadata": {},
   "outputs": [],
   "source": [
    "weight_fn = kernels.PolyWeightFunction()\n",
    "kernel0 = kernels.RBF(sigma_sq=2.)\n",
    "kernel = kernels.TiltedKernel(kernel=kernel0, weight_fn=weight_fn)"
   ]
  },
  {
   "cell_type": "code",
   "execution_count": 47,
   "id": "850a7767-6123-48ea-8c94-30fc880ade13",
   "metadata": {},
   "outputs": [],
   "source": [
    "xx = np.reshape(np.linspace(-3., 3., 1001), (-1, 1))\n",
    "gradgrad_k = kernel.gradgrad(xx, xx)\n"
   ]
  },
  {
   "cell_type": "code",
   "execution_count": 48,
   "id": "13cc2ee2-f6bb-4406-9d21-1353d54eb883",
   "metadata": {},
   "outputs": [
    {
     "data": {
      "text/plain": [
       "Array(1., dtype=float32)"
      ]
     },
     "execution_count": 48,
     "metadata": {},
     "output_type": "execute_result"
    }
   ],
   "source": [
    "np.max(gradgrad_k)"
   ]
  },
  {
   "cell_type": "code",
   "execution_count": 52,
   "id": "9cef0523-0cb8-45e5-a1ce-9caedcf63637",
   "metadata": {},
   "outputs": [
    {
     "data": {
      "text/plain": [
       "Array(1., dtype=float32, weak_type=True)"
      ]
     },
     "execution_count": 52,
     "metadata": {},
     "output_type": "execute_result"
    }
   ],
   "source": [
    "kernel.kernel.grad_second_sup"
   ]
  },
  {
   "cell_type": "code",
   "execution_count": null,
   "id": "36a02ab4-020d-478e-a80a-76c43f884887",
   "metadata": {},
   "outputs": [],
   "source": []
  },
  {
   "cell_type": "code",
   "execution_count": null,
   "id": "3d6482a2-9c6d-4fb8-bd39-dd2dd097713b",
   "metadata": {},
   "outputs": [],
   "source": []
  },
  {
   "cell_type": "code",
   "execution_count": null,
   "id": "b36fdcad-5798-40da-8317-58dbb727f2ea",
   "metadata": {},
   "outputs": [],
   "source": []
  },
  {
   "cell_type": "markdown",
   "id": "49afeb9f-ee8a-4ed1-bde4-6a218788aa22",
   "metadata": {},
   "source": [
    "# Simple KSD as $\\epsilon$ vary"
   ]
  },
  {
   "cell_type": "code",
   "execution_count": 2,
   "id": "44baecb2-57ac-453f-8986-75b4155efdb8",
   "metadata": {},
   "outputs": [],
   "source": [
    "def rej_rate_outliers(outlier, n_ls, eps_ls, kernel_name, nreps, dim=1, alpha=0.05):\n",
    "    res = {oo: {ee: {\n",
    "        \"tilted\": {\"stat\": [], \"pval\": [], \"rej\": [], \"boot_stats\": []},\n",
    "        \"rbf\": {\"stat\": [], \"pval\": [], \"rej\": [], \"boot_stats\": []}\n",
    "    } for ee in eps_ls} for oo in n_ls}\n",
    "    res[\"eps_ls\"] = eps_ls\n",
    "    \n",
    "    for n in n_ls:\n",
    "        for eps in eps_ls:\n",
    "            print(\"eps:\", eps)\n",
    "            ###\n",
    "            mean1 = np.zeros((dim,)) # data\n",
    "            mean2 = np.zeros((dim,)) # model\n",
    "            \n",
    "            Xs = np.random.multivariate_normal(mean1, np.eye(dim), (nreps, n))\n",
    "            n_outlier = max(1, int(n * eps))\n",
    "            Xs[:, :n_outlier] = outlier\n",
    "        \n",
    "            score_fn = lambda x: - (x - mean2)\n",
    "            ###\n",
    "    \n",
    "            # tilted\n",
    "            score_weight_fn = kernels.PolyWeightFunction()\n",
    "            kernel0 = kernels.RBF(sigma_sq=2.)\n",
    "            kernel = kernels.TiltedKernel(kernel=kernel0, weight_fn=score_weight_fn)\n",
    "\n",
    "            ksd = metrics.KSD(kernel, score_fn=score_fn)\n",
    "            wild_boot = boot.WildBootstrap(ksd)\n",
    "            for X in tqdm(Xs):                \n",
    "                pval, stat, boot_stats = wild_boot.pval(X, X, return_stat=True, return_boot=True)\n",
    "                res[n][eps][\"tilted\"][\"stat\"].append(stat)\n",
    "                res[n][eps][\"tilted\"][\"pval\"].append(pval)\n",
    "                res[n][eps][\"tilted\"][\"rej\"].append(int(pval > alpha))\n",
    "                res[n][eps][\"tilted\"][\"boot_stats\"].append(boot_stats)\n",
    "        \n",
    "            # RBF\n",
    "            kernel = kernels.RBF(sigma_sq=2.)\n",
    "            \n",
    "            ksd = metrics.KSD(kernel, score_fn=score_fn)\n",
    "            wild_boot = boot.WildBootstrap(ksd)\n",
    "            for X in tqdm(Xs):                \n",
    "                pval, stat, boot_stats = wild_boot.pval(X, X, return_stat=True, return_boot=True)\n",
    "                res[n][eps][\"rbf\"][\"stat\"].append(stat)\n",
    "                res[n][eps][\"rbf\"][\"pval\"].append(pval)\n",
    "                res[n][eps][\"rbf\"][\"rej\"].append(int(pval > alpha))\n",
    "                res[n][eps][\"rbf\"][\"boot_stats\"].append(boot_stats)\n",
    "        \n",
    "    return res"
   ]
  },
  {
   "cell_type": "code",
   "execution_count": 3,
   "id": "c98c3e36-f094-46d4-ba7e-92665729526a",
   "metadata": {},
   "outputs": [],
   "source": [
    "np.random.seed(2024)\n",
    "\n",
    "# outliers_ls = [1., 10.] # [0.1, 1., 10., 100.]\n",
    "outlier = 10.\n",
    "n = 500\n",
    "n_ls = [n] # [100, 500, 1000]\n",
    "eps_ls = [0.1, 0.05, 0.01, 0.005] # [0.01, 0.1]"
   ]
  },
  {
   "cell_type": "code",
   "execution_count": 4,
   "id": "6359aee6-80d6-4595-90a1-3978be8bd84b",
   "metadata": {},
   "outputs": [],
   "source": [
    "# res_ol = rej_rate_outliers(outlier, n_ls, eps_ls, kernel_name=\"tilted\", nreps=100)"
   ]
  },
  {
   "cell_type": "code",
   "execution_count": 5,
   "id": "474501d2-ac6d-466e-9fd0-bfff8d2e2723",
   "metadata": {
    "scrolled": true
   },
   "outputs": [
    {
     "name": "stderr",
     "output_type": "stream",
     "text": [
      "No GPU/TPU found, falling back to CPU. (Set TF_CPP_MIN_LOG_LEVEL=0 and rerun for more info.)\n"
     ]
    },
    {
     "name": "stdout",
     "output_type": "stream",
     "text": [
      "eps: 0.1\n"
     ]
    },
    {
     "data": {
      "application/vnd.jupyter.widget-view+json": {
       "model_id": "5efdcc673e11484492ddde047d32b5c8",
       "version_major": 2,
       "version_minor": 0
      },
      "text/plain": [
       "  0%|          | 0/100 [00:00<?, ?it/s]"
      ]
     },
     "metadata": {},
     "output_type": "display_data"
    },
    {
     "data": {
      "application/vnd.jupyter.widget-view+json": {
       "model_id": "81b1b4f4b2a74f4cb52a9a2085408789",
       "version_major": 2,
       "version_minor": 0
      },
      "text/plain": [
       "  0%|          | 0/100 [00:00<?, ?it/s]"
      ]
     },
     "metadata": {},
     "output_type": "display_data"
    },
    {
     "name": "stdout",
     "output_type": "stream",
     "text": [
      "eps: 0.05\n"
     ]
    },
    {
     "data": {
      "application/vnd.jupyter.widget-view+json": {
       "model_id": "d999d3af9d1b4f7285cda07c543c5eb1",
       "version_major": 2,
       "version_minor": 0
      },
      "text/plain": [
       "  0%|          | 0/100 [00:00<?, ?it/s]"
      ]
     },
     "metadata": {},
     "output_type": "display_data"
    },
    {
     "data": {
      "application/vnd.jupyter.widget-view+json": {
       "model_id": "084202c8e3e04725b41cda6a791bf19f",
       "version_major": 2,
       "version_minor": 0
      },
      "text/plain": [
       "  0%|          | 0/100 [00:00<?, ?it/s]"
      ]
     },
     "metadata": {},
     "output_type": "display_data"
    },
    {
     "name": "stdout",
     "output_type": "stream",
     "text": [
      "eps: 0.01\n"
     ]
    },
    {
     "data": {
      "application/vnd.jupyter.widget-view+json": {
       "model_id": "5b820d4f55e44020a3c203c275da2464",
       "version_major": 2,
       "version_minor": 0
      },
      "text/plain": [
       "  0%|          | 0/100 [00:00<?, ?it/s]"
      ]
     },
     "metadata": {},
     "output_type": "display_data"
    },
    {
     "data": {
      "application/vnd.jupyter.widget-view+json": {
       "model_id": "184c3e79a2c447c58329bd245c77d2f2",
       "version_major": 2,
       "version_minor": 0
      },
      "text/plain": [
       "  0%|          | 0/100 [00:00<?, ?it/s]"
      ]
     },
     "metadata": {},
     "output_type": "display_data"
    },
    {
     "name": "stdout",
     "output_type": "stream",
     "text": [
      "eps: 0.005\n"
     ]
    },
    {
     "data": {
      "application/vnd.jupyter.widget-view+json": {
       "model_id": "439420628ba746999ddca815fff020c0",
       "version_major": 2,
       "version_minor": 0
      },
      "text/plain": [
       "  0%|          | 0/100 [00:00<?, ?it/s]"
      ]
     },
     "metadata": {},
     "output_type": "display_data"
    },
    {
     "data": {
      "application/vnd.jupyter.widget-view+json": {
       "model_id": "ba8a5b95238743a180a713aab1461129",
       "version_major": 2,
       "version_minor": 0
      },
      "text/plain": [
       "  0%|          | 0/100 [00:00<?, ?it/s]"
      ]
     },
     "metadata": {},
     "output_type": "display_data"
    },
    {
     "name": "stdout",
     "output_type": "stream",
     "text": [
      "eps: 0.1\n"
     ]
    },
    {
     "data": {
      "application/vnd.jupyter.widget-view+json": {
       "model_id": "3728ac95b91a46c395c7ab7eea92df48",
       "version_major": 2,
       "version_minor": 0
      },
      "text/plain": [
       "  0%|          | 0/100 [00:00<?, ?it/s]"
      ]
     },
     "metadata": {},
     "output_type": "display_data"
    },
    {
     "data": {
      "application/vnd.jupyter.widget-view+json": {
       "model_id": "8dd3592be6374e02af11ecd812a330dc",
       "version_major": 2,
       "version_minor": 0
      },
      "text/plain": [
       "  0%|          | 0/100 [00:00<?, ?it/s]"
      ]
     },
     "metadata": {},
     "output_type": "display_data"
    },
    {
     "name": "stdout",
     "output_type": "stream",
     "text": [
      "eps: 0.05\n"
     ]
    },
    {
     "data": {
      "application/vnd.jupyter.widget-view+json": {
       "model_id": "5bef29d8bc7646b09860fac5754378cf",
       "version_major": 2,
       "version_minor": 0
      },
      "text/plain": [
       "  0%|          | 0/100 [00:00<?, ?it/s]"
      ]
     },
     "metadata": {},
     "output_type": "display_data"
    },
    {
     "data": {
      "application/vnd.jupyter.widget-view+json": {
       "model_id": "40110ba7f6d74980a190ec0c0d4c38bb",
       "version_major": 2,
       "version_minor": 0
      },
      "text/plain": [
       "  0%|          | 0/100 [00:00<?, ?it/s]"
      ]
     },
     "metadata": {},
     "output_type": "display_data"
    },
    {
     "name": "stdout",
     "output_type": "stream",
     "text": [
      "eps: 0.01\n"
     ]
    },
    {
     "data": {
      "application/vnd.jupyter.widget-view+json": {
       "model_id": "d5a13c855b6141369f9a4040ddf1a0e0",
       "version_major": 2,
       "version_minor": 0
      },
      "text/plain": [
       "  0%|          | 0/100 [00:00<?, ?it/s]"
      ]
     },
     "metadata": {},
     "output_type": "display_data"
    },
    {
     "data": {
      "application/vnd.jupyter.widget-view+json": {
       "model_id": "6b9100fb98ef4af385b08f49e8de1b0a",
       "version_major": 2,
       "version_minor": 0
      },
      "text/plain": [
       "  0%|          | 0/100 [00:00<?, ?it/s]"
      ]
     },
     "metadata": {},
     "output_type": "display_data"
    },
    {
     "name": "stdout",
     "output_type": "stream",
     "text": [
      "eps: 0.005\n"
     ]
    },
    {
     "data": {
      "application/vnd.jupyter.widget-view+json": {
       "model_id": "d295e838f5fb44acb91637634d430a36",
       "version_major": 2,
       "version_minor": 0
      },
      "text/plain": [
       "  0%|          | 0/100 [00:00<?, ?it/s]"
      ]
     },
     "metadata": {},
     "output_type": "display_data"
    },
    {
     "data": {
      "application/vnd.jupyter.widget-view+json": {
       "model_id": "f52d1e6cd21248dbbcc32500baf01c6c",
       "version_major": 2,
       "version_minor": 0
      },
      "text/plain": [
       "  0%|          | 0/100 [00:00<?, ?it/s]"
      ]
     },
     "metadata": {},
     "output_type": "display_data"
    },
    {
     "name": "stdout",
     "output_type": "stream",
     "text": [
      "eps: 0.1\n"
     ]
    },
    {
     "data": {
      "application/vnd.jupyter.widget-view+json": {
       "model_id": "b0f1b81f5c814ac1af20f379b63e49ef",
       "version_major": 2,
       "version_minor": 0
      },
      "text/plain": [
       "  0%|          | 0/100 [00:00<?, ?it/s]"
      ]
     },
     "metadata": {},
     "output_type": "display_data"
    },
    {
     "data": {
      "application/vnd.jupyter.widget-view+json": {
       "model_id": "1bb43924fd65401290ab5b89802dd8bc",
       "version_major": 2,
       "version_minor": 0
      },
      "text/plain": [
       "  0%|          | 0/100 [00:00<?, ?it/s]"
      ]
     },
     "metadata": {},
     "output_type": "display_data"
    },
    {
     "name": "stdout",
     "output_type": "stream",
     "text": [
      "eps: 0.05\n"
     ]
    },
    {
     "data": {
      "application/vnd.jupyter.widget-view+json": {
       "model_id": "4fe3f50ffe3e4322a1a772b61de92043",
       "version_major": 2,
       "version_minor": 0
      },
      "text/plain": [
       "  0%|          | 0/100 [00:00<?, ?it/s]"
      ]
     },
     "metadata": {},
     "output_type": "display_data"
    },
    {
     "data": {
      "application/vnd.jupyter.widget-view+json": {
       "model_id": "e58fff4e166e443bbc90aedb3988a537",
       "version_major": 2,
       "version_minor": 0
      },
      "text/plain": [
       "  0%|          | 0/100 [00:00<?, ?it/s]"
      ]
     },
     "metadata": {},
     "output_type": "display_data"
    },
    {
     "name": "stdout",
     "output_type": "stream",
     "text": [
      "eps: 0.01\n"
     ]
    },
    {
     "data": {
      "application/vnd.jupyter.widget-view+json": {
       "model_id": "f86c7f4e6ec14f65b0ba671e5ea05588",
       "version_major": 2,
       "version_minor": 0
      },
      "text/plain": [
       "  0%|          | 0/100 [00:00<?, ?it/s]"
      ]
     },
     "metadata": {},
     "output_type": "display_data"
    },
    {
     "data": {
      "application/vnd.jupyter.widget-view+json": {
       "model_id": "639fc3cf18f24a38ba1cdcad2278e005",
       "version_major": 2,
       "version_minor": 0
      },
      "text/plain": [
       "  0%|          | 0/100 [00:00<?, ?it/s]"
      ]
     },
     "metadata": {},
     "output_type": "display_data"
    },
    {
     "name": "stdout",
     "output_type": "stream",
     "text": [
      "eps: 0.005\n"
     ]
    },
    {
     "data": {
      "application/vnd.jupyter.widget-view+json": {
       "model_id": "10beebf5f8ae4b1d81efb7d85c2661f4",
       "version_major": 2,
       "version_minor": 0
      },
      "text/plain": [
       "  0%|          | 0/100 [00:00<?, ?it/s]"
      ]
     },
     "metadata": {},
     "output_type": "display_data"
    },
    {
     "data": {
      "application/vnd.jupyter.widget-view+json": {
       "model_id": "536a629b93604ea5909b065d5df80742",
       "version_major": 2,
       "version_minor": 0
      },
      "text/plain": [
       "  0%|          | 0/100 [00:00<?, ?it/s]"
      ]
     },
     "metadata": {},
     "output_type": "display_data"
    },
    {
     "name": "stdout",
     "output_type": "stream",
     "text": [
      "eps: 0.1\n"
     ]
    },
    {
     "data": {
      "application/vnd.jupyter.widget-view+json": {
       "model_id": "fa92f0801cc1493bb1ce0cac2895b48b",
       "version_major": 2,
       "version_minor": 0
      },
      "text/plain": [
       "  0%|          | 0/100 [00:00<?, ?it/s]"
      ]
     },
     "metadata": {},
     "output_type": "display_data"
    },
    {
     "data": {
      "application/vnd.jupyter.widget-view+json": {
       "model_id": "9d09a6d99d4343ed87d962df42a60174",
       "version_major": 2,
       "version_minor": 0
      },
      "text/plain": [
       "  0%|          | 0/100 [00:00<?, ?it/s]"
      ]
     },
     "metadata": {},
     "output_type": "display_data"
    },
    {
     "name": "stdout",
     "output_type": "stream",
     "text": [
      "eps: 0.05\n"
     ]
    },
    {
     "data": {
      "application/vnd.jupyter.widget-view+json": {
       "model_id": "1e24f172cb384ec59019e4f50c8f95e4",
       "version_major": 2,
       "version_minor": 0
      },
      "text/plain": [
       "  0%|          | 0/100 [00:00<?, ?it/s]"
      ]
     },
     "metadata": {},
     "output_type": "display_data"
    },
    {
     "data": {
      "application/vnd.jupyter.widget-view+json": {
       "model_id": "0cbee8fe811c4281a30a2d895ed792da",
       "version_major": 2,
       "version_minor": 0
      },
      "text/plain": [
       "  0%|          | 0/100 [00:00<?, ?it/s]"
      ]
     },
     "metadata": {},
     "output_type": "display_data"
    },
    {
     "name": "stdout",
     "output_type": "stream",
     "text": [
      "eps: 0.01\n"
     ]
    },
    {
     "data": {
      "application/vnd.jupyter.widget-view+json": {
       "model_id": "966fd9f10260435ba6dc88e26d5855f5",
       "version_major": 2,
       "version_minor": 0
      },
      "text/plain": [
       "  0%|          | 0/100 [00:00<?, ?it/s]"
      ]
     },
     "metadata": {},
     "output_type": "display_data"
    },
    {
     "data": {
      "application/vnd.jupyter.widget-view+json": {
       "model_id": "8c250605b203463dacd66d28b86b33c6",
       "version_major": 2,
       "version_minor": 0
      },
      "text/plain": [
       "  0%|          | 0/100 [00:00<?, ?it/s]"
      ]
     },
     "metadata": {},
     "output_type": "display_data"
    },
    {
     "name": "stdout",
     "output_type": "stream",
     "text": [
      "eps: 0.005\n"
     ]
    },
    {
     "data": {
      "application/vnd.jupyter.widget-view+json": {
       "model_id": "7ed1c78f22e94d909d8e89889d306422",
       "version_major": 2,
       "version_minor": 0
      },
      "text/plain": [
       "  0%|          | 0/100 [00:00<?, ?it/s]"
      ]
     },
     "metadata": {},
     "output_type": "display_data"
    },
    {
     "data": {
      "application/vnd.jupyter.widget-view+json": {
       "model_id": "108933fdc4064fec94fa54d0097d6156",
       "version_major": 2,
       "version_minor": 0
      },
      "text/plain": [
       "  0%|          | 0/100 [00:00<?, ?it/s]"
      ]
     },
     "metadata": {},
     "output_type": "display_data"
    }
   ],
   "source": [
    "outlier_ls = [0.1, 1., 10., 100.]\n",
    "res_ol = {}\n",
    "for outlier in outlier_ls:\n",
    "    sub_res_ol = rej_rate_outliers(outlier, n_ls, eps_ls, kernel_name=\"tilted\", nreps=100)\n",
    "    res_ol[outlier] = sub_res_ol"
   ]
  },
  {
   "cell_type": "code",
   "execution_count": 18,
   "id": "ea8cb333-7cf2-4bab-8943-eaff09ca7536",
   "metadata": {},
   "outputs": [
    {
     "data": {
      "image/png": "[encoded data removed]",
      "text/plain": [
       "<Figure size 800x800 with 16 Axes>"
      ]
     },
     "metadata": {},
     "output_type": "display_data"
    }
   ],
   "source": [
    "figs, axes = plt.subplots(ncols=len(eps_ls), nrows=len(outlier_ls), figsize=(2*len(eps_ls), 2*len(outlier_ls)))\n",
    "\n",
    "for i in range(len(outlier_ls)):\n",
    "    for j in range(len(eps_ls)):\n",
    "        ax = axes[i][j]\n",
    "        sns.ecdfplot(ax=ax, x=np.array(res_ol[outlier_ls[i]][n][eps_ls[j]][\"tilted\"][\"pval\"]), label=\"Tilted\")\n",
    "        sns.ecdfplot(ax=ax, x=np.array(res_ol[outlier_ls[i]][n][eps_ls[j]][\"rbf\"][\"pval\"]), label=\"RBF\")\n",
    "        ax.plot([0., 1.], [0., 1.], linestyle=\"--\", color=\"grey\")\n",
    "        ax.set_xlim(-0.01, 1.01)\n",
    "        ax.set_ylim(-0.01, 1.01)\n",
    "        ax.set_title(rf\"$w$={outlier_ls[i]}; $\\epsilon$={eps_ls[j]}\")\n",
    "        ax.set_ylabel(\"\")\n",
    "        ax.set_xlabel(\"\")\n",
    "        \n",
    "        if i < len(outlier_ls) - 1:\n",
    "            ax.get_xaxis().set_ticks([])\n",
    "        if j > 0:\n",
    "            ax.get_yaxis().set_ticks([])\n",
    "        if j == 0:\n",
    "            ax.set_ylabel(\"Proportion\")\n",
    "        if i == len(outlier_ls) - 1:\n",
    "            ax.set_xlabel(r\"$p$-value\")\n",
    "        # if j == len(eps_ls) - 1:\n",
    "        #     ax.twinx().set_ylabel(f\"eps={eps_ls[j]}\")\n",
    "        #     ax.twinx().get_yaxis().set_ticks([])\n",
    "\n",
    "axes.flatten()[0].legend(loc=\"lower right\")\n",
    "plt.tight_layout()\n",
    "plt.savefig(\"../figs/robust/simple_ksd.pdf\")"
   ]
  },
  {
   "cell_type": "code",
   "execution_count": null,
   "id": "52d1b26c-116f-4f6f-84ce-b70818d3feeb",
   "metadata": {},
   "outputs": [],
   "source": []
  },
  {
   "cell_type": "code",
   "execution_count": null,
   "id": "d6ba6a8d-1869-41a7-9840-3e5d1b627955",
   "metadata": {},
   "outputs": [],
   "source": []
  },
  {
   "cell_type": "code",
   "execution_count": null,
   "id": "3b6d6875-b5e4-4771-9217-d78bcfcc4c4d",
   "metadata": {},
   "outputs": [],
   "source": []
  },
  {
   "cell_type": "code",
   "execution_count": null,
   "id": "f549c431-fb17-4b08-b5da-8494573ab640",
   "metadata": {},
   "outputs": [],
   "source": []
  }
 ],
 "metadata": {
  "kernelspec": {
   "display_name": "robust",
   "language": "python",
   "name": "robust"
  },
  "language_info": {
   "codemirror_mode": {
    "name": "ipython",
    "version": 3
   },
   "file_extension": ".py",
   "mimetype": "text/x-python",
   "name": "python",
   "nbconvert_exporter": "python",
   "pygments_lexer": "ipython3",
   "version": "3.8.10"
  }
 },
 "nbformat": 4,
 "nbformat_minor": 5
}
