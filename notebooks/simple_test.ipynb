{
 "cells": [
  {
   "cell_type": "code",
   "execution_count": 1,
   "id": "d8c0257e-4e22-46ac-9154-9776715c9008",
   "metadata": {},
   "outputs": [],
   "source": [
    "%load_ext autoreload\n",
    "%autoreload 2\n",
    "\n",
    "import numpy as np\n",
    "import matplotlib.pyplot as plt\n",
    "from tqdm.notebook import tqdm, trange\n",
    "import seaborn as sns\n",
    "\n",
    "import src.metrics as metrics\n",
    "import src.kernels as kernels\n",
    "import src.bootstrap as boot"
   ]
  },
  {
   "cell_type": "markdown",
   "id": "78a99f46-a804-4fff-be97-71ac876daf11",
   "metadata": {
    "jp-MarkdownHeadingCollapsed": true
   },
   "source": [
    "# KSD standard kernel"
   ]
  },
  {
   "cell_type": "code",
   "execution_count": null,
   "id": "05d571b4-63ac-4a58-a91a-702cf3ecbdb3",
   "metadata": {},
   "outputs": [],
   "source": [
    "np.random.seed(2024)"
   ]
  },
  {
   "cell_type": "code",
   "execution_count": null,
   "id": "13a5d0c8-0f1d-496a-8282-63d7577b0569",
   "metadata": {},
   "outputs": [],
   "source": [
    "# simulate sampling distribution for stat\n",
    "stats_ls_all_eps = []\n",
    "eps_ls = [0.001, 0.005, 0.01, 0.05, 0.1]\n",
    "nreps = 1000\n",
    "\n",
    "for eps in eps_ls:\n",
    "    stat_ls = []\n",
    "    \n",
    "    ###\n",
    "    mean1 = np.zeros((dim,)) # data\n",
    "    mean2 = np.zeros((dim,)) # model\n",
    "    \n",
    "    Xs = np.random.multivariate_normal(mean1, np.eye(dim), (nreps, n))\n",
    "    n_outlier = max(1, int(n * eps))\n",
    "    Xs[:, :n_outlier] = outlier\n",
    "\n",
    "    score_fn = lambda x: - (x - mean2)\n",
    "    ###\n",
    "    \n",
    "    kernel = kernels.RBF(sigma_sq=2.)\n",
    "    ksd = metrics.KSD(kernel, score_fn=score_fn)\n",
    "    for X in tqdm(Xs):\n",
    "        stat_ls.append(ksd(X, X, vstat=True))\n",
    "\n",
    "    stats_ls_all_eps.append(stat_ls)"
   ]
  },
  {
   "cell_type": "markdown",
   "id": "1c201476-c496-44ce-b962-553635472eaa",
   "metadata": {},
   "source": [
    "# KSD tilted kernel"
   ]
  },
  {
   "cell_type": "code",
   "execution_count": 138,
   "id": "22409984-3d41-4b9e-8f04-feca6105a088",
   "metadata": {},
   "outputs": [],
   "source": [
    "def stats_against_outliers(outliers_ls, kernel_name, nreps, eps=0.01, dim=1, n=1000):\n",
    "    stats_ls_all_ol = []\n",
    "    \n",
    "    for outlier in outliers_ls:\n",
    "        stat_ls = []\n",
    "        \n",
    "        ###\n",
    "        mean1 = np.zeros((dim,)) # data\n",
    "        mean2 = np.zeros((dim,)) # model\n",
    "        \n",
    "        Xs = np.random.multivariate_normal(mean1, np.eye(dim), (nreps, n))\n",
    "        n_outlier = max(1, int(n * eps))\n",
    "        Xs[:, :n_outlier] = outlier\n",
    "    \n",
    "        score_fn = lambda x: - (x - mean2)\n",
    "        ###\n",
    "\n",
    "        if kernel_name == \"tilted\":\n",
    "            score_weight_fn = kernels.PolyWeightFunction()\n",
    "            kernel0 = kernels.RBF(sigma_sq=2.)\n",
    "            kernel = kernels.TiltedKernel(kernel=kernel0, weight_fn=score_weight_fn)\n",
    "        elif kernel_name == \"rbf\":\n",
    "            kernel = kernels.RBF(sigma_sq=2.)\n",
    "        \n",
    "        ksd = metrics.KSD(kernel, score_fn=score_fn)\n",
    "        for X in tqdm(Xs):\n",
    "            stat_ls.append(ksd(X, X))\n",
    "    \n",
    "        stats_ls_all_ol.append(stat_ls)\n",
    "\n",
    "    return stats_ls_all_ol"
   ]
  },
  {
   "cell_type": "code",
   "execution_count": 18,
   "id": "5e6849be-a87d-4704-b9d5-f683bf8c50a3",
   "metadata": {},
   "outputs": [],
   "source": [
    "np.random.seed(2024)"
   ]
  },
  {
   "cell_type": "code",
   "execution_count": 19,
   "id": "3845ee8c-21ba-4b37-8869-fe8efe6ab6e9",
   "metadata": {},
   "outputs": [],
   "source": [
    "# # simulate sampling distribution for stat\n",
    "# # res_ol = {\"RBF\": [], \"tilted\": []}\n",
    "# stats_ls_all_ol = []\n",
    "# outliers_ls = [0.001, 0.01, 0.1, 1., 10., 100.]\n",
    "# nreps = 10\n",
    "\n",
    "# for outlier in outliers_ls:\n",
    "#     stat_ls = []\n",
    "    \n",
    "#     ###\n",
    "#     mean1 = np.zeros((dim,)) # data\n",
    "#     mean2 = np.zeros((dim,)) # model\n",
    "    \n",
    "#     eps = 0.01\n",
    "#     Xs = np.random.multivariate_normal(mean1, np.eye(dim), (nreps, n))\n",
    "#     n_outlier = max(1, int(n * eps))\n",
    "#     Xs[:, :n_outlier] = outlier\n",
    "\n",
    "#     score_fn = lambda x: - (x - mean2)\n",
    "#     ###\n",
    "    \n",
    "#     score_weight_fn = kernels.ScoreWeightFunction(score_fn)\n",
    "#     kernel0 = kernels.RBF(sigma_sq=2.)\n",
    "#     kernel = kernels.TiltedKernel(kernel=kernel0, weight_fn=score_weight_fn)\n",
    "    \n",
    "#     ksd = metrics.KSD(kernel, score_fn=score_fn)\n",
    "#     for X in tqdm(Xs):\n",
    "#         stat_ls.append(ksd(X, X))\n",
    "\n",
    "#     stats_ls_all_ol.append(stat_ls)"
   ]
  },
  {
   "cell_type": "code",
   "execution_count": 136,
   "id": "09eed48f-86a9-49df-b5a0-1dc8c28e33fb",
   "metadata": {},
   "outputs": [],
   "source": [
    "outliers_ls = [0.001, 0.01, 0.1, 1., 10., 100.]"
   ]
  },
  {
   "cell_type": "code",
   "execution_count": 139,
   "id": "5031b6a4-7b0b-454d-bd61-47f352ce1698",
   "metadata": {},
   "outputs": [
    {
     "data": {
      "application/vnd.jupyter.widget-view+json": {
       "model_id": "03e038a875b143edb89fafe2470b1527",
       "version_major": 2,
       "version_minor": 0
      },
      "text/plain": [
       "  0%|          | 0/1000 [00:00<?, ?it/s]"
      ]
     },
     "metadata": {},
     "output_type": "display_data"
    }
   ],
   "source": [
    "stats_ls_all_ol_tilted_null = stats_against_outliers([0.], \"tilted\", eps=0., nreps=1000)"
   ]
  },
  {
   "cell_type": "code",
   "execution_count": 142,
   "id": "b17283d9-7f8d-4df1-aebb-ab7372880f03",
   "metadata": {},
   "outputs": [
    {
     "data": {
      "application/vnd.jupyter.widget-view+json": {
       "model_id": "31fbbf49200a40d088de2669639bbfb9",
       "version_major": 2,
       "version_minor": 0
      },
      "text/plain": [
       "  0%|          | 0/1000 [00:00<?, ?it/s]"
      ]
     },
     "metadata": {},
     "output_type": "display_data"
    },
    {
     "data": {
      "application/vnd.jupyter.widget-view+json": {
       "model_id": "8ec703196d5c4356a23e058c9b9c3d2c",
       "version_major": 2,
       "version_minor": 0
      },
      "text/plain": [
       "  0%|          | 0/1000 [00:00<?, ?it/s]"
      ]
     },
     "metadata": {},
     "output_type": "display_data"
    },
    {
     "data": {
      "application/vnd.jupyter.widget-view+json": {
       "model_id": "38b2d32d55894cbd964e02ed49c706bd",
       "version_major": 2,
       "version_minor": 0
      },
      "text/plain": [
       "  0%|          | 0/1000 [00:00<?, ?it/s]"
      ]
     },
     "metadata": {},
     "output_type": "display_data"
    },
    {
     "data": {
      "application/vnd.jupyter.widget-view+json": {
       "model_id": "e66aeab95aba4325832b3a86473215db",
       "version_major": 2,
       "version_minor": 0
      },
      "text/plain": [
       "  0%|          | 0/1000 [00:00<?, ?it/s]"
      ]
     },
     "metadata": {},
     "output_type": "display_data"
    },
    {
     "data": {
      "application/vnd.jupyter.widget-view+json": {
       "model_id": "a020d9eaed8b48d29b7e4e9639c0ddbe",
       "version_major": 2,
       "version_minor": 0
      },
      "text/plain": [
       "  0%|          | 0/1000 [00:00<?, ?it/s]"
      ]
     },
     "metadata": {},
     "output_type": "display_data"
    },
    {
     "data": {
      "application/vnd.jupyter.widget-view+json": {
       "model_id": "bae503e6bf9a44a88c2d2368de6358c2",
       "version_major": 2,
       "version_minor": 0
      },
      "text/plain": [
       "  0%|          | 0/1000 [00:00<?, ?it/s]"
      ]
     },
     "metadata": {},
     "output_type": "display_data"
    }
   ],
   "source": [
    "stats_ls_all_ol_tilted = stats_against_outliers(outliers_ls, \"tilted\", nreps=1000)"
   ]
  },
  {
   "cell_type": "code",
   "execution_count": 50,
   "id": "5f491d1f-908c-497b-842a-9a0a5a2b01f4",
   "metadata": {},
   "outputs": [
    {
     "data": {
      "application/vnd.jupyter.widget-view+json": {
       "model_id": "cd79cf48475d40d495801a08b751ec0b",
       "version_major": 2,
       "version_minor": 0
      },
      "text/plain": [
       "  0%|          | 0/1000 [00:00<?, ?it/s]"
      ]
     },
     "metadata": {},
     "output_type": "display_data"
    }
   ],
   "source": [
    "stats_ls_all_ol_rbf_null = stats_against_outliers([0.], \"rbf\", eps=0., nreps=1000)"
   ]
  },
  {
   "cell_type": "code",
   "execution_count": 32,
   "id": "d6d0fdc8-c8c6-48be-ad15-6a16cdb20aae",
   "metadata": {},
   "outputs": [
    {
     "data": {
      "application/vnd.jupyter.widget-view+json": {
       "model_id": "86f93c6a75b64161b431fbc247888967",
       "version_major": 2,
       "version_minor": 0
      },
      "text/plain": [
       "  0%|          | 0/1000 [00:00<?, ?it/s]"
      ]
     },
     "metadata": {},
     "output_type": "display_data"
    },
    {
     "data": {
      "application/vnd.jupyter.widget-view+json": {
       "model_id": "d79833a0dfa247e18ca29d41a9acb56a",
       "version_major": 2,
       "version_minor": 0
      },
      "text/plain": [
       "  0%|          | 0/1000 [00:00<?, ?it/s]"
      ]
     },
     "metadata": {},
     "output_type": "display_data"
    },
    {
     "data": {
      "application/vnd.jupyter.widget-view+json": {
       "model_id": "2dfef6f5f799449aa1c16fde10fdf352",
       "version_major": 2,
       "version_minor": 0
      },
      "text/plain": [
       "  0%|          | 0/1000 [00:00<?, ?it/s]"
      ]
     },
     "metadata": {},
     "output_type": "display_data"
    },
    {
     "data": {
      "application/vnd.jupyter.widget-view+json": {
       "model_id": "eac28fe9fbbb4d28a61cf6327c0dab25",
       "version_major": 2,
       "version_minor": 0
      },
      "text/plain": [
       "  0%|          | 0/1000 [00:00<?, ?it/s]"
      ]
     },
     "metadata": {},
     "output_type": "display_data"
    },
    {
     "data": {
      "application/vnd.jupyter.widget-view+json": {
       "model_id": "a68de02ce9be4931a3fa1f290efc6805",
       "version_major": 2,
       "version_minor": 0
      },
      "text/plain": [
       "  0%|          | 0/1000 [00:00<?, ?it/s]"
      ]
     },
     "metadata": {},
     "output_type": "display_data"
    },
    {
     "data": {
      "application/vnd.jupyter.widget-view+json": {
       "model_id": "d69a30796bd74e689ca1590b87cef3f9",
       "version_major": 2,
       "version_minor": 0
      },
      "text/plain": [
       "  0%|          | 0/1000 [00:00<?, ?it/s]"
      ]
     },
     "metadata": {},
     "output_type": "display_data"
    }
   ],
   "source": [
    "stats_ls_all_ol_rbf = stats_against_outliers(outliers_ls, \"rbf\", nreps=1000)"
   ]
  },
  {
   "cell_type": "code",
   "execution_count": 150,
   "id": "da7a58d3-bc9d-40a0-a9e8-f8c16d96233b",
   "metadata": {},
   "outputs": [],
   "source": [
    "res_ol = {\"tilted\": stats_ls_all_ol_tilted, \"rbf\": stats_ls_all_ol_rbf, \n",
    "          \"tilted_null\": stats_ls_all_ol_tilted_null, \"rbf_null\": stats_ls_all_ol_rbf_null}"
   ]
  },
  {
   "cell_type": "code",
   "execution_count": 252,
   "id": "5a4bf998-a635-468e-8d14-518097f65d47",
   "metadata": {},
   "outputs": [],
   "source": [
    "# import pickle\n",
    "# pickle.dump(res_ol, open(\"../res/ustats_outlier.pkl\", \"wb\"))\n",
    "# ustats_outlier = pickle.load(open(\"../res/ustats_outlier.pkl\", \"rb\"))"
   ]
  },
  {
   "cell_type": "code",
   "execution_count": 192,
   "id": "7eab0c36-4720-4585-83ff-b25843760c48",
   "metadata": {},
   "outputs": [
    {
     "data": {
      "image/png": "[encoded data removed]",
      "text/plain": [
       "<Figure size 900x600 with 6 Axes>"
      ]
     },
     "metadata": {},
     "output_type": "display_data"
    }
   ],
   "source": [
    "# true sampling distribution\n",
    "figs, axes = plt.subplots(nrows=2, ncols=3, figsize=(9, 6))\n",
    "\n",
    "for i, ww in enumerate(outliers_ls):\n",
    "    ax = axes.flatten()[i]\n",
    "    ax.hist(res_ol[\"tilted\"][i], bins=50, label=f\"outlier = {ww}\")\n",
    "    ax.hist(res_ol[\"tilted_null\"][0], bins=50, label=f\"null\")\n",
    "    # ax.set_xlim(0., 0.11)\n",
    "    ax.legend()\n",
    "\n",
    "# plt.savefig(\"../figs/ustats_ol_tilted.pdf\")"
   ]
  },
  {
   "cell_type": "code",
   "execution_count": 193,
   "id": "e4d28351-beba-4afe-9c07-c367c002f671",
   "metadata": {},
   "outputs": [
    {
     "data": {
      "image/png": "[encoded data removed]",
      "text/plain": [
       "<Figure size 900x600 with 6 Axes>"
      ]
     },
     "metadata": {},
     "output_type": "display_data"
    }
   ],
   "source": [
    "# true sampling distribution\n",
    "figs, axes = plt.subplots(nrows=2, ncols=3, figsize=(9, 6))\n",
    "\n",
    "for i, ww in enumerate(outliers_ls):\n",
    "    ax = axes.flatten()[i]\n",
    "    ax.hist(res_ol[\"rbf\"][i], bins=50, label=f\"outlier = {ww}\")\n",
    "    ax.hist(res_ol[\"rbf_null\"][0], bins=50, label=f\"null\")\n",
    "    ax.set_xlim(0.)\n",
    "    ax.legend()\n",
    "\n",
    "# plt.savefig(\"../figs/ustats_ol_rbf.pdf\")"
   ]
  },
  {
   "cell_type": "markdown",
   "id": "110f3fd0-a3fc-4bfd-a212-ca8b3784a48e",
   "metadata": {},
   "source": [
    "#### Check power"
   ]
  },
  {
   "cell_type": "code",
   "execution_count": 164,
   "id": "75fbd806-e9da-45b3-a630-39e68cbe6d22",
   "metadata": {},
   "outputs": [],
   "source": [
    "def stats_mean_shift(mean_ls, kernel_name, nreps, dim=1, n=1000):\n",
    "    stats_ls_all_ol = []\n",
    "    \n",
    "    for mean in mean_ls:\n",
    "        stat_ls = []\n",
    "        \n",
    "        ###\n",
    "        mean1 = np.eye(dim)[0] * mean # data\n",
    "        mean2 = np.zeros((dim,)) # model\n",
    "        \n",
    "        Xs = np.random.multivariate_normal(mean1, np.eye(dim), (nreps, n))    \n",
    "        score_fn = lambda x: - (x - mean2)\n",
    "        ###\n",
    "\n",
    "        if kernel_name == \"tilted\":\n",
    "            score_weight_fn = kernels.PolyWeightFunction()\n",
    "            kernel0 = kernels.RBF(sigma_sq=2.)\n",
    "            kernel = kernels.TiltedKernel(kernel=kernel0, weight_fn=score_weight_fn)\n",
    "        elif kernel_name == \"rbf\":\n",
    "            kernel = kernels.RBF(sigma_sq=2.)\n",
    "        \n",
    "        ksd = metrics.KSD(kernel, score_fn=score_fn)\n",
    "        for X in tqdm(Xs):\n",
    "            stat_ls.append(ksd(X, X))\n",
    "    \n",
    "        stats_ls_all_ol.append(stat_ls)\n",
    "\n",
    "    return stats_ls_all_ol"
   ]
  },
  {
   "cell_type": "code",
   "execution_count": 183,
   "id": "9951e995-6423-4ccc-a5e1-f9effd886eb2",
   "metadata": {},
   "outputs": [],
   "source": [
    "np.random.seed(2024)"
   ]
  },
  {
   "cell_type": "code",
   "execution_count": 184,
   "id": "977bf833-6240-4602-ba85-44f784acb0a8",
   "metadata": {},
   "outputs": [],
   "source": [
    "mean_ls = [1e-2, 1e-1, 1., 10., 100., 1000.]"
   ]
  },
  {
   "cell_type": "code",
   "execution_count": null,
   "id": "99ba3e51-baa2-48f5-b236-1019db1333f7",
   "metadata": {},
   "outputs": [
    {
     "data": {
      "application/vnd.jupyter.widget-view+json": {
       "model_id": "d3306fbda9cb4453a8bdbed93fcf003d",
       "version_major": 2,
       "version_minor": 0
      },
      "text/plain": [
       "  0%|          | 0/1000 [00:00<?, ?it/s]"
      ]
     },
     "metadata": {},
     "output_type": "display_data"
    }
   ],
   "source": [
    "stats_ls_all_ms_tilted = stats_mean_shift(mean_ls, \"tilted\", nreps=1000)"
   ]
  },
  {
   "cell_type": "code",
   "execution_count": null,
   "id": "353956af-bdbb-49e4-93ee-a9788d4740f3",
   "metadata": {},
   "outputs": [],
   "source": [
    "plt.plot(mean_ls, [np.mean(rr) for rr in stats_ls_all_ms_tilted])\n",
    "plt.xscale(\"log\")"
   ]
  },
  {
   "cell_type": "code",
   "execution_count": null,
   "id": "972bb85b-0f68-4700-a5bc-b7c5ac9326ae",
   "metadata": {},
   "outputs": [],
   "source": [
    "res_ms = {\"tilted\": stats_ls_all_ms_tilted,  \n",
    "          \"tilted_null\": stats_ls_all_ol_tilted_null}"
   ]
  },
  {
   "cell_type": "code",
   "execution_count": null,
   "id": "475be4f1-e5d1-45db-b81b-d16f171990ff",
   "metadata": {},
   "outputs": [],
   "source": [
    "# pickle.dump(res_ms, open(\"../res/ustats_ms.pkl\", \"wb\"))"
   ]
  },
  {
   "cell_type": "code",
   "execution_count": 194,
   "id": "7920bd9a-9f0f-4234-a079-af046eef1128",
   "metadata": {},
   "outputs": [
    {
     "data": {
      "image/png": "[encoded data removed]",
      "text/plain": [
       "<Figure size 900x600 with 6 Axes>"
      ]
     },
     "metadata": {},
     "output_type": "display_data"
    }
   ],
   "source": [
    "# true sampling distribution\n",
    "figs, axes = plt.subplots(nrows=2, ncols=3, figsize=(9, 6))\n",
    "\n",
    "for i, ww in enumerate(mean_ls):\n",
    "    ax = axes.flatten()[i]\n",
    "    ax.hist(res_ms[\"tilted\"][i], bins=50, label=f\"outlier = {ww}\")\n",
    "    ax.hist(res_ms[\"tilted_null\"][0], bins=50, label=f\"null\")\n",
    "    ax.legend()\n",
    "\n",
    "# plt.savefig(\"../figs/ustats_ms_tilted.pdf\")"
   ]
  },
  {
   "cell_type": "markdown",
   "id": "88be40c7-53f4-43bc-a82c-43db99c1c599",
   "metadata": {},
   "source": [
    "#### Check that the simple test with tilted kernel is asymptotically valid\n",
    "Need $\\epsilon_{m, n} \\to 0$, $m \\to \\infty$"
   ]
  },
  {
   "cell_type": "code",
   "execution_count": 2,
   "id": "35b467bc-b3b5-4273-813c-cfe224cc1390",
   "metadata": {},
   "outputs": [],
   "source": [
    "def simple_test_outliers(outliers_ls, kernel_name, nreps, eps=0.01, dim=1, n=1000):\n",
    "    res = {\"stats\": [], \"pval\": [], \"boot_stat\": []}\n",
    "    \n",
    "    for outlier in outliers_ls:\n",
    "        stat_ls = []\n",
    "        pval_ls = []\n",
    "        boot_stats_ls = []\n",
    "        \n",
    "        ###\n",
    "        mean1 = np.zeros((dim,)) # data\n",
    "        mean2 = np.zeros((dim,)) # model\n",
    "        \n",
    "        Xs = np.random.multivariate_normal(mean1, np.eye(dim), (nreps, n))\n",
    "        n_outlier = max(1, int(n * eps))\n",
    "        Xs[:, :n_outlier] = outlier\n",
    "    \n",
    "        score_fn = lambda x: - (x - mean2)\n",
    "        ###\n",
    "\n",
    "        if kernel_name == \"tilted\":\n",
    "            score_weight_fn = kernels.PolyWeightFunction()\n",
    "            kernel0 = kernels.RBF(sigma_sq=2.)\n",
    "            kernel = kernels.TiltedKernel(kernel=kernel0, weight_fn=score_weight_fn)\n",
    "        elif kernel_name == \"rbf\":\n",
    "            kernel = kernels.RBF(sigma_sq=2.)\n",
    "        \n",
    "        ksd = metrics.KSD(kernel, score_fn=score_fn)\n",
    "        wild_boot = boot.WildBootstrap(ksd)\n",
    "        for X in tqdm(Xs):\n",
    "            # pval, stat = wild_boot.pval(X, X, return_test_stat=True)\n",
    "            pval, stat, boot_stats = wild_boot.pval(X, X, return_boot=True, return_stat=True)\n",
    "            stat_ls.append(stat)\n",
    "            pval_ls.append(pval)\n",
    "            boot_stats_ls.append(boot_stats)\n",
    "    \n",
    "        res[\"stats\"].append(stat_ls)\n",
    "        res[\"pval\"].append(pval_ls)\n",
    "        res[\"boot_stat\"].append(boot_stats_ls)\n",
    "\n",
    "    return res"
   ]
  },
  {
   "cell_type": "code",
   "execution_count": 6,
   "id": "7f2a000a-d55f-4ffb-bd3d-bf76a475669d",
   "metadata": {},
   "outputs": [],
   "source": [
    "np.random.seed(2024)"
   ]
  },
  {
   "cell_type": "code",
   "execution_count": 7,
   "id": "67cbdedf-a716-400f-99b6-1690f3d3c3da",
   "metadata": {},
   "outputs": [],
   "source": [
    "outliers_ls = [0.1] # [0.001, 0.01, 0.1, 1., 10., 100.]"
   ]
  },
  {
   "cell_type": "code",
   "execution_count": 8,
   "id": "39be6cd3-4e87-4790-8110-94598230cc6a",
   "metadata": {},
   "outputs": [
    {
     "data": {
      "application/vnd.jupyter.widget-view+json": {
       "model_id": "94460e2a0b464d17824c0604e47f0476",
       "version_major": 2,
       "version_minor": 0
      },
      "text/plain": [
       "  0%|          | 0/1000 [00:00<?, ?it/s]"
      ]
     },
     "metadata": {},
     "output_type": "display_data"
    },
    {
     "name": "stderr",
     "output_type": "stream",
     "text": [
      "No GPU/TPU found, falling back to CPU. (Set TF_CPP_MIN_LOG_LEVEL=0 and rerun for more info.)\n"
     ]
    }
   ],
   "source": [
    "res_null_tilted = simple_test_outliers([0.], \"tilted\", eps=0., nreps=1000)"
   ]
  },
  {
   "cell_type": "code",
   "execution_count": 30,
   "id": "bbbf06c0-c50d-4552-8b25-d83d405fe655",
   "metadata": {},
   "outputs": [
    {
     "data": {
      "image/png": "[encoded data removed]",
      "text/plain": [
       "<Figure size 600x300 with 2 Axes>"
      ]
     },
     "metadata": {},
     "output_type": "display_data"
    }
   ],
   "source": [
    "figs, axes = plt.subplots(nrows=1, ncols=2, figsize=(6, 3))\n",
    "\n",
    "ax = axes[0]\n",
    "_ = ax.hist(res_null_tilted[\"stats\"], bins=50)\n",
    "\n",
    "ax = axes[1]\n",
    "# _ = ax.hist(res_null_tilted[\"pval\"], bins=50)\n",
    "sns.ecdfplot(ax=ax, x=np.array(res_null_tilted[\"pval\"][0]))\n",
    "ax.plot([0., 1.], [0., 1.], linestyle=\"--\", color=\"grey\")\n",
    "ax.set_xlim(0., 1.)\n",
    "ax.set_ylim(0., 1.)\n",
    "\n",
    "plt.tight_layout()"
   ]
  },
  {
   "cell_type": "code",
   "execution_count": 268,
   "id": "f29b86cf-eba9-48df-8f20-b0de90b9bcba",
   "metadata": {},
   "outputs": [
    {
     "data": {
      "application/vnd.jupyter.widget-view+json": {
       "model_id": "a295502d30f546769f0d35be4f8a8d49",
       "version_major": 2,
       "version_minor": 0
      },
      "text/plain": [
       "  0%|          | 0/10 [00:00<?, ?it/s]"
      ]
     },
     "metadata": {},
     "output_type": "display_data"
    }
   ],
   "source": [
    "res_ol_tilted = simple_test_outliers(outliers_ls, \"tilted\", nreps=10)"
   ]
  },
  {
   "cell_type": "code",
   "execution_count": 317,
   "id": "548b7106-2e8e-4b0c-bfbb-1ec7fcd59848",
   "metadata": {},
   "outputs": [],
   "source": [
    "score_weight_fn = kernels.PolyWeightFunction()\n",
    "kernel0 = kernels.RBF(sigma_sq=2.)\n",
    "kernel = kernels.TiltedKernel(kernel=kernel0, weight_fn=score_weight_fn)"
   ]
  },
  {
   "cell_type": "code",
   "execution_count": 318,
   "id": "2a34fe0c-ba99-486d-bdb4-e6a5fd4f2b5d",
   "metadata": {},
   "outputs": [
    {
     "data": {
      "text/plain": [
       "array([[0.5       , 0.42888194, 0.06766764],\n",
       "       [0.42888194, 1.        , 0.42888194],\n",
       "       [0.06766764, 0.42888194, 0.5       ]])"
      ]
     },
     "execution_count": 318,
     "metadata": {},
     "output_type": "execute_result"
    }
   ],
   "source": [
    "xx = np.array([[-1.], [0.], [1.]])\n",
    "kernel(xx, xx)"
   ]
  },
  {
   "cell_type": "code",
   "execution_count": 321,
   "id": "9a776f17-78b5-40f5-882d-75e5689c8a50",
   "metadata": {},
   "outputs": [
    {
     "data": {
      "text/plain": [
       "0.06766764161830635"
      ]
     },
     "execution_count": 321,
     "metadata": {},
     "output_type": "execute_result"
    }
   ],
   "source": [
    "# np.exp(-0.5) * 1/np.sqrt(2.)\n",
    "0.5 * np.exp(-0.5 * 2**2)"
   ]
  },
  {
   "cell_type": "code",
   "execution_count": 323,
   "id": "998a4fa3-8749-4bce-9f28-76e291bf4b11",
   "metadata": {},
   "outputs": [
    {
     "name": "stdout",
     "output_type": "stream",
     "text": [
      "grad_first [[ 0.25        0.64332291  0.1691691 ]\n",
      " [-0.42888194  0.          0.42888194]\n",
      " [-0.1691691  -0.64332291 -0.25      ]]\n"
     ]
    },
    {
     "data": {
      "text/plain": [
       "array([[ 0.25      ,  0.64332291,  0.1691691 ],\n",
       "       [-0.42888194,  0.        ,  0.42888194],\n",
       "       [-0.1691691 , -0.64332291, -0.25      ]])"
      ]
     },
     "execution_count": 323,
     "metadata": {},
     "output_type": "execute_result"
    }
   ],
   "source": [
    "kernel.grad_first(xx, xx)[:, :, 0]"
   ]
  },
  {
   "cell_type": "code",
   "execution_count": 327,
   "id": "7b4b8e6f-aaa7-4a45-bc04-8f78ccfb55c1",
   "metadata": {},
   "outputs": [],
   "source": [
    "import jax.numpy as jnp\n",
    "import jax"
   ]
  },
  {
   "cell_type": "code",
   "execution_count": 449,
   "id": "b252ce7e-ff42-42f2-87d9-98b5d38574bc",
   "metadata": {},
   "outputs": [],
   "source": [
    "np.random.seed(2024)\n",
    "xx = np.random.normal(size=(3, 1))\n",
    "yy = np.squeeze(xx)"
   ]
  },
  {
   "cell_type": "code",
   "execution_count": 450,
   "id": "d5eced20-34bc-4077-a321-1d79a346f174",
   "metadata": {},
   "outputs": [
    {
     "data": {
      "text/plain": [
       "Array([-0.36813366, -0.30942607,  0.5750677 ], dtype=float32)"
      ]
     },
     "execution_count": 450,
     "metadata": {},
     "output_type": "execute_result"
    }
   ],
   "source": [
    "def k_fn(yy):\n",
    "    yy = jnp.reshape(yy, (-1, 1))\n",
    "    return jnp.squeeze(kernel(yy, xx[1:2]))\n",
    "\n",
    "check_grad_first = jax.vmap(jax.grad(k_fn))\n",
    "check_grad_first(yy)"
   ]
  },
  {
   "cell_type": "code",
   "execution_count": 451,
   "id": "ee9ce670-5ea9-4d82-9244-f659111cda9f",
   "metadata": {},
   "outputs": [
    {
     "name": "stdout",
     "output_type": "stream",
     "text": [
      "grad_first [[-0.11659439 -0.36813372 -0.20285669]\n",
      " [ 0.12158662 -0.30942607 -0.71926355]\n",
      " [ 0.18114224  0.57506776  0.18611193]]\n"
     ]
    },
    {
     "data": {
      "text/plain": [
       "Array([[-0.11659439, -0.36813372, -0.20285669],\n",
       "       [ 0.12158662, -0.30942607, -0.71926355],\n",
       "       [ 0.18114224,  0.57506776,  0.18611193]], dtype=float32)"
      ]
     },
     "execution_count": 451,
     "metadata": {},
     "output_type": "execute_result"
    }
   ],
   "source": [
    "kernel.grad_first(xx, xx)[:, :, 0]"
   ]
  },
  {
   "cell_type": "code",
   "execution_count": 452,
   "id": "b7666761-013b-413f-8bef-da5e04be755d",
   "metadata": {},
   "outputs": [
    {
     "data": {
      "text/plain": [
       "Array([-0.36813363, -0.30942604,  0.5750677 ], dtype=float32)"
      ]
     },
     "execution_count": 452,
     "metadata": {},
     "output_type": "execute_result"
    }
   ],
   "source": [
    "def k_fn2(yy):\n",
    "    yy = jnp.reshape(yy, (-1, 1))\n",
    "    return jnp.squeeze(kernel(xx[1:2], yy))\n",
    "\n",
    "check_grad_second = jax.vmap(jax.grad(k_fn2))\n",
    "check_grad_second(yy)"
   ]
  },
  {
   "cell_type": "code",
   "execution_count": 453,
   "id": "fc508418-5ff1-4676-b302-413ec91a719f",
   "metadata": {},
   "outputs": [
    {
     "name": "stdout",
     "output_type": "stream",
     "text": [
      "grad_second [[-0.11659439  0.12158664  0.18114224]\n",
      " [-0.3681337  -0.30942607  0.5750677 ]\n",
      " [-0.20285669 -0.7192636   0.18611193]]\n"
     ]
    },
    {
     "data": {
      "text/plain": [
       "Array([[-0.11659439,  0.12158664,  0.18114224],\n",
       "       [-0.3681337 , -0.30942607,  0.5750677 ],\n",
       "       [-0.20285669, -0.7192636 ,  0.18611193]], dtype=float32)"
      ]
     },
     "execution_count": 453,
     "metadata": {},
     "output_type": "execute_result"
    }
   ],
   "source": [
    "kernel.grad_second(xx, xx)[:, :, 0]"
   ]
  },
  {
   "cell_type": "code",
   "execution_count": 460,
   "id": "af77b24a-8e38-4b48-933a-00dc4fa5b91f",
   "metadata": {},
   "outputs": [
    {
     "data": {
      "text/plain": [
       "(1, 2, 2)"
      ]
     },
     "execution_count": 460,
     "metadata": {},
     "output_type": "execute_result"
    }
   ],
   "source": [
    "def k_fn3(zz):\n",
    "    xx, yy = zz[0], zz[1]\n",
    "    xx = jnp.reshape(xx, (-1, 1))\n",
    "    yy = jnp.reshape(yy, (-1, 1))\n",
    "    return jnp.squeeze(kernel(xx, yy))\n",
    "\n",
    "# check_gradgrad = jax.vmap(jax.hessian(jax.grad(k_fn3)))\n",
    "check_gradgrad = jax.vmap(jax.hessian(k_fn3))\n",
    "check_grad2 = jax.vmap(jax.grad(k_fn3))\n",
    "zz = jnp.concatenate([xx[0:1], xx[1:2]], axis=-1)\n",
    "gg = check_gradgrad(zz)\n",
    "gg.shape\n",
    "\n",
    "# def k_fn3(xx):\n",
    "#     xx = jnp.reshape(xx, (-1, 1))\n",
    "#     res = jnp.squeeze(kernel(xx, xx))\n",
    "#     return res\n",
    "\n",
    "# check_gradgrad = jax.vmap(jax.hessian(jax.grad(k_fn3)))\n",
    "# gg = check_gradgrad(xx)\n",
    "# gg.shape"
   ]
  },
  {
   "cell_type": "code",
   "execution_count": 461,
   "id": "bdcb6a72-55ad-434c-b318-fc62207f3cf4",
   "metadata": {},
   "outputs": [
    {
     "data": {
      "text/plain": [
       "Array([[[ 0.2700297 ,  0.101596  ],\n",
       "        [ 0.10159603, -0.26468498]]], dtype=float32)"
      ]
     },
     "execution_count": 461,
     "metadata": {},
     "output_type": "execute_result"
    }
   ],
   "source": [
    "gg"
   ]
  },
  {
   "cell_type": "code",
   "execution_count": 462,
   "id": "c273db66-2a12-4a8e-9809-d89103602476",
   "metadata": {},
   "outputs": [
    {
     "data": {
      "text/plain": [
       "Array([[ 0.3158023 ,  0.10159604, -0.330751  ],\n",
       "       [ 0.10159605,  0.795601  , -0.3068463 ],\n",
       "       [-0.330751  , -0.3068463 ,  0.99701244]], dtype=float32)"
      ]
     },
     "execution_count": 462,
     "metadata": {},
     "output_type": "execute_result"
    }
   ],
   "source": [
    "kernel.gradgrad(xx, xx)"
   ]
  },
  {
   "cell_type": "code",
   "execution_count": 399,
   "id": "e0c8b50c-5799-4f1c-90ef-1f6068777c84",
   "metadata": {},
   "outputs": [
    {
     "data": {
      "text/plain": [
       "Array([[ 0.35355338],\n",
       "       [-0.        ],\n",
       "       [-0.35355338]], dtype=float32)"
      ]
     },
     "execution_count": 399,
     "metadata": {},
     "output_type": "execute_result"
    }
   ],
   "source": [
    "def m_fn(xx):\n",
    "    return jnp.squeeze(kernel.weight_fn(jnp.reshape(xx, (-1, 1))))\n",
    "\n",
    "grad_m = jax.vmap(jax.grad(m_fn))\n",
    "grad_m(xx)"
   ]
  },
  {
   "cell_type": "code",
   "execution_count": 400,
   "id": "fcd43808-f246-480f-86c1-345ba8746a49",
   "metadata": {},
   "outputs": [
    {
     "data": {
      "text/plain": [
       "Array([[ 0.35355338],\n",
       "       [-0.        ],\n",
       "       [-0.35355338]], dtype=float32)"
      ]
     },
     "execution_count": 400,
     "metadata": {},
     "output_type": "execute_result"
    }
   ],
   "source": [
    "kernel.weight_fn.grad(xx)"
   ]
  },
  {
   "cell_type": "code",
   "execution_count": null,
   "id": "407a9b74-68f7-4645-8b79-5176c5891267",
   "metadata": {},
   "outputs": [],
   "source": []
  },
  {
   "cell_type": "code",
   "execution_count": null,
   "id": "2341eeb6-40d1-4cd1-b159-36eab3cd76ee",
   "metadata": {},
   "outputs": [],
   "source": []
  },
  {
   "cell_type": "markdown",
   "id": "73789c84-76e3-4132-acb7-403b3a3ce954",
   "metadata": {
    "jp-MarkdownHeadingCollapsed": true
   },
   "source": [
    "# Deviation threshold"
   ]
  },
  {
   "cell_type": "code",
   "execution_count": 208,
   "id": "4f31a6e8-ed2f-420c-b1e1-d739ad854142",
   "metadata": {},
   "outputs": [],
   "source": [
    "def make_contam_score(mu, eps):\n",
    "    \"\"\"\n",
    "    score function of (1-eps)*p(x) + eps*r(x), where p, r are Gaussians.\n",
    "    \"\"\"\n",
    "    mu_norm_sq = np.sum(mu**2)\n",
    "    mu_pd = np.reshape(mu, (1, -1))\n",
    "    def contam_score(x):\n",
    "        exp = np.exp(- 0.5 * mu_norm_sq + np.sum(mu_pd * x))\n",
    "        num = - (1 - eps) * x - eps * (x - mu_pd) * exp\n",
    "        denom = 1 - eps + eps * exp\n",
    "        return num / denom\n",
    "    return contam_score\n",
    "\n",
    "def stats_mean_shift_threshold(mean_ls, kernel_name, nreps, dim=1, n=1000, model=\"contam_data\":\n",
    "    stats_ls_all_ol = []\n",
    "    threshold_res = {\"threshold\": [], \"tau\": []}\n",
    "    \n",
    "    for mean in mean_ls:\n",
    "        stat_ls = []\n",
    "        \n",
    "        ###\n",
    "        if model == \"contam_data\":\n",
    "            mean1 = np.eye(dim)[0] * mean # data\n",
    "            mean2 = np.zeros((dim,)) # model\n",
    "            \n",
    "            Xs = np.random.multivariate_normal(mean1, np.eye(dim), (nreps, n))    \n",
    "            score_fn = lambda x: - (x - mean2)\n",
    "\n",
    "        elif model == \"contam_score\":\n",
    "            mean1 = np.eye(dim)[0] * mean # data\n",
    "            mean2 = np.zeros((dim,)) # model\n",
    "            \n",
    "            Xs = np.random.multivariate_normal(mean1, np.eye(dim), (nreps, n))    \n",
    "            score_fn = lambda x: - (x - mean2)\n",
    "        ###\n",
    "\n",
    "        if kernel_name == \"tilted\":\n",
    "            score_weight_fn = kernels.PolyWeightFunction()\n",
    "            kernel0 = kernels.RBF(sigma_sq=2.)\n",
    "            kernel = kernels.TiltedKernel(kernel=kernel0, weight_fn=score_weight_fn)\n",
    "        elif kernel_name == \"rbf\":\n",
    "            kernel = kernels.RBF(sigma_sq=2.)\n",
    "        \n",
    "        ksd = metrics.KSD(kernel, score_fn=score_fn)\n",
    "        for X in tqdm(Xs):\n",
    "            stat_ls.append(ksd(X, X))\n",
    "    \n",
    "        stats_ls_all_ol.append(stat_ls)\n",
    "\n",
    "        # compute deviation threshold\n",
    "        test_thres = ksd.test_threshold(n)\n",
    "        tau = ksd.tau\n",
    "        threshold_res[\"threshold\"].append(test_thres)\n",
    "        threshold_res[\"tau\"].append(tau)\n",
    "\n",
    "    return stats_ls_all_ol, threshold_res"
   ]
  },
  {
   "cell_type": "code",
   "execution_count": 212,
   "id": "83bcbaa5-7ae4-4bf2-b69a-9813b7983ca4",
   "metadata": {},
   "outputs": [],
   "source": [
    "np.random.seed(2024)"
   ]
  },
  {
   "cell_type": "code",
   "execution_count": 213,
   "id": "057b5be8-3996-453b-96c1-22afde11cdff",
   "metadata": {},
   "outputs": [
    {
     "data": {
      "application/vnd.jupyter.widget-view+json": {
       "model_id": "8559c6dafef94094908b1523bb384c66",
       "version_major": 2,
       "version_minor": 0
      },
      "text/plain": [
       "  0%|          | 0/200 [00:00<?, ?it/s]"
      ]
     },
     "metadata": {},
     "output_type": "display_data"
    },
    {
     "data": {
      "application/vnd.jupyter.widget-view+json": {
       "model_id": "38c3c8145b5445b0ab3db1f8e7005d1f",
       "version_major": 2,
       "version_minor": 0
      },
      "text/plain": [
       "  0%|          | 0/200 [00:00<?, ?it/s]"
      ]
     },
     "metadata": {},
     "output_type": "display_data"
    },
    {
     "data": {
      "application/vnd.jupyter.widget-view+json": {
       "model_id": "07e4ae1026d24a6aaeedf676b1ffc4fc",
       "version_major": 2,
       "version_minor": 0
      },
      "text/plain": [
       "  0%|          | 0/200 [00:00<?, ?it/s]"
      ]
     },
     "metadata": {},
     "output_type": "display_data"
    },
    {
     "data": {
      "application/vnd.jupyter.widget-view+json": {
       "model_id": "73e3fcaef9374b049f3b7c7d05bcd838",
       "version_major": 2,
       "version_minor": 0
      },
      "text/plain": [
       "  0%|          | 0/200 [00:00<?, ?it/s]"
      ]
     },
     "metadata": {},
     "output_type": "display_data"
    }
   ],
   "source": [
    "mean_ls = [1e-1, 1., 10., 100.]\n",
    "stats_ls_all_ms_tilted, thresh_res_ms = stats_mean_shift_threshold(mean_ls, \"tilted\", nreps=200)"
   ]
  },
  {
   "cell_type": "code",
   "execution_count": 214,
   "id": "8073bf42-f988-4898-bec6-a70196a7f613",
   "metadata": {},
   "outputs": [
    {
     "data": {
      "image/png": "[encoded data removed]",
      "text/plain": [
       "<Figure size 900x600 with 6 Axes>"
      ]
     },
     "metadata": {},
     "output_type": "display_data"
    }
   ],
   "source": [
    "# true sampling distribution\n",
    "figs, axes = plt.subplots(nrows=2, ncols=3, figsize=(9, 6))\n",
    "\n",
    "for i, ww in enumerate(mean_ls):\n",
    "    ax = axes.flatten()[i]\n",
    "    ax.hist(res_ms[\"tilted\"][i], bins=50, label=f\"outlier = {ww}\")\n",
    "    ax.hist(res_ms[\"tilted_null\"][0], bins=50, label=f\"null\")\n",
    "    ax.axvline(thresh_res_ms[\"threshold\"][i], color=\"gray\", linestyle=\"--\")\n",
    "    ax.legend()\n"
   ]
  },
  {
   "cell_type": "code",
   "execution_count": 228,
   "id": "ee67d496-81eb-40c6-ac55-b56d35e91e56",
   "metadata": {},
   "outputs": [],
   "source": [
    "def ksd_experiment_single(kernel_class, weight_fn_class, Xs, score_fn, theta, nboot=500, alpha=0.05):\n",
    "    res = {\n",
    "        \"deviation\": {\"val\": [], \"threshold\": [], \"rej\": [], \"tau\": []},\n",
    "    }\n",
    "\n",
    "    for X in tqdm(Xs, total=Xs.shape[0]):\n",
    "        weight_fn = weight_fn_class()\n",
    "        kernel0 = kernel_class(sigma_sq=2.)\n",
    "        kernel = kernels.TiltedKernel(kernel=kernel0, weight_fn=weight_fn)\n",
    "    \n",
    "        ksd = metrics.KSD(kernel, score_fn=score_fn)\n",
    "        val = ksd(X, X, vstat=True)\n",
    "        threshold = ksd.test_threshold(X.shape[0])\n",
    "        \n",
    "        # 1. deviation bound\n",
    "        # rej = mmd.reverse_test(X, Y, theta, alpha)\n",
    "        rej = np.float32(val > threshold)\n",
    "        \n",
    "        # save results\n",
    "        res[\"deviation\"][\"val\"].append(val)\n",
    "        res[\"deviation\"][\"threshold\"].append(threshold)\n",
    "        res[\"deviation\"][\"rej\"].append(rej)\n",
    "        res[\"deviation\"][\"tau\"].append(ksd.tau)\n",
    "        \n",
    "    return res\n",
    "\n",
    "def ksd_experiment(kernel_class, weight_fn_class, Xs, score_fns, theta, keys, nboot=500):\n",
    "    \"\"\"\n",
    "    Xs: [array(nrep, n, d), ...]\n",
    "    Ys: [array(nrep, n, d), ...]\n",
    "    \"\"\"\n",
    "    res = {}\n",
    "    for Xs_i, score_fn_i, kk in zip(Xs, score_fns, keys):\n",
    "        print(\"key:\", kk)\n",
    "        res[kk] = ksd_experiment_single(kernel_class, weight_fn_class, Xs_i, score_fn_i, theta, nboot=nboot)\n",
    "\n",
    "    return res\n",
    "    "
   ]
  },
  {
   "cell_type": "code",
   "execution_count": 246,
   "id": "3a070a47-4e09-4cb2-bf63-b71ab35f27f2",
   "metadata": {},
   "outputs": [],
   "source": [
    "np.random.seed(2024)"
   ]
  },
  {
   "cell_type": "code",
   "execution_count": 247,
   "id": "cc2cac11-425b-42b5-975e-b0f059e2da06",
   "metadata": {},
   "outputs": [],
   "source": [
    "nrep = 200\n",
    "n = 1000\n",
    "dim = 1\n",
    "mean1 = np.zeros((dim,)) # data\n",
    "mean2 = np.zeros((dim,)) # model\n",
    "\n",
    "mean_ls = [1., 1.2, 1.4, 1.6, 1.8, 2.]\n",
    "\n",
    "### Gaussian loc\n",
    "Xs = [\n",
    "    np.random.multivariate_normal(np.eye(dim)[0] * m, np.eye(dim), (nrep, n)) for m in mean_ls\n",
    "]\n",
    "\n",
    "score_fns = [lambda x: - (x - mean2) for _ in range(nrep)]\n",
    "\n",
    "### Gaussian with outliers\n",
    "# score_fns = [lambda x: - (x - mean2) for _ in range(nrep)]\n",
    "\n",
    "# eps = 0.01\n",
    "# outlier = 10.\n",
    "# Xs = np.random.multivariate_normal(mean1, np.eye(dim), (nrep, n))\n",
    "# n_outlier = max(1, int(n * eps))\n",
    "# Xs[:, :n_outlier] = outlier\n",
    "###\n",
    "\n",
    "weight_fn_class = kernels.PolyWeightFunction\n",
    "kernel_class = kernels.RBF"
   ]
  },
  {
   "cell_type": "code",
   "execution_count": 248,
   "id": "45a86154-7172-4b13-a1a1-7c27ebe7c5d9",
   "metadata": {},
   "outputs": [
    {
     "name": "stdout",
     "output_type": "stream",
     "text": [
      "key: 1.0\n"
     ]
    },
    {
     "data": {
      "application/vnd.jupyter.widget-view+json": {
       "model_id": "dc962890bbf94fccbd447d98ce1a16be",
       "version_major": 2,
       "version_minor": 0
      },
      "text/plain": [
       "  0%|          | 0/200 [00:00<?, ?it/s]"
      ]
     },
     "metadata": {},
     "output_type": "display_data"
    },
    {
     "name": "stdout",
     "output_type": "stream",
     "text": [
      "key: 1.2\n"
     ]
    },
    {
     "data": {
      "application/vnd.jupyter.widget-view+json": {
       "model_id": "07968b44440d45b7930e10eed32bfcbe",
       "version_major": 2,
       "version_minor": 0
      },
      "text/plain": [
       "  0%|          | 0/200 [00:00<?, ?it/s]"
      ]
     },
     "metadata": {},
     "output_type": "display_data"
    },
    {
     "name": "stdout",
     "output_type": "stream",
     "text": [
      "key: 1.4\n"
     ]
    },
    {
     "data": {
      "application/vnd.jupyter.widget-view+json": {
       "model_id": "cb74f947c7dd498695f75a3346c260e9",
       "version_major": 2,
       "version_minor": 0
      },
      "text/plain": [
       "  0%|          | 0/200 [00:00<?, ?it/s]"
      ]
     },
     "metadata": {},
     "output_type": "display_data"
    },
    {
     "name": "stdout",
     "output_type": "stream",
     "text": [
      "key: 1.6\n"
     ]
    },
    {
     "data": {
      "application/vnd.jupyter.widget-view+json": {
       "model_id": "920a3740d1ae4d859c9d5de990611105",
       "version_major": 2,
       "version_minor": 0
      },
      "text/plain": [
       "  0%|          | 0/200 [00:00<?, ?it/s]"
      ]
     },
     "metadata": {},
     "output_type": "display_data"
    },
    {
     "name": "stdout",
     "output_type": "stream",
     "text": [
      "key: 2.0\n"
     ]
    },
    {
     "data": {
      "application/vnd.jupyter.widget-view+json": {
       "model_id": "584040c6892c46eab91c0f0fa02a8604",
       "version_major": 2,
       "version_minor": 0
      },
      "text/plain": [
       "  0%|          | 0/200 [00:00<?, ?it/s]"
      ]
     },
     "metadata": {},
     "output_type": "display_data"
    }
   ],
   "source": [
    "res_ms = ksd_experiment(kernel_class, weight_fn_class, Xs, score_fns, theta=0., keys=mean_ls)"
   ]
  },
  {
   "cell_type": "code",
   "execution_count": 251,
   "id": "da0f319a-ea9b-4a62-8821-28240b1eb6e0",
   "metadata": {},
   "outputs": [
    {
     "data": {
      "image/png": "[encoded data removed]",
      "text/plain": [
       "<Figure size 300x300 with 1 Axes>"
      ]
     },
     "metadata": {},
     "output_type": "display_data"
    }
   ],
   "source": [
    "# expect to see power for larger mean shifts\n",
    "fig, ax = plt.subplots(figsize=(3, 3))\n",
    "\n",
    "rej_rate = [np.mean(res_ms[kk][\"deviation\"][\"rej\"]) for kk in mean_ls]\n",
    "ax.scatter(mean_ls, rej_rate)\n",
    "# ax.set_xscale(\"log\")\n",
    "\n",
    "plt.tight_layout()"
   ]
  },
  {
   "cell_type": "markdown",
   "id": "49afeb9f-ee8a-4ed1-bde4-6a218788aa22",
   "metadata": {
    "jp-MarkdownHeadingCollapsed": true
   },
   "source": [
    "# Check KSD differences with and without contamination"
   ]
  },
  {
   "cell_type": "code",
   "execution_count": 258,
   "id": "8b7c09fb-85ee-4aaa-80e9-b3a1e427f373",
   "metadata": {},
   "outputs": [],
   "source": [
    "def make_contam_score(mu, eps):\n",
    "    mu_norm_sq = np.sum(mu**2)\n",
    "    mu_pd = np.reshape(mu, (1, -1))\n",
    "    def contam_score(x):\n",
    "        exp = np.exp(- 0.5 * mu_norm_sq + np.sum(mu_pd * x))\n",
    "        num = - (1 - eps) * x - eps * (x - mu_pd) * exp\n",
    "        denom = 1 - eps + eps * exp\n",
    "        return num / denom\n",
    "    return contam_score"
   ]
  },
  {
   "cell_type": "code",
   "execution_count": null,
   "id": "d6ba6a8d-1869-41a7-9840-3e5d1b627955",
   "metadata": {},
   "outputs": [],
   "source": []
  },
  {
   "cell_type": "code",
   "execution_count": null,
   "id": "3b6d6875-b5e4-4771-9217-d78bcfcc4c4d",
   "metadata": {},
   "outputs": [],
   "source": []
  },
  {
   "cell_type": "code",
   "execution_count": null,
   "id": "f549c431-fb17-4b08-b5da-8494573ab640",
   "metadata": {},
   "outputs": [],
   "source": []
  }
 ],
 "metadata": {
  "kernelspec": {
   "display_name": "robust",
   "language": "python",
   "name": "robust"
  },
  "language_info": {
   "codemirror_mode": {
    "name": "ipython",
    "version": 3
   },
   "file_extension": ".py",
   "mimetype": "text/x-python",
   "name": "python",
   "nbconvert_exporter": "python",
   "pygments_lexer": "ipython3",
   "version": "3.8.10"
  }
 },
 "nbformat": 4,
 "nbformat_minor": 5
}
