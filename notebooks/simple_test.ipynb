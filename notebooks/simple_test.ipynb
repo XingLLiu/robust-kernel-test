{
 "cells": [
  {
   "cell_type": "code",
   "execution_count": 1,
   "id": "d8c0257e-4e22-46ac-9154-9776715c9008",
   "metadata": {},
   "outputs": [],
   "source": [
    "%load_ext autoreload\n",
    "%autoreload 2\n",
    "\n",
    "import numpy as np\n",
    "import matplotlib.pyplot as plt\n",
    "from tqdm.notebook import tqdm, trange\n",
    "import seaborn as sns\n",
    "\n",
    "import src.metrics as metrics\n",
    "import src.kernels as kernels\n",
    "import src.bootstrap as boot"
   ]
  },
  {
   "cell_type": "markdown",
   "id": "78a99f46-a804-4fff-be97-71ac876daf11",
   "metadata": {
    "jp-MarkdownHeadingCollapsed": true
   },
   "source": [
    "# KSD standard kernel"
   ]
  },
  {
   "cell_type": "code",
   "execution_count": null,
   "id": "05d571b4-63ac-4a58-a91a-702cf3ecbdb3",
   "metadata": {},
   "outputs": [],
   "source": [
    "np.random.seed(2024)"
   ]
  },
  {
   "cell_type": "code",
   "execution_count": null,
   "id": "13a5d0c8-0f1d-496a-8282-63d7577b0569",
   "metadata": {},
   "outputs": [],
   "source": [
    "# simulate sampling distribution for stat\n",
    "stats_ls_all_eps = []\n",
    "eps_ls = [0.001, 0.005, 0.01, 0.05, 0.1]\n",
    "nreps = 1000\n",
    "\n",
    "for eps in eps_ls:\n",
    "    stat_ls = []\n",
    "    \n",
    "    ###\n",
    "    mean1 = np.zeros((dim,)) # data\n",
    "    mean2 = np.zeros((dim,)) # model\n",
    "    \n",
    "    Xs = np.random.multivariate_normal(mean1, np.eye(dim), (nreps, n))\n",
    "    n_outlier = max(1, int(n * eps))\n",
    "    Xs[:, :n_outlier] = outlier\n",
    "\n",
    "    score_fn = lambda x: - (x - mean2)\n",
    "    ###\n",
    "    \n",
    "    kernel = kernels.RBF(sigma_sq=2.)\n",
    "    ksd = metrics.KSD(kernel, score_fn=score_fn)\n",
    "    for X in tqdm(Xs):\n",
    "        stat_ls.append(ksd(X, X, vstat=True))\n",
    "\n",
    "    stats_ls_all_eps.append(stat_ls)"
   ]
  },
  {
   "cell_type": "markdown",
   "id": "1c201476-c496-44ce-b962-553635472eaa",
   "metadata": {},
   "source": [
    "# KSD tilted kernel"
   ]
  },
  {
   "cell_type": "code",
   "execution_count": 28,
   "id": "22409984-3d41-4b9e-8f04-feca6105a088",
   "metadata": {},
   "outputs": [],
   "source": [
    "def stats_against_outliers(outliers_ls, kernel_name, nreps, eps=0.01, dim=1, n=1000):\n",
    "    stats_ls_all_ol = []\n",
    "    \n",
    "    for outlier in outliers_ls:\n",
    "        stat_ls = []\n",
    "        \n",
    "        ###\n",
    "        mean1 = np.zeros((dim,)) # data\n",
    "        mean2 = np.zeros((dim,)) # model\n",
    "        \n",
    "        Xs = np.random.multivariate_normal(mean1, np.eye(dim), (nreps, n))\n",
    "        n_outlier = max(1, int(n * eps))\n",
    "        Xs[:, :n_outlier] = outlier\n",
    "    \n",
    "        score_fn = lambda x: - (x - mean2)\n",
    "        ###\n",
    "\n",
    "        if kernel_name == \"tilted\":\n",
    "            score_weight_fn = kernels.ScoreWeightFunction(score_fn)\n",
    "            kernel0 = kernels.RBF(sigma_sq=2.)\n",
    "            kernel = kernels.TiltedKernel(kernel=kernel0, weight_fn=score_weight_fn)\n",
    "        elif kernel_name == \"rbf\":\n",
    "            kernel = kernels.RBF(sigma_sq=2.)\n",
    "        \n",
    "        ksd = metrics.KSD(kernel, score_fn=score_fn)\n",
    "        for X in tqdm(Xs):\n",
    "            stat_ls.append(ksd(X, X))\n",
    "    \n",
    "        stats_ls_all_ol.append(stat_ls)\n",
    "\n",
    "    return stats_ls_all_ol"
   ]
  },
  {
   "cell_type": "code",
   "execution_count": 18,
   "id": "5e6849be-a87d-4704-b9d5-f683bf8c50a3",
   "metadata": {},
   "outputs": [],
   "source": [
    "np.random.seed(2024)"
   ]
  },
  {
   "cell_type": "code",
   "execution_count": 19,
   "id": "3845ee8c-21ba-4b37-8869-fe8efe6ab6e9",
   "metadata": {},
   "outputs": [],
   "source": [
    "# # simulate sampling distribution for stat\n",
    "# # res_ol = {\"RBF\": [], \"tilted\": []}\n",
    "# stats_ls_all_ol = []\n",
    "# outliers_ls = [0.001, 0.01, 0.1, 1., 10., 100.]\n",
    "# nreps = 10\n",
    "\n",
    "# for outlier in outliers_ls:\n",
    "#     stat_ls = []\n",
    "    \n",
    "#     ###\n",
    "#     mean1 = np.zeros((dim,)) # data\n",
    "#     mean2 = np.zeros((dim,)) # model\n",
    "    \n",
    "#     eps = 0.01\n",
    "#     Xs = np.random.multivariate_normal(mean1, np.eye(dim), (nreps, n))\n",
    "#     n_outlier = max(1, int(n * eps))\n",
    "#     Xs[:, :n_outlier] = outlier\n",
    "\n",
    "#     score_fn = lambda x: - (x - mean2)\n",
    "#     ###\n",
    "    \n",
    "#     score_weight_fn = kernels.ScoreWeightFunction(score_fn)\n",
    "#     kernel0 = kernels.RBF(sigma_sq=2.)\n",
    "#     kernel = kernels.TiltedKernel(kernel=kernel0, weight_fn=score_weight_fn)\n",
    "    \n",
    "#     ksd = metrics.KSD(kernel, score_fn=score_fn)\n",
    "#     for X in tqdm(Xs):\n",
    "#         stat_ls.append(ksd(X, X))\n",
    "\n",
    "#     stats_ls_all_ol.append(stat_ls)"
   ]
  },
  {
   "cell_type": "code",
   "execution_count": 40,
   "id": "09eed48f-86a9-49df-b5a0-1dc8c28e33fb",
   "metadata": {},
   "outputs": [],
   "source": [
    "outliers_ls = [0.001, 0.01, 0.1, 1., 10., 100.]"
   ]
  },
  {
   "cell_type": "code",
   "execution_count": 31,
   "id": "b17283d9-7f8d-4df1-aebb-ab7372880f03",
   "metadata": {},
   "outputs": [
    {
     "data": {
      "application/vnd.jupyter.widget-view+json": {
       "model_id": "1b45d6ed9a9c4b1e9a7c224341cafebc",
       "version_major": 2,
       "version_minor": 0
      },
      "text/plain": [
       "  0%|          | 0/1000 [00:00<?, ?it/s]"
      ]
     },
     "metadata": {},
     "output_type": "display_data"
    },
    {
     "data": {
      "application/vnd.jupyter.widget-view+json": {
       "model_id": "add814d4601948c4bcd43c2e0c466bbb",
       "version_major": 2,
       "version_minor": 0
      },
      "text/plain": [
       "  0%|          | 0/1000 [00:00<?, ?it/s]"
      ]
     },
     "metadata": {},
     "output_type": "display_data"
    },
    {
     "data": {
      "application/vnd.jupyter.widget-view+json": {
       "model_id": "5d744f7cd7f24c2f8eb691d1d308c8a3",
       "version_major": 2,
       "version_minor": 0
      },
      "text/plain": [
       "  0%|          | 0/1000 [00:00<?, ?it/s]"
      ]
     },
     "metadata": {},
     "output_type": "display_data"
    },
    {
     "data": {
      "application/vnd.jupyter.widget-view+json": {
       "model_id": "80802012d1c74320927c8a9ead3e323b",
       "version_major": 2,
       "version_minor": 0
      },
      "text/plain": [
       "  0%|          | 0/1000 [00:00<?, ?it/s]"
      ]
     },
     "metadata": {},
     "output_type": "display_data"
    },
    {
     "data": {
      "application/vnd.jupyter.widget-view+json": {
       "model_id": "2a17e34e00884c38927e5226876d92ca",
       "version_major": 2,
       "version_minor": 0
      },
      "text/plain": [
       "  0%|          | 0/1000 [00:00<?, ?it/s]"
      ]
     },
     "metadata": {},
     "output_type": "display_data"
    },
    {
     "data": {
      "application/vnd.jupyter.widget-view+json": {
       "model_id": "ce14e7c0c1404314939d665480640bbd",
       "version_major": 2,
       "version_minor": 0
      },
      "text/plain": [
       "  0%|          | 0/1000 [00:00<?, ?it/s]"
      ]
     },
     "metadata": {},
     "output_type": "display_data"
    }
   ],
   "source": [
    "stats_ls_all_ol_tilted = stats_against_outliers(outliers_ls, \"tilted\", nreps=1000)"
   ]
  },
  {
   "cell_type": "code",
   "execution_count": 32,
   "id": "d6d0fdc8-c8c6-48be-ad15-6a16cdb20aae",
   "metadata": {},
   "outputs": [
    {
     "data": {
      "application/vnd.jupyter.widget-view+json": {
       "model_id": "86f93c6a75b64161b431fbc247888967",
       "version_major": 2,
       "version_minor": 0
      },
      "text/plain": [
       "  0%|          | 0/1000 [00:00<?, ?it/s]"
      ]
     },
     "metadata": {},
     "output_type": "display_data"
    },
    {
     "data": {
      "application/vnd.jupyter.widget-view+json": {
       "model_id": "d79833a0dfa247e18ca29d41a9acb56a",
       "version_major": 2,
       "version_minor": 0
      },
      "text/plain": [
       "  0%|          | 0/1000 [00:00<?, ?it/s]"
      ]
     },
     "metadata": {},
     "output_type": "display_data"
    },
    {
     "data": {
      "application/vnd.jupyter.widget-view+json": {
       "model_id": "2dfef6f5f799449aa1c16fde10fdf352",
       "version_major": 2,
       "version_minor": 0
      },
      "text/plain": [
       "  0%|          | 0/1000 [00:00<?, ?it/s]"
      ]
     },
     "metadata": {},
     "output_type": "display_data"
    },
    {
     "data": {
      "application/vnd.jupyter.widget-view+json": {
       "model_id": "eac28fe9fbbb4d28a61cf6327c0dab25",
       "version_major": 2,
       "version_minor": 0
      },
      "text/plain": [
       "  0%|          | 0/1000 [00:00<?, ?it/s]"
      ]
     },
     "metadata": {},
     "output_type": "display_data"
    },
    {
     "data": {
      "application/vnd.jupyter.widget-view+json": {
       "model_id": "a68de02ce9be4931a3fa1f290efc6805",
       "version_major": 2,
       "version_minor": 0
      },
      "text/plain": [
       "  0%|          | 0/1000 [00:00<?, ?it/s]"
      ]
     },
     "metadata": {},
     "output_type": "display_data"
    },
    {
     "data": {
      "application/vnd.jupyter.widget-view+json": {
       "model_id": "d69a30796bd74e689ca1590b87cef3f9",
       "version_major": 2,
       "version_minor": 0
      },
      "text/plain": [
       "  0%|          | 0/1000 [00:00<?, ?it/s]"
      ]
     },
     "metadata": {},
     "output_type": "display_data"
    }
   ],
   "source": [
    "stats_ls_all_ol_rbf = stats_against_outliers(outliers_ls, \"rbf\", nreps=1000)"
   ]
  },
  {
   "cell_type": "code",
   "execution_count": null,
   "id": "5031b6a4-7b0b-454d-bd61-47f352ce1698",
   "metadata": {},
   "outputs": [],
   "source": [
    "stats_ls_all_ol_null = stats_against_outliers([0.], \"tilted\", eps=0., nreps=1000)"
   ]
  },
  {
   "cell_type": "code",
   "execution_count": 33,
   "id": "9cab3b6e-0a18-4f0c-944e-cd85f76806bd",
   "metadata": {},
   "outputs": [],
   "source": [
    "res_ol = {\"tilted\": stats_ls_all_ol_tilted, \"rbf\": stats_ls_all_ol_rbf}"
   ]
  },
  {
   "cell_type": "code",
   "execution_count": 36,
   "id": "7eab0c36-4720-4585-83ff-b25843760c48",
   "metadata": {},
   "outputs": [
    {
     "data": {
      "image/png": "[encoded data removed]",
      "text/plain": [
       "<Figure size 900x600 with 6 Axes>"
      ]
     },
     "metadata": {},
     "output_type": "display_data"
    }
   ],
   "source": [
    "# true sampling distribution\n",
    "figs, axes = plt.subplots(nrows=2, ncols=3, figsize=(9, 6))\n",
    "\n",
    "for i, ww in enumerate(outliers_ls):\n",
    "    ax = axes.flatten()[i]\n",
    "    ax.hist(stats_ls_all_ol_tilted[i], bins=50, label=f\"outlier = {ww}\")\n",
    "    ax.set_xlim(0., 0.11)\n",
    "    ax.legend()"
   ]
  },
  {
   "cell_type": "code",
   "execution_count": 39,
   "id": "e4d28351-beba-4afe-9c07-c367c002f671",
   "metadata": {},
   "outputs": [
    {
     "data": {
      "image/png": "[encoded data removed]",
      "text/plain": [
       "<Figure size 900x600 with 6 Axes>"
      ]
     },
     "metadata": {},
     "output_type": "display_data"
    }
   ],
   "source": [
    "# true sampling distribution\n",
    "figs, axes = plt.subplots(nrows=2, ncols=3, figsize=(9, 6))\n",
    "\n",
    "for i, ww in enumerate(outliers_ls):\n",
    "    ax = axes.flatten()[i]\n",
    "    ax.hist(stats_ls_all_ol_rbf[i], bins=50, label=f\"outlier = {ww}\")\n",
    "    ax.set_xlim(0.)\n",
    "    ax.legend()"
   ]
  },
  {
   "cell_type": "code",
   "execution_count": null,
   "id": "26f50b9a-d114-4244-a65a-ada40d0e1ba1",
   "metadata": {},
   "outputs": [],
   "source": []
  },
  {
   "cell_type": "code",
   "execution_count": null,
   "id": "bce2d4b8-0501-4c2c-b5ed-0bb2f0cff5e8",
   "metadata": {},
   "outputs": [],
   "source": []
  }
 ],
 "metadata": {
  "kernelspec": {
   "display_name": "robust",
   "language": "python",
   "name": "robust"
  },
  "language_info": {
   "codemirror_mode": {
    "name": "ipython",
    "version": 3
   },
   "file_extension": ".py",
   "mimetype": "text/x-python",
   "name": "python",
   "nbconvert_exporter": "python",
   "pygments_lexer": "ipython3",
   "version": "3.8.10"
  }
 },
 "nbformat": 4,
 "nbformat_minor": 5
}
