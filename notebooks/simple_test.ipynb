{
 "cells": [
  {
   "cell_type": "code",
   "execution_count": 1,
   "id": "d8c0257e-4e22-46ac-9154-9776715c9008",
   "metadata": {},
   "outputs": [],
   "source": [
    "%load_ext autoreload\n",
    "%autoreload 2\n",
    "\n",
    "import numpy as np\n",
    "import matplotlib.pyplot as plt\n",
    "from tqdm.notebook import tqdm, trange\n",
    "import seaborn as sns\n",
    "\n",
    "import src.metrics as metrics\n",
    "import src.kernels as kernels\n",
    "import src.bootstrap as boot"
   ]
  },
  {
   "cell_type": "markdown",
   "id": "78a99f46-a804-4fff-be97-71ac876daf11",
   "metadata": {
    "jp-MarkdownHeadingCollapsed": true
   },
   "source": [
    "# KSD standard kernel"
   ]
  },
  {
   "cell_type": "code",
   "execution_count": null,
   "id": "05d571b4-63ac-4a58-a91a-702cf3ecbdb3",
   "metadata": {},
   "outputs": [],
   "source": [
    "np.random.seed(2024)"
   ]
  },
  {
   "cell_type": "code",
   "execution_count": null,
   "id": "13a5d0c8-0f1d-496a-8282-63d7577b0569",
   "metadata": {},
   "outputs": [],
   "source": [
    "# simulate sampling distribution for stat\n",
    "stats_ls_all_eps = []\n",
    "eps_ls = [0.001, 0.005, 0.01, 0.05, 0.1]\n",
    "nreps = 1000\n",
    "\n",
    "for eps in eps_ls:\n",
    "    stat_ls = []\n",
    "    \n",
    "    ###\n",
    "    mean1 = np.zeros((dim,)) # data\n",
    "    mean2 = np.zeros((dim,)) # model\n",
    "    \n",
    "    Xs = np.random.multivariate_normal(mean1, np.eye(dim), (nreps, n))\n",
    "    n_outlier = max(1, int(n * eps))\n",
    "    Xs[:, :n_outlier] = outlier\n",
    "\n",
    "    score_fn = lambda x: - (x - mean2)\n",
    "    ###\n",
    "    \n",
    "    kernel = kernels.RBF(sigma_sq=2.)\n",
    "    ksd = metrics.KSD(kernel, score_fn=score_fn)\n",
    "    for X in tqdm(Xs):\n",
    "        stat_ls.append(ksd(X, X, vstat=True))\n",
    "\n",
    "    stats_ls_all_eps.append(stat_ls)"
   ]
  },
  {
   "cell_type": "markdown",
   "id": "1c201476-c496-44ce-b962-553635472eaa",
   "metadata": {},
   "source": [
    "# KSD tilted kernel"
   ]
  },
  {
   "cell_type": "code",
   "execution_count": 138,
   "id": "22409984-3d41-4b9e-8f04-feca6105a088",
   "metadata": {},
   "outputs": [],
   "source": [
    "def stats_against_outliers(outliers_ls, kernel_name, nreps, eps=0.01, dim=1, n=1000):\n",
    "    stats_ls_all_ol = []\n",
    "    \n",
    "    for outlier in outliers_ls:\n",
    "        stat_ls = []\n",
    "        \n",
    "        ###\n",
    "        mean1 = np.zeros((dim,)) # data\n",
    "        mean2 = np.zeros((dim,)) # model\n",
    "        \n",
    "        Xs = np.random.multivariate_normal(mean1, np.eye(dim), (nreps, n))\n",
    "        n_outlier = max(1, int(n * eps))\n",
    "        Xs[:, :n_outlier] = outlier\n",
    "    \n",
    "        score_fn = lambda x: - (x - mean2)\n",
    "        ###\n",
    "\n",
    "        if kernel_name == \"tilted\":\n",
    "            score_weight_fn = kernels.PolyWeightFunction()\n",
    "            kernel0 = kernels.RBF(sigma_sq=2.)\n",
    "            kernel = kernels.TiltedKernel(kernel=kernel0, weight_fn=score_weight_fn)\n",
    "        elif kernel_name == \"rbf\":\n",
    "            kernel = kernels.RBF(sigma_sq=2.)\n",
    "        \n",
    "        ksd = metrics.KSD(kernel, score_fn=score_fn)\n",
    "        for X in tqdm(Xs):\n",
    "            stat_ls.append(ksd(X, X))\n",
    "    \n",
    "        stats_ls_all_ol.append(stat_ls)\n",
    "\n",
    "    return stats_ls_all_ol"
   ]
  },
  {
   "cell_type": "code",
   "execution_count": 18,
   "id": "5e6849be-a87d-4704-b9d5-f683bf8c50a3",
   "metadata": {},
   "outputs": [],
   "source": [
    "np.random.seed(2024)"
   ]
  },
  {
   "cell_type": "code",
   "execution_count": 19,
   "id": "3845ee8c-21ba-4b37-8869-fe8efe6ab6e9",
   "metadata": {},
   "outputs": [],
   "source": [
    "# # simulate sampling distribution for stat\n",
    "# # res_ol = {\"RBF\": [], \"tilted\": []}\n",
    "# stats_ls_all_ol = []\n",
    "# outliers_ls = [0.001, 0.01, 0.1, 1., 10., 100.]\n",
    "# nreps = 10\n",
    "\n",
    "# for outlier in outliers_ls:\n",
    "#     stat_ls = []\n",
    "    \n",
    "#     ###\n",
    "#     mean1 = np.zeros((dim,)) # data\n",
    "#     mean2 = np.zeros((dim,)) # model\n",
    "    \n",
    "#     eps = 0.01\n",
    "#     Xs = np.random.multivariate_normal(mean1, np.eye(dim), (nreps, n))\n",
    "#     n_outlier = max(1, int(n * eps))\n",
    "#     Xs[:, :n_outlier] = outlier\n",
    "\n",
    "#     score_fn = lambda x: - (x - mean2)\n",
    "#     ###\n",
    "    \n",
    "#     score_weight_fn = kernels.ScoreWeightFunction(score_fn)\n",
    "#     kernel0 = kernels.RBF(sigma_sq=2.)\n",
    "#     kernel = kernels.TiltedKernel(kernel=kernel0, weight_fn=score_weight_fn)\n",
    "    \n",
    "#     ksd = metrics.KSD(kernel, score_fn=score_fn)\n",
    "#     for X in tqdm(Xs):\n",
    "#         stat_ls.append(ksd(X, X))\n",
    "\n",
    "#     stats_ls_all_ol.append(stat_ls)"
   ]
  },
  {
   "cell_type": "code",
   "execution_count": 136,
   "id": "09eed48f-86a9-49df-b5a0-1dc8c28e33fb",
   "metadata": {},
   "outputs": [],
   "source": [
    "outliers_ls = [0.001, 0.01, 0.1, 1., 10., 100.]"
   ]
  },
  {
   "cell_type": "code",
   "execution_count": 139,
   "id": "5031b6a4-7b0b-454d-bd61-47f352ce1698",
   "metadata": {},
   "outputs": [
    {
     "data": {
      "application/vnd.jupyter.widget-view+json": {
       "model_id": "03e038a875b143edb89fafe2470b1527",
       "version_major": 2,
       "version_minor": 0
      },
      "text/plain": [
       "  0%|          | 0/1000 [00:00<?, ?it/s]"
      ]
     },
     "metadata": {},
     "output_type": "display_data"
    }
   ],
   "source": [
    "stats_ls_all_ol_tilted_null = stats_against_outliers([0.], \"tilted\", eps=0., nreps=1000)"
   ]
  },
  {
   "cell_type": "code",
   "execution_count": 142,
   "id": "b17283d9-7f8d-4df1-aebb-ab7372880f03",
   "metadata": {},
   "outputs": [
    {
     "data": {
      "application/vnd.jupyter.widget-view+json": {
       "model_id": "31fbbf49200a40d088de2669639bbfb9",
       "version_major": 2,
       "version_minor": 0
      },
      "text/plain": [
       "  0%|          | 0/1000 [00:00<?, ?it/s]"
      ]
     },
     "metadata": {},
     "output_type": "display_data"
    },
    {
     "data": {
      "application/vnd.jupyter.widget-view+json": {
       "model_id": "8ec703196d5c4356a23e058c9b9c3d2c",
       "version_major": 2,
       "version_minor": 0
      },
      "text/plain": [
       "  0%|          | 0/1000 [00:00<?, ?it/s]"
      ]
     },
     "metadata": {},
     "output_type": "display_data"
    },
    {
     "data": {
      "application/vnd.jupyter.widget-view+json": {
       "model_id": "38b2d32d55894cbd964e02ed49c706bd",
       "version_major": 2,
       "version_minor": 0
      },
      "text/plain": [
       "  0%|          | 0/1000 [00:00<?, ?it/s]"
      ]
     },
     "metadata": {},
     "output_type": "display_data"
    },
    {
     "data": {
      "application/vnd.jupyter.widget-view+json": {
       "model_id": "e66aeab95aba4325832b3a86473215db",
       "version_major": 2,
       "version_minor": 0
      },
      "text/plain": [
       "  0%|          | 0/1000 [00:00<?, ?it/s]"
      ]
     },
     "metadata": {},
     "output_type": "display_data"
    },
    {
     "data": {
      "application/vnd.jupyter.widget-view+json": {
       "model_id": "a020d9eaed8b48d29b7e4e9639c0ddbe",
       "version_major": 2,
       "version_minor": 0
      },
      "text/plain": [
       "  0%|          | 0/1000 [00:00<?, ?it/s]"
      ]
     },
     "metadata": {},
     "output_type": "display_data"
    },
    {
     "data": {
      "application/vnd.jupyter.widget-view+json": {
       "model_id": "bae503e6bf9a44a88c2d2368de6358c2",
       "version_major": 2,
       "version_minor": 0
      },
      "text/plain": [
       "  0%|          | 0/1000 [00:00<?, ?it/s]"
      ]
     },
     "metadata": {},
     "output_type": "display_data"
    }
   ],
   "source": [
    "stats_ls_all_ol_tilted = stats_against_outliers(outliers_ls, \"tilted\", nreps=1000)"
   ]
  },
  {
   "cell_type": "code",
   "execution_count": 50,
   "id": "5f491d1f-908c-497b-842a-9a0a5a2b01f4",
   "metadata": {},
   "outputs": [
    {
     "data": {
      "application/vnd.jupyter.widget-view+json": {
       "model_id": "cd79cf48475d40d495801a08b751ec0b",
       "version_major": 2,
       "version_minor": 0
      },
      "text/plain": [
       "  0%|          | 0/1000 [00:00<?, ?it/s]"
      ]
     },
     "metadata": {},
     "output_type": "display_data"
    }
   ],
   "source": [
    "stats_ls_all_ol_rbf_null = stats_against_outliers([0.], \"rbf\", eps=0., nreps=1000)"
   ]
  },
  {
   "cell_type": "code",
   "execution_count": 32,
   "id": "d6d0fdc8-c8c6-48be-ad15-6a16cdb20aae",
   "metadata": {},
   "outputs": [
    {
     "data": {
      "application/vnd.jupyter.widget-view+json": {
       "model_id": "86f93c6a75b64161b431fbc247888967",
       "version_major": 2,
       "version_minor": 0
      },
      "text/plain": [
       "  0%|          | 0/1000 [00:00<?, ?it/s]"
      ]
     },
     "metadata": {},
     "output_type": "display_data"
    },
    {
     "data": {
      "application/vnd.jupyter.widget-view+json": {
       "model_id": "d79833a0dfa247e18ca29d41a9acb56a",
       "version_major": 2,
       "version_minor": 0
      },
      "text/plain": [
       "  0%|          | 0/1000 [00:00<?, ?it/s]"
      ]
     },
     "metadata": {},
     "output_type": "display_data"
    },
    {
     "data": {
      "application/vnd.jupyter.widget-view+json": {
       "model_id": "2dfef6f5f799449aa1c16fde10fdf352",
       "version_major": 2,
       "version_minor": 0
      },
      "text/plain": [
       "  0%|          | 0/1000 [00:00<?, ?it/s]"
      ]
     },
     "metadata": {},
     "output_type": "display_data"
    },
    {
     "data": {
      "application/vnd.jupyter.widget-view+json": {
       "model_id": "eac28fe9fbbb4d28a61cf6327c0dab25",
       "version_major": 2,
       "version_minor": 0
      },
      "text/plain": [
       "  0%|          | 0/1000 [00:00<?, ?it/s]"
      ]
     },
     "metadata": {},
     "output_type": "display_data"
    },
    {
     "data": {
      "application/vnd.jupyter.widget-view+json": {
       "model_id": "a68de02ce9be4931a3fa1f290efc6805",
       "version_major": 2,
       "version_minor": 0
      },
      "text/plain": [
       "  0%|          | 0/1000 [00:00<?, ?it/s]"
      ]
     },
     "metadata": {},
     "output_type": "display_data"
    },
    {
     "data": {
      "application/vnd.jupyter.widget-view+json": {
       "model_id": "d69a30796bd74e689ca1590b87cef3f9",
       "version_major": 2,
       "version_minor": 0
      },
      "text/plain": [
       "  0%|          | 0/1000 [00:00<?, ?it/s]"
      ]
     },
     "metadata": {},
     "output_type": "display_data"
    }
   ],
   "source": [
    "stats_ls_all_ol_rbf = stats_against_outliers(outliers_ls, \"rbf\", nreps=1000)"
   ]
  },
  {
   "cell_type": "code",
   "execution_count": 150,
   "id": "da7a58d3-bc9d-40a0-a9e8-f8c16d96233b",
   "metadata": {},
   "outputs": [],
   "source": [
    "res_ol = {\"tilted\": stats_ls_all_ol_tilted, \"rbf\": stats_ls_all_ol_rbf, \n",
    "          \"tilted_null\": stats_ls_all_ol_tilted_null, \"rbf_null\": stats_ls_all_ol_rbf_null}"
   ]
  },
  {
   "cell_type": "code",
   "execution_count": 52,
   "id": "5a4bf998-a635-468e-8d14-518097f65d47",
   "metadata": {},
   "outputs": [],
   "source": [
    "# import pickle\n",
    "# pickle.dump(res_ol, open(\"../res/ustats_outlier.pkl\", \"wb\"))"
   ]
  },
  {
   "cell_type": "code",
   "execution_count": 153,
   "id": "7eab0c36-4720-4585-83ff-b25843760c48",
   "metadata": {},
   "outputs": [
    {
     "data": {
      "image/png": "[encoded data removed]",
      "text/plain": [
       "<Figure size 900x600 with 6 Axes>"
      ]
     },
     "metadata": {},
     "output_type": "display_data"
    }
   ],
   "source": [
    "# true sampling distribution\n",
    "figs, axes = plt.subplots(nrows=2, ncols=3, figsize=(9, 6))\n",
    "\n",
    "for i, ww in enumerate(outliers_ls):\n",
    "    ax = axes.flatten()[i]\n",
    "    ax.hist(res_ol[\"tilted\"][i], bins=50, label=f\"outlier = {ww}\")\n",
    "    ax.hist(res_ol[\"tilted_null\"][0], bins=50, label=f\"null\")\n",
    "    # ax.set_xlim(0., 0.11)\n",
    "    ax.legend()"
   ]
  },
  {
   "cell_type": "code",
   "execution_count": 147,
   "id": "e4d28351-beba-4afe-9c07-c367c002f671",
   "metadata": {},
   "outputs": [
    {
     "data": {
      "image/png": "[encoded data removed]",
      "text/plain": [
       "<Figure size 900x600 with 6 Axes>"
      ]
     },
     "metadata": {},
     "output_type": "display_data"
    }
   ],
   "source": [
    "# true sampling distribution\n",
    "figs, axes = plt.subplots(nrows=2, ncols=3, figsize=(9, 6))\n",
    "\n",
    "for i, ww in enumerate(outliers_ls):\n",
    "    ax = axes.flatten()[i]\n",
    "    ax.hist(res_ol[\"rbf\"][i], bins=50, label=f\"outlier = {ww}\")\n",
    "    ax.hist(res_ol[\"rbf_null\"][0], bins=50, label=f\"null\")\n",
    "    ax.set_xlim(0.)\n",
    "    ax.legend()"
   ]
  },
  {
   "cell_type": "markdown",
   "id": "110f3fd0-a3fc-4bfd-a212-ca8b3784a48e",
   "metadata": {},
   "source": [
    "Check power"
   ]
  },
  {
   "cell_type": "code",
   "execution_count": 164,
   "id": "75fbd806-e9da-45b3-a630-39e68cbe6d22",
   "metadata": {},
   "outputs": [],
   "source": [
    "def stats_mean_shift(mean_ls, kernel_name, nreps, dim=1, n=1000):\n",
    "    stats_ls_all_ol = []\n",
    "    \n",
    "    for mean in mean_ls:\n",
    "        stat_ls = []\n",
    "        \n",
    "        ###\n",
    "        mean1 = np.eye(dim)[0] * mean # data\n",
    "        mean2 = np.zeros((dim,)) # model\n",
    "        \n",
    "        Xs = np.random.multivariate_normal(mean1, np.eye(dim), (nreps, n))    \n",
    "        score_fn = lambda x: - (x - mean2)\n",
    "        ###\n",
    "\n",
    "        if kernel_name == \"tilted\":\n",
    "            score_weight_fn = kernels.PolyWeightFunction()\n",
    "            kernel0 = kernels.RBF(sigma_sq=2.)\n",
    "            kernel = kernels.TiltedKernel(kernel=kernel0, weight_fn=score_weight_fn)\n",
    "        elif kernel_name == \"rbf\":\n",
    "            kernel = kernels.RBF(sigma_sq=2.)\n",
    "        \n",
    "        ksd = metrics.KSD(kernel, score_fn=score_fn)\n",
    "        for X in tqdm(Xs):\n",
    "            stat_ls.append(ksd(X, X))\n",
    "    \n",
    "        stats_ls_all_ol.append(stat_ls)\n",
    "\n",
    "    return stats_ls_all_ol"
   ]
  },
  {
   "cell_type": "code",
   "execution_count": 183,
   "id": "9951e995-6423-4ccc-a5e1-f9effd886eb2",
   "metadata": {},
   "outputs": [],
   "source": [
    "np.random.seed(2024)"
   ]
  },
  {
   "cell_type": "code",
   "execution_count": 184,
   "id": "977bf833-6240-4602-ba85-44f784acb0a8",
   "metadata": {},
   "outputs": [],
   "source": [
    "mean_ls = [1e-2, 1e-1, 1., 10., 100., 1000.]"
   ]
  },
  {
   "cell_type": "code",
   "execution_count": null,
   "id": "99ba3e51-baa2-48f5-b236-1019db1333f7",
   "metadata": {},
   "outputs": [
    {
     "data": {
      "application/vnd.jupyter.widget-view+json": {
       "model_id": "d3306fbda9cb4453a8bdbed93fcf003d",
       "version_major": 2,
       "version_minor": 0
      },
      "text/plain": [
       "  0%|          | 0/1000 [00:00<?, ?it/s]"
      ]
     },
     "metadata": {},
     "output_type": "display_data"
    }
   ],
   "source": [
    "stats_ls_all_ms_tilted = stats_mean_shift(mean_ls, \"tilted\", nreps=1000)"
   ]
  },
  {
   "cell_type": "code",
   "execution_count": null,
   "id": "353956af-bdbb-49e4-93ee-a9788d4740f3",
   "metadata": {},
   "outputs": [],
   "source": [
    "plt.plot(mean_ls, [np.mean(rr) for rr in stats_ls_all_ms_tilted])\n",
    "plt.xscale(\"log\")"
   ]
  },
  {
   "cell_type": "code",
   "execution_count": null,
   "id": "972bb85b-0f68-4700-a5bc-b7c5ac9326ae",
   "metadata": {},
   "outputs": [],
   "source": [
    "res_ms = {\"tilted\": stats_ls_all_ms_tilted,  \n",
    "          \"tilted_null\": stats_ls_all_ol_tilted_null}"
   ]
  },
  {
   "cell_type": "code",
   "execution_count": null,
   "id": "475be4f1-e5d1-45db-b81b-d16f171990ff",
   "metadata": {},
   "outputs": [],
   "source": [
    "pickle.dump(res_ms, open(\"../res/ustats_ms.pkl\", \"wb\"))"
   ]
  },
  {
   "cell_type": "code",
   "execution_count": null,
   "id": "7920bd9a-9f0f-4234-a079-af046eef1128",
   "metadata": {},
   "outputs": [],
   "source": [
    "# true sampling distribution\n",
    "figs, axes = plt.subplots(nrows=2, ncols=3, figsize=(9, 6))\n",
    "\n",
    "for i, ww in enumerate(mean_ls):\n",
    "    ax = axes.flatten()[i]\n",
    "    ax.hist(res_ms[\"tilted\"][i], bins=50, label=f\"outlier = {ww}\")\n",
    "    ax.hist(res_ms[\"tilted_null\"][0], bins=50, label=f\"null\")\n",
    "    ax.legend()"
   ]
  },
  {
   "cell_type": "code",
   "execution_count": null,
   "id": "057b5be8-3996-453b-96c1-22afde11cdff",
   "metadata": {},
   "outputs": [],
   "source": []
  },
  {
   "cell_type": "code",
   "execution_count": null,
   "id": "8073bf42-f988-4898-bec6-a70196a7f613",
   "metadata": {},
   "outputs": [],
   "source": []
  },
  {
   "cell_type": "code",
   "execution_count": null,
   "id": "f549c431-fb17-4b08-b5da-8494573ab640",
   "metadata": {},
   "outputs": [],
   "source": []
  }
 ],
 "metadata": {
  "kernelspec": {
   "display_name": "robust",
   "language": "python",
   "name": "robust"
  },
  "language_info": {
   "codemirror_mode": {
    "name": "ipython",
    "version": 3
   },
   "file_extension": ".py",
   "mimetype": "text/x-python",
   "name": "python",
   "nbconvert_exporter": "python",
   "pygments_lexer": "ipython3",
   "version": "3.8.10"
  }
 },
 "nbformat": 4,
 "nbformat_minor": 5
}
