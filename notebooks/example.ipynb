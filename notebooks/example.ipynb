{
 "cells": [
  {
   "cell_type": "code",
   "execution_count": 1,
   "id": "b4c873a6-d58d-4d26-897f-6db0d090de11",
   "metadata": {},
   "outputs": [],
   "source": [
    "%load_ext autoreload\n",
    "%autoreload 2\n",
    "\n",
    "import numpy as np\n",
    "import scipy\n",
    "import matplotlib.pyplot as plt\n",
    "\n",
    "import rksd.metrics as metrics\n",
    "import rksd.kernels as kernels\n",
    "import rksd.exp_utils as exp_utils\n",
    "\n",
    "plt.rcParams[\"mathtext.fontset\"] = \"cm\""
   ]
  },
  {
   "cell_type": "markdown",
   "id": "5138a3b6-576a-4229-8d72-5df21e1a3fce",
   "metadata": {},
   "source": [
    "Testing $P=\\mathcal{N}(0, 1)$ against $Q = (1-\\epsilon)P + \\epsilon R$, where $R = \\mathcal{N}(10, 0.01^2)$ is a noise distribution."
   ]
  },
  {
   "cell_type": "code",
   "execution_count": 2,
   "id": "6dc5cac3-4d06-4f1c-bcad-8098b122ab10",
   "metadata": {},
   "outputs": [],
   "source": [
    "np.random.seed(2024)"
   ]
  },
  {
   "cell_type": "code",
   "execution_count": 3,
   "id": "e2380919-080c-451e-bf8f-f247ff5f61a5",
   "metadata": {},
   "outputs": [],
   "source": [
    "dim = 1\n",
    "n = 500\n",
    "ol = 10.\n",
    "eps = 0.1\n",
    "\n",
    "# assume standard Gaussian model\n",
    "def score_fn(x):\n",
    "    return -x\n",
    "\n",
    "# pure sample\n",
    "X = np.random.normal(size=(n, dim)) # n, d\n",
    "score = score_fn(X)\n",
    "\n",
    "# contaminated sample\n",
    "ol_mean = np.ones((dim,1))[0] * ol\n",
    "X_contam = exp_utils.sample_outlier_contam(np.copy(X), eps=eps, ol_mean=ol_mean, ol_std=0.01)\n",
    "score_contam = score_fn(X_contam)"
   ]
  },
  {
   "cell_type": "code",
   "execution_count": 4,
   "id": "fa7aca55-8ca9-4f7c-80db-1535b6b9c801",
   "metadata": {},
   "outputs": [
    {
     "data": {
      "text/plain": [
       "<matplotlib.legend.Legend at 0x7f9dde042fd0>"
      ]
     },
     "execution_count": 4,
     "metadata": {},
     "output_type": "execute_result"
    },
    {
     "data": {
      "image/png": "[encoded data removed]",
      "text/plain": [
       "<Figure size 500x300 with 1 Axes>"
      ]
     },
     "metadata": {},
     "output_type": "display_data"
    }
   ],
   "source": [
    "# plot data and model density\n",
    "xvals = np.linspace(-3., ol_mean[0]+1., 1001)\n",
    "norm_den = scipy.stats.norm.pdf(xvals)\n",
    "\n",
    "_, ax = plt.subplots(figsize=(5, 3))\n",
    "bins = np.histogram(X_contam, bins=25)[1]\n",
    "\n",
    "ax.hist(X_contam.reshape(-1), bins, color=\"grey\", density=True, edgecolor=\"C1\", linewidth=1.5, label=\"Outlier\")\n",
    "ax.hist(X.reshape(-1), bins, color=\"grey\", density=True, edgecolor=\"grey\", linewidth=1.5, label=\"Data\")\n",
    "ax.get_yaxis().set_visible(False)\n",
    "\n",
    "ax.plot(xvals, norm_den, linewidth=3, label=r\"$P$\", color=\"C0\")\n",
    "\n",
    "ax.spines[\"top\"].set_visible(False)\n",
    "ax.spines[\"right\"].set_visible(False)\n",
    "ax.spines[\"left\"].set_visible(False)\n",
    "\n",
    "ax.legend()"
   ]
  },
  {
   "cell_type": "markdown",
   "id": "b7001f89-fd10-4125-b8d5-93e3e2b0f985",
   "metadata": {},
   "source": [
    "#### robust-KSD test"
   ]
  },
  {
   "cell_type": "code",
   "execution_count": 5,
   "id": "e3d45253-1f61-43ea-a6cc-03beb3a45826",
   "metadata": {},
   "outputs": [],
   "source": [
    "# initialize kernel\n",
    "weight_fn = kernels.PolyWeightFunction()                                # weighting function w(x)\n",
    "base_kernel = kernels.IMQ(med_heuristic=True, X=X_contam, Y=X_contam)   # base kernel\n",
    "kernel = kernels.TiltedKernel(kernel=base_kernel, weight_fn=weight_fn)  # tilted kernel\n",
    "\n",
    "# initialize KSD\n",
    "ksd = metrics.KSD(kernel)"
   ]
  },
  {
   "cell_type": "markdown",
   "id": "18b3980f-90bc-40f1-bb5d-2a9d76fdf33c",
   "metadata": {},
   "source": [
    "The standard test has a small p-value due to the presence of contamination, while the robust-KSD test provably controls Type-I error whenever the allowed proportion of contamination $\\epsilon_0$ is larger than or equal to the actual proportion of contamination."
   ]
  },
  {
   "cell_type": "code",
   "execution_count": 6,
   "id": "fdbd5e19-f720-470b-b1d1-757a58bab6a6",
   "metadata": {},
   "outputs": [
    {
     "data": {
      "text/plain": [
       "{'q_nonsq': Array(0.0781667, dtype=float32),\n",
       " 'pval_standard': Array(0.00798403, dtype=float32),\n",
       " 'vstat': Array(0.0123316, dtype=float32),\n",
       " 'pval': Array(1., dtype=float32),\n",
       " 'theta': Array(0.17990136, dtype=float32),\n",
       " 'tau': Array(1.4384222, dtype=float32)}"
      ]
     },
     "execution_count": 6,
     "metadata": {},
     "output_type": "execute_result"
    }
   ],
   "source": [
    "eps0 = 0.15  # max proportion of contamination allowed\n",
    "\n",
    "summary_contam = ksd.test_threshold(\n",
    "    X=X_contam, \n",
    "    score=score_contam, \n",
    "    eps0=eps0,\n",
    "    alpha=0.05, \n",
    ")\n",
    "summary_contam"
   ]
  },
  {
   "cell_type": "code",
   "execution_count": 7,
   "id": "14230532-1644-4a8d-81e7-480904b1eafd",
   "metadata": {},
   "outputs": [
    {
     "name": "stdout",
     "output_type": "stream",
     "text": [
      "p-values:\n",
      "Standard Tilted-KSD test:\t 0.007984032\n",
      "Robust-KSD test:\t\t 1.0\n"
     ]
    }
   ],
   "source": [
    "print(\"p-values:\")\n",
    "print(\"Standard Tilted-KSD test:\\t\", summary_contam[\"pval_standard\"])\n",
    "print(\"Robust-KSD test:\\t\\t\", summary_contam[\"pval\"])"
   ]
  },
  {
   "cell_type": "markdown",
   "id": "995ba38c-8bcf-408f-888b-4d3a5576fd6c",
   "metadata": {},
   "source": [
    " "
   ]
  },
  {
   "cell_type": "markdown",
   "id": "fb8a6516-4e8b-4442-80aa-0be532b013ac",
   "metadata": {},
   "source": [
    "If instead the actual proportion of contaminated samples is larger than the allowed proportion $\\epsilon_0$, then robust-KSD will have a small p-value, showing its power."
   ]
  },
  {
   "cell_type": "code",
   "execution_count": 8,
   "id": "ba682bd3-3c51-4665-85dd-afab39780934",
   "metadata": {},
   "outputs": [
    {
     "name": "stdout",
     "output_type": "stream",
     "text": [
      "p-values:\n",
      "Standard Tilted-KSD test:\t 0.001996008\n",
      "Robust-KSD test:\t\t 0.00998004\n"
     ]
    }
   ],
   "source": [
    "summary_contam = ksd.test_threshold(\n",
    "    X=X_contam, \n",
    "    score=score_contam, \n",
    "    eps0=0.01,\n",
    "    alpha=0.05, \n",
    ")\n",
    "\n",
    "print(\"p-values:\")\n",
    "print(\"Standard Tilted-KSD test:\\t\", summary_contam[\"pval_standard\"])\n",
    "print(\"Robust-KSD test:\\t\\t\", summary_contam[\"pval\"])"
   ]
  }
 ],
 "metadata": {
  "kernelspec": {
   "display_name": "robust",
   "language": "python",
   "name": "robust"
  },
  "language_info": {
   "codemirror_mode": {
    "name": "ipython",
    "version": 3
   },
   "file_extension": ".py",
   "mimetype": "text/x-python",
   "name": "python",
   "nbconvert_exporter": "python",
   "pygments_lexer": "ipython3",
   "version": "3.9.5"
  }
 },
 "nbformat": 4,
 "nbformat_minor": 5
}
