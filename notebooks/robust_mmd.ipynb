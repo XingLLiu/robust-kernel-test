{
 "cells": [
  {
   "cell_type": "code",
   "execution_count": 1,
   "id": "cbab4bb9-fa4a-4b17-a139-fadcf801475f",
   "metadata": {},
   "outputs": [],
   "source": [
    "%load_ext autoreload\n",
    "%autoreload 2\n",
    "\n",
    "import numpy as np\n",
    "import jax.numpy as jnp\n",
    "import jax\n",
    "import pandas as pd\n",
    "import matplotlib.pyplot as plt\n",
    "from tqdm.notebook import tqdm, trange\n",
    "import seaborn as sns\n",
    "import pickle\n",
    "import copy\n",
    "import jaxopt\n",
    "\n",
    "from dckernel import dcmmd\n",
    "\n",
    "import src.metrics as metrics\n",
    "import src.kernels as kernels\n",
    "import src.bootstrap as boot\n",
    "import src.exp_utils as exp_utils\n",
    "import experiments.kef as exp_kef\n",
    "import experiments.efm as exp_efm\n",
    "import experiments.rbm as exp_rbm"
   ]
  },
  {
   "cell_type": "markdown",
   "id": "2d84c828-fce5-4162-b76f-e10a99477944",
   "metadata": {
    "jp-MarkdownHeadingCollapsed": true
   },
   "source": [
    "# Explore"
   ]
  },
  {
   "cell_type": "code",
   "execution_count": 6,
   "id": "c1e39c62-e4b0-4ec8-b1c3-4fc466dc2119",
   "metadata": {},
   "outputs": [],
   "source": [
    "# sampler\n",
    "def mmd_sample_synthetic(\n",
    "    key,\n",
    "    m,\n",
    "    n,\n",
    "    d,\n",
    "    c,\n",
    "):\n",
    "    subkeys = jax.random.split(key, num=6)\n",
    "    X = jax.random.normal(subkeys[0], shape=(m, d)) / 10\n",
    "    Y = jax.random.normal(subkeys[1], shape=(n, d)) / 10\n",
    "    Y = Y.at[:c].set(\n",
    "        jax.random.normal(subkeys[2], shape=(c, d)) / 10 + 1000\n",
    "    )\n",
    "    Y = jax.random.permutation(subkeys[3], Y)\n",
    "    return X, Y"
   ]
  },
  {
   "cell_type": "code",
   "execution_count": 10,
   "id": "051d9c85-211b-4e84-9a94-879fecd5f3b1",
   "metadata": {},
   "outputs": [],
   "source": [
    "# generate data for two-sample testing\n",
    "m = 100\n",
    "n = 100\n",
    "r = 10\n",
    "d = 10\n",
    "key = jax.random.PRNGKey(0)\n",
    "key, subkey = jax.random.split(key)\n",
    "subkeys = jax.random.split(subkey, num=2)\n",
    "X = jax.random.uniform(subkeys[0], shape=(m, d))\n",
    "Y = jax.random.uniform(subkeys[1], shape=(n, d)) + 1"
   ]
  },
  {
   "cell_type": "code",
   "execution_count": 14,
   "id": "9859fea4-bb81-4141-8617-c0cf62bdc897",
   "metadata": {},
   "outputs": [
    {
     "data": {
      "text/plain": [
       "Array(1, dtype=int32)"
      ]
     },
     "execution_count": 14,
     "metadata": {},
     "output_type": "execute_result"
    }
   ],
   "source": [
    "# fast\n",
    "key, subkey = jax.random.split(key)\n",
    "dcmmd(subkey, X, Y, r)"
   ]
  },
  {
   "cell_type": "code",
   "execution_count": 30,
   "id": "17cc0e17-1e65-49dc-8ad7-8d8a93d48ed0",
   "metadata": {},
   "outputs": [
    {
     "data": {
      "application/vnd.jupyter.widget-view+json": {
       "model_id": "336c41cbc5824e16904a582c9702e0ab",
       "version_major": 2,
       "version_minor": 0
      },
      "text/plain": [
       "  0%|          | 0/10 [00:00<?, ?it/s]"
      ]
     },
     "metadata": {},
     "output_type": "display_data"
    },
    {
     "name": "stdout",
     "output_type": "stream",
     "text": [
      "[[0. 0. 0. 0. 0. 0. 0. 1. 1. 1. 1. 1. 1. 1. 1. 1. 1. 1. 1. 1. 1.]]\n"
     ]
    }
   ],
   "source": [
    "# experiment \n",
    "experiment = 1\n",
    "repetitions = 10\n",
    "\n",
    "m = n = 100 # 2000\n",
    "d = 50 # 50\n",
    "r = 10\n",
    "\n",
    "corruptions = [int(i) for i in jnp.linspace(0, m, 21)]\n",
    "tests = (dcmmd,)\n",
    "tests_labels = ('dcmmd',)\n",
    "\n",
    "# run experiment\n",
    "key = jax.random.PRNGKey(42)\n",
    "outputs = jnp.zeros((len(tests), len(corruptions), repetitions))\n",
    "for i in tqdm(range(repetitions)):\n",
    "    for j in range(len(corruptions)):\n",
    "        c = corruptions[j]    \n",
    "        key, subkey = jax.random.split(key)\n",
    "        X, Y = mmd_sample_synthetic(subkey, m, n, d, c)\n",
    "        key, subkey = jax.random.split(key)\n",
    "        for t in range(len(tests)):\n",
    "            test = tests[t]\n",
    "            outputs = outputs.at[t, j, i].set(\n",
    "                test(\n",
    "                    subkey,\n",
    "                    X,\n",
    "                    Y,\n",
    "                    r,\n",
    "                    # return_dictionary=True\n",
    "                )\n",
    "            )\n",
    "\n",
    "# save results\n",
    "power = jnp.mean(outputs, -1)\n",
    "# jnp.save(\"results/mmd_synthetic_\" + str(experiment) + \".npy\", power)\n",
    "# jnp.save(\"results/mmd_synthetic_\" + str(experiment) + \"_xaxis.npy\", corruptions)\n",
    "\n",
    "# print and plot\n",
    "print(power)"
   ]
  },
  {
   "cell_type": "code",
   "execution_count": 28,
   "id": "e65f269a-dce3-4df7-be05-b70829722e2c",
   "metadata": {},
   "outputs": [
    {
     "name": "stdout",
     "output_type": "stream",
     "text": [
      "[0, 5, 10, 15, 20, 25, 30, 35, 40, 45, 50, 55, 60, 65, 70, 75, 80, 85, 90, 95, 100]\n"
     ]
    }
   ],
   "source": [
    "print(corruptions)"
   ]
  },
  {
   "cell_type": "code",
   "execution_count": 29,
   "id": "24749d59-e143-495d-a438-a7d89f905e86",
   "metadata": {},
   "outputs": [
    {
     "name": "stdout",
     "output_type": "stream",
     "text": [
      "[[0.  0.  0.  0.  0.  0.  0.1 1.  1.  1.  1.  1.  1.  1.  1.  1.  1.  1.\n",
      "  1.  1.  1. ]]\n"
     ]
    }
   ],
   "source": [
    "print(power)"
   ]
  },
  {
   "cell_type": "code",
   "execution_count": 33,
   "id": "63979505-42b0-4fd0-84f9-616abd3802d3",
   "metadata": {},
   "outputs": [],
   "source": [
    "outputs = dcmmd(\n",
    "                    subkey,\n",
    "                    X,\n",
    "                    Y,\n",
    "                    r,\n",
    "                    return_dictionary=True\n",
    "                )"
   ]
  },
  {
   "cell_type": "code",
   "execution_count": 37,
   "id": "dd3dc20b-92ad-4a8c-b4bd-99267cd687de",
   "metadata": {},
   "outputs": [
    {
     "data": {
      "text/plain": [
       "(Array(1, dtype=int32),\n",
       " {'Bandwidth': Array(7.071068, dtype=float32, weak_type=True),\n",
       "  'Kernel gaussian': Array(True, dtype=bool),\n",
       "  'Level': Array(0.05, dtype=float32, weak_type=True),\n",
       "  'MMD DC-adjusted quantile': Array(0.47985253, dtype=float32),\n",
       "  'MMD V-statistic': Array(1.3999672, dtype=float32),\n",
       "  'MMD quantile': Array(0.19700983, dtype=float32),\n",
       "  'Number of permutations': Array(500, dtype=int32, weak_type=True),\n",
       "  'Robustness': Array(10, dtype=int32, weak_type=True),\n",
       "  'dcMMD test reject': Array(True, dtype=bool)})"
      ]
     },
     "execution_count": 37,
     "metadata": {},
     "output_type": "execute_result"
    }
   ],
   "source": [
    "outputs"
   ]
  },
  {
   "cell_type": "code",
   "execution_count": 36,
   "id": "888246d4-babc-45a9-acb7-4a87a5a64ed7",
   "metadata": {},
   "outputs": [
    {
     "data": {
      "text/plain": [
       "Array(1.3999672, dtype=float32)"
      ]
     },
     "execution_count": 36,
     "metadata": {},
     "output_type": "execute_result"
    }
   ],
   "source": [
    "outputs[1][\"MMD V-statistic\"]"
   ]
  },
  {
   "cell_type": "code",
   "execution_count": 40,
   "id": "4e6136e9-89b9-4899-b40f-34605160c521",
   "metadata": {},
   "outputs": [
    {
     "data": {
      "text/plain": [
       "Array(1, dtype=int32)"
      ]
     },
     "execution_count": 40,
     "metadata": {},
     "output_type": "execute_result"
    }
   ],
   "source": [
    "outputs[0]"
   ]
  },
  {
   "cell_type": "code",
   "execution_count": 39,
   "id": "48a185d7-fa00-48e9-9f69-6a2b778cfc5e",
   "metadata": {},
   "outputs": [
    {
     "data": {
      "text/plain": [
       "0.38619603930539115"
      ]
     },
     "execution_count": 39,
     "metadata": {},
     "output_type": "execute_result"
    }
   ],
   "source": [
    "# assuming K = 1\n",
    "alpha = 0.05\n",
    "mmd_dev_threshold = np.sqrt(2 / n) * (1 + np.sqrt(- np.log(alpha)))\n",
    "mmd_dev_threshold"
   ]
  },
  {
   "cell_type": "markdown",
   "id": "cbf400a1-6df9-4060-868b-9541fb574d62",
   "metadata": {
    "jp-MarkdownHeadingCollapsed": true
   },
   "source": [
    "# Load"
   ]
  },
  {
   "cell_type": "code",
   "execution_count": null,
   "id": "2f5e6460-ee66-41f6-95cd-0194f07acc93",
   "metadata": {},
   "outputs": [],
   "source": [
    "n = 3\n",
    "dim = 10\n",
    "res_stats_ol = pickle.load(open(f\"../data/ol/stats_n{n}_d{dim}.pkl\", \"rb\"))\n",
    "tau_res = pickle.load(open(f\"../data/ol/tau_d{dim}.pkl\", \"rb\"))"
   ]
  },
  {
   "cell_type": "markdown",
   "id": "b2dc3b19-bfcd-4d31-931f-16a25afa871f",
   "metadata": {
    "jp-MarkdownHeadingCollapsed": true
   },
   "source": [
    "# Robust LR test"
   ]
  },
  {
   "cell_type": "code",
   "execution_count": 2,
   "id": "b4d2db5d-9b39-4618-83bf-82882bd78f3a",
   "metadata": {},
   "outputs": [],
   "source": [
    "from jaxopt import Bisection\n"
   ]
  },
  {
   "cell_type": "code",
   "execution_count": 179,
   "id": "b5cfc46a-156e-482c-bc77-a6fd7da97b53",
   "metadata": {},
   "outputs": [],
   "source": [
    "def lr_eq1(log_c, mu, eps, n):\n",
    "    prob1 = null_prob(log_c, mu, n)\n",
    "    prob2 = alternative_prob(log_c, mu, n)\n",
    "\n",
    "    res = (1 - eps) * (prob1 + (1 - prob2) * jnp.exp(-log_c)) - 1\n",
    "    return res\n",
    "\n",
    "def lr_eq2(log_c, mu, eps, n):\n",
    "    prob1 = null_prob(log_c, mu, n)\n",
    "    prob2 = alternative_prob(log_c, mu, n)\n",
    "\n",
    "    # print(\"(1-prob2)\", (1-prob2))\n",
    "    # print(\"jnp.exp(log_c) * prob1\", jnp.exp(log_c) * prob1)\n",
    "    # print(\"eps\", eps)\n",
    "    res = (1 - eps) * ((1-prob2) + jnp.exp(log_c) * prob1) - 1\n",
    "    return res\n",
    "\n",
    "def null_prob(log_gamma, mu, n):\n",
    "    x0 = (log_gamma / n + mu**2/2.) / mu\n",
    "    arg1 = x0 * jnp.sqrt(n) / jnp.sqrt(2)\n",
    "    prob1 = jnp.where(\n",
    "        arg1 >= 0.,\n",
    "        0.5 + 0.5 * jax.scipy.special.erf(arg1),\n",
    "        0.5 - 0.5 * jax.scipy.special.erf(-arg1)\n",
    "    )\n",
    "    return prob1\n",
    "\n",
    "def alternative_prob(log_gamma, mu, n):\n",
    "    x0 = (log_gamma / n + mu**2/2.) / mu\n",
    "    arg2 = (x0 - mu) * jnp.sqrt(n) / jnp.sqrt(2)\n",
    "    prob2 = jnp.where(\n",
    "        arg2 >= 0,\n",
    "        0.5 + 0.5 * jax.scipy.special.erf(arg2),\n",
    "        0.5 - 0.5 * jax.scipy.special.erf(-arg2)\n",
    "    )\n",
    "    return prob2\n",
    "\n",
    "def find_decision_threshold(mu, alpha, n, lb=-1e3, ub=1e3):\n",
    "    fn = lambda lg: null_prob(lg, mu, n) - (1-alpha)\n",
    "    bisec = Bisection(optimality_fun=fn, lower=lb, upper=ub)\n",
    "    lg = bisec.run().params\n",
    "    return lg\n",
    "\n",
    "def lr(xs, mu):\n",
    "    \"\"\"\n",
    "    xs: (..., n)\n",
    "    \"\"\"\n",
    "    n = xs.shape[-1]\n",
    "    xs_mean = jnp.mean(xs, -1)\n",
    "    return jnp.exp(-0.5 * n * mu**2 + n * xs_mean * mu)\n",
    "\n",
    "def log_lr_fn(xs, mu):\n",
    "    log_lr = jnp.sum(\n",
    "        jax.scipy.stats.norm.logpdf(xs, loc=mu) - jax.scipy.stats.norm.logpdf(xs),\n",
    "        -1,\n",
    "    )\n",
    "    return log_lr\n",
    "\n",
    "def trunc_log_lr_fn(xs, mu, log_c1, log_c2):\n",
    "    \"\"\"c2 <= c1\n",
    "    \"\"\"\n",
    "    assert log_c2 <= log_c1\n",
    "    log_lr = log_lr_fn(xs, mu)\n",
    "    log_lr = jnp.where(log_lr > log_c1, log_c1, log_lr)\n",
    "    log_lr = jnp.where(log_lr < log_c2, log_c2, log_lr)\n",
    "    return log_lr\n",
    "\n",
    "def null_prob_trunc(log_gamma, mu, n, log_c1, log_c2, eps):\n",
    "    # res = jnp.where(jnp.allclose(log_gamma, log_c2), null_prob(log_c2, mu, n), 0.)\n",
    "    # res = jnp.where(\n",
    "    #     jnp.logical_and(log_c2 < log_gamma, log_gamma < log_c1),\n",
    "    #     null_prob(log_gamma, mu, n),\n",
    "    #     res,\n",
    "    # )\n",
    "    # # print(\"res\", res)\n",
    "    # res = jnp.where(log_c1 <= log_gamma, 1., res)\n",
    "    # # print(\"res\", res)\n",
    "    # return res\n",
    "\n",
    "    res = jnp.where(jnp.allclose(log_gamma, log_c2), (1-eps) * null_prob(log_c2, mu, n), 0.)\n",
    "    # print(\"res\", res)\n",
    "    res = jnp.where(\n",
    "        jnp.logical_and(log_c2 < log_gamma, log_gamma < log_c1),\n",
    "        (1-eps) * null_prob(log_gamma, mu, n),\n",
    "        res,\n",
    "    )\n",
    "    # print(\"res\", res)\n",
    "    res = jnp.where(log_gamma >= log_c1, 1., res)\n",
    "    # print(\"res\", res)\n",
    "    return res\n",
    "\n",
    "def find_log_decision_threshold_trunc(mu, alpha, n, log_c1, log_c2, eps, lb=-100, ub=100):\n",
    "    fn = lambda lg: null_prob_trunc(lg, mu, n, log_c1, log_c2, eps) - (1-alpha)\n",
    "    bisec = Bisection(optimality_fun=fn, lower=lb, upper=ub)\n",
    "    lg = bisec.run().params\n",
    "    return lg\n",
    "\n",
    "def find_log_decision_threshold_trunc_boot(alpha, n, mean_data, mu, log_c1, log_c2, nboot=1000):\n",
    "    Xs = np.random.multivariate_normal(mean_data, np.eye(1), (nrep, n)) # nrep, n, 1\n",
    "    Xs = jnp.squeeze(Xs, -1) # nrep, n\n",
    "    trunc_log_lr = trunc_log_lr_fn(Xs, mu, log_c1, log_c2) # nrep\n",
    "    quantile = jnp.percentile(trunc_log_lr, 100 * (1-alpha))\n",
    "    return quantile"
   ]
  },
  {
   "cell_type": "code",
   "execution_count": 139,
   "id": "e590ef88-8641-44e1-aa63-39ef555aca8d",
   "metadata": {},
   "outputs": [
    {
     "name": "stdout",
     "output_type": "stream",
     "text": [
      "1.7098999 0.7196617\n"
     ]
    }
   ],
   "source": [
    "mu = 1.\n",
    "eps = 0.05\n",
    "\n",
    "bisec1 = Bisection(optimality_fun=lr_eq1, lower=0, upper=10.)\n",
    "c1 = bisec1.run(mu=mu, eps=eps, n=1).params\n",
    "bisec2 = Bisection(optimality_fun=lr_eq2, lower=0, upper=10.)\n",
    "c2 = bisec2.run(mu=mu, eps=eps, n=1).params\n",
    "\n",
    "print(c1, c2)"
   ]
  },
  {
   "cell_type": "code",
   "execution_count": 140,
   "id": "cc45549f-ddb7-4e4b-b46f-aeaf5369b07f",
   "metadata": {},
   "outputs": [],
   "source": [
    "c_ls = np.linspace(0., 5., 1000)\n",
    "rr = [lr_eq2(c, mu=1., eps=0.05, n=1) for c in c_ls]"
   ]
  },
  {
   "cell_type": "code",
   "execution_count": 141,
   "id": "eea27544-fa1c-4167-a057-7a9bbe8aac71",
   "metadata": {},
   "outputs": [
    {
     "data": {
      "text/plain": [
       "<matplotlib.collections.PathCollection at 0x7f6f04267370>"
      ]
     },
     "execution_count": 141,
     "metadata": {},
     "output_type": "execute_result"
    },
    {
     "data": {
      "image/png": "[encoded data removed]",
      "text/plain": [
       "<Figure size 640x480 with 1 Axes>"
      ]
     },
     "metadata": {},
     "output_type": "display_data"
    }
   ],
   "source": [
    "plt.scatter(c_ls, rr)\n",
    "# plt.yscale(\"log\")"
   ]
  },
  {
   "cell_type": "code",
   "execution_count": 152,
   "id": "29e58cce-7afb-4c49-8a45-6d8aefcd9561",
   "metadata": {},
   "outputs": [
    {
     "data": {
      "image/png": "[encoded data removed]",
      "text/plain": [
       "<Figure size 640x480 with 1 Axes>"
      ]
     },
     "metadata": {},
     "output_type": "display_data"
    }
   ],
   "source": [
    "x_ls = np.linspace(-2., 4., 101)\n",
    "log_lr_ls = log_lr_fn(x_ls.reshape((-1, 1)), mu)\n",
    "trunc_log_lr_ls = trunc_log_lr_fn(x_ls.reshape((-1, 1)), mu, c1, c2)\n",
    "\n",
    "plt.scatter(x_ls, log_lr_ls)\n",
    "plt.scatter(x_ls, trunc_log_lr_ls)\n",
    "plt.axhline(c1, color=\"C1\", label=\"c1\")\n",
    "plt.axhline(c2, color=\"C2\", label=\"c2\")\n",
    "plt.show()"
   ]
  },
  {
   "cell_type": "code",
   "execution_count": 12,
   "id": "930d5b37-afe1-4684-b8db-725e8d4b075f",
   "metadata": {},
   "outputs": [
    {
     "data": {
      "text/plain": [
       "<matplotlib.collections.PathCollection at 0x7f6f600682b0>"
      ]
     },
     "execution_count": 12,
     "metadata": {},
     "output_type": "execute_result"
    },
    {
     "data": {
      "image/png": "[encoded data removed]",
      "text/plain": [
       "<Figure size 640x480 with 1 Axes>"
      ]
     },
     "metadata": {},
     "output_type": "display_data"
    }
   ],
   "source": [
    "x_ls = np.linspace(1e-5, 10., 1001)\n",
    "null_prob_ls = null_prob(x_ls, mu, n=10)\n",
    "plt.scatter(x_ls, null_prob_ls)"
   ]
  },
  {
   "cell_type": "code",
   "execution_count": 13,
   "id": "e2b2ba9e-ac59-47e1-935c-571c29ef4434",
   "metadata": {},
   "outputs": [
    {
     "data": {
      "text/plain": [
       "Array([0.01971996, 0.54980624, 0.6346544 , ..., 0.9895184 , 0.9895272 ,\n",
       "       0.9895359 ], dtype=float32)"
      ]
     },
     "execution_count": 13,
     "metadata": {},
     "output_type": "execute_result"
    }
   ],
   "source": [
    "null_prob_ls"
   ]
  },
  {
   "cell_type": "code",
   "execution_count": 15,
   "id": "880604b2-8290-4c0b-b92a-a774d36549a1",
   "metadata": {},
   "outputs": [
    {
     "data": {
      "text/plain": [
       "Array(1.2231534, dtype=float32)"
      ]
     },
     "execution_count": 15,
     "metadata": {},
     "output_type": "execute_result"
    }
   ],
   "source": [
    "gamma = find_decision_threshold(mu, alpha=0.05, n=10)\n",
    "gamma"
   ]
  },
  {
   "cell_type": "code",
   "execution_count": 180,
   "id": "ce3ec7c2-28bb-4729-9190-d34463af8f69",
   "metadata": {},
   "outputs": [],
   "source": [
    "def robust_LR_experiment(nrep, n, ol, eps, eps0, mu=1., dim=1):\n",
    "    mean_data = np.zeros((dim,)) # data\n",
    "    Xs = np.random.multivariate_normal(mean_data, np.eye(dim), (nrep, n)) # nrep, n, 1\n",
    "    ol_mean = np.ones(dim)[:1] * ol\n",
    "    Xs = jax.vmap(lambda x: exp_efm.sample_outlier_contam(x, eps=eps, ol_mean=ol_mean, ol_std=0.1))(Xs)\n",
    "    Xs = jnp.reshape(Xs, (nrep, n)) # nrep, n\n",
    "\n",
    "    # 1. LR\n",
    "    # compute LR\n",
    "    log_lr_vals = log_lr_fn(Xs, mu)\n",
    "\n",
    "    # compute decision threshold\n",
    "    log_threshold = find_decision_threshold(mu, alpha=0.05, n=n)\n",
    "\n",
    "    # compute decision\n",
    "    rej = jnp.astype(log_lr_vals > log_threshold, jnp.int32)\n",
    "\n",
    "    # 2. robust LR\n",
    "    # compute truncated LR\n",
    "    bisec1 = Bisection(optimality_fun=lr_eq1, lower=-10, upper=10)\n",
    "    log_c1 = bisec1.run(mu=mu, eps=eps0, n=n).params\n",
    "    \n",
    "    bisec2 = Bisection(optimality_fun=lr_eq2, lower=-10, upper=5)\n",
    "    log_c2 = bisec2.run(mu=mu, eps=eps0, n=n).params\n",
    "    trunc_log_lr_vals = trunc_log_lr_fn(Xs, mu, log_c1, log_c2)\n",
    "\n",
    "    # compute decision threshold\n",
    "    log_threshold_trunc = find_log_decision_threshold_trunc(\n",
    "        mu, alpha=0.05, n=n, log_c1=log_c1, log_c2=log_c2, eps=eps0,\n",
    "    )\n",
    "    # log_threshold_trunc = find_log_decision_threshold_trunc_boot(0.05, n, mean_data, mu, log_c1, log_c2)\n",
    "\n",
    "    # compute decision\n",
    "    print(\"log_c1\", log_c1, \"log_c2\", log_c2)\n",
    "    print(\"trunc_log_lr_vals\", trunc_log_lr_vals)\n",
    "    print(\"log_threshold_trunc\", log_threshold_trunc)\n",
    "    rej_trunc = jnp.astype(trunc_log_lr_vals > log_threshold_trunc, jnp.int32)\n",
    "    \n",
    "    return rej, rej_trunc"
   ]
  },
  {
   "cell_type": "code",
   "execution_count": 158,
   "id": "dd3be60e-68bc-4a91-b0a6-f786fc054a34",
   "metadata": {
    "scrolled": true
   },
   "outputs": [
    {
     "name": "stdout",
     "output_type": "stream",
     "text": [
      "log_c1 2.944336 log_c2 -2.9444885\n",
      "trunc_log_lr_vals [ 2.944336    2.944336   -1.2840443  -0.53993416  2.944336    2.944336\n",
      " -2.9444885  -2.9444885   2.944336    2.944336    1.1100197  -2.9444885\n",
      "  2.944336    2.944336    2.944336   -2.9444885  -1.6177254   2.944336\n",
      "  2.2096605  -2.9444885  -2.9444885   2.777132    2.944336   -2.9444885\n",
      "  2.944336   -2.9444885   2.944336    2.247984   -1.9613285  -2.9444885\n",
      "  2.944336    2.944336   -2.9444885  -2.9444885  -2.9444885  -2.9444885\n",
      "  2.944336   -1.8316851  -0.34803772  2.944336    2.944336    2.944336\n",
      "  2.944336   -2.9444885   2.944336    2.944336    2.944336    2.944336\n",
      "  2.944336    2.944336   -2.9444885   0.4229536  -2.9444885   2.944336\n",
      " -2.9444885   2.944336   -2.9444885   0.45741463 -2.9444885  -2.9444885\n",
      "  2.944336   -2.9444885   2.944336    2.944336   -2.792986   -0.6796837\n",
      "  2.563879   -2.9444885  -2.9444885  -2.9444885  -2.9444885  -2.9444885\n",
      " -2.609314   -2.9444885   2.944336   -2.9444885  -2.9444885   2.944336\n",
      "  1.674078    2.944336   -1.9380307   2.944336   -2.9444885   2.944336\n",
      "  0.6435356  -2.9444885   2.944336    2.944336   -2.9444885   2.944336\n",
      "  2.944336    2.944336   -2.9444885   2.944336    2.944336   -0.9992361\n",
      " -1.9461079  -2.9444885  -2.9444885   2.944336   -2.6025543   2.944336\n",
      " -2.9444885   2.944336    2.944336   -2.9444885   1.2733269  -2.9444885\n",
      " -2.9444885   2.944336    2.944336    2.944336   -2.9444885   1.897665\n",
      "  2.944336    1.7199364  -2.9444885  -1.8665123   2.944336    2.944336\n",
      "  2.5599594   2.944336   -2.9444885   2.944336    2.944336    2.944336\n",
      "  2.944336   -2.9444885  -2.9444885  -2.9444885  -2.9444885  -2.9444885\n",
      " -2.9444885   2.944336    2.944336    2.944336   -2.9444885   2.944336\n",
      " -2.9444885  -2.9444885   0.26058388  2.944336   -1.0891075  -2.9444885\n",
      "  1.3785038   2.944336    2.944336    2.944336   -2.9444885   2.944336\n",
      "  2.944336    2.944336    1.1103096   0.76396084  2.944336    2.944336\n",
      " -2.9444885  -2.9444885  -2.9444885  -2.9444885   2.944336   -2.9444885\n",
      "  1.5940237   2.944336    2.944336   -1.9230556   2.944336   -2.9444885\n",
      "  1.0034075  -2.9444885   2.944336   -2.9444885   2.944336    2.944336\n",
      "  2.944336   -1.2070408  -2.9444885   2.0948086  -2.9444885  -2.9444885\n",
      " -1.0134029  -2.9444885  -2.9444885   2.944336    1.0204105  -2.9444885\n",
      "  2.9092522   2.944336   -2.298275   -2.9444885   2.944336    2.944336\n",
      " -0.05005455  2.944336    2.944336   -2.9444885  -2.9444885  -2.9444885\n",
      "  2.944336   -2.9444885   2.944336   -2.9444885  -2.9444885  -2.9444885\n",
      " -2.9444885  -2.9444885  -2.9444885   1.3479862  -2.9444885  -2.9444885\n",
      " -2.9444885   2.944336   -2.9444885   2.944336    1.1963358  -2.9444885\n",
      "  1.9011269   2.944336    2.944336   -2.9444885  -1.5327368   2.944336\n",
      " -2.9444885  -2.9444885   2.944336    2.944336   -0.63602734 -0.7888355\n",
      "  2.4645462   1.7005577  -2.9444885   2.944336    2.944336   -2.9444885\n",
      " -2.9444885  -2.9444885  -0.01648331  2.944336    2.944336    2.8227406\n",
      "  2.944336    2.944336    2.5156803  -2.9444885  -2.9444885   2.944336\n",
      " -0.74658203 -2.9444885   1.553359   -2.9444885   2.944336    2.944336\n",
      " -2.9444885   1.4029775   2.944336   -2.9444885   2.944336    1.6500416\n",
      " -2.9444885   2.3299685   2.944336   -2.0014753   0.58191204  2.944336\n",
      " -2.9444885   2.944336   -2.9444885  -2.9444885  -2.9444885  -2.9444885\n",
      " -2.9444885  -2.9444885   2.944336   -2.9444885  -2.9444885  -2.9444885\n",
      " -0.17171288  2.944336   -1.4031992  -2.9444885   2.944336    2.634616\n",
      " -2.6109576   2.944336   -2.9444885   2.944336   -2.9444885  -2.9444885\n",
      " -2.9444885   2.0059052  -2.9444885  -2.9201565   1.5358448  -0.23843002\n",
      " -1.039051    0.32718086  2.944336   -2.9444885  -2.9444885  -0.9257536\n",
      "  0.2927475   1.6996403   2.944336   -0.26521492 -2.9444885  -0.11603355\n",
      "  2.944336    2.944336    2.944336   -1.7196097   2.944336   -2.9444885\n",
      " -2.1785545   2.944336   -2.9444885   2.7122364   2.944336    0.5725889\n",
      " -2.7255478   0.83398247  1.312027   -2.9444885   2.944336   -2.9444885\n",
      " -2.9444885   2.944336   -2.9444885  -2.9444885   2.944336   -0.02877426\n",
      "  2.944336    2.944336    2.944336   -2.9444885   2.944336    2.199831\n",
      "  2.944336    2.944336    0.06874466  2.944336    2.944336    2.944336\n",
      "  1.2646952   1.6010151   1.9112878   2.944336   -2.9444885   2.944336\n",
      "  2.944336    2.944336    2.944336   -1.1681118  -2.9444885   2.944336\n",
      "  0.9585171  -2.9444885   2.944336    2.944336    2.944336   -2.9444885\n",
      "  2.944336   -0.4515972  -2.9444885   2.944336   -2.9444885  -2.1135159\n",
      "  2.944336    2.944336   -2.9444885  -0.9725838   2.944336    2.944336\n",
      "  0.6360874   1.2549305   2.944336   -2.9444885   2.6928034  -2.9444885\n",
      " -2.9444885   2.944336   -2.9444885  -2.4538975  -0.8365221   2.944336\n",
      " -2.9444885  -1.5767155   2.944336    1.3040504   2.944336    0.5543108\n",
      " -1.8417606   2.2487535  -2.9444885  -2.9444885  -2.9444885  -2.9444885\n",
      " -2.9444885   2.944336   -2.9444885  -2.9444885  -1.4704762   2.944336\n",
      "  2.944336    2.944336   -2.9444885  -2.8303165  -2.9444885   2.944336\n",
      "  2.944336    2.944336   -2.9444885   0.89740276 -2.9444885  -2.9444885\n",
      " -2.9444885  -2.9444885  -2.9444885  -2.9444885  -2.9444885  -2.9444885\n",
      "  2.944336   -2.9444885   2.944336   -2.9444885   2.944336    2.944336\n",
      " -2.9444885   2.944336    2.944336    2.944336   -2.9444885  -2.9444885\n",
      " -2.9444885   2.944336   -2.9444885   1.8358727   0.60211563  2.944336\n",
      "  2.944336    2.944336    2.944336   -2.9444885  -2.9444885   2.944336\n",
      "  2.944336   -2.9444885   2.944336    1.5463862  -2.9444885   2.8366108\n",
      " -1.9424324   1.7434664   1.1279182   2.944336   -2.9444885  -1.2747316\n",
      " -2.9444885  -2.9444885  -2.9444885   2.944336    1.0873976  -2.9444885\n",
      "  2.944336   -2.9444885   2.5886917  -1.6822367   2.872198    2.944336\n",
      " -2.9444885  -1.2138996  -2.9444885   2.944336    2.944336   -2.9444885\n",
      "  2.944336   -2.9444885   2.944336    2.944336   -2.9444885   2.944336\n",
      "  2.944336   -2.9444885   2.944336   -2.9444885   2.944336    2.944336\n",
      " -2.9444885  -2.9444885  -2.9444885  -2.9444885  -2.9444885   2.944336\n",
      " -1.1514149   2.944336    2.944336   -2.640912    2.6331072  -2.9444885\n",
      "  2.944336    2.944336    2.944336    2.944336    1.1531944  -2.9444885\n",
      "  1.582941   -2.9444885  -1.4263692   2.944336    2.944336   -2.9444885\n",
      "  2.944336   -2.3130121  -2.9444885  -2.9444885   2.944336    2.944336\n",
      "  2.944336   -2.9444885   2.944336   -2.9444885  -2.0084686  -2.9444885\n",
      " -2.9444885   2.944336    2.944336   -2.9444885  -2.9444885  -2.9444885\n",
      " -2.9444885  -2.9444885   2.944336    2.944336   -2.9444885  -2.9444885\n",
      "  2.944336   -2.9444885   2.944336   -2.9444885  -2.9444885   2.944336\n",
      " -0.27416134  2.944336    2.944336    2.944336   -2.9444885  -2.9444885\n",
      " -2.9444885  -2.9444885   2.944336   -2.9444885   2.2296686   2.944336\n",
      "  2.944336   -2.9444885   2.944336    2.944336    2.944336    2.944336\n",
      "  2.944336    2.944336    0.38551903  2.944336    2.944336   -2.9444885\n",
      "  2.3223343  -2.9444885  -2.9444885   2.944336   -1.108017    2.944336\n",
      " -2.9444885  -2.9444885  -2.9444885   0.96248055 -1.784811    2.944336\n",
      " -2.9444885   2.944336    2.944336    2.944336    2.944336    2.944336\n",
      " -2.7120724  -2.9444885  -1.0406475   2.944336   -2.0965977  -2.3566275\n",
      " -2.9444885   2.944336   -2.9444885  -2.9444885   2.944336   -0.8208389\n",
      "  2.944336   -2.9444885  -2.9444885   2.944336    2.944336   -2.9444885\n",
      "  2.944336   -2.9444885  -2.9444885  -2.9444885  -2.9444885  -0.78373146\n",
      "  2.944336   -1.4982872   0.45549393  1.1776323  -2.9444885  -1.8365326\n",
      "  2.944336    0.00620651  2.944336    2.944336   -2.9444885   2.944336\n",
      "  2.944336   -2.9444885   2.944336    0.7689009  -2.9444885   0.28965378\n",
      " -2.9444885   2.944336    2.944336    1.2053556   2.944336    1.8023701\n",
      " -2.1442423   2.793417   -2.9444885  -2.9444885   1.7467117   2.944336\n",
      " -2.9444885  -2.9444885  -2.1290493  -2.9444885  -2.9444885   2.944336\n",
      " -1.1221867  -2.9444885   2.944336    2.944336    2.944336   -2.9444885\n",
      " -2.9444885  -2.9444885   2.944336   -2.9444885   2.944336    2.944336\n",
      " -2.9444885   2.944336   -1.6411362  -2.9444885  -2.9444885  -2.9444885\n",
      "  2.4210835   2.944336   -2.3040657   2.944336    1.1628838  -2.9444885\n",
      " -2.9444885  -0.94244576  2.944336   -2.9444885   2.944336   -2.9444885\n",
      " -2.9444885  -2.9444885  -2.9444885   2.944336    2.3667984   2.944336\n",
      "  0.33784103 -2.9444885  -2.9444885  -1.5136099  -2.0338154   2.944336\n",
      "  2.944336   -2.8758612   2.944336    2.944336   -2.9444885   0.7549734\n",
      "  2.944336    1.7523823   2.944336   -2.9444885  -2.2487488   2.944336\n",
      " -2.9444885   2.944336    2.944336   -2.9444885  -2.9444885  -2.9444885\n",
      "  1.6209545   2.944336    2.944336   -2.9444885   2.944336    2.944336\n",
      "  2.944336    2.944336    1.9845581  -2.9444885   2.944336    2.944336\n",
      "  2.944336    1.3878884  -2.9444885   2.944336   -2.9444885   2.944336\n",
      " -2.9444885   2.944336    2.754551   -2.9444885   2.944336    2.944336\n",
      " -2.9444885   2.944336   -0.6408739  -2.9444885  -2.9444885  -2.9444885\n",
      "  2.944336   -2.9444885   2.944336    2.944336   -2.9444885   1.5580292\n",
      " -2.9444885   0.32636356  2.944336   -2.9444885   2.944336    2.944336\n",
      "  2.944336   -2.9444885   2.7795124   2.944336   -2.9444885  -2.9444885\n",
      "  0.548687    2.944336   -2.2703495  -2.9444885   2.944336   -2.9444885\n",
      "  2.944336    2.944336   -0.5577183   2.944336    2.944336    2.4455318\n",
      "  2.944336   -2.9444885   2.944336   -1.1228962  -2.9444885   2.944336\n",
      " -2.9444885   2.944336   -2.9444885   2.944336    2.944336   -1.3641167\n",
      " -2.9444885  -2.9444885  -2.9444885   0.67937565 -2.9444885   2.944336\n",
      "  2.944336   -2.9444885   2.944336    2.944336   -2.9444885  -2.9444885\n",
      "  2.944336   -2.9444885  -2.251999   -2.9444885  -2.9444885   2.944336\n",
      "  2.944336    2.944336   -2.9444885  -2.9444885  -2.9444885  -2.9444885\n",
      " -0.03225136  2.944336   -2.9444885  -0.8259754  -2.9444885  -2.9444885\n",
      "  0.01320457  1.2985983   2.944336    2.944336   -2.9444885  -1.2485695\n",
      " -2.9444885  -2.9444885   0.9151058  -2.9444885  -2.9444885   2.944336\n",
      "  2.944336   -2.9444885   2.944336    2.944336    2.944336   -2.9444885\n",
      "  2.944336    2.944336    2.944336    2.944336    1.6412315   2.944336\n",
      "  2.944336    0.0903573  -0.06189346 -2.9444885   2.944336    2.944336\n",
      "  2.944336    2.944336   -0.50605965  2.944336    2.944336   -2.9444885\n",
      "  2.944336    0.13679504  2.944336    2.944336   -2.9444885   1.3237629\n",
      "  2.944336    2.944336    0.58519936 -2.9444885   2.944336    2.944336\n",
      " -2.9444885  -2.9444885   1.2675133  -2.9444885  -1.2570362   2.944336\n",
      "  2.944336    2.944336    2.944336    2.944336    2.944336    2.944336\n",
      " -2.4419813   2.944336    2.944336   -2.9444885   2.944336    2.944336\n",
      " -0.60430145  2.552947   -2.9444885  -2.9444885  -2.9444885   2.944336\n",
      " -2.5917435   2.944336    1.8729429  -2.9444885  -2.9444885   0.28313255\n",
      " -2.9444885  -2.9444885  -2.2130184  -2.9444885  -0.73755074 -2.9444885\n",
      " -0.63910294 -0.43766403  1.2006283   0.87860394  2.944336    2.944336\n",
      " -2.9444885  -2.9444885  -2.9444885  -2.9444885   2.944336   -2.9444885\n",
      "  0.08565331  2.944336    2.944336    1.3151264   2.944336   -2.9444885\n",
      " -2.9444885   2.944336   -2.9444885   2.944336   -2.0038166   0.18913794\n",
      " -2.9444885   2.944336    2.944336   -2.9444885  -2.9444885  -2.9444885\n",
      "  2.944336    2.944336   -2.9444885   2.944336   -2.9444885  -2.9444885\n",
      "  2.944336    2.944336    2.72717     2.944336    1.5793324   2.944336\n",
      " -2.9444885   2.944336    2.944336   -1.5682766   2.944336    0.6558933\n",
      "  2.944336    2.944336   -2.9444885  -2.9444885   2.944336   -2.5207481\n",
      " -0.6503105  -1.0510836   2.944336   -2.9271498  -0.15135193 -1.9364071\n",
      " -2.9444885  -2.2224665  -2.9444885   2.944336    2.944336    2.944336\n",
      " -2.9444885  -2.3009968  -2.9444885   2.944336    2.944336    1.5581837\n",
      " -1.9450569  -2.9444885  -2.9444885   2.944336   -2.9444885   0.89118004\n",
      "  1.7584457  -2.9444885   2.944336   -2.7740822  -2.9444885   2.944336\n",
      "  2.944336    0.47085857  2.944336    2.944336    2.944336    2.944336\n",
      " -2.1791992  -2.9444885  -2.852654    1.4365578   2.944336   -0.8327007\n",
      " -2.9444885   2.944336    2.944336   -2.9444885   2.944336   -1.8492126\n",
      " -1.7855377   2.944336    2.944336    2.944336    2.944336    2.944336\n",
      "  2.944336    2.944336    2.194646    2.944336  ]\n",
      "log_threshold_trunc 0.0\n"
     ]
    }
   ],
   "source": [
    "np.random.seed(1)\n",
    "lr_rej, lr_rej_trunc = robust_LR_experiment(nrep=1000, n=100, ol=10., eps=0.05, eps0=0.05, mu=1.)"
   ]
  },
  {
   "cell_type": "code",
   "execution_count": 159,
   "id": "b6b73a1b-cad0-4cc3-88f8-9fc6892fc195",
   "metadata": {},
   "outputs": [
    {
     "data": {
      "text/plain": [
       "(Array(1., dtype=float32), Array(0.52900004, dtype=float32))"
      ]
     },
     "execution_count": 159,
     "metadata": {},
     "output_type": "execute_result"
    }
   ],
   "source": [
    "jnp.mean(lr_rej), jnp.mean(lr_rej_trunc)"
   ]
  },
  {
   "cell_type": "code",
   "execution_count": 160,
   "id": "24db16e6-6b77-40b3-938a-63a5861986bc",
   "metadata": {},
   "outputs": [],
   "source": [
    "dim = 1\n",
    "n = 100\n",
    "nrep = 1000\n",
    "mu = 1.\n",
    "\n",
    "np.random.seed(1)\n",
    "\n",
    "mean_data = np.zeros((dim,)) # data\n",
    "Xs = np.random.multivariate_normal(mean_data, np.eye(dim), (nrep, n)) # nrep, n, 1\n",
    "Xs = jnp.reshape(Xs, (nrep, n)) # nrep, n\n",
    "\n",
    "# compute LR\n",
    "log_lr_vals = log_lr_fn(Xs, mu) # nrep"
   ]
  },
  {
   "cell_type": "code",
   "execution_count": 161,
   "id": "97133848-1096-42cc-9dc9-176322c8de81",
   "metadata": {},
   "outputs": [
    {
     "data": {
      "text/plain": [
       "[<matplotlib.lines.Line2D at 0x7f50a80bdbb0>]"
      ]
     },
     "execution_count": 161,
     "metadata": {},
     "output_type": "execute_result"
    },
    {
     "data": {
      "image/png": "[encoded data removed]",
      "text/plain": [
       "<Figure size 640x480 with 1 Axes>"
      ]
     },
     "metadata": {},
     "output_type": "display_data"
    }
   ],
   "source": [
    "threshold = find_decision_threshold(mu, alpha=0.05, n=n)\n",
    "\n",
    "x_ls = jnp.linspace(jnp.min(log_lr_vals), jnp.max(log_lr_vals), 1001)\n",
    "p0_vals = jax.vmap(lambda x: null_prob(x, mu, n))(x_ls)\n",
    "\n",
    "sns.ecdfplot(log_lr_vals)\n",
    "plt.plot(x_ls, p0_vals, color=\"C1\")\n",
    "# plt.axhline(0.95, color=\"grey\")\n",
    "# plt.axvline(threshold, color=\"grey\")"
   ]
  },
  {
   "cell_type": "code",
   "execution_count": 182,
   "id": "07a90d10-eddb-46c9-8856-1ed13ace8548",
   "metadata": {},
   "outputs": [
    {
     "data": {
      "text/plain": [
       "<matplotlib.lines.Line2D at 0x7f50667b3400>"
      ]
     },
     "execution_count": 182,
     "metadata": {},
     "output_type": "execute_result"
    },
    {
     "data": {
      "image/png": "[encoded data removed]",
      "text/plain": [
       "<Figure size 640x480 with 1 Axes>"
      ]
     },
     "metadata": {},
     "output_type": "display_data"
    }
   ],
   "source": [
    "eps = 0.2\n",
    "\n",
    "bisec1 = Bisection(optimality_fun=lr_eq1, lower=-10, upper=10.)\n",
    "log_c1 = bisec1.run(mu=mu, eps=eps, n=n).params\n",
    "bisec2 = Bisection(optimality_fun=lr_eq2, lower=-10, upper=5.)\n",
    "log_c2 = bisec2.run(mu=mu, eps=eps, n=n).params\n",
    "trunc_log_lr_vals = trunc_log_lr_fn(Xs, mu, log_c1, log_c2)\n",
    "\n",
    "x_ls = jnp.linspace(log_c2 - 2., log_c1 + 2., 1001)\n",
    "trunc_probs_theo = null_prob_trunc(x_ls, mu, n, log_c1, log_c2, eps)\n",
    "\n",
    "# compute decision threshold\n",
    "log_threshold_trunc = find_log_decision_threshold_trunc(\n",
    "    mu, alpha=0.05, n=n, log_c1=log_c1, log_c2=log_c2, eps=eps,\n",
    ")\n",
    "\n",
    "# sns.ecdfplot(trunc_log_lr_vals)\n",
    "plt.plot(x_ls, trunc_probs_theo, color=\"C1\")\n",
    "# plt.plot(x_ls, p0_vals, color=\"C2\")\n",
    "plt.axvline(log_c1, color=\"grey\")\n",
    "plt.axvline(log_c2, color=\"grey\")"
   ]
  },
  {
   "cell_type": "code",
   "execution_count": 178,
   "id": "f4c37ee6-ebec-41f1-bcfe-69d4ba61d556",
   "metadata": {},
   "outputs": [
    {
     "name": "stdout",
     "output_type": "stream",
     "text": [
      "arg1 [4.830687  4.8645496 4.898412  4.932275  4.9661374 5.        5.0338626\n",
      " 5.067725  5.101588  5.135451  5.169313 ]\n"
     ]
    },
    {
     "data": {
      "text/plain": [
       "Array([1., 1., 1., 1., 1., 1., 1., 1., 1., 1., 1.], dtype=float32)"
      ]
     },
     "execution_count": 178,
     "metadata": {},
     "output_type": "execute_result"
    }
   ],
   "source": [
    "null_prob(x_ls, mu, n)"
   ]
  },
  {
   "cell_type": "code",
   "execution_count": 173,
   "id": "58920fc4-2a87-4726-8c4a-1b61024a32da",
   "metadata": {},
   "outputs": [
    {
     "data": {
      "text/plain": [
       "Array(6.556511e-06, dtype=float32)"
      ]
     },
     "execution_count": 173,
     "metadata": {},
     "output_type": "execute_result"
    }
   ],
   "source": [
    "lr_eq1(log_c1, mu=mu, eps=eps, n=n)"
   ]
  },
  {
   "cell_type": "code",
   "execution_count": 168,
   "id": "e5f47f72-be5a-403b-8db5-b28765318cf6",
   "metadata": {},
   "outputs": [
    {
     "data": {
      "text/plain": [
       "(Array(1.386261, dtype=float32),\n",
       " Array(-1.386261, dtype=float32),\n",
       " Array(1.3862607, dtype=float32))"
      ]
     },
     "execution_count": 168,
     "metadata": {},
     "output_type": "execute_result"
    }
   ],
   "source": [
    "log_c1, log_c2, log_threshold_trunc"
   ]
  },
  {
   "cell_type": "code",
   "execution_count": 92,
   "id": "bed5f8f8-f24a-4d9b-a0d3-969de70fe33e",
   "metadata": {},
   "outputs": [
    {
     "data": {
      "text/plain": [
       "Array(0.054, dtype=float32)"
      ]
     },
     "execution_count": 92,
     "metadata": {},
     "output_type": "execute_result"
    }
   ],
   "source": [
    "np.mean(trunc_log_lr_vals > log_threshold_trunc)"
   ]
  },
  {
   "cell_type": "code",
   "execution_count": null,
   "id": "5b36b0a0-41a0-4ee0-b5fa-9ede0ebdb179",
   "metadata": {},
   "outputs": [],
   "source": []
  },
  {
   "cell_type": "code",
   "execution_count": null,
   "id": "acbd202c-823f-43e9-a1c5-dcc3beb17a65",
   "metadata": {},
   "outputs": [],
   "source": []
  },
  {
   "cell_type": "code",
   "execution_count": 274,
   "id": "b6cf6621-c72e-42fc-89c2-12284da8fc55",
   "metadata": {},
   "outputs": [
    {
     "data": {
      "text/plain": [
       "[<matplotlib.lines.Line2D at 0x7f6ef9282400>]"
      ]
     },
     "execution_count": 274,
     "metadata": {},
     "output_type": "execute_result"
    },
    {
     "data": {
      "image/png": "[encoded data removed]",
      "text/plain": [
       "<Figure size 640x480 with 1 Axes>"
      ]
     },
     "metadata": {},
     "output_type": "display_data"
    }
   ],
   "source": [
    "lg = jnp.linspace(-10, 10)\n",
    "eq2_vals = lr_eq2(lg, mu=mu, eps=eps, n=n)\n",
    "\n",
    "plt.plot(lg, eq2_vals)"
   ]
  },
  {
   "cell_type": "code",
   "execution_count": 275,
   "id": "9a5bfc69-fd87-4b05-b4d9-cfcdead3bf1a",
   "metadata": {},
   "outputs": [
    {
     "data": {
      "text/plain": [
       "Array([-4.9957991e-02, -4.9936593e-02, -4.9904346e-02, -4.9855709e-02,\n",
       "       -4.9782455e-02, -4.9672246e-02, -4.9506128e-02, -4.9255967e-02,\n",
       "       -4.8879504e-02, -4.8312724e-02, -4.7459722e-02, -4.6175838e-02,\n",
       "       -4.4243932e-02, -4.1336834e-02, -3.6963046e-02, -3.0382395e-02,\n",
       "       -2.0482183e-02, -5.5882335e-03,  1.6816974e-02,  5.0521016e-02,\n",
       "        1.0122013e-01,  1.7748260e-01,  2.9219520e-01,  4.6474195e-01,\n",
       "        7.2427678e-01,  1.1146505e+00,  1.7018151e+00,  2.5849714e+00,\n",
       "        3.9133196e+00,  5.9112668e+00,  8.9163399e+00,  1.3436189e+01,\n",
       "        2.0234350e+01,  3.0459229e+01,  4.5838104e+01,  6.8968880e+01,\n",
       "        1.0375892e+02,  1.5608511e+02,  2.3478665e+02,  3.5315814e+02,\n",
       "        5.3119586e+02,  7.9897388e+02,  1.2017263e+03,  1.8074874e+03,\n",
       "        2.7185854e+03,  4.0889229e+03,  6.1499844e+03,  9.2499385e+03,\n",
       "        1.3912425e+04,  2.0925066e+04], dtype=float32)"
      ]
     },
     "execution_count": 275,
     "metadata": {},
     "output_type": "execute_result"
    }
   ],
   "source": [
    "eq2_vals"
   ]
  },
  {
   "cell_type": "markdown",
   "id": "6bb6f471-8072-414e-8113-8bf88ace3b7d",
   "metadata": {},
   "source": [
    "# Lq-Likelihood-Ratio-Type Test"
   ]
  },
  {
   "cell_type": "code",
   "execution_count": 183,
   "id": "45941bfb-9cad-4555-b742-300c56d16a8c",
   "metadata": {},
   "outputs": [],
   "source": [
    "import lqrt"
   ]
  },
  {
   "cell_type": "code",
   "execution_count": 200,
   "id": "93293813-68c4-4113-a8ee-1e6f8ea441c8",
   "metadata": {},
   "outputs": [],
   "source": [
    "def robust_Lq_experiment(nrep, n, ol, eps, mu=1., dim=1):\n",
    "    Xs = np.random.multivariate_normal(np.zeros((dim,)), np.eye(dim), (nrep, n)) # nrep, n, 1\n",
    "    ol_mean = np.ones(dim)[:1] * ol\n",
    "    Xs = jax.vmap(lambda x: exp_efm.sample_outlier_contam(x, eps=eps, ol_mean=ol_mean, ol_std=0.1))(Xs)\n",
    "    Xs = jnp.reshape(Xs, (nrep, n)) # nrep, n\n",
    "\n",
    "    # Lq test\n",
    "    pvals = []\n",
    "    for x in tqdm(Xs):\n",
    "        pvals.append(lqrt.lqrtest_1samp(x, 0.)[1])\n",
    "    \n",
    "    return pvals"
   ]
  },
  {
   "cell_type": "code",
   "execution_count": 206,
   "id": "ea52fc58-10e8-4e1d-8afa-5ea40d6fd9c4",
   "metadata": {},
   "outputs": [
    {
     "data": {
      "application/vnd.jupyter.widget-view+json": {
       "model_id": "5781ce04e10d4c98b6410466786d6086",
       "version_major": 2,
       "version_minor": 0
      },
      "text/plain": [
       "  0%|          | 0/100 [00:00<?, ?it/s]"
      ]
     },
     "metadata": {},
     "output_type": "display_data"
    },
    {
     "data": {
      "application/vnd.jupyter.widget-view+json": {
       "model_id": "44797bf99de54a8a92e65003a15bdacc",
       "version_major": 2,
       "version_minor": 0
      },
      "text/plain": [
       "  0%|          | 0/100 [00:00<?, ?it/s]"
      ]
     },
     "metadata": {},
     "output_type": "display_data"
    },
    {
     "data": {
      "application/vnd.jupyter.widget-view+json": {
       "model_id": "82f66bac68174d549fbeed399ae530e8",
       "version_major": 2,
       "version_minor": 0
      },
      "text/plain": [
       "  0%|          | 0/100 [00:00<?, ?it/s]"
      ]
     },
     "metadata": {},
     "output_type": "display_data"
    },
    {
     "data": {
      "application/vnd.jupyter.widget-view+json": {
       "model_id": "afb509fa017e42aca98ffaef1722c86f",
       "version_major": 2,
       "version_minor": 0
      },
      "text/plain": [
       "  0%|          | 0/100 [00:00<?, ?it/s]"
      ]
     },
     "metadata": {},
     "output_type": "display_data"
    },
    {
     "data": {
      "application/vnd.jupyter.widget-view+json": {
       "model_id": "b18ec57b322541f6951e04f86216baf8",
       "version_major": 2,
       "version_minor": 0
      },
      "text/plain": [
       "  0%|          | 0/100 [00:00<?, ?it/s]"
      ]
     },
     "metadata": {},
     "output_type": "display_data"
    },
    {
     "data": {
      "application/vnd.jupyter.widget-view+json": {
       "model_id": "bedf13151ecd417ba6d6431ef38827cc",
       "version_major": 2,
       "version_minor": 0
      },
      "text/plain": [
       "  0%|          | 0/100 [00:00<?, ?it/s]"
      ]
     },
     "metadata": {},
     "output_type": "display_data"
    },
    {
     "data": {
      "application/vnd.jupyter.widget-view+json": {
       "model_id": "38d1d2abb21943c1a25ca5cd357db99b",
       "version_major": 2,
       "version_minor": 0
      },
      "text/plain": [
       "  0%|          | 0/100 [00:00<?, ?it/s]"
      ]
     },
     "metadata": {},
     "output_type": "display_data"
    },
    {
     "data": {
      "application/vnd.jupyter.widget-view+json": {
       "model_id": "0f4bf6ab389143df80b79a97dd7daa53",
       "version_major": 2,
       "version_minor": 0
      },
      "text/plain": [
       "  0%|          | 0/100 [00:00<?, ?it/s]"
      ]
     },
     "metadata": {},
     "output_type": "display_data"
    },
    {
     "data": {
      "application/vnd.jupyter.widget-view+json": {
       "model_id": "842f0f621a08424d8bc35bd92d6e10a9",
       "version_major": 2,
       "version_minor": 0
      },
      "text/plain": [
       "  0%|          | 0/100 [00:00<?, ?it/s]"
      ]
     },
     "metadata": {},
     "output_type": "display_data"
    }
   ],
   "source": [
    "nrep = 100\n",
    "n = 500\n",
    "ol = 10.\n",
    "eps_ls = [0., 0.01, 0.05, 0.1, 0.2, 0.4, 0.6, 0.8, 1.]\n",
    "\n",
    "res = {}\n",
    "for eps in eps_ls:\n",
    "    res[eps] = jnp.array(robust_Lq_experiment(nrep, n, ol, eps, mu=1.))"
   ]
  },
  {
   "cell_type": "code",
   "execution_count": 216,
   "id": "a8ede749-3f6c-40d6-93c8-9b14d52e170b",
   "metadata": {},
   "outputs": [
    {
     "data": {
      "text/plain": [
       "[<matplotlib.lines.Line2D at 0x7f5039c99730>]"
      ]
     },
     "execution_count": 216,
     "metadata": {},
     "output_type": "execute_result"
    },
    {
     "data": {
      "image/png": "[encoded data removed]",
      "text/plain": [
       "<Figure size 640x480 with 1 Axes>"
      ]
     },
     "metadata": {},
     "output_type": "display_data"
    }
   ],
   "source": [
    "sns.ecdfplot(res[0.])\n",
    "plt.plot([0., 1.], [0., 1.], color=\"grey\")"
   ]
  },
  {
   "cell_type": "code",
   "execution_count": 211,
   "id": "8d695431-c6cc-4ee1-a724-46e87ba835d4",
   "metadata": {},
   "outputs": [
    {
     "data": {
      "text/plain": [
       "(-0.01, 1.01)"
      ]
     },
     "execution_count": 211,
     "metadata": {},
     "output_type": "execute_result"
    },
    {
     "data": {
      "image/png": "[encoded data removed]",
      "text/plain": [
       "<Figure size 640x480 with 1 Axes>"
      ]
     },
     "metadata": {},
     "output_type": "display_data"
    }
   ],
   "source": [
    "rej_probs = [jnp.mean(res[e] < 0.05) for e in eps_ls]\n",
    "plt.scatter(eps_ls, rej_probs)\n",
    "plt.axhline(0.05, color=\"grey\", linestyle=\"--\")\n",
    "plt.ylim(-0.01, 1.01)"
   ]
  },
  {
   "cell_type": "code",
   "execution_count": 224,
   "id": "d1b70a1f-9520-4e9b-ba3f-431ccc91b7d2",
   "metadata": {},
   "outputs": [
    {
     "data": {
      "image/png": "[encoded data removed]",
      "text/plain": [
       "<Figure size 640x480 with 1 Axes>"
      ]
     },
     "metadata": {},
     "output_type": "display_data"
    }
   ],
   "source": [
    "xi = np.random.binomial(n=100000, p=0.1, size=1000)\n",
    "_ = plt.hist(xi)"
   ]
  },
  {
   "cell_type": "code",
   "execution_count": null,
   "id": "c37b1f9d-a74e-478e-95f0-8ebb08d97ea0",
   "metadata": {},
   "outputs": [],
   "source": []
  },
  {
   "cell_type": "code",
   "execution_count": null,
   "id": "1b0d32aa-f38a-4295-a376-e2b50ebc645c",
   "metadata": {},
   "outputs": [],
   "source": []
  },
  {
   "cell_type": "code",
   "execution_count": null,
   "id": "55e07e0c-b5f4-459b-9c7a-f88eed76534f",
   "metadata": {},
   "outputs": [],
   "source": []
  }
 ],
 "metadata": {
  "kernelspec": {
   "display_name": "robust",
   "language": "python",
   "name": "robust"
  },
  "language_info": {
   "codemirror_mode": {
    "name": "ipython",
    "version": 3
   },
   "file_extension": ".py",
   "mimetype": "text/x-python",
   "name": "python",
   "nbconvert_exporter": "python",
   "pygments_lexer": "ipython3",
   "version": "3.9.5"
  }
 },
 "nbformat": 4,
 "nbformat_minor": 5
}
