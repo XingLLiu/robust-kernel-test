{
 "cells": [
  {
   "cell_type": "code",
   "execution_count": 2,
   "id": "53ba4499-ea5f-437d-997e-3a715aee93d4",
   "metadata": {},
   "outputs": [
    {
     "name": "stdout",
     "output_type": "stream",
     "text": [
      "The autoreload extension is already loaded. To reload it, use:\n",
      "  %reload_ext autoreload\n"
     ]
    }
   ],
   "source": [
    "%load_ext autoreload\n",
    "%autoreload 2\n",
    "\n",
    "import numpy as np\n",
    "import jax.numpy as jnp\n",
    "import jax\n",
    "import pandas as pd\n",
    "import matplotlib.pyplot as plt\n",
    "from tqdm.notebook import tqdm, trange\n",
    "import seaborn as sns\n",
    "import pickle\n",
    "import copy\n",
    "import jaxopt\n",
    "\n",
    "import src.metrics as metrics\n",
    "import src.kernels as kernels\n",
    "import src.bootstrap as boot\n",
    "import src.exp_utils as exp_utils\n",
    "import experiments.mixture as exp_mix"
   ]
  },
  {
   "cell_type": "markdown",
   "id": "1d83bdc1-b7ff-48d5-b5e1-fb53d183ea3c",
   "metadata": {},
   "source": [
    "# Explore"
   ]
  },
  {
   "cell_type": "code",
   "execution_count": 131,
   "id": "2768609a-0987-46ac-88c9-cd7ca7a3acc6",
   "metadata": {},
   "outputs": [],
   "source": [
    "np.random.seed(2024)\n",
    "\n",
    "nmix = 2\n",
    "dim = 1\n",
    "std = 3.\n",
    "n = 100\n",
    "\n",
    "# mixture means and ratios\n",
    "mean_ls = np.random.uniform(low=-10., high=10., size=(nmix, dim))\n",
    "\n",
    "model_ratio_ls = np.random.uniform(size=(nmix))\n",
    "model_ratio_ls = model_ratio_ls / np.sum(model_ratio_ls)\n",
    "\n",
    "data_ratio_ls = np.random.uniform(size=(nmix))\n",
    "data_ratio_ls = data_ratio_ls / np.sum(data_ratio_ls)"
   ]
  },
  {
   "cell_type": "code",
   "execution_count": 132,
   "id": "756e6c67-700f-4866-ae8f-4ed1373996cc",
   "metadata": {
    "scrolled": true
   },
   "outputs": [],
   "source": [
    "np.random.seed(10)\n",
    "X = exp_mix.sample_mixture(n, mean_ls, data_ratio_ls, std)"
   ]
  },
  {
   "cell_type": "code",
   "execution_count": 133,
   "id": "7dd6f3c7-f6d0-40eb-b5b9-e420d6b46879",
   "metadata": {},
   "outputs": [
    {
     "data": {
      "text/plain": [
       "array([0.65905152, 0.34094848])"
      ]
     },
     "execution_count": 133,
     "metadata": {},
     "output_type": "execute_result"
    }
   ],
   "source": [
    "data_ratio_ls"
   ]
  },
  {
   "cell_type": "code",
   "execution_count": 134,
   "id": "82a40389-25a0-41fb-abf3-465ca9e5767c",
   "metadata": {},
   "outputs": [
    {
     "data": {
      "image/png": "[encoded data removed]",
      "text/plain": [
       "<Figure size 640x480 with 1 Axes>"
      ]
     },
     "metadata": {},
     "output_type": "display_data"
    }
   ],
   "source": [
    "_ = plt.hist(X[:, 0].reshape(-1), bins=20, density=True)"
   ]
  },
  {
   "cell_type": "code",
   "execution_count": 135,
   "id": "771ffd9f-cbad-499f-a3fc-5af686f69dcd",
   "metadata": {},
   "outputs": [
    {
     "name": "stdout",
     "output_type": "stream",
     "text": [
      "[-513.8569]\n",
      "[[-10.668647]]\n"
     ]
    }
   ],
   "source": [
    "log_prob_fn = exp_mix.make_log_prob(mean_ls, model_ratio_ls, std)\n",
    "score_fn = exp_mix.make_score(mean_ls, model_ratio_ls, std)\n",
    "\n",
    "xx = X[:10]\n",
    "xx = np.eye(dim)[:1] * 100.\n",
    "print(log_prob_fn(xx))\n",
    "print(score_fn(xx))"
   ]
  },
  {
   "cell_type": "code",
   "execution_count": 136,
   "id": "19bbbe9e-edb0-4c8e-8cc1-806bf4c0ac78",
   "metadata": {},
   "outputs": [
    {
     "name": "stderr",
     "output_type": "stream",
     "text": [
      "100%|██████████████████████████████████████████████████████████████████████████████████████████████████████████████████████████████████████████████████████████████████████████████████████████████████████████| 20/20 [00:05<00:00,  3.85it/s]\n"
     ]
    }
   ],
   "source": [
    "np.random.seed(10)\n",
    "nrep = 20\n",
    "n = 100\n",
    "\n",
    "Xs = jnp.empty((nrep, n, dim), dtype=jnp.float32)\n",
    "scores = jnp.empty((nrep, n, dim), dtype=jnp.float32)\n",
    "\n",
    "for i in range(nrep):\n",
    "    X = exp_mix.sample_mixture(n, mean_ls, data_ratio_ls, std)\n",
    "    Xs = Xs.at[i].set(X)\n",
    "\n",
    "    score = score_fn(X)\n",
    "    scores = scores.at[i].set(score)\n",
    "\n",
    "res = exp_utils.run_tests(\n",
    "    samples=Xs, scores=scores, hvps=None, hvp_denom_sup=None,\n",
    "    theta=0.1, bw=\"med\", alpha=0.05, verbose=True,\n",
    ")"
   ]
  },
  {
   "cell_type": "code",
   "execution_count": 137,
   "id": "3b17c60d-cfe8-4771-a762-624f0fc34d9b",
   "metadata": {},
   "outputs": [
    {
     "data": {
      "text/plain": [
       "[Array(0.00380071, dtype=float32),\n",
       " Array(0.00443759, dtype=float32),\n",
       " Array(0.00129755, dtype=float32),\n",
       " Array(0.00789136, dtype=float32),\n",
       " Array(0.00311997, dtype=float32),\n",
       " Array(0.00132523, dtype=float32),\n",
       " Array(0.0044415, dtype=float32),\n",
       " Array(0.00046322, dtype=float32),\n",
       " Array(0.00345527, dtype=float32),\n",
       " Array(0.00265669, dtype=float32),\n",
       " Array(0.00225971, dtype=float32),\n",
       " Array(0.0044005, dtype=float32),\n",
       " Array(0.00372059, dtype=float32),\n",
       " Array(0.00066117, dtype=float32),\n",
       " Array(0.00338734, dtype=float32),\n",
       " Array(0.00177894, dtype=float32),\n",
       " Array(0.00068961, dtype=float32),\n",
       " Array(0.00050507, dtype=float32),\n",
       " Array(0.00124762, dtype=float32),\n",
       " Array(0.00605934, dtype=float32)]"
      ]
     },
     "execution_count": 137,
     "metadata": {},
     "output_type": "execute_result"
    }
   ],
   "source": [
    "res[\"standard\"][\"stat\"]"
   ]
  },
  {
   "cell_type": "code",
   "execution_count": 138,
   "id": "8a91a77f-f86b-44a9-8c99-2c893e179556",
   "metadata": {},
   "outputs": [
    {
     "data": {
      "text/plain": [
       "[0, 0, 0, 1, 0, 0, 0, 0, 0, 0, 0, 0, 0, 0, 0, 0, 0, 0, 0, 1]"
      ]
     },
     "execution_count": 138,
     "metadata": {},
     "output_type": "execute_result"
    }
   ],
   "source": [
    "res[\"standard\"][\"rej\"]"
   ]
  },
  {
   "cell_type": "markdown",
   "id": "8c763a52-b975-4ce4-a914-fc5b8f3821df",
   "metadata": {},
   "source": [
    "# Load"
   ]
  },
  {
   "cell_type": "code",
   "execution_count": 91,
   "id": "4960bde0-4bf1-435d-bb1c-af46184d9a08",
   "metadata": {},
   "outputs": [
    {
     "data": {
      "text/plain": [
       "[0.01, 0.1, 0.5, 1.0, 5.0]"
      ]
     },
     "execution_count": 91,
     "metadata": {},
     "output_type": "execute_result"
    }
   ],
   "source": [
    "n = 500\n",
    "d = 1\n",
    "res_stats = pickle.load(open(f\"../data/mixture/stats_n{n}_d{d}.pkl\", \"rb\"))\n",
    "\n",
    "std_ls = list(res_stats.keys())\n",
    "std_ls"
   ]
  },
  {
   "cell_type": "code",
   "execution_count": 93,
   "id": "f24ca72b-e85c-47a1-a8a1-2c782cab75f1",
   "metadata": {},
   "outputs": [
    {
     "data": {
      "text/plain": [
       "{0.01: Array(3.496258e+09, dtype=float32),\n",
       " 0.1: Array(370916.3, dtype=float32),\n",
       " 0.5: Array(599.9684, dtype=float32),\n",
       " 1.0: Array(42.571224, dtype=float32),\n",
       " 5.0: Array(0.05029342, dtype=float32)}"
      ]
     },
     "execution_count": 93,
     "metadata": {},
     "output_type": "execute_result"
    }
   ],
   "source": [
    "tau = pickle.load(open(f\"../data/mixture/tau_d{d}.pkl\", \"rb\"))\n",
    "tau"
   ]
  },
  {
   "cell_type": "code",
   "execution_count": 95,
   "id": "b049d896-8ded-42af-96b4-66220931df89",
   "metadata": {},
   "outputs": [],
   "source": [
    "# change theta\n",
    "eps0_ls = [0.05, 0.1, 0.25]\n",
    "plot_df_ls = {}\n",
    "\n",
    "for i, eps0 in enumerate(eps0_ls):\n",
    "    # change theta\n",
    "    res_stats_new = copy.deepcopy(res_stats)\n",
    "    for std in std_ls:\n",
    "        theta_new = eps0 * tau[std]**0.5\n",
    "        \n",
    "        res_stats_new[std] = exp_utils.change_theta(res_stats_new[std], [\"tilted_r_bootmax\", \"tilted_r_boot\"], theta_new)\n",
    "    \n",
    "    methods = {\"standard\": \"IMQ\", \"tilted\": \"Tilted\", \"tilted_r_boot\": \"R-KSD-Boot\", \"tilted_r_bootmax\": \"R-KSD-BootMax\"}\n",
    "    \n",
    "    plot_df = {\"std\": [], \"nonsq_stat\": [], \"method\": [], \"rej\": []}\n",
    "    for std in std_ls:\n",
    "        for m, m_label in methods.items():\n",
    "            rr = res_stats_new[std][m]\n",
    "            plot_df[\"nonsq_stat\"].extend(np.array(rr[\"nonsq_stat\"]).tolist())\n",
    "            plot_df[\"std\"].extend([std] * len(rr[\"nonsq_stat\"]))\n",
    "            \n",
    "            plot_df[\"rej\"].extend(rr[\"rej\"])\n",
    "            plot_df[\"method\"].extend([m_label] * len(rr[\"nonsq_stat\"]))\n",
    "    \n",
    "    plot_df = pd.DataFrame(plot_df)\n",
    "    plot_df_ls[eps0] = plot_df"
   ]
  },
  {
   "cell_type": "code",
   "execution_count": 97,
   "id": "5064fd1c-67e1-4a39-ae27-07b71e5b0a87",
   "metadata": {},
   "outputs": [
    {
     "data": {
      "image/png": "[encoded data removed]",
      "text/plain": [
       "<Figure size 1200x200 with 3 Axes>"
      ]
     },
     "metadata": {},
     "output_type": "display_data"
    }
   ],
   "source": [
    "_, axes = plt.subplots(ncols=len(eps0_ls), figsize=(4*len(eps0_ls), 2))\n",
    "\n",
    "for i, eps0 in enumerate(eps0_ls):\n",
    "    plot_df = plot_df_ls[eps0]\n",
    "\n",
    "    ax = axes[i]\n",
    "    _ = sns.lineplot(ax=ax, data=plot_df, x=\"std\", y=\"rej\", hue=\"method\", style=\"method\", markers=True, err_style=\"bars\")\n",
    "    ax.axhline(0.05, color=\"grey\", linestyle=\"--\", label=r\"$\\alpha=0.05$\")\n",
    "    ax.set_xlabel(\"Standard deviation\", fontsize=12)\n",
    "    ax.set_ylabel(\"Rejection rate\", fontsize=12)\n",
    "    ax.set_ylim(-0.05, 1.05)\n",
    "    ax.set_xscale(\"log\")\n",
    "    ax.set_title(rf\"$\\epsilon_0 = ${eps0}\")\n",
    "    if i > 0:\n",
    "        ax.legend([],[], frameon=False)\n",
    "        ax.get_yaxis().set_ticks([])\n",
    "        ax.set_ylabel(\"\")\n",
    "\n",
    "lgd = axes[0].legend(bbox_to_anchor=(0.1, 1.15, 1, 0.2), loc=\"lower left\", ncol=6)\n",
    "\n",
    "plt.subplots_adjust(wspace=0.1)\n",
    "# plt.savefig(\"../figs/robust/tail.pdf\", bbox_extra_artists=(lgd,), bbox_inches=\"tight\")"
   ]
  },
  {
   "cell_type": "code",
   "execution_count": 98,
   "id": "8e06572a-16b0-4ef2-be4e-e280a07252c4",
   "metadata": {},
   "outputs": [
    {
     "data": {
      "text/plain": [
       "{'means': array([[ 1.76029038],\n",
       "        [ 3.98217495],\n",
       "        [-6.2369608 ],\n",
       "        [-9.12382873],\n",
       "        [-5.89962095]]),\n",
       " 'model_ratios': array([0.04356042, 0.29868025, 0.27903234, 0.19461021, 0.18411678]),\n",
       " 'data_ratios': array([0.00636835, 0.25084102, 0.2007961 , 0.32056046, 0.22143407])}"
      ]
     },
     "execution_count": 98,
     "metadata": {},
     "output_type": "execute_result"
    }
   ],
   "source": [
    "params_setup = pickle.load(open(f\"../data/mixture/setup_d{d}.pkl\", \"rb\"))\n",
    "params_setup"
   ]
  },
  {
   "cell_type": "code",
   "execution_count": null,
   "id": "2352f334-5b5e-4fbf-a56e-77f9e54ebf8b",
   "metadata": {},
   "outputs": [],
   "source": []
  }
 ],
 "metadata": {
  "kernelspec": {
   "display_name": "robust",
   "language": "python",
   "name": "robust"
  },
  "language_info": {
   "codemirror_mode": {
    "name": "ipython",
    "version": 3
   },
   "file_extension": ".py",
   "mimetype": "text/x-python",
   "name": "python",
   "nbconvert_exporter": "python",
   "pygments_lexer": "ipython3",
   "version": "3.9.5"
  }
 },
 "nbformat": 4,
 "nbformat_minor": 5
}
