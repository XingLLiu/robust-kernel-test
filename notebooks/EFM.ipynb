{
 "cells": [
  {
   "cell_type": "code",
   "execution_count": 1,
   "id": "54b521a7-cfc7-4401-abc2-78e5ce517ed4",
   "metadata": {},
   "outputs": [],
   "source": [
    "%load_ext autoreload\n",
    "%autoreload 2\n",
    "\n",
    "import numpy as np\n",
    "import pandas as pd\n",
    "import matplotlib.pyplot as plt\n",
    "from tqdm.notebook import tqdm, trange\n",
    "import seaborn as sns\n",
    "import pickle\n",
    "import copy\n",
    "\n",
    "import jax\n",
    "import jax.numpy as jnp\n",
    "import jaxopt\n",
    "\n",
    "import src.metrics as metrics\n",
    "import src.kernels as kernels\n",
    "import src.bootstrap as boot\n",
    "import src.exp_utils as exp_utils\n",
    "import experiments.efm as exp_efm"
   ]
  },
  {
   "cell_type": "markdown",
   "id": "5855c13c-2635-47bc-b744-9975a7df1341",
   "metadata": {
    "jp-MarkdownHeadingCollapsed": true
   },
   "source": [
    "# Load EFM results"
   ]
  },
  {
   "cell_type": "code",
   "execution_count": 23,
   "id": "53e757d9-995b-462d-937d-7adfafbccf98",
   "metadata": {},
   "outputs": [],
   "source": [
    "data_res = pickle.load(open(\"../data/efm/efm_hmc_n3000_seed0.pkl\", \"rb\"))"
   ]
  },
  {
   "cell_type": "code",
   "execution_count": 25,
   "id": "899a32cb-9c86-4223-ba99-0241c5692124",
   "metadata": {},
   "outputs": [],
   "source": [
    "states = np.stack([xx[0] for xx in data_res[\"state\"]], 0)"
   ]
  },
  {
   "cell_type": "code",
   "execution_count": 26,
   "id": "c1267768-58f0-46e3-9c13-034c02e19e33",
   "metadata": {},
   "outputs": [
    {
     "data": {
      "text/plain": [
       "(3000, 5)"
      ]
     },
     "execution_count": 26,
     "metadata": {},
     "output_type": "execute_result"
    }
   ],
   "source": [
    "states.shape"
   ]
  },
  {
   "cell_type": "code",
   "execution_count": 81,
   "id": "265a10be-e855-4eb9-9730-873a2fc69dcf",
   "metadata": {},
   "outputs": [],
   "source": [
    "true_params = np.array([-1., 0])\n",
    "\n",
    "efm = exp_efm.EFM(true_params)"
   ]
  },
  {
   "cell_type": "code",
   "execution_count": 40,
   "id": "c715311d-2add-473f-807e-68151120764a",
   "metadata": {},
   "outputs": [
    {
     "data": {
      "image/png": "[encoded data removed]",
      "text/plain": [
       "<Figure size 640x480 with 1 Axes>"
      ]
     },
     "metadata": {},
     "output_type": "display_data"
    }
   ],
   "source": [
    "_ = plt.hist(states[:, 4], bins=100)"
   ]
  },
  {
   "cell_type": "code",
   "execution_count": 53,
   "id": "c1b080a3-b7d0-4349-b644-5bd887bcbdb0",
   "metadata": {},
   "outputs": [
    {
     "data": {
      "image/png": "[encoded data removed]",
      "text/plain": [
       "<Figure size 1500x300 with 5 Axes>"
      ]
     },
     "metadata": {},
     "output_type": "display_data"
    }
   ],
   "source": [
    "_, axes = plt.subplots(ncols=5, figsize=(15, 3))\n",
    "for i, ax in enumerate(axes.flatten()):\n",
    "    ax.acorr(states[:, i], maxlags = 100)\n",
    "    ax.set_xlim(0.)"
   ]
  },
  {
   "cell_type": "code",
   "execution_count": 86,
   "id": "3aaa7afd-0bc4-469b-987c-380513d27c29",
   "metadata": {},
   "outputs": [
    {
     "data": {
      "text/plain": [
       "Array([-1.0587883 ,  0.03012102], dtype=float32)"
      ]
     },
     "execution_count": 86,
     "metadata": {},
     "output_type": "execute_result"
    }
   ],
   "source": [
    "X = states[::50]\n",
    "efm.sm_est(X)"
   ]
  },
  {
   "cell_type": "code",
   "execution_count": 217,
   "id": "64d57350-8576-4722-beb4-da21c4923f13",
   "metadata": {},
   "outputs": [
    {
     "name": "stderr",
     "output_type": "stream",
     "text": [
      "/home/clustor/ma/x/xl6116/research/robust-kernel-test/experiments/efm.py:69: RuntimeWarning: covariance is not symmetric positive-semidefinite.\n",
      "  return x\n"
     ]
    },
    {
     "data": {
      "text/plain": [
       "Array([ 0.02641327, -0.00542635], dtype=float32)"
      ]
     },
     "execution_count": 217,
     "metadata": {},
     "output_type": "execute_result"
    }
   ],
   "source": [
    "np.random.seed(2024)\n",
    "\n",
    "efm = exp_efm.EFM(np.zeros((2,)))\n",
    "X = efm.sample(1000)\n",
    "kernel = kernels.IMQ(med_heuristic=True, X=X, Y=X)\n",
    "efm.ksd_est(X, kernel)"
   ]
  },
  {
   "cell_type": "code",
   "execution_count": 218,
   "id": "9e507d10-a13e-487a-b287-7548fe758247",
   "metadata": {},
   "outputs": [
    {
     "data": {
      "text/plain": [
       "Array([0.30054438, 0.29845858], dtype=float32)"
      ]
     },
     "execution_count": 218,
     "metadata": {},
     "output_type": "execute_result"
    }
   ],
   "source": [
    "np.random.seed(2024)\n",
    "X_contam = efm.sample_contam(1000, eps=0.05, outlier=10. * np.ones((5,)))\n",
    "kernel = kernels.IMQ(med_heuristic=True, X=X_contam, Y=X_contam)\n",
    "efm.ksd_est(X_contam, kernel)"
   ]
  },
  {
   "cell_type": "code",
   "execution_count": 220,
   "id": "f411ef61-a395-4383-b0a2-44bf26da4d36",
   "metadata": {},
   "outputs": [],
   "source": [
    "np.random.seed(2024)\n",
    "X = efm.sample(5000)\n",
    "kernel = kernels.IMQ(med_heuristic=True, X=X, Y=X)\n",
    "efm.ksd_est(X, kernel)"
   ]
  },
  {
   "cell_type": "code",
   "execution_count": null,
   "id": "5203369e-4726-4ce1-ab60-3b85acc0345d",
   "metadata": {
    "scrolled": true
   },
   "outputs": [],
   "source": [
    "efm.sm_est(X)"
   ]
  },
  {
   "cell_type": "code",
   "execution_count": null,
   "id": "55a85cee-e16b-4735-bb10-a07f6eef6cdf",
   "metadata": {},
   "outputs": [],
   "source": []
  },
  {
   "cell_type": "code",
   "execution_count": 238,
   "id": "167d0e91-acdb-4a66-b728-753e79119278",
   "metadata": {},
   "outputs": [
    {
     "name": "stderr",
     "output_type": "stream",
     "text": [
      "/home/clustor/ma/x/xl6116/research/robust-kernel-test/experiments/efm.py:69: RuntimeWarning: covariance is not symmetric positive-semidefinite.\n",
      "  return x\n"
     ]
    }
   ],
   "source": [
    "np.random.seed(2024)\n",
    "X = efm.sample(200)\n",
    "kernel = kernels.IMQ(med_heuristic=True, X=X, Y=X)\n",
    "est_params = efm.ksd_est(X, kernel)"
   ]
  },
  {
   "cell_type": "code",
   "execution_count": 244,
   "id": "752904a6-a494-4a73-9c3c-52d1536b4853",
   "metadata": {},
   "outputs": [],
   "source": [
    "# est_efm = exp_efm.EFM(est_params)\n",
    "est_efm = exp_efm.EFM(np.zeros((2,)))\n",
    "\n",
    "score, hvp = est_efm.compute_grad_and_hvp(X)"
   ]
  },
  {
   "cell_type": "code",
   "execution_count": 223,
   "id": "cfe74948-9d9b-4bff-9552-382f022a66de",
   "metadata": {},
   "outputs": [],
   "source": [
    "hvp_denom_sup = 1.\n",
    "X_res = np.expand_dims(X, 0)\n",
    "score_res = np.expand_dims(score, 0)\n",
    "hvp_res = np.expand_dims(hvp, 0)\n",
    "\n",
    "theta = 0.1"
   ]
  },
  {
   "cell_type": "code",
   "execution_count": 224,
   "id": "9d11e2a9-c048-403d-bc5f-e50ccbdd0c6f",
   "metadata": {},
   "outputs": [
    {
     "name": "stderr",
     "output_type": "stream",
     "text": [
      "100%|██████████████████████████████████████████████████████████████████████████████████████████████████████████████████████████████████████████████████████████████████████████████████████████████████████| 1/1 [00:00<00:00,  1.66it/s]\n"
     ]
    }
   ],
   "source": [
    "res = exp_utils.run_tests(\n",
    "    samples=X_res, scores=score_res, hvps=hvp_res, hvp_denom_sup=hvp_denom_sup, \n",
    "    theta=theta, bw=\"med\", alpha=0.05, verbose=True,\n",
    ")"
   ]
  },
  {
   "cell_type": "code",
   "execution_count": 225,
   "id": "5a5eddcc-0fca-4d7e-91f7-af91694540df",
   "metadata": {
    "scrolled": true
   },
   "outputs": [
    {
     "data": {
      "text/plain": [
       "{'nonsq_stat': [Array(0.16259159, dtype=float32)],\n",
       " 'stat': [Array(0.02643602, dtype=float32)],\n",
       " 'u_stat': [],\n",
       " 'pval': [Array(0.65634364, dtype=float32, weak_type=True)],\n",
       " 'rej': [0],\n",
       " 'boot_stats': [array([0.02309129, 0.03696243, 0.03051676, 0.03181617, 0.03263012,\n",
       "         0.02389938, 0.02468866, 0.03978031, 0.03009584, 0.01947895,\n",
       "         0.02849437, 0.03016425, 0.02288527, 0.02470086, 0.02317857,\n",
       "         0.01772941, 0.05685254, 0.01679318, 0.02728976, 0.03630476,\n",
       "         0.03422087, 0.03137206, 0.02511796, 0.035787  , 0.03514912,\n",
       "         0.02400936, 0.02538567, 0.03270467, 0.0310781 , 0.02944112,\n",
       "         0.04030979, 0.02804152, 0.02266177, 0.03005852, 0.0311309 ,\n",
       "         0.03366491, 0.01948159, 0.02829609, 0.03033528, 0.04010079,\n",
       "         0.02195832, 0.02945221, 0.02692001, 0.02807494, 0.03733991,\n",
       "         0.02431225, 0.0223873 , 0.03349234, 0.02172165, 0.02788307,\n",
       "         0.03335116, 0.02952903, 0.02459374, 0.03505342, 0.02941951,\n",
       "         0.04105745, 0.03623332, 0.03657379, 0.02738039, 0.01863704,\n",
       "         0.02608398, 0.01870142, 0.03996505, 0.02356232, 0.02600994,\n",
       "         0.02663007, 0.02716593, 0.03623593, 0.03424791, 0.02592059,\n",
       "         0.03530698, 0.02788804, 0.016381  , 0.03677146, 0.0250436 ,\n",
       "         0.03174553, 0.03247538, 0.03240163, 0.02609822, 0.03037539,\n",
       "         0.02802706, 0.04043964, 0.05052487, 0.02520302, 0.0245376 ,\n",
       "         0.03077977, 0.04711496, 0.02834309, 0.02337941, 0.02889913,\n",
       "         0.02764476, 0.0286575 , 0.03112059, 0.01948299, 0.02185725,\n",
       "         0.0345799 , 0.03298016, 0.03569508, 0.04142463, 0.02547101,\n",
       "         0.02569866, 0.0317558 , 0.0346001 , 0.01680606, 0.04386407,\n",
       "         0.01863512, 0.03030566, 0.05043035, 0.01865656, 0.03055309,\n",
       "         0.01952467, 0.01767787, 0.0298741 , 0.04085847, 0.03750524,\n",
       "         0.03430131, 0.02727447, 0.03132586, 0.03983753, 0.03591105,\n",
       "         0.0506992 , 0.03295769, 0.03021867, 0.02572379, 0.02629048,\n",
       "         0.02482579, 0.02964034, 0.03257144, 0.01868707, 0.02972306,\n",
       "         0.02068976, 0.02796368, 0.03042366, 0.02205364, 0.02993684,\n",
       "         0.0260522 , 0.0230438 , 0.03011001, 0.0188007 , 0.02676182,\n",
       "         0.04097832, 0.04763609, 0.04605449, 0.02933268, 0.04506649,\n",
       "         0.02375638, 0.02414292, 0.02796148, 0.02033755, 0.03731038,\n",
       "         0.03620226, 0.03232941, 0.03843316, 0.03781721, 0.02029157,\n",
       "         0.025087  , 0.02591042, 0.02752726, 0.02605788, 0.02212435,\n",
       "         0.02399896, 0.02078837, 0.02576266, 0.0281819 , 0.04488754,\n",
       "         0.03211012, 0.0286716 , 0.02360162, 0.02981853, 0.02696715,\n",
       "         0.03448162, 0.02635234, 0.03014175, 0.02251844, 0.01644793,\n",
       "         0.03619175, 0.0242111 , 0.02340992, 0.03344467, 0.04212159,\n",
       "         0.02200202, 0.02943953, 0.02665024, 0.02547104, 0.03040505,\n",
       "         0.03096237, 0.02596685, 0.04643627, 0.02269104, 0.01791769,\n",
       "         0.02981432, 0.02219687, 0.02212765, 0.02676771, 0.02215386,\n",
       "         0.0444295 , 0.03403722, 0.026281  , 0.02860791, 0.04867622,\n",
       "         0.02094334, 0.02700908, 0.03143034, 0.02667249, 0.03098987,\n",
       "         0.06299463, 0.02398499, 0.02565634, 0.0331943 , 0.02563077,\n",
       "         0.03206816, 0.04698289, 0.04050875, 0.0413097 , 0.0230776 ,\n",
       "         0.01799114, 0.03423754, 0.03305851, 0.02566509, 0.03148126,\n",
       "         0.028803  , 0.02934789, 0.02352663, 0.01945484, 0.03022481,\n",
       "         0.01948409, 0.02909184, 0.04431758, 0.03557976, 0.02031927,\n",
       "         0.03577512, 0.01897188, 0.03603812, 0.04097366, 0.04666083,\n",
       "         0.03178179, 0.02234687, 0.04150812, 0.02936314, 0.02693806,\n",
       "         0.02914398, 0.02545   , 0.02202004, 0.02400806, 0.03805888,\n",
       "         0.0568628 , 0.02784146, 0.03429533, 0.04187181, 0.03326061,\n",
       "         0.02723172, 0.02975378, 0.02295474, 0.02356339, 0.02085827,\n",
       "         0.02422498, 0.04024577, 0.02738005, 0.02456161, 0.02829394,\n",
       "         0.0371366 , 0.02916187, 0.02685037, 0.02327659, 0.02222947,\n",
       "         0.03028351, 0.02742005, 0.02498154, 0.02704027, 0.02053155,\n",
       "         0.02591367, 0.03432788, 0.02376276, 0.01921016, 0.02208255,\n",
       "         0.0247968 , 0.04780667, 0.02025938, 0.02479764, 0.04038142,\n",
       "         0.03897493, 0.03603922, 0.02593597, 0.02830642, 0.0177388 ,\n",
       "         0.04992644, 0.03626374, 0.03439195, 0.03919292, 0.04065171,\n",
       "         0.02555362, 0.02686434, 0.04699372, 0.04646513, 0.01830699,\n",
       "         0.02398984, 0.01949518, 0.02036538, 0.02630426, 0.02452513,\n",
       "         0.02394723, 0.03605269, 0.02577581, 0.03506331, 0.01819   ,\n",
       "         0.05307219, 0.03517154, 0.03303582, 0.03487107, 0.03787084,\n",
       "         0.0283059 , 0.03540334, 0.0272784 , 0.02743776, 0.05589414,\n",
       "         0.02147379, 0.02585411, 0.0450358 , 0.01914649, 0.02350848,\n",
       "         0.02519246, 0.03994034, 0.02321125, 0.0416418 , 0.01610718,\n",
       "         0.0260253 , 0.03943023, 0.05090542, 0.03517692, 0.03095596,\n",
       "         0.02712963, 0.01597506, 0.02470439, 0.033529  , 0.02449751,\n",
       "         0.03013665, 0.02003723, 0.0234609 , 0.03454913, 0.03041759,\n",
       "         0.02925053, 0.0253794 , 0.02194525, 0.02993263, 0.03484619,\n",
       "         0.03487287, 0.03171699, 0.02153682, 0.02572447, 0.02061505,\n",
       "         0.02174311, 0.02841991, 0.0292218 , 0.0311455 , 0.03931519,\n",
       "         0.02723129, 0.03107006, 0.04503343, 0.02436685, 0.03895152,\n",
       "         0.02916542, 0.04869647, 0.02107796, 0.03653495, 0.02320144,\n",
       "         0.0269076 , 0.02503103, 0.03240562, 0.03187639, 0.02467019,\n",
       "         0.01974455, 0.02323248, 0.03467948, 0.03014574, 0.02002019,\n",
       "         0.02932349, 0.02876955, 0.02696121, 0.024662  , 0.02964754,\n",
       "         0.03635244, 0.03294966, 0.02176199, 0.02706779, 0.02349873,\n",
       "         0.04363061, 0.03300424, 0.02067621, 0.02985562, 0.02779651,\n",
       "         0.02022952, 0.02344829, 0.02715234, 0.03247744, 0.03376256,\n",
       "         0.02393634, 0.02621519, 0.03166394, 0.02684297, 0.04120202,\n",
       "         0.02304129, 0.03489699, 0.03275991, 0.0305654 , 0.02542493,\n",
       "         0.04871579, 0.03061207, 0.02335047, 0.01637523, 0.04106715,\n",
       "         0.03962358, 0.03326949, 0.03297747, 0.02868614, 0.02029675,\n",
       "         0.03190766, 0.03963723, 0.04822372, 0.02740089, 0.02964046,\n",
       "         0.03634031, 0.0269415 , 0.03058866, 0.02749228, 0.04264587,\n",
       "         0.03673617, 0.04278442, 0.05008747, 0.03365155, 0.02433265,\n",
       "         0.01965413, 0.02534956, 0.03662634, 0.03573721, 0.02518336,\n",
       "         0.02753777, 0.03451644, 0.02897571, 0.03100593, 0.02871883,\n",
       "         0.03005144, 0.0246111 , 0.02454151, 0.03491349, 0.02348847,\n",
       "         0.02279976, 0.05465341, 0.03468773, 0.04309151, 0.02730776,\n",
       "         0.0300361 , 0.04289333, 0.05003273, 0.03701799, 0.03561576,\n",
       "         0.03316904, 0.02314161, 0.034012  , 0.03696045, 0.04066948,\n",
       "         0.01893221, 0.03237518, 0.03436814, 0.01718381, 0.03556583,\n",
       "         0.03375447, 0.04231268, 0.02745102, 0.01736913, 0.03271841,\n",
       "         0.02122228, 0.04591996, 0.01996154, 0.04012206, 0.0342718 ,\n",
       "         0.0290299 , 0.04698639, 0.02370949, 0.02737352, 0.03509095,\n",
       "         0.02565303, 0.02612258, 0.03025702, 0.03318433, 0.02695   ,\n",
       "         0.02644051, 0.04731436, 0.03177481, 0.03850444, 0.03223986,\n",
       "         0.0286308 , 0.02904884, 0.03420646, 0.03075694, 0.04232123,\n",
       "         0.01837363, 0.02334105, 0.03376922, 0.03959235, 0.03550768,\n",
       "         0.03593778, 0.02598124, 0.03324241, 0.03450644, 0.02731008,\n",
       "         0.02373482, 0.04019326, 0.02993807, 0.02977363, 0.04034715,\n",
       "         0.02140401, 0.02018692, 0.02870963, 0.02478406, 0.02456658,\n",
       "         0.03530351, 0.0309171 , 0.02158331, 0.02742842, 0.0343405 ,\n",
       "         0.030233  , 0.02844399, 0.03205252, 0.02244783, 0.03527556,\n",
       "         0.03129042, 0.02553526, 0.03697737, 0.03103924, 0.03231631,\n",
       "         0.03704945, 0.03460326, 0.01815197, 0.03101347, 0.02357347,\n",
       "         0.03383431, 0.04659503, 0.02259233, 0.0405982 , 0.02334097,\n",
       "         0.0248433 , 0.02467426, 0.01888013, 0.02097774, 0.03195297,\n",
       "         0.03012121, 0.03464604, 0.02154264, 0.04419643, 0.03197692,\n",
       "         0.0492961 , 0.03349957, 0.02513395, 0.02454228, 0.02994411,\n",
       "         0.04152154, 0.0498522 , 0.03230278, 0.0241536 , 0.03946614,\n",
       "         0.04314462, 0.03892899, 0.02851229, 0.02242823, 0.02674855,\n",
       "         0.02366656, 0.03599277, 0.03221182, 0.02970196, 0.03171608,\n",
       "         0.04015619, 0.02531093, 0.01918761, 0.03415876, 0.0217092 ,\n",
       "         0.04078034, 0.02586063, 0.03455857, 0.03774722, 0.02235401,\n",
       "         0.02092947, 0.03137306, 0.03118681, 0.02320218, 0.03280546,\n",
       "         0.04263164, 0.03618163, 0.02674946, 0.02885604, 0.02246777,\n",
       "         0.0420514 , 0.03272956, 0.01591754, 0.03799871, 0.02190771,\n",
       "         0.02529788, 0.03003025, 0.04959434, 0.02940399, 0.02761077,\n",
       "         0.03658961, 0.04171613, 0.0881622 , 0.02736772, 0.02595177,\n",
       "         0.03470166, 0.02630422, 0.02734263, 0.03771244, 0.03018963,\n",
       "         0.04206383, 0.03986023, 0.02344847, 0.02578604, 0.03078647,\n",
       "         0.0218491 , 0.05030123, 0.03228903, 0.0314818 , 0.03151745,\n",
       "         0.03330934, 0.02654553, 0.02573473, 0.02548491, 0.02732176,\n",
       "         0.01781285, 0.03494709, 0.02367554, 0.01850774, 0.02194902,\n",
       "         0.03256015, 0.02437318, 0.02789709, 0.03015777, 0.03258978,\n",
       "         0.03212296, 0.02829363, 0.0276684 , 0.02902066, 0.03337201,\n",
       "         0.03510941, 0.01699489, 0.02289366, 0.0277655 , 0.01834666,\n",
       "         0.03445979, 0.04009891, 0.02778846, 0.02631271, 0.0241385 ,\n",
       "         0.03540623, 0.03090206, 0.03617118, 0.03480273, 0.04013795,\n",
       "         0.02320214, 0.02029955, 0.03159312, 0.03548575, 0.02398749,\n",
       "         0.02064326, 0.03217587, 0.03806599, 0.02503495, 0.02862563,\n",
       "         0.03177088, 0.03190868, 0.02139035, 0.03071439, 0.03315684,\n",
       "         0.02211495, 0.02309958, 0.0268404 , 0.02804741, 0.03112603,\n",
       "         0.02803813, 0.02578628, 0.02660552, 0.02137431, 0.03341921,\n",
       "         0.02417491, 0.03917944, 0.0323346 , 0.03868779, 0.02001057,\n",
       "         0.02801303, 0.02426301, 0.0266826 , 0.03973713, 0.02036195,\n",
       "         0.04051498, 0.02142869, 0.03344203, 0.04028371, 0.02517658,\n",
       "         0.03023531, 0.01901595, 0.022705  , 0.02978194, 0.04344768,\n",
       "         0.02742747, 0.02736339, 0.02765472, 0.03632961, 0.02426849,\n",
       "         0.02556457, 0.02763225, 0.02044993, 0.03827487, 0.03605206,\n",
       "         0.03536671, 0.03230126, 0.03712886, 0.03229529, 0.02786516,\n",
       "         0.04023194, 0.03395166, 0.01988301, 0.02405366, 0.03095162,\n",
       "         0.02877455, 0.03377626, 0.02261693, 0.01970749, 0.02676612,\n",
       "         0.03472822, 0.04578675, 0.02549866, 0.03165259, 0.03515083,\n",
       "         0.02972382, 0.02724583, 0.03877853, 0.03279572, 0.03022786,\n",
       "         0.0287272 , 0.02827318, 0.0382301 , 0.03155036, 0.03444059,\n",
       "         0.03056568, 0.02019927, 0.02618895, 0.02808322, 0.0224936 ,\n",
       "         0.02773645, 0.02046699, 0.0239702 , 0.02858717, 0.03182419,\n",
       "         0.0368735 , 0.03773245, 0.02982784, 0.02877062, 0.05379175,\n",
       "         0.03463955, 0.03122755, 0.0249808 , 0.04259559, 0.02761703,\n",
       "         0.01791164, 0.02478768, 0.02358233, 0.02563285, 0.03464408,\n",
       "         0.02732279, 0.01995726, 0.04030743, 0.02877474, 0.02658215,\n",
       "         0.01953585, 0.02338077, 0.04746038, 0.02890284, 0.03609588,\n",
       "         0.02409884, 0.03659279, 0.0244094 , 0.0307368 , 0.01638767,\n",
       "         0.02897936, 0.04718716, 0.02906782, 0.03046644, 0.02431133,\n",
       "         0.04784962, 0.02733481, 0.02891533, 0.04540376, 0.03436103,\n",
       "         0.03277302, 0.03044875, 0.04720858, 0.04031008, 0.0301877 ,\n",
       "         0.02424398, 0.03978003, 0.02559041, 0.0493247 , 0.02393404,\n",
       "         0.03543121, 0.02004497, 0.02182845, 0.02104232, 0.02752242,\n",
       "         0.03266028, 0.03744279, 0.04104418, 0.02573287, 0.03571736,\n",
       "         0.0414722 , 0.0232714 , 0.02624298, 0.04447044, 0.02572962,\n",
       "         0.0376475 , 0.02311355, 0.03306694, 0.01682917, 0.02473661,\n",
       "         0.02776898, 0.02527456, 0.03600888, 0.03627058, 0.02407331,\n",
       "         0.03425448, 0.03403403, 0.02603741, 0.03872596, 0.05792126,\n",
       "         0.03626315, 0.03005922, 0.02240768, 0.03075636, 0.04138396,\n",
       "         0.03203714, 0.01484975, 0.02303085, 0.03109663, 0.03380234,\n",
       "         0.02648816, 0.02628286, 0.02728701, 0.01976316, 0.02946086,\n",
       "         0.02792591, 0.02642599, 0.02680005, 0.02897415, 0.01920676,\n",
       "         0.0253105 , 0.04575213, 0.03048104, 0.04206558, 0.02084802,\n",
       "         0.03240081, 0.02168357, 0.02277728, 0.04854502, 0.05280426,\n",
       "         0.02366012, 0.03799281, 0.03548183, 0.02868488, 0.03247676,\n",
       "         0.02430241, 0.03484316, 0.03268188, 0.02230054, 0.01946672,\n",
       "         0.02429001, 0.02975836, 0.03080663, 0.03357476, 0.02411147,\n",
       "         0.03133697, 0.03077944, 0.03885548, 0.02800942, 0.03252589,\n",
       "         0.03051216, 0.05747793, 0.0308226 , 0.02721362, 0.03906548,\n",
       "         0.02433226, 0.02761323, 0.02618716, 0.03039851, 0.0263608 ,\n",
       "         0.03468043, 0.02660562, 0.03950557, 0.02776898, 0.04002815,\n",
       "         0.02727474, 0.0277837 , 0.02881678, 0.02548063, 0.03308481,\n",
       "         0.02829308, 0.04502877, 0.02379258, 0.03720839, 0.04248036,\n",
       "         0.02905753, 0.0434856 , 0.03425974, 0.02445876, 0.02583595,\n",
       "         0.028613  , 0.02907491, 0.01705355, 0.03381471, 0.01864684,\n",
       "         0.01734978, 0.03731269, 0.02428782, 0.01790592, 0.06017429,\n",
       "         0.03149213, 0.02937199, 0.03456375, 0.03689684, 0.02842632,\n",
       "         0.02402131, 0.02263076, 0.02236407, 0.02380845, 0.03135444,\n",
       "         0.02374315, 0.01817364, 0.02821919, 0.02839902, 0.02022033,\n",
       "         0.03261781, 0.02253094, 0.02801679, 0.03522105, 0.04826543,\n",
       "         0.0152809 , 0.03115048, 0.02137822, 0.03655434, 0.04848318,\n",
       "         0.02476428, 0.03675789, 0.04679108, 0.03571334, 0.04696495,\n",
       "         0.02863041, 0.02947486, 0.01757316, 0.04234936, 0.02644859,\n",
       "         0.0206934 , 0.03063587, 0.03889345, 0.04301074, 0.02644431,\n",
       "         0.02859149, 0.04692936, 0.02638359, 0.02534193, 0.02478117,\n",
       "         0.029629  , 0.02785773, 0.02204867, 0.03201031, 0.02277931,\n",
       "         0.03195579, 0.0470668 , 0.03144913, 0.03156394, 0.0289393 ,\n",
       "         0.0281807 , 0.03684053, 0.03168223, 0.02530946, 0.02229732,\n",
       "         0.04014321, 0.04942304, 0.05963595, 0.03157248, 0.04364705,\n",
       "         0.01266557, 0.04052353, 0.03293522, 0.02284137, 0.01966199,\n",
       "         0.03029411, 0.02788237, 0.01998469, 0.02197919, 0.02086155,\n",
       "         0.01843996, 0.0272992 , 0.03419574, 0.03575819, 0.03474705])]}"
      ]
     },
     "execution_count": 225,
     "metadata": {},
     "output_type": "execute_result"
    }
   ],
   "source": [
    "res[\"rbf\"]"
   ]
  },
  {
   "cell_type": "code",
   "execution_count": 235,
   "id": "3508d27d-9542-4379-8e61-c7f8d2b1e000",
   "metadata": {},
   "outputs": [
    {
     "data": {
      "text/plain": [
       "True"
      ]
     },
     "execution_count": 235,
     "metadata": {},
     "output_type": "execute_result"
    }
   ],
   "source": [
    "np.allclose(score_res, jax.vmap(jax.grad(est_efm.log_unnormalised_density))(X))"
   ]
  },
  {
   "cell_type": "markdown",
   "id": "6e2cdafd-a538-44a9-be13-04b319e0efb0",
   "metadata": {},
   "source": [
    "# Load test results"
   ]
  },
  {
   "cell_type": "code",
   "execution_count": 274,
   "id": "99634e7a-3df7-4315-a83a-46e83d4bf7e6",
   "metadata": {},
   "outputs": [],
   "source": [
    "res_stats = pickle.load(open(\"../data/efm/efm_stats_n500.pkl\", \"rb\"))\n",
    "eps_ls = list(stats_res.keys())"
   ]
  },
  {
   "cell_type": "code",
   "execution_count": 275,
   "id": "315426b5-476f-42fc-a7bd-5cfce124e1e4",
   "metadata": {},
   "outputs": [
    {
     "data": {
      "text/plain": [
       "[0.0, 0.01, 0.05, 0.1, 0.2]"
      ]
     },
     "execution_count": 275,
     "metadata": {},
     "output_type": "execute_result"
    }
   ],
   "source": [
    "eps_ls"
   ]
  },
  {
   "cell_type": "code",
   "execution_count": 281,
   "id": "4f106904-eae6-41cb-a3bb-c102cc6cc850",
   "metadata": {},
   "outputs": [
    {
     "data": {
      "text/plain": [
       "<matplotlib.legend.Legend at 0x7fad03d691f0>"
      ]
     },
     "execution_count": 281,
     "metadata": {},
     "output_type": "execute_result"
    },
    {
     "data": {
      "image/png": "[encoded data removed]",
      "text/plain": [
       "<Figure size 300x300 with 1 Axes>"
      ]
     },
     "metadata": {},
     "output_type": "display_data"
    }
   ],
   "source": [
    "_, ax = plt.subplots(figsize=(3, 3))\n",
    "\n",
    "res_plot = res_stats\n",
    "method_list = [\"tilted\", \"tilted_robust_dev\", \"tilted_robust_clt\", \"tilted_robust_boot\"]\n",
    "\n",
    "plot_df = {\"eps\": [], \"nonsq_stat\": [], \"nonsq_u_stat\": [], \"method\": [], \"rej\": []}\n",
    "for eps in eps_ls:\n",
    "    rr = res_plot[eps][\"tilted\"][\"nonsq_stat\"]\n",
    "    for m in method_list:\n",
    "        plot_df[\"nonsq_stat\"] = plot_df[\"nonsq_stat\"] + np.array(rr).tolist()\n",
    "        plot_df[\"nonsq_u_stat\"] = plot_df[\"nonsq_u_stat\"] + (np.array(rr)**0.5).tolist()\n",
    "        plot_df[\"eps\"] = plot_df[\"eps\"] + [eps] * len(rr)\n",
    "        \n",
    "        plot_df[\"rej\"] = plot_df[\"rej\"] + res_plot[eps][m][\"rej\"]\n",
    "        plot_df[\"method\"] = plot_df[\"method\"] + [m] * len(rr)\n",
    "\n",
    "plot_df = pd.DataFrame(plot_df)\n",
    "\n",
    "_ = sns.lineplot(ax=ax, data=plot_df, x=\"eps\", y=\"rej\", hue=\"method\", style=\"method\", markers=True)\n",
    "ax.legend(loc=\"center left\", bbox_to_anchor=(1, 0.5))"
   ]
  },
  {
   "cell_type": "code",
   "execution_count": 282,
   "id": "8ce980da-8261-4157-a9ae-ebc09e2939f7",
   "metadata": {},
   "outputs": [
    {
     "name": "stdout",
     "output_type": "stream",
     "text": [
      "theta_new 0.01\n"
     ]
    },
    {
     "data": {
      "text/plain": [
       "<matplotlib.legend.Legend at 0x7fad03d98070>"
      ]
     },
     "execution_count": 282,
     "metadata": {},
     "output_type": "execute_result"
    },
    {
     "data": {
      "image/png": "[encoded data removed]",
      "text/plain": [
       "<Figure size 300x300 with 1 Axes>"
      ]
     },
     "metadata": {},
     "output_type": "display_data"
    }
   ],
   "source": [
    "theta_new = 0.01\n",
    "print(\"theta_new\", theta_new)\n",
    "# change theta\n",
    "res_new = copy.deepcopy(res_stats)\n",
    "for eps in eps_ls:\n",
    "    res_new[eps] = exp_utils.change_theta(\n",
    "        res_new[eps], [\"tilted_robust_dev\", \"tilted_robust_clt\", \"tilted_robust_boot\"], theta_new)\n",
    "\n",
    "\n",
    "_, ax = plt.subplots(figsize=(3, 3))\n",
    "\n",
    "res_plot = res_new\n",
    "method_list = [\"tilted\", \"tilted_robust_dev\", \"tilted_robust_clt\", \"tilted_robust_boot\"]\n",
    "\n",
    "plot_df = {\"eps\": [], \"nonsq_stat\": [], \"nonsq_u_stat\": [], \"method\": [], \"rej\": []}\n",
    "for eps in eps_ls:\n",
    "    rr = res_plot[eps][\"tilted\"][\"nonsq_stat\"]\n",
    "    for m in method_list:\n",
    "        plot_df[\"nonsq_stat\"] = plot_df[\"nonsq_stat\"] + np.array(rr).tolist()\n",
    "        plot_df[\"nonsq_u_stat\"] = plot_df[\"nonsq_u_stat\"] + (np.array(rr)**0.5).tolist()\n",
    "        plot_df[\"eps\"] = plot_df[\"eps\"] + [eps] * len(rr)\n",
    "        \n",
    "        plot_df[\"rej\"] = plot_df[\"rej\"] + res_plot[eps][m][\"rej\"]\n",
    "        plot_df[\"method\"] = plot_df[\"method\"] + [m] * len(rr)\n",
    "\n",
    "plot_df = pd.DataFrame(plot_df)\n",
    "\n",
    "_ = sns.lineplot(ax=ax, data=plot_df, x=\"eps\", y=\"rej\", hue=\"method\", style=\"method\", markers=True)\n",
    "ax.legend(loc=\"center left\", bbox_to_anchor=(1, 0.5))"
   ]
  },
  {
   "cell_type": "markdown",
   "id": "ca36899b-991e-4029-b124-d580be48f72c",
   "metadata": {},
   "source": [
    "# RBM"
   ]
  },
  {
   "cell_type": "code",
   "execution_count": 59,
   "id": "32593a22-eab5-42c5-9959-4107b99884f5",
   "metadata": {},
   "outputs": [],
   "source": [
    "from kgof import data as kgof_data\n",
    "# from kgof import density as kgof_den\n",
    "import src.kgof_density as kgof_den"
   ]
  },
  {
   "cell_type": "code",
   "execution_count": 19,
   "id": "818b958a-7b1e-40a5-83a4-5d6e50cd9de7",
   "metadata": {},
   "outputs": [],
   "source": [
    "seed = 2024\n",
    "key = jax.random.key(seed)\n",
    "keys = jax.random.split(key, 3)\n",
    "\n",
    "dim = 50\n",
    "h_dim = 10\n",
    "b = jax.random.normal(keys[0], shape=(dim,))\n",
    "c = jax.random.normal(keys[1], shape=(h_dim,))\n",
    "B = jax.random.bernoulli(keys[2], shape=(dim, h_dim)).astype(jnp.float32) * 2 - 1."
   ]
  },
  {
   "cell_type": "code",
   "execution_count": 21,
   "id": "4a816e39-e013-4026-bbc1-7c38c6473537",
   "metadata": {},
   "outputs": [],
   "source": [
    "rbm_sampler = kgof_data.DSGaussBernRBM(B, b, c)"
   ]
  },
  {
   "cell_type": "code",
   "execution_count": 125,
   "id": "98235ede-f98c-45e5-9a29-18c441700d46",
   "metadata": {},
   "outputs": [
    {
     "name": "stderr",
     "output_type": "stream",
     "text": [
      "/home/ma/x/xl6116/.envs/robust/lib/python3.8/site-packages/autograd/tracer.py:48: RuntimeWarning: overflow encountered in exp\n",
      "  return f_raw(*args, **kwargs)\n"
     ]
    }
   ],
   "source": [
    "rbm_samples = rbm_sampler.sample(500).data()"
   ]
  },
  {
   "cell_type": "code",
   "execution_count": 126,
   "id": "49d454c0-bb0b-4022-b779-7a17b859bf60",
   "metadata": {},
   "outputs": [],
   "source": [
    "rbm_model = kgof_den.GaussBernRBM(B, b, c)"
   ]
  },
  {
   "cell_type": "code",
   "execution_count": 127,
   "id": "7d24deaa-8d3f-477a-9f86-cc42842e7c16",
   "metadata": {},
   "outputs": [],
   "source": [
    "X = rbm_samples\n",
    "score = rbm_model.grad_log(X)"
   ]
  },
  {
   "cell_type": "code",
   "execution_count": 128,
   "id": "fc489861-1e01-42c7-9cf8-c5fd3b6028d7",
   "metadata": {},
   "outputs": [
    {
     "data": {
      "text/plain": [
       "<matplotlib.collections.PathCollection at 0x7f2e348ccee0>"
      ]
     },
     "execution_count": 128,
     "metadata": {},
     "output_type": "execute_result"
    },
    {
     "data": {
      "image/png": "[encoded data removed]",
      "text/plain": [
       "<Figure size 640x480 with 1 Axes>"
      ]
     },
     "metadata": {},
     "output_type": "display_data"
    }
   ],
   "source": [
    "plt.scatter(X[:, 0], X[:, 1])"
   ]
  },
  {
   "cell_type": "code",
   "execution_count": 129,
   "id": "5e4ef69a-d307-4b61-96b2-76442c2d81e4",
   "metadata": {},
   "outputs": [],
   "source": [
    "score_weight_fn = kernels.PolyWeightFunction(loc=jnp.zeros_like(X[0]))\n",
    "kernel0 = kernels.RBF(med_heuristic=True, X=X, Y=X)\n",
    "kernel = kernels.TiltedKernel(kernel=kernel0, weight_fn=score_weight_fn)\n",
    "ksd = metrics.KSD(kernel, score_fn=rbm_model.grad_log)"
   ]
  },
  {
   "cell_type": "code",
   "execution_count": 131,
   "id": "6c1b4c47-96bf-4275-aa4f-94c93daf73dc",
   "metadata": {},
   "outputs": [],
   "source": [
    "def obj(x):\n",
    "    s = ksd.score_fn(x)\n",
    "    return -ksd(x, x, score=s, vstat=True)\n",
    "\n",
    "def weighted_score(x):\n",
    "    s = ksd.score_fn(x)\n",
    "    w = score_weight_fn(x)\n",
    "    return -jnp.sum((w * s)**2)"
   ]
  },
  {
   "cell_type": "code",
   "execution_count": 132,
   "id": "6a0afa89-a099-46fd-bf89-bd1b3cce8a36",
   "metadata": {},
   "outputs": [],
   "source": [
    "init_val = X[[0], :]\n",
    "solver = jaxopt.LBFGS(fun=obj, maxiter=500)\n",
    "opt_res = solver.run(init_val)"
   ]
  },
  {
   "cell_type": "code",
   "execution_count": 133,
   "id": "1ee15dd0-aaf8-4d1a-ba91-617f7a84e3bf",
   "metadata": {
    "scrolled": true
   },
   "outputs": [
    {
     "name": "stdout",
     "output_type": "stream",
     "text": [
      "[[ 0.01224244  0.04712794 -0.0744492   0.01910656 -0.07204443  0.0522138\n",
      "   0.00119117  0.01979957 -0.00893776 -0.04123699 -0.00758436  0.03677427\n",
      "  -0.03929169 -0.03743457  0.07158471 -0.02437767 -0.03335309 -0.04584221\n",
      "   0.02217007 -0.03428461 -0.08729164 -0.01204521  0.0032291  -0.05533231\n",
      "   0.0643128   0.03245837  0.03583763 -0.0570328  -0.07639275 -0.03352051\n",
      "  -0.01354919 -0.00512839 -0.01839444  0.00423843 -0.05260507  0.06874473\n",
      "   0.07227337  0.00015255  0.05585834  0.01527251 -0.06223199  0.00411649\n",
      "  -0.02053558  0.08522118 -0.01791378  0.05893361  0.02328771  0.00327299\n",
      "  -0.01562118 -0.07464185]]\n",
      "LbfgsState(iter_num=Array(135, dtype=int32, weak_type=True), value=Array(-112.36937, dtype=float32), grad=Array([[-5.84125519e-05, -7.82012939e-05,  5.72204590e-06,\n",
      "        -6.32852316e-05,  6.19888306e-06, -6.86645508e-05,\n",
      "         2.19345093e-05, -1.17123127e-04, -3.62396240e-05,\n",
      "         1.06573105e-04,  1.03950500e-04, -2.32607126e-05,\n",
      "        -1.13487244e-04,  1.61647797e-04,  1.81198120e-05,\n",
      "         9.59634781e-05, -2.51829624e-05,  1.94787979e-04,\n",
      "         9.98973846e-05, -2.03549862e-05, -4.56273556e-05,\n",
      "        -5.05447388e-05,  1.36375427e-04, -5.49554825e-05,\n",
      "         4.52995300e-05, -2.21028924e-04, -1.56879425e-04,\n",
      "        -9.60826874e-05, -9.98377800e-07,  2.38418579e-05,\n",
      "         2.00748444e-04,  7.58171082e-05, -3.22461128e-05,\n",
      "         7.18235970e-05,  2.28881836e-05,  1.97410583e-04,\n",
      "         1.35421753e-04, -3.48091125e-05, -5.26905060e-05,\n",
      "        -6.41345978e-05,  1.33633614e-04,  2.25543976e-04,\n",
      "        -6.05881214e-05,  1.03473663e-04, -2.00271606e-05,\n",
      "        -3.14712524e-05, -9.70363617e-05, -1.82837248e-05,\n",
      "         2.35080719e-04, -7.65323639e-05]], dtype=float32), stepsize=Array(1., dtype=float32), error=Array(0.00073429, dtype=float32), s_history=Array([[[ 6.15530647e-04, -2.94989720e-03,  2.55193561e-03,\n",
      "         -1.21475756e-03,  2.47500092e-03, -1.72135234e-03,\n",
      "         -1.25253329e-03, -1.36746652e-03, -1.52487541e-03,\n",
      "         -1.70494244e-03, -2.24546948e-03, -5.94627112e-04,\n",
      "         -2.61740386e-03,  2.01727822e-03, -1.75981969e-03,\n",
      "          1.25412270e-03,  3.30508873e-03,  7.60585070e-04,\n",
      "          1.47101283e-03,  2.46251002e-03, -9.98601317e-05,\n",
      "         -1.55655388e-03,  5.61196124e-04, -1.41749531e-03,\n",
      "          2.51768157e-03, -1.32711977e-03,  6.03459775e-04,\n",
      "         -5.57653606e-04,  2.57626921e-03, -1.29304081e-03,\n",
      "         -2.12995056e-03,  1.49360532e-03,  4.96301800e-04,\n",
      "         -1.36541203e-04, -2.52343714e-04,  1.64259225e-03,\n",
      "          2.87665427e-03, -2.84164492e-03, -3.47606838e-04,\n",
      "          8.90376046e-04,  4.06198204e-04,  8.25938303e-04,\n",
      "         -5.15970588e-03,  2.14216113e-03,  1.76387466e-03,\n",
      "         -8.15559179e-04, -5.69911674e-04,  7.67171849e-04,\n",
      "          1.23631209e-04,  2.72788107e-04]],\n",
      "\n",
      "       [[ 4.50786203e-04,  3.81343067e-04,  9.53078270e-05,\n",
      "          4.92023304e-04,  1.28813088e-04, -9.03427601e-04,\n",
      "         -4.25247476e-04,  3.11944634e-04,  2.05117278e-04,\n",
      "          2.31727958e-04,  6.90882560e-04,  5.08762896e-05,\n",
      "          3.13878059e-04, -6.38004392e-04,  9.24438238e-04,\n",
      "          5.55144623e-04, -7.24323094e-04, -3.17700207e-04,\n",
      "         -5.75415790e-04, -2.76103616e-04, -7.97674060e-04,\n",
      "          3.01590189e-04,  2.60646921e-05, -1.33883208e-04,\n",
      "         -4.21516597e-04,  3.57463956e-04,  2.91988254e-05,\n",
      "         -4.03821468e-05,  2.78659165e-04, -9.97632742e-06,\n",
      "          3.50205228e-04,  1.39955897e-04, -1.18943863e-03,\n",
      "         -2.24062242e-05,  2.49311328e-04, -7.50049949e-05,\n",
      "         -5.90413809e-04,  3.20196195e-05, -1.42183155e-04,\n",
      "         -8.71999189e-04,  6.33161515e-04,  7.71954656e-05,\n",
      "          1.81600451e-03, -2.20760703e-04, -7.18932599e-04,\n",
      "          4.65184450e-04,  1.03710219e-04,  9.57225915e-04,\n",
      "          7.95931555e-04,  2.52187252e-04]],\n",
      "\n",
      "       [[-1.07718632e-04,  6.96144998e-05, -1.52036548e-04,\n",
      "         -1.30152330e-04, -1.56164169e-04,  4.09577042e-04,\n",
      "          1.77706825e-04, -1.13286078e-05,  7.68247992e-06,\n",
      "         -4.40627337e-05, -1.67666469e-04, -1.83060765e-05,\n",
      "          9.98340547e-05,  1.15040690e-04, -1.13114715e-04,\n",
      "         -2.45820731e-04,  4.24012542e-05,  6.48200512e-05,\n",
      "          1.13286078e-04, -3.76291573e-05,  1.99362636e-04,\n",
      "         -3.52757052e-05, -1.40661141e-04,  9.93944705e-05,\n",
      "         -4.26173210e-06, -4.12166119e-05,  5.19156456e-05,\n",
      "          4.41931188e-05, -2.38634646e-04,  6.04838133e-05,\n",
      "         -5.35473228e-05, -9.08002257e-05,  2.92697921e-04,\n",
      "          4.41353768e-05, -1.47119164e-04, -4.91738319e-05,\n",
      "         -9.98377800e-07,  1.63311430e-04,  2.46539712e-05,\n",
      "          1.59841962e-04, -2.10858881e-04, -1.03958882e-04,\n",
      "         -2.80100852e-04, -5.36814332e-05,  1.56279653e-04,\n",
      "         -1.53776258e-04, -6.98566437e-05, -2.92376149e-04,\n",
      "         -2.50007957e-04, -4.79146838e-05]],\n",
      "\n",
      "       [[ 2.79489905e-06, -2.08988786e-05,  1.08033419e-06,\n",
      "          6.11133873e-06,  8.86619091e-07, -1.80043280e-05,\n",
      "         -8.60739965e-06,  2.75298953e-06,  1.68494880e-05,\n",
      "          4.65661287e-07,  4.89922240e-06, -1.87382102e-06,\n",
      "         -2.07349658e-05, -1.29528344e-05, -1.14589930e-05,\n",
      "          1.32098794e-05,  1.44615769e-05, -1.04084611e-05,\n",
      "         -1.42194331e-05,  1.56909227e-05,  2.95788050e-06,\n",
      "         -1.47847459e-05,  1.04019418e-05,  8.64267349e-07,\n",
      "         -2.01165676e-06, -6.70552254e-07, -5.43892384e-07,\n",
      "          4.83542681e-06,  1.06394291e-05, -1.41672790e-05,\n",
      "          3.36673111e-06, -4.99654561e-07,  4.00468707e-07,\n",
      "         -5.96046448e-08,  1.62385404e-05,  2.86847353e-06,\n",
      "          8.03172588e-06, -1.11440895e-05,  6.15045428e-06,\n",
      "          8.21240246e-06, -5.77792525e-06,  1.66846439e-06,\n",
      "         -1.04010105e-05,  8.18073750e-06,  5.08502126e-07,\n",
      "          1.41859055e-05,  1.84681267e-05, -1.92131847e-06,\n",
      "         -6.43450767e-06,  1.20699406e-06]],\n",
      "\n",
      "       [[-1.37928873e-06,  2.55182385e-06, -8.64267349e-07,\n",
      "         -5.02914190e-08, -7.00354576e-07,  1.79558992e-06,\n",
      "         -2.27359124e-07, -2.98209488e-06, -6.73905015e-06,\n",
      "          1.60560012e-06, -7.59493560e-07, -3.65078449e-07,\n",
      "          7.04079866e-07,  1.88872218e-06,  2.06381083e-06,\n",
      "          5.58793545e-07, -9.27597284e-07,  5.14835119e-06,\n",
      "          4.56534326e-06, -2.84984708e-06, -1.20699406e-06,\n",
      "          3.19257379e-06, -7.73230568e-07, -6.25848770e-07,\n",
      "          2.92807817e-06, -2.00793147e-06, -6.63101673e-07,\n",
      "         -4.25428152e-06, -1.06543303e-06,  1.13621354e-06,\n",
      "         -2.05542892e-06, -2.67289579e-07, -2.37300992e-06,\n",
      "          1.80723146e-06, -2.39908695e-06,  7.67409801e-07,\n",
      "          2.53319740e-07,  1.44765363e-06, -3.78116965e-06,\n",
      "         -2.58348882e-06,  1.72108412e-06,  3.08686867e-06,\n",
      "          2.09920108e-06,  1.86264515e-07, -8.23289156e-07,\n",
      "         -5.00306487e-06, -4.12203372e-06,  1.41095370e-07,\n",
      "          4.67337668e-06,  1.82539225e-06]],\n",
      "\n",
      "       [[ 1.35960402e-02, -2.31785700e-02,  2.74666399e-02,\n",
      "          1.36458874e-03,  2.73642018e-02, -1.31635368e-02,\n",
      "         -1.86101999e-02, -4.77876514e-03, -1.63462218e-02,\n",
      "         -1.84282716e-02, -3.24711241e-02,  5.14716655e-03,\n",
      "         -2.73778774e-02,  9.51896608e-03, -1.44957006e-02,\n",
      "          2.16246545e-02,  2.77402550e-02,  1.91426799e-02,\n",
      "          1.17534073e-02,  2.19128281e-02, -1.87438875e-02,\n",
      "         -1.77651364e-02,  1.45493709e-02, -2.77468935e-02,\n",
      "          3.61840539e-02, -5.63172251e-03,  1.32615324e-02,\n",
      "         -4.22176346e-03,  2.12771669e-02, -1.52642280e-02,\n",
      "         -3.26449759e-02,  2.39821859e-02, -1.79538596e-02,\n",
      "         -2.68357433e-03,  2.41495669e-03,  3.30530293e-02,\n",
      "          3.31772603e-02, -2.27441695e-02, -4.38757241e-04,\n",
      "          1.20944269e-02, -1.79474056e-03,  3.99100594e-03,\n",
      "         -3.78707834e-02,  2.67915204e-02, -4.55697998e-03,\n",
      "         -1.57753304e-02, -4.04800475e-03,  1.79652646e-02,\n",
      "          4.16665897e-03, -9.15566087e-03]],\n",
      "\n",
      "       [[ 9.87000577e-03, -1.45670250e-02,  1.60236284e-02,\n",
      "         -1.33947097e-02,  1.64536461e-02, -6.31782413e-03,\n",
      "         -1.40036792e-02, -1.90095473e-02, -3.28339785e-02,\n",
      "         -7.53804296e-03, -2.60553751e-02, -1.35456473e-02,\n",
      "         -2.15457231e-02,  2.36446038e-02,  1.03791207e-02,\n",
      "          2.16694809e-02,  1.74189750e-02,  4.34941687e-02,\n",
      "          2.52522603e-02,  1.27364248e-02, -2.05298439e-02,\n",
      "         -1.19420737e-02,  1.86794437e-03, -2.09064670e-02,\n",
      "          2.79975832e-02, -2.93918364e-02,  5.27098589e-03,\n",
      "         -2.28176620e-02,  1.00403577e-02, -6.32462651e-03,\n",
      "         -2.07476392e-02,  1.86227169e-02, -2.16250531e-02,\n",
      "          1.66413188e-02, -1.58476010e-02,  3.74201611e-02,\n",
      "          2.54997686e-02, -1.29739204e-02, -2.16576457e-02,\n",
      "         -1.12427399e-02,  1.70543939e-02,  2.40186118e-02,\n",
      "         -2.59162318e-02,  2.32101232e-02,  5.53711504e-03,\n",
      "         -3.71480063e-02, -2.43453979e-02,  1.47927096e-02,\n",
      "          3.42582539e-02,  7.41693377e-03]],\n",
      "\n",
      "       [[ 8.07402655e-04, -4.26772609e-03, -1.50024891e-04,\n",
      "         -1.21289659e-02, -5.30667603e-04, -5.52777946e-03,\n",
      "         -1.54343667e-04, -4.55693156e-03,  5.85433654e-03,\n",
      "         -6.94349408e-04,  1.06929727e-02, -1.29614994e-02,\n",
      "          1.26502775e-02,  9.13904607e-03,  5.60759008e-03,\n",
      "         -5.74157387e-03, -1.21345371e-03, -1.55631229e-02,\n",
      "          8.44582915e-04,  2.61474773e-03,  1.16603896e-02,\n",
      "         -2.17573717e-04, -1.77410785e-02,  1.10109821e-02,\n",
      "         -1.68086365e-02, -7.74463825e-03, -2.49842182e-04,\n",
      "         -1.72529370e-04,  4.84004617e-03, -1.42373331e-03,\n",
      "          1.05658537e-02, -7.02722138e-03,  9.03547369e-03,\n",
      "          3.40411882e-03, -6.11696392e-03, -1.78692341e-02,\n",
      "         -1.07175708e-02, -3.51124676e-03, -7.19127432e-03,\n",
      "         -1.92553252e-02,  9.50015336e-03,  9.35832970e-04,\n",
      "          2.03588419e-03, -8.87629390e-03,  1.67906508e-02,\n",
      "          8.98469612e-03, -1.01296231e-02, -1.06486632e-03,\n",
      "          1.15502067e-03,  1.88863650e-02]],\n",
      "\n",
      "       [[ 7.58978631e-03,  2.48994678e-04,  7.97465444e-04,\n",
      "         -4.88155149e-03,  9.43742692e-04, -5.62709570e-03,\n",
      "         -4.98419348e-03, -6.31060451e-04,  2.01916508e-03,\n",
      "         -6.90255687e-03, -9.10538249e-04, -5.18546253e-03,\n",
      "          9.00737941e-05, -3.87978554e-03,  1.38335526e-02,\n",
      "          1.66260265e-03, -1.14392675e-03, -4.39308211e-03,\n",
      "         -1.05981715e-03,  2.27607042e-03, -5.84279746e-03,\n",
      "         -3.86456586e-03, -1.20250331e-02, -1.39069930e-03,\n",
      "         -3.14954668e-03,  1.45585276e-03,  8.69102962e-03,\n",
      "         -3.05581838e-03,  3.37748975e-03, -6.08595274e-03,\n",
      "         -1.91326719e-03,  1.65525195e-03, -7.57589191e-03,\n",
      "          4.84311674e-03, -6.60768524e-03, -2.65095383e-03,\n",
      "         -3.16891074e-03, -1.79115671e-03, -3.26459482e-03,\n",
      "         -8.64822511e-03,  3.74806672e-03,  9.64710489e-06,\n",
      "          9.99426097e-03,  6.11759722e-04,  4.85023484e-03,\n",
      "          3.27210873e-04, -1.48243830e-03,  6.50707725e-03,\n",
      "          1.50634907e-03,  8.90594721e-03]],\n",
      "\n",
      "       [[-3.95439193e-03,  4.24898416e-03, -4.80753928e-03,\n",
      "          1.23575330e-03, -4.81957942e-03,  5.27855009e-03,\n",
      "          4.31682495e-03,  8.44657421e-04,  9.83857084e-04,\n",
      "          3.28066945e-03,  3.08035826e-03,  1.64189190e-03,\n",
      "          2.52797082e-03, -1.08850747e-03, -1.00091100e-03,\n",
      "         -4.28267941e-03, -3.74161825e-03, -1.46258622e-04,\n",
      "         -3.80739570e-04, -4.06320766e-03,  3.01642716e-03,\n",
      "          3.03446129e-03,  8.90820986e-04,  2.71762908e-03,\n",
      "         -2.26801261e-03,  1.66373327e-03, -2.94565037e-03,\n",
      "          4.88035381e-04, -5.31406701e-03,  3.10622156e-03,\n",
      "          3.25505808e-03, -3.41005134e-03,  4.43433225e-03,\n",
      "         -2.78027263e-04,  4.67721373e-04, -2.70587206e-03,\n",
      "         -2.36302614e-03,  4.38279239e-03,  1.98404491e-03,\n",
      "          2.76779290e-03, -2.30979174e-03, -7.11824745e-04,\n",
      "          2.25706026e-03, -2.74376571e-03, -9.41103324e-04,\n",
      "          8.49567354e-04,  1.89684145e-03, -4.80365986e-03,\n",
      "         -2.50457786e-03, -2.76388228e-03]]], dtype=float32), y_history=Array([[[ 7.35924244e-02, -6.35370731e-01,  5.56824207e-01,\n",
      "         -2.57784903e-01,  5.41704655e-01, -3.42071056e-01,\n",
      "         -1.05025768e-01, -3.06132823e-01, -2.21487999e-01,\n",
      "         -2.89185166e-01, -3.89557242e-01, -1.33145049e-01,\n",
      "         -5.62551260e-01,  2.46679306e-01, -4.71600533e-01,\n",
      "          2.76265830e-01,  7.80596673e-01,  1.15891695e-01,\n",
      "          1.87701225e-01,  5.27063489e-01,  1.07250392e-01,\n",
      "         -3.48269224e-01,  2.36993790e-01, -1.61704779e-01,\n",
      "          4.65073109e-01, -2.65647709e-01,  4.07752991e-02,\n",
      "          7.92045593e-02,  5.41074097e-01, -1.11353874e-01,\n",
      "         -3.49855900e-01,  3.69951010e-01,  2.03716397e-01,\n",
      "         -6.13959730e-02,  2.44306326e-02,  3.68846893e-01,\n",
      "          5.08135319e-01, -4.71492767e-01, -1.02339268e-01,\n",
      "          3.31503987e-01,  5.41242361e-02,  1.45493031e-01,\n",
      "         -1.10043073e+00,  3.31055403e-01,  3.87559533e-01,\n",
      "         -1.25139236e-01, -7.52115250e-03,  4.09023464e-03,\n",
      "         -4.65948582e-02,  3.26833129e-02]],\n",
      "\n",
      "       [[ 1.13540649e-01,  7.98687935e-02, -6.62088394e-03,\n",
      "          1.92355901e-01, -9.87052917e-05, -2.51721144e-01,\n",
      "         -1.68510199e-01,  9.59422290e-02,  1.86543465e-02,\n",
      "          1.10480905e-01,  1.86396301e-01,  1.55074000e-02,\n",
      "          6.45256042e-02, -4.63953018e-02,  1.99396133e-01,\n",
      "          1.63619667e-01, -2.14943111e-01, -1.49827003e-02,\n",
      "         -1.25034273e-01, -6.75034821e-02, -2.27491930e-01,\n",
      "          9.83943939e-02,  2.16264725e-02, -8.20020437e-02,\n",
      "         -8.64096880e-02,  7.57809728e-02, -1.07107162e-02,\n",
      "         -7.91330338e-02,  4.49987501e-02, -6.16731644e-02,\n",
      "          7.52630234e-02, -1.55193806e-02, -3.09647501e-01,\n",
      "          1.66704655e-02,  1.05961561e-01, -4.24919128e-02,\n",
      "         -1.03865862e-01, -3.89685631e-02, -6.31952286e-03,\n",
      "         -2.47546434e-01,  1.82798862e-01,  5.63242435e-02,\n",
      "          4.42001045e-01, -2.40867138e-02, -2.28134990e-01,\n",
      "          1.20918274e-01,  1.92697048e-02,  2.76348561e-01,\n",
      "          2.21508741e-01,  2.72079110e-02]],\n",
      "\n",
      "       [[-2.51789093e-02,  2.35006809e-02, -2.57620811e-02,\n",
      "         -5.41397035e-02, -2.65502930e-02,  1.10459089e-01,\n",
      "          5.44033051e-02, -8.04612041e-03,  1.54399872e-03,\n",
      "         -3.57880592e-02, -5.63786626e-02, -1.05392933e-03,\n",
      "          2.89788246e-02,  9.63473320e-03, -1.84006691e-02,\n",
      "         -7.35540688e-02,  1.89811587e-02, -2.18224525e-03,\n",
      "          3.38638425e-02, -1.02071762e-02,  5.13334572e-02,\n",
      "         -1.24669075e-02, -4.72254753e-02,  2.85551548e-02,\n",
      "          3.64565849e-03, -2.24311277e-03,  2.62320042e-02,\n",
      "          2.06296444e-02, -4.95277941e-02,  2.31747627e-02,\n",
      "         -2.18415260e-02, -8.80813599e-03,  7.67661333e-02,\n",
      "          2.26524472e-03, -5.63576221e-02, -8.35943222e-03,\n",
      "         -3.93319130e-03,  4.41722870e-02,  2.51722336e-03,\n",
      "          4.71242666e-02, -6.09200001e-02, -3.83964777e-02,\n",
      "         -7.60860145e-02, -1.40135288e-02,  5.56137562e-02,\n",
      "         -4.29396629e-02, -2.17688084e-02, -7.46071488e-02,\n",
      "         -7.13939667e-02, -3.48711014e-03]],\n",
      "\n",
      "       [[ 7.53641129e-04, -6.07085228e-03, -1.67846680e-04,\n",
      "          1.21092796e-03, -2.12669373e-04, -4.93693352e-03,\n",
      "         -1.62696838e-03,  8.31067562e-04,  5.14221191e-03,\n",
      "          8.97288322e-04,  1.84381008e-03, -1.34989619e-03,\n",
      "         -6.30784035e-03, -3.65972519e-03, -2.48718262e-03,\n",
      "          3.90321016e-03,  3.81913781e-03, -1.79839134e-03,\n",
      "         -4.59200144e-03,  4.55585122e-03,  9.69916582e-04,\n",
      "         -4.49860096e-03,  4.00733948e-03,  7.75277615e-04,\n",
      "         -1.50132179e-03, -1.47626549e-03, -1.49416924e-03,\n",
      "          1.57475471e-03,  2.30331719e-03, -2.84433365e-03,\n",
      "          2.43806839e-03, -2.63214111e-04,  2.73525715e-04,\n",
      "          3.37153673e-04,  4.49967384e-03,  2.05802917e-03,\n",
      "          2.19464302e-03, -2.82716751e-03,  1.57499313e-03,\n",
      "          2.39384174e-03, -9.32812691e-04,  1.10673904e-03,\n",
      "         -2.72071362e-03,  2.32958794e-03,  2.00986862e-04,\n",
      "          3.62682343e-03,  5.48791885e-03, -9.73537564e-04,\n",
      "         -6.22034073e-04, -1.17838383e-04]],\n",
      "\n",
      "       [[-4.42266464e-04,  7.71045685e-04, -1.68800354e-04,\n",
      "          2.13846564e-04, -1.30176544e-04,  3.94105911e-04,\n",
      "         -1.44481659e-04, -8.03470612e-04, -1.73091888e-03,\n",
      "          5.01632690e-04,  5.32865524e-05,  1.31800771e-04,\n",
      "          4.60147858e-04,  6.06775284e-04,  3.14235687e-04,\n",
      "          1.25646591e-04, -3.91602516e-04,  1.07932091e-03,\n",
      "          1.28310919e-03, -9.08493996e-04, -2.87652016e-04,\n",
      "          9.85980034e-04, -3.50475311e-04, -2.43365765e-04,\n",
      "          8.33034515e-04, -2.65415758e-04, -6.53266907e-05,\n",
      "         -1.09672546e-03, -2.07617879e-04,  1.34468079e-04,\n",
      "         -5.65528870e-04, -5.07831573e-05, -6.49273396e-04,\n",
      "          4.15623188e-04, -4.30583954e-04, -1.68800354e-04,\n",
      "         -2.50339508e-05,  4.32491302e-04, -9.44375992e-04,\n",
      "         -8.25524330e-04,  4.34398651e-04,  7.74145126e-04,\n",
      "          7.62492418e-04, -1.15871429e-04, -3.79800797e-04,\n",
      "         -1.01900101e-03, -1.17993355e-03,  7.74115324e-05,\n",
      "          1.01780891e-03,  4.74035740e-04]],\n",
      "\n",
      "       [[ 2.84123421e-02, -1.43283415e+00,  2.07768250e+00,\n",
      "          3.71257806e+00,  2.05999660e+00,  6.39099121e-01,\n",
      "         -2.21654415e-01,  2.01503038e+00, -3.75890732e-03,\n",
      "         -3.27744842e-01, -2.71332455e+00,  3.80846071e+00,\n",
      "         -2.15502763e+00, -1.18588352e+00, -5.67726564e+00,\n",
      "          1.32989299e+00,  2.41601181e+00,  5.13694763e-01,\n",
      "         -9.01573658e-01,  1.23180223e+00, -6.24316275e-01,\n",
      "         -6.37899756e-01,  5.81674147e+00, -2.45410633e+00,\n",
      "          4.11173630e+00,  2.12022209e+00, -4.19263363e-01,\n",
      "          2.59441972e+00,  5.28894901e-01,  2.16554642e-01,\n",
      "         -3.15102720e+00,  1.82584763e+00, -5.44353604e-01,\n",
      "         -3.24613976e+00,  3.59434891e+00,  3.37313318e+00,\n",
      "          3.46663642e+00, -9.91846085e-01,  2.94277930e+00,\n",
      "          5.28297234e+00, -3.28512716e+00, -2.08682179e+00,\n",
      "         -3.91983557e+00,  1.89210534e+00, -4.06519222e+00,\n",
      "          8.02522659e-01,  2.45468760e+00,  9.58968997e-02,\n",
      "         -2.86823750e+00, -5.30713177e+00]],\n",
      "\n",
      "       [[-2.51180887e-01, -6.86718702e-01,  8.60774040e-01,\n",
      "          7.85694838e-01,  9.46334839e-01,  6.20298386e-01,\n",
      "         -1.98840141e-01, -2.08970857e+00, -4.34471178e+00,\n",
      "          2.31443596e+00, -1.07380033e+00, -8.88869762e-01,\n",
      "         -1.84558511e+00,  3.09966564e+00, -5.67400932e-01,\n",
      "          3.06052685e+00,  8.55656385e-01,  7.29049063e+00,\n",
      "          2.65914106e+00,  3.03205848e-01, -1.93188119e+00,\n",
      "         -2.78851628e-01,  3.11034727e+00, -2.40558481e+00,\n",
      "          3.43380451e+00, -3.65998554e+00, -1.81587362e+00,\n",
      "         -2.22367454e+00, -9.70928192e-01,  1.14339066e+00,\n",
      "         -1.50929213e+00,  1.83093238e+00, -2.43232369e+00,\n",
      "          2.29231024e+00,  2.73619652e-01,  5.26899910e+00,\n",
      "          2.69681787e+00,  6.28945827e-01, -2.42226291e+00,\n",
      "         -5.02119541e-01,  2.23044419e+00,  3.79735780e+00,\n",
      "         -1.83245814e+00,  1.52548623e+00, -1.97006178e+00,\n",
      "         -4.28219700e+00, -2.28209066e+00,  3.29012781e-01,\n",
      "          4.58179045e+00, -1.38171434e+00]],\n",
      "\n",
      "       [[-3.98668289e-01, -6.86907530e-01, -8.50329399e-02,\n",
      "         -2.98109484e+00, -1.62222385e-01, -1.10111117e+00,\n",
      "          2.25560427e-01, -1.19045162e+00,  9.79760170e-01,\n",
      "         -8.01771879e-02,  2.00555921e+00, -2.61900687e+00,\n",
      "          2.39650702e+00,  1.59149218e+00,  1.11358690e+00,\n",
      "         -1.42370892e+00, -1.47212088e-01, -2.91758013e+00,\n",
      "          2.37445295e-01,  2.37838566e-01,  2.74616408e+00,\n",
      "          3.45821857e-01, -3.61505413e+00,  2.85195255e+00,\n",
      "         -3.62263918e+00, -1.75281894e+00, -2.91303158e-01,\n",
      "         -9.92395878e-02,  1.26740313e+00,  9.12294388e-02,\n",
      "          2.45539618e+00, -1.56712580e+00,  2.32641244e+00,\n",
      "          5.34368038e-01, -1.51058102e+00, -3.82827473e+00,\n",
      "         -2.55765653e+00, -6.11279488e-01, -1.75194192e+00,\n",
      "         -3.54480553e+00,  1.89740252e+00,  2.21787691e-01,\n",
      "          1.60519838e-01, -1.93557167e+00,  3.85881686e+00,\n",
      "          1.10223103e+00, -2.08523774e+00, -5.33768177e-01,\n",
      "          6.51491165e-01,  4.30557585e+00]],\n",
      "\n",
      "       [[ 1.57802892e+00,  5.27575731e-01, -2.24234104e-01,\n",
      "         -7.59199381e-01, -1.96310997e-01, -1.04738903e+00,\n",
      "         -1.30916095e+00,  2.30493873e-01,  4.20446634e-01,\n",
      "         -1.45790505e+00, -2.93379307e-01, -8.01500380e-01,\n",
      "          2.17853546e-01, -3.92054319e-01,  3.10847569e+00,\n",
      "          7.31721520e-02, -8.34187150e-01, -8.85115743e-01,\n",
      "         -2.27829278e-01,  1.06629252e-01, -1.65036964e+00,\n",
      "         -4.63836432e-01, -2.83626366e+00, -4.89875138e-01,\n",
      "         -6.72012210e-01,  6.92484796e-01,  2.09906650e+00,\n",
      "         -9.94408131e-01,  3.84967744e-01, -1.57460594e+00,\n",
      "         -4.22139168e-01,  3.45926285e-02, -1.56156754e+00,\n",
      "          9.65788841e-01, -1.52285063e+00, -8.81700516e-01,\n",
      "         -7.32692480e-01, -4.45364475e-01, -2.91109562e-01,\n",
      "         -1.85524237e+00,  6.53446198e-01, -1.79741979e-01,\n",
      "          2.18297124e+00,  2.51181602e-01,  8.03532362e-01,\n",
      "          6.77342415e-02, -2.78387785e-01,  1.69285655e+00,\n",
      "          2.56415367e-01,  1.59671509e+00]],\n",
      "\n",
      "       [[-8.14249754e-01,  8.49254370e-01, -9.63519573e-01,\n",
      "         -2.52556801e-03, -9.65433598e-01,  1.21808195e+00,\n",
      "          8.73919010e-01,  8.93864036e-02,  1.39443636e-01,\n",
      "          4.33265448e-01,  4.36153412e-01,  3.24077964e-01,\n",
      "          5.14037848e-01, -2.54874945e-01, -8.27045441e-02,\n",
      "         -1.00390267e+00, -7.01841831e-01, -1.14337564e-01,\n",
      "          1.22068167e-01, -8.13807368e-01,  6.42841756e-01,\n",
      "          5.34824848e-01,  3.96537781e-03,  5.37872672e-01,\n",
      "         -3.99396420e-01,  2.52751678e-01, -4.87101793e-01,\n",
      "         -9.26566124e-03, -1.04039598e+00,  5.61457634e-01,\n",
      "          5.68802357e-01, -6.79929733e-01,  9.12692785e-01,\n",
      "         -6.11039102e-02, -1.35506153e-01, -4.94199276e-01,\n",
      "         -3.81771564e-01,  8.39892387e-01,  3.54369640e-01,\n",
      "          5.04215240e-01, -5.73573470e-01, -1.76507711e-01,\n",
      "          3.50006312e-01, -4.34576035e-01, -1.12533569e-02,\n",
      "          4.58235741e-02,  2.18147755e-01, -1.00525820e+00,\n",
      "         -5.09123325e-01, -4.19247031e-01]]], dtype=float32), rho_history=Array([3.1539000e+01, 2.6051773e+02, 3.4026140e+03, 7.2627881e+05,\n",
      "       1.2792708e+07, 6.5594280e-01, 4.6107990e-01, 1.1269997e+00,\n",
      "       3.5865247e+00, 1.1892034e+01], dtype=float32), gamma=Array(0.00375076, dtype=float32), aux=None, failed_linesearch=Array(False, dtype=bool), num_fun_eval=Array(1282, dtype=int32), num_grad_eval=Array(1282, dtype=int32), num_linesearch_iter=Array(1108, dtype=int32))\n"
     ]
    }
   ],
   "source": [
    "print(opt_res.params)\n",
    "print(opt_res.state)"
   ]
  },
  {
   "cell_type": "code",
   "execution_count": 134,
   "id": "785675ef-5518-4314-858f-a08058e27cb2",
   "metadata": {},
   "outputs": [
    {
     "data": {
      "text/plain": [
       "Array([112.36936], dtype=float32)"
      ]
     },
     "execution_count": 134,
     "metadata": {},
     "output_type": "execute_result"
    }
   ],
   "source": [
    "X_star = opt_res.params\n",
    "score_star = ksd.score_fn(X_star)\n",
    "ksd.eval_single_arg(X_star, score_star)"
   ]
  },
  {
   "cell_type": "code",
   "execution_count": 135,
   "id": "3abcdfa6-14e2-4836-8625-6373bc4db2af",
   "metadata": {},
   "outputs": [
    {
     "data": {
      "text/plain": [
       "Array(0.30622065, dtype=float32)"
      ]
     },
     "execution_count": 135,
     "metadata": {},
     "output_type": "execute_result"
    }
   ],
   "source": [
    "rr = ksd.eval_single_arg(X, score)\n",
    "np.max(rr)"
   ]
  },
  {
   "cell_type": "code",
   "execution_count": 136,
   "id": "35d65683-b573-4e97-a48b-1f3f13593290",
   "metadata": {},
   "outputs": [
    {
     "data": {
      "text/plain": [
       "<matplotlib.collections.PathCollection at 0x7f2e17f5c580>"
      ]
     },
     "execution_count": 136,
     "metadata": {},
     "output_type": "execute_result"
    },
    {
     "data": {
      "image/png": "[encoded data removed]",
      "text/plain": [
       "<Figure size 640x480 with 1 Axes>"
      ]
     },
     "metadata": {},
     "output_type": "display_data"
    }
   ],
   "source": [
    "plt.scatter(X[:, 0], X[:, 1])\n",
    "plt.scatter(X_star[:, 0], X_star[:, 1], color=\"red\")"
   ]
  },
  {
   "cell_type": "code",
   "execution_count": 178,
   "id": "6dd2e819-c76c-42dc-9a03-d44a10601662",
   "metadata": {},
   "outputs": [],
   "source": [
    "# X_plot = jnp.repeat(X[[0], :], 100, 0)\n",
    "X_plot = jnp.zeros_like(X)\n",
    "idx = [[i] + [0] * (dim-1) for i in range(100)]\n",
    "# for i, xx in zip(range(X_plot.shape[0]), jnp.arange(-5., 5., X_plot.shape[0])):\n",
    "#     X_plot = X_plot.at[(i, 0)].set(xx)\n",
    "X_plot = np.array(X_plot)\n",
    "X_plot[:, 0] = np.linspace(-5., 5., X_plot.shape[0])\n",
    "X_plot = jnp.array(X_plot)"
   ]
  },
  {
   "cell_type": "code",
   "execution_count": 179,
   "id": "3a398b62-de47-4d78-87c6-c1d84f711049",
   "metadata": {},
   "outputs": [
    {
     "data": {
      "text/plain": [
       "<matplotlib.collections.PathCollection at 0x7f2e169c43d0>"
      ]
     },
     "execution_count": 179,
     "metadata": {},
     "output_type": "execute_result"
    },
    {
     "data": {
      "image/png": "[encoded data removed]",
      "text/plain": [
       "<Figure size 640x480 with 1 Axes>"
      ]
     },
     "metadata": {},
     "output_type": "display_data"
    }
   ],
   "source": [
    "rr_plot = ksd.eval_single_arg(X_plot, ksd.score_fn(X_plot))\n",
    "\n",
    "plt.scatter(X_plot[:, 0], rr_plot)"
   ]
  },
  {
   "cell_type": "code",
   "execution_count": 228,
   "id": "761c32a5-d2ba-4004-9cfb-5ba337624571",
   "metadata": {},
   "outputs": [],
   "source": [
    "rbm_samples = rbm_sampler.sample(500).data()\n",
    "\n",
    "X = rbm_samples\n",
    "score = rbm_model.grad_log(X)\n",
    "\n",
    "np.random.seed(2024)\n",
    "eps = 0.4\n",
    "X = exp_efm.sample_outlier_contam(X, eps=eps, ol_mean=np.ones((dim,)), ol_std=0.1)\n",
    "score = rbm_model.grad_log(X)\n",
    "\n",
    "Xs = X[jnp.newaxis]\n",
    "scores = score[jnp.newaxis]"
   ]
  },
  {
   "cell_type": "code",
   "execution_count": 229,
   "id": "48c28607-bb9b-4c1d-be99-8bc82056cbbc",
   "metadata": {},
   "outputs": [],
   "source": [
    "tau = -opt_res.state.value\n",
    "eps0 = 0.1\n",
    "theta = eps0 * tau**0.5"
   ]
  },
  {
   "cell_type": "code",
   "execution_count": 230,
   "id": "118949a3-82ce-4549-b056-bed475ba34dd",
   "metadata": {},
   "outputs": [
    {
     "name": "stderr",
     "output_type": "stream",
     "text": [
      "100%|████████████████████████████████████████████████████████████████████████████████████████████████████████████████████████████████████████████████████████████████████████████████████████████████████████████| 1/1 [00:03<00:00,  3.56s/it]\n"
     ]
    }
   ],
   "source": [
    "weight_fn_args = {\"loc\": jnp.zeros_like(X[0])}\n",
    "\n",
    "res = exp_utils.run_tests(\n",
    "    samples=Xs, scores=scores, hvps=None, \n",
    "    hvp_denom_sup=None, weight_fn_args=weight_fn_args,\n",
    "    theta=theta, bw=\"med\", alpha=0.05, verbose=True,\n",
    ")"
   ]
  },
  {
   "cell_type": "code",
   "execution_count": 231,
   "id": "2ff63bb7-8c4a-4085-a2b5-eda71890f149",
   "metadata": {},
   "outputs": [
    {
     "data": {
      "text/plain": [
       "{'nonsq_stat': [Array(0.5699897, dtype=float32)],\n",
       " 'stat': [Array(0.32488826, dtype=float32)],\n",
       " 'u_stat': [Array(0.32343215, dtype=float32)],\n",
       " 'pval': [Array(0.00199601, dtype=float32)],\n",
       " 'rej': [1],\n",
       " 'boot_stats': []}"
      ]
     },
     "execution_count": 231,
     "metadata": {},
     "output_type": "execute_result"
    }
   ],
   "source": [
    "res[\"tilted\"]"
   ]
  },
  {
   "cell_type": "code",
   "execution_count": 232,
   "id": "2a548f17-6507-475d-9492-29f719d10cc8",
   "metadata": {},
   "outputs": [
    {
     "data": {
      "text/plain": [
       "{'nonsq_stat': [Array(0.5699897, dtype=float32)],\n",
       " 'stat': [Array(0.32488826, dtype=float32)],\n",
       " 'u_stat': [Array(0.32343215, dtype=float32)],\n",
       " 'threshold': [Array(0.06817125, dtype=float32)],\n",
       " 'rej': [0],\n",
       " 'theta': [Array(1.0600442, dtype=float32)],\n",
       " 'gamma': [Array(0.06817125, dtype=float32)],\n",
       " 'pval': [Array(1., dtype=float32)]}"
      ]
     },
     "execution_count": 232,
     "metadata": {},
     "output_type": "execute_result"
    }
   ],
   "source": [
    "res[\"tilted_r_boot\"]"
   ]
  },
  {
   "cell_type": "code",
   "execution_count": 197,
   "id": "d39343df-f1f7-4e0a-93a8-d5c36b7c69c5",
   "metadata": {},
   "outputs": [
    {
     "data": {
      "text/plain": [
       "Array(1.0600442, dtype=float32)"
      ]
     },
     "execution_count": 197,
     "metadata": {},
     "output_type": "execute_result"
    }
   ],
   "source": [
    "theta"
   ]
  },
  {
   "cell_type": "code",
   "execution_count": null,
   "id": "5b4fd90b-4013-4a98-b3be-5100914c1ca0",
   "metadata": {},
   "outputs": [],
   "source": []
  }
 ],
 "metadata": {
  "kernelspec": {
   "display_name": "robust",
   "language": "python",
   "name": "robust"
  },
  "language_info": {
   "codemirror_mode": {
    "name": "ipython",
    "version": 3
   },
   "file_extension": ".py",
   "mimetype": "text/x-python",
   "name": "python",
   "nbconvert_exporter": "python",
   "pygments_lexer": "ipython3",
   "version": "3.8.10"
  }
 },
 "nbformat": 4,
 "nbformat_minor": 5
}
