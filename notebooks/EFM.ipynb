{
 "cells": [
  {
   "cell_type": "code",
   "execution_count": 29,
   "id": "54b521a7-cfc7-4401-abc2-78e5ce517ed4",
   "metadata": {},
   "outputs": [
    {
     "name": "stdout",
     "output_type": "stream",
     "text": [
      "The autoreload extension is already loaded. To reload it, use:\n",
      "  %reload_ext autoreload\n"
     ]
    }
   ],
   "source": [
    "%load_ext autoreload\n",
    "%autoreload 2\n",
    "\n",
    "import numpy as np\n",
    "import pandas as pd\n",
    "import matplotlib.pyplot as plt\n",
    "from tqdm.notebook import tqdm, trange\n",
    "import seaborn as sns\n",
    "import pickle\n",
    "import copy\n",
    "\n",
    "import src.metrics as metrics\n",
    "import src.kernels as kernels\n",
    "import src.bootstrap as boot\n",
    "import src.exp_utils as exp_utils\n",
    "import experiments.efm as exp_efm"
   ]
  },
  {
   "cell_type": "code",
   "execution_count": 23,
   "id": "53e757d9-995b-462d-937d-7adfafbccf98",
   "metadata": {},
   "outputs": [],
   "source": [
    "data_res = pickle.load(open(\"../data/efm/efm_hmc_n3000_seed0.pkl\", \"rb\"))"
   ]
  },
  {
   "cell_type": "code",
   "execution_count": 25,
   "id": "899a32cb-9c86-4223-ba99-0241c5692124",
   "metadata": {},
   "outputs": [],
   "source": [
    "states = np.stack([xx[0] for xx in data_res[\"state\"]], 0)"
   ]
  },
  {
   "cell_type": "code",
   "execution_count": 26,
   "id": "c1267768-58f0-46e3-9c13-034c02e19e33",
   "metadata": {},
   "outputs": [
    {
     "data": {
      "text/plain": [
       "(3000, 5)"
      ]
     },
     "execution_count": 26,
     "metadata": {},
     "output_type": "execute_result"
    }
   ],
   "source": [
    "states.shape"
   ]
  },
  {
   "cell_type": "code",
   "execution_count": 81,
   "id": "265a10be-e855-4eb9-9730-873a2fc69dcf",
   "metadata": {},
   "outputs": [],
   "source": [
    "true_params = np.array([-1., 0])\n",
    "\n",
    "efm = exp_efm.EFM(true_params)"
   ]
  },
  {
   "cell_type": "code",
   "execution_count": 40,
   "id": "c715311d-2add-473f-807e-68151120764a",
   "metadata": {},
   "outputs": [
    {
     "data": {
      "image/png": "[encoded data removed]",
      "text/plain": [
       "<Figure size 640x480 with 1 Axes>"
      ]
     },
     "metadata": {},
     "output_type": "display_data"
    }
   ],
   "source": [
    "_ = plt.hist(states[:, 4], bins=100)"
   ]
  },
  {
   "cell_type": "code",
   "execution_count": 53,
   "id": "c1b080a3-b7d0-4349-b644-5bd887bcbdb0",
   "metadata": {},
   "outputs": [
    {
     "data": {
      "image/png": "[encoded data removed]",
      "text/plain": [
       "<Figure size 1500x300 with 5 Axes>"
      ]
     },
     "metadata": {},
     "output_type": "display_data"
    }
   ],
   "source": [
    "_, axes = plt.subplots(ncols=5, figsize=(15, 3))\n",
    "for i, ax in enumerate(axes.flatten()):\n",
    "    ax.acorr(states[:, i], maxlags = 100)\n",
    "    ax.set_xlim(0.)"
   ]
  },
  {
   "cell_type": "code",
   "execution_count": 86,
   "id": "3aaa7afd-0bc4-469b-987c-380513d27c29",
   "metadata": {},
   "outputs": [
    {
     "data": {
      "text/plain": [
       "Array([-1.0587883 ,  0.03012102], dtype=float32)"
      ]
     },
     "execution_count": 86,
     "metadata": {},
     "output_type": "execute_result"
    }
   ],
   "source": [
    "X = states[::50]\n",
    "efm.sm_est(X)"
   ]
  },
  {
   "cell_type": "code",
   "execution_count": 217,
   "id": "64d57350-8576-4722-beb4-da21c4923f13",
   "metadata": {},
   "outputs": [
    {
     "name": "stderr",
     "output_type": "stream",
     "text": [
      "/home/clustor/ma/x/xl6116/research/robust-kernel-test/experiments/efm.py:69: RuntimeWarning: covariance is not symmetric positive-semidefinite.\n",
      "  return x\n"
     ]
    },
    {
     "data": {
      "text/plain": [
       "Array([ 0.02641327, -0.00542635], dtype=float32)"
      ]
     },
     "execution_count": 217,
     "metadata": {},
     "output_type": "execute_result"
    }
   ],
   "source": [
    "np.random.seed(2024)\n",
    "\n",
    "efm = exp_efm.EFM(np.zeros((2,)))\n",
    "X = efm.sample(1000)\n",
    "kernel = kernels.IMQ(med_heuristic=True, X=X, Y=X)\n",
    "efm.ksd_est(X, kernel)"
   ]
  },
  {
   "cell_type": "code",
   "execution_count": 218,
   "id": "9e507d10-a13e-487a-b287-7548fe758247",
   "metadata": {},
   "outputs": [
    {
     "data": {
      "text/plain": [
       "Array([0.30054438, 0.29845858], dtype=float32)"
      ]
     },
     "execution_count": 218,
     "metadata": {},
     "output_type": "execute_result"
    }
   ],
   "source": [
    "np.random.seed(2024)\n",
    "X_contam = efm.sample_contam(1000, eps=0.05, outlier=10. * np.ones((5,)))\n",
    "kernel = kernels.IMQ(med_heuristic=True, X=X_contam, Y=X_contam)\n",
    "efm.ksd_est(X_contam, kernel)"
   ]
  },
  {
   "cell_type": "code",
   "execution_count": 220,
   "id": "f411ef61-a395-4383-b0a2-44bf26da4d36",
   "metadata": {},
   "outputs": [],
   "source": [
    "np.random.seed(2024)\n",
    "X = efm.sample(5000)\n",
    "kernel = kernels.IMQ(med_heuristic=True, X=X, Y=X)\n",
    "efm.ksd_est(X, kernel)"
   ]
  },
  {
   "cell_type": "code",
   "execution_count": null,
   "id": "5203369e-4726-4ce1-ab60-3b85acc0345d",
   "metadata": {
    "scrolled": true
   },
   "outputs": [],
   "source": [
    "efm.sm_est(X)"
   ]
  },
  {
   "cell_type": "code",
   "execution_count": null,
   "id": "55a85cee-e16b-4735-bb10-a07f6eef6cdf",
   "metadata": {},
   "outputs": [],
   "source": []
  },
  {
   "cell_type": "code",
   "execution_count": 238,
   "id": "167d0e91-acdb-4a66-b728-753e79119278",
   "metadata": {},
   "outputs": [
    {
     "name": "stderr",
     "output_type": "stream",
     "text": [
      "/home/clustor/ma/x/xl6116/research/robust-kernel-test/experiments/efm.py:69: RuntimeWarning: covariance is not symmetric positive-semidefinite.\n",
      "  return x\n"
     ]
    }
   ],
   "source": [
    "np.random.seed(2024)\n",
    "X = efm.sample(200)\n",
    "kernel = kernels.IMQ(med_heuristic=True, X=X, Y=X)\n",
    "est_params = efm.ksd_est(X, kernel)"
   ]
  },
  {
   "cell_type": "code",
   "execution_count": 244,
   "id": "752904a6-a494-4a73-9c3c-52d1536b4853",
   "metadata": {},
   "outputs": [],
   "source": [
    "# est_efm = exp_efm.EFM(est_params)\n",
    "est_efm = exp_efm.EFM(np.zeros((2,)))\n",
    "\n",
    "score, hvp = est_efm.compute_grad_and_hvp(X)"
   ]
  },
  {
   "cell_type": "code",
   "execution_count": 223,
   "id": "cfe74948-9d9b-4bff-9552-382f022a66de",
   "metadata": {},
   "outputs": [],
   "source": [
    "hvp_denom_sup = 1.\n",
    "X_res = np.expand_dims(X, 0)\n",
    "score_res = np.expand_dims(score, 0)\n",
    "hvp_res = np.expand_dims(hvp, 0)\n",
    "\n",
    "theta = 0.1"
   ]
  },
  {
   "cell_type": "code",
   "execution_count": 224,
   "id": "9d11e2a9-c048-403d-bc5f-e50ccbdd0c6f",
   "metadata": {},
   "outputs": [
    {
     "name": "stderr",
     "output_type": "stream",
     "text": [
      "100%|██████████████████████████████████████████████████████████████████████████████████████████████████████████████████████████████████████████████████████████████████████████████████████████████████████| 1/1 [00:00<00:00,  1.66it/s]\n"
     ]
    }
   ],
   "source": [
    "res = exp_utils.run_tests(\n",
    "    samples=X_res, scores=score_res, hvps=hvp_res, hvp_denom_sup=hvp_denom_sup, \n",
    "    theta=theta, bw=\"med\", alpha=0.05, verbose=True,\n",
    ")"
   ]
  },
  {
   "cell_type": "code",
   "execution_count": 225,
   "id": "5a5eddcc-0fca-4d7e-91f7-af91694540df",
   "metadata": {},
   "outputs": [
    {
     "data": {
      "text/plain": [
       "{'nonsq_stat': [Array(0.16259159, dtype=float32)],\n",
       " 'stat': [Array(0.02643602, dtype=float32)],\n",
       " 'u_stat': [],\n",
       " 'pval': [Array(0.65634364, dtype=float32, weak_type=True)],\n",
       " 'rej': [0],\n",
       " 'boot_stats': [array([0.02309129, 0.03696243, 0.03051676, 0.03181617, 0.03263012,\n",
       "         0.02389938, 0.02468866, 0.03978031, 0.03009584, 0.01947895,\n",
       "         0.02849437, 0.03016425, 0.02288527, 0.02470086, 0.02317857,\n",
       "         0.01772941, 0.05685254, 0.01679318, 0.02728976, 0.03630476,\n",
       "         0.03422087, 0.03137206, 0.02511796, 0.035787  , 0.03514912,\n",
       "         0.02400936, 0.02538567, 0.03270467, 0.0310781 , 0.02944112,\n",
       "         0.04030979, 0.02804152, 0.02266177, 0.03005852, 0.0311309 ,\n",
       "         0.03366491, 0.01948159, 0.02829609, 0.03033528, 0.04010079,\n",
       "         0.02195832, 0.02945221, 0.02692001, 0.02807494, 0.03733991,\n",
       "         0.02431225, 0.0223873 , 0.03349234, 0.02172165, 0.02788307,\n",
       "         0.03335116, 0.02952903, 0.02459374, 0.03505342, 0.02941951,\n",
       "         0.04105745, 0.03623332, 0.03657379, 0.02738039, 0.01863704,\n",
       "         0.02608398, 0.01870142, 0.03996505, 0.02356232, 0.02600994,\n",
       "         0.02663007, 0.02716593, 0.03623593, 0.03424791, 0.02592059,\n",
       "         0.03530698, 0.02788804, 0.016381  , 0.03677146, 0.0250436 ,\n",
       "         0.03174553, 0.03247538, 0.03240163, 0.02609822, 0.03037539,\n",
       "         0.02802706, 0.04043964, 0.05052487, 0.02520302, 0.0245376 ,\n",
       "         0.03077977, 0.04711496, 0.02834309, 0.02337941, 0.02889913,\n",
       "         0.02764476, 0.0286575 , 0.03112059, 0.01948299, 0.02185725,\n",
       "         0.0345799 , 0.03298016, 0.03569508, 0.04142463, 0.02547101,\n",
       "         0.02569866, 0.0317558 , 0.0346001 , 0.01680606, 0.04386407,\n",
       "         0.01863512, 0.03030566, 0.05043035, 0.01865656, 0.03055309,\n",
       "         0.01952467, 0.01767787, 0.0298741 , 0.04085847, 0.03750524,\n",
       "         0.03430131, 0.02727447, 0.03132586, 0.03983753, 0.03591105,\n",
       "         0.0506992 , 0.03295769, 0.03021867, 0.02572379, 0.02629048,\n",
       "         0.02482579, 0.02964034, 0.03257144, 0.01868707, 0.02972306,\n",
       "         0.02068976, 0.02796368, 0.03042366, 0.02205364, 0.02993684,\n",
       "         0.0260522 , 0.0230438 , 0.03011001, 0.0188007 , 0.02676182,\n",
       "         0.04097832, 0.04763609, 0.04605449, 0.02933268, 0.04506649,\n",
       "         0.02375638, 0.02414292, 0.02796148, 0.02033755, 0.03731038,\n",
       "         0.03620226, 0.03232941, 0.03843316, 0.03781721, 0.02029157,\n",
       "         0.025087  , 0.02591042, 0.02752726, 0.02605788, 0.02212435,\n",
       "         0.02399896, 0.02078837, 0.02576266, 0.0281819 , 0.04488754,\n",
       "         0.03211012, 0.0286716 , 0.02360162, 0.02981853, 0.02696715,\n",
       "         0.03448162, 0.02635234, 0.03014175, 0.02251844, 0.01644793,\n",
       "         0.03619175, 0.0242111 , 0.02340992, 0.03344467, 0.04212159,\n",
       "         0.02200202, 0.02943953, 0.02665024, 0.02547104, 0.03040505,\n",
       "         0.03096237, 0.02596685, 0.04643627, 0.02269104, 0.01791769,\n",
       "         0.02981432, 0.02219687, 0.02212765, 0.02676771, 0.02215386,\n",
       "         0.0444295 , 0.03403722, 0.026281  , 0.02860791, 0.04867622,\n",
       "         0.02094334, 0.02700908, 0.03143034, 0.02667249, 0.03098987,\n",
       "         0.06299463, 0.02398499, 0.02565634, 0.0331943 , 0.02563077,\n",
       "         0.03206816, 0.04698289, 0.04050875, 0.0413097 , 0.0230776 ,\n",
       "         0.01799114, 0.03423754, 0.03305851, 0.02566509, 0.03148126,\n",
       "         0.028803  , 0.02934789, 0.02352663, 0.01945484, 0.03022481,\n",
       "         0.01948409, 0.02909184, 0.04431758, 0.03557976, 0.02031927,\n",
       "         0.03577512, 0.01897188, 0.03603812, 0.04097366, 0.04666083,\n",
       "         0.03178179, 0.02234687, 0.04150812, 0.02936314, 0.02693806,\n",
       "         0.02914398, 0.02545   , 0.02202004, 0.02400806, 0.03805888,\n",
       "         0.0568628 , 0.02784146, 0.03429533, 0.04187181, 0.03326061,\n",
       "         0.02723172, 0.02975378, 0.02295474, 0.02356339, 0.02085827,\n",
       "         0.02422498, 0.04024577, 0.02738005, 0.02456161, 0.02829394,\n",
       "         0.0371366 , 0.02916187, 0.02685037, 0.02327659, 0.02222947,\n",
       "         0.03028351, 0.02742005, 0.02498154, 0.02704027, 0.02053155,\n",
       "         0.02591367, 0.03432788, 0.02376276, 0.01921016, 0.02208255,\n",
       "         0.0247968 , 0.04780667, 0.02025938, 0.02479764, 0.04038142,\n",
       "         0.03897493, 0.03603922, 0.02593597, 0.02830642, 0.0177388 ,\n",
       "         0.04992644, 0.03626374, 0.03439195, 0.03919292, 0.04065171,\n",
       "         0.02555362, 0.02686434, 0.04699372, 0.04646513, 0.01830699,\n",
       "         0.02398984, 0.01949518, 0.02036538, 0.02630426, 0.02452513,\n",
       "         0.02394723, 0.03605269, 0.02577581, 0.03506331, 0.01819   ,\n",
       "         0.05307219, 0.03517154, 0.03303582, 0.03487107, 0.03787084,\n",
       "         0.0283059 , 0.03540334, 0.0272784 , 0.02743776, 0.05589414,\n",
       "         0.02147379, 0.02585411, 0.0450358 , 0.01914649, 0.02350848,\n",
       "         0.02519246, 0.03994034, 0.02321125, 0.0416418 , 0.01610718,\n",
       "         0.0260253 , 0.03943023, 0.05090542, 0.03517692, 0.03095596,\n",
       "         0.02712963, 0.01597506, 0.02470439, 0.033529  , 0.02449751,\n",
       "         0.03013665, 0.02003723, 0.0234609 , 0.03454913, 0.03041759,\n",
       "         0.02925053, 0.0253794 , 0.02194525, 0.02993263, 0.03484619,\n",
       "         0.03487287, 0.03171699, 0.02153682, 0.02572447, 0.02061505,\n",
       "         0.02174311, 0.02841991, 0.0292218 , 0.0311455 , 0.03931519,\n",
       "         0.02723129, 0.03107006, 0.04503343, 0.02436685, 0.03895152,\n",
       "         0.02916542, 0.04869647, 0.02107796, 0.03653495, 0.02320144,\n",
       "         0.0269076 , 0.02503103, 0.03240562, 0.03187639, 0.02467019,\n",
       "         0.01974455, 0.02323248, 0.03467948, 0.03014574, 0.02002019,\n",
       "         0.02932349, 0.02876955, 0.02696121, 0.024662  , 0.02964754,\n",
       "         0.03635244, 0.03294966, 0.02176199, 0.02706779, 0.02349873,\n",
       "         0.04363061, 0.03300424, 0.02067621, 0.02985562, 0.02779651,\n",
       "         0.02022952, 0.02344829, 0.02715234, 0.03247744, 0.03376256,\n",
       "         0.02393634, 0.02621519, 0.03166394, 0.02684297, 0.04120202,\n",
       "         0.02304129, 0.03489699, 0.03275991, 0.0305654 , 0.02542493,\n",
       "         0.04871579, 0.03061207, 0.02335047, 0.01637523, 0.04106715,\n",
       "         0.03962358, 0.03326949, 0.03297747, 0.02868614, 0.02029675,\n",
       "         0.03190766, 0.03963723, 0.04822372, 0.02740089, 0.02964046,\n",
       "         0.03634031, 0.0269415 , 0.03058866, 0.02749228, 0.04264587,\n",
       "         0.03673617, 0.04278442, 0.05008747, 0.03365155, 0.02433265,\n",
       "         0.01965413, 0.02534956, 0.03662634, 0.03573721, 0.02518336,\n",
       "         0.02753777, 0.03451644, 0.02897571, 0.03100593, 0.02871883,\n",
       "         0.03005144, 0.0246111 , 0.02454151, 0.03491349, 0.02348847,\n",
       "         0.02279976, 0.05465341, 0.03468773, 0.04309151, 0.02730776,\n",
       "         0.0300361 , 0.04289333, 0.05003273, 0.03701799, 0.03561576,\n",
       "         0.03316904, 0.02314161, 0.034012  , 0.03696045, 0.04066948,\n",
       "         0.01893221, 0.03237518, 0.03436814, 0.01718381, 0.03556583,\n",
       "         0.03375447, 0.04231268, 0.02745102, 0.01736913, 0.03271841,\n",
       "         0.02122228, 0.04591996, 0.01996154, 0.04012206, 0.0342718 ,\n",
       "         0.0290299 , 0.04698639, 0.02370949, 0.02737352, 0.03509095,\n",
       "         0.02565303, 0.02612258, 0.03025702, 0.03318433, 0.02695   ,\n",
       "         0.02644051, 0.04731436, 0.03177481, 0.03850444, 0.03223986,\n",
       "         0.0286308 , 0.02904884, 0.03420646, 0.03075694, 0.04232123,\n",
       "         0.01837363, 0.02334105, 0.03376922, 0.03959235, 0.03550768,\n",
       "         0.03593778, 0.02598124, 0.03324241, 0.03450644, 0.02731008,\n",
       "         0.02373482, 0.04019326, 0.02993807, 0.02977363, 0.04034715,\n",
       "         0.02140401, 0.02018692, 0.02870963, 0.02478406, 0.02456658,\n",
       "         0.03530351, 0.0309171 , 0.02158331, 0.02742842, 0.0343405 ,\n",
       "         0.030233  , 0.02844399, 0.03205252, 0.02244783, 0.03527556,\n",
       "         0.03129042, 0.02553526, 0.03697737, 0.03103924, 0.03231631,\n",
       "         0.03704945, 0.03460326, 0.01815197, 0.03101347, 0.02357347,\n",
       "         0.03383431, 0.04659503, 0.02259233, 0.0405982 , 0.02334097,\n",
       "         0.0248433 , 0.02467426, 0.01888013, 0.02097774, 0.03195297,\n",
       "         0.03012121, 0.03464604, 0.02154264, 0.04419643, 0.03197692,\n",
       "         0.0492961 , 0.03349957, 0.02513395, 0.02454228, 0.02994411,\n",
       "         0.04152154, 0.0498522 , 0.03230278, 0.0241536 , 0.03946614,\n",
       "         0.04314462, 0.03892899, 0.02851229, 0.02242823, 0.02674855,\n",
       "         0.02366656, 0.03599277, 0.03221182, 0.02970196, 0.03171608,\n",
       "         0.04015619, 0.02531093, 0.01918761, 0.03415876, 0.0217092 ,\n",
       "         0.04078034, 0.02586063, 0.03455857, 0.03774722, 0.02235401,\n",
       "         0.02092947, 0.03137306, 0.03118681, 0.02320218, 0.03280546,\n",
       "         0.04263164, 0.03618163, 0.02674946, 0.02885604, 0.02246777,\n",
       "         0.0420514 , 0.03272956, 0.01591754, 0.03799871, 0.02190771,\n",
       "         0.02529788, 0.03003025, 0.04959434, 0.02940399, 0.02761077,\n",
       "         0.03658961, 0.04171613, 0.0881622 , 0.02736772, 0.02595177,\n",
       "         0.03470166, 0.02630422, 0.02734263, 0.03771244, 0.03018963,\n",
       "         0.04206383, 0.03986023, 0.02344847, 0.02578604, 0.03078647,\n",
       "         0.0218491 , 0.05030123, 0.03228903, 0.0314818 , 0.03151745,\n",
       "         0.03330934, 0.02654553, 0.02573473, 0.02548491, 0.02732176,\n",
       "         0.01781285, 0.03494709, 0.02367554, 0.01850774, 0.02194902,\n",
       "         0.03256015, 0.02437318, 0.02789709, 0.03015777, 0.03258978,\n",
       "         0.03212296, 0.02829363, 0.0276684 , 0.02902066, 0.03337201,\n",
       "         0.03510941, 0.01699489, 0.02289366, 0.0277655 , 0.01834666,\n",
       "         0.03445979, 0.04009891, 0.02778846, 0.02631271, 0.0241385 ,\n",
       "         0.03540623, 0.03090206, 0.03617118, 0.03480273, 0.04013795,\n",
       "         0.02320214, 0.02029955, 0.03159312, 0.03548575, 0.02398749,\n",
       "         0.02064326, 0.03217587, 0.03806599, 0.02503495, 0.02862563,\n",
       "         0.03177088, 0.03190868, 0.02139035, 0.03071439, 0.03315684,\n",
       "         0.02211495, 0.02309958, 0.0268404 , 0.02804741, 0.03112603,\n",
       "         0.02803813, 0.02578628, 0.02660552, 0.02137431, 0.03341921,\n",
       "         0.02417491, 0.03917944, 0.0323346 , 0.03868779, 0.02001057,\n",
       "         0.02801303, 0.02426301, 0.0266826 , 0.03973713, 0.02036195,\n",
       "         0.04051498, 0.02142869, 0.03344203, 0.04028371, 0.02517658,\n",
       "         0.03023531, 0.01901595, 0.022705  , 0.02978194, 0.04344768,\n",
       "         0.02742747, 0.02736339, 0.02765472, 0.03632961, 0.02426849,\n",
       "         0.02556457, 0.02763225, 0.02044993, 0.03827487, 0.03605206,\n",
       "         0.03536671, 0.03230126, 0.03712886, 0.03229529, 0.02786516,\n",
       "         0.04023194, 0.03395166, 0.01988301, 0.02405366, 0.03095162,\n",
       "         0.02877455, 0.03377626, 0.02261693, 0.01970749, 0.02676612,\n",
       "         0.03472822, 0.04578675, 0.02549866, 0.03165259, 0.03515083,\n",
       "         0.02972382, 0.02724583, 0.03877853, 0.03279572, 0.03022786,\n",
       "         0.0287272 , 0.02827318, 0.0382301 , 0.03155036, 0.03444059,\n",
       "         0.03056568, 0.02019927, 0.02618895, 0.02808322, 0.0224936 ,\n",
       "         0.02773645, 0.02046699, 0.0239702 , 0.02858717, 0.03182419,\n",
       "         0.0368735 , 0.03773245, 0.02982784, 0.02877062, 0.05379175,\n",
       "         0.03463955, 0.03122755, 0.0249808 , 0.04259559, 0.02761703,\n",
       "         0.01791164, 0.02478768, 0.02358233, 0.02563285, 0.03464408,\n",
       "         0.02732279, 0.01995726, 0.04030743, 0.02877474, 0.02658215,\n",
       "         0.01953585, 0.02338077, 0.04746038, 0.02890284, 0.03609588,\n",
       "         0.02409884, 0.03659279, 0.0244094 , 0.0307368 , 0.01638767,\n",
       "         0.02897936, 0.04718716, 0.02906782, 0.03046644, 0.02431133,\n",
       "         0.04784962, 0.02733481, 0.02891533, 0.04540376, 0.03436103,\n",
       "         0.03277302, 0.03044875, 0.04720858, 0.04031008, 0.0301877 ,\n",
       "         0.02424398, 0.03978003, 0.02559041, 0.0493247 , 0.02393404,\n",
       "         0.03543121, 0.02004497, 0.02182845, 0.02104232, 0.02752242,\n",
       "         0.03266028, 0.03744279, 0.04104418, 0.02573287, 0.03571736,\n",
       "         0.0414722 , 0.0232714 , 0.02624298, 0.04447044, 0.02572962,\n",
       "         0.0376475 , 0.02311355, 0.03306694, 0.01682917, 0.02473661,\n",
       "         0.02776898, 0.02527456, 0.03600888, 0.03627058, 0.02407331,\n",
       "         0.03425448, 0.03403403, 0.02603741, 0.03872596, 0.05792126,\n",
       "         0.03626315, 0.03005922, 0.02240768, 0.03075636, 0.04138396,\n",
       "         0.03203714, 0.01484975, 0.02303085, 0.03109663, 0.03380234,\n",
       "         0.02648816, 0.02628286, 0.02728701, 0.01976316, 0.02946086,\n",
       "         0.02792591, 0.02642599, 0.02680005, 0.02897415, 0.01920676,\n",
       "         0.0253105 , 0.04575213, 0.03048104, 0.04206558, 0.02084802,\n",
       "         0.03240081, 0.02168357, 0.02277728, 0.04854502, 0.05280426,\n",
       "         0.02366012, 0.03799281, 0.03548183, 0.02868488, 0.03247676,\n",
       "         0.02430241, 0.03484316, 0.03268188, 0.02230054, 0.01946672,\n",
       "         0.02429001, 0.02975836, 0.03080663, 0.03357476, 0.02411147,\n",
       "         0.03133697, 0.03077944, 0.03885548, 0.02800942, 0.03252589,\n",
       "         0.03051216, 0.05747793, 0.0308226 , 0.02721362, 0.03906548,\n",
       "         0.02433226, 0.02761323, 0.02618716, 0.03039851, 0.0263608 ,\n",
       "         0.03468043, 0.02660562, 0.03950557, 0.02776898, 0.04002815,\n",
       "         0.02727474, 0.0277837 , 0.02881678, 0.02548063, 0.03308481,\n",
       "         0.02829308, 0.04502877, 0.02379258, 0.03720839, 0.04248036,\n",
       "         0.02905753, 0.0434856 , 0.03425974, 0.02445876, 0.02583595,\n",
       "         0.028613  , 0.02907491, 0.01705355, 0.03381471, 0.01864684,\n",
       "         0.01734978, 0.03731269, 0.02428782, 0.01790592, 0.06017429,\n",
       "         0.03149213, 0.02937199, 0.03456375, 0.03689684, 0.02842632,\n",
       "         0.02402131, 0.02263076, 0.02236407, 0.02380845, 0.03135444,\n",
       "         0.02374315, 0.01817364, 0.02821919, 0.02839902, 0.02022033,\n",
       "         0.03261781, 0.02253094, 0.02801679, 0.03522105, 0.04826543,\n",
       "         0.0152809 , 0.03115048, 0.02137822, 0.03655434, 0.04848318,\n",
       "         0.02476428, 0.03675789, 0.04679108, 0.03571334, 0.04696495,\n",
       "         0.02863041, 0.02947486, 0.01757316, 0.04234936, 0.02644859,\n",
       "         0.0206934 , 0.03063587, 0.03889345, 0.04301074, 0.02644431,\n",
       "         0.02859149, 0.04692936, 0.02638359, 0.02534193, 0.02478117,\n",
       "         0.029629  , 0.02785773, 0.02204867, 0.03201031, 0.02277931,\n",
       "         0.03195579, 0.0470668 , 0.03144913, 0.03156394, 0.0289393 ,\n",
       "         0.0281807 , 0.03684053, 0.03168223, 0.02530946, 0.02229732,\n",
       "         0.04014321, 0.04942304, 0.05963595, 0.03157248, 0.04364705,\n",
       "         0.01266557, 0.04052353, 0.03293522, 0.02284137, 0.01966199,\n",
       "         0.03029411, 0.02788237, 0.01998469, 0.02197919, 0.02086155,\n",
       "         0.01843996, 0.0272992 , 0.03419574, 0.03575819, 0.03474705])]}"
      ]
     },
     "execution_count": 225,
     "metadata": {},
     "output_type": "execute_result"
    }
   ],
   "source": [
    "res[\"rbf\"]"
   ]
  },
  {
   "cell_type": "code",
   "execution_count": 235,
   "id": "3508d27d-9542-4379-8e61-c7f8d2b1e000",
   "metadata": {},
   "outputs": [
    {
     "data": {
      "text/plain": [
       "True"
      ]
     },
     "execution_count": 235,
     "metadata": {},
     "output_type": "execute_result"
    }
   ],
   "source": [
    "np.allclose(score_res, jax.vmap(jax.grad(est_efm.log_unnormalised_density))(X))"
   ]
  },
  {
   "cell_type": "code",
   "execution_count": 251,
   "id": "338f5c4e-9ec3-4c1f-b5b6-1e5104a94887",
   "metadata": {},
   "outputs": [],
   "source": [
    "score_res = pickle.load(open(\"../data/efm/efm_hvp_res_n3_seed0.pkl\", \"rb\"))"
   ]
  },
  {
   "cell_type": "code",
   "execution_count": 252,
   "id": "936a7157-878e-43db-b5ac-0d30609e817b",
   "metadata": {},
   "outputs": [
    {
     "data": {
      "text/plain": [
       "{0.0: array([[[-1.4942114 , -1.2110244 , -0.15006082, -0.09000967,\n",
       "          -0.9136424 ],\n",
       "         [-2.0647893 , -3.1043413 , -0.45410874, -2.2347252 ,\n",
       "          -0.7475871 ],\n",
       "         [ 1.614469  ,  2.385056  ,  0.35197785, -0.8424892 ,\n",
       "          -0.04100014]]], dtype=float32),\n",
       " 0.01: array([[[-1.2916706 , -0.34508535, -0.10195874, -1.3485613 ,\n",
       "          -0.5384035 ],\n",
       "         [ 0.96368456, -0.55991685,  0.1832842 , -0.8318166 ,\n",
       "           0.45871204],\n",
       "         [ 1.4389821 ,  1.827455  , -0.5030658 , -0.5897341 ,\n",
       "           1.9920682 ]]], dtype=float32),\n",
       " 0.05: array([[[ 0.5530902 ,  0.88795596, -0.775068  ,  0.31906834,\n",
       "           1.5530753 ],\n",
       "         [ 2.3558993 ,  2.343571  ,  2.1520746 , -0.11497006,\n",
       "           0.36442196],\n",
       "         [ 0.893702  ,  0.59801114,  1.095826  ,  0.7948895 ,\n",
       "          -0.23552419]]], dtype=float32),\n",
       " 0.1: array([[[-0.16744758,  1.005556  , -0.04232712,  0.24016578,\n",
       "           1.5861619 ],\n",
       "         [ 1.0858538 , -1.554895  ,  1.9617246 ,  1.14818   ,\n",
       "           0.75331473],\n",
       "         [ 1.4937034 ,  1.2872562 ,  0.18376052,  1.3857862 ,\n",
       "           0.14144883]]], dtype=float32),\n",
       " 0.2: array([[[-1.8464297 , -1.1425139 ,  0.23071091, -0.8397651 ,\n",
       "          -0.31373957],\n",
       "         [-0.88361055, -1.7916311 , -1.5684396 , -0.38721424,\n",
       "           0.60852987],\n",
       "         [ 0.8260633 , -0.1242814 , -1.3674436 ,  0.03811407,\n",
       "           2.430134  ]]], dtype=float32)}"
      ]
     },
     "execution_count": 252,
     "metadata": {},
     "output_type": "execute_result"
    }
   ],
   "source": [
    "X_res[0.].sha"
   ]
  },
  {
   "cell_type": "code",
   "execution_count": null,
   "id": "5b4fd90b-4013-4a98-b3be-5100914c1ca0",
   "metadata": {},
   "outputs": [],
   "source": []
  }
 ],
 "metadata": {
  "kernelspec": {
   "display_name": "robust",
   "language": "python",
   "name": "robust"
  },
  "language_info": {
   "codemirror_mode": {
    "name": "ipython",
    "version": 3
   },
   "file_extension": ".py",
   "mimetype": "text/x-python",
   "name": "python",
   "nbconvert_exporter": "python",
   "pygments_lexer": "ipython3",
   "version": "3.8.10"
  }
 },
 "nbformat": 4,
 "nbformat_minor": 5
}
