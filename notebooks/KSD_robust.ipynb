{
 "cells": [
  {
   "cell_type": "code",
   "execution_count": 1,
   "id": "87e8e061-2e70-43cb-82be-5c9a5f67c67f",
   "metadata": {},
   "outputs": [],
   "source": [
    "%load_ext autoreload\n",
    "%autoreload 2\n",
    "\n",
    "import numpy as np\n",
    "import pandas as pd\n",
    "import matplotlib.pyplot as plt\n",
    "from tqdm.notebook import tqdm, trange\n",
    "import seaborn as sns\n",
    "\n",
    "import src.metrics as metrics\n",
    "import src.kernels as kernels\n",
    "import src.bootstrap as boot"
   ]
  },
  {
   "cell_type": "markdown",
   "id": "b92963ed-cfb8-4f35-82c0-b590ffddb74d",
   "metadata": {},
   "source": [
    "# Outliers (level)"
   ]
  },
  {
   "cell_type": "code",
   "execution_count": 2,
   "id": "dcb29839-95b8-45cc-a414-e5c3ade458c5",
   "metadata": {},
   "outputs": [],
   "source": [
    "def rej_rate_outliers(outlier, n_ls, eps_ls, nreps, eps0, bandwidth=1., dim=1, alpha=0.05):\n",
    "    res = {oo: {kk: {\n",
    "        \"tilted\": {\"stat\": [], \"pval\": [], \"rej\": [], \"boot_stats\": []},\n",
    "        \"rbf\": {\"stat\": [], \"pval\": [], \"rej\": [], \"boot_stats\": []},\n",
    "        \"tilted_ol_robust\": {\"nonsq_stat\": [], \"threshold\": [], \"rej\": []},\n",
    "        \"tilted_ball_robust\": {\"nonsq_stat\": [], \"threshold\": [], \"rej\": []},\n",
    "    } for kk in eps_ls} for oo in n_ls}\n",
    "    res[\"eps_ls\"] = eps_ls\n",
    "    \n",
    "    for n in n_ls:\n",
    "        for eps in eps_ls:\n",
    "            key = eps\n",
    "            print(\"key:\", key)\n",
    "            ###\n",
    "            mean1 = np.zeros((dim,)) # data\n",
    "            mean2 = np.zeros((dim,)) # model\n",
    "            \n",
    "            Xs = np.random.multivariate_normal(mean1, np.eye(dim), (nreps, n))\n",
    "            n_outlier = max(1, int(n * eps))\n",
    "            Xs[:, :n_outlier] = outlier\n",
    "        \n",
    "            score_fn = lambda x: - (x - mean2)\n",
    "            ###\n",
    "    \n",
    "            for X in tqdm(Xs):                \n",
    "                # tilted\n",
    "                score_weight_fn = kernels.PolyWeightFunction()\n",
    "                kernel0 = kernels.RBF(sigma_sq=2. * bandwidth)\n",
    "                kernel = kernels.TiltedKernel(kernel=kernel0, weight_fn=score_weight_fn)\n",
    "    \n",
    "                ksd = metrics.KSD(kernel, score_fn=score_fn)\n",
    "                wild_boot = boot.WildBootstrap(ksd)\n",
    "                pval, stat, boot_stats = wild_boot.pval(X, X, return_stat=True, return_boot=True)\n",
    "                res[n][key][\"tilted\"][\"stat\"].append(stat)\n",
    "                res[n][key][\"tilted\"][\"pval\"].append(pval)\n",
    "                res[n][key][\"tilted\"][\"rej\"].append(int(pval < alpha))\n",
    "                res[n][key][\"tilted\"][\"boot_stats\"].append(boot_stats)\n",
    "        \n",
    "                # RBF\n",
    "                kernel = kernels.RBF(sigma_sq=2. * bandwidth)\n",
    "                \n",
    "                ksd = metrics.KSD(kernel, score_fn=score_fn)\n",
    "                wild_boot = boot.WildBootstrap(ksd)\n",
    "                pval, stat, boot_stats = wild_boot.pval(X, X, return_stat=True, return_boot=True)\n",
    "                res[n][key][\"rbf\"][\"stat\"].append(stat)\n",
    "                res[n][key][\"rbf\"][\"pval\"].append(pval)\n",
    "                res[n][key][\"rbf\"][\"rej\"].append(int(pval < alpha))\n",
    "                res[n][key][\"rbf\"][\"boot_stats\"].append(boot_stats)\n",
    "\n",
    "                # tilted ol robust\n",
    "                score_weight_fn = kernels.PolyWeightFunction()\n",
    "                kernel0 = kernels.RBF(sigma_sq=2. * bandwidth)\n",
    "                kernel = kernels.TiltedKernel(kernel=kernel0, weight_fn=score_weight_fn)\n",
    "    \n",
    "                ksd = metrics.KSD(kernel, score_fn=score_fn)\n",
    "                threshold = ksd.test_threshold(n=n, eps0=eps, alpha=alpha, method=\"ol_robust\")\n",
    "                stat = ksd(X, X, vstat=True) # squared-KSD\n",
    "                stat = stat**0.5\n",
    "                res[n][key][\"tilted_ol_robust\"][\"nonsq_stat\"].append(stat)\n",
    "                res[n][key][\"tilted_ol_robust\"][\"threshold\"].append(threshold)\n",
    "                res[n][key][\"tilted_ol_robust\"][\"rej\"].append(int(stat > threshold))\n",
    "\n",
    "                # tilted ball robust\n",
    "                score_weight_fn = kernels.PolyWeightFunction()\n",
    "                kernel0 = kernels.RBF(sigma_sq=2. * bandwidth)\n",
    "                kernel = kernels.TiltedKernel(kernel=kernel0, weight_fn=score_weight_fn)\n",
    "    \n",
    "                ksd = metrics.KSD(kernel, score_fn=score_fn)\n",
    "                threshold = ksd.test_threshold(n=n, eps0=eps0, theta=\"ol\", alpha=alpha, method=\"ball_robust\")\n",
    "                stat = ksd(X, X, vstat=True) # squared-KSD\n",
    "                stat = stat**0.5\n",
    "                res[n][key][\"tilted_ball_robust\"][\"nonsq_stat\"].append(stat)\n",
    "                res[n][key][\"tilted_ball_robust\"][\"threshold\"].append(threshold)\n",
    "                res[n][key][\"tilted_ball_robust\"][\"rej\"].append(int(stat > threshold))\n",
    "\n",
    "    return res"
   ]
  },
  {
   "cell_type": "code",
   "execution_count": 116,
   "id": "a4ccff27-61e1-4bbb-a190-e125a2bce753",
   "metadata": {},
   "outputs": [],
   "source": [
    "np.random.seed(2024)\n",
    "\n",
    "n = 500\n",
    "n_ls = [n] # [100, 500, 1000]\n",
    "eps_ls = [0.1, 0.05, 0.01, 0.005] # [0.01, 0.1]"
   ]
  },
  {
   "cell_type": "code",
   "execution_count": 117,
   "id": "5734494b-2395-4879-a475-c9869471c7f0",
   "metadata": {
    "scrolled": true
   },
   "outputs": [
    {
     "name": "stdout",
     "output_type": "stream",
     "text": [
      "key: 0.1\n"
     ]
    },
    {
     "data": {
      "application/vnd.jupyter.widget-view+json": {
       "model_id": "f2c6f55d19ce4508b3a976ff301568f5",
       "version_major": 2,
       "version_minor": 0
      },
      "text/plain": [
       "  0%|          | 0/100 [00:00<?, ?it/s]"
      ]
     },
     "metadata": {},
     "output_type": "display_data"
    },
    {
     "data": {
      "application/vnd.jupyter.widget-view+json": {
       "model_id": "56a9b2c14a5045e48d689a4fab89a7c8",
       "version_major": 2,
       "version_minor": 0
      },
      "text/plain": [
       "  0%|          | 0/100 [00:00<?, ?it/s]"
      ]
     },
     "metadata": {},
     "output_type": "display_data"
    },
    {
     "data": {
      "application/vnd.jupyter.widget-view+json": {
       "model_id": "b24f84525619456381d516764bc12780",
       "version_major": 2,
       "version_minor": 0
      },
      "text/plain": [
       "  0%|          | 0/100 [00:00<?, ?it/s]"
      ]
     },
     "metadata": {},
     "output_type": "display_data"
    },
    {
     "data": {
      "application/vnd.jupyter.widget-view+json": {
       "model_id": "18c517c9380a4d40893986298ac1b4a6",
       "version_major": 2,
       "version_minor": 0
      },
      "text/plain": [
       "  0%|          | 0/100 [00:00<?, ?it/s]"
      ]
     },
     "metadata": {},
     "output_type": "display_data"
    },
    {
     "name": "stdout",
     "output_type": "stream",
     "text": [
      "key: 0.05\n"
     ]
    },
    {
     "data": {
      "application/vnd.jupyter.widget-view+json": {
       "model_id": "a28a321547074074b51efed60f12dce5",
       "version_major": 2,
       "version_minor": 0
      },
      "text/plain": [
       "  0%|          | 0/100 [00:00<?, ?it/s]"
      ]
     },
     "metadata": {},
     "output_type": "display_data"
    },
    {
     "data": {
      "application/vnd.jupyter.widget-view+json": {
       "model_id": "d918c8fe3fb8497c82fe1e316b4b29f1",
       "version_major": 2,
       "version_minor": 0
      },
      "text/plain": [
       "  0%|          | 0/100 [00:00<?, ?it/s]"
      ]
     },
     "metadata": {},
     "output_type": "display_data"
    },
    {
     "data": {
      "application/vnd.jupyter.widget-view+json": {
       "model_id": "32a5418dd9b143558dae8e0033c61cc3",
       "version_major": 2,
       "version_minor": 0
      },
      "text/plain": [
       "  0%|          | 0/100 [00:00<?, ?it/s]"
      ]
     },
     "metadata": {},
     "output_type": "display_data"
    },
    {
     "data": {
      "application/vnd.jupyter.widget-view+json": {
       "model_id": "ca1a574ad3374f03b266af43f0af1777",
       "version_major": 2,
       "version_minor": 0
      },
      "text/plain": [
       "  0%|          | 0/100 [00:00<?, ?it/s]"
      ]
     },
     "metadata": {},
     "output_type": "display_data"
    },
    {
     "name": "stdout",
     "output_type": "stream",
     "text": [
      "key: 0.01\n"
     ]
    },
    {
     "data": {
      "application/vnd.jupyter.widget-view+json": {
       "model_id": "50e2d51fdada4a8b83699e5f54771ea9",
       "version_major": 2,
       "version_minor": 0
      },
      "text/plain": [
       "  0%|          | 0/100 [00:00<?, ?it/s]"
      ]
     },
     "metadata": {},
     "output_type": "display_data"
    },
    {
     "data": {
      "application/vnd.jupyter.widget-view+json": {
       "model_id": "0f6a88923de044cea6906269092faa81",
       "version_major": 2,
       "version_minor": 0
      },
      "text/plain": [
       "  0%|          | 0/100 [00:00<?, ?it/s]"
      ]
     },
     "metadata": {},
     "output_type": "display_data"
    },
    {
     "data": {
      "application/vnd.jupyter.widget-view+json": {
       "model_id": "4621dd0a21e544ec8e82676f249347c7",
       "version_major": 2,
       "version_minor": 0
      },
      "text/plain": [
       "  0%|          | 0/100 [00:00<?, ?it/s]"
      ]
     },
     "metadata": {},
     "output_type": "display_data"
    },
    {
     "data": {
      "application/vnd.jupyter.widget-view+json": {
       "model_id": "aa1c7405e2f748e0813cda2d5d537425",
       "version_major": 2,
       "version_minor": 0
      },
      "text/plain": [
       "  0%|          | 0/100 [00:00<?, ?it/s]"
      ]
     },
     "metadata": {},
     "output_type": "display_data"
    },
    {
     "name": "stdout",
     "output_type": "stream",
     "text": [
      "key: 0.005\n"
     ]
    },
    {
     "data": {
      "application/vnd.jupyter.widget-view+json": {
       "model_id": "5cbc92c2abce49728c8c1b856fc196b9",
       "version_major": 2,
       "version_minor": 0
      },
      "text/plain": [
       "  0%|          | 0/100 [00:00<?, ?it/s]"
      ]
     },
     "metadata": {},
     "output_type": "display_data"
    },
    {
     "data": {
      "application/vnd.jupyter.widget-view+json": {
       "model_id": "5057a3c060884c03951500509acdac1f",
       "version_major": 2,
       "version_minor": 0
      },
      "text/plain": [
       "  0%|          | 0/100 [00:00<?, ?it/s]"
      ]
     },
     "metadata": {},
     "output_type": "display_data"
    },
    {
     "data": {
      "application/vnd.jupyter.widget-view+json": {
       "model_id": "15256e32ce2e4c59b73bbf378af5eb4a",
       "version_major": 2,
       "version_minor": 0
      },
      "text/plain": [
       "  0%|          | 0/100 [00:00<?, ?it/s]"
      ]
     },
     "metadata": {},
     "output_type": "display_data"
    },
    {
     "data": {
      "application/vnd.jupyter.widget-view+json": {
       "model_id": "a8d607cf6b6d40229a38e2fd24bedb18",
       "version_major": 2,
       "version_minor": 0
      },
      "text/plain": [
       "  0%|          | 0/100 [00:00<?, ?it/s]"
      ]
     },
     "metadata": {},
     "output_type": "display_data"
    },
    {
     "name": "stdout",
     "output_type": "stream",
     "text": [
      "key: 0.1\n"
     ]
    },
    {
     "data": {
      "application/vnd.jupyter.widget-view+json": {
       "model_id": "f35e9bfcbbe2434ba0c01a34d096b8d1",
       "version_major": 2,
       "version_minor": 0
      },
      "text/plain": [
       "  0%|          | 0/100 [00:00<?, ?it/s]"
      ]
     },
     "metadata": {},
     "output_type": "display_data"
    },
    {
     "data": {
      "application/vnd.jupyter.widget-view+json": {
       "model_id": "e9358576cbd649718e484815fc737d95",
       "version_major": 2,
       "version_minor": 0
      },
      "text/plain": [
       "  0%|          | 0/100 [00:00<?, ?it/s]"
      ]
     },
     "metadata": {},
     "output_type": "display_data"
    },
    {
     "data": {
      "application/vnd.jupyter.widget-view+json": {
       "model_id": "0347735a02b449f7987fb52d01d5a979",
       "version_major": 2,
       "version_minor": 0
      },
      "text/plain": [
       "  0%|          | 0/100 [00:00<?, ?it/s]"
      ]
     },
     "metadata": {},
     "output_type": "display_data"
    },
    {
     "data": {
      "application/vnd.jupyter.widget-view+json": {
       "model_id": "21586c0dd58d4f81b57310185ef2afd8",
       "version_major": 2,
       "version_minor": 0
      },
      "text/plain": [
       "  0%|          | 0/100 [00:00<?, ?it/s]"
      ]
     },
     "metadata": {},
     "output_type": "display_data"
    },
    {
     "name": "stdout",
     "output_type": "stream",
     "text": [
      "key: 0.05\n"
     ]
    },
    {
     "data": {
      "application/vnd.jupyter.widget-view+json": {
       "model_id": "4b5e293f5c8f4f8181c4f08d2ec01a51",
       "version_major": 2,
       "version_minor": 0
      },
      "text/plain": [
       "  0%|          | 0/100 [00:00<?, ?it/s]"
      ]
     },
     "metadata": {},
     "output_type": "display_data"
    },
    {
     "data": {
      "application/vnd.jupyter.widget-view+json": {
       "model_id": "e1c29549fd244fcf828fa84e911d5d37",
       "version_major": 2,
       "version_minor": 0
      },
      "text/plain": [
       "  0%|          | 0/100 [00:00<?, ?it/s]"
      ]
     },
     "metadata": {},
     "output_type": "display_data"
    },
    {
     "data": {
      "application/vnd.jupyter.widget-view+json": {
       "model_id": "ca6db15f05d54972be18d25e531041ed",
       "version_major": 2,
       "version_minor": 0
      },
      "text/plain": [
       "  0%|          | 0/100 [00:00<?, ?it/s]"
      ]
     },
     "metadata": {},
     "output_type": "display_data"
    },
    {
     "data": {
      "application/vnd.jupyter.widget-view+json": {
       "model_id": "17d0c9e16e784e12b738d22dc7e4b75b",
       "version_major": 2,
       "version_minor": 0
      },
      "text/plain": [
       "  0%|          | 0/100 [00:00<?, ?it/s]"
      ]
     },
     "metadata": {},
     "output_type": "display_data"
    },
    {
     "name": "stdout",
     "output_type": "stream",
     "text": [
      "key: 0.01\n"
     ]
    },
    {
     "data": {
      "application/vnd.jupyter.widget-view+json": {
       "model_id": "ce7265344f2e4f04967c49032827fa8f",
       "version_major": 2,
       "version_minor": 0
      },
      "text/plain": [
       "  0%|          | 0/100 [00:00<?, ?it/s]"
      ]
     },
     "metadata": {},
     "output_type": "display_data"
    },
    {
     "data": {
      "application/vnd.jupyter.widget-view+json": {
       "model_id": "7283830130bc40a89879420b1339e1c7",
       "version_major": 2,
       "version_minor": 0
      },
      "text/plain": [
       "  0%|          | 0/100 [00:00<?, ?it/s]"
      ]
     },
     "metadata": {},
     "output_type": "display_data"
    },
    {
     "data": {
      "application/vnd.jupyter.widget-view+json": {
       "model_id": "bb9911df6da740dfb476c4e196741e65",
       "version_major": 2,
       "version_minor": 0
      },
      "text/plain": [
       "  0%|          | 0/100 [00:00<?, ?it/s]"
      ]
     },
     "metadata": {},
     "output_type": "display_data"
    },
    {
     "data": {
      "application/vnd.jupyter.widget-view+json": {
       "model_id": "c2027c6bb7f44ed9b1acb993d20a7f5d",
       "version_major": 2,
       "version_minor": 0
      },
      "text/plain": [
       "  0%|          | 0/100 [00:00<?, ?it/s]"
      ]
     },
     "metadata": {},
     "output_type": "display_data"
    },
    {
     "name": "stdout",
     "output_type": "stream",
     "text": [
      "key: 0.005\n"
     ]
    },
    {
     "data": {
      "application/vnd.jupyter.widget-view+json": {
       "model_id": "c4c62e486f4b4e44a2e463183d784dc5",
       "version_major": 2,
       "version_minor": 0
      },
      "text/plain": [
       "  0%|          | 0/100 [00:00<?, ?it/s]"
      ]
     },
     "metadata": {},
     "output_type": "display_data"
    },
    {
     "data": {
      "application/vnd.jupyter.widget-view+json": {
       "model_id": "7ceb6452bcdf41c19ffb2dfe270faf2b",
       "version_major": 2,
       "version_minor": 0
      },
      "text/plain": [
       "  0%|          | 0/100 [00:00<?, ?it/s]"
      ]
     },
     "metadata": {},
     "output_type": "display_data"
    },
    {
     "data": {
      "application/vnd.jupyter.widget-view+json": {
       "model_id": "d5671aa2421e446ab6f51d33de23f1f7",
       "version_major": 2,
       "version_minor": 0
      },
      "text/plain": [
       "  0%|          | 0/100 [00:00<?, ?it/s]"
      ]
     },
     "metadata": {},
     "output_type": "display_data"
    },
    {
     "data": {
      "application/vnd.jupyter.widget-view+json": {
       "model_id": "5bcc1c427c3a4d34bd45801a48b718c6",
       "version_major": 2,
       "version_minor": 0
      },
      "text/plain": [
       "  0%|          | 0/100 [00:00<?, ?it/s]"
      ]
     },
     "metadata": {},
     "output_type": "display_data"
    },
    {
     "name": "stdout",
     "output_type": "stream",
     "text": [
      "key: 0.1\n"
     ]
    },
    {
     "data": {
      "application/vnd.jupyter.widget-view+json": {
       "model_id": "b0044f77d3fc469c99b08df35a82b29d",
       "version_major": 2,
       "version_minor": 0
      },
      "text/plain": [
       "  0%|          | 0/100 [00:00<?, ?it/s]"
      ]
     },
     "metadata": {},
     "output_type": "display_data"
    },
    {
     "data": {
      "application/vnd.jupyter.widget-view+json": {
       "model_id": "157eb8ea673346ae998d99c997a3d2a4",
       "version_major": 2,
       "version_minor": 0
      },
      "text/plain": [
       "  0%|          | 0/100 [00:00<?, ?it/s]"
      ]
     },
     "metadata": {},
     "output_type": "display_data"
    },
    {
     "data": {
      "application/vnd.jupyter.widget-view+json": {
       "model_id": "692ce7e21f74465092d878003d285e56",
       "version_major": 2,
       "version_minor": 0
      },
      "text/plain": [
       "  0%|          | 0/100 [00:00<?, ?it/s]"
      ]
     },
     "metadata": {},
     "output_type": "display_data"
    },
    {
     "data": {
      "application/vnd.jupyter.widget-view+json": {
       "model_id": "6519055c55bf40f0b3a0bcbf213de8ec",
       "version_major": 2,
       "version_minor": 0
      },
      "text/plain": [
       "  0%|          | 0/100 [00:00<?, ?it/s]"
      ]
     },
     "metadata": {},
     "output_type": "display_data"
    },
    {
     "name": "stdout",
     "output_type": "stream",
     "text": [
      "key: 0.05\n"
     ]
    },
    {
     "data": {
      "application/vnd.jupyter.widget-view+json": {
       "model_id": "3858cd2d80ee4c0f9e044a24c52e064c",
       "version_major": 2,
       "version_minor": 0
      },
      "text/plain": [
       "  0%|          | 0/100 [00:00<?, ?it/s]"
      ]
     },
     "metadata": {},
     "output_type": "display_data"
    },
    {
     "data": {
      "application/vnd.jupyter.widget-view+json": {
       "model_id": "32c86edd1cd74d79bd0963ad325d1830",
       "version_major": 2,
       "version_minor": 0
      },
      "text/plain": [
       "  0%|          | 0/100 [00:00<?, ?it/s]"
      ]
     },
     "metadata": {},
     "output_type": "display_data"
    },
    {
     "data": {
      "application/vnd.jupyter.widget-view+json": {
       "model_id": "6206a18804d9458ab0b9113112722ce3",
       "version_major": 2,
       "version_minor": 0
      },
      "text/plain": [
       "  0%|          | 0/100 [00:00<?, ?it/s]"
      ]
     },
     "metadata": {},
     "output_type": "display_data"
    },
    {
     "data": {
      "application/vnd.jupyter.widget-view+json": {
       "model_id": "ac5e4c91660442ea9193c314a2f0fc79",
       "version_major": 2,
       "version_minor": 0
      },
      "text/plain": [
       "  0%|          | 0/100 [00:00<?, ?it/s]"
      ]
     },
     "metadata": {},
     "output_type": "display_data"
    },
    {
     "name": "stdout",
     "output_type": "stream",
     "text": [
      "key: 0.01\n"
     ]
    },
    {
     "data": {
      "application/vnd.jupyter.widget-view+json": {
       "model_id": "3488b2d8052f4c08ac17e44a8e0fa22f",
       "version_major": 2,
       "version_minor": 0
      },
      "text/plain": [
       "  0%|          | 0/100 [00:00<?, ?it/s]"
      ]
     },
     "metadata": {},
     "output_type": "display_data"
    },
    {
     "data": {
      "application/vnd.jupyter.widget-view+json": {
       "model_id": "2fa58c96d75945c59245f8ab64ab163f",
       "version_major": 2,
       "version_minor": 0
      },
      "text/plain": [
       "  0%|          | 0/100 [00:00<?, ?it/s]"
      ]
     },
     "metadata": {},
     "output_type": "display_data"
    },
    {
     "data": {
      "application/vnd.jupyter.widget-view+json": {
       "model_id": "1c628cbc32294ae08173cf206c6e1b89",
       "version_major": 2,
       "version_minor": 0
      },
      "text/plain": [
       "  0%|          | 0/100 [00:00<?, ?it/s]"
      ]
     },
     "metadata": {},
     "output_type": "display_data"
    },
    {
     "data": {
      "application/vnd.jupyter.widget-view+json": {
       "model_id": "30c3f3b08f3b41e68ea7aeee93db12f1",
       "version_major": 2,
       "version_minor": 0
      },
      "text/plain": [
       "  0%|          | 0/100 [00:00<?, ?it/s]"
      ]
     },
     "metadata": {},
     "output_type": "display_data"
    },
    {
     "name": "stdout",
     "output_type": "stream",
     "text": [
      "key: 0.005\n"
     ]
    },
    {
     "data": {
      "application/vnd.jupyter.widget-view+json": {
       "model_id": "7ff356f9a5284722b84902ee4a82c403",
       "version_major": 2,
       "version_minor": 0
      },
      "text/plain": [
       "  0%|          | 0/100 [00:00<?, ?it/s]"
      ]
     },
     "metadata": {},
     "output_type": "display_data"
    },
    {
     "data": {
      "application/vnd.jupyter.widget-view+json": {
       "model_id": "ff2811caf6004d68b38c88f55896144d",
       "version_major": 2,
       "version_minor": 0
      },
      "text/plain": [
       "  0%|          | 0/100 [00:00<?, ?it/s]"
      ]
     },
     "metadata": {},
     "output_type": "display_data"
    },
    {
     "data": {
      "application/vnd.jupyter.widget-view+json": {
       "model_id": "8c0dc29c26194da38c3f728ea9b95a2c",
       "version_major": 2,
       "version_minor": 0
      },
      "text/plain": [
       "  0%|          | 0/100 [00:00<?, ?it/s]"
      ]
     },
     "metadata": {},
     "output_type": "display_data"
    },
    {
     "data": {
      "application/vnd.jupyter.widget-view+json": {
       "model_id": "b2904266c25542acb624e1a2e3291b2f",
       "version_major": 2,
       "version_minor": 0
      },
      "text/plain": [
       "  0%|          | 0/100 [00:00<?, ?it/s]"
      ]
     },
     "metadata": {},
     "output_type": "display_data"
    },
    {
     "name": "stdout",
     "output_type": "stream",
     "text": [
      "key: 0.1\n"
     ]
    },
    {
     "data": {
      "application/vnd.jupyter.widget-view+json": {
       "model_id": "3dc7538afec94be5bcac7a88f2d3ea60",
       "version_major": 2,
       "version_minor": 0
      },
      "text/plain": [
       "  0%|          | 0/100 [00:00<?, ?it/s]"
      ]
     },
     "metadata": {},
     "output_type": "display_data"
    },
    {
     "data": {
      "application/vnd.jupyter.widget-view+json": {
       "model_id": "b183fc9346a34d789b26a853256cafca",
       "version_major": 2,
       "version_minor": 0
      },
      "text/plain": [
       "  0%|          | 0/100 [00:00<?, ?it/s]"
      ]
     },
     "metadata": {},
     "output_type": "display_data"
    },
    {
     "data": {
      "application/vnd.jupyter.widget-view+json": {
       "model_id": "5ac33221d2b644d8b780899abc8ef161",
       "version_major": 2,
       "version_minor": 0
      },
      "text/plain": [
       "  0%|          | 0/100 [00:00<?, ?it/s]"
      ]
     },
     "metadata": {},
     "output_type": "display_data"
    },
    {
     "data": {
      "application/vnd.jupyter.widget-view+json": {
       "model_id": "6af50287b60f40bdbe91068ee625ea86",
       "version_major": 2,
       "version_minor": 0
      },
      "text/plain": [
       "  0%|          | 0/100 [00:00<?, ?it/s]"
      ]
     },
     "metadata": {},
     "output_type": "display_data"
    },
    {
     "name": "stdout",
     "output_type": "stream",
     "text": [
      "key: 0.05\n"
     ]
    },
    {
     "data": {
      "application/vnd.jupyter.widget-view+json": {
       "model_id": "fd257d05d8d64429bd76ab3c9b613623",
       "version_major": 2,
       "version_minor": 0
      },
      "text/plain": [
       "  0%|          | 0/100 [00:00<?, ?it/s]"
      ]
     },
     "metadata": {},
     "output_type": "display_data"
    },
    {
     "data": {
      "application/vnd.jupyter.widget-view+json": {
       "model_id": "caef3b97256a4b43ae195132530938f2",
       "version_major": 2,
       "version_minor": 0
      },
      "text/plain": [
       "  0%|          | 0/100 [00:00<?, ?it/s]"
      ]
     },
     "metadata": {},
     "output_type": "display_data"
    },
    {
     "data": {
      "application/vnd.jupyter.widget-view+json": {
       "model_id": "143f683ea8e6445fa24edf2c7904dbc9",
       "version_major": 2,
       "version_minor": 0
      },
      "text/plain": [
       "  0%|          | 0/100 [00:00<?, ?it/s]"
      ]
     },
     "metadata": {},
     "output_type": "display_data"
    },
    {
     "data": {
      "application/vnd.jupyter.widget-view+json": {
       "model_id": "608a592ed56843cb98c7015af41b04d8",
       "version_major": 2,
       "version_minor": 0
      },
      "text/plain": [
       "  0%|          | 0/100 [00:00<?, ?it/s]"
      ]
     },
     "metadata": {},
     "output_type": "display_data"
    },
    {
     "name": "stdout",
     "output_type": "stream",
     "text": [
      "key: 0.01\n"
     ]
    },
    {
     "data": {
      "application/vnd.jupyter.widget-view+json": {
       "model_id": "351ec46784434426bb4e836a40b9f111",
       "version_major": 2,
       "version_minor": 0
      },
      "text/plain": [
       "  0%|          | 0/100 [00:00<?, ?it/s]"
      ]
     },
     "metadata": {},
     "output_type": "display_data"
    },
    {
     "data": {
      "application/vnd.jupyter.widget-view+json": {
       "model_id": "70220852d777414293ee711a76746b64",
       "version_major": 2,
       "version_minor": 0
      },
      "text/plain": [
       "  0%|          | 0/100 [00:00<?, ?it/s]"
      ]
     },
     "metadata": {},
     "output_type": "display_data"
    },
    {
     "data": {
      "application/vnd.jupyter.widget-view+json": {
       "model_id": "a0730c82db3246489edcff3a7625595a",
       "version_major": 2,
       "version_minor": 0
      },
      "text/plain": [
       "  0%|          | 0/100 [00:00<?, ?it/s]"
      ]
     },
     "metadata": {},
     "output_type": "display_data"
    },
    {
     "data": {
      "application/vnd.jupyter.widget-view+json": {
       "model_id": "f4fc354148aa4ee2ac04660a242e5b21",
       "version_major": 2,
       "version_minor": 0
      },
      "text/plain": [
       "  0%|          | 0/100 [00:00<?, ?it/s]"
      ]
     },
     "metadata": {},
     "output_type": "display_data"
    },
    {
     "name": "stdout",
     "output_type": "stream",
     "text": [
      "key: 0.005\n"
     ]
    },
    {
     "data": {
      "application/vnd.jupyter.widget-view+json": {
       "model_id": "cc422716a4db42e59094a7c301a1b883",
       "version_major": 2,
       "version_minor": 0
      },
      "text/plain": [
       "  0%|          | 0/100 [00:00<?, ?it/s]"
      ]
     },
     "metadata": {},
     "output_type": "display_data"
    },
    {
     "data": {
      "application/vnd.jupyter.widget-view+json": {
       "model_id": "b25bbc0fdabc4576a994a5522c5eb713",
       "version_major": 2,
       "version_minor": 0
      },
      "text/plain": [
       "  0%|          | 0/100 [00:00<?, ?it/s]"
      ]
     },
     "metadata": {},
     "output_type": "display_data"
    },
    {
     "data": {
      "application/vnd.jupyter.widget-view+json": {
       "model_id": "ec20441c16db418d958c467717bdbe06",
       "version_major": 2,
       "version_minor": 0
      },
      "text/plain": [
       "  0%|          | 0/100 [00:00<?, ?it/s]"
      ]
     },
     "metadata": {},
     "output_type": "display_data"
    },
    {
     "data": {
      "application/vnd.jupyter.widget-view+json": {
       "model_id": "9b47ce2948aa4fc3b1bfe752a5841090",
       "version_major": 2,
       "version_minor": 0
      },
      "text/plain": [
       "  0%|          | 0/100 [00:00<?, ?it/s]"
      ]
     },
     "metadata": {},
     "output_type": "display_data"
    }
   ],
   "source": [
    "outlier_ls = [0.1, 1., 10., 100.]\n",
    "eps0 = 0.1\n",
    "res_ol = {}\n",
    "for outlier in outlier_ls:\n",
    "    sub_res_ol = rej_rate_outliers(outlier, n_ls, eps_ls, eps0=eps0, nreps=100)\n",
    "    res_ol[outlier] = sub_res_ol"
   ]
  },
  {
   "cell_type": "code",
   "execution_count": 118,
   "id": "9d0825b7-8a8b-425c-99fe-b52456853f1b",
   "metadata": {},
   "outputs": [
    {
     "data": {
      "image/png": "[encoded data removed]",
      "text/plain": [
       "<Figure size 1200x300 with 4 Axes>"
      ]
     },
     "metadata": {},
     "output_type": "display_data"
    }
   ],
   "source": [
    "figs, axes = plt.subplots(ncols=len(eps_ls), nrows=1, figsize=(3*len(eps_ls), 3))\n",
    "\n",
    "# outlier_ls = outlier_ls[::-1]\n",
    "for j in range(len(eps_ls)):\n",
    "    ax = axes[j]\n",
    "    rej_tilted = np.array([np.mean(res_ol[ww][n][eps_ls[j]][\"tilted\"][\"rej\"]) for ww in outlier_ls])\n",
    "    rej_rbf = np.array([np.mean(res_ol[ww][n][eps_ls[j]][\"rbf\"][\"rej\"]) for ww in outlier_ls])\n",
    "    rej_ol_robust = np.array([np.mean(res_ol[ww][n][eps_ls[j]][\"tilted_ol_robust\"][\"rej\"]) for ww in outlier_ls])\n",
    "    rej_ball_robust = np.array([np.mean(res_ol[ww][n][eps_ls[j]][\"tilted_ball_robust\"][\"rej\"]) for ww in outlier_ls])\n",
    "\n",
    "    ax.scatter(outlier_ls, rej_tilted, label=\"Tilted\")\n",
    "    ax.scatter(outlier_ls, rej_rbf, label=\"RBF\", marker=\"x\")\n",
    "    ax.scatter(outlier_ls, rej_ol_robust, label=\"OL-robust\", marker=5)\n",
    "    ax.scatter(outlier_ls, rej_ball_robust, label=\"Ball-robust\", marker=\"+\")\n",
    "    ax.axhline(0.05, linestyle=\"--\", color=\"grey\")\n",
    "    ax.set_title(rf\"$\\epsilon$={eps_ls[j]}\")\n",
    "    ax.set_xscale(\"log\")\n",
    "    ax.set_ylim(-0.05, 1.05)\n",
    "    ax.set_ylabel(\"Rejection rate\")\n",
    "    ax.set_xlabel(\"Outlier value\")\n",
    "\n",
    "axes.flatten()[0].legend()\n",
    "plt.tight_layout()\n",
    "# plt.savefig(\"../figs/robust/rej_ol.pdf\")"
   ]
  },
  {
   "cell_type": "code",
   "execution_count": 45,
   "id": "9644858f-e329-450f-8830-18e538c11162",
   "metadata": {},
   "outputs": [
    {
     "data": {
      "image/png": "[encoded data removed]",
      "text/plain": [
       "<Figure size 800x800 with 16 Axes>"
      ]
     },
     "metadata": {},
     "output_type": "display_data"
    }
   ],
   "source": [
    "ncols = len(eps_ls)\n",
    "nrows = len(outlier_ls)\n",
    "figs, axes = plt.subplots(ncols=ncols, nrows=nrows, figsize=(2*ncols, 2*nrows))\n",
    "\n",
    "# outlier_ls_plot = outlier_ls[::-1]\n",
    "for i in range(len(outlier_ls_plot)):\n",
    "    for j in range(len(eps_ls)):\n",
    "        ax = axes[i][j]\n",
    "        sns.ecdfplot(ax=ax, x=np.array(res_ol[outlier_ls_plot[i]][n][eps_ls[j]][\"tilted\"][\"pval\"]), label=\"Tilted\")\n",
    "        sns.ecdfplot(ax=ax, x=np.array(res_ol[outlier_ls_plot[i]][n][eps_ls[j]][\"rbf\"][\"pval\"]), label=\"RBF\")\n",
    "        ax.plot([0., 1.], [0., 1.], linestyle=\"--\", color=\"grey\")\n",
    "        ax.set_xlim(-0.01, 1.01)\n",
    "        ax.set_ylim(-0.01, 1.01)\n",
    "        ax.set_title(rf\"$w$={outlier_ls_plot[i]}; $\\epsilon$={eps_ls[j]}\")\n",
    "        ax.set_ylabel(\"\")\n",
    "        ax.set_xlabel(\"\")\n",
    "        \n",
    "        if i < len(outlier_ls) - 1:\n",
    "            ax.get_xaxis().set_ticks([])\n",
    "        if j > 0:\n",
    "            ax.get_yaxis().set_ticks([])\n",
    "        if j == 0:\n",
    "            ax.set_ylabel(\"Proportion\")\n",
    "        if i == len(outlier_ls) - 1:\n",
    "            ax.set_xlabel(r\"$p$-value\")\n",
    "        # if j == len(eps_ls) - 1:\n",
    "        #     ax.twinx().set_ylabel(f\"eps={eps_ls[j]}\")\n",
    "        #     ax.twinx().get_yaxis().set_ticks([])\n",
    "\n",
    "axes.flatten()[0].legend(loc=\"lower right\")\n",
    "plt.tight_layout()"
   ]
  },
  {
   "cell_type": "markdown",
   "id": "b8ee93ed-ddee-4891-ada0-700714c4b217",
   "metadata": {},
   "source": [
    "# Outliers vs. kernel bandwidth (level) "
   ]
  },
  {
   "cell_type": "code",
   "execution_count": 41,
   "id": "1dc44214-960f-4e27-935c-df917bafd332",
   "metadata": {},
   "outputs": [],
   "source": [
    "np.random.seed(2024)\n",
    "\n",
    "n = 500\n",
    "n_ls = [n]\n",
    "eps_ls = [0.01]"
   ]
  },
  {
   "cell_type": "code",
   "execution_count": 42,
   "id": "51ce1848-05c6-4ba7-80ed-83d7b3d3dc8e",
   "metadata": {
    "scrolled": true
   },
   "outputs": [
    {
     "name": "stdout",
     "output_type": "stream",
     "text": [
      "outlier: 0.0\n",
      "key: 0.01\n"
     ]
    },
    {
     "data": {
      "application/vnd.jupyter.widget-view+json": {
       "model_id": "aa82313082e64868ae15de8620f0c2f0",
       "version_major": 2,
       "version_minor": 0
      },
      "text/plain": [
       "  0%|          | 0/100 [00:00<?, ?it/s]"
      ]
     },
     "metadata": {},
     "output_type": "display_data"
    },
    {
     "name": "stdout",
     "output_type": "stream",
     "text": [
      "key: 0.01\n"
     ]
    },
    {
     "data": {
      "application/vnd.jupyter.widget-view+json": {
       "model_id": "b917e83ba9b34340a09eb0a86c275002",
       "version_major": 2,
       "version_minor": 0
      },
      "text/plain": [
       "  0%|          | 0/100 [00:00<?, ?it/s]"
      ]
     },
     "metadata": {},
     "output_type": "display_data"
    },
    {
     "name": "stdout",
     "output_type": "stream",
     "text": [
      "key: 0.01\n"
     ]
    },
    {
     "data": {
      "application/vnd.jupyter.widget-view+json": {
       "model_id": "a99e1ddf7c39479ea862c047256239c2",
       "version_major": 2,
       "version_minor": 0
      },
      "text/plain": [
       "  0%|          | 0/100 [00:00<?, ?it/s]"
      ]
     },
     "metadata": {},
     "output_type": "display_data"
    },
    {
     "name": "stdout",
     "output_type": "stream",
     "text": [
      "key: 0.01\n"
     ]
    },
    {
     "data": {
      "application/vnd.jupyter.widget-view+json": {
       "model_id": "069eee58e6364823b7168fc8c4f54311",
       "version_major": 2,
       "version_minor": 0
      },
      "text/plain": [
       "  0%|          | 0/100 [00:00<?, ?it/s]"
      ]
     },
     "metadata": {},
     "output_type": "display_data"
    },
    {
     "name": "stdout",
     "output_type": "stream",
     "text": [
      "key: 0.01\n"
     ]
    },
    {
     "data": {
      "application/vnd.jupyter.widget-view+json": {
       "model_id": "bdd6fad5e0cd41efbb6d73504e7d5f03",
       "version_major": 2,
       "version_minor": 0
      },
      "text/plain": [
       "  0%|          | 0/100 [00:00<?, ?it/s]"
      ]
     },
     "metadata": {},
     "output_type": "display_data"
    },
    {
     "name": "stdout",
     "output_type": "stream",
     "text": [
      "outlier: 1.0\n",
      "key: 0.01\n"
     ]
    },
    {
     "data": {
      "application/vnd.jupyter.widget-view+json": {
       "model_id": "6b2a0dd1565741408d00ff1772e9c828",
       "version_major": 2,
       "version_minor": 0
      },
      "text/plain": [
       "  0%|          | 0/100 [00:00<?, ?it/s]"
      ]
     },
     "metadata": {},
     "output_type": "display_data"
    },
    {
     "name": "stdout",
     "output_type": "stream",
     "text": [
      "key: 0.01\n"
     ]
    },
    {
     "data": {
      "application/vnd.jupyter.widget-view+json": {
       "model_id": "ea735c7979bd4725a3e9efbb15a08c23",
       "version_major": 2,
       "version_minor": 0
      },
      "text/plain": [
       "  0%|          | 0/100 [00:00<?, ?it/s]"
      ]
     },
     "metadata": {},
     "output_type": "display_data"
    },
    {
     "name": "stdout",
     "output_type": "stream",
     "text": [
      "key: 0.01\n"
     ]
    },
    {
     "data": {
      "application/vnd.jupyter.widget-view+json": {
       "model_id": "9e64385afc514b958a343e0c9c6be13d",
       "version_major": 2,
       "version_minor": 0
      },
      "text/plain": [
       "  0%|          | 0/100 [00:00<?, ?it/s]"
      ]
     },
     "metadata": {},
     "output_type": "display_data"
    },
    {
     "name": "stdout",
     "output_type": "stream",
     "text": [
      "key: 0.01\n"
     ]
    },
    {
     "data": {
      "application/vnd.jupyter.widget-view+json": {
       "model_id": "7a492367cd1045b0a5afa22ce69fe976",
       "version_major": 2,
       "version_minor": 0
      },
      "text/plain": [
       "  0%|          | 0/100 [00:00<?, ?it/s]"
      ]
     },
     "metadata": {},
     "output_type": "display_data"
    },
    {
     "name": "stdout",
     "output_type": "stream",
     "text": [
      "key: 0.01\n"
     ]
    },
    {
     "data": {
      "application/vnd.jupyter.widget-view+json": {
       "model_id": "e33eec00b77d43088caf65f2b1b7e35d",
       "version_major": 2,
       "version_minor": 0
      },
      "text/plain": [
       "  0%|          | 0/100 [00:00<?, ?it/s]"
      ]
     },
     "metadata": {},
     "output_type": "display_data"
    },
    {
     "name": "stdout",
     "output_type": "stream",
     "text": [
      "outlier: 5.0\n",
      "key: 0.01\n"
     ]
    },
    {
     "data": {
      "application/vnd.jupyter.widget-view+json": {
       "model_id": "636f68d3975f462caba18f838b56a3fd",
       "version_major": 2,
       "version_minor": 0
      },
      "text/plain": [
       "  0%|          | 0/100 [00:00<?, ?it/s]"
      ]
     },
     "metadata": {},
     "output_type": "display_data"
    },
    {
     "name": "stdout",
     "output_type": "stream",
     "text": [
      "key: 0.01\n"
     ]
    },
    {
     "data": {
      "application/vnd.jupyter.widget-view+json": {
       "model_id": "eb9ac2dad9ae4991b9b7b6c730214dff",
       "version_major": 2,
       "version_minor": 0
      },
      "text/plain": [
       "  0%|          | 0/100 [00:00<?, ?it/s]"
      ]
     },
     "metadata": {},
     "output_type": "display_data"
    },
    {
     "name": "stdout",
     "output_type": "stream",
     "text": [
      "key: 0.01\n"
     ]
    },
    {
     "data": {
      "application/vnd.jupyter.widget-view+json": {
       "model_id": "f89c6e8bfb984c189a77c46e7f772086",
       "version_major": 2,
       "version_minor": 0
      },
      "text/plain": [
       "  0%|          | 0/100 [00:00<?, ?it/s]"
      ]
     },
     "metadata": {},
     "output_type": "display_data"
    },
    {
     "name": "stdout",
     "output_type": "stream",
     "text": [
      "key: 0.01\n"
     ]
    },
    {
     "data": {
      "application/vnd.jupyter.widget-view+json": {
       "model_id": "7ee270b06aeb44e29c7179b11807a4a1",
       "version_major": 2,
       "version_minor": 0
      },
      "text/plain": [
       "  0%|          | 0/100 [00:00<?, ?it/s]"
      ]
     },
     "metadata": {},
     "output_type": "display_data"
    },
    {
     "name": "stdout",
     "output_type": "stream",
     "text": [
      "key: 0.01\n"
     ]
    },
    {
     "data": {
      "application/vnd.jupyter.widget-view+json": {
       "model_id": "04da5ff5371a40dbb5254eb55686fc23",
       "version_major": 2,
       "version_minor": 0
      },
      "text/plain": [
       "  0%|          | 0/100 [00:00<?, ?it/s]"
      ]
     },
     "metadata": {},
     "output_type": "display_data"
    },
    {
     "name": "stdout",
     "output_type": "stream",
     "text": [
      "outlier: 10.0\n",
      "key: 0.01\n"
     ]
    },
    {
     "data": {
      "application/vnd.jupyter.widget-view+json": {
       "model_id": "82a6ff2ad4e643109306ce39cc5a5cff",
       "version_major": 2,
       "version_minor": 0
      },
      "text/plain": [
       "  0%|          | 0/100 [00:00<?, ?it/s]"
      ]
     },
     "metadata": {},
     "output_type": "display_data"
    },
    {
     "name": "stdout",
     "output_type": "stream",
     "text": [
      "key: 0.01\n"
     ]
    },
    {
     "data": {
      "application/vnd.jupyter.widget-view+json": {
       "model_id": "6ae19fe5563b4298894f95de4a529a1d",
       "version_major": 2,
       "version_minor": 0
      },
      "text/plain": [
       "  0%|          | 0/100 [00:00<?, ?it/s]"
      ]
     },
     "metadata": {},
     "output_type": "display_data"
    },
    {
     "name": "stdout",
     "output_type": "stream",
     "text": [
      "key: 0.01\n"
     ]
    },
    {
     "data": {
      "application/vnd.jupyter.widget-view+json": {
       "model_id": "6fdaf694f76f4fffac7ecf8eb7c0164a",
       "version_major": 2,
       "version_minor": 0
      },
      "text/plain": [
       "  0%|          | 0/100 [00:00<?, ?it/s]"
      ]
     },
     "metadata": {},
     "output_type": "display_data"
    },
    {
     "name": "stdout",
     "output_type": "stream",
     "text": [
      "key: 0.01\n"
     ]
    },
    {
     "data": {
      "application/vnd.jupyter.widget-view+json": {
       "model_id": "bf644c18c0624c369ce08b7674239dd1",
       "version_major": 2,
       "version_minor": 0
      },
      "text/plain": [
       "  0%|          | 0/100 [00:00<?, ?it/s]"
      ]
     },
     "metadata": {},
     "output_type": "display_data"
    },
    {
     "name": "stdout",
     "output_type": "stream",
     "text": [
      "key: 0.01\n"
     ]
    },
    {
     "data": {
      "application/vnd.jupyter.widget-view+json": {
       "model_id": "46c242a00ffa4f3d91e7059440e9c8dc",
       "version_major": 2,
       "version_minor": 0
      },
      "text/plain": [
       "  0%|          | 0/100 [00:00<?, ?it/s]"
      ]
     },
     "metadata": {},
     "output_type": "display_data"
    },
    {
     "name": "stdout",
     "output_type": "stream",
     "text": [
      "outlier: 50.0\n",
      "key: 0.01\n"
     ]
    },
    {
     "data": {
      "application/vnd.jupyter.widget-view+json": {
       "model_id": "bf4880266cc340ee9645b5b3ac346202",
       "version_major": 2,
       "version_minor": 0
      },
      "text/plain": [
       "  0%|          | 0/100 [00:00<?, ?it/s]"
      ]
     },
     "metadata": {},
     "output_type": "display_data"
    },
    {
     "name": "stdout",
     "output_type": "stream",
     "text": [
      "key: 0.01\n"
     ]
    },
    {
     "data": {
      "application/vnd.jupyter.widget-view+json": {
       "model_id": "434e11bd4cf1434d97d1e52cc4ea64cf",
       "version_major": 2,
       "version_minor": 0
      },
      "text/plain": [
       "  0%|          | 0/100 [00:00<?, ?it/s]"
      ]
     },
     "metadata": {},
     "output_type": "display_data"
    },
    {
     "name": "stdout",
     "output_type": "stream",
     "text": [
      "key: 0.01\n"
     ]
    },
    {
     "data": {
      "application/vnd.jupyter.widget-view+json": {
       "model_id": "15e560d7e0d24607a828d1b344834522",
       "version_major": 2,
       "version_minor": 0
      },
      "text/plain": [
       "  0%|          | 0/100 [00:00<?, ?it/s]"
      ]
     },
     "metadata": {},
     "output_type": "display_data"
    },
    {
     "name": "stdout",
     "output_type": "stream",
     "text": [
      "key: 0.01\n"
     ]
    },
    {
     "data": {
      "application/vnd.jupyter.widget-view+json": {
       "model_id": "d9caf159ba57489098756cd096bc3808",
       "version_major": 2,
       "version_minor": 0
      },
      "text/plain": [
       "  0%|          | 0/100 [00:00<?, ?it/s]"
      ]
     },
     "metadata": {},
     "output_type": "display_data"
    },
    {
     "name": "stdout",
     "output_type": "stream",
     "text": [
      "key: 0.01\n"
     ]
    },
    {
     "data": {
      "application/vnd.jupyter.widget-view+json": {
       "model_id": "cdb62d398f0a48f5b31604732eeb2ae8",
       "version_major": 2,
       "version_minor": 0
      },
      "text/plain": [
       "  0%|          | 0/100 [00:00<?, ?it/s]"
      ]
     },
     "metadata": {},
     "output_type": "display_data"
    }
   ],
   "source": [
    "outlier_ls = [0., 1., 5., 10., 50.]\n",
    "eps0 = 0.01 # oracle\n",
    "bandwidth_ls = [1e-2, 1e-1, 1., 10., 100.]\n",
    "\n",
    "res_ol_bw = {}\n",
    "for ol in outlier_ls:\n",
    "    print(\"outlier:\", ol)\n",
    "    res_ol_bw[ol] = {}\n",
    "    \n",
    "    for bw in bandwidth_ls:\n",
    "        sub_res_ol = rej_rate_outliers(ol, n_ls, eps_ls, eps0=eps0, nreps=100, bandwidth=bw)\n",
    "        res_ol_bw[ol][bw] = sub_res_ol"
   ]
  },
  {
   "cell_type": "code",
   "execution_count": 76,
   "id": "9146ab02-c9bc-48a6-9afd-5593b332893d",
   "metadata": {},
   "outputs": [
    {
     "data": {
      "image/png": "[encoded data removed]",
      "text/plain": [
       "<Figure size 1500x300 with 5 Axes>"
      ]
     },
     "metadata": {},
     "output_type": "display_data"
    }
   ],
   "source": [
    "ncols = len(outlier_ls)\n",
    "figs, axes = plt.subplots(ncols=ncols, nrows=1, figsize=(3*ncols, 3))\n",
    "\n",
    "method_ls = [\"rbf\"]\n",
    "\n",
    "for i, ax in enumerate(axes.flatten()):\n",
    "    ol = outlier_ls[i]\n",
    "    \n",
    "    plot_df = {\"pval\": [], \"method\": [], \"bw\": [], \"bw_order\": []}\n",
    "    for bw in bandwidth_ls:\n",
    "        for mm in method_ls:\n",
    "            rr = res_ol_bw[ol][bw][n][eps_ls[0]][mm]\n",
    "            plot_df[\"pval\"] = plot_df[\"pval\"] + np.array(rr[\"pval\"]).tolist()\n",
    "            plot_df[\"method\"] = plot_df[\"method\"] + [mm] * len(rr[\"pval\"])\n",
    "            plot_df[\"bw\"] = plot_df[\"bw\"] + [bw] * len(rr[\"pval\"])\n",
    "            plot_df[\"bw_order\"] = plot_df[\"bw_order\"] + [np.round(np.log(bw) / np.log(10.), 2)] * len(rr[\"pval\"])\n",
    "    \n",
    "    plot_df = pd.DataFrame(plot_df)\n",
    "\n",
    "    # plot\n",
    "    if_legend = True if i == len(axes)-1 else False\n",
    "    ax_init = sns.ecdfplot(ax=ax, data=plot_df, x=\"pval\", hue=\"bw_order\", legend=if_legend)\n",
    "    ax.plot([0., 1.], [0., 1.], linestyle=\"--\", color=\"grey\")\n",
    "    ax.set_xlim(-0.01, 1.01)\n",
    "    ax.set_ylim(-0.01, 1.01)\n",
    "    ax.set_title(rf\"$w$={ol}\")\n",
    "    ax.set_xlabel(\"p-value\")\n",
    "    if i > 0:\n",
    "        ax.get_yaxis().set_ticks([])\n",
    "        ax.set_ylabel(\"\")\n",
    "\n",
    "sns.move_legend(ax, labels=bandwidth_ls, loc=\"lower right\", title=r\"$\\lambda^2$\")\n",
    "plt.tight_layout()\n",
    "# plt.savefig(\"../figs/robust/standard_power_bw.pdf\")"
   ]
  },
  {
   "cell_type": "markdown",
   "id": "67f16fc9-0255-41a8-9bb8-8d539d065f30",
   "metadata": {},
   "source": [
    "# Mean-shift (power)"
   ]
  },
  {
   "cell_type": "code",
   "execution_count": 150,
   "id": "7ac4c1eb-5d89-4f8e-b34b-ac7288b611df",
   "metadata": {},
   "outputs": [],
   "source": [
    "def rej_rate_meanshift(mean_ls, n_ls, nreps, eps0=None, theta=\"ol\", bw=2., alpha=0.05):\n",
    "    res = {nn: {kk: {\n",
    "        \"tilted\": {\"stat\": [], \"pval\": [], \"rej\": [], \"boot_stats\": []},\n",
    "        \"rbf\": {\"stat\": [], \"pval\": [], \"rej\": [], \"boot_stats\": []},\n",
    "        \"tilted_ol_robust\": {\"nonsq_stat\": [], \"threshold\": [], \"rej\": []},\n",
    "        \"tilted_ball_robust\": {\"nonsq_stat\": [], \"threshold\": [], \"rej\": [], \"theta\": []},\n",
    "        \"tilted_ball_clt\": {\"sq_stat\": [], \"threshold\": [], \"rej\": [], \"theta\": []},\n",
    "    } for kk in range(len(mean_ls))} for nn in n_ls}\n",
    "    res[\"mean_ls\"] = mean_ls\n",
    "\n",
    "\n",
    "    for n in n_ls:\n",
    "        for key, mean2 in enumerate(mean_ls):\n",
    "            # key = mean\n",
    "            print(\"key:\", key)\n",
    "            ###\n",
    "            dim = mean2.shape[-1]\n",
    "            mean1 = np.zeros((dim,)) # data\n",
    "            # mean2 = np.reshape([mean], (-1,)) # model\n",
    "            \n",
    "            Xs = np.random.multivariate_normal(mean1, np.eye(dim), (nreps, n))\n",
    "        \n",
    "            score_fn = lambda x: - (x - mean2)\n",
    "            ###\n",
    "            \n",
    "            for X in tqdm(Xs):\n",
    "                kernel_args = {\"sigma_sq\": None, \"med_heuristic\": True, \"X\": X, \"Y\": X} if bw == \"med\" else {\"sigma_sq\": bw}\n",
    "\n",
    "                # tilted\n",
    "                score_weight_fn = kernels.PolyWeightFunction(loc=mean2)\n",
    "                kernel0 = kernels.RBF(**kernel_args)\n",
    "                kernel = kernels.TiltedKernel(kernel=kernel0, weight_fn=score_weight_fn)\n",
    "    \n",
    "                ksd = metrics.KSD(kernel, score_fn=score_fn)\n",
    "                wild_boot = boot.WildBootstrap(ksd)\n",
    "                pval, stat, boot_stats = wild_boot.pval(X, X, return_stat=True, return_boot=True)\n",
    "                res[n][key][\"tilted\"][\"stat\"].append(stat)\n",
    "                res[n][key][\"tilted\"][\"pval\"].append(pval)\n",
    "                res[n][key][\"tilted\"][\"rej\"].append(int(pval < alpha))\n",
    "                res[n][key][\"tilted\"][\"boot_stats\"].append(boot_stats)\n",
    "        \n",
    "                # RBF\n",
    "                kernel = kernels.RBF(**kernel_args)\n",
    "                \n",
    "                ksd = metrics.KSD(kernel, score_fn=score_fn)\n",
    "                wild_boot = boot.WildBootstrap(ksd)\n",
    "                pval, stat, boot_stats = wild_boot.pval(X, X, return_stat=True, return_boot=True)\n",
    "                res[n][key][\"rbf\"][\"stat\"].append(stat)\n",
    "                res[n][key][\"rbf\"][\"pval\"].append(pval)\n",
    "                res[n][key][\"rbf\"][\"rej\"].append(int(pval < alpha))\n",
    "                res[n][key][\"rbf\"][\"boot_stats\"].append(boot_stats)\n",
    "\n",
    "                # tilted ol robust\n",
    "                if eps0 is not None:\n",
    "                    score_weight_fn = kernels.PolyWeightFunction(loc=mean2)\n",
    "                    kernel0 = kernels.RBF(**kernel_args)\n",
    "                    kernel = kernels.TiltedKernel(kernel=kernel0, weight_fn=score_weight_fn)\n",
    "        \n",
    "                    ksd = metrics.KSD(kernel, score_fn=score_fn)\n",
    "                    threshold = ksd.test_threshold(n=n, eps0=eps0, alpha=alpha, method=\"ol_robust\")\n",
    "                    res[n][key][\"tilted_ol_robust\"][\"threshold\"].append(threshold)\n",
    "                    stat = ksd(X, X, vstat=True) # squared-KSD\n",
    "                    stat = stat**0.5\n",
    "                    res[n][key][\"tilted_ol_robust\"][\"nonsq_stat\"].append(stat)\n",
    "                    res[n][key][\"tilted_ol_robust\"][\"rej\"].append(int(stat > threshold))\n",
    "                \n",
    "                # tilted ball robust\n",
    "                score_weight_fn = kernels.PolyWeightFunction(loc=mean2)\n",
    "                kernel0 = kernels.RBF(**kernel_args)\n",
    "                kernel = kernels.TiltedKernel(kernel=kernel0, weight_fn=score_weight_fn)\n",
    "    \n",
    "                ksd = metrics.KSD(kernel, score_fn=score_fn)\n",
    "                threshold = ksd.test_threshold(n=n, eps0=eps0, theta=theta, alpha=alpha, method=\"ball_robust\")\n",
    "                res[n][key][\"tilted_ball_robust\"][\"threshold\"].append(threshold)\n",
    "                res[n][key][\"tilted_ball_robust\"][\"theta\"].append(ksd.theta)\n",
    "                stat = ksd(X, X, vstat=True) # squared-KSD\n",
    "                stat = stat**0.5\n",
    "                res[n][key][\"tilted_ball_robust\"][\"nonsq_stat\"].append(stat)\n",
    "                res[n][key][\"tilted_ball_robust\"][\"rej\"].append(int(stat > threshold))\n",
    "\n",
    "                # tilted ball robust CLT\n",
    "                score_weight_fn = kernels.PolyWeightFunction(loc=mean2)\n",
    "                kernel0 = kernels.RBF(**kernel_args)\n",
    "                kernel = kernels.TiltedKernel(kernel=kernel0, weight_fn=score_weight_fn)\n",
    "\n",
    "                ksd = metrics.KSD(kernel, score_fn=score_fn)\n",
    "                threshold = ksd.test_threshold(n=n, eps0=eps0, theta=theta, alpha=alpha, method=\"CLT\", X=X)\n",
    "                res[n][key][\"tilted_ball_clt\"][\"threshold\"].append(threshold)\n",
    "                res[n][key][\"tilted_ball_clt\"][\"theta\"].append(ksd.theta)\n",
    "                sq_stat = ksd(X, X, vstat=False) # squared-KSD\n",
    "                res[n][key][\"tilted_ball_clt\"][\"sq_stat\"].append(sq_stat)\n",
    "                res[n][key][\"tilted_ball_clt\"][\"rej\"].append(int(sq_stat > threshold))\n",
    "                # res[n][key][\"tilted_ball_clt\"][\"rej\"].append(int(sq_stat > threshold))\n",
    "    \n",
    "    return res"
   ]
  },
  {
   "cell_type": "code",
   "execution_count": 151,
   "id": "dfaab3c5-01be-405f-a066-ec6216fcea5b",
   "metadata": {},
   "outputs": [],
   "source": [
    "def population_ksd_ms(mean, bandwidth_sq=1.):\n",
    "    \"\"\"Non-squared KSD\"\"\"\n",
    "    mu = np.reshape([mean], (-1,))\n",
    "    d = mu.shape[0]\n",
    "    mu_norm = np.sqrt(np.sum(mu**2))\n",
    "    return (bandwidth_sq / (bandwidth_sq + 2))**(d/4) * mu_norm\n",
    "\n",
    "def inverse_population_ksd_ms(val, dim, bandwidth_sq=1.):\n",
    "    \"\"\"val is the non-squared KSD\"\"\"\n",
    "    mu_norm = val * (bandwidth_sq / (bandwidth_sq + 2))**(-dim/4)\n",
    "    return mu_norm"
   ]
  },
  {
   "cell_type": "code",
   "execution_count": 156,
   "id": "f1d57ca0-7a7f-422a-b852-d045290b90b9",
   "metadata": {},
   "outputs": [],
   "source": [
    "np.random.seed(2024)\n",
    "\n",
    "n = 500\n",
    "n_ls = [n]\n",
    "\n",
    "mean_ls = [0., 0.1, 0.2, 0.3, 0.4, 0.6, 0.8, 1., 1.2, 1.4, 1.7, 2., 2.3, 2.6]\n",
    "# mean_ls = [0., 0.2, 0.4, 0.6, 0.8, 1., 1.2, 1.4]\n",
    "mean_ls = [np.reshape([mm], (-1,)) for mm in mean_ls]\n",
    "\n",
    "eps0 = 0.1 # 0.01"
   ]
  },
  {
   "cell_type": "code",
   "execution_count": null,
   "id": "f205a06c-c8da-4a36-8ee0-31f5cb990892",
   "metadata": {},
   "outputs": [
    {
     "name": "stdout",
     "output_type": "stream",
     "text": [
      "key: 0\n"
     ]
    },
    {
     "data": {
      "application/vnd.jupyter.widget-view+json": {
       "model_id": "a103f86514054dbda3d752afe0e4603a",
       "version_major": 2,
       "version_minor": 0
      },
      "text/plain": [
       "  0%|          | 0/50 [00:00<?, ?it/s]"
      ]
     },
     "metadata": {},
     "output_type": "display_data"
    },
    {
     "name": "stdout",
     "output_type": "stream",
     "text": [
      "key: 1\n"
     ]
    },
    {
     "data": {
      "application/vnd.jupyter.widget-view+json": {
       "model_id": "7954e95b4b60474dab033186ea4ee7e2",
       "version_major": 2,
       "version_minor": 0
      },
      "text/plain": [
       "  0%|          | 0/50 [00:00<?, ?it/s]"
      ]
     },
     "metadata": {},
     "output_type": "display_data"
    },
    {
     "name": "stdout",
     "output_type": "stream",
     "text": [
      "key: 2\n"
     ]
    },
    {
     "data": {
      "application/vnd.jupyter.widget-view+json": {
       "model_id": "5ac702ec05e2424b9039849be7bbd312",
       "version_major": 2,
       "version_minor": 0
      },
      "text/plain": [
       "  0%|          | 0/50 [00:00<?, ?it/s]"
      ]
     },
     "metadata": {},
     "output_type": "display_data"
    },
    {
     "name": "stdout",
     "output_type": "stream",
     "text": [
      "key: 3\n"
     ]
    },
    {
     "data": {
      "application/vnd.jupyter.widget-view+json": {
       "model_id": "69b9e4a2202e4bc38bbb9009de5ee1ae",
       "version_major": 2,
       "version_minor": 0
      },
      "text/plain": [
       "  0%|          | 0/50 [00:00<?, ?it/s]"
      ]
     },
     "metadata": {},
     "output_type": "display_data"
    },
    {
     "name": "stdout",
     "output_type": "stream",
     "text": [
      "key: 4\n"
     ]
    },
    {
     "data": {
      "application/vnd.jupyter.widget-view+json": {
       "model_id": "83912cc37e744e5a932f466109f0a0e1",
       "version_major": 2,
       "version_minor": 0
      },
      "text/plain": [
       "  0%|          | 0/50 [00:00<?, ?it/s]"
      ]
     },
     "metadata": {},
     "output_type": "display_data"
    }
   ],
   "source": [
    "res_ms = rej_rate_meanshift(mean_ls=mean_ls, n_ls=n_ls, eps0=eps0, nreps=50) # auto theta selection\n",
    "# res_ms = rej_rate_meanshift(mean_ls=mean_ls, n_ls=n_ls, theta=0.3, nreps=20)"
   ]
  },
  {
   "cell_type": "code",
   "execution_count": 38,
   "id": "3210bdc7-b6dc-4ef8-b7f0-37620972606b",
   "metadata": {},
   "outputs": [
    {
     "data": {
      "image/png": "[encoded data removed]",
      "text/plain": [
       "<Figure size 600x300 with 1 Axes>"
      ]
     },
     "metadata": {},
     "output_type": "display_data"
    }
   ],
   "source": [
    "fig, ax = plt.subplots(ncols=1, nrows=1, figsize=(6, 3))\n",
    "\n",
    "methods = {\"tilted\": \"Tilted\", \"rbf\": \"RBF\", \"tilted_ol_robust\": \"OL-robust\", \"tilted_ball_robust\": \"Ball-robust\"}\n",
    "\n",
    "for method, lab in methods.items():\n",
    "    rej = np.array([np.mean(res_ms[n][kk][method][\"rej\"]) for kk in range(len(mean_ls))])\n",
    "    ksd = np.array([np.mean(res_ms[n][kk][method][\"rej\"]) for kk in range(len(mean_ls))])\n",
    "\n",
    "rej_tilted = np.array([np.mean(res_ms[n][kk][\"tilted\"][\"rej\"]) for kk in range(len(mean_ls))])\n",
    "rej_rbf = np.array([np.mean(res_ms[n][kk][\"rbf\"][\"rej\"]) for kk in range(len(mean_ls))])\n",
    "rej_ol_robust = np.array([np.mean(res_ms[n][kk][\"tilted_ol_robust\"][\"rej\"]) for kk in range(len(mean_ls))])\n",
    "rej_ball_robust = np.array([np.mean(res_ms[n][kk][\"tilted_ball_robust\"][\"rej\"]) for kk in range(len(mean_ls))])\n",
    "rej_ball_clt = np.array([np.mean(res_ms[n][kk][\"tilted_ball_clt\"][\"rej\"]) for kk in range(len(mean_ls))])\n",
    "\n",
    "ksd_ls = [population_ksd_ms(mm) for mm in mean_ls]\n",
    "ax.scatter(ksd_ls, rej_tilted, label=\"Tilted\")\n",
    "# ax.scatter(ksd_ls, rej_rbf, label=\"RBF\", marker=\"x\")\n",
    "ax.scatter(ksd_ls, rej_ol_robust, label=\"OL-robust\", marker=\"+\")\n",
    "ax.scatter(ksd_ls, rej_ball_robust, label=\"Ball-robust deviation\", marker=5)\n",
    "ax.scatter(ksd_ls, rej_ball_clt, label=\"Ball-robust CLT\", marker=\"x\") #, marker=6)\n",
    "theta = res_ms[n][0][\"tilted_ball_robust\"][\"theta\"][0]\n",
    "ax.axvline(theta, linestyle=\"-.\", color=\"k\", label=r\"$\\theta$\")\n",
    "ax.axhline(0.05, linestyle=\"--\", color=\"grey\")\n",
    "# ax.set_xscale(\"log\")\n",
    "ax.set_ylim(-0.05, 1.05)\n",
    "ax.set_xlabel(\"KSD\")\n",
    "ax.set_ylabel(\"Rejection rate\")\n",
    "ax.legend(loc=\"center left\", bbox_to_anchor=(1, 0.5))\n",
    "plt.tight_layout()\n",
    "# plt.savefig(\"../figs/robust/rej_ms.pdf\")"
   ]
  },
  {
   "cell_type": "markdown",
   "id": "429cd310-06c9-4c43-96ba-f1194d5e3d58",
   "metadata": {},
   "source": [
    "#### Power vs. dim"
   ]
  },
  {
   "cell_type": "code",
   "execution_count": 149,
   "id": "695d0ab5-b21d-4dc7-bf00-9beb71baf93b",
   "metadata": {
    "scrolled": true
   },
   "outputs": [
    {
     "name": "stdout",
     "output_type": "stream",
     "text": [
      "dim: 1\n",
      "key: 0\n"
     ]
    },
    {
     "data": {
      "application/vnd.jupyter.widget-view+json": {
       "model_id": "478a1fb26f134af8b172df3789e684c0",
       "version_major": 2,
       "version_minor": 0
      },
      "text/plain": [
       "  0%|          | 0/10 [00:00<?, ?it/s]"
      ]
     },
     "metadata": {},
     "output_type": "display_data"
    },
    {
     "name": "stdout",
     "output_type": "stream",
     "text": [
      "key: 1\n"
     ]
    },
    {
     "data": {
      "application/vnd.jupyter.widget-view+json": {
       "model_id": "3afeb9f9d3194804a5862d1923cdab02",
       "version_major": 2,
       "version_minor": 0
      },
      "text/plain": [
       "  0%|          | 0/10 [00:00<?, ?it/s]"
      ]
     },
     "metadata": {},
     "output_type": "display_data"
    },
    {
     "name": "stdout",
     "output_type": "stream",
     "text": [
      "key: 2\n"
     ]
    },
    {
     "data": {
      "application/vnd.jupyter.widget-view+json": {
       "model_id": "264cf9832b534f92a9d53d42aa6422ad",
       "version_major": 2,
       "version_minor": 0
      },
      "text/plain": [
       "  0%|          | 0/10 [00:00<?, ?it/s]"
      ]
     },
     "metadata": {},
     "output_type": "display_data"
    },
    {
     "name": "stdout",
     "output_type": "stream",
     "text": [
      "key: 3\n"
     ]
    },
    {
     "data": {
      "application/vnd.jupyter.widget-view+json": {
       "model_id": "cc956e8b017841db8f3b8449c1f5d949",
       "version_major": 2,
       "version_minor": 0
      },
      "text/plain": [
       "  0%|          | 0/10 [00:00<?, ?it/s]"
      ]
     },
     "metadata": {},
     "output_type": "display_data"
    },
    {
     "name": "stdout",
     "output_type": "stream",
     "text": [
      "key: 4\n"
     ]
    },
    {
     "data": {
      "application/vnd.jupyter.widget-view+json": {
       "model_id": "c6967253b3bc4bd3a3319402370f7725",
       "version_major": 2,
       "version_minor": 0
      },
      "text/plain": [
       "  0%|          | 0/10 [00:00<?, ?it/s]"
      ]
     },
     "metadata": {},
     "output_type": "display_data"
    },
    {
     "name": "stdout",
     "output_type": "stream",
     "text": [
      "key: 5\n"
     ]
    },
    {
     "data": {
      "application/vnd.jupyter.widget-view+json": {
       "model_id": "bef4a561853c4cd7b862c8a6d540fa7f",
       "version_major": 2,
       "version_minor": 0
      },
      "text/plain": [
       "  0%|          | 0/10 [00:00<?, ?it/s]"
      ]
     },
     "metadata": {},
     "output_type": "display_data"
    },
    {
     "name": "stdout",
     "output_type": "stream",
     "text": [
      "key: 6\n"
     ]
    },
    {
     "data": {
      "application/vnd.jupyter.widget-view+json": {
       "model_id": "c19d9726787046c7aa82c58027023d1c",
       "version_major": 2,
       "version_minor": 0
      },
      "text/plain": [
       "  0%|          | 0/10 [00:00<?, ?it/s]"
      ]
     },
     "metadata": {},
     "output_type": "display_data"
    },
    {
     "name": "stdout",
     "output_type": "stream",
     "text": [
      "key: 7\n"
     ]
    },
    {
     "data": {
      "application/vnd.jupyter.widget-view+json": {
       "model_id": "27f9edaca4e64dd39e4d5f133ae4fb6e",
       "version_major": 2,
       "version_minor": 0
      },
      "text/plain": [
       "  0%|          | 0/10 [00:00<?, ?it/s]"
      ]
     },
     "metadata": {},
     "output_type": "display_data"
    },
    {
     "name": "stdout",
     "output_type": "stream",
     "text": [
      "key: 8\n"
     ]
    },
    {
     "data": {
      "application/vnd.jupyter.widget-view+json": {
       "model_id": "e2df72c8121a4f59aaab57934e4f49b5",
       "version_major": 2,
       "version_minor": 0
      },
      "text/plain": [
       "  0%|          | 0/10 [00:00<?, ?it/s]"
      ]
     },
     "metadata": {},
     "output_type": "display_data"
    },
    {
     "name": "stdout",
     "output_type": "stream",
     "text": [
      "key: 9\n"
     ]
    },
    {
     "data": {
      "application/vnd.jupyter.widget-view+json": {
       "model_id": "ea45856d0e4d402e80d4c235faa4446b",
       "version_major": 2,
       "version_minor": 0
      },
      "text/plain": [
       "  0%|          | 0/10 [00:00<?, ?it/s]"
      ]
     },
     "metadata": {},
     "output_type": "display_data"
    },
    {
     "name": "stdout",
     "output_type": "stream",
     "text": [
      "dim: 5\n",
      "key: 0\n"
     ]
    },
    {
     "data": {
      "application/vnd.jupyter.widget-view+json": {
       "model_id": "819da76d851b4185a9e330290716f32c",
       "version_major": 2,
       "version_minor": 0
      },
      "text/plain": [
       "  0%|          | 0/10 [00:00<?, ?it/s]"
      ]
     },
     "metadata": {},
     "output_type": "display_data"
    },
    {
     "name": "stdout",
     "output_type": "stream",
     "text": [
      "key: 1\n"
     ]
    },
    {
     "data": {
      "application/vnd.jupyter.widget-view+json": {
       "model_id": "001dfe2b1bc74c3a8b8fcc96f79bdce3",
       "version_major": 2,
       "version_minor": 0
      },
      "text/plain": [
       "  0%|          | 0/10 [00:00<?, ?it/s]"
      ]
     },
     "metadata": {},
     "output_type": "display_data"
    },
    {
     "name": "stdout",
     "output_type": "stream",
     "text": [
      "key: 2\n"
     ]
    },
    {
     "data": {
      "application/vnd.jupyter.widget-view+json": {
       "model_id": "02fcb9801ff0466ab73a259fbb668838",
       "version_major": 2,
       "version_minor": 0
      },
      "text/plain": [
       "  0%|          | 0/10 [00:00<?, ?it/s]"
      ]
     },
     "metadata": {},
     "output_type": "display_data"
    },
    {
     "name": "stdout",
     "output_type": "stream",
     "text": [
      "key: 3\n"
     ]
    },
    {
     "data": {
      "application/vnd.jupyter.widget-view+json": {
       "model_id": "bb9bd71e04cc41a1a99fe21607f6c0ab",
       "version_major": 2,
       "version_minor": 0
      },
      "text/plain": [
       "  0%|          | 0/10 [00:00<?, ?it/s]"
      ]
     },
     "metadata": {},
     "output_type": "display_data"
    },
    {
     "name": "stdout",
     "output_type": "stream",
     "text": [
      "key: 4\n"
     ]
    },
    {
     "data": {
      "application/vnd.jupyter.widget-view+json": {
       "model_id": "9863962121a7433ab6cac0a9b13eab07",
       "version_major": 2,
       "version_minor": 0
      },
      "text/plain": [
       "  0%|          | 0/10 [00:00<?, ?it/s]"
      ]
     },
     "metadata": {},
     "output_type": "display_data"
    },
    {
     "name": "stdout",
     "output_type": "stream",
     "text": [
      "key: 5\n"
     ]
    },
    {
     "data": {
      "application/vnd.jupyter.widget-view+json": {
       "model_id": "6dce577d8b2b465ca2d9a7eaabb7c220",
       "version_major": 2,
       "version_minor": 0
      },
      "text/plain": [
       "  0%|          | 0/10 [00:00<?, ?it/s]"
      ]
     },
     "metadata": {},
     "output_type": "display_data"
    },
    {
     "name": "stdout",
     "output_type": "stream",
     "text": [
      "key: 6\n"
     ]
    },
    {
     "data": {
      "application/vnd.jupyter.widget-view+json": {
       "model_id": "d45e606f97ca49909d559c3da8638126",
       "version_major": 2,
       "version_minor": 0
      },
      "text/plain": [
       "  0%|          | 0/10 [00:00<?, ?it/s]"
      ]
     },
     "metadata": {},
     "output_type": "display_data"
    },
    {
     "name": "stdout",
     "output_type": "stream",
     "text": [
      "key: 7\n"
     ]
    },
    {
     "data": {
      "application/vnd.jupyter.widget-view+json": {
       "model_id": "72386a5aaf214f35b5fda9bc561e7527",
       "version_major": 2,
       "version_minor": 0
      },
      "text/plain": [
       "  0%|          | 0/10 [00:00<?, ?it/s]"
      ]
     },
     "metadata": {},
     "output_type": "display_data"
    },
    {
     "name": "stdout",
     "output_type": "stream",
     "text": [
      "key: 8\n"
     ]
    },
    {
     "data": {
      "application/vnd.jupyter.widget-view+json": {
       "model_id": "28d79c7bf8e141e2952ed869c716c423",
       "version_major": 2,
       "version_minor": 0
      },
      "text/plain": [
       "  0%|          | 0/10 [00:00<?, ?it/s]"
      ]
     },
     "metadata": {},
     "output_type": "display_data"
    },
    {
     "name": "stdout",
     "output_type": "stream",
     "text": [
      "key: 9\n"
     ]
    },
    {
     "data": {
      "application/vnd.jupyter.widget-view+json": {
       "model_id": "82a63aa270474c4d9d4a1b739707290e",
       "version_major": 2,
       "version_minor": 0
      },
      "text/plain": [
       "  0%|          | 0/10 [00:00<?, ?it/s]"
      ]
     },
     "metadata": {},
     "output_type": "display_data"
    },
    {
     "name": "stdout",
     "output_type": "stream",
     "text": [
      "dim: 10\n",
      "key: 0\n"
     ]
    },
    {
     "data": {
      "application/vnd.jupyter.widget-view+json": {
       "model_id": "05adcaca546840e6a05f0b63269171e9",
       "version_major": 2,
       "version_minor": 0
      },
      "text/plain": [
       "  0%|          | 0/10 [00:00<?, ?it/s]"
      ]
     },
     "metadata": {},
     "output_type": "display_data"
    },
    {
     "name": "stdout",
     "output_type": "stream",
     "text": [
      "key: 1\n"
     ]
    },
    {
     "data": {
      "application/vnd.jupyter.widget-view+json": {
       "model_id": "40841e17eab24338bf35ea0cf8834521",
       "version_major": 2,
       "version_minor": 0
      },
      "text/plain": [
       "  0%|          | 0/10 [00:00<?, ?it/s]"
      ]
     },
     "metadata": {},
     "output_type": "display_data"
    },
    {
     "name": "stdout",
     "output_type": "stream",
     "text": [
      "key: 2\n"
     ]
    },
    {
     "data": {
      "application/vnd.jupyter.widget-view+json": {
       "model_id": "34dc1d4fc21d4bf7917cbe30b737efb2",
       "version_major": 2,
       "version_minor": 0
      },
      "text/plain": [
       "  0%|          | 0/10 [00:00<?, ?it/s]"
      ]
     },
     "metadata": {},
     "output_type": "display_data"
    },
    {
     "name": "stdout",
     "output_type": "stream",
     "text": [
      "key: 3\n"
     ]
    },
    {
     "data": {
      "application/vnd.jupyter.widget-view+json": {
       "model_id": "766ac6dddac0485e83747b0c3017fad1",
       "version_major": 2,
       "version_minor": 0
      },
      "text/plain": [
       "  0%|          | 0/10 [00:00<?, ?it/s]"
      ]
     },
     "metadata": {},
     "output_type": "display_data"
    },
    {
     "name": "stdout",
     "output_type": "stream",
     "text": [
      "key: 4\n"
     ]
    },
    {
     "data": {
      "application/vnd.jupyter.widget-view+json": {
       "model_id": "3d2dd358933244c6bbcb0835dc174543",
       "version_major": 2,
       "version_minor": 0
      },
      "text/plain": [
       "  0%|          | 0/10 [00:00<?, ?it/s]"
      ]
     },
     "metadata": {},
     "output_type": "display_data"
    },
    {
     "name": "stdout",
     "output_type": "stream",
     "text": [
      "key: 5\n"
     ]
    },
    {
     "data": {
      "application/vnd.jupyter.widget-view+json": {
       "model_id": "43c5c16121ad465ea75795d8d3ac2158",
       "version_major": 2,
       "version_minor": 0
      },
      "text/plain": [
       "  0%|          | 0/10 [00:00<?, ?it/s]"
      ]
     },
     "metadata": {},
     "output_type": "display_data"
    },
    {
     "name": "stdout",
     "output_type": "stream",
     "text": [
      "key: 6\n"
     ]
    },
    {
     "data": {
      "application/vnd.jupyter.widget-view+json": {
       "model_id": "f169e5eef51d4f5c9d03dd80a3e3f916",
       "version_major": 2,
       "version_minor": 0
      },
      "text/plain": [
       "  0%|          | 0/10 [00:00<?, ?it/s]"
      ]
     },
     "metadata": {},
     "output_type": "display_data"
    },
    {
     "name": "stdout",
     "output_type": "stream",
     "text": [
      "key: 7\n"
     ]
    },
    {
     "data": {
      "application/vnd.jupyter.widget-view+json": {
       "model_id": "ae02723f6adb4adf9b1aeeeac72989c0",
       "version_major": 2,
       "version_minor": 0
      },
      "text/plain": [
       "  0%|          | 0/10 [00:00<?, ?it/s]"
      ]
     },
     "metadata": {},
     "output_type": "display_data"
    },
    {
     "name": "stdout",
     "output_type": "stream",
     "text": [
      "key: 8\n"
     ]
    },
    {
     "data": {
      "application/vnd.jupyter.widget-view+json": {
       "model_id": "ad927297b8684ee3a236bbc5ed7c9d2c",
       "version_major": 2,
       "version_minor": 0
      },
      "text/plain": [
       "  0%|          | 0/10 [00:00<?, ?it/s]"
      ]
     },
     "metadata": {},
     "output_type": "display_data"
    },
    {
     "name": "stdout",
     "output_type": "stream",
     "text": [
      "key: 9\n"
     ]
    },
    {
     "data": {
      "application/vnd.jupyter.widget-view+json": {
       "model_id": "dd3fd02413ec44049dad5696df57d901",
       "version_major": 2,
       "version_minor": 0
      },
      "text/plain": [
       "  0%|          | 0/10 [00:00<?, ?it/s]"
      ]
     },
     "metadata": {},
     "output_type": "display_data"
    },
    {
     "name": "stdout",
     "output_type": "stream",
     "text": [
      "dim: 20\n",
      "key: 0\n"
     ]
    },
    {
     "data": {
      "application/vnd.jupyter.widget-view+json": {
       "model_id": "0d65e186edcd4982a08a2ffc4a3e559f",
       "version_major": 2,
       "version_minor": 0
      },
      "text/plain": [
       "  0%|          | 0/10 [00:00<?, ?it/s]"
      ]
     },
     "metadata": {},
     "output_type": "display_data"
    },
    {
     "name": "stdout",
     "output_type": "stream",
     "text": [
      "key: 1\n"
     ]
    },
    {
     "data": {
      "application/vnd.jupyter.widget-view+json": {
       "model_id": "483b8ef5e6c746a2948bb9d3a7029fb4",
       "version_major": 2,
       "version_minor": 0
      },
      "text/plain": [
       "  0%|          | 0/10 [00:00<?, ?it/s]"
      ]
     },
     "metadata": {},
     "output_type": "display_data"
    },
    {
     "name": "stdout",
     "output_type": "stream",
     "text": [
      "key: 2\n"
     ]
    },
    {
     "data": {
      "application/vnd.jupyter.widget-view+json": {
       "model_id": "769fd6dbd5dc4b99bebf0c5efdeb3a2d",
       "version_major": 2,
       "version_minor": 0
      },
      "text/plain": [
       "  0%|          | 0/10 [00:00<?, ?it/s]"
      ]
     },
     "metadata": {},
     "output_type": "display_data"
    },
    {
     "name": "stdout",
     "output_type": "stream",
     "text": [
      "key: 3\n"
     ]
    },
    {
     "data": {
      "application/vnd.jupyter.widget-view+json": {
       "model_id": "ea8ce36fd1f14e429ed161533cc9f648",
       "version_major": 2,
       "version_minor": 0
      },
      "text/plain": [
       "  0%|          | 0/10 [00:00<?, ?it/s]"
      ]
     },
     "metadata": {},
     "output_type": "display_data"
    },
    {
     "name": "stdout",
     "output_type": "stream",
     "text": [
      "key: 4\n"
     ]
    },
    {
     "data": {
      "application/vnd.jupyter.widget-view+json": {
       "model_id": "fd4d899710d6402dbf6cf2df4e184465",
       "version_major": 2,
       "version_minor": 0
      },
      "text/plain": [
       "  0%|          | 0/10 [00:00<?, ?it/s]"
      ]
     },
     "metadata": {},
     "output_type": "display_data"
    },
    {
     "name": "stdout",
     "output_type": "stream",
     "text": [
      "key: 5\n"
     ]
    },
    {
     "data": {
      "application/vnd.jupyter.widget-view+json": {
       "model_id": "e30b2462984141d297c4e76c343009d8",
       "version_major": 2,
       "version_minor": 0
      },
      "text/plain": [
       "  0%|          | 0/10 [00:00<?, ?it/s]"
      ]
     },
     "metadata": {},
     "output_type": "display_data"
    },
    {
     "name": "stdout",
     "output_type": "stream",
     "text": [
      "key: 6\n"
     ]
    },
    {
     "data": {
      "application/vnd.jupyter.widget-view+json": {
       "model_id": "2df45fbe499a44a080a1615277bd8a7a",
       "version_major": 2,
       "version_minor": 0
      },
      "text/plain": [
       "  0%|          | 0/10 [00:00<?, ?it/s]"
      ]
     },
     "metadata": {},
     "output_type": "display_data"
    },
    {
     "name": "stdout",
     "output_type": "stream",
     "text": [
      "key: 7\n"
     ]
    },
    {
     "data": {
      "application/vnd.jupyter.widget-view+json": {
       "model_id": "13d2281114a746a78a916f3b7da26899",
       "version_major": 2,
       "version_minor": 0
      },
      "text/plain": [
       "  0%|          | 0/10 [00:00<?, ?it/s]"
      ]
     },
     "metadata": {},
     "output_type": "display_data"
    },
    {
     "name": "stdout",
     "output_type": "stream",
     "text": [
      "key: 8\n"
     ]
    },
    {
     "data": {
      "application/vnd.jupyter.widget-view+json": {
       "model_id": "aec672b504694fb9b12351e109a177b1",
       "version_major": 2,
       "version_minor": 0
      },
      "text/plain": [
       "  0%|          | 0/10 [00:00<?, ?it/s]"
      ]
     },
     "metadata": {},
     "output_type": "display_data"
    },
    {
     "name": "stdout",
     "output_type": "stream",
     "text": [
      "key: 9\n"
     ]
    },
    {
     "data": {
      "application/vnd.jupyter.widget-view+json": {
       "model_id": "9979559331a44ba4b5158cdaff2dcf8c",
       "version_major": 2,
       "version_minor": 0
      },
      "text/plain": [
       "  0%|          | 0/10 [00:00<?, ?it/s]"
      ]
     },
     "metadata": {},
     "output_type": "display_data"
    }
   ],
   "source": [
    "np.random.seed(2024)\n",
    "\n",
    "n = 500\n",
    "n_ls = [n]\n",
    "\n",
    "dim_ls = [1, 5, 10, 20]\n",
    "res_ms_dim = {\"theta\": [], \"population_ksd\": []}\n",
    "for dim in dim_ls:\n",
    "    print(\"dim:\", dim)\n",
    "    \n",
    "    mean_scale_ls = [0.1, 0.2, 0.3, 0.4, 0.45, 0.5, 0.55, 0.6, 1., 5.]\n",
    "    mean_ls = [np.ones((dim,)) * ss for ss in mean_scale_ls]\n",
    "    \n",
    "    # 1.estimate theta\n",
    "    # 1.1 theoretical \n",
    "    theta = population_ksd_ms(mean_ls[5], bandwidth_sq=1.)\n",
    "    # # 1.2 empirical ###\n",
    "    # mean1 = np.zeros((dim,)) # data\n",
    "    # mean2 = mean_ls[5]\n",
    "    \n",
    "    # XX = np.random.multivariate_normal(mean1, np.eye(dim), (2000,))\n",
    "    # score_fn = lambda x: - (x - mean2)\n",
    "\n",
    "    # score_weight_fn = kernels.PolyWeightFunction(loc=mean2)\n",
    "    # kernel0 = kernels.RBF(med_heuristic=True, X=XX, Y=XX)\n",
    "    # kernel = kernels.TiltedKernel(kernel=kernel0, weight_fn=score_weight_fn)\n",
    "    # ksd = metrics.KSD(kernel, score_fn=score_fn)\n",
    "    # theta = (ksd(XX, XX) + 0.01)**0.5\n",
    "    # ###\n",
    "    res_ms_dim[\"theta\"].append(theta)\n",
    "    res_ms_dim[\"population_ksd\"].append([population_ksd_ms(mm) for mm in mean_ls])\n",
    "\n",
    "    # 2. run experiment \n",
    "    res_ms_dim[dim] = rej_rate_meanshift(mean_ls=mean_ls, n_ls=n_ls, theta=theta, nreps=10, bw=\"med\")"
   ]
  },
  {
   "cell_type": "code",
   "execution_count": 155,
   "id": "aad24cde-58cc-4587-b92e-98e08121baf6",
   "metadata": {},
   "outputs": [
    {
     "data": {
      "image/png": "[encoded data removed]",
      "text/plain": [
       "<Figure size 1600x300 with 4 Axes>"
      ]
     },
     "metadata": {},
     "output_type": "display_data"
    }
   ],
   "source": [
    "_, axes = plt.subplots(ncols=len(dim_ls), nrows=1, figsize=(4*len(dim_ls), 3))\n",
    "axes = [axes] if len(dim_ls) == 1 else axes\n",
    "\n",
    "methods = {\"tilted\": \"Tilted\", \"rbf\": \"RBF\", \"tilted_ol_robust\": \"OL-robust\", \"tilted_ball_robust\": \"Ball-robust\"}\n",
    "\n",
    "for i, ax in enumerate(axes):\n",
    "    dim = dim_ls[i]\n",
    "    rr = res_ms_dim[dim]\n",
    "\n",
    "    for method, lab in methods.items():\n",
    "        rej = np.array([np.mean(rr[n][kk][method][\"rej\"]) for kk in range(len(mean_ls))])\n",
    "        ksd = np.array([np.mean(rr[n][kk][method][\"rej\"]) for kk in range(len(mean_ls))])\n",
    "    \n",
    "    rej_tilted = np.array([np.mean(rr[n][kk][\"tilted\"][\"rej\"]) for kk in range(len(mean_ls))])\n",
    "    rej_rbf = np.array([np.mean(rr[n][kk][\"rbf\"][\"rej\"]) for kk in range(len(mean_ls))])\n",
    "    rej_ol_robust = np.array([np.mean(rr[n][kk][\"tilted_ol_robust\"][\"rej\"]) for kk in range(len(mean_ls))])\n",
    "    rej_ball_robust = np.array([np.mean(rr[n][kk][\"tilted_ball_robust\"][\"rej\"]) for kk in range(len(mean_ls))])\n",
    "    rej_ball_clt = np.array([np.mean(rr[n][kk][\"tilted_ball_clt\"][\"rej\"]) for kk in range(len(mean_ls))])\n",
    "    \n",
    "    mean_ls = [np.ones((dim,)) * ss for ss in mean_scale_ls]\n",
    "    ksd_ls = [population_ksd_ms(mm) for mm in mean_ls]\n",
    "    ax.scatter(ksd_ls, rej_tilted, label=\"Tilted\")\n",
    "    ax.scatter(ksd_ls, rej_ol_robust, label=\"OL-robust\", marker=\"+\")\n",
    "    ax.scatter(ksd_ls, rej_ball_robust, label=\"Ball-robust deviation\", marker=5)\n",
    "    ax.scatter(ksd_ls, rej_ball_clt, label=\"Ball-robust CLT\", marker=\"x\") #, marker=6)\n",
    "    theta = rr[n][i][\"tilted_ball_robust\"][\"theta\"][0]\n",
    "    ax.axvline(theta, linestyle=\"-.\", color=\"k\", label=r\"$\\theta$\")\n",
    "    ax.axhline(0.05, linestyle=\"--\", color=\"grey\")\n",
    "    ax.set_xscale(\"log\")\n",
    "    ax.set_ylim(-0.05, 1.05)\n",
    "    ax.set_xlabel(\"KSD\")\n",
    "    ax.set_ylabel(\"Rejection rate\")\n",
    "\n",
    "# ax.legend(loc=\"center left\", bbox_to_anchor=(1, 0.5))\n",
    "ax.legend()\n",
    "plt.tight_layout()\n",
    "# plt.savefig(\"../figs/robust/rej_ms.pdf\")"
   ]
  },
  {
   "cell_type": "code",
   "execution_count": null,
   "id": "f7d832a0-f644-47b5-a61f-e02299ac486b",
   "metadata": {},
   "outputs": [],
   "source": []
  },
  {
   "cell_type": "code",
   "execution_count": null,
   "id": "0f78179a-1267-40e5-b8b8-475b4109cf00",
   "metadata": {},
   "outputs": [],
   "source": []
  },
  {
   "cell_type": "code",
   "execution_count": null,
   "id": "85c98427-6564-489e-9b6b-8f045e1bc346",
   "metadata": {},
   "outputs": [],
   "source": []
  },
  {
   "cell_type": "code",
   "execution_count": 295,
   "id": "9e46f6ca-8083-4eb4-a514-72a7f4a77e7e",
   "metadata": {},
   "outputs": [
    {
     "data": {
      "image/png": "[encoded data removed]",
      "text/plain": [
       "<Figure size 600x300 with 1 Axes>"
      ]
     },
     "metadata": {},
     "output_type": "display_data"
    }
   ],
   "source": [
    "fig, ax = plt.subplots(ncols=1, nrows=1, figsize=(6, 3))\n",
    "\n",
    "methods = {\"tilted\": \"Tilted\", \"rbf\": \"RBF\", \"tilted_ol_robust\": \"OL-robust\", \"tilted_ball_robust\": \"Ball-robust\"}\n",
    "\n",
    "for method, lab in methods.items():\n",
    "    rej = np.array([np.mean(res_ms[n][kk][method][\"rej\"]) for kk in mean_ls])\n",
    "    ksd = np.array([np.mean(res_ms[n][kk][method][\"rej\"]) for kk in mean_ls])\n",
    "\n",
    "rej_tilted = np.array([np.mean(res_ms[n][kk][\"tilted\"][\"rej\"]) for kk in mean_ls])\n",
    "rej_rbf = np.array([np.mean(res_ms[n][kk][\"rbf\"][\"rej\"]) for kk in mean_ls])\n",
    "rej_ol_robust = np.array([np.mean(res_ms[n][kk][\"tilted_ol_robust\"][\"rej\"]) for kk in mean_ls])\n",
    "rej_ball_robust = np.array([np.mean(res_ms[n][kk][\"tilted_ball_robust\"][\"rej\"]) for kk in mean_ls])\n",
    "rej_ball_clt = np.array([np.mean(res_ms[n][kk][\"tilted_ball_clt\"][\"rej\"]) for kk in mean_ls])\n",
    "\n",
    "ksd_ls = [population_ksd_ms(mm) for mm in mean_ls]\n",
    "ax.scatter(ksd_ls, rej_tilted, label=\"Tilted\")\n",
    "ax.scatter(ksd_ls, rej_rbf, label=\"RBF\", marker=\"x\")\n",
    "ax.scatter(ksd_ls, rej_ol_robust, label=\"OL-robust\", marker=\"+\")\n",
    "ax.scatter(ksd_ls, rej_ball_robust, label=\"Ball-robust deviation\", marker=5)\n",
    "ax.scatter(ksd_ls, rej_ball_clt, label=\"Ball-robust CLT\", marker=6)\n",
    "theta = res_ms[n][mean_ls[0]][\"tilted_ball_robust\"][\"theta\"][0]\n",
    "ax.axvline(theta, linestyle=\"-.\", color=\"k\", label=r\"$\\theta$\")\n",
    "ax.axhline(0.05, linestyle=\"--\", color=\"grey\")\n",
    "# ax.set_xscale(\"log\")\n",
    "ax.set_ylim(-0.05, 1.05)\n",
    "ax.set_xlabel(\"KSD\")\n",
    "ax.set_ylabel(\"Rejection rate\")\n",
    "ax.legend(loc=\"center left\", bbox_to_anchor=(1, 0.5))\n",
    "plt.tight_layout()\n",
    "# plt.savefig(\"../figs/robust/rej_ms.pdf\")"
   ]
  },
  {
   "cell_type": "code",
   "execution_count": 143,
   "id": "69e4921c-41fb-49b9-bf74-9d0986e7fb1c",
   "metadata": {},
   "outputs": [
    {
     "name": "stdout",
     "output_type": "stream",
     "text": [
      "key: 0\n"
     ]
    },
    {
     "data": {
      "application/vnd.jupyter.widget-view+json": {
       "model_id": "6768ddf1230b491eaf2044cf02b80687",
       "version_major": 2,
       "version_minor": 0
      },
      "text/plain": [
       "  0%|          | 0/100 [00:00<?, ?it/s]"
      ]
     },
     "metadata": {},
     "output_type": "display_data"
    },
    {
     "data": {
      "application/vnd.jupyter.widget-view+json": {
       "model_id": "63d8ec4c72b440a780516d5c99bc9cb2",
       "version_major": 2,
       "version_minor": 0
      },
      "text/plain": [
       "  0%|          | 0/100 [00:00<?, ?it/s]"
      ]
     },
     "metadata": {},
     "output_type": "display_data"
    },
    {
     "name": "stdout",
     "output_type": "stream",
     "text": [
      "key: 1\n"
     ]
    },
    {
     "data": {
      "application/vnd.jupyter.widget-view+json": {
       "model_id": "f4b9d57b2f6140899bf4a1a5aed0a4bf",
       "version_major": 2,
       "version_minor": 0
      },
      "text/plain": [
       "  0%|          | 0/100 [00:00<?, ?it/s]"
      ]
     },
     "metadata": {},
     "output_type": "display_data"
    },
    {
     "data": {
      "application/vnd.jupyter.widget-view+json": {
       "model_id": "343ac437417e4f33b550311687f9212d",
       "version_major": 2,
       "version_minor": 0
      },
      "text/plain": [
       "  0%|          | 0/100 [00:00<?, ?it/s]"
      ]
     },
     "metadata": {},
     "output_type": "display_data"
    },
    {
     "name": "stdout",
     "output_type": "stream",
     "text": [
      "key: 2\n"
     ]
    },
    {
     "data": {
      "application/vnd.jupyter.widget-view+json": {
       "model_id": "12573072595648108644183efa8913ab",
       "version_major": 2,
       "version_minor": 0
      },
      "text/plain": [
       "  0%|          | 0/100 [00:00<?, ?it/s]"
      ]
     },
     "metadata": {},
     "output_type": "display_data"
    },
    {
     "data": {
      "application/vnd.jupyter.widget-view+json": {
       "model_id": "7fb65e86cf274d38a114d933affd089d",
       "version_major": 2,
       "version_minor": 0
      },
      "text/plain": [
       "  0%|          | 0/100 [00:00<?, ?it/s]"
      ]
     },
     "metadata": {},
     "output_type": "display_data"
    },
    {
     "name": "stderr",
     "output_type": "stream",
     "text": [
      "No artists with labels found to put in legend.  Note that artists whose label start with an underscore are ignored when legend() is called with no argument.\n"
     ]
    },
    {
     "data": {
      "text/plain": [
       "<matplotlib.legend.Legend at 0x7f0084657fd0>"
      ]
     },
     "execution_count": 143,
     "metadata": {},
     "output_type": "execute_result"
    },
    {
     "data": {
      "image/png": "[encoded data removed]",
      "text/plain": [
       "<Figure size 900x400 with 6 Axes>"
      ]
     },
     "metadata": {},
     "output_type": "display_data"
    }
   ],
   "source": [
    "def check_jackknife(mean_ls, n, nreps, dim=1, alpha=0.05):\n",
    "    res = {kk: {\n",
    "        \"jackknife\": [],\n",
    "        \"standard\": [],\n",
    "        \"oracle\": [],\n",
    "    } for kk in range(len(mean_ls))}\n",
    "    res[\"mean_ls\"] = mean_ls\n",
    "    \n",
    "    for i, mean in enumerate(mean_ls):\n",
    "        key = i\n",
    "        print(\"key:\", key)\n",
    "        ###\n",
    "        mean1 = np.zeros((dim,)) # data\n",
    "        mean2 = np.reshape([mean], (-1,)) # model\n",
    "        \n",
    "        Xs = np.random.multivariate_normal(mean1, np.eye(dim), (nreps, n))\n",
    "    \n",
    "        score_fn = lambda x: - (x - mean2)\n",
    "        ###\n",
    "        \n",
    "        for X in tqdm(Xs):\n",
    "            # tilted ball robust CLT\n",
    "            score_weight_fn = kernels.PolyWeightFunction(loc=mean2)\n",
    "            kernel0 = kernels.RBF(sigma_sq=2.)\n",
    "            kernel = kernels.TiltedKernel(kernel=kernel0, weight_fn=score_weight_fn)\n",
    "            ksd = metrics.KSD(kernel, score_fn=score_fn)\n",
    "\n",
    "            # 1\n",
    "            res[key][\"jackknife\"].append(ksd.jackknife(X, X))\n",
    "\n",
    "            # 2\n",
    "            u_mat = ksd(X, X, output_dim=2, vstat=True) # n x n\n",
    "            witness = np.sum(u_mat, axis=1) / n # n\n",
    "            term1 = np.sum(witness**2) / n\n",
    "            term2 = (np.mean(u_mat))**2\n",
    "            res[key][\"standard\"].append(term1 - term2 + 1e-12)\n",
    "\n",
    "        # 3. oracle\n",
    "        # X_ora = np.random.multivariate_normal(mean1, np.eye(dim), (5000,))\n",
    "        # mm = np.mean(u_mat)\n",
    "        # res[key][\"oracle\"] = np.mean((np.sum(u_mat, -1) / n- mm)**2)\n",
    "        \n",
    "        Xs_ora = np.random.multivariate_normal(mean1, np.eye(dim), (100, n))\n",
    "        ksd_val_ls = []\n",
    "        for X in tqdm(Xs_ora):\n",
    "            score_weight_fn = kernels.PolyWeightFunction(loc=mean2)\n",
    "            kernel0 = kernels.RBF(sigma_sq=2.)\n",
    "            kernel = kernels.TiltedKernel(kernel=kernel0, weight_fn=score_weight_fn)\n",
    "            ksd = metrics.KSD(kernel, score_fn=score_fn)\n",
    "            ksd_val = ksd(X, X)\n",
    "            ksd_val_ls.append(ksd_val)\n",
    "        \n",
    "        res[key][\"oracle\"] = np.var(ksd_val_ls) * n\n",
    "            \n",
    "    return res\n",
    "\n",
    "\n",
    "np.random.seed(2024)\n",
    "mean_ls = [0., 0.2, 0.4]\n",
    "mean_ls = [np.reshape([mm], (-1,)) for mm in mean_ls]\n",
    "var_res = check_jackknife(mean_ls=mean_ls, n=n, nreps=100)\n",
    "\n",
    "_, axes = plt.subplots(nrows=2, ncols=3, figsize=(9, 4))\n",
    "for i in range(len(mean_ls)):\n",
    "    ax = axes.flatten()[i]\n",
    "    _ = ax.hist(var_res[i][\"jackknife\"], label=\"jackknife\")\n",
    "    _ = ax.hist(var_res[i][\"standard\"], label=\"standard\")\n",
    "    ax.axvline(var_res[i][\"oracle\"], color=\"k\", label=\"oracle\")\n",
    "\n",
    "plt.legend()"
   ]
  },
  {
   "cell_type": "code",
   "execution_count": null,
   "id": "334f7111-a4c1-4b69-a8ad-3be341638b06",
   "metadata": {},
   "outputs": [],
   "source": []
  },
  {
   "cell_type": "code",
   "execution_count": null,
   "id": "8be001de-9c2f-4fc6-8494-5e4db93bd775",
   "metadata": {},
   "outputs": [],
   "source": []
  },
  {
   "cell_type": "code",
   "execution_count": 111,
   "id": "3b77f5f7-f94e-4640-bcdd-d5c71b4fb866",
   "metadata": {},
   "outputs": [
    {
     "data": {
      "image/png": "[encoded data removed]",
      "text/plain": [
       "<Figure size 600x300 with 2 Axes>"
      ]
     },
     "metadata": {},
     "output_type": "display_data"
    }
   ],
   "source": [
    "figs, axes = plt.subplots(ncols=2, nrows=1, figsize=(6, 3))\n",
    "\n",
    "ax = axes[0]\n",
    "rej_tilted = np.array([np.mean(res_ms[n][kk][\"tilted\"][\"rej\"]) for kk in mean_ls])\n",
    "rej_rbf = np.array([np.mean(res_ms[n][kk][\"rbf\"][\"rej\"]) for kk in mean_ls])\n",
    "rej_ol_robust = np.array([np.mean(res_ms[n][kk][\"tilted_ol_robust\"][\"rej\"]) for kk in mean_ls])\n",
    "rej_ball_robust = np.array([np.mean(res_ms[n][kk][\"tilted_ball_robust\"][\"rej\"]) for kk in mean_ls])\n",
    "\n",
    "ax.scatter(mean_ls, rej_tilted, label=\"tilted\")\n",
    "ax.scatter(mean_ls, rej_rbf, label=\"rbf\", marker=\"x\")\n",
    "ax.scatter(mean_ls, rej_ol_robust, label=\"ol_robust\", marker=\"+\")\n",
    "ax.scatter(mean_ls, rej_ball_robust, label=\"ball_robust\", marker=5)\n",
    "theta = res_ms[n][mean_ls[0]][\"tilted_ball_robust\"][\"threshold\"][0]\n",
    "ax.axvline(theta, linestyle=\"-.\", color=\"k\", label=r\"$\\theta$\")\n",
    "ax.axhline(0.05, linestyle=\"--\", color=\"grey\")\n",
    "# ax.set_xscale(\"log\")\n",
    "ax.set_ylim(-0.05, 1.05)\n",
    "ax.legend()\n",
    "\n",
    "ax = axes[1]\n",
    "ksd_val = [np.mean(res_ms[n][kk][\"rbf\"][\"stat\"])**0.5 for kk in mean_ls]\n",
    "ksd_val_pred = [population_ksd_ms(mm) for mm in mean_ls]\n",
    "ax.scatter(mean_ls, ksd_val, label=\"empirical\")\n",
    "ax.scatter(mean_ls, ksd_val_pred, marker=\"x\", label=\"pred\")\n",
    "# ax.set_xscale(\"log\")\n",
    "ax.legend()\n",
    "\n",
    "plt.tight_layout()"
   ]
  },
  {
   "cell_type": "code",
   "execution_count": null,
   "id": "62d54d7d-d0e0-45df-addf-294b76641f7f",
   "metadata": {},
   "outputs": [],
   "source": []
  },
  {
   "cell_type": "code",
   "execution_count": null,
   "id": "7c00dc33-769f-4195-b9cc-e6c8298bdb92",
   "metadata": {},
   "outputs": [],
   "source": []
  }
 ],
 "metadata": {
  "kernelspec": {
   "display_name": "robust",
   "language": "python",
   "name": "robust"
  },
  "language_info": {
   "codemirror_mode": {
    "name": "ipython",
    "version": 3
   },
   "file_extension": ".py",
   "mimetype": "text/x-python",
   "name": "python",
   "nbconvert_exporter": "python",
   "pygments_lexer": "ipython3",
   "version": "3.8.10"
  }
 },
 "nbformat": 4,
 "nbformat_minor": 5
}
