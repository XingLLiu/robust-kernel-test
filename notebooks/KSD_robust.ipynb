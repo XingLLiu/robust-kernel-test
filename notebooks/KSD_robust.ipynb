{
 "cells": [
  {
   "cell_type": "code",
   "execution_count": 1,
   "id": "87e8e061-2e70-43cb-82be-5c9a5f67c67f",
   "metadata": {},
   "outputs": [],
   "source": [
    "%load_ext autoreload\n",
    "%autoreload 2\n",
    "\n",
    "import numpy as np\n",
    "import matplotlib.pyplot as plt\n",
    "from tqdm.notebook import tqdm, trange\n",
    "import seaborn as sns\n",
    "\n",
    "import src.metrics as metrics\n",
    "import src.kernels as kernels\n",
    "import src.bootstrap as boot"
   ]
  },
  {
   "cell_type": "markdown",
   "id": "b92963ed-cfb8-4f35-82c0-b590ffddb74d",
   "metadata": {},
   "source": [
    "# Outliers (level)"
   ]
  },
  {
   "cell_type": "code",
   "execution_count": 83,
   "id": "dcb29839-95b8-45cc-a414-e5c3ade458c5",
   "metadata": {},
   "outputs": [],
   "source": [
    "def rej_rate_outliers(outlier, n_ls, eps_ls, nreps, dim=1, alpha=0.05):\n",
    "    res = {oo: {kk: {\n",
    "        \"tilted\": {\"stat\": [], \"pval\": [], \"rej\": [], \"boot_stats\": []},\n",
    "        \"rbf\": {\"stat\": [], \"pval\": [], \"rej\": [], \"boot_stats\": []},\n",
    "        \"tilted_ol_robust\": {\"nonsq_stat\": [], \"threshold\": [], \"rej\": []},\n",
    "        \"tilted_ball_robust\": {\"nonsq_stat\": [], \"threshold\": [], \"rej\": []},\n",
    "    } for kk in eps_ls} for oo in n_ls}\n",
    "    res[\"eps_ls\"] = eps_ls\n",
    "    \n",
    "    for n in n_ls:\n",
    "        for eps in eps_ls:\n",
    "            key = eps\n",
    "            print(\"key:\", key)\n",
    "            ###\n",
    "            mean1 = np.zeros((dim,)) # data\n",
    "            mean2 = np.zeros((dim,)) # model\n",
    "            \n",
    "            Xs = np.random.multivariate_normal(mean1, np.eye(dim), (nreps, n))\n",
    "            n_outlier = max(1, int(n * eps))\n",
    "            Xs[:, :n_outlier] = outlier\n",
    "        \n",
    "            score_fn = lambda x: - (x - mean2)\n",
    "            ###\n",
    "    \n",
    "            # tilted\n",
    "            score_weight_fn = kernels.PolyWeightFunction()\n",
    "            kernel0 = kernels.RBF(sigma_sq=2.)\n",
    "            kernel = kernels.TiltedKernel(kernel=kernel0, weight_fn=score_weight_fn)\n",
    "\n",
    "            ksd = metrics.KSD(kernel, score_fn=score_fn)\n",
    "            wild_boot = boot.WildBootstrap(ksd)\n",
    "            for X in tqdm(Xs):                \n",
    "                pval, stat, boot_stats = wild_boot.pval(X, X, return_stat=True, return_boot=True)\n",
    "                res[n][key][\"tilted\"][\"stat\"].append(stat)\n",
    "                res[n][key][\"tilted\"][\"pval\"].append(pval)\n",
    "                res[n][key][\"tilted\"][\"rej\"].append(int(pval < alpha))\n",
    "                res[n][key][\"tilted\"][\"boot_stats\"].append(boot_stats)\n",
    "        \n",
    "            # RBF\n",
    "            kernel = kernels.RBF(sigma_sq=2.)\n",
    "            \n",
    "            ksd = metrics.KSD(kernel, score_fn=score_fn)\n",
    "            wild_boot = boot.WildBootstrap(ksd)\n",
    "            for X in tqdm(Xs):                \n",
    "                pval, stat, boot_stats = wild_boot.pval(X, X, return_stat=True, return_boot=True)\n",
    "                res[n][key][\"rbf\"][\"stat\"].append(stat)\n",
    "                res[n][key][\"rbf\"][\"pval\"].append(pval)\n",
    "                res[n][key][\"rbf\"][\"rej\"].append(int(pval < alpha))\n",
    "                res[n][key][\"rbf\"][\"boot_stats\"].append(boot_stats)\n",
    "\n",
    "            # tilted ol robust\n",
    "            score_weight_fn = kernels.PolyWeightFunction()\n",
    "            kernel0 = kernels.RBF(sigma_sq=2.)\n",
    "            kernel = kernels.TiltedKernel(kernel=kernel0, weight_fn=score_weight_fn)\n",
    "\n",
    "            ksd = metrics.KSD(kernel, score_fn=score_fn)\n",
    "            threshold = ksd.test_threshold(n=n, eps0=eps, alpha=alpha, method=\"ol_robust\")\n",
    "            for X in tqdm(Xs):\n",
    "                stat = ksd(X, X, vstat=True) # squared-KSD\n",
    "                stat = stat**0.5\n",
    "                res[n][key][\"tilted_ol_robust\"][\"nonsq_stat\"].append(stat)\n",
    "                res[n][key][\"tilted_ol_robust\"][\"threshold\"].append(threshold)\n",
    "                res[n][key][\"tilted_ol_robust\"][\"rej\"].append(int(stat > threshold))\n",
    "\n",
    "            # tilted ball robust\n",
    "            score_weight_fn = kernels.PolyWeightFunction()\n",
    "            kernel0 = kernels.RBF(sigma_sq=2.)\n",
    "            kernel = kernels.TiltedKernel(kernel=kernel0, weight_fn=score_weight_fn)\n",
    "\n",
    "            ksd = metrics.KSD(kernel, score_fn=score_fn)\n",
    "            threshold = ksd.test_threshold(n=n, eps0=eps, theta=\"ol\", alpha=alpha, method=\"ball_robust\")\n",
    "            for X in tqdm(Xs):\n",
    "                stat = ksd(X, X, vstat=True) # squared-KSD\n",
    "                stat = stat**0.5\n",
    "                res[n][key][\"tilted_ball_robust\"][\"nonsq_stat\"].append(stat)\n",
    "                res[n][key][\"tilted_ball_robust\"][\"threshold\"].append(threshold)\n",
    "                res[n][key][\"tilted_ball_robust\"][\"rej\"].append(int(stat > threshold))\n",
    "                \n",
    "    return res"
   ]
  },
  {
   "cell_type": "code",
   "execution_count": 84,
   "id": "a4ccff27-61e1-4bbb-a190-e125a2bce753",
   "metadata": {},
   "outputs": [],
   "source": [
    "np.random.seed(2024)\n",
    "\n",
    "n = 500\n",
    "n_ls = [n] # [100, 500, 1000]\n",
    "eps_ls = [0.1, 0.05, 0.01, 0.005] # [0.01, 0.1]"
   ]
  },
  {
   "cell_type": "code",
   "execution_count": null,
   "id": "5734494b-2395-4879-a475-c9869471c7f0",
   "metadata": {
    "scrolled": true
   },
   "outputs": [
    {
     "name": "stdout",
     "output_type": "stream",
     "text": [
      "key: 0.1\n"
     ]
    },
    {
     "data": {
      "application/vnd.jupyter.widget-view+json": {
       "model_id": "cf192ff82e9140e590a777a43ea167a3",
       "version_major": 2,
       "version_minor": 0
      },
      "text/plain": [
       "  0%|          | 0/100 [00:00<?, ?it/s]"
      ]
     },
     "metadata": {},
     "output_type": "display_data"
    },
    {
     "data": {
      "application/vnd.jupyter.widget-view+json": {
       "model_id": "8b726076c00548b8a8c3974661b60fdc",
       "version_major": 2,
       "version_minor": 0
      },
      "text/plain": [
       "  0%|          | 0/100 [00:00<?, ?it/s]"
      ]
     },
     "metadata": {},
     "output_type": "display_data"
    },
    {
     "data": {
      "application/vnd.jupyter.widget-view+json": {
       "model_id": "d44fdf1921a843c78e752945d0393e1f",
       "version_major": 2,
       "version_minor": 0
      },
      "text/plain": [
       "  0%|          | 0/100 [00:00<?, ?it/s]"
      ]
     },
     "metadata": {},
     "output_type": "display_data"
    },
    {
     "data": {
      "application/vnd.jupyter.widget-view+json": {
       "model_id": "f29b01da61e04ee4b84ec3b66fcc0423",
       "version_major": 2,
       "version_minor": 0
      },
      "text/plain": [
       "  0%|          | 0/100 [00:00<?, ?it/s]"
      ]
     },
     "metadata": {},
     "output_type": "display_data"
    },
    {
     "name": "stdout",
     "output_type": "stream",
     "text": [
      "key: 0.05\n"
     ]
    },
    {
     "data": {
      "application/vnd.jupyter.widget-view+json": {
       "model_id": "98328fdf42a64c3e96ea006e3717c81e",
       "version_major": 2,
       "version_minor": 0
      },
      "text/plain": [
       "  0%|          | 0/100 [00:00<?, ?it/s]"
      ]
     },
     "metadata": {},
     "output_type": "display_data"
    },
    {
     "data": {
      "application/vnd.jupyter.widget-view+json": {
       "model_id": "14ac64d202ba48f9aee4411b13739f69",
       "version_major": 2,
       "version_minor": 0
      },
      "text/plain": [
       "  0%|          | 0/100 [00:00<?, ?it/s]"
      ]
     },
     "metadata": {},
     "output_type": "display_data"
    },
    {
     "data": {
      "application/vnd.jupyter.widget-view+json": {
       "model_id": "5c05c57bb7d741c38cf7001c78666f12",
       "version_major": 2,
       "version_minor": 0
      },
      "text/plain": [
       "  0%|          | 0/100 [00:00<?, ?it/s]"
      ]
     },
     "metadata": {},
     "output_type": "display_data"
    },
    {
     "data": {
      "application/vnd.jupyter.widget-view+json": {
       "model_id": "b1db4269d1f140a08a8b72c58bd7970f",
       "version_major": 2,
       "version_minor": 0
      },
      "text/plain": [
       "  0%|          | 0/100 [00:00<?, ?it/s]"
      ]
     },
     "metadata": {},
     "output_type": "display_data"
    },
    {
     "name": "stdout",
     "output_type": "stream",
     "text": [
      "key: 0.01\n"
     ]
    },
    {
     "data": {
      "application/vnd.jupyter.widget-view+json": {
       "model_id": "3fcbdcb4b4834019b895a8c607c20e65",
       "version_major": 2,
       "version_minor": 0
      },
      "text/plain": [
       "  0%|          | 0/100 [00:00<?, ?it/s]"
      ]
     },
     "metadata": {},
     "output_type": "display_data"
    },
    {
     "data": {
      "application/vnd.jupyter.widget-view+json": {
       "model_id": "37561cfe989d4cb1a43fad0617e7a6ac",
       "version_major": 2,
       "version_minor": 0
      },
      "text/plain": [
       "  0%|          | 0/100 [00:00<?, ?it/s]"
      ]
     },
     "metadata": {},
     "output_type": "display_data"
    },
    {
     "data": {
      "application/vnd.jupyter.widget-view+json": {
       "model_id": "fa6e11e2424c4c20892afb992b19eb1a",
       "version_major": 2,
       "version_minor": 0
      },
      "text/plain": [
       "  0%|          | 0/100 [00:00<?, ?it/s]"
      ]
     },
     "metadata": {},
     "output_type": "display_data"
    },
    {
     "data": {
      "application/vnd.jupyter.widget-view+json": {
       "model_id": "2f483cd7254444969b99f17d71033b07",
       "version_major": 2,
       "version_minor": 0
      },
      "text/plain": [
       "  0%|          | 0/100 [00:00<?, ?it/s]"
      ]
     },
     "metadata": {},
     "output_type": "display_data"
    },
    {
     "name": "stdout",
     "output_type": "stream",
     "text": [
      "key: 0.005\n"
     ]
    },
    {
     "data": {
      "application/vnd.jupyter.widget-view+json": {
       "model_id": "c5a601c0e94840ee810ea0cc9f3ad5f3",
       "version_major": 2,
       "version_minor": 0
      },
      "text/plain": [
       "  0%|          | 0/100 [00:00<?, ?it/s]"
      ]
     },
     "metadata": {},
     "output_type": "display_data"
    },
    {
     "data": {
      "application/vnd.jupyter.widget-view+json": {
       "model_id": "478a47a8b5b5437f966db6fbe8533dec",
       "version_major": 2,
       "version_minor": 0
      },
      "text/plain": [
       "  0%|          | 0/100 [00:00<?, ?it/s]"
      ]
     },
     "metadata": {},
     "output_type": "display_data"
    },
    {
     "data": {
      "application/vnd.jupyter.widget-view+json": {
       "model_id": "2bf5f273124542a381dec33743899114",
       "version_major": 2,
       "version_minor": 0
      },
      "text/plain": [
       "  0%|          | 0/100 [00:00<?, ?it/s]"
      ]
     },
     "metadata": {},
     "output_type": "display_data"
    }
   ],
   "source": [
    "outlier_ls = [0.1, 1., 10., 100.]\n",
    "res_ol = {}\n",
    "for outlier in outlier_ls:\n",
    "    sub_res_ol = rej_rate_outliers(outlier, n_ls, eps_ls, nreps=100)\n",
    "    res_ol[outlier] = sub_res_ol"
   ]
  },
  {
   "cell_type": "code",
   "execution_count": 86,
   "id": "9d0825b7-8a8b-425c-99fe-b52456853f1b",
   "metadata": {},
   "outputs": [
    {
     "data": {
      "image/png": "[encoded data removed]",
      "text/plain": [
       "<Figure size 1200x300 with 4 Axes>"
      ]
     },
     "metadata": {},
     "output_type": "display_data"
    }
   ],
   "source": [
    "figs, axes = plt.subplots(ncols=len(eps_ls), nrows=1, figsize=(3*len(eps_ls), 3))\n",
    "            \n",
    "for j in range(len(eps_ls)):\n",
    "    ax = axes[j]\n",
    "    rej_tilted = np.array([np.mean(res_ol[ww][n][eps_ls[j]][\"tilted\"][\"rej\"]) for ww in outlier_ls])\n",
    "    rej_rbf = np.array([np.mean(res_ol[ww][n][eps_ls[j]][\"rbf\"][\"rej\"]) for ww in outlier_ls])\n",
    "    rej_ol_robust = np.array([np.mean(res_ol[ww][n][eps_ls[j]][\"tilted_ol_robust\"][\"rej\"]) for ww in outlier_ls])\n",
    "    rej_ball_robust = np.array([np.mean(res_ol[ww][n][eps_ls[j]][\"tilted_ball_robust\"][\"rej\"]) for ww in outlier_ls])\n",
    "\n",
    "    ax.scatter(outlier_ls, rej_tilted, label=\"tilted\")\n",
    "    ax.scatter(outlier_ls, rej_rbf, label=\"rbf\", marker=\"x\")\n",
    "    ax.scatter(outlier_ls, rej_ol_robust, label=\"ol_robust\", marker=\"+\")\n",
    "    ax.scatter(outlier_ls, rej_ball_robust, label=\"ball_robust\", marker=5)\n",
    "    ax.axhline(0.05, linestyle=\"--\", color=\"grey\")\n",
    "    ax.set_title(rf\"$\\epsilon$={eps_ls[j]}\")\n",
    "    ax.set_xscale(\"log\")\n",
    "    ax.set_ylim(-0.05, 1.05)\n",
    "    # ax.set_ylabel(\"\")\n",
    "    # ax.set_xlabel(\"\")\n",
    "\n",
    "axes.flatten()[0].legend()\n",
    "plt.tight_layout()"
   ]
  },
  {
   "cell_type": "code",
   "execution_count": 45,
   "id": "9644858f-e329-450f-8830-18e538c11162",
   "metadata": {},
   "outputs": [
    {
     "data": {
      "image/png": "[encoded data removed]",
      "text/plain": [
       "<Figure size 800x800 with 16 Axes>"
      ]
     },
     "metadata": {},
     "output_type": "display_data"
    }
   ],
   "source": [
    "figs, axes = plt.subplots(ncols=len(eps_ls), nrows=len(outlier_ls), figsize=(2*len(eps_ls), 2*len(outlier_ls)))\n",
    "\n",
    "for i in range(len(outlier_ls)):\n",
    "    for j in range(len(eps_ls)):\n",
    "        ax = axes[i][j]\n",
    "        sns.ecdfplot(ax=ax, x=np.array(res_ol[outlier_ls[i]][n][eps_ls[j]][\"tilted\"][\"pval\"]), label=\"Tilted\")\n",
    "        sns.ecdfplot(ax=ax, x=np.array(res_ol[outlier_ls[i]][n][eps_ls[j]][\"rbf\"][\"pval\"]), label=\"RBF\")\n",
    "        ax.plot([0., 1.], [0., 1.], linestyle=\"--\", color=\"grey\")\n",
    "        ax.set_xlim(-0.01, 1.01)\n",
    "        ax.set_ylim(-0.01, 1.01)\n",
    "        ax.set_title(rf\"$w$={outlier_ls[i]}; $\\epsilon$={eps_ls[j]}\")\n",
    "        ax.set_ylabel(\"\")\n",
    "        ax.set_xlabel(\"\")\n",
    "        \n",
    "        if i < len(outlier_ls) - 1:\n",
    "            ax.get_xaxis().set_ticks([])\n",
    "        if j > 0:\n",
    "            ax.get_yaxis().set_ticks([])\n",
    "        if j == 0:\n",
    "            ax.set_ylabel(\"Proportion\")\n",
    "        if i == len(outlier_ls) - 1:\n",
    "            ax.set_xlabel(r\"$p$-value\")\n",
    "        # if j == len(eps_ls) - 1:\n",
    "        #     ax.twinx().set_ylabel(f\"eps={eps_ls[j]}\")\n",
    "        #     ax.twinx().get_yaxis().set_ticks([])\n",
    "\n",
    "axes.flatten()[0].legend(loc=\"lower right\")\n",
    "plt.tight_layout()"
   ]
  },
  {
   "cell_type": "markdown",
   "id": "67f16fc9-0255-41a8-9bb8-8d539d065f30",
   "metadata": {},
   "source": [
    "# Mean-shift (power)"
   ]
  },
  {
   "cell_type": "code",
   "execution_count": 94,
   "id": "7ac4c1eb-5d89-4f8e-b34b-ac7288b611df",
   "metadata": {},
   "outputs": [],
   "source": [
    "def rej_rate_meanshift(mean_ls, n_ls, nreps, eps0, dim=1, alpha=0.05):\n",
    "    res = {nn: {kk: {\n",
    "        \"tilted\": {\"stat\": [], \"pval\": [], \"rej\": [], \"boot_stats\": []},\n",
    "        \"rbf\": {\"stat\": [], \"pval\": [], \"rej\": [], \"boot_stats\": []},\n",
    "        \"tilted_ol_robust\": {\"nonsq_stat\": [], \"threshold\": [], \"rej\": []},\n",
    "        \"tilted_ball_robust\": {\"nonsq_stat\": [], \"threshold\": [], \"rej\": []},\n",
    "    } for kk in mean_ls} for nn in n_ls}\n",
    "    res[\"mean_ls\"] = eps_ls\n",
    "    \n",
    "    for n in n_ls:\n",
    "        for mean in mean_ls:\n",
    "            key = mean\n",
    "            print(\"key:\", key)\n",
    "            ###\n",
    "            mean1 = np.zeros((dim,)) # data\n",
    "            mean2 = np.reshape([mean], (-1,)) # model\n",
    "            \n",
    "            Xs = np.random.multivariate_normal(mean1, np.eye(dim), (nreps, n))\n",
    "        \n",
    "            score_fn = lambda x: - (x - mean2)\n",
    "            ###\n",
    "    \n",
    "            # tilted\n",
    "            score_weight_fn = kernels.PolyWeightFunction()\n",
    "            kernel0 = kernels.RBF(sigma_sq=2.)\n",
    "            kernel = kernels.TiltedKernel(kernel=kernel0, weight_fn=score_weight_fn)\n",
    "\n",
    "            ksd = metrics.KSD(kernel, score_fn=score_fn)\n",
    "            wild_boot = boot.WildBootstrap(ksd)\n",
    "            for X in tqdm(Xs):                \n",
    "                pval, stat, boot_stats = wild_boot.pval(X, X, return_stat=True, return_boot=True)\n",
    "                res[n][key][\"tilted\"][\"stat\"].append(stat)\n",
    "                res[n][key][\"tilted\"][\"pval\"].append(pval)\n",
    "                res[n][key][\"tilted\"][\"rej\"].append(int(pval < alpha))\n",
    "                res[n][key][\"tilted\"][\"boot_stats\"].append(boot_stats)\n",
    "        \n",
    "            # RBF\n",
    "            kernel = kernels.RBF(sigma_sq=2.)\n",
    "            \n",
    "            ksd = metrics.KSD(kernel, score_fn=score_fn)\n",
    "            wild_boot = boot.WildBootstrap(ksd)\n",
    "            for X in tqdm(Xs):                \n",
    "                pval, stat, boot_stats = wild_boot.pval(X, X, return_stat=True, return_boot=True)\n",
    "                res[n][key][\"rbf\"][\"stat\"].append(stat)\n",
    "                res[n][key][\"rbf\"][\"pval\"].append(pval)\n",
    "                res[n][key][\"rbf\"][\"rej\"].append(int(pval < alpha))\n",
    "                res[n][key][\"rbf\"][\"boot_stats\"].append(boot_stats)\n",
    "\n",
    "            # tilted ol robust\n",
    "            score_weight_fn = kernels.PolyWeightFunction()\n",
    "            kernel0 = kernels.RBF(sigma_sq=2.)\n",
    "            kernel = kernels.TiltedKernel(kernel=kernel0, weight_fn=score_weight_fn)\n",
    "\n",
    "            ksd = metrics.KSD(kernel, score_fn=score_fn)\n",
    "            threshold = ksd.test_threshold(n=n, eps0=eps0, alpha=alpha, method=\"ol_robust\")\n",
    "            res[n][key][\"tilted_ol_robust\"][\"threshold\"].append(threshold)\n",
    "            for X in tqdm(Xs):\n",
    "                stat = ksd(X, X, vstat=True) # squared-KSD\n",
    "                stat = stat**0.5\n",
    "                res[n][key][\"tilted_ol_robust\"][\"nonsq_stat\"].append(stat)\n",
    "                res[n][key][\"tilted_ol_robust\"][\"rej\"].append(int(stat > threshold))\n",
    "                \n",
    "            # tilted ball robust\n",
    "            score_weight_fn = kernels.PolyWeightFunction()\n",
    "            kernel0 = kernels.RBF(sigma_sq=2.)\n",
    "            kernel = kernels.TiltedKernel(kernel=kernel0, weight_fn=score_weight_fn)\n",
    "\n",
    "            ksd = metrics.KSD(kernel, score_fn=score_fn)\n",
    "            threshold = ksd.test_threshold(n=n, eps0=eps0, theta=\"ol\", alpha=alpha, method=\"ball_robust\")\n",
    "            res[n][key][\"tilted_ball_robust\"][\"threshold\"].append(threshold)\n",
    "            for X in tqdm(Xs):\n",
    "                stat = ksd(X, X, vstat=True) # squared-KSD\n",
    "                stat = stat**0.5\n",
    "                res[n][key][\"tilted_ball_robust\"][\"nonsq_stat\"].append(stat)\n",
    "                res[n][key][\"tilted_ball_robust\"][\"rej\"].append(int(stat > threshold))                \n",
    "    \n",
    "    return res"
   ]
  },
  {
   "cell_type": "code",
   "execution_count": 87,
   "id": "dfaab3c5-01be-405f-a066-ec6216fcea5b",
   "metadata": {},
   "outputs": [],
   "source": [
    "def population_ksd_ms(mean, bandwidth_sq=1.):\n",
    "    \"\"\"Non-squared KSD\"\"\"\n",
    "    mu = np.reshape([mean], (-1,))\n",
    "    d = mu.shape[0]\n",
    "    mu_norm = np.sqrt(np.sum(mu**2))\n",
    "    return (bandwidth_sq / (bandwidth_sq + 2))**(d/4) * mu_norm\n",
    "\n",
    "def inverse_population_ksd_ms(val, dim, bandwidth_sq=1.):\n",
    "    \"\"\"val is the non-squared KSD\"\"\"\n",
    "    mu_norm = val * (bandwidth_sq / (bandwidth_sq + 2))**(-dim/4)\n",
    "    return mu_norm"
   ]
  },
  {
   "cell_type": "code",
   "execution_count": 107,
   "id": "f1d57ca0-7a7f-422a-b852-d045290b90b9",
   "metadata": {},
   "outputs": [],
   "source": [
    "np.random.seed(2024)\n",
    "\n",
    "n = 500\n",
    "n_ls = [n]\n",
    "# mean_ls = [0.1, 1., 10., 100.]\n",
    "mean_ls = [0., 0.1, 0.2, 0.3, 0.4, 0.5, 0.6, 0.7, 0.8, 0.9, 1.]\n",
    "\n",
    "eps0 = 0.01"
   ]
  },
  {
   "cell_type": "code",
   "execution_count": 108,
   "id": "f205a06c-c8da-4a36-8ee0-31f5cb990892",
   "metadata": {
    "scrolled": true
   },
   "outputs": [
    {
     "name": "stdout",
     "output_type": "stream",
     "text": [
      "key: 0.0\n"
     ]
    },
    {
     "data": {
      "application/vnd.jupyter.widget-view+json": {
       "model_id": "9634010eb6e24ad6bba8963e044116de",
       "version_major": 2,
       "version_minor": 0
      },
      "text/plain": [
       "  0%|          | 0/100 [00:00<?, ?it/s]"
      ]
     },
     "metadata": {},
     "output_type": "display_data"
    },
    {
     "data": {
      "application/vnd.jupyter.widget-view+json": {
       "model_id": "d3b03e8e13c64b70959b6eeb7cbf8707",
       "version_major": 2,
       "version_minor": 0
      },
      "text/plain": [
       "  0%|          | 0/100 [00:00<?, ?it/s]"
      ]
     },
     "metadata": {},
     "output_type": "display_data"
    },
    {
     "data": {
      "application/vnd.jupyter.widget-view+json": {
       "model_id": "8fda981b30ef4df79312166b8b05e62c",
       "version_major": 2,
       "version_minor": 0
      },
      "text/plain": [
       "  0%|          | 0/100 [00:00<?, ?it/s]"
      ]
     },
     "metadata": {},
     "output_type": "display_data"
    },
    {
     "data": {
      "application/vnd.jupyter.widget-view+json": {
       "model_id": "20715fd1c0534ea6b8beb807475468b5",
       "version_major": 2,
       "version_minor": 0
      },
      "text/plain": [
       "  0%|          | 0/100 [00:00<?, ?it/s]"
      ]
     },
     "metadata": {},
     "output_type": "display_data"
    },
    {
     "name": "stdout",
     "output_type": "stream",
     "text": [
      "key: 0.1\n"
     ]
    },
    {
     "data": {
      "application/vnd.jupyter.widget-view+json": {
       "model_id": "28b22b97d14b407d8c76f36762a36d50",
       "version_major": 2,
       "version_minor": 0
      },
      "text/plain": [
       "  0%|          | 0/100 [00:00<?, ?it/s]"
      ]
     },
     "metadata": {},
     "output_type": "display_data"
    },
    {
     "data": {
      "application/vnd.jupyter.widget-view+json": {
       "model_id": "f1c306e02d6f4af58c69555aad8484e6",
       "version_major": 2,
       "version_minor": 0
      },
      "text/plain": [
       "  0%|          | 0/100 [00:00<?, ?it/s]"
      ]
     },
     "metadata": {},
     "output_type": "display_data"
    },
    {
     "data": {
      "application/vnd.jupyter.widget-view+json": {
       "model_id": "f01dd1aa912947f1a7181d2db161320f",
       "version_major": 2,
       "version_minor": 0
      },
      "text/plain": [
       "  0%|          | 0/100 [00:00<?, ?it/s]"
      ]
     },
     "metadata": {},
     "output_type": "display_data"
    },
    {
     "data": {
      "application/vnd.jupyter.widget-view+json": {
       "model_id": "3983661d67824b0597d479df087c7968",
       "version_major": 2,
       "version_minor": 0
      },
      "text/plain": [
       "  0%|          | 0/100 [00:00<?, ?it/s]"
      ]
     },
     "metadata": {},
     "output_type": "display_data"
    },
    {
     "name": "stdout",
     "output_type": "stream",
     "text": [
      "key: 0.2\n"
     ]
    },
    {
     "data": {
      "application/vnd.jupyter.widget-view+json": {
       "model_id": "fe3722bf9d9d462cba0fd0513661b426",
       "version_major": 2,
       "version_minor": 0
      },
      "text/plain": [
       "  0%|          | 0/100 [00:00<?, ?it/s]"
      ]
     },
     "metadata": {},
     "output_type": "display_data"
    },
    {
     "data": {
      "application/vnd.jupyter.widget-view+json": {
       "model_id": "897d118e249f4e19ae5ebfe1a6b26119",
       "version_major": 2,
       "version_minor": 0
      },
      "text/plain": [
       "  0%|          | 0/100 [00:00<?, ?it/s]"
      ]
     },
     "metadata": {},
     "output_type": "display_data"
    },
    {
     "data": {
      "application/vnd.jupyter.widget-view+json": {
       "model_id": "c96867c4d74541949c41ff7e85b33ff3",
       "version_major": 2,
       "version_minor": 0
      },
      "text/plain": [
       "  0%|          | 0/100 [00:00<?, ?it/s]"
      ]
     },
     "metadata": {},
     "output_type": "display_data"
    },
    {
     "data": {
      "application/vnd.jupyter.widget-view+json": {
       "model_id": "61f65ff892fb4c70870f87453aef1e22",
       "version_major": 2,
       "version_minor": 0
      },
      "text/plain": [
       "  0%|          | 0/100 [00:00<?, ?it/s]"
      ]
     },
     "metadata": {},
     "output_type": "display_data"
    },
    {
     "name": "stdout",
     "output_type": "stream",
     "text": [
      "key: 0.3\n"
     ]
    },
    {
     "data": {
      "application/vnd.jupyter.widget-view+json": {
       "model_id": "b18d3a98520b4ba682e18ad3c1ca1b2d",
       "version_major": 2,
       "version_minor": 0
      },
      "text/plain": [
       "  0%|          | 0/100 [00:00<?, ?it/s]"
      ]
     },
     "metadata": {},
     "output_type": "display_data"
    },
    {
     "data": {
      "application/vnd.jupyter.widget-view+json": {
       "model_id": "f02591c33c804d44900616642a722e71",
       "version_major": 2,
       "version_minor": 0
      },
      "text/plain": [
       "  0%|          | 0/100 [00:00<?, ?it/s]"
      ]
     },
     "metadata": {},
     "output_type": "display_data"
    },
    {
     "data": {
      "application/vnd.jupyter.widget-view+json": {
       "model_id": "a594f41652a14f4fa4629bd149ba075a",
       "version_major": 2,
       "version_minor": 0
      },
      "text/plain": [
       "  0%|          | 0/100 [00:00<?, ?it/s]"
      ]
     },
     "metadata": {},
     "output_type": "display_data"
    },
    {
     "data": {
      "application/vnd.jupyter.widget-view+json": {
       "model_id": "1afb976178074706871cb911a3092558",
       "version_major": 2,
       "version_minor": 0
      },
      "text/plain": [
       "  0%|          | 0/100 [00:00<?, ?it/s]"
      ]
     },
     "metadata": {},
     "output_type": "display_data"
    },
    {
     "name": "stdout",
     "output_type": "stream",
     "text": [
      "key: 0.4\n"
     ]
    },
    {
     "data": {
      "application/vnd.jupyter.widget-view+json": {
       "model_id": "1307a1a4b3394e6085d8621feef99302",
       "version_major": 2,
       "version_minor": 0
      },
      "text/plain": [
       "  0%|          | 0/100 [00:00<?, ?it/s]"
      ]
     },
     "metadata": {},
     "output_type": "display_data"
    },
    {
     "data": {
      "application/vnd.jupyter.widget-view+json": {
       "model_id": "c6b4704e6a354f81b39b52f71345dbae",
       "version_major": 2,
       "version_minor": 0
      },
      "text/plain": [
       "  0%|          | 0/100 [00:00<?, ?it/s]"
      ]
     },
     "metadata": {},
     "output_type": "display_data"
    },
    {
     "data": {
      "application/vnd.jupyter.widget-view+json": {
       "model_id": "565abe5657dd4a1a80cbb980452904a7",
       "version_major": 2,
       "version_minor": 0
      },
      "text/plain": [
       "  0%|          | 0/100 [00:00<?, ?it/s]"
      ]
     },
     "metadata": {},
     "output_type": "display_data"
    },
    {
     "data": {
      "application/vnd.jupyter.widget-view+json": {
       "model_id": "f6117a208ff94ba993d35f57b9c373fc",
       "version_major": 2,
       "version_minor": 0
      },
      "text/plain": [
       "  0%|          | 0/100 [00:00<?, ?it/s]"
      ]
     },
     "metadata": {},
     "output_type": "display_data"
    },
    {
     "name": "stdout",
     "output_type": "stream",
     "text": [
      "key: 0.5\n"
     ]
    },
    {
     "data": {
      "application/vnd.jupyter.widget-view+json": {
       "model_id": "4cda2f8b531f431b9f59f79cc782be8d",
       "version_major": 2,
       "version_minor": 0
      },
      "text/plain": [
       "  0%|          | 0/100 [00:00<?, ?it/s]"
      ]
     },
     "metadata": {},
     "output_type": "display_data"
    },
    {
     "data": {
      "application/vnd.jupyter.widget-view+json": {
       "model_id": "38241a3483f74a3fb95957ee9591f016",
       "version_major": 2,
       "version_minor": 0
      },
      "text/plain": [
       "  0%|          | 0/100 [00:00<?, ?it/s]"
      ]
     },
     "metadata": {},
     "output_type": "display_data"
    },
    {
     "data": {
      "application/vnd.jupyter.widget-view+json": {
       "model_id": "f0b4cf047dec484c99cdb1115ccbf90f",
       "version_major": 2,
       "version_minor": 0
      },
      "text/plain": [
       "  0%|          | 0/100 [00:00<?, ?it/s]"
      ]
     },
     "metadata": {},
     "output_type": "display_data"
    },
    {
     "data": {
      "application/vnd.jupyter.widget-view+json": {
       "model_id": "66120d5709fc4bfd99cfe47fcc8911a1",
       "version_major": 2,
       "version_minor": 0
      },
      "text/plain": [
       "  0%|          | 0/100 [00:00<?, ?it/s]"
      ]
     },
     "metadata": {},
     "output_type": "display_data"
    },
    {
     "name": "stdout",
     "output_type": "stream",
     "text": [
      "key: 0.6\n"
     ]
    },
    {
     "data": {
      "application/vnd.jupyter.widget-view+json": {
       "model_id": "c167ce507055480d8ae3f8d4caaf530c",
       "version_major": 2,
       "version_minor": 0
      },
      "text/plain": [
       "  0%|          | 0/100 [00:00<?, ?it/s]"
      ]
     },
     "metadata": {},
     "output_type": "display_data"
    },
    {
     "data": {
      "application/vnd.jupyter.widget-view+json": {
       "model_id": "62cf115949504101a4e23b72af83307f",
       "version_major": 2,
       "version_minor": 0
      },
      "text/plain": [
       "  0%|          | 0/100 [00:00<?, ?it/s]"
      ]
     },
     "metadata": {},
     "output_type": "display_data"
    },
    {
     "data": {
      "application/vnd.jupyter.widget-view+json": {
       "model_id": "c597b6799977489890b6fee61adac9d0",
       "version_major": 2,
       "version_minor": 0
      },
      "text/plain": [
       "  0%|          | 0/100 [00:00<?, ?it/s]"
      ]
     },
     "metadata": {},
     "output_type": "display_data"
    },
    {
     "data": {
      "application/vnd.jupyter.widget-view+json": {
       "model_id": "2e126b217d504ca6b32abe6f5009df5b",
       "version_major": 2,
       "version_minor": 0
      },
      "text/plain": [
       "  0%|          | 0/100 [00:00<?, ?it/s]"
      ]
     },
     "metadata": {},
     "output_type": "display_data"
    },
    {
     "name": "stdout",
     "output_type": "stream",
     "text": [
      "key: 0.7\n"
     ]
    },
    {
     "data": {
      "application/vnd.jupyter.widget-view+json": {
       "model_id": "c7d25389e3b44ee4b948e2d0536392b2",
       "version_major": 2,
       "version_minor": 0
      },
      "text/plain": [
       "  0%|          | 0/100 [00:00<?, ?it/s]"
      ]
     },
     "metadata": {},
     "output_type": "display_data"
    },
    {
     "data": {
      "application/vnd.jupyter.widget-view+json": {
       "model_id": "c437002c5a1f4f798f7cd51444447756",
       "version_major": 2,
       "version_minor": 0
      },
      "text/plain": [
       "  0%|          | 0/100 [00:00<?, ?it/s]"
      ]
     },
     "metadata": {},
     "output_type": "display_data"
    },
    {
     "data": {
      "application/vnd.jupyter.widget-view+json": {
       "model_id": "ba1ca27583fa4a83a6d30da017b9227f",
       "version_major": 2,
       "version_minor": 0
      },
      "text/plain": [
       "  0%|          | 0/100 [00:00<?, ?it/s]"
      ]
     },
     "metadata": {},
     "output_type": "display_data"
    },
    {
     "data": {
      "application/vnd.jupyter.widget-view+json": {
       "model_id": "730dbd6a51d34e7e883836d91948da08",
       "version_major": 2,
       "version_minor": 0
      },
      "text/plain": [
       "  0%|          | 0/100 [00:00<?, ?it/s]"
      ]
     },
     "metadata": {},
     "output_type": "display_data"
    },
    {
     "name": "stdout",
     "output_type": "stream",
     "text": [
      "key: 0.8\n"
     ]
    },
    {
     "data": {
      "application/vnd.jupyter.widget-view+json": {
       "model_id": "549151db6e6e40f4b0416e081dc386ba",
       "version_major": 2,
       "version_minor": 0
      },
      "text/plain": [
       "  0%|          | 0/100 [00:00<?, ?it/s]"
      ]
     },
     "metadata": {},
     "output_type": "display_data"
    },
    {
     "data": {
      "application/vnd.jupyter.widget-view+json": {
       "model_id": "9ff3292955f9419388f11f350f4ba45e",
       "version_major": 2,
       "version_minor": 0
      },
      "text/plain": [
       "  0%|          | 0/100 [00:00<?, ?it/s]"
      ]
     },
     "metadata": {},
     "output_type": "display_data"
    },
    {
     "data": {
      "application/vnd.jupyter.widget-view+json": {
       "model_id": "093512b28d1d45d9b5a59d035c2f15eb",
       "version_major": 2,
       "version_minor": 0
      },
      "text/plain": [
       "  0%|          | 0/100 [00:00<?, ?it/s]"
      ]
     },
     "metadata": {},
     "output_type": "display_data"
    },
    {
     "data": {
      "application/vnd.jupyter.widget-view+json": {
       "model_id": "0390baaef7dc442c91b3f1bd832351a7",
       "version_major": 2,
       "version_minor": 0
      },
      "text/plain": [
       "  0%|          | 0/100 [00:00<?, ?it/s]"
      ]
     },
     "metadata": {},
     "output_type": "display_data"
    },
    {
     "name": "stdout",
     "output_type": "stream",
     "text": [
      "key: 0.9\n"
     ]
    },
    {
     "data": {
      "application/vnd.jupyter.widget-view+json": {
       "model_id": "03d7e761d5094dac84468e617020f3ed",
       "version_major": 2,
       "version_minor": 0
      },
      "text/plain": [
       "  0%|          | 0/100 [00:00<?, ?it/s]"
      ]
     },
     "metadata": {},
     "output_type": "display_data"
    },
    {
     "data": {
      "application/vnd.jupyter.widget-view+json": {
       "model_id": "9c72f255d5374722b3cb7b836c55743a",
       "version_major": 2,
       "version_minor": 0
      },
      "text/plain": [
       "  0%|          | 0/100 [00:00<?, ?it/s]"
      ]
     },
     "metadata": {},
     "output_type": "display_data"
    },
    {
     "data": {
      "application/vnd.jupyter.widget-view+json": {
       "model_id": "1036c21841dd4a1fb6675235065491d6",
       "version_major": 2,
       "version_minor": 0
      },
      "text/plain": [
       "  0%|          | 0/100 [00:00<?, ?it/s]"
      ]
     },
     "metadata": {},
     "output_type": "display_data"
    },
    {
     "data": {
      "application/vnd.jupyter.widget-view+json": {
       "model_id": "a53ebc7e256c4025b7ce522c1595c636",
       "version_major": 2,
       "version_minor": 0
      },
      "text/plain": [
       "  0%|          | 0/100 [00:00<?, ?it/s]"
      ]
     },
     "metadata": {},
     "output_type": "display_data"
    },
    {
     "name": "stdout",
     "output_type": "stream",
     "text": [
      "key: 1.0\n"
     ]
    },
    {
     "data": {
      "application/vnd.jupyter.widget-view+json": {
       "model_id": "97007dc66a894d30829d6a6ea6113d48",
       "version_major": 2,
       "version_minor": 0
      },
      "text/plain": [
       "  0%|          | 0/100 [00:00<?, ?it/s]"
      ]
     },
     "metadata": {},
     "output_type": "display_data"
    },
    {
     "data": {
      "application/vnd.jupyter.widget-view+json": {
       "model_id": "7b27044b39474fc18112e1dfe4cd14d8",
       "version_major": 2,
       "version_minor": 0
      },
      "text/plain": [
       "  0%|          | 0/100 [00:00<?, ?it/s]"
      ]
     },
     "metadata": {},
     "output_type": "display_data"
    },
    {
     "data": {
      "application/vnd.jupyter.widget-view+json": {
       "model_id": "241237e202bb4ce5873a2564c581a01c",
       "version_major": 2,
       "version_minor": 0
      },
      "text/plain": [
       "  0%|          | 0/100 [00:00<?, ?it/s]"
      ]
     },
     "metadata": {},
     "output_type": "display_data"
    },
    {
     "data": {
      "application/vnd.jupyter.widget-view+json": {
       "model_id": "30aece2e2bea4590b50e7b17d238dce9",
       "version_major": 2,
       "version_minor": 0
      },
      "text/plain": [
       "  0%|          | 0/100 [00:00<?, ?it/s]"
      ]
     },
     "metadata": {},
     "output_type": "display_data"
    }
   ],
   "source": [
    "res_ms = rej_rate_meanshift(mean_ls=mean_ls, n_ls=n_ls, eps0=eps0, nreps=100)"
   ]
  },
  {
   "cell_type": "code",
   "execution_count": 111,
   "id": "3b77f5f7-f94e-4640-bcdd-d5c71b4fb866",
   "metadata": {},
   "outputs": [
    {
     "data": {
      "image/png": "[encoded data removed]",
      "text/plain": [
       "<Figure size 600x300 with 2 Axes>"
      ]
     },
     "metadata": {},
     "output_type": "display_data"
    }
   ],
   "source": [
    "figs, axes = plt.subplots(ncols=2, nrows=1, figsize=(6, 3))\n",
    "\n",
    "ax = axes[0]\n",
    "rej_tilted = np.array([np.mean(res_ms[n][kk][\"tilted\"][\"rej\"]) for kk in mean_ls])\n",
    "rej_rbf = np.array([np.mean(res_ms[n][kk][\"rbf\"][\"rej\"]) for kk in mean_ls])\n",
    "rej_ol_robust = np.array([np.mean(res_ms[n][kk][\"tilted_ol_robust\"][\"rej\"]) for kk in mean_ls])\n",
    "rej_ball_robust = np.array([np.mean(res_ms[n][kk][\"tilted_ball_robust\"][\"rej\"]) for kk in mean_ls])\n",
    "\n",
    "ax.scatter(mean_ls, rej_tilted, label=\"tilted\")\n",
    "ax.scatter(mean_ls, rej_rbf, label=\"rbf\", marker=\"x\")\n",
    "ax.scatter(mean_ls, rej_ol_robust, label=\"ol_robust\", marker=\"+\")\n",
    "ax.scatter(mean_ls, rej_ball_robust, label=\"ball_robust\", marker=5)\n",
    "theta = res_ms[n][mean_ls[0]][\"tilted_ball_robust\"][\"threshold\"][0]\n",
    "ax.axvline(theta, linestyle=\"-.\", color=\"k\", label=r\"$\\theta$\")\n",
    "ax.axhline(0.05, linestyle=\"--\", color=\"grey\")\n",
    "# ax.set_xscale(\"log\")\n",
    "ax.set_ylim(-0.05, 1.05)\n",
    "ax.legend()\n",
    "\n",
    "ax = axes[1]\n",
    "ksd_val = [np.mean(res_ms[n][kk][\"rbf\"][\"stat\"])**0.5 for kk in mean_ls]\n",
    "ksd_val_pred = [population_ksd_ms(mm) for mm in mean_ls]\n",
    "ax.scatter(mean_ls, ksd_val, label=\"empirical\")\n",
    "ax.scatter(mean_ls, ksd_val_pred, marker=\"x\", label=\"pred\")\n",
    "# ax.set_xscale(\"log\")\n",
    "ax.legend()\n",
    "\n",
    "plt.tight_layout()"
   ]
  },
  {
   "cell_type": "code",
   "execution_count": null,
   "id": "62d54d7d-d0e0-45df-addf-294b76641f7f",
   "metadata": {},
   "outputs": [],
   "source": []
  },
  {
   "cell_type": "code",
   "execution_count": null,
   "id": "7c00dc33-769f-4195-b9cc-e6c8298bdb92",
   "metadata": {},
   "outputs": [],
   "source": []
  }
 ],
 "metadata": {
  "kernelspec": {
   "display_name": "robust",
   "language": "python",
   "name": "robust"
  },
  "language_info": {
   "codemirror_mode": {
    "name": "ipython",
    "version": 3
   },
   "file_extension": ".py",
   "mimetype": "text/x-python",
   "name": "python",
   "nbconvert_exporter": "python",
   "pygments_lexer": "ipython3",
   "version": "3.8.10"
  }
 },
 "nbformat": 4,
 "nbformat_minor": 5
}
