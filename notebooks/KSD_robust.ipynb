{
 "cells": [
  {
   "cell_type": "code",
   "execution_count": 1,
   "id": "87e8e061-2e70-43cb-82be-5c9a5f67c67f",
   "metadata": {},
   "outputs": [],
   "source": [
    "%load_ext autoreload\n",
    "%autoreload 2\n",
    "\n",
    "import numpy as np\n",
    "import matplotlib.pyplot as plt\n",
    "from tqdm.notebook import tqdm, trange\n",
    "import seaborn as sns\n",
    "\n",
    "import src.metrics as metrics\n",
    "import src.kernels as kernels\n",
    "import src.bootstrap as boot"
   ]
  },
  {
   "cell_type": "markdown",
   "id": "b92963ed-cfb8-4f35-82c0-b590ffddb74d",
   "metadata": {},
   "source": [
    "# Outliers (level)"
   ]
  },
  {
   "cell_type": "code",
   "execution_count": 115,
   "id": "dcb29839-95b8-45cc-a414-e5c3ade458c5",
   "metadata": {},
   "outputs": [],
   "source": [
    "def rej_rate_outliers(outlier, n_ls, eps_ls, nreps, eps0, dim=1, alpha=0.05):\n",
    "    res = {oo: {kk: {\n",
    "        \"tilted\": {\"stat\": [], \"pval\": [], \"rej\": [], \"boot_stats\": []},\n",
    "        \"rbf\": {\"stat\": [], \"pval\": [], \"rej\": [], \"boot_stats\": []},\n",
    "        \"tilted_ol_robust\": {\"nonsq_stat\": [], \"threshold\": [], \"rej\": []},\n",
    "        \"tilted_ball_robust\": {\"nonsq_stat\": [], \"threshold\": [], \"rej\": []},\n",
    "    } for kk in eps_ls} for oo in n_ls}\n",
    "    res[\"eps_ls\"] = eps_ls\n",
    "    \n",
    "    for n in n_ls:\n",
    "        for eps in eps_ls:\n",
    "            key = eps\n",
    "            print(\"key:\", key)\n",
    "            ###\n",
    "            mean1 = np.zeros((dim,)) # data\n",
    "            mean2 = np.zeros((dim,)) # model\n",
    "            \n",
    "            Xs = np.random.multivariate_normal(mean1, np.eye(dim), (nreps, n))\n",
    "            n_outlier = max(1, int(n * eps))\n",
    "            Xs[:, :n_outlier] = outlier\n",
    "        \n",
    "            score_fn = lambda x: - (x - mean2)\n",
    "            ###\n",
    "    \n",
    "            # tilted\n",
    "            score_weight_fn = kernels.PolyWeightFunction()\n",
    "            kernel0 = kernels.RBF(sigma_sq=2.)\n",
    "            kernel = kernels.TiltedKernel(kernel=kernel0, weight_fn=score_weight_fn)\n",
    "\n",
    "            ksd = metrics.KSD(kernel, score_fn=score_fn)\n",
    "            wild_boot = boot.WildBootstrap(ksd)\n",
    "            for X in tqdm(Xs):                \n",
    "                pval, stat, boot_stats = wild_boot.pval(X, X, return_stat=True, return_boot=True)\n",
    "                res[n][key][\"tilted\"][\"stat\"].append(stat)\n",
    "                res[n][key][\"tilted\"][\"pval\"].append(pval)\n",
    "                res[n][key][\"tilted\"][\"rej\"].append(int(pval < alpha))\n",
    "                res[n][key][\"tilted\"][\"boot_stats\"].append(boot_stats)\n",
    "        \n",
    "            # RBF\n",
    "            kernel = kernels.RBF(sigma_sq=2.)\n",
    "            \n",
    "            ksd = metrics.KSD(kernel, score_fn=score_fn)\n",
    "            wild_boot = boot.WildBootstrap(ksd)\n",
    "            for X in tqdm(Xs):                \n",
    "                pval, stat, boot_stats = wild_boot.pval(X, X, return_stat=True, return_boot=True)\n",
    "                res[n][key][\"rbf\"][\"stat\"].append(stat)\n",
    "                res[n][key][\"rbf\"][\"pval\"].append(pval)\n",
    "                res[n][key][\"rbf\"][\"rej\"].append(int(pval < alpha))\n",
    "                res[n][key][\"rbf\"][\"boot_stats\"].append(boot_stats)\n",
    "\n",
    "            # tilted ol robust\n",
    "            score_weight_fn = kernels.PolyWeightFunction()\n",
    "            kernel0 = kernels.RBF(sigma_sq=2.)\n",
    "            kernel = kernels.TiltedKernel(kernel=kernel0, weight_fn=score_weight_fn)\n",
    "\n",
    "            ksd = metrics.KSD(kernel, score_fn=score_fn)\n",
    "            threshold = ksd.test_threshold(n=n, eps0=eps, alpha=alpha, method=\"ol_robust\")\n",
    "            for X in tqdm(Xs):\n",
    "                stat = ksd(X, X, vstat=True) # squared-KSD\n",
    "                stat = stat**0.5\n",
    "                res[n][key][\"tilted_ol_robust\"][\"nonsq_stat\"].append(stat)\n",
    "                res[n][key][\"tilted_ol_robust\"][\"threshold\"].append(threshold)\n",
    "                res[n][key][\"tilted_ol_robust\"][\"rej\"].append(int(stat > threshold))\n",
    "\n",
    "            # tilted ball robust\n",
    "            score_weight_fn = kernels.PolyWeightFunction()\n",
    "            kernel0 = kernels.RBF(sigma_sq=2.)\n",
    "            kernel = kernels.TiltedKernel(kernel=kernel0, weight_fn=score_weight_fn)\n",
    "\n",
    "            ksd = metrics.KSD(kernel, score_fn=score_fn)\n",
    "            threshold = ksd.test_threshold(n=n, eps0=eps0, theta=\"ol\", alpha=alpha, method=\"ball_robust\")\n",
    "            for X in tqdm(Xs):\n",
    "                stat = ksd(X, X, vstat=True) # squared-KSD\n",
    "                stat = stat**0.5\n",
    "                res[n][key][\"tilted_ball_robust\"][\"nonsq_stat\"].append(stat)\n",
    "                res[n][key][\"tilted_ball_robust\"][\"threshold\"].append(threshold)\n",
    "                res[n][key][\"tilted_ball_robust\"][\"rej\"].append(int(stat > threshold))\n",
    "                \n",
    "    return res"
   ]
  },
  {
   "cell_type": "code",
   "execution_count": 116,
   "id": "a4ccff27-61e1-4bbb-a190-e125a2bce753",
   "metadata": {},
   "outputs": [],
   "source": [
    "np.random.seed(2024)\n",
    "\n",
    "n = 500\n",
    "n_ls = [n] # [100, 500, 1000]\n",
    "eps_ls = [0.1, 0.05, 0.01, 0.005] # [0.01, 0.1]"
   ]
  },
  {
   "cell_type": "code",
   "execution_count": 117,
   "id": "5734494b-2395-4879-a475-c9869471c7f0",
   "metadata": {
    "scrolled": true
   },
   "outputs": [
    {
     "name": "stdout",
     "output_type": "stream",
     "text": [
      "key: 0.1\n"
     ]
    },
    {
     "data": {
      "application/vnd.jupyter.widget-view+json": {
       "model_id": "f2c6f55d19ce4508b3a976ff301568f5",
       "version_major": 2,
       "version_minor": 0
      },
      "text/plain": [
       "  0%|          | 0/100 [00:00<?, ?it/s]"
      ]
     },
     "metadata": {},
     "output_type": "display_data"
    },
    {
     "data": {
      "application/vnd.jupyter.widget-view+json": {
       "model_id": "56a9b2c14a5045e48d689a4fab89a7c8",
       "version_major": 2,
       "version_minor": 0
      },
      "text/plain": [
       "  0%|          | 0/100 [00:00<?, ?it/s]"
      ]
     },
     "metadata": {},
     "output_type": "display_data"
    },
    {
     "data": {
      "application/vnd.jupyter.widget-view+json": {
       "model_id": "b24f84525619456381d516764bc12780",
       "version_major": 2,
       "version_minor": 0
      },
      "text/plain": [
       "  0%|          | 0/100 [00:00<?, ?it/s]"
      ]
     },
     "metadata": {},
     "output_type": "display_data"
    },
    {
     "data": {
      "application/vnd.jupyter.widget-view+json": {
       "model_id": "18c517c9380a4d40893986298ac1b4a6",
       "version_major": 2,
       "version_minor": 0
      },
      "text/plain": [
       "  0%|          | 0/100 [00:00<?, ?it/s]"
      ]
     },
     "metadata": {},
     "output_type": "display_data"
    },
    {
     "name": "stdout",
     "output_type": "stream",
     "text": [
      "key: 0.05\n"
     ]
    },
    {
     "data": {
      "application/vnd.jupyter.widget-view+json": {
       "model_id": "a28a321547074074b51efed60f12dce5",
       "version_major": 2,
       "version_minor": 0
      },
      "text/plain": [
       "  0%|          | 0/100 [00:00<?, ?it/s]"
      ]
     },
     "metadata": {},
     "output_type": "display_data"
    },
    {
     "data": {
      "application/vnd.jupyter.widget-view+json": {
       "model_id": "d918c8fe3fb8497c82fe1e316b4b29f1",
       "version_major": 2,
       "version_minor": 0
      },
      "text/plain": [
       "  0%|          | 0/100 [00:00<?, ?it/s]"
      ]
     },
     "metadata": {},
     "output_type": "display_data"
    },
    {
     "data": {
      "application/vnd.jupyter.widget-view+json": {
       "model_id": "32a5418dd9b143558dae8e0033c61cc3",
       "version_major": 2,
       "version_minor": 0
      },
      "text/plain": [
       "  0%|          | 0/100 [00:00<?, ?it/s]"
      ]
     },
     "metadata": {},
     "output_type": "display_data"
    },
    {
     "data": {
      "application/vnd.jupyter.widget-view+json": {
       "model_id": "ca1a574ad3374f03b266af43f0af1777",
       "version_major": 2,
       "version_minor": 0
      },
      "text/plain": [
       "  0%|          | 0/100 [00:00<?, ?it/s]"
      ]
     },
     "metadata": {},
     "output_type": "display_data"
    },
    {
     "name": "stdout",
     "output_type": "stream",
     "text": [
      "key: 0.01\n"
     ]
    },
    {
     "data": {
      "application/vnd.jupyter.widget-view+json": {
       "model_id": "50e2d51fdada4a8b83699e5f54771ea9",
       "version_major": 2,
       "version_minor": 0
      },
      "text/plain": [
       "  0%|          | 0/100 [00:00<?, ?it/s]"
      ]
     },
     "metadata": {},
     "output_type": "display_data"
    },
    {
     "data": {
      "application/vnd.jupyter.widget-view+json": {
       "model_id": "0f6a88923de044cea6906269092faa81",
       "version_major": 2,
       "version_minor": 0
      },
      "text/plain": [
       "  0%|          | 0/100 [00:00<?, ?it/s]"
      ]
     },
     "metadata": {},
     "output_type": "display_data"
    },
    {
     "data": {
      "application/vnd.jupyter.widget-view+json": {
       "model_id": "4621dd0a21e544ec8e82676f249347c7",
       "version_major": 2,
       "version_minor": 0
      },
      "text/plain": [
       "  0%|          | 0/100 [00:00<?, ?it/s]"
      ]
     },
     "metadata": {},
     "output_type": "display_data"
    },
    {
     "data": {
      "application/vnd.jupyter.widget-view+json": {
       "model_id": "aa1c7405e2f748e0813cda2d5d537425",
       "version_major": 2,
       "version_minor": 0
      },
      "text/plain": [
       "  0%|          | 0/100 [00:00<?, ?it/s]"
      ]
     },
     "metadata": {},
     "output_type": "display_data"
    },
    {
     "name": "stdout",
     "output_type": "stream",
     "text": [
      "key: 0.005\n"
     ]
    },
    {
     "data": {
      "application/vnd.jupyter.widget-view+json": {
       "model_id": "5cbc92c2abce49728c8c1b856fc196b9",
       "version_major": 2,
       "version_minor": 0
      },
      "text/plain": [
       "  0%|          | 0/100 [00:00<?, ?it/s]"
      ]
     },
     "metadata": {},
     "output_type": "display_data"
    },
    {
     "data": {
      "application/vnd.jupyter.widget-view+json": {
       "model_id": "5057a3c060884c03951500509acdac1f",
       "version_major": 2,
       "version_minor": 0
      },
      "text/plain": [
       "  0%|          | 0/100 [00:00<?, ?it/s]"
      ]
     },
     "metadata": {},
     "output_type": "display_data"
    },
    {
     "data": {
      "application/vnd.jupyter.widget-view+json": {
       "model_id": "15256e32ce2e4c59b73bbf378af5eb4a",
       "version_major": 2,
       "version_minor": 0
      },
      "text/plain": [
       "  0%|          | 0/100 [00:00<?, ?it/s]"
      ]
     },
     "metadata": {},
     "output_type": "display_data"
    },
    {
     "data": {
      "application/vnd.jupyter.widget-view+json": {
       "model_id": "a8d607cf6b6d40229a38e2fd24bedb18",
       "version_major": 2,
       "version_minor": 0
      },
      "text/plain": [
       "  0%|          | 0/100 [00:00<?, ?it/s]"
      ]
     },
     "metadata": {},
     "output_type": "display_data"
    },
    {
     "name": "stdout",
     "output_type": "stream",
     "text": [
      "key: 0.1\n"
     ]
    },
    {
     "data": {
      "application/vnd.jupyter.widget-view+json": {
       "model_id": "f35e9bfcbbe2434ba0c01a34d096b8d1",
       "version_major": 2,
       "version_minor": 0
      },
      "text/plain": [
       "  0%|          | 0/100 [00:00<?, ?it/s]"
      ]
     },
     "metadata": {},
     "output_type": "display_data"
    },
    {
     "data": {
      "application/vnd.jupyter.widget-view+json": {
       "model_id": "e9358576cbd649718e484815fc737d95",
       "version_major": 2,
       "version_minor": 0
      },
      "text/plain": [
       "  0%|          | 0/100 [00:00<?, ?it/s]"
      ]
     },
     "metadata": {},
     "output_type": "display_data"
    },
    {
     "data": {
      "application/vnd.jupyter.widget-view+json": {
       "model_id": "0347735a02b449f7987fb52d01d5a979",
       "version_major": 2,
       "version_minor": 0
      },
      "text/plain": [
       "  0%|          | 0/100 [00:00<?, ?it/s]"
      ]
     },
     "metadata": {},
     "output_type": "display_data"
    },
    {
     "data": {
      "application/vnd.jupyter.widget-view+json": {
       "model_id": "21586c0dd58d4f81b57310185ef2afd8",
       "version_major": 2,
       "version_minor": 0
      },
      "text/plain": [
       "  0%|          | 0/100 [00:00<?, ?it/s]"
      ]
     },
     "metadata": {},
     "output_type": "display_data"
    },
    {
     "name": "stdout",
     "output_type": "stream",
     "text": [
      "key: 0.05\n"
     ]
    },
    {
     "data": {
      "application/vnd.jupyter.widget-view+json": {
       "model_id": "4b5e293f5c8f4f8181c4f08d2ec01a51",
       "version_major": 2,
       "version_minor": 0
      },
      "text/plain": [
       "  0%|          | 0/100 [00:00<?, ?it/s]"
      ]
     },
     "metadata": {},
     "output_type": "display_data"
    },
    {
     "data": {
      "application/vnd.jupyter.widget-view+json": {
       "model_id": "e1c29549fd244fcf828fa84e911d5d37",
       "version_major": 2,
       "version_minor": 0
      },
      "text/plain": [
       "  0%|          | 0/100 [00:00<?, ?it/s]"
      ]
     },
     "metadata": {},
     "output_type": "display_data"
    },
    {
     "data": {
      "application/vnd.jupyter.widget-view+json": {
       "model_id": "ca6db15f05d54972be18d25e531041ed",
       "version_major": 2,
       "version_minor": 0
      },
      "text/plain": [
       "  0%|          | 0/100 [00:00<?, ?it/s]"
      ]
     },
     "metadata": {},
     "output_type": "display_data"
    },
    {
     "data": {
      "application/vnd.jupyter.widget-view+json": {
       "model_id": "17d0c9e16e784e12b738d22dc7e4b75b",
       "version_major": 2,
       "version_minor": 0
      },
      "text/plain": [
       "  0%|          | 0/100 [00:00<?, ?it/s]"
      ]
     },
     "metadata": {},
     "output_type": "display_data"
    },
    {
     "name": "stdout",
     "output_type": "stream",
     "text": [
      "key: 0.01\n"
     ]
    },
    {
     "data": {
      "application/vnd.jupyter.widget-view+json": {
       "model_id": "ce7265344f2e4f04967c49032827fa8f",
       "version_major": 2,
       "version_minor": 0
      },
      "text/plain": [
       "  0%|          | 0/100 [00:00<?, ?it/s]"
      ]
     },
     "metadata": {},
     "output_type": "display_data"
    },
    {
     "data": {
      "application/vnd.jupyter.widget-view+json": {
       "model_id": "7283830130bc40a89879420b1339e1c7",
       "version_major": 2,
       "version_minor": 0
      },
      "text/plain": [
       "  0%|          | 0/100 [00:00<?, ?it/s]"
      ]
     },
     "metadata": {},
     "output_type": "display_data"
    },
    {
     "data": {
      "application/vnd.jupyter.widget-view+json": {
       "model_id": "bb9911df6da740dfb476c4e196741e65",
       "version_major": 2,
       "version_minor": 0
      },
      "text/plain": [
       "  0%|          | 0/100 [00:00<?, ?it/s]"
      ]
     },
     "metadata": {},
     "output_type": "display_data"
    },
    {
     "data": {
      "application/vnd.jupyter.widget-view+json": {
       "model_id": "c2027c6bb7f44ed9b1acb993d20a7f5d",
       "version_major": 2,
       "version_minor": 0
      },
      "text/plain": [
       "  0%|          | 0/100 [00:00<?, ?it/s]"
      ]
     },
     "metadata": {},
     "output_type": "display_data"
    },
    {
     "name": "stdout",
     "output_type": "stream",
     "text": [
      "key: 0.005\n"
     ]
    },
    {
     "data": {
      "application/vnd.jupyter.widget-view+json": {
       "model_id": "c4c62e486f4b4e44a2e463183d784dc5",
       "version_major": 2,
       "version_minor": 0
      },
      "text/plain": [
       "  0%|          | 0/100 [00:00<?, ?it/s]"
      ]
     },
     "metadata": {},
     "output_type": "display_data"
    },
    {
     "data": {
      "application/vnd.jupyter.widget-view+json": {
       "model_id": "7ceb6452bcdf41c19ffb2dfe270faf2b",
       "version_major": 2,
       "version_minor": 0
      },
      "text/plain": [
       "  0%|          | 0/100 [00:00<?, ?it/s]"
      ]
     },
     "metadata": {},
     "output_type": "display_data"
    },
    {
     "data": {
      "application/vnd.jupyter.widget-view+json": {
       "model_id": "d5671aa2421e446ab6f51d33de23f1f7",
       "version_major": 2,
       "version_minor": 0
      },
      "text/plain": [
       "  0%|          | 0/100 [00:00<?, ?it/s]"
      ]
     },
     "metadata": {},
     "output_type": "display_data"
    },
    {
     "data": {
      "application/vnd.jupyter.widget-view+json": {
       "model_id": "5bcc1c427c3a4d34bd45801a48b718c6",
       "version_major": 2,
       "version_minor": 0
      },
      "text/plain": [
       "  0%|          | 0/100 [00:00<?, ?it/s]"
      ]
     },
     "metadata": {},
     "output_type": "display_data"
    },
    {
     "name": "stdout",
     "output_type": "stream",
     "text": [
      "key: 0.1\n"
     ]
    },
    {
     "data": {
      "application/vnd.jupyter.widget-view+json": {
       "model_id": "b0044f77d3fc469c99b08df35a82b29d",
       "version_major": 2,
       "version_minor": 0
      },
      "text/plain": [
       "  0%|          | 0/100 [00:00<?, ?it/s]"
      ]
     },
     "metadata": {},
     "output_type": "display_data"
    },
    {
     "data": {
      "application/vnd.jupyter.widget-view+json": {
       "model_id": "157eb8ea673346ae998d99c997a3d2a4",
       "version_major": 2,
       "version_minor": 0
      },
      "text/plain": [
       "  0%|          | 0/100 [00:00<?, ?it/s]"
      ]
     },
     "metadata": {},
     "output_type": "display_data"
    },
    {
     "data": {
      "application/vnd.jupyter.widget-view+json": {
       "model_id": "692ce7e21f74465092d878003d285e56",
       "version_major": 2,
       "version_minor": 0
      },
      "text/plain": [
       "  0%|          | 0/100 [00:00<?, ?it/s]"
      ]
     },
     "metadata": {},
     "output_type": "display_data"
    },
    {
     "data": {
      "application/vnd.jupyter.widget-view+json": {
       "model_id": "6519055c55bf40f0b3a0bcbf213de8ec",
       "version_major": 2,
       "version_minor": 0
      },
      "text/plain": [
       "  0%|          | 0/100 [00:00<?, ?it/s]"
      ]
     },
     "metadata": {},
     "output_type": "display_data"
    },
    {
     "name": "stdout",
     "output_type": "stream",
     "text": [
      "key: 0.05\n"
     ]
    },
    {
     "data": {
      "application/vnd.jupyter.widget-view+json": {
       "model_id": "3858cd2d80ee4c0f9e044a24c52e064c",
       "version_major": 2,
       "version_minor": 0
      },
      "text/plain": [
       "  0%|          | 0/100 [00:00<?, ?it/s]"
      ]
     },
     "metadata": {},
     "output_type": "display_data"
    },
    {
     "data": {
      "application/vnd.jupyter.widget-view+json": {
       "model_id": "32c86edd1cd74d79bd0963ad325d1830",
       "version_major": 2,
       "version_minor": 0
      },
      "text/plain": [
       "  0%|          | 0/100 [00:00<?, ?it/s]"
      ]
     },
     "metadata": {},
     "output_type": "display_data"
    },
    {
     "data": {
      "application/vnd.jupyter.widget-view+json": {
       "model_id": "6206a18804d9458ab0b9113112722ce3",
       "version_major": 2,
       "version_minor": 0
      },
      "text/plain": [
       "  0%|          | 0/100 [00:00<?, ?it/s]"
      ]
     },
     "metadata": {},
     "output_type": "display_data"
    },
    {
     "data": {
      "application/vnd.jupyter.widget-view+json": {
       "model_id": "ac5e4c91660442ea9193c314a2f0fc79",
       "version_major": 2,
       "version_minor": 0
      },
      "text/plain": [
       "  0%|          | 0/100 [00:00<?, ?it/s]"
      ]
     },
     "metadata": {},
     "output_type": "display_data"
    },
    {
     "name": "stdout",
     "output_type": "stream",
     "text": [
      "key: 0.01\n"
     ]
    },
    {
     "data": {
      "application/vnd.jupyter.widget-view+json": {
       "model_id": "3488b2d8052f4c08ac17e44a8e0fa22f",
       "version_major": 2,
       "version_minor": 0
      },
      "text/plain": [
       "  0%|          | 0/100 [00:00<?, ?it/s]"
      ]
     },
     "metadata": {},
     "output_type": "display_data"
    },
    {
     "data": {
      "application/vnd.jupyter.widget-view+json": {
       "model_id": "2fa58c96d75945c59245f8ab64ab163f",
       "version_major": 2,
       "version_minor": 0
      },
      "text/plain": [
       "  0%|          | 0/100 [00:00<?, ?it/s]"
      ]
     },
     "metadata": {},
     "output_type": "display_data"
    },
    {
     "data": {
      "application/vnd.jupyter.widget-view+json": {
       "model_id": "1c628cbc32294ae08173cf206c6e1b89",
       "version_major": 2,
       "version_minor": 0
      },
      "text/plain": [
       "  0%|          | 0/100 [00:00<?, ?it/s]"
      ]
     },
     "metadata": {},
     "output_type": "display_data"
    },
    {
     "data": {
      "application/vnd.jupyter.widget-view+json": {
       "model_id": "30c3f3b08f3b41e68ea7aeee93db12f1",
       "version_major": 2,
       "version_minor": 0
      },
      "text/plain": [
       "  0%|          | 0/100 [00:00<?, ?it/s]"
      ]
     },
     "metadata": {},
     "output_type": "display_data"
    },
    {
     "name": "stdout",
     "output_type": "stream",
     "text": [
      "key: 0.005\n"
     ]
    },
    {
     "data": {
      "application/vnd.jupyter.widget-view+json": {
       "model_id": "7ff356f9a5284722b84902ee4a82c403",
       "version_major": 2,
       "version_minor": 0
      },
      "text/plain": [
       "  0%|          | 0/100 [00:00<?, ?it/s]"
      ]
     },
     "metadata": {},
     "output_type": "display_data"
    },
    {
     "data": {
      "application/vnd.jupyter.widget-view+json": {
       "model_id": "ff2811caf6004d68b38c88f55896144d",
       "version_major": 2,
       "version_minor": 0
      },
      "text/plain": [
       "  0%|          | 0/100 [00:00<?, ?it/s]"
      ]
     },
     "metadata": {},
     "output_type": "display_data"
    },
    {
     "data": {
      "application/vnd.jupyter.widget-view+json": {
       "model_id": "8c0dc29c26194da38c3f728ea9b95a2c",
       "version_major": 2,
       "version_minor": 0
      },
      "text/plain": [
       "  0%|          | 0/100 [00:00<?, ?it/s]"
      ]
     },
     "metadata": {},
     "output_type": "display_data"
    },
    {
     "data": {
      "application/vnd.jupyter.widget-view+json": {
       "model_id": "b2904266c25542acb624e1a2e3291b2f",
       "version_major": 2,
       "version_minor": 0
      },
      "text/plain": [
       "  0%|          | 0/100 [00:00<?, ?it/s]"
      ]
     },
     "metadata": {},
     "output_type": "display_data"
    },
    {
     "name": "stdout",
     "output_type": "stream",
     "text": [
      "key: 0.1\n"
     ]
    },
    {
     "data": {
      "application/vnd.jupyter.widget-view+json": {
       "model_id": "3dc7538afec94be5bcac7a88f2d3ea60",
       "version_major": 2,
       "version_minor": 0
      },
      "text/plain": [
       "  0%|          | 0/100 [00:00<?, ?it/s]"
      ]
     },
     "metadata": {},
     "output_type": "display_data"
    },
    {
     "data": {
      "application/vnd.jupyter.widget-view+json": {
       "model_id": "b183fc9346a34d789b26a853256cafca",
       "version_major": 2,
       "version_minor": 0
      },
      "text/plain": [
       "  0%|          | 0/100 [00:00<?, ?it/s]"
      ]
     },
     "metadata": {},
     "output_type": "display_data"
    },
    {
     "data": {
      "application/vnd.jupyter.widget-view+json": {
       "model_id": "5ac33221d2b644d8b780899abc8ef161",
       "version_major": 2,
       "version_minor": 0
      },
      "text/plain": [
       "  0%|          | 0/100 [00:00<?, ?it/s]"
      ]
     },
     "metadata": {},
     "output_type": "display_data"
    },
    {
     "data": {
      "application/vnd.jupyter.widget-view+json": {
       "model_id": "6af50287b60f40bdbe91068ee625ea86",
       "version_major": 2,
       "version_minor": 0
      },
      "text/plain": [
       "  0%|          | 0/100 [00:00<?, ?it/s]"
      ]
     },
     "metadata": {},
     "output_type": "display_data"
    },
    {
     "name": "stdout",
     "output_type": "stream",
     "text": [
      "key: 0.05\n"
     ]
    },
    {
     "data": {
      "application/vnd.jupyter.widget-view+json": {
       "model_id": "fd257d05d8d64429bd76ab3c9b613623",
       "version_major": 2,
       "version_minor": 0
      },
      "text/plain": [
       "  0%|          | 0/100 [00:00<?, ?it/s]"
      ]
     },
     "metadata": {},
     "output_type": "display_data"
    },
    {
     "data": {
      "application/vnd.jupyter.widget-view+json": {
       "model_id": "caef3b97256a4b43ae195132530938f2",
       "version_major": 2,
       "version_minor": 0
      },
      "text/plain": [
       "  0%|          | 0/100 [00:00<?, ?it/s]"
      ]
     },
     "metadata": {},
     "output_type": "display_data"
    },
    {
     "data": {
      "application/vnd.jupyter.widget-view+json": {
       "model_id": "143f683ea8e6445fa24edf2c7904dbc9",
       "version_major": 2,
       "version_minor": 0
      },
      "text/plain": [
       "  0%|          | 0/100 [00:00<?, ?it/s]"
      ]
     },
     "metadata": {},
     "output_type": "display_data"
    },
    {
     "data": {
      "application/vnd.jupyter.widget-view+json": {
       "model_id": "608a592ed56843cb98c7015af41b04d8",
       "version_major": 2,
       "version_minor": 0
      },
      "text/plain": [
       "  0%|          | 0/100 [00:00<?, ?it/s]"
      ]
     },
     "metadata": {},
     "output_type": "display_data"
    },
    {
     "name": "stdout",
     "output_type": "stream",
     "text": [
      "key: 0.01\n"
     ]
    },
    {
     "data": {
      "application/vnd.jupyter.widget-view+json": {
       "model_id": "351ec46784434426bb4e836a40b9f111",
       "version_major": 2,
       "version_minor": 0
      },
      "text/plain": [
       "  0%|          | 0/100 [00:00<?, ?it/s]"
      ]
     },
     "metadata": {},
     "output_type": "display_data"
    },
    {
     "data": {
      "application/vnd.jupyter.widget-view+json": {
       "model_id": "70220852d777414293ee711a76746b64",
       "version_major": 2,
       "version_minor": 0
      },
      "text/plain": [
       "  0%|          | 0/100 [00:00<?, ?it/s]"
      ]
     },
     "metadata": {},
     "output_type": "display_data"
    },
    {
     "data": {
      "application/vnd.jupyter.widget-view+json": {
       "model_id": "a0730c82db3246489edcff3a7625595a",
       "version_major": 2,
       "version_minor": 0
      },
      "text/plain": [
       "  0%|          | 0/100 [00:00<?, ?it/s]"
      ]
     },
     "metadata": {},
     "output_type": "display_data"
    },
    {
     "data": {
      "application/vnd.jupyter.widget-view+json": {
       "model_id": "f4fc354148aa4ee2ac04660a242e5b21",
       "version_major": 2,
       "version_minor": 0
      },
      "text/plain": [
       "  0%|          | 0/100 [00:00<?, ?it/s]"
      ]
     },
     "metadata": {},
     "output_type": "display_data"
    },
    {
     "name": "stdout",
     "output_type": "stream",
     "text": [
      "key: 0.005\n"
     ]
    },
    {
     "data": {
      "application/vnd.jupyter.widget-view+json": {
       "model_id": "cc422716a4db42e59094a7c301a1b883",
       "version_major": 2,
       "version_minor": 0
      },
      "text/plain": [
       "  0%|          | 0/100 [00:00<?, ?it/s]"
      ]
     },
     "metadata": {},
     "output_type": "display_data"
    },
    {
     "data": {
      "application/vnd.jupyter.widget-view+json": {
       "model_id": "b25bbc0fdabc4576a994a5522c5eb713",
       "version_major": 2,
       "version_minor": 0
      },
      "text/plain": [
       "  0%|          | 0/100 [00:00<?, ?it/s]"
      ]
     },
     "metadata": {},
     "output_type": "display_data"
    },
    {
     "data": {
      "application/vnd.jupyter.widget-view+json": {
       "model_id": "ec20441c16db418d958c467717bdbe06",
       "version_major": 2,
       "version_minor": 0
      },
      "text/plain": [
       "  0%|          | 0/100 [00:00<?, ?it/s]"
      ]
     },
     "metadata": {},
     "output_type": "display_data"
    },
    {
     "data": {
      "application/vnd.jupyter.widget-view+json": {
       "model_id": "9b47ce2948aa4fc3b1bfe752a5841090",
       "version_major": 2,
       "version_minor": 0
      },
      "text/plain": [
       "  0%|          | 0/100 [00:00<?, ?it/s]"
      ]
     },
     "metadata": {},
     "output_type": "display_data"
    }
   ],
   "source": [
    "outlier_ls = [0.1, 1., 10., 100.]\n",
    "eps0 = 0.1\n",
    "res_ol = {}\n",
    "for outlier in outlier_ls:\n",
    "    sub_res_ol = rej_rate_outliers(outlier, n_ls, eps_ls, eps0=eps0, nreps=100)\n",
    "    res_ol[outlier] = sub_res_ol"
   ]
  },
  {
   "cell_type": "code",
   "execution_count": 118,
   "id": "9d0825b7-8a8b-425c-99fe-b52456853f1b",
   "metadata": {},
   "outputs": [
    {
     "data": {
      "image/png": "[encoded data removed]",
      "text/plain": [
       "<Figure size 1200x300 with 4 Axes>"
      ]
     },
     "metadata": {},
     "output_type": "display_data"
    }
   ],
   "source": [
    "figs, axes = plt.subplots(ncols=len(eps_ls), nrows=1, figsize=(3*len(eps_ls), 3))\n",
    "\n",
    "# outlier_ls = outlier_ls[::-1]\n",
    "for j in range(len(eps_ls)):\n",
    "    ax = axes[j]\n",
    "    rej_tilted = np.array([np.mean(res_ol[ww][n][eps_ls[j]][\"tilted\"][\"rej\"]) for ww in outlier_ls])\n",
    "    rej_rbf = np.array([np.mean(res_ol[ww][n][eps_ls[j]][\"rbf\"][\"rej\"]) for ww in outlier_ls])\n",
    "    rej_ol_robust = np.array([np.mean(res_ol[ww][n][eps_ls[j]][\"tilted_ol_robust\"][\"rej\"]) for ww in outlier_ls])\n",
    "    rej_ball_robust = np.array([np.mean(res_ol[ww][n][eps_ls[j]][\"tilted_ball_robust\"][\"rej\"]) for ww in outlier_ls])\n",
    "\n",
    "    ax.scatter(outlier_ls, rej_tilted, label=\"Tilted\")\n",
    "    ax.scatter(outlier_ls, rej_rbf, label=\"RBF\", marker=\"x\")\n",
    "    ax.scatter(outlier_ls, rej_ol_robust, label=\"OL-robust\", marker=5)\n",
    "    ax.scatter(outlier_ls, rej_ball_robust, label=\"Ball-robust\", marker=\"+\")\n",
    "    ax.axhline(0.05, linestyle=\"--\", color=\"grey\")\n",
    "    ax.set_title(rf\"$\\epsilon$={eps_ls[j]}\")\n",
    "    ax.set_xscale(\"log\")\n",
    "    ax.set_ylim(-0.05, 1.05)\n",
    "    ax.set_ylabel(\"Rejection rate\")\n",
    "    ax.set_xlabel(\"Outlier value\")\n",
    "\n",
    "axes.flatten()[0].legend()\n",
    "plt.tight_layout()\n",
    "# plt.savefig(\"../figs/robust/rej_ol.pdf\")"
   ]
  },
  {
   "cell_type": "code",
   "execution_count": 45,
   "id": "9644858f-e329-450f-8830-18e538c11162",
   "metadata": {},
   "outputs": [
    {
     "data": {
      "image/png": "[encoded data removed]",
      "text/plain": [
       "<Figure size 800x800 with 16 Axes>"
      ]
     },
     "metadata": {},
     "output_type": "display_data"
    }
   ],
   "source": [
    "figs, axes = plt.subplots(ncols=len(eps_ls), nrows=len(outlier_ls), figsize=(2*len(eps_ls), 2*len(outlier_ls)))\n",
    "\n",
    "# outlier_ls_plot = outlier_ls[::-1]\n",
    "for i in range(len(outlier_ls_plot)):\n",
    "    for j in range(len(eps_ls)):\n",
    "        ax = axes[i][j]\n",
    "        sns.ecdfplot(ax=ax, x=np.array(res_ol[outlier_ls_plot[i]][n][eps_ls[j]][\"tilted\"][\"pval\"]), label=\"Tilted\")\n",
    "        sns.ecdfplot(ax=ax, x=np.array(res_ol[outlier_ls_plot[i]][n][eps_ls[j]][\"rbf\"][\"pval\"]), label=\"RBF\")\n",
    "        ax.plot([0., 1.], [0., 1.], linestyle=\"--\", color=\"grey\")\n",
    "        ax.set_xlim(-0.01, 1.01)\n",
    "        ax.set_ylim(-0.01, 1.01)\n",
    "        ax.set_title(rf\"$w$={outlier_ls_plot[i]}; $\\epsilon$={eps_ls[j]}\")\n",
    "        ax.set_ylabel(\"\")\n",
    "        ax.set_xlabel(\"\")\n",
    "        \n",
    "        if i < len(outlier_ls) - 1:\n",
    "            ax.get_xaxis().set_ticks([])\n",
    "        if j > 0:\n",
    "            ax.get_yaxis().set_ticks([])\n",
    "        if j == 0:\n",
    "            ax.set_ylabel(\"Proportion\")\n",
    "        if i == len(outlier_ls) - 1:\n",
    "            ax.set_xlabel(r\"$p$-value\")\n",
    "        # if j == len(eps_ls) - 1:\n",
    "        #     ax.twinx().set_ylabel(f\"eps={eps_ls[j]}\")\n",
    "        #     ax.twinx().get_yaxis().set_ticks([])\n",
    "\n",
    "axes.flatten()[0].legend(loc=\"lower right\")\n",
    "plt.tight_layout()"
   ]
  },
  {
   "cell_type": "markdown",
   "id": "67f16fc9-0255-41a8-9bb8-8d539d065f30",
   "metadata": {},
   "source": [
    "# Mean-shift (power)"
   ]
  },
  {
   "cell_type": "code",
   "execution_count": 119,
   "id": "7ac4c1eb-5d89-4f8e-b34b-ac7288b611df",
   "metadata": {},
   "outputs": [],
   "source": [
    "def rej_rate_meanshift(mean_ls, n_ls, nreps, eps0, dim=1, alpha=0.05):\n",
    "    res = {nn: {kk: {\n",
    "        \"tilted\": {\"stat\": [], \"pval\": [], \"rej\": [], \"boot_stats\": []},\n",
    "        \"rbf\": {\"stat\": [], \"pval\": [], \"rej\": [], \"boot_stats\": []},\n",
    "        \"tilted_ol_robust\": {\"nonsq_stat\": [], \"threshold\": [], \"rej\": []},\n",
    "        \"tilted_ball_robust\": {\"nonsq_stat\": [], \"threshold\": [], \"rej\": [], \"theta\": []},\n",
    "    } for kk in mean_ls} for nn in n_ls}\n",
    "    res[\"mean_ls\"] = eps_ls\n",
    "    \n",
    "    for n in n_ls:\n",
    "        for mean in mean_ls:\n",
    "            key = mean\n",
    "            print(\"key:\", key)\n",
    "            ###\n",
    "            mean1 = np.zeros((dim,)) # data\n",
    "            mean2 = np.reshape([mean], (-1,)) # model\n",
    "            \n",
    "            Xs = np.random.multivariate_normal(mean1, np.eye(dim), (nreps, n))\n",
    "        \n",
    "            score_fn = lambda x: - (x - mean2)\n",
    "            ###\n",
    "    \n",
    "            # tilted\n",
    "            score_weight_fn = kernels.PolyWeightFunction()\n",
    "            kernel0 = kernels.RBF(sigma_sq=2.)\n",
    "            kernel = kernels.TiltedKernel(kernel=kernel0, weight_fn=score_weight_fn)\n",
    "\n",
    "            ksd = metrics.KSD(kernel, score_fn=score_fn)\n",
    "            wild_boot = boot.WildBootstrap(ksd)\n",
    "            for X in tqdm(Xs):                \n",
    "                pval, stat, boot_stats = wild_boot.pval(X, X, return_stat=True, return_boot=True)\n",
    "                res[n][key][\"tilted\"][\"stat\"].append(stat)\n",
    "                res[n][key][\"tilted\"][\"pval\"].append(pval)\n",
    "                res[n][key][\"tilted\"][\"rej\"].append(int(pval < alpha))\n",
    "                res[n][key][\"tilted\"][\"boot_stats\"].append(boot_stats)\n",
    "        \n",
    "            # RBF\n",
    "            kernel = kernels.RBF(sigma_sq=2.)\n",
    "            \n",
    "            ksd = metrics.KSD(kernel, score_fn=score_fn)\n",
    "            wild_boot = boot.WildBootstrap(ksd)\n",
    "            for X in tqdm(Xs):                \n",
    "                pval, stat, boot_stats = wild_boot.pval(X, X, return_stat=True, return_boot=True)\n",
    "                res[n][key][\"rbf\"][\"stat\"].append(stat)\n",
    "                res[n][key][\"rbf\"][\"pval\"].append(pval)\n",
    "                res[n][key][\"rbf\"][\"rej\"].append(int(pval < alpha))\n",
    "                res[n][key][\"rbf\"][\"boot_stats\"].append(boot_stats)\n",
    "\n",
    "            # tilted ol robust\n",
    "            score_weight_fn = kernels.PolyWeightFunction()\n",
    "            kernel0 = kernels.RBF(sigma_sq=2.)\n",
    "            kernel = kernels.TiltedKernel(kernel=kernel0, weight_fn=score_weight_fn)\n",
    "\n",
    "            ksd = metrics.KSD(kernel, score_fn=score_fn)\n",
    "            threshold = ksd.test_threshold(n=n, eps0=eps0, alpha=alpha, method=\"ol_robust\")\n",
    "            res[n][key][\"tilted_ol_robust\"][\"threshold\"].append(threshold)\n",
    "            for X in tqdm(Xs):\n",
    "                stat = ksd(X, X, vstat=True) # squared-KSD\n",
    "                stat = stat**0.5\n",
    "                res[n][key][\"tilted_ol_robust\"][\"nonsq_stat\"].append(stat)\n",
    "                res[n][key][\"tilted_ol_robust\"][\"rej\"].append(int(stat > threshold))\n",
    "                \n",
    "            # tilted ball robust\n",
    "            score_weight_fn = kernels.PolyWeightFunction()\n",
    "            kernel0 = kernels.RBF(sigma_sq=2.)\n",
    "            kernel = kernels.TiltedKernel(kernel=kernel0, weight_fn=score_weight_fn)\n",
    "\n",
    "            ksd = metrics.KSD(kernel, score_fn=score_fn)\n",
    "            threshold = ksd.test_threshold(n=n, eps0=eps0, theta=\"ol\", alpha=alpha, method=\"ball_robust\")\n",
    "            res[n][key][\"tilted_ball_robust\"][\"threshold\"].append(threshold)\n",
    "            res[n][key][\"tilted_ball_robust\"][\"theta\"].append(ksd.theta)\n",
    "            for X in tqdm(Xs):\n",
    "                stat = ksd(X, X, vstat=True) # squared-KSD\n",
    "                stat = stat**0.5\n",
    "                res[n][key][\"tilted_ball_robust\"][\"nonsq_stat\"].append(stat)\n",
    "                res[n][key][\"tilted_ball_robust\"][\"rej\"].append(int(stat > threshold))                \n",
    "    \n",
    "    return res"
   ]
  },
  {
   "cell_type": "code",
   "execution_count": 120,
   "id": "dfaab3c5-01be-405f-a066-ec6216fcea5b",
   "metadata": {},
   "outputs": [],
   "source": [
    "def population_ksd_ms(mean, bandwidth_sq=1.):\n",
    "    \"\"\"Non-squared KSD\"\"\"\n",
    "    mu = np.reshape([mean], (-1,))\n",
    "    d = mu.shape[0]\n",
    "    mu_norm = np.sqrt(np.sum(mu**2))\n",
    "    return (bandwidth_sq / (bandwidth_sq + 2))**(d/4) * mu_norm\n",
    "\n",
    "def inverse_population_ksd_ms(val, dim, bandwidth_sq=1.):\n",
    "    \"\"\"val is the non-squared KSD\"\"\"\n",
    "    mu_norm = val * (bandwidth_sq / (bandwidth_sq + 2))**(-dim/4)\n",
    "    return mu_norm"
   ]
  },
  {
   "cell_type": "code",
   "execution_count": 121,
   "id": "f1d57ca0-7a7f-422a-b852-d045290b90b9",
   "metadata": {},
   "outputs": [],
   "source": [
    "np.random.seed(2024)\n",
    "\n",
    "n = 500\n",
    "n_ls = [n]\n",
    "# mean_ls = [0.1, 1., 10., 100.]\n",
    "mean_ls = [0., 0.2, 0.4, 0.5, 0.6, 0.8, 0.9, 1.]\n",
    "\n",
    "eps0 = 0.1 # 0.01"
   ]
  },
  {
   "cell_type": "code",
   "execution_count": null,
   "id": "f205a06c-c8da-4a36-8ee0-31f5cb990892",
   "metadata": {
    "scrolled": true
   },
   "outputs": [
    {
     "name": "stdout",
     "output_type": "stream",
     "text": [
      "key: 0.0\n"
     ]
    },
    {
     "data": {
      "application/vnd.jupyter.widget-view+json": {
       "model_id": "e24322c98317444d9230e6adfc0199f6",
       "version_major": 2,
       "version_minor": 0
      },
      "text/plain": [
       "  0%|          | 0/100 [00:00<?, ?it/s]"
      ]
     },
     "metadata": {},
     "output_type": "display_data"
    }
   ],
   "source": [
    "res_ms = rej_rate_meanshift(mean_ls=mean_ls, n_ls=n_ls, eps0=eps0, nreps=100)"
   ]
  },
  {
   "cell_type": "code",
   "execution_count": 138,
   "id": "239c88c1-6358-4fd0-a9e8-da86bd071fe1",
   "metadata": {},
   "outputs": [
    {
     "data": {
      "image/png": "[encoded data removed]",
      "text/plain": [
       "<Figure size 500x300 with 1 Axes>"
      ]
     },
     "metadata": {},
     "output_type": "display_data"
    }
   ],
   "source": [
    "fig, ax = plt.subplots(ncols=1, nrows=1, figsize=(5, 3))\n",
    "\n",
    "rej_tilted = np.array([np.mean(res_ms[n][kk][\"tilted\"][\"rej\"]) for kk in mean_ls])\n",
    "rej_rbf = np.array([np.mean(res_ms[n][kk][\"rbf\"][\"rej\"]) for kk in mean_ls])\n",
    "rej_ol_robust = np.array([np.mean(res_ms[n][kk][\"tilted_ol_robust\"][\"rej\"]) for kk in mean_ls])\n",
    "rej_ball_robust = np.array([np.mean(res_ms[n][kk][\"tilted_ball_robust\"][\"rej\"]) for kk in mean_ls])\n",
    "\n",
    "ksd_ls = [population_ksd_ms(mm) for mm in mean_ls]\n",
    "ax.scatter(ksd_ls, rej_tilted, label=\"Tilted\")\n",
    "ax.scatter(ksd_ls, rej_rbf, label=\"RBF\", marker=\"x\")\n",
    "ax.scatter(ksd_ls, rej_ol_robust, label=\"OL-robust\", marker=\"+\")\n",
    "ax.scatter(ksd_ls, rej_ball_robust, label=\"Ball-robust\", marker=5)\n",
    "theta = res_ms[n][mean_ls[0]][\"tilted_ball_robust\"][\"threshold\"][0]\n",
    "ax.axvline(theta, linestyle=\"-.\", color=\"k\", label=r\"$\\theta$\")\n",
    "ax.axhline(0.05, linestyle=\"--\", color=\"grey\")\n",
    "# ax.set_xscale(\"log\")\n",
    "ax.set_ylim(-0.05, 1.05)\n",
    "ax.set_xlabel(\"KSD\")\n",
    "ax.set_ylabel(\"Rejection rate\")\n",
    "ax.legend(loc=\"center left\", bbox_to_anchor=(1, 0.5))\n",
    "plt.tight_layout()\n",
    "plt.savefig(\"../figs/robust/rej_ms.pdf\")\n",
    "\n",
    "# fig, ax = plt.subplots(ncols=1, nrows=1, figsize=(3, 3))\n",
    "# ksd_val = [np.mean(res_ms[n][kk][\"rbf\"][\"stat\"])**0.5 for kk in mean_ls]\n",
    "# ksd_val_pred = [population_ksd_ms(mm) for mm in mean_ls]\n",
    "# ax.scatter(mean_ls, ksd_val, label=\"empirical\")\n",
    "# ax.scatter(mean_ls, ksd_val_pred, marker=\"x\", label=\"pred\")\n",
    "# # ax.set_xscale(\"log\")\n",
    "# ax.legend()\n",
    "\n",
    "# plt.tight_layout()"
   ]
  },
  {
   "cell_type": "code",
   "execution_count": null,
   "id": "2c3ac1c9-dd18-4322-9ea6-65934ead5df9",
   "metadata": {},
   "outputs": [],
   "source": []
  },
  {
   "cell_type": "code",
   "execution_count": 111,
   "id": "3b77f5f7-f94e-4640-bcdd-d5c71b4fb866",
   "metadata": {},
   "outputs": [
    {
     "data": {
      "image/png": "[encoded data removed]",
      "text/plain": [
       "<Figure size 600x300 with 2 Axes>"
      ]
     },
     "metadata": {},
     "output_type": "display_data"
    }
   ],
   "source": [
    "figs, axes = plt.subplots(ncols=2, nrows=1, figsize=(6, 3))\n",
    "\n",
    "ax = axes[0]\n",
    "rej_tilted = np.array([np.mean(res_ms[n][kk][\"tilted\"][\"rej\"]) for kk in mean_ls])\n",
    "rej_rbf = np.array([np.mean(res_ms[n][kk][\"rbf\"][\"rej\"]) for kk in mean_ls])\n",
    "rej_ol_robust = np.array([np.mean(res_ms[n][kk][\"tilted_ol_robust\"][\"rej\"]) for kk in mean_ls])\n",
    "rej_ball_robust = np.array([np.mean(res_ms[n][kk][\"tilted_ball_robust\"][\"rej\"]) for kk in mean_ls])\n",
    "\n",
    "ax.scatter(mean_ls, rej_tilted, label=\"tilted\")\n",
    "ax.scatter(mean_ls, rej_rbf, label=\"rbf\", marker=\"x\")\n",
    "ax.scatter(mean_ls, rej_ol_robust, label=\"ol_robust\", marker=\"+\")\n",
    "ax.scatter(mean_ls, rej_ball_robust, label=\"ball_robust\", marker=5)\n",
    "theta = res_ms[n][mean_ls[0]][\"tilted_ball_robust\"][\"threshold\"][0]\n",
    "ax.axvline(theta, linestyle=\"-.\", color=\"k\", label=r\"$\\theta$\")\n",
    "ax.axhline(0.05, linestyle=\"--\", color=\"grey\")\n",
    "# ax.set_xscale(\"log\")\n",
    "ax.set_ylim(-0.05, 1.05)\n",
    "ax.legend()\n",
    "\n",
    "ax = axes[1]\n",
    "ksd_val = [np.mean(res_ms[n][kk][\"rbf\"][\"stat\"])**0.5 for kk in mean_ls]\n",
    "ksd_val_pred = [population_ksd_ms(mm) for mm in mean_ls]\n",
    "ax.scatter(mean_ls, ksd_val, label=\"empirical\")\n",
    "ax.scatter(mean_ls, ksd_val_pred, marker=\"x\", label=\"pred\")\n",
    "# ax.set_xscale(\"log\")\n",
    "ax.legend()\n",
    "\n",
    "plt.tight_layout()"
   ]
  },
  {
   "cell_type": "code",
   "execution_count": null,
   "id": "62d54d7d-d0e0-45df-addf-294b76641f7f",
   "metadata": {},
   "outputs": [],
   "source": []
  },
  {
   "cell_type": "code",
   "execution_count": null,
   "id": "7c00dc33-769f-4195-b9cc-e6c8298bdb92",
   "metadata": {},
   "outputs": [],
   "source": []
  }
 ],
 "metadata": {
  "kernelspec": {
   "display_name": "robust",
   "language": "python",
   "name": "robust"
  },
  "language_info": {
   "codemirror_mode": {
    "name": "ipython",
    "version": 3
   },
   "file_extension": ".py",
   "mimetype": "text/x-python",
   "name": "python",
   "nbconvert_exporter": "python",
   "pygments_lexer": "ipython3",
   "version": "3.8.10"
  }
 },
 "nbformat": 4,
 "nbformat_minor": 5
}
