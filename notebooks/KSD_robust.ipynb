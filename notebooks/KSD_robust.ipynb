{
 "cells": [
  {
   "cell_type": "code",
   "execution_count": 14,
   "id": "87e8e061-2e70-43cb-82be-5c9a5f67c67f",
   "metadata": {},
   "outputs": [
    {
     "name": "stdout",
     "output_type": "stream",
     "text": [
      "The autoreload extension is already loaded. To reload it, use:\n",
      "  %reload_ext autoreload\n"
     ]
    }
   ],
   "source": [
    "%load_ext autoreload\n",
    "%autoreload 2\n",
    "\n",
    "import numpy as np\n",
    "import pandas as pd\n",
    "import matplotlib.pyplot as plt\n",
    "from tqdm.notebook import tqdm, trange\n",
    "import seaborn as sns\n",
    "\n",
    "import src.metrics as metrics\n",
    "import src.kernels as kernels\n",
    "import src.bootstrap as boot"
   ]
  },
  {
   "cell_type": "markdown",
   "id": "b92963ed-cfb8-4f35-82c0-b590ffddb74d",
   "metadata": {},
   "source": [
    "# Outliers (level)"
   ]
  },
  {
   "cell_type": "code",
   "execution_count": 52,
   "id": "dcb29839-95b8-45cc-a414-e5c3ade458c5",
   "metadata": {},
   "outputs": [],
   "source": [
    "def rej_rate_outliers(outlier, n_ls, eps_ls, nreps, eps0, bandwidth=1., dim=1, alpha=0.05):\n",
    "    res = {oo: {kk: {\n",
    "        \"tilted\": {\"stat\": [], \"pval\": [], \"rej\": [], \"boot_stats\": []},\n",
    "        \"rbf\": {\"stat\": [], \"pval\": [], \"rej\": [], \"boot_stats\": []},\n",
    "        \"tilted_ol_robust\": {\"nonsq_stat\": [], \"threshold\": [], \"rej\": []},\n",
    "        \"tilted_ball_robust\": {\"nonsq_stat\": [], \"threshold\": [], \"rej\": []},\n",
    "    } for kk in eps_ls} for oo in n_ls}\n",
    "    res[\"eps_ls\"] = eps_ls\n",
    "    \n",
    "    for n in n_ls:\n",
    "        for eps in eps_ls:\n",
    "            key = eps\n",
    "            print(\"key:\", key)\n",
    "            ###\n",
    "            mean1 = np.zeros((dim,)) # data\n",
    "            mean2 = np.zeros((dim,)) # model\n",
    "            \n",
    "            Xs = np.random.multivariate_normal(mean1, np.eye(dim), (nreps, n))\n",
    "            n_outlier = max(1, int(n * eps))\n",
    "            Xs[:, :n_outlier] = outlier\n",
    "        \n",
    "            score_fn = lambda x: - (x - mean2)\n",
    "            ###\n",
    "    \n",
    "            for X in tqdm(Xs):                \n",
    "                # tilted\n",
    "                score_weight_fn = kernels.PolyWeightFunction()\n",
    "                kernel0 = kernels.RBF(sigma_sq=2. * bandwidth)\n",
    "                kernel = kernels.TiltedKernel(kernel=kernel0, weight_fn=score_weight_fn)\n",
    "    \n",
    "                ksd = metrics.KSD(kernel, score_fn=score_fn)\n",
    "                wild_boot = boot.WildBootstrap(ksd)\n",
    "                pval, stat, boot_stats = wild_boot.pval(X, X, return_stat=True, return_boot=True)\n",
    "                res[n][key][\"tilted\"][\"stat\"].append(stat)\n",
    "                res[n][key][\"tilted\"][\"pval\"].append(pval)\n",
    "                res[n][key][\"tilted\"][\"rej\"].append(int(pval < alpha))\n",
    "                res[n][key][\"tilted\"][\"boot_stats\"].append(boot_stats)\n",
    "        \n",
    "                # RBF\n",
    "                kernel = kernels.RBF(sigma_sq=2. * bandwidth)\n",
    "                \n",
    "                ksd = metrics.KSD(kernel, score_fn=score_fn)\n",
    "                wild_boot = boot.WildBootstrap(ksd)\n",
    "                pval, stat, boot_stats = wild_boot.pval(X, X, return_stat=True, return_boot=True)\n",
    "                res[n][key][\"rbf\"][\"stat\"].append(stat)\n",
    "                res[n][key][\"rbf\"][\"pval\"].append(pval)\n",
    "                res[n][key][\"rbf\"][\"rej\"].append(int(pval < alpha))\n",
    "                res[n][key][\"rbf\"][\"boot_stats\"].append(boot_stats)\n",
    "\n",
    "                # tilted ol robust\n",
    "                score_weight_fn = kernels.PolyWeightFunction()\n",
    "                kernel0 = kernels.RBF(sigma_sq=2. * bandwidth)\n",
    "                kernel = kernels.TiltedKernel(kernel=kernel0, weight_fn=score_weight_fn)\n",
    "    \n",
    "                ksd = metrics.KSD(kernel, score_fn=score_fn)\n",
    "                threshold = ksd.test_threshold(n=n, eps0=eps, alpha=alpha, method=\"ol_robust\")\n",
    "                stat = ksd(X, X, vstat=True) # squared-KSD\n",
    "                stat = stat**0.5\n",
    "                res[n][key][\"tilted_ol_robust\"][\"nonsq_stat\"].append(stat)\n",
    "                res[n][key][\"tilted_ol_robust\"][\"threshold\"].append(threshold)\n",
    "                res[n][key][\"tilted_ol_robust\"][\"rej\"].append(int(stat > threshold))\n",
    "\n",
    "                # tilted ball robust\n",
    "                score_weight_fn = kernels.PolyWeightFunction()\n",
    "                kernel0 = kernels.RBF(sigma_sq=2. * bandwidth)\n",
    "                kernel = kernels.TiltedKernel(kernel=kernel0, weight_fn=score_weight_fn)\n",
    "    \n",
    "                ksd = metrics.KSD(kernel, score_fn=score_fn)\n",
    "                threshold = ksd.test_threshold(n=n, eps0=eps0, theta=\"ol\", alpha=alpha, method=\"ball_robust\")\n",
    "                stat = ksd(X, X, vstat=True) # squared-KSD\n",
    "                stat = stat**0.5\n",
    "                res[n][key][\"tilted_ball_robust\"][\"nonsq_stat\"].append(stat)\n",
    "                res[n][key][\"tilted_ball_robust\"][\"threshold\"].append(threshold)\n",
    "                res[n][key][\"tilted_ball_robust\"][\"rej\"].append(int(stat > threshold))\n",
    "\n",
    "    return res"
   ]
  },
  {
   "cell_type": "code",
   "execution_count": 116,
   "id": "a4ccff27-61e1-4bbb-a190-e125a2bce753",
   "metadata": {},
   "outputs": [],
   "source": [
    "np.random.seed(2024)\n",
    "\n",
    "n = 500\n",
    "n_ls = [n] # [100, 500, 1000]\n",
    "eps_ls = [0.1, 0.05, 0.01, 0.005] # [0.01, 0.1]"
   ]
  },
  {
   "cell_type": "code",
   "execution_count": 117,
   "id": "5734494b-2395-4879-a475-c9869471c7f0",
   "metadata": {
    "scrolled": true
   },
   "outputs": [
    {
     "name": "stdout",
     "output_type": "stream",
     "text": [
      "key: 0.1\n"
     ]
    },
    {
     "data": {
      "application/vnd.jupyter.widget-view+json": {
       "model_id": "f2c6f55d19ce4508b3a976ff301568f5",
       "version_major": 2,
       "version_minor": 0
      },
      "text/plain": [
       "  0%|          | 0/100 [00:00<?, ?it/s]"
      ]
     },
     "metadata": {},
     "output_type": "display_data"
    },
    {
     "data": {
      "application/vnd.jupyter.widget-view+json": {
       "model_id": "56a9b2c14a5045e48d689a4fab89a7c8",
       "version_major": 2,
       "version_minor": 0
      },
      "text/plain": [
       "  0%|          | 0/100 [00:00<?, ?it/s]"
      ]
     },
     "metadata": {},
     "output_type": "display_data"
    },
    {
     "data": {
      "application/vnd.jupyter.widget-view+json": {
       "model_id": "b24f84525619456381d516764bc12780",
       "version_major": 2,
       "version_minor": 0
      },
      "text/plain": [
       "  0%|          | 0/100 [00:00<?, ?it/s]"
      ]
     },
     "metadata": {},
     "output_type": "display_data"
    },
    {
     "data": {
      "application/vnd.jupyter.widget-view+json": {
       "model_id": "18c517c9380a4d40893986298ac1b4a6",
       "version_major": 2,
       "version_minor": 0
      },
      "text/plain": [
       "  0%|          | 0/100 [00:00<?, ?it/s]"
      ]
     },
     "metadata": {},
     "output_type": "display_data"
    },
    {
     "name": "stdout",
     "output_type": "stream",
     "text": [
      "key: 0.05\n"
     ]
    },
    {
     "data": {
      "application/vnd.jupyter.widget-view+json": {
       "model_id": "a28a321547074074b51efed60f12dce5",
       "version_major": 2,
       "version_minor": 0
      },
      "text/plain": [
       "  0%|          | 0/100 [00:00<?, ?it/s]"
      ]
     },
     "metadata": {},
     "output_type": "display_data"
    },
    {
     "data": {
      "application/vnd.jupyter.widget-view+json": {
       "model_id": "d918c8fe3fb8497c82fe1e316b4b29f1",
       "version_major": 2,
       "version_minor": 0
      },
      "text/plain": [
       "  0%|          | 0/100 [00:00<?, ?it/s]"
      ]
     },
     "metadata": {},
     "output_type": "display_data"
    },
    {
     "data": {
      "application/vnd.jupyter.widget-view+json": {
       "model_id": "32a5418dd9b143558dae8e0033c61cc3",
       "version_major": 2,
       "version_minor": 0
      },
      "text/plain": [
       "  0%|          | 0/100 [00:00<?, ?it/s]"
      ]
     },
     "metadata": {},
     "output_type": "display_data"
    },
    {
     "data": {
      "application/vnd.jupyter.widget-view+json": {
       "model_id": "ca1a574ad3374f03b266af43f0af1777",
       "version_major": 2,
       "version_minor": 0
      },
      "text/plain": [
       "  0%|          | 0/100 [00:00<?, ?it/s]"
      ]
     },
     "metadata": {},
     "output_type": "display_data"
    },
    {
     "name": "stdout",
     "output_type": "stream",
     "text": [
      "key: 0.01\n"
     ]
    },
    {
     "data": {
      "application/vnd.jupyter.widget-view+json": {
       "model_id": "50e2d51fdada4a8b83699e5f54771ea9",
       "version_major": 2,
       "version_minor": 0
      },
      "text/plain": [
       "  0%|          | 0/100 [00:00<?, ?it/s]"
      ]
     },
     "metadata": {},
     "output_type": "display_data"
    },
    {
     "data": {
      "application/vnd.jupyter.widget-view+json": {
       "model_id": "0f6a88923de044cea6906269092faa81",
       "version_major": 2,
       "version_minor": 0
      },
      "text/plain": [
       "  0%|          | 0/100 [00:00<?, ?it/s]"
      ]
     },
     "metadata": {},
     "output_type": "display_data"
    },
    {
     "data": {
      "application/vnd.jupyter.widget-view+json": {
       "model_id": "4621dd0a21e544ec8e82676f249347c7",
       "version_major": 2,
       "version_minor": 0
      },
      "text/plain": [
       "  0%|          | 0/100 [00:00<?, ?it/s]"
      ]
     },
     "metadata": {},
     "output_type": "display_data"
    },
    {
     "data": {
      "application/vnd.jupyter.widget-view+json": {
       "model_id": "aa1c7405e2f748e0813cda2d5d537425",
       "version_major": 2,
       "version_minor": 0
      },
      "text/plain": [
       "  0%|          | 0/100 [00:00<?, ?it/s]"
      ]
     },
     "metadata": {},
     "output_type": "display_data"
    },
    {
     "name": "stdout",
     "output_type": "stream",
     "text": [
      "key: 0.005\n"
     ]
    },
    {
     "data": {
      "application/vnd.jupyter.widget-view+json": {
       "model_id": "5cbc92c2abce49728c8c1b856fc196b9",
       "version_major": 2,
       "version_minor": 0
      },
      "text/plain": [
       "  0%|          | 0/100 [00:00<?, ?it/s]"
      ]
     },
     "metadata": {},
     "output_type": "display_data"
    },
    {
     "data": {
      "application/vnd.jupyter.widget-view+json": {
       "model_id": "5057a3c060884c03951500509acdac1f",
       "version_major": 2,
       "version_minor": 0
      },
      "text/plain": [
       "  0%|          | 0/100 [00:00<?, ?it/s]"
      ]
     },
     "metadata": {},
     "output_type": "display_data"
    },
    {
     "data": {
      "application/vnd.jupyter.widget-view+json": {
       "model_id": "15256e32ce2e4c59b73bbf378af5eb4a",
       "version_major": 2,
       "version_minor": 0
      },
      "text/plain": [
       "  0%|          | 0/100 [00:00<?, ?it/s]"
      ]
     },
     "metadata": {},
     "output_type": "display_data"
    },
    {
     "data": {
      "application/vnd.jupyter.widget-view+json": {
       "model_id": "a8d607cf6b6d40229a38e2fd24bedb18",
       "version_major": 2,
       "version_minor": 0
      },
      "text/plain": [
       "  0%|          | 0/100 [00:00<?, ?it/s]"
      ]
     },
     "metadata": {},
     "output_type": "display_data"
    },
    {
     "name": "stdout",
     "output_type": "stream",
     "text": [
      "key: 0.1\n"
     ]
    },
    {
     "data": {
      "application/vnd.jupyter.widget-view+json": {
       "model_id": "f35e9bfcbbe2434ba0c01a34d096b8d1",
       "version_major": 2,
       "version_minor": 0
      },
      "text/plain": [
       "  0%|          | 0/100 [00:00<?, ?it/s]"
      ]
     },
     "metadata": {},
     "output_type": "display_data"
    },
    {
     "data": {
      "application/vnd.jupyter.widget-view+json": {
       "model_id": "e9358576cbd649718e484815fc737d95",
       "version_major": 2,
       "version_minor": 0
      },
      "text/plain": [
       "  0%|          | 0/100 [00:00<?, ?it/s]"
      ]
     },
     "metadata": {},
     "output_type": "display_data"
    },
    {
     "data": {
      "application/vnd.jupyter.widget-view+json": {
       "model_id": "0347735a02b449f7987fb52d01d5a979",
       "version_major": 2,
       "version_minor": 0
      },
      "text/plain": [
       "  0%|          | 0/100 [00:00<?, ?it/s]"
      ]
     },
     "metadata": {},
     "output_type": "display_data"
    },
    {
     "data": {
      "application/vnd.jupyter.widget-view+json": {
       "model_id": "21586c0dd58d4f81b57310185ef2afd8",
       "version_major": 2,
       "version_minor": 0
      },
      "text/plain": [
       "  0%|          | 0/100 [00:00<?, ?it/s]"
      ]
     },
     "metadata": {},
     "output_type": "display_data"
    },
    {
     "name": "stdout",
     "output_type": "stream",
     "text": [
      "key: 0.05\n"
     ]
    },
    {
     "data": {
      "application/vnd.jupyter.widget-view+json": {
       "model_id": "4b5e293f5c8f4f8181c4f08d2ec01a51",
       "version_major": 2,
       "version_minor": 0
      },
      "text/plain": [
       "  0%|          | 0/100 [00:00<?, ?it/s]"
      ]
     },
     "metadata": {},
     "output_type": "display_data"
    },
    {
     "data": {
      "application/vnd.jupyter.widget-view+json": {
       "model_id": "e1c29549fd244fcf828fa84e911d5d37",
       "version_major": 2,
       "version_minor": 0
      },
      "text/plain": [
       "  0%|          | 0/100 [00:00<?, ?it/s]"
      ]
     },
     "metadata": {},
     "output_type": "display_data"
    },
    {
     "data": {
      "application/vnd.jupyter.widget-view+json": {
       "model_id": "ca6db15f05d54972be18d25e531041ed",
       "version_major": 2,
       "version_minor": 0
      },
      "text/plain": [
       "  0%|          | 0/100 [00:00<?, ?it/s]"
      ]
     },
     "metadata": {},
     "output_type": "display_data"
    },
    {
     "data": {
      "application/vnd.jupyter.widget-view+json": {
       "model_id": "17d0c9e16e784e12b738d22dc7e4b75b",
       "version_major": 2,
       "version_minor": 0
      },
      "text/plain": [
       "  0%|          | 0/100 [00:00<?, ?it/s]"
      ]
     },
     "metadata": {},
     "output_type": "display_data"
    },
    {
     "name": "stdout",
     "output_type": "stream",
     "text": [
      "key: 0.01\n"
     ]
    },
    {
     "data": {
      "application/vnd.jupyter.widget-view+json": {
       "model_id": "ce7265344f2e4f04967c49032827fa8f",
       "version_major": 2,
       "version_minor": 0
      },
      "text/plain": [
       "  0%|          | 0/100 [00:00<?, ?it/s]"
      ]
     },
     "metadata": {},
     "output_type": "display_data"
    },
    {
     "data": {
      "application/vnd.jupyter.widget-view+json": {
       "model_id": "7283830130bc40a89879420b1339e1c7",
       "version_major": 2,
       "version_minor": 0
      },
      "text/plain": [
       "  0%|          | 0/100 [00:00<?, ?it/s]"
      ]
     },
     "metadata": {},
     "output_type": "display_data"
    },
    {
     "data": {
      "application/vnd.jupyter.widget-view+json": {
       "model_id": "bb9911df6da740dfb476c4e196741e65",
       "version_major": 2,
       "version_minor": 0
      },
      "text/plain": [
       "  0%|          | 0/100 [00:00<?, ?it/s]"
      ]
     },
     "metadata": {},
     "output_type": "display_data"
    },
    {
     "data": {
      "application/vnd.jupyter.widget-view+json": {
       "model_id": "c2027c6bb7f44ed9b1acb993d20a7f5d",
       "version_major": 2,
       "version_minor": 0
      },
      "text/plain": [
       "  0%|          | 0/100 [00:00<?, ?it/s]"
      ]
     },
     "metadata": {},
     "output_type": "display_data"
    },
    {
     "name": "stdout",
     "output_type": "stream",
     "text": [
      "key: 0.005\n"
     ]
    },
    {
     "data": {
      "application/vnd.jupyter.widget-view+json": {
       "model_id": "c4c62e486f4b4e44a2e463183d784dc5",
       "version_major": 2,
       "version_minor": 0
      },
      "text/plain": [
       "  0%|          | 0/100 [00:00<?, ?it/s]"
      ]
     },
     "metadata": {},
     "output_type": "display_data"
    },
    {
     "data": {
      "application/vnd.jupyter.widget-view+json": {
       "model_id": "7ceb6452bcdf41c19ffb2dfe270faf2b",
       "version_major": 2,
       "version_minor": 0
      },
      "text/plain": [
       "  0%|          | 0/100 [00:00<?, ?it/s]"
      ]
     },
     "metadata": {},
     "output_type": "display_data"
    },
    {
     "data": {
      "application/vnd.jupyter.widget-view+json": {
       "model_id": "d5671aa2421e446ab6f51d33de23f1f7",
       "version_major": 2,
       "version_minor": 0
      },
      "text/plain": [
       "  0%|          | 0/100 [00:00<?, ?it/s]"
      ]
     },
     "metadata": {},
     "output_type": "display_data"
    },
    {
     "data": {
      "application/vnd.jupyter.widget-view+json": {
       "model_id": "5bcc1c427c3a4d34bd45801a48b718c6",
       "version_major": 2,
       "version_minor": 0
      },
      "text/plain": [
       "  0%|          | 0/100 [00:00<?, ?it/s]"
      ]
     },
     "metadata": {},
     "output_type": "display_data"
    },
    {
     "name": "stdout",
     "output_type": "stream",
     "text": [
      "key: 0.1\n"
     ]
    },
    {
     "data": {
      "application/vnd.jupyter.widget-view+json": {
       "model_id": "b0044f77d3fc469c99b08df35a82b29d",
       "version_major": 2,
       "version_minor": 0
      },
      "text/plain": [
       "  0%|          | 0/100 [00:00<?, ?it/s]"
      ]
     },
     "metadata": {},
     "output_type": "display_data"
    },
    {
     "data": {
      "application/vnd.jupyter.widget-view+json": {
       "model_id": "157eb8ea673346ae998d99c997a3d2a4",
       "version_major": 2,
       "version_minor": 0
      },
      "text/plain": [
       "  0%|          | 0/100 [00:00<?, ?it/s]"
      ]
     },
     "metadata": {},
     "output_type": "display_data"
    },
    {
     "data": {
      "application/vnd.jupyter.widget-view+json": {
       "model_id": "692ce7e21f74465092d878003d285e56",
       "version_major": 2,
       "version_minor": 0
      },
      "text/plain": [
       "  0%|          | 0/100 [00:00<?, ?it/s]"
      ]
     },
     "metadata": {},
     "output_type": "display_data"
    },
    {
     "data": {
      "application/vnd.jupyter.widget-view+json": {
       "model_id": "6519055c55bf40f0b3a0bcbf213de8ec",
       "version_major": 2,
       "version_minor": 0
      },
      "text/plain": [
       "  0%|          | 0/100 [00:00<?, ?it/s]"
      ]
     },
     "metadata": {},
     "output_type": "display_data"
    },
    {
     "name": "stdout",
     "output_type": "stream",
     "text": [
      "key: 0.05\n"
     ]
    },
    {
     "data": {
      "application/vnd.jupyter.widget-view+json": {
       "model_id": "3858cd2d80ee4c0f9e044a24c52e064c",
       "version_major": 2,
       "version_minor": 0
      },
      "text/plain": [
       "  0%|          | 0/100 [00:00<?, ?it/s]"
      ]
     },
     "metadata": {},
     "output_type": "display_data"
    },
    {
     "data": {
      "application/vnd.jupyter.widget-view+json": {
       "model_id": "32c86edd1cd74d79bd0963ad325d1830",
       "version_major": 2,
       "version_minor": 0
      },
      "text/plain": [
       "  0%|          | 0/100 [00:00<?, ?it/s]"
      ]
     },
     "metadata": {},
     "output_type": "display_data"
    },
    {
     "data": {
      "application/vnd.jupyter.widget-view+json": {
       "model_id": "6206a18804d9458ab0b9113112722ce3",
       "version_major": 2,
       "version_minor": 0
      },
      "text/plain": [
       "  0%|          | 0/100 [00:00<?, ?it/s]"
      ]
     },
     "metadata": {},
     "output_type": "display_data"
    },
    {
     "data": {
      "application/vnd.jupyter.widget-view+json": {
       "model_id": "ac5e4c91660442ea9193c314a2f0fc79",
       "version_major": 2,
       "version_minor": 0
      },
      "text/plain": [
       "  0%|          | 0/100 [00:00<?, ?it/s]"
      ]
     },
     "metadata": {},
     "output_type": "display_data"
    },
    {
     "name": "stdout",
     "output_type": "stream",
     "text": [
      "key: 0.01\n"
     ]
    },
    {
     "data": {
      "application/vnd.jupyter.widget-view+json": {
       "model_id": "3488b2d8052f4c08ac17e44a8e0fa22f",
       "version_major": 2,
       "version_minor": 0
      },
      "text/plain": [
       "  0%|          | 0/100 [00:00<?, ?it/s]"
      ]
     },
     "metadata": {},
     "output_type": "display_data"
    },
    {
     "data": {
      "application/vnd.jupyter.widget-view+json": {
       "model_id": "2fa58c96d75945c59245f8ab64ab163f",
       "version_major": 2,
       "version_minor": 0
      },
      "text/plain": [
       "  0%|          | 0/100 [00:00<?, ?it/s]"
      ]
     },
     "metadata": {},
     "output_type": "display_data"
    },
    {
     "data": {
      "application/vnd.jupyter.widget-view+json": {
       "model_id": "1c628cbc32294ae08173cf206c6e1b89",
       "version_major": 2,
       "version_minor": 0
      },
      "text/plain": [
       "  0%|          | 0/100 [00:00<?, ?it/s]"
      ]
     },
     "metadata": {},
     "output_type": "display_data"
    },
    {
     "data": {
      "application/vnd.jupyter.widget-view+json": {
       "model_id": "30c3f3b08f3b41e68ea7aeee93db12f1",
       "version_major": 2,
       "version_minor": 0
      },
      "text/plain": [
       "  0%|          | 0/100 [00:00<?, ?it/s]"
      ]
     },
     "metadata": {},
     "output_type": "display_data"
    },
    {
     "name": "stdout",
     "output_type": "stream",
     "text": [
      "key: 0.005\n"
     ]
    },
    {
     "data": {
      "application/vnd.jupyter.widget-view+json": {
       "model_id": "7ff356f9a5284722b84902ee4a82c403",
       "version_major": 2,
       "version_minor": 0
      },
      "text/plain": [
       "  0%|          | 0/100 [00:00<?, ?it/s]"
      ]
     },
     "metadata": {},
     "output_type": "display_data"
    },
    {
     "data": {
      "application/vnd.jupyter.widget-view+json": {
       "model_id": "ff2811caf6004d68b38c88f55896144d",
       "version_major": 2,
       "version_minor": 0
      },
      "text/plain": [
       "  0%|          | 0/100 [00:00<?, ?it/s]"
      ]
     },
     "metadata": {},
     "output_type": "display_data"
    },
    {
     "data": {
      "application/vnd.jupyter.widget-view+json": {
       "model_id": "8c0dc29c26194da38c3f728ea9b95a2c",
       "version_major": 2,
       "version_minor": 0
      },
      "text/plain": [
       "  0%|          | 0/100 [00:00<?, ?it/s]"
      ]
     },
     "metadata": {},
     "output_type": "display_data"
    },
    {
     "data": {
      "application/vnd.jupyter.widget-view+json": {
       "model_id": "b2904266c25542acb624e1a2e3291b2f",
       "version_major": 2,
       "version_minor": 0
      },
      "text/plain": [
       "  0%|          | 0/100 [00:00<?, ?it/s]"
      ]
     },
     "metadata": {},
     "output_type": "display_data"
    },
    {
     "name": "stdout",
     "output_type": "stream",
     "text": [
      "key: 0.1\n"
     ]
    },
    {
     "data": {
      "application/vnd.jupyter.widget-view+json": {
       "model_id": "3dc7538afec94be5bcac7a88f2d3ea60",
       "version_major": 2,
       "version_minor": 0
      },
      "text/plain": [
       "  0%|          | 0/100 [00:00<?, ?it/s]"
      ]
     },
     "metadata": {},
     "output_type": "display_data"
    },
    {
     "data": {
      "application/vnd.jupyter.widget-view+json": {
       "model_id": "b183fc9346a34d789b26a853256cafca",
       "version_major": 2,
       "version_minor": 0
      },
      "text/plain": [
       "  0%|          | 0/100 [00:00<?, ?it/s]"
      ]
     },
     "metadata": {},
     "output_type": "display_data"
    },
    {
     "data": {
      "application/vnd.jupyter.widget-view+json": {
       "model_id": "5ac33221d2b644d8b780899abc8ef161",
       "version_major": 2,
       "version_minor": 0
      },
      "text/plain": [
       "  0%|          | 0/100 [00:00<?, ?it/s]"
      ]
     },
     "metadata": {},
     "output_type": "display_data"
    },
    {
     "data": {
      "application/vnd.jupyter.widget-view+json": {
       "model_id": "6af50287b60f40bdbe91068ee625ea86",
       "version_major": 2,
       "version_minor": 0
      },
      "text/plain": [
       "  0%|          | 0/100 [00:00<?, ?it/s]"
      ]
     },
     "metadata": {},
     "output_type": "display_data"
    },
    {
     "name": "stdout",
     "output_type": "stream",
     "text": [
      "key: 0.05\n"
     ]
    },
    {
     "data": {
      "application/vnd.jupyter.widget-view+json": {
       "model_id": "fd257d05d8d64429bd76ab3c9b613623",
       "version_major": 2,
       "version_minor": 0
      },
      "text/plain": [
       "  0%|          | 0/100 [00:00<?, ?it/s]"
      ]
     },
     "metadata": {},
     "output_type": "display_data"
    },
    {
     "data": {
      "application/vnd.jupyter.widget-view+json": {
       "model_id": "caef3b97256a4b43ae195132530938f2",
       "version_major": 2,
       "version_minor": 0
      },
      "text/plain": [
       "  0%|          | 0/100 [00:00<?, ?it/s]"
      ]
     },
     "metadata": {},
     "output_type": "display_data"
    },
    {
     "data": {
      "application/vnd.jupyter.widget-view+json": {
       "model_id": "143f683ea8e6445fa24edf2c7904dbc9",
       "version_major": 2,
       "version_minor": 0
      },
      "text/plain": [
       "  0%|          | 0/100 [00:00<?, ?it/s]"
      ]
     },
     "metadata": {},
     "output_type": "display_data"
    },
    {
     "data": {
      "application/vnd.jupyter.widget-view+json": {
       "model_id": "608a592ed56843cb98c7015af41b04d8",
       "version_major": 2,
       "version_minor": 0
      },
      "text/plain": [
       "  0%|          | 0/100 [00:00<?, ?it/s]"
      ]
     },
     "metadata": {},
     "output_type": "display_data"
    },
    {
     "name": "stdout",
     "output_type": "stream",
     "text": [
      "key: 0.01\n"
     ]
    },
    {
     "data": {
      "application/vnd.jupyter.widget-view+json": {
       "model_id": "351ec46784434426bb4e836a40b9f111",
       "version_major": 2,
       "version_minor": 0
      },
      "text/plain": [
       "  0%|          | 0/100 [00:00<?, ?it/s]"
      ]
     },
     "metadata": {},
     "output_type": "display_data"
    },
    {
     "data": {
      "application/vnd.jupyter.widget-view+json": {
       "model_id": "70220852d777414293ee711a76746b64",
       "version_major": 2,
       "version_minor": 0
      },
      "text/plain": [
       "  0%|          | 0/100 [00:00<?, ?it/s]"
      ]
     },
     "metadata": {},
     "output_type": "display_data"
    },
    {
     "data": {
      "application/vnd.jupyter.widget-view+json": {
       "model_id": "a0730c82db3246489edcff3a7625595a",
       "version_major": 2,
       "version_minor": 0
      },
      "text/plain": [
       "  0%|          | 0/100 [00:00<?, ?it/s]"
      ]
     },
     "metadata": {},
     "output_type": "display_data"
    },
    {
     "data": {
      "application/vnd.jupyter.widget-view+json": {
       "model_id": "f4fc354148aa4ee2ac04660a242e5b21",
       "version_major": 2,
       "version_minor": 0
      },
      "text/plain": [
       "  0%|          | 0/100 [00:00<?, ?it/s]"
      ]
     },
     "metadata": {},
     "output_type": "display_data"
    },
    {
     "name": "stdout",
     "output_type": "stream",
     "text": [
      "key: 0.005\n"
     ]
    },
    {
     "data": {
      "application/vnd.jupyter.widget-view+json": {
       "model_id": "cc422716a4db42e59094a7c301a1b883",
       "version_major": 2,
       "version_minor": 0
      },
      "text/plain": [
       "  0%|          | 0/100 [00:00<?, ?it/s]"
      ]
     },
     "metadata": {},
     "output_type": "display_data"
    },
    {
     "data": {
      "application/vnd.jupyter.widget-view+json": {
       "model_id": "b25bbc0fdabc4576a994a5522c5eb713",
       "version_major": 2,
       "version_minor": 0
      },
      "text/plain": [
       "  0%|          | 0/100 [00:00<?, ?it/s]"
      ]
     },
     "metadata": {},
     "output_type": "display_data"
    },
    {
     "data": {
      "application/vnd.jupyter.widget-view+json": {
       "model_id": "ec20441c16db418d958c467717bdbe06",
       "version_major": 2,
       "version_minor": 0
      },
      "text/plain": [
       "  0%|          | 0/100 [00:00<?, ?it/s]"
      ]
     },
     "metadata": {},
     "output_type": "display_data"
    },
    {
     "data": {
      "application/vnd.jupyter.widget-view+json": {
       "model_id": "9b47ce2948aa4fc3b1bfe752a5841090",
       "version_major": 2,
       "version_minor": 0
      },
      "text/plain": [
       "  0%|          | 0/100 [00:00<?, ?it/s]"
      ]
     },
     "metadata": {},
     "output_type": "display_data"
    }
   ],
   "source": [
    "outlier_ls = [0.1, 1., 10., 100.]\n",
    "eps0 = 0.1\n",
    "res_ol = {}\n",
    "for outlier in outlier_ls:\n",
    "    sub_res_ol = rej_rate_outliers(outlier, n_ls, eps_ls, eps0=eps0, nreps=100)\n",
    "    res_ol[outlier] = sub_res_ol"
   ]
  },
  {
   "cell_type": "code",
   "execution_count": 118,
   "id": "9d0825b7-8a8b-425c-99fe-b52456853f1b",
   "metadata": {},
   "outputs": [
    {
     "data": {
      "image/png": "[encoded data removed]",
      "text/plain": [
       "<Figure size 1200x300 with 4 Axes>"
      ]
     },
     "metadata": {},
     "output_type": "display_data"
    }
   ],
   "source": [
    "figs, axes = plt.subplots(ncols=len(eps_ls), nrows=1, figsize=(3*len(eps_ls), 3))\n",
    "\n",
    "# outlier_ls = outlier_ls[::-1]\n",
    "for j in range(len(eps_ls)):\n",
    "    ax = axes[j]\n",
    "    rej_tilted = np.array([np.mean(res_ol[ww][n][eps_ls[j]][\"tilted\"][\"rej\"]) for ww in outlier_ls])\n",
    "    rej_rbf = np.array([np.mean(res_ol[ww][n][eps_ls[j]][\"rbf\"][\"rej\"]) for ww in outlier_ls])\n",
    "    rej_ol_robust = np.array([np.mean(res_ol[ww][n][eps_ls[j]][\"tilted_ol_robust\"][\"rej\"]) for ww in outlier_ls])\n",
    "    rej_ball_robust = np.array([np.mean(res_ol[ww][n][eps_ls[j]][\"tilted_ball_robust\"][\"rej\"]) for ww in outlier_ls])\n",
    "\n",
    "    ax.scatter(outlier_ls, rej_tilted, label=\"Tilted\")\n",
    "    ax.scatter(outlier_ls, rej_rbf, label=\"RBF\", marker=\"x\")\n",
    "    ax.scatter(outlier_ls, rej_ol_robust, label=\"OL-robust\", marker=5)\n",
    "    ax.scatter(outlier_ls, rej_ball_robust, label=\"Ball-robust\", marker=\"+\")\n",
    "    ax.axhline(0.05, linestyle=\"--\", color=\"grey\")\n",
    "    ax.set_title(rf\"$\\epsilon$={eps_ls[j]}\")\n",
    "    ax.set_xscale(\"log\")\n",
    "    ax.set_ylim(-0.05, 1.05)\n",
    "    ax.set_ylabel(\"Rejection rate\")\n",
    "    ax.set_xlabel(\"Outlier value\")\n",
    "\n",
    "axes.flatten()[0].legend()\n",
    "plt.tight_layout()\n",
    "# plt.savefig(\"../figs/robust/rej_ol.pdf\")"
   ]
  },
  {
   "cell_type": "code",
   "execution_count": 45,
   "id": "9644858f-e329-450f-8830-18e538c11162",
   "metadata": {},
   "outputs": [
    {
     "data": {
      "image/png": "[encoded data removed]",
      "text/plain": [
       "<Figure size 800x800 with 16 Axes>"
      ]
     },
     "metadata": {},
     "output_type": "display_data"
    }
   ],
   "source": [
    "ncols = len(eps_ls)\n",
    "nrows = len(outlier_ls)\n",
    "figs, axes = plt.subplots(ncols=ncols, nrows=nrows, figsize=(2*ncols, 2*nrows))\n",
    "\n",
    "# outlier_ls_plot = outlier_ls[::-1]\n",
    "for i in range(len(outlier_ls_plot)):\n",
    "    for j in range(len(eps_ls)):\n",
    "        ax = axes[i][j]\n",
    "        sns.ecdfplot(ax=ax, x=np.array(res_ol[outlier_ls_plot[i]][n][eps_ls[j]][\"tilted\"][\"pval\"]), label=\"Tilted\")\n",
    "        sns.ecdfplot(ax=ax, x=np.array(res_ol[outlier_ls_plot[i]][n][eps_ls[j]][\"rbf\"][\"pval\"]), label=\"RBF\")\n",
    "        ax.plot([0., 1.], [0., 1.], linestyle=\"--\", color=\"grey\")\n",
    "        ax.set_xlim(-0.01, 1.01)\n",
    "        ax.set_ylim(-0.01, 1.01)\n",
    "        ax.set_title(rf\"$w$={outlier_ls_plot[i]}; $\\epsilon$={eps_ls[j]}\")\n",
    "        ax.set_ylabel(\"\")\n",
    "        ax.set_xlabel(\"\")\n",
    "        \n",
    "        if i < len(outlier_ls) - 1:\n",
    "            ax.get_xaxis().set_ticks([])\n",
    "        if j > 0:\n",
    "            ax.get_yaxis().set_ticks([])\n",
    "        if j == 0:\n",
    "            ax.set_ylabel(\"Proportion\")\n",
    "        if i == len(outlier_ls) - 1:\n",
    "            ax.set_xlabel(r\"$p$-value\")\n",
    "        # if j == len(eps_ls) - 1:\n",
    "        #     ax.twinx().set_ylabel(f\"eps={eps_ls[j]}\")\n",
    "        #     ax.twinx().get_yaxis().set_ticks([])\n",
    "\n",
    "axes.flatten()[0].legend(loc=\"lower right\")\n",
    "plt.tight_layout()"
   ]
  },
  {
   "cell_type": "markdown",
   "id": "b8ee93ed-ddee-4891-ada0-700714c4b217",
   "metadata": {},
   "source": [
    "# Outliers vs. kernel bandwidth (level) "
   ]
  },
  {
   "cell_type": "code",
   "execution_count": 35,
   "id": "1dc44214-960f-4e27-935c-df917bafd332",
   "metadata": {},
   "outputs": [],
   "source": [
    "np.random.seed(2024)\n",
    "\n",
    "n = 500\n",
    "n_ls = [n]\n",
    "eps_ls = [0.01]"
   ]
  },
  {
   "cell_type": "code",
   "execution_count": 36,
   "id": "51ce1848-05c6-4ba7-80ed-83d7b3d3dc8e",
   "metadata": {
    "scrolled": true
   },
   "outputs": [
    {
     "name": "stdout",
     "output_type": "stream",
     "text": [
      "outlier: 1.0\n",
      "key: 0.01\n"
     ]
    },
    {
     "data": {
      "application/vnd.jupyter.widget-view+json": {
       "model_id": "ada961b4bef04345bcab37462e2b1961",
       "version_major": 2,
       "version_minor": 0
      },
      "text/plain": [
       "  0%|          | 0/100 [00:00<?, ?it/s]"
      ]
     },
     "metadata": {},
     "output_type": "display_data"
    },
    {
     "data": {
      "application/vnd.jupyter.widget-view+json": {
       "model_id": "71353967b3e14ab5a6fd077787c73a63",
       "version_major": 2,
       "version_minor": 0
      },
      "text/plain": [
       "  0%|          | 0/100 [00:00<?, ?it/s]"
      ]
     },
     "metadata": {},
     "output_type": "display_data"
    },
    {
     "data": {
      "application/vnd.jupyter.widget-view+json": {
       "model_id": "816e11f2f9524960b1295a792ef21aab",
       "version_major": 2,
       "version_minor": 0
      },
      "text/plain": [
       "  0%|          | 0/100 [00:00<?, ?it/s]"
      ]
     },
     "metadata": {},
     "output_type": "display_data"
    },
    {
     "data": {
      "application/vnd.jupyter.widget-view+json": {
       "model_id": "e00077797c48481cb4eca3eb137d586c",
       "version_major": 2,
       "version_minor": 0
      },
      "text/plain": [
       "  0%|          | 0/100 [00:00<?, ?it/s]"
      ]
     },
     "metadata": {},
     "output_type": "display_data"
    },
    {
     "name": "stdout",
     "output_type": "stream",
     "text": [
      "key: 0.01\n"
     ]
    },
    {
     "data": {
      "application/vnd.jupyter.widget-view+json": {
       "model_id": "2947e4514aaf49768083aa783f6c6fad",
       "version_major": 2,
       "version_minor": 0
      },
      "text/plain": [
       "  0%|          | 0/100 [00:00<?, ?it/s]"
      ]
     },
     "metadata": {},
     "output_type": "display_data"
    },
    {
     "data": {
      "application/vnd.jupyter.widget-view+json": {
       "model_id": "cac87ca06bc545d0b3a3426dbf7dd118",
       "version_major": 2,
       "version_minor": 0
      },
      "text/plain": [
       "  0%|          | 0/100 [00:00<?, ?it/s]"
      ]
     },
     "metadata": {},
     "output_type": "display_data"
    },
    {
     "data": {
      "application/vnd.jupyter.widget-view+json": {
       "model_id": "49beb029e1614636b1543317bc171d90",
       "version_major": 2,
       "version_minor": 0
      },
      "text/plain": [
       "  0%|          | 0/100 [00:00<?, ?it/s]"
      ]
     },
     "metadata": {},
     "output_type": "display_data"
    },
    {
     "data": {
      "application/vnd.jupyter.widget-view+json": {
       "model_id": "dbf790c7a74a4240b6ce6f39d4a63741",
       "version_major": 2,
       "version_minor": 0
      },
      "text/plain": [
       "  0%|          | 0/100 [00:00<?, ?it/s]"
      ]
     },
     "metadata": {},
     "output_type": "display_data"
    },
    {
     "name": "stdout",
     "output_type": "stream",
     "text": [
      "key: 0.01\n"
     ]
    },
    {
     "data": {
      "application/vnd.jupyter.widget-view+json": {
       "model_id": "caf4b184639f49c8b9a435fe3afd3d31",
       "version_major": 2,
       "version_minor": 0
      },
      "text/plain": [
       "  0%|          | 0/100 [00:00<?, ?it/s]"
      ]
     },
     "metadata": {},
     "output_type": "display_data"
    },
    {
     "data": {
      "application/vnd.jupyter.widget-view+json": {
       "model_id": "cf8be0a7b10b411ca78b4e11523f643c",
       "version_major": 2,
       "version_minor": 0
      },
      "text/plain": [
       "  0%|          | 0/100 [00:00<?, ?it/s]"
      ]
     },
     "metadata": {},
     "output_type": "display_data"
    },
    {
     "data": {
      "application/vnd.jupyter.widget-view+json": {
       "model_id": "545c50074639455583123f5e1394b433",
       "version_major": 2,
       "version_minor": 0
      },
      "text/plain": [
       "  0%|          | 0/100 [00:00<?, ?it/s]"
      ]
     },
     "metadata": {},
     "output_type": "display_data"
    },
    {
     "data": {
      "application/vnd.jupyter.widget-view+json": {
       "model_id": "96ad12aa20e94a618f9a1a708988007e",
       "version_major": 2,
       "version_minor": 0
      },
      "text/plain": [
       "  0%|          | 0/100 [00:00<?, ?it/s]"
      ]
     },
     "metadata": {},
     "output_type": "display_data"
    },
    {
     "name": "stdout",
     "output_type": "stream",
     "text": [
      "key: 0.01\n"
     ]
    },
    {
     "data": {
      "application/vnd.jupyter.widget-view+json": {
       "model_id": "d8ec4b263bdf45ab9f6cf2a3fbd11b5f",
       "version_major": 2,
       "version_minor": 0
      },
      "text/plain": [
       "  0%|          | 0/100 [00:00<?, ?it/s]"
      ]
     },
     "metadata": {},
     "output_type": "display_data"
    },
    {
     "data": {
      "application/vnd.jupyter.widget-view+json": {
       "model_id": "4d3ef9b933c94363a9f24b47fbc35c7e",
       "version_major": 2,
       "version_minor": 0
      },
      "text/plain": [
       "  0%|          | 0/100 [00:00<?, ?it/s]"
      ]
     },
     "metadata": {},
     "output_type": "display_data"
    },
    {
     "data": {
      "application/vnd.jupyter.widget-view+json": {
       "model_id": "561da4799c874c6faedc3ed894b63c69",
       "version_major": 2,
       "version_minor": 0
      },
      "text/plain": [
       "  0%|          | 0/100 [00:00<?, ?it/s]"
      ]
     },
     "metadata": {},
     "output_type": "display_data"
    },
    {
     "data": {
      "application/vnd.jupyter.widget-view+json": {
       "model_id": "4119eb98ba9b4b5aa6af962cdedc6683",
       "version_major": 2,
       "version_minor": 0
      },
      "text/plain": [
       "  0%|          | 0/100 [00:00<?, ?it/s]"
      ]
     },
     "metadata": {},
     "output_type": "display_data"
    },
    {
     "name": "stdout",
     "output_type": "stream",
     "text": [
      "key: 0.01\n"
     ]
    },
    {
     "data": {
      "application/vnd.jupyter.widget-view+json": {
       "model_id": "4a724f43261a45b0ace047c34e4aef02",
       "version_major": 2,
       "version_minor": 0
      },
      "text/plain": [
       "  0%|          | 0/100 [00:00<?, ?it/s]"
      ]
     },
     "metadata": {},
     "output_type": "display_data"
    },
    {
     "data": {
      "application/vnd.jupyter.widget-view+json": {
       "model_id": "6b6c2993de5d4e37b26b75c99da2ffc0",
       "version_major": 2,
       "version_minor": 0
      },
      "text/plain": [
       "  0%|          | 0/100 [00:00<?, ?it/s]"
      ]
     },
     "metadata": {},
     "output_type": "display_data"
    },
    {
     "data": {
      "application/vnd.jupyter.widget-view+json": {
       "model_id": "2f7065b9f4394b3f8266da3087b978cd",
       "version_major": 2,
       "version_minor": 0
      },
      "text/plain": [
       "  0%|          | 0/100 [00:00<?, ?it/s]"
      ]
     },
     "metadata": {},
     "output_type": "display_data"
    },
    {
     "data": {
      "application/vnd.jupyter.widget-view+json": {
       "model_id": "ec3d0768a5c1476d97abcc0bd0d82e58",
       "version_major": 2,
       "version_minor": 0
      },
      "text/plain": [
       "  0%|          | 0/100 [00:00<?, ?it/s]"
      ]
     },
     "metadata": {},
     "output_type": "display_data"
    },
    {
     "name": "stdout",
     "output_type": "stream",
     "text": [
      "outlier: 5.0\n",
      "key: 0.01\n"
     ]
    },
    {
     "data": {
      "application/vnd.jupyter.widget-view+json": {
       "model_id": "fd3739477bfb4905901ef016282f770f",
       "version_major": 2,
       "version_minor": 0
      },
      "text/plain": [
       "  0%|          | 0/100 [00:00<?, ?it/s]"
      ]
     },
     "metadata": {},
     "output_type": "display_data"
    },
    {
     "data": {
      "application/vnd.jupyter.widget-view+json": {
       "model_id": "d40b9015632541789f9dc856504e9b1b",
       "version_major": 2,
       "version_minor": 0
      },
      "text/plain": [
       "  0%|          | 0/100 [00:00<?, ?it/s]"
      ]
     },
     "metadata": {},
     "output_type": "display_data"
    },
    {
     "data": {
      "application/vnd.jupyter.widget-view+json": {
       "model_id": "dff57536c4e74e0fb0c2145651992902",
       "version_major": 2,
       "version_minor": 0
      },
      "text/plain": [
       "  0%|          | 0/100 [00:00<?, ?it/s]"
      ]
     },
     "metadata": {},
     "output_type": "display_data"
    },
    {
     "data": {
      "application/vnd.jupyter.widget-view+json": {
       "model_id": "83f914ec9c7847f28ef8cb674271b92d",
       "version_major": 2,
       "version_minor": 0
      },
      "text/plain": [
       "  0%|          | 0/100 [00:00<?, ?it/s]"
      ]
     },
     "metadata": {},
     "output_type": "display_data"
    },
    {
     "name": "stdout",
     "output_type": "stream",
     "text": [
      "key: 0.01\n"
     ]
    },
    {
     "data": {
      "application/vnd.jupyter.widget-view+json": {
       "model_id": "25139d12c71443d8b42d30fbf0dee3fd",
       "version_major": 2,
       "version_minor": 0
      },
      "text/plain": [
       "  0%|          | 0/100 [00:00<?, ?it/s]"
      ]
     },
     "metadata": {},
     "output_type": "display_data"
    },
    {
     "data": {
      "application/vnd.jupyter.widget-view+json": {
       "model_id": "a7053d85e7784047bfeea57e7c44de76",
       "version_major": 2,
       "version_minor": 0
      },
      "text/plain": [
       "  0%|          | 0/100 [00:00<?, ?it/s]"
      ]
     },
     "metadata": {},
     "output_type": "display_data"
    },
    {
     "data": {
      "application/vnd.jupyter.widget-view+json": {
       "model_id": "2ea69539c44d48d39ffa6e46a417ad37",
       "version_major": 2,
       "version_minor": 0
      },
      "text/plain": [
       "  0%|          | 0/100 [00:00<?, ?it/s]"
      ]
     },
     "metadata": {},
     "output_type": "display_data"
    },
    {
     "data": {
      "application/vnd.jupyter.widget-view+json": {
       "model_id": "20d37878037447e8a8f53022a9b4885d",
       "version_major": 2,
       "version_minor": 0
      },
      "text/plain": [
       "  0%|          | 0/100 [00:00<?, ?it/s]"
      ]
     },
     "metadata": {},
     "output_type": "display_data"
    },
    {
     "name": "stdout",
     "output_type": "stream",
     "text": [
      "key: 0.01\n"
     ]
    },
    {
     "data": {
      "application/vnd.jupyter.widget-view+json": {
       "model_id": "a3a2e006b36f4ed3ab3ecddb3e52b690",
       "version_major": 2,
       "version_minor": 0
      },
      "text/plain": [
       "  0%|          | 0/100 [00:00<?, ?it/s]"
      ]
     },
     "metadata": {},
     "output_type": "display_data"
    },
    {
     "data": {
      "application/vnd.jupyter.widget-view+json": {
       "model_id": "c97e75a5247c4b4a900e5d0f954e28a6",
       "version_major": 2,
       "version_minor": 0
      },
      "text/plain": [
       "  0%|          | 0/100 [00:00<?, ?it/s]"
      ]
     },
     "metadata": {},
     "output_type": "display_data"
    },
    {
     "data": {
      "application/vnd.jupyter.widget-view+json": {
       "model_id": "962c6da201344eb990664c1b38d16745",
       "version_major": 2,
       "version_minor": 0
      },
      "text/plain": [
       "  0%|          | 0/100 [00:00<?, ?it/s]"
      ]
     },
     "metadata": {},
     "output_type": "display_data"
    },
    {
     "data": {
      "application/vnd.jupyter.widget-view+json": {
       "model_id": "cff312ccbb91436e9e11efefc032d475",
       "version_major": 2,
       "version_minor": 0
      },
      "text/plain": [
       "  0%|          | 0/100 [00:00<?, ?it/s]"
      ]
     },
     "metadata": {},
     "output_type": "display_data"
    },
    {
     "name": "stdout",
     "output_type": "stream",
     "text": [
      "key: 0.01\n"
     ]
    },
    {
     "data": {
      "application/vnd.jupyter.widget-view+json": {
       "model_id": "7c45efab59b140a39f7267bf58b5cd30",
       "version_major": 2,
       "version_minor": 0
      },
      "text/plain": [
       "  0%|          | 0/100 [00:00<?, ?it/s]"
      ]
     },
     "metadata": {},
     "output_type": "display_data"
    },
    {
     "data": {
      "application/vnd.jupyter.widget-view+json": {
       "model_id": "c1a69c814b8c42f59c67147935554830",
       "version_major": 2,
       "version_minor": 0
      },
      "text/plain": [
       "  0%|          | 0/100 [00:00<?, ?it/s]"
      ]
     },
     "metadata": {},
     "output_type": "display_data"
    },
    {
     "data": {
      "application/vnd.jupyter.widget-view+json": {
       "model_id": "1fdd7f99314048f680341b68dd4ae803",
       "version_major": 2,
       "version_minor": 0
      },
      "text/plain": [
       "  0%|          | 0/100 [00:00<?, ?it/s]"
      ]
     },
     "metadata": {},
     "output_type": "display_data"
    },
    {
     "data": {
      "application/vnd.jupyter.widget-view+json": {
       "model_id": "cb598a2bb2aa4e6b8efa535256668a07",
       "version_major": 2,
       "version_minor": 0
      },
      "text/plain": [
       "  0%|          | 0/100 [00:00<?, ?it/s]"
      ]
     },
     "metadata": {},
     "output_type": "display_data"
    },
    {
     "name": "stdout",
     "output_type": "stream",
     "text": [
      "key: 0.01\n"
     ]
    },
    {
     "data": {
      "application/vnd.jupyter.widget-view+json": {
       "model_id": "a3a675cb552e4faab793f83b1626dd12",
       "version_major": 2,
       "version_minor": 0
      },
      "text/plain": [
       "  0%|          | 0/100 [00:00<?, ?it/s]"
      ]
     },
     "metadata": {},
     "output_type": "display_data"
    },
    {
     "data": {
      "application/vnd.jupyter.widget-view+json": {
       "model_id": "2aeab9f577e347e79e34cac3a507d75e",
       "version_major": 2,
       "version_minor": 0
      },
      "text/plain": [
       "  0%|          | 0/100 [00:00<?, ?it/s]"
      ]
     },
     "metadata": {},
     "output_type": "display_data"
    },
    {
     "data": {
      "application/vnd.jupyter.widget-view+json": {
       "model_id": "e18adaa00a8b4f49a912844487d5fe2d",
       "version_major": 2,
       "version_minor": 0
      },
      "text/plain": [
       "  0%|          | 0/100 [00:00<?, ?it/s]"
      ]
     },
     "metadata": {},
     "output_type": "display_data"
    },
    {
     "data": {
      "application/vnd.jupyter.widget-view+json": {
       "model_id": "058f6dd1790548afadb900fcaf05a25d",
       "version_major": 2,
       "version_minor": 0
      },
      "text/plain": [
       "  0%|          | 0/100 [00:00<?, ?it/s]"
      ]
     },
     "metadata": {},
     "output_type": "display_data"
    },
    {
     "name": "stdout",
     "output_type": "stream",
     "text": [
      "outlier: 10.0\n",
      "key: 0.01\n"
     ]
    },
    {
     "data": {
      "application/vnd.jupyter.widget-view+json": {
       "model_id": "8199eee69ed9450fb7c706bb76d7b4f4",
       "version_major": 2,
       "version_minor": 0
      },
      "text/plain": [
       "  0%|          | 0/100 [00:00<?, ?it/s]"
      ]
     },
     "metadata": {},
     "output_type": "display_data"
    },
    {
     "data": {
      "application/vnd.jupyter.widget-view+json": {
       "model_id": "3d8df99f24684d3e9cc28ac28ed4c500",
       "version_major": 2,
       "version_minor": 0
      },
      "text/plain": [
       "  0%|          | 0/100 [00:00<?, ?it/s]"
      ]
     },
     "metadata": {},
     "output_type": "display_data"
    },
    {
     "data": {
      "application/vnd.jupyter.widget-view+json": {
       "model_id": "c0f7570a019a441390d1a56b9d3d13b4",
       "version_major": 2,
       "version_minor": 0
      },
      "text/plain": [
       "  0%|          | 0/100 [00:00<?, ?it/s]"
      ]
     },
     "metadata": {},
     "output_type": "display_data"
    },
    {
     "data": {
      "application/vnd.jupyter.widget-view+json": {
       "model_id": "1f1195cb8b6c4c5f8f02f210cc920dbd",
       "version_major": 2,
       "version_minor": 0
      },
      "text/plain": [
       "  0%|          | 0/100 [00:00<?, ?it/s]"
      ]
     },
     "metadata": {},
     "output_type": "display_data"
    },
    {
     "name": "stdout",
     "output_type": "stream",
     "text": [
      "key: 0.01\n"
     ]
    },
    {
     "data": {
      "application/vnd.jupyter.widget-view+json": {
       "model_id": "e989522d20a3452c9cdcc61318cd90d1",
       "version_major": 2,
       "version_minor": 0
      },
      "text/plain": [
       "  0%|          | 0/100 [00:00<?, ?it/s]"
      ]
     },
     "metadata": {},
     "output_type": "display_data"
    },
    {
     "data": {
      "application/vnd.jupyter.widget-view+json": {
       "model_id": "555d5e90354146939b70ec55af7133b3",
       "version_major": 2,
       "version_minor": 0
      },
      "text/plain": [
       "  0%|          | 0/100 [00:00<?, ?it/s]"
      ]
     },
     "metadata": {},
     "output_type": "display_data"
    },
    {
     "data": {
      "application/vnd.jupyter.widget-view+json": {
       "model_id": "28ac2f58de48436ebbea630c657d8d25",
       "version_major": 2,
       "version_minor": 0
      },
      "text/plain": [
       "  0%|          | 0/100 [00:00<?, ?it/s]"
      ]
     },
     "metadata": {},
     "output_type": "display_data"
    },
    {
     "data": {
      "application/vnd.jupyter.widget-view+json": {
       "model_id": "c93b2ee7e9e34bd48576df0a8bd82b7b",
       "version_major": 2,
       "version_minor": 0
      },
      "text/plain": [
       "  0%|          | 0/100 [00:00<?, ?it/s]"
      ]
     },
     "metadata": {},
     "output_type": "display_data"
    },
    {
     "name": "stdout",
     "output_type": "stream",
     "text": [
      "key: 0.01\n"
     ]
    },
    {
     "data": {
      "application/vnd.jupyter.widget-view+json": {
       "model_id": "bd26b21ff4e844cdae4a0e96ce374f97",
       "version_major": 2,
       "version_minor": 0
      },
      "text/plain": [
       "  0%|          | 0/100 [00:00<?, ?it/s]"
      ]
     },
     "metadata": {},
     "output_type": "display_data"
    },
    {
     "data": {
      "application/vnd.jupyter.widget-view+json": {
       "model_id": "0cea4d479fd84953bf6519a4b1bcc295",
       "version_major": 2,
       "version_minor": 0
      },
      "text/plain": [
       "  0%|          | 0/100 [00:00<?, ?it/s]"
      ]
     },
     "metadata": {},
     "output_type": "display_data"
    },
    {
     "data": {
      "application/vnd.jupyter.widget-view+json": {
       "model_id": "3e4f06d1a6bf40338dafa56adc61d782",
       "version_major": 2,
       "version_minor": 0
      },
      "text/plain": [
       "  0%|          | 0/100 [00:00<?, ?it/s]"
      ]
     },
     "metadata": {},
     "output_type": "display_data"
    },
    {
     "data": {
      "application/vnd.jupyter.widget-view+json": {
       "model_id": "82baab503898412fbcd0bc22841da5de",
       "version_major": 2,
       "version_minor": 0
      },
      "text/plain": [
       "  0%|          | 0/100 [00:00<?, ?it/s]"
      ]
     },
     "metadata": {},
     "output_type": "display_data"
    },
    {
     "name": "stdout",
     "output_type": "stream",
     "text": [
      "key: 0.01\n"
     ]
    },
    {
     "data": {
      "application/vnd.jupyter.widget-view+json": {
       "model_id": "4670ccc8aa244a629d762e8504cd50db",
       "version_major": 2,
       "version_minor": 0
      },
      "text/plain": [
       "  0%|          | 0/100 [00:00<?, ?it/s]"
      ]
     },
     "metadata": {},
     "output_type": "display_data"
    },
    {
     "data": {
      "application/vnd.jupyter.widget-view+json": {
       "model_id": "fb265f80eff249479b80a4146f8c027a",
       "version_major": 2,
       "version_minor": 0
      },
      "text/plain": [
       "  0%|          | 0/100 [00:00<?, ?it/s]"
      ]
     },
     "metadata": {},
     "output_type": "display_data"
    },
    {
     "data": {
      "application/vnd.jupyter.widget-view+json": {
       "model_id": "81867b5e496b4ff6a6db1433e3b58f16",
       "version_major": 2,
       "version_minor": 0
      },
      "text/plain": [
       "  0%|          | 0/100 [00:00<?, ?it/s]"
      ]
     },
     "metadata": {},
     "output_type": "display_data"
    },
    {
     "data": {
      "application/vnd.jupyter.widget-view+json": {
       "model_id": "1ab57ea707df4625bc138112273fdf13",
       "version_major": 2,
       "version_minor": 0
      },
      "text/plain": [
       "  0%|          | 0/100 [00:00<?, ?it/s]"
      ]
     },
     "metadata": {},
     "output_type": "display_data"
    },
    {
     "name": "stdout",
     "output_type": "stream",
     "text": [
      "key: 0.01\n"
     ]
    },
    {
     "data": {
      "application/vnd.jupyter.widget-view+json": {
       "model_id": "7ae3c794fe3341e5a8a717e67eaeea09",
       "version_major": 2,
       "version_minor": 0
      },
      "text/plain": [
       "  0%|          | 0/100 [00:00<?, ?it/s]"
      ]
     },
     "metadata": {},
     "output_type": "display_data"
    },
    {
     "data": {
      "application/vnd.jupyter.widget-view+json": {
       "model_id": "2ef22af2ba034ec5bea3f590e8278815",
       "version_major": 2,
       "version_minor": 0
      },
      "text/plain": [
       "  0%|          | 0/100 [00:00<?, ?it/s]"
      ]
     },
     "metadata": {},
     "output_type": "display_data"
    },
    {
     "data": {
      "application/vnd.jupyter.widget-view+json": {
       "model_id": "6212b93162f84ff7852cd47374795aab",
       "version_major": 2,
       "version_minor": 0
      },
      "text/plain": [
       "  0%|          | 0/100 [00:00<?, ?it/s]"
      ]
     },
     "metadata": {},
     "output_type": "display_data"
    },
    {
     "data": {
      "application/vnd.jupyter.widget-view+json": {
       "model_id": "59c329db703948f39270798257acc22c",
       "version_major": 2,
       "version_minor": 0
      },
      "text/plain": [
       "  0%|          | 0/100 [00:00<?, ?it/s]"
      ]
     },
     "metadata": {},
     "output_type": "display_data"
    },
    {
     "name": "stdout",
     "output_type": "stream",
     "text": [
      "outlier: 50.0\n",
      "key: 0.01\n"
     ]
    },
    {
     "data": {
      "application/vnd.jupyter.widget-view+json": {
       "model_id": "59188ddacd124e65a626ea2679af7835",
       "version_major": 2,
       "version_minor": 0
      },
      "text/plain": [
       "  0%|          | 0/100 [00:00<?, ?it/s]"
      ]
     },
     "metadata": {},
     "output_type": "display_data"
    },
    {
     "data": {
      "application/vnd.jupyter.widget-view+json": {
       "model_id": "35d4db5df98a463c886bf3c7d1d1429f",
       "version_major": 2,
       "version_minor": 0
      },
      "text/plain": [
       "  0%|          | 0/100 [00:00<?, ?it/s]"
      ]
     },
     "metadata": {},
     "output_type": "display_data"
    },
    {
     "data": {
      "application/vnd.jupyter.widget-view+json": {
       "model_id": "6527d388aead4a7c9a74297551240f69",
       "version_major": 2,
       "version_minor": 0
      },
      "text/plain": [
       "  0%|          | 0/100 [00:00<?, ?it/s]"
      ]
     },
     "metadata": {},
     "output_type": "display_data"
    },
    {
     "data": {
      "application/vnd.jupyter.widget-view+json": {
       "model_id": "663c4eb689614814914dc33ade6fd682",
       "version_major": 2,
       "version_minor": 0
      },
      "text/plain": [
       "  0%|          | 0/100 [00:00<?, ?it/s]"
      ]
     },
     "metadata": {},
     "output_type": "display_data"
    },
    {
     "name": "stdout",
     "output_type": "stream",
     "text": [
      "key: 0.01\n"
     ]
    },
    {
     "data": {
      "application/vnd.jupyter.widget-view+json": {
       "model_id": "6aad2f0ec1094c1d8b62edd350fda382",
       "version_major": 2,
       "version_minor": 0
      },
      "text/plain": [
       "  0%|          | 0/100 [00:00<?, ?it/s]"
      ]
     },
     "metadata": {},
     "output_type": "display_data"
    },
    {
     "data": {
      "application/vnd.jupyter.widget-view+json": {
       "model_id": "1adeee663c8e457b85e4e95cdf86f91b",
       "version_major": 2,
       "version_minor": 0
      },
      "text/plain": [
       "  0%|          | 0/100 [00:00<?, ?it/s]"
      ]
     },
     "metadata": {},
     "output_type": "display_data"
    },
    {
     "data": {
      "application/vnd.jupyter.widget-view+json": {
       "model_id": "44ebc21968264d7697dec520152a3cf4",
       "version_major": 2,
       "version_minor": 0
      },
      "text/plain": [
       "  0%|          | 0/100 [00:00<?, ?it/s]"
      ]
     },
     "metadata": {},
     "output_type": "display_data"
    },
    {
     "data": {
      "application/vnd.jupyter.widget-view+json": {
       "model_id": "1228628e3ffe493ca56693a5ab13be4a",
       "version_major": 2,
       "version_minor": 0
      },
      "text/plain": [
       "  0%|          | 0/100 [00:00<?, ?it/s]"
      ]
     },
     "metadata": {},
     "output_type": "display_data"
    },
    {
     "name": "stdout",
     "output_type": "stream",
     "text": [
      "key: 0.01\n"
     ]
    },
    {
     "data": {
      "application/vnd.jupyter.widget-view+json": {
       "model_id": "f5e0c64533be4724afd15a1c7df377c2",
       "version_major": 2,
       "version_minor": 0
      },
      "text/plain": [
       "  0%|          | 0/100 [00:00<?, ?it/s]"
      ]
     },
     "metadata": {},
     "output_type": "display_data"
    },
    {
     "data": {
      "application/vnd.jupyter.widget-view+json": {
       "model_id": "3bc2539d145e42bab1d710fdcc20dd88",
       "version_major": 2,
       "version_minor": 0
      },
      "text/plain": [
       "  0%|          | 0/100 [00:00<?, ?it/s]"
      ]
     },
     "metadata": {},
     "output_type": "display_data"
    },
    {
     "data": {
      "application/vnd.jupyter.widget-view+json": {
       "model_id": "3ee8da7dac424e6daf82d3be4ed1d05c",
       "version_major": 2,
       "version_minor": 0
      },
      "text/plain": [
       "  0%|          | 0/100 [00:00<?, ?it/s]"
      ]
     },
     "metadata": {},
     "output_type": "display_data"
    },
    {
     "data": {
      "application/vnd.jupyter.widget-view+json": {
       "model_id": "57e19af558d449ce96ebeccf4370f77f",
       "version_major": 2,
       "version_minor": 0
      },
      "text/plain": [
       "  0%|          | 0/100 [00:00<?, ?it/s]"
      ]
     },
     "metadata": {},
     "output_type": "display_data"
    },
    {
     "name": "stdout",
     "output_type": "stream",
     "text": [
      "key: 0.01\n"
     ]
    },
    {
     "data": {
      "application/vnd.jupyter.widget-view+json": {
       "model_id": "5c0ade906e6d483eb7027dd20cb977c3",
       "version_major": 2,
       "version_minor": 0
      },
      "text/plain": [
       "  0%|          | 0/100 [00:00<?, ?it/s]"
      ]
     },
     "metadata": {},
     "output_type": "display_data"
    },
    {
     "data": {
      "application/vnd.jupyter.widget-view+json": {
       "model_id": "a2a58ec6369344188c8948950e7c9dd9",
       "version_major": 2,
       "version_minor": 0
      },
      "text/plain": [
       "  0%|          | 0/100 [00:00<?, ?it/s]"
      ]
     },
     "metadata": {},
     "output_type": "display_data"
    },
    {
     "data": {
      "application/vnd.jupyter.widget-view+json": {
       "model_id": "e71a2e28716f43b4b2954bc9d12d551e",
       "version_major": 2,
       "version_minor": 0
      },
      "text/plain": [
       "  0%|          | 0/100 [00:00<?, ?it/s]"
      ]
     },
     "metadata": {},
     "output_type": "display_data"
    },
    {
     "data": {
      "application/vnd.jupyter.widget-view+json": {
       "model_id": "754084f5b2b74a36b9e1ea2ff2e829e1",
       "version_major": 2,
       "version_minor": 0
      },
      "text/plain": [
       "  0%|          | 0/100 [00:00<?, ?it/s]"
      ]
     },
     "metadata": {},
     "output_type": "display_data"
    },
    {
     "name": "stdout",
     "output_type": "stream",
     "text": [
      "key: 0.01\n"
     ]
    },
    {
     "data": {
      "application/vnd.jupyter.widget-view+json": {
       "model_id": "e8092301e55f4c49a174040e1e3fb55e",
       "version_major": 2,
       "version_minor": 0
      },
      "text/plain": [
       "  0%|          | 0/100 [00:00<?, ?it/s]"
      ]
     },
     "metadata": {},
     "output_type": "display_data"
    },
    {
     "data": {
      "application/vnd.jupyter.widget-view+json": {
       "model_id": "1852561e9c7e445baa9d9d12d77c569c",
       "version_major": 2,
       "version_minor": 0
      },
      "text/plain": [
       "  0%|          | 0/100 [00:00<?, ?it/s]"
      ]
     },
     "metadata": {},
     "output_type": "display_data"
    },
    {
     "data": {
      "application/vnd.jupyter.widget-view+json": {
       "model_id": "1784c250211c474a8d9a45f0614efd6c",
       "version_major": 2,
       "version_minor": 0
      },
      "text/plain": [
       "  0%|          | 0/100 [00:00<?, ?it/s]"
      ]
     },
     "metadata": {},
     "output_type": "display_data"
    },
    {
     "data": {
      "application/vnd.jupyter.widget-view+json": {
       "model_id": "4c0466e9199148038fed2f628d0890a4",
       "version_major": 2,
       "version_minor": 0
      },
      "text/plain": [
       "  0%|          | 0/100 [00:00<?, ?it/s]"
      ]
     },
     "metadata": {},
     "output_type": "display_data"
    }
   ],
   "source": [
    "outlier_ls = [1., 5., 10., 50.]\n",
    "eps0 = 0.01 # oracle\n",
    "bandwidth_ls = [1e-2, 1e-1, 1., 10., 100.]\n",
    "\n",
    "res_ol_bw = {}\n",
    "for ol in outlier_ls:\n",
    "    print(\"outlier:\", ol)\n",
    "    res_ol_bw[ol] = {}\n",
    "    \n",
    "    for bw in bandwidth_ls:\n",
    "        sub_res_ol = rej_rate_outliers(ol, n_ls, eps_ls, eps0=eps0, nreps=100, bandwidth=bw)\n",
    "        res_ol_bw[ol][bw] = sub_res_ol"
   ]
  },
  {
   "cell_type": "code",
   "execution_count": 37,
   "id": "8da30d77-dd1c-47ae-88a4-24907011abac",
   "metadata": {},
   "outputs": [
    {
     "data": {
      "image/png": "[encoded data removed]",
      "text/plain": [
       "<Figure size 1200x300 with 4 Axes>"
      ]
     },
     "metadata": {},
     "output_type": "display_data"
    }
   ],
   "source": [
    "ncols = len(outlier_ls)\n",
    "figs, axes = plt.subplots(ncols=ncols, nrows=1, figsize=(3*ncols, 3))\n",
    "\n",
    "method_ls = [\"rbf\"]\n",
    "\n",
    "for ax, ol in zip(axes.flatten(), outlier_ls):\n",
    "    \n",
    "    plot_df = {\"pval\": [], \"method\": [], \"bw\": [], \"bw_order\": []}\n",
    "    for bw in bandwidth_ls:\n",
    "        for mm in method_ls:\n",
    "            rr = res_ol_bw[ol][bw][n][eps_ls[0]][mm]\n",
    "            plot_df[\"pval\"] = plot_df[\"pval\"] + np.array(rr[\"pval\"]).tolist()\n",
    "            plot_df[\"method\"] = plot_df[\"method\"] + [mm] * len(rr[\"pval\"])\n",
    "            plot_df[\"bw\"] = plot_df[\"bw\"] + [bw] * len(rr[\"pval\"])\n",
    "            plot_df[\"bw_order\"] = plot_df[\"bw_order\"] + [np.round(np.log(bw) / np.log(10.), 2)] * len(rr[\"pval\"])\n",
    "    \n",
    "    plot_df = pd.DataFrame(plot_df)\n",
    "\n",
    "    # plot\n",
    "    sns.ecdfplot(ax=ax, data=plot_df, x=\"pval\", hue=\"bw_order\")\n",
    "    ax.plot([0., 1.], [0., 1.], linestyle=\"--\", color=\"grey\")\n",
    "    ax.set_xlim(-0.01, 1.01)\n",
    "    ax.set_ylim(-0.01, 1.01)\n",
    "    ax.set_title(rf\"$w$={ol}\")\n",
    "\n",
    "# axes.flatten()[0].legend(loc=\"lower right\")\n",
    "plt.tight_layout()"
   ]
  },
  {
   "cell_type": "markdown",
   "id": "67f16fc9-0255-41a8-9bb8-8d539d065f30",
   "metadata": {},
   "source": [
    "# Mean-shift (power)"
   ]
  },
  {
   "cell_type": "code",
   "execution_count": 58,
   "id": "7ac4c1eb-5d89-4f8e-b34b-ac7288b611df",
   "metadata": {},
   "outputs": [],
   "source": [
    "def rej_rate_meanshift(mean_ls, n_ls, nreps, eps0, dim=1, alpha=0.05):\n",
    "    res = {nn: {kk: {\n",
    "        \"tilted\": {\"stat\": [], \"pval\": [], \"rej\": [], \"boot_stats\": []},\n",
    "        \"rbf\": {\"stat\": [], \"pval\": [], \"rej\": [], \"boot_stats\": []},\n",
    "        \"tilted_ol_robust\": {\"nonsq_stat\": [], \"threshold\": [], \"rej\": []},\n",
    "        \"tilted_ball_robust\": {\"nonsq_stat\": [], \"threshold\": [], \"rej\": [], \"theta\": []},\n",
    "    } for kk in mean_ls} for nn in n_ls}\n",
    "    res[\"mean_ls\"] = eps_ls\n",
    "    \n",
    "    for n in n_ls:\n",
    "        for mean in mean_ls:\n",
    "            key = mean\n",
    "            print(\"key:\", key)\n",
    "            ###\n",
    "            mean1 = np.zeros((dim,)) # data\n",
    "            mean2 = np.reshape([mean], (-1,)) # model\n",
    "            \n",
    "            Xs = np.random.multivariate_normal(mean1, np.eye(dim), (nreps, n))\n",
    "        \n",
    "            score_fn = lambda x: - (x - mean2)\n",
    "            ###\n",
    "            \n",
    "            for X in tqdm(Xs):\n",
    "                # tilted\n",
    "                score_weight_fn = kernels.PolyWeightFunction()\n",
    "                kernel0 = kernels.RBF(sigma_sq=2.)\n",
    "                kernel = kernels.TiltedKernel(kernel=kernel0, weight_fn=score_weight_fn)\n",
    "    \n",
    "                ksd = metrics.KSD(kernel, score_fn=score_fn)\n",
    "                wild_boot = boot.WildBootstrap(ksd)\n",
    "                pval, stat, boot_stats = wild_boot.pval(X, X, return_stat=True, return_boot=True)\n",
    "                res[n][key][\"tilted\"][\"stat\"].append(stat)\n",
    "                res[n][key][\"tilted\"][\"pval\"].append(pval)\n",
    "                res[n][key][\"tilted\"][\"rej\"].append(int(pval < alpha))\n",
    "                res[n][key][\"tilted\"][\"boot_stats\"].append(boot_stats)\n",
    "        \n",
    "                # RBF\n",
    "                kernel = kernels.RBF(sigma_sq=2.)\n",
    "                \n",
    "                ksd = metrics.KSD(kernel, score_fn=score_fn)\n",
    "                wild_boot = boot.WildBootstrap(ksd)\n",
    "                pval, stat, boot_stats = wild_boot.pval(X, X, return_stat=True, return_boot=True)\n",
    "                res[n][key][\"rbf\"][\"stat\"].append(stat)\n",
    "                res[n][key][\"rbf\"][\"pval\"].append(pval)\n",
    "                res[n][key][\"rbf\"][\"rej\"].append(int(pval < alpha))\n",
    "                res[n][key][\"rbf\"][\"boot_stats\"].append(boot_stats)\n",
    "\n",
    "                # tilted ol robust\n",
    "                score_weight_fn = kernels.PolyWeightFunction()\n",
    "                kernel0 = kernels.RBF(sigma_sq=2.)\n",
    "                kernel = kernels.TiltedKernel(kernel=kernel0, weight_fn=score_weight_fn)\n",
    "    \n",
    "                ksd = metrics.KSD(kernel, score_fn=score_fn)\n",
    "                threshold = ksd.test_threshold(n=n, eps0=eps0, alpha=alpha, method=\"ol_robust\")\n",
    "                res[n][key][\"tilted_ol_robust\"][\"threshold\"].append(threshold)\n",
    "                stat = ksd(X, X, vstat=True) # squared-KSD\n",
    "                stat = stat**0.5\n",
    "                res[n][key][\"tilted_ol_robust\"][\"nonsq_stat\"].append(stat)\n",
    "                res[n][key][\"tilted_ol_robust\"][\"rej\"].append(int(stat > threshold))\n",
    "                \n",
    "                # tilted ball robust\n",
    "                score_weight_fn = kernels.PolyWeightFunction(loc=mean2)\n",
    "                kernel0 = kernels.RBF(sigma_sq=2.)\n",
    "                kernel = kernels.TiltedKernel(kernel=kernel0, weight_fn=score_weight_fn)\n",
    "    \n",
    "                ksd = metrics.KSD(kernel, score_fn=score_fn)\n",
    "                threshold = ksd.test_threshold(n=n, eps0=eps0, theta=\"ol\", alpha=alpha, method=\"ball_robust\")\n",
    "                res[n][key][\"tilted_ball_robust\"][\"threshold\"].append(threshold)\n",
    "                res[n][key][\"tilted_ball_robust\"][\"theta\"].append(ksd.theta)\n",
    "                stat = ksd(X, X, vstat=True) # squared-KSD\n",
    "                stat = stat**0.5\n",
    "                res[n][key][\"tilted_ball_robust\"][\"nonsq_stat\"].append(stat)\n",
    "                res[n][key][\"tilted_ball_robust\"][\"rej\"].append(int(stat > threshold))                \n",
    "    \n",
    "    return res"
   ]
  },
  {
   "cell_type": "code",
   "execution_count": 59,
   "id": "dfaab3c5-01be-405f-a066-ec6216fcea5b",
   "metadata": {},
   "outputs": [],
   "source": [
    "def population_ksd_ms(mean, bandwidth_sq=1.):\n",
    "    \"\"\"Non-squared KSD\"\"\"\n",
    "    mu = np.reshape([mean], (-1,))\n",
    "    d = mu.shape[0]\n",
    "    mu_norm = np.sqrt(np.sum(mu**2))\n",
    "    return (bandwidth_sq / (bandwidth_sq + 2))**(d/4) * mu_norm\n",
    "\n",
    "def inverse_population_ksd_ms(val, dim, bandwidth_sq=1.):\n",
    "    \"\"\"val is the non-squared KSD\"\"\"\n",
    "    mu_norm = val * (bandwidth_sq / (bandwidth_sq + 2))**(-dim/4)\n",
    "    return mu_norm"
   ]
  },
  {
   "cell_type": "code",
   "execution_count": 60,
   "id": "f1d57ca0-7a7f-422a-b852-d045290b90b9",
   "metadata": {},
   "outputs": [],
   "source": [
    "np.random.seed(2024)\n",
    "\n",
    "n = 500\n",
    "n_ls = [n]\n",
    "mean_ls = [0., 0.2, 0.4, 0.6, 0.8, 1., 1.2, 1.4]\n",
    "# mean_ls = [0., 0.2, 0.4, 0.5, 0.6, 0.8, 0.9, 1.]\n",
    "\n",
    "eps0 = 0.1 # 0.01"
   ]
  },
  {
   "cell_type": "code",
   "execution_count": null,
   "id": "f205a06c-c8da-4a36-8ee0-31f5cb990892",
   "metadata": {},
   "outputs": [
    {
     "name": "stdout",
     "output_type": "stream",
     "text": [
      "key: 0.0\n"
     ]
    },
    {
     "data": {
      "application/vnd.jupyter.widget-view+json": {
       "model_id": "fb6e0f5fcaf048928f2df287132d78af",
       "version_major": 2,
       "version_minor": 0
      },
      "text/plain": [
       "  0%|          | 0/100 [00:00<?, ?it/s]"
      ]
     },
     "metadata": {},
     "output_type": "display_data"
    },
    {
     "name": "stdout",
     "output_type": "stream",
     "text": [
      "key: 0.2\n"
     ]
    },
    {
     "data": {
      "application/vnd.jupyter.widget-view+json": {
       "model_id": "5ea847820154441e801a7c8eae91fe3a",
       "version_major": 2,
       "version_minor": 0
      },
      "text/plain": [
       "  0%|          | 0/100 [00:00<?, ?it/s]"
      ]
     },
     "metadata": {},
     "output_type": "display_data"
    },
    {
     "name": "stdout",
     "output_type": "stream",
     "text": [
      "key: 0.4\n"
     ]
    },
    {
     "data": {
      "application/vnd.jupyter.widget-view+json": {
       "model_id": "254d1a2f1ff549af9a5045af1ef457f2",
       "version_major": 2,
       "version_minor": 0
      },
      "text/plain": [
       "  0%|          | 0/100 [00:00<?, ?it/s]"
      ]
     },
     "metadata": {},
     "output_type": "display_data"
    },
    {
     "name": "stdout",
     "output_type": "stream",
     "text": [
      "key: 0.6\n"
     ]
    },
    {
     "data": {
      "application/vnd.jupyter.widget-view+json": {
       "model_id": "0b2359cd27784ba898578a493c3c0316",
       "version_major": 2,
       "version_minor": 0
      },
      "text/plain": [
       "  0%|          | 0/100 [00:00<?, ?it/s]"
      ]
     },
     "metadata": {},
     "output_type": "display_data"
    },
    {
     "name": "stdout",
     "output_type": "stream",
     "text": [
      "key: 0.8\n"
     ]
    },
    {
     "data": {
      "application/vnd.jupyter.widget-view+json": {
       "model_id": "291f6c9c1541411fbb6ea5875f0f272c",
       "version_major": 2,
       "version_minor": 0
      },
      "text/plain": [
       "  0%|          | 0/100 [00:00<?, ?it/s]"
      ]
     },
     "metadata": {},
     "output_type": "display_data"
    }
   ],
   "source": [
    "res_ms = rej_rate_meanshift(mean_ls=mean_ls, n_ls=n_ls, eps0=eps0, nreps=100)"
   ]
  },
  {
   "cell_type": "code",
   "execution_count": 57,
   "id": "744b7819-435f-4d3a-836d-54e470c840a4",
   "metadata": {},
   "outputs": [
    {
     "data": {
      "image/png": "[encoded data removed]",
      "text/plain": [
       "<Figure size 500x300 with 1 Axes>"
      ]
     },
     "metadata": {},
     "output_type": "display_data"
    }
   ],
   "source": [
    "fig, ax = plt.subplots(ncols=1, nrows=1, figsize=(5, 3))\n",
    "\n",
    "rej_tilted = np.array([np.mean(res_ms[n][kk][\"tilted\"][\"rej\"]) for kk in mean_ls])\n",
    "rej_rbf = np.array([np.mean(res_ms[n][kk][\"rbf\"][\"rej\"]) for kk in mean_ls])\n",
    "rej_ol_robust = np.array([np.mean(res_ms[n][kk][\"tilted_ol_robust\"][\"rej\"]) for kk in mean_ls])\n",
    "rej_ball_robust = np.array([np.mean(res_ms[n][kk][\"tilted_ball_robust\"][\"rej\"]) for kk in mean_ls])\n",
    "\n",
    "ksd_ls = [population_ksd_ms(mm) for mm in mean_ls]\n",
    "ax.scatter(ksd_ls, rej_tilted, label=\"Tilted\")\n",
    "ax.scatter(ksd_ls, rej_rbf, label=\"RBF\", marker=\"x\")\n",
    "ax.scatter(ksd_ls, rej_ol_robust, label=\"OL-robust\", marker=\"+\")\n",
    "ax.scatter(ksd_ls, rej_ball_robust, label=\"Ball-robust\", marker=5)\n",
    "theta = res_ms[n][mean_ls[0]][\"tilted_ball_robust\"][\"threshold\"][0]\n",
    "ax.axvline(theta, linestyle=\"-.\", color=\"k\", label=r\"$\\theta$\")\n",
    "ax.axhline(0.05, linestyle=\"--\", color=\"grey\")\n",
    "# ax.set_xscale(\"log\")\n",
    "ax.set_ylim(-0.05, 1.05)\n",
    "ax.set_xlabel(\"KSD\")\n",
    "ax.set_ylabel(\"Rejection rate\")\n",
    "ax.legend(loc=\"center left\", bbox_to_anchor=(1, 0.5))\n",
    "plt.tight_layout()\n",
    "plt.savefig(\"../figs/robust/rej_ms.pdf\")\n"
   ]
  },
  {
   "cell_type": "code",
   "execution_count": null,
   "id": "8e8cd207-ad8b-4196-8880-cf659c030ddb",
   "metadata": {},
   "outputs": [],
   "source": []
  },
  {
   "cell_type": "code",
   "execution_count": 138,
   "id": "239c88c1-6358-4fd0-a9e8-da86bd071fe1",
   "metadata": {},
   "outputs": [
    {
     "data": {
      "image/png": "[encoded data removed]",
      "text/plain": [
       "<Figure size 500x300 with 1 Axes>"
      ]
     },
     "metadata": {},
     "output_type": "display_data"
    }
   ],
   "source": [
    "fig, ax = plt.subplots(ncols=1, nrows=1, figsize=(5, 3))\n",
    "\n",
    "rej_tilted = np.array([np.mean(res_ms[n][kk][\"tilted\"][\"rej\"]) for kk in mean_ls])\n",
    "rej_rbf = np.array([np.mean(res_ms[n][kk][\"rbf\"][\"rej\"]) for kk in mean_ls])\n",
    "rej_ol_robust = np.array([np.mean(res_ms[n][kk][\"tilted_ol_robust\"][\"rej\"]) for kk in mean_ls])\n",
    "rej_ball_robust = np.array([np.mean(res_ms[n][kk][\"tilted_ball_robust\"][\"rej\"]) for kk in mean_ls])\n",
    "\n",
    "ksd_ls = [population_ksd_ms(mm) for mm in mean_ls]\n",
    "ax.scatter(ksd_ls, rej_tilted, label=\"Tilted\")\n",
    "ax.scatter(ksd_ls, rej_rbf, label=\"RBF\", marker=\"x\")\n",
    "ax.scatter(ksd_ls, rej_ol_robust, label=\"OL-robust\", marker=\"+\")\n",
    "ax.scatter(ksd_ls, rej_ball_robust, label=\"Ball-robust\", marker=5)\n",
    "theta = res_ms[n][mean_ls[0]][\"tilted_ball_robust\"][\"threshold\"][0]\n",
    "ax.axvline(theta, linestyle=\"-.\", color=\"k\", label=r\"$\\theta$\")\n",
    "ax.axhline(0.05, linestyle=\"--\", color=\"grey\")\n",
    "# ax.set_xscale(\"log\")\n",
    "ax.set_ylim(-0.05, 1.05)\n",
    "ax.set_xlabel(\"KSD\")\n",
    "ax.set_ylabel(\"Rejection rate\")\n",
    "ax.legend(loc=\"center left\", bbox_to_anchor=(1, 0.5))\n",
    "plt.tight_layout()\n",
    "plt.savefig(\"../figs/robust/rej_ms.pdf\")\n",
    "\n",
    "# fig, ax = plt.subplots(ncols=1, nrows=1, figsize=(3, 3))\n",
    "# ksd_val = [np.mean(res_ms[n][kk][\"rbf\"][\"stat\"])**0.5 for kk in mean_ls]\n",
    "# ksd_val_pred = [population_ksd_ms(mm) for mm in mean_ls]\n",
    "# ax.scatter(mean_ls, ksd_val, label=\"empirical\")\n",
    "# ax.scatter(mean_ls, ksd_val_pred, marker=\"x\", label=\"pred\")\n",
    "# # ax.set_xscale(\"log\")\n",
    "# ax.legend()\n",
    "\n",
    "# plt.tight_layout()"
   ]
  },
  {
   "cell_type": "code",
   "execution_count": null,
   "id": "2c3ac1c9-dd18-4322-9ea6-65934ead5df9",
   "metadata": {},
   "outputs": [],
   "source": []
  },
  {
   "cell_type": "code",
   "execution_count": 111,
   "id": "3b77f5f7-f94e-4640-bcdd-d5c71b4fb866",
   "metadata": {},
   "outputs": [
    {
     "data": {
      "image/png": "[encoded data removed]",
      "text/plain": [
       "<Figure size 600x300 with 2 Axes>"
      ]
     },
     "metadata": {},
     "output_type": "display_data"
    }
   ],
   "source": [
    "figs, axes = plt.subplots(ncols=2, nrows=1, figsize=(6, 3))\n",
    "\n",
    "ax = axes[0]\n",
    "rej_tilted = np.array([np.mean(res_ms[n][kk][\"tilted\"][\"rej\"]) for kk in mean_ls])\n",
    "rej_rbf = np.array([np.mean(res_ms[n][kk][\"rbf\"][\"rej\"]) for kk in mean_ls])\n",
    "rej_ol_robust = np.array([np.mean(res_ms[n][kk][\"tilted_ol_robust\"][\"rej\"]) for kk in mean_ls])\n",
    "rej_ball_robust = np.array([np.mean(res_ms[n][kk][\"tilted_ball_robust\"][\"rej\"]) for kk in mean_ls])\n",
    "\n",
    "ax.scatter(mean_ls, rej_tilted, label=\"tilted\")\n",
    "ax.scatter(mean_ls, rej_rbf, label=\"rbf\", marker=\"x\")\n",
    "ax.scatter(mean_ls, rej_ol_robust, label=\"ol_robust\", marker=\"+\")\n",
    "ax.scatter(mean_ls, rej_ball_robust, label=\"ball_robust\", marker=5)\n",
    "theta = res_ms[n][mean_ls[0]][\"tilted_ball_robust\"][\"threshold\"][0]\n",
    "ax.axvline(theta, linestyle=\"-.\", color=\"k\", label=r\"$\\theta$\")\n",
    "ax.axhline(0.05, linestyle=\"--\", color=\"grey\")\n",
    "# ax.set_xscale(\"log\")\n",
    "ax.set_ylim(-0.05, 1.05)\n",
    "ax.legend()\n",
    "\n",
    "ax = axes[1]\n",
    "ksd_val = [np.mean(res_ms[n][kk][\"rbf\"][\"stat\"])**0.5 for kk in mean_ls]\n",
    "ksd_val_pred = [population_ksd_ms(mm) for mm in mean_ls]\n",
    "ax.scatter(mean_ls, ksd_val, label=\"empirical\")\n",
    "ax.scatter(mean_ls, ksd_val_pred, marker=\"x\", label=\"pred\")\n",
    "# ax.set_xscale(\"log\")\n",
    "ax.legend()\n",
    "\n",
    "plt.tight_layout()"
   ]
  },
  {
   "cell_type": "code",
   "execution_count": null,
   "id": "62d54d7d-d0e0-45df-addf-294b76641f7f",
   "metadata": {},
   "outputs": [],
   "source": []
  },
  {
   "cell_type": "code",
   "execution_count": null,
   "id": "7c00dc33-769f-4195-b9cc-e6c8298bdb92",
   "metadata": {},
   "outputs": [],
   "source": []
  }
 ],
 "metadata": {
  "kernelspec": {
   "display_name": "robust",
   "language": "python",
   "name": "robust"
  },
  "language_info": {
   "codemirror_mode": {
    "name": "ipython",
    "version": 3
   },
   "file_extension": ".py",
   "mimetype": "text/x-python",
   "name": "python",
   "nbconvert_exporter": "python",
   "pygments_lexer": "ipython3",
   "version": "3.8.10"
  }
 },
 "nbformat": 4,
 "nbformat_minor": 5
}
