{
 "cells": [
  {
   "cell_type": "code",
   "execution_count": 1,
   "id": "87e8e061-2e70-43cb-82be-5c9a5f67c67f",
   "metadata": {},
   "outputs": [],
   "source": [
    "%load_ext autoreload\n",
    "%autoreload 2\n",
    "\n",
    "import numpy as np\n",
    "import matplotlib.pyplot as plt\n",
    "from tqdm.notebook import tqdm, trange\n",
    "import seaborn as sns\n",
    "\n",
    "import src.metrics as metrics\n",
    "import src.kernels as kernels\n",
    "import src.bootstrap as boot"
   ]
  },
  {
   "cell_type": "markdown",
   "id": "b92963ed-cfb8-4f35-82c0-b590ffddb74d",
   "metadata": {},
   "source": [
    "# Outliers (level)"
   ]
  },
  {
   "cell_type": "code",
   "execution_count": 30,
   "id": "dcb29839-95b8-45cc-a414-e5c3ade458c5",
   "metadata": {},
   "outputs": [],
   "source": [
    "def rej_rate_outliers(outlier, n_ls, eps_ls, nreps, dim=1, alpha=0.05):\n",
    "    res = {oo: {ee: {\n",
    "        \"tilted\": {\"stat\": [], \"pval\": [], \"rej\": [], \"boot_stats\": []},\n",
    "        \"rbf\": {\"stat\": [], \"pval\": [], \"rej\": [], \"boot_stats\": []},\n",
    "        \"tilted_ol_robust\": {\"nonsq_stat\": [], \"threshold\": [], \"rej\": []},\n",
    "    } for ee in eps_ls} for oo in n_ls}\n",
    "    res[\"eps_ls\"] = eps_ls\n",
    "    \n",
    "    for n in n_ls:\n",
    "        for eps in eps_ls:\n",
    "            print(\"eps:\", eps)\n",
    "            ###\n",
    "            mean1 = np.zeros((dim,)) # data\n",
    "            mean2 = np.zeros((dim,)) # model\n",
    "            \n",
    "            Xs = np.random.multivariate_normal(mean1, np.eye(dim), (nreps, n))\n",
    "            n_outlier = max(1, int(n * eps))\n",
    "            Xs[:, :n_outlier] = outlier\n",
    "        \n",
    "            score_fn = lambda x: - (x - mean2)\n",
    "            ###\n",
    "    \n",
    "            # tilted\n",
    "            score_weight_fn = kernels.PolyWeightFunction()\n",
    "            kernel0 = kernels.RBF(sigma_sq=2.)\n",
    "            kernel = kernels.TiltedKernel(kernel=kernel0, weight_fn=score_weight_fn)\n",
    "\n",
    "            ksd = metrics.KSD(kernel, score_fn=score_fn)\n",
    "            wild_boot = boot.WildBootstrap(ksd)\n",
    "            for X in tqdm(Xs):                \n",
    "                pval, stat, boot_stats = wild_boot.pval(X, X, return_stat=True, return_boot=True)\n",
    "                res[n][eps][\"tilted\"][\"stat\"].append(stat)\n",
    "                res[n][eps][\"tilted\"][\"pval\"].append(pval)\n",
    "                res[n][eps][\"tilted\"][\"rej\"].append(int(pval < alpha))\n",
    "                res[n][eps][\"tilted\"][\"boot_stats\"].append(boot_stats)\n",
    "        \n",
    "            # RBF\n",
    "            kernel = kernels.RBF(sigma_sq=2.)\n",
    "            \n",
    "            ksd = metrics.KSD(kernel, score_fn=score_fn)\n",
    "            wild_boot = boot.WildBootstrap(ksd)\n",
    "            for X in tqdm(Xs):                \n",
    "                pval, stat, boot_stats = wild_boot.pval(X, X, return_stat=True, return_boot=True)\n",
    "                res[n][eps][\"rbf\"][\"stat\"].append(stat)\n",
    "                res[n][eps][\"rbf\"][\"pval\"].append(pval)\n",
    "                res[n][eps][\"rbf\"][\"rej\"].append(int(pval < alpha))\n",
    "                res[n][eps][\"rbf\"][\"boot_stats\"].append(boot_stats)\n",
    "\n",
    "            # tilted ol robust\n",
    "            score_weight_fn = kernels.PolyWeightFunction()\n",
    "            kernel0 = kernels.RBF(sigma_sq=2.)\n",
    "            kernel = kernels.TiltedKernel(kernel=kernel0, weight_fn=score_weight_fn)\n",
    "\n",
    "            ksd = metrics.KSD(kernel, score_fn=score_fn)\n",
    "            m0 = int(np.ceil(eps * n))\n",
    "            threshold = ksd.test_threshold(n=n, m0=m0, alpha=alpha, method=\"ol_robust\")\n",
    "            for X in tqdm(Xs):\n",
    "                stat = ksd(X, X, vstat=True) # squared-KSD\n",
    "                stat = stat**0.5\n",
    "                res[n][eps][\"tilted_ol_robust\"][\"nonsq_stat\"].append(stat)\n",
    "                res[n][eps][\"tilted_ol_robust\"][\"threshold\"].append(threshold)\n",
    "                res[n][eps][\"tilted_ol_robust\"][\"rej\"].append(int(stat > threshold))\n",
    "    \n",
    "    return res"
   ]
  },
  {
   "cell_type": "code",
   "execution_count": 42,
   "id": "a4ccff27-61e1-4bbb-a190-e125a2bce753",
   "metadata": {},
   "outputs": [],
   "source": [
    "np.random.seed(2024)\n",
    "\n",
    "n = 500\n",
    "n_ls = [n] # [100, 500, 1000]\n",
    "eps_ls = [0.1, 0.05, 0.01, 0.005] # [0.01, 0.1]"
   ]
  },
  {
   "cell_type": "code",
   "execution_count": 43,
   "id": "5734494b-2395-4879-a475-c9869471c7f0",
   "metadata": {
    "scrolled": true
   },
   "outputs": [
    {
     "name": "stdout",
     "output_type": "stream",
     "text": [
      "eps: 0.1\n"
     ]
    },
    {
     "data": {
      "application/vnd.jupyter.widget-view+json": {
       "model_id": "17cf7a310ef746419f0f3178b0377484",
       "version_major": 2,
       "version_minor": 0
      },
      "text/plain": [
       "  0%|          | 0/100 [00:00<?, ?it/s]"
      ]
     },
     "metadata": {},
     "output_type": "display_data"
    },
    {
     "data": {
      "application/vnd.jupyter.widget-view+json": {
       "model_id": "8ea05c03adbd4d22aaf2d4049f742a9c",
       "version_major": 2,
       "version_minor": 0
      },
      "text/plain": [
       "  0%|          | 0/100 [00:00<?, ?it/s]"
      ]
     },
     "metadata": {},
     "output_type": "display_data"
    },
    {
     "data": {
      "application/vnd.jupyter.widget-view+json": {
       "model_id": "6f4db427a51d4936b5c7d6359392a335",
       "version_major": 2,
       "version_minor": 0
      },
      "text/plain": [
       "  0%|          | 0/100 [00:00<?, ?it/s]"
      ]
     },
     "metadata": {},
     "output_type": "display_data"
    },
    {
     "name": "stdout",
     "output_type": "stream",
     "text": [
      "eps: 0.05\n"
     ]
    },
    {
     "data": {
      "application/vnd.jupyter.widget-view+json": {
       "model_id": "b6ed05d8d7e34d95ba67e50530a2d431",
       "version_major": 2,
       "version_minor": 0
      },
      "text/plain": [
       "  0%|          | 0/100 [00:00<?, ?it/s]"
      ]
     },
     "metadata": {},
     "output_type": "display_data"
    },
    {
     "data": {
      "application/vnd.jupyter.widget-view+json": {
       "model_id": "4885f65c011641d9af970ff47a73f58a",
       "version_major": 2,
       "version_minor": 0
      },
      "text/plain": [
       "  0%|          | 0/100 [00:00<?, ?it/s]"
      ]
     },
     "metadata": {},
     "output_type": "display_data"
    },
    {
     "data": {
      "application/vnd.jupyter.widget-view+json": {
       "model_id": "43b86073d73147858d7b39522aa6e143",
       "version_major": 2,
       "version_minor": 0
      },
      "text/plain": [
       "  0%|          | 0/100 [00:00<?, ?it/s]"
      ]
     },
     "metadata": {},
     "output_type": "display_data"
    },
    {
     "name": "stdout",
     "output_type": "stream",
     "text": [
      "eps: 0.01\n"
     ]
    },
    {
     "data": {
      "application/vnd.jupyter.widget-view+json": {
       "model_id": "ff4e3ed623884f2ebddad6d74c44a15e",
       "version_major": 2,
       "version_minor": 0
      },
      "text/plain": [
       "  0%|          | 0/100 [00:00<?, ?it/s]"
      ]
     },
     "metadata": {},
     "output_type": "display_data"
    },
    {
     "data": {
      "application/vnd.jupyter.widget-view+json": {
       "model_id": "48d0f29d3de64ab98aedade57be10d47",
       "version_major": 2,
       "version_minor": 0
      },
      "text/plain": [
       "  0%|          | 0/100 [00:00<?, ?it/s]"
      ]
     },
     "metadata": {},
     "output_type": "display_data"
    },
    {
     "data": {
      "application/vnd.jupyter.widget-view+json": {
       "model_id": "909ea964040f4b91a44c20a3f1bc6766",
       "version_major": 2,
       "version_minor": 0
      },
      "text/plain": [
       "  0%|          | 0/100 [00:00<?, ?it/s]"
      ]
     },
     "metadata": {},
     "output_type": "display_data"
    },
    {
     "name": "stdout",
     "output_type": "stream",
     "text": [
      "eps: 0.005\n"
     ]
    },
    {
     "data": {
      "application/vnd.jupyter.widget-view+json": {
       "model_id": "c2d03842a64b4596917909df2d8dbf77",
       "version_major": 2,
       "version_minor": 0
      },
      "text/plain": [
       "  0%|          | 0/100 [00:00<?, ?it/s]"
      ]
     },
     "metadata": {},
     "output_type": "display_data"
    },
    {
     "data": {
      "application/vnd.jupyter.widget-view+json": {
       "model_id": "757fd32e2d6c4d708dafcc966107eee6",
       "version_major": 2,
       "version_minor": 0
      },
      "text/plain": [
       "  0%|          | 0/100 [00:00<?, ?it/s]"
      ]
     },
     "metadata": {},
     "output_type": "display_data"
    },
    {
     "data": {
      "application/vnd.jupyter.widget-view+json": {
       "model_id": "44527663c0df4ef490090cc8b58a0d93",
       "version_major": 2,
       "version_minor": 0
      },
      "text/plain": [
       "  0%|          | 0/100 [00:00<?, ?it/s]"
      ]
     },
     "metadata": {},
     "output_type": "display_data"
    },
    {
     "name": "stdout",
     "output_type": "stream",
     "text": [
      "eps: 0.1\n"
     ]
    },
    {
     "data": {
      "application/vnd.jupyter.widget-view+json": {
       "model_id": "41ce4792b84c42738b164ae39dbdb386",
       "version_major": 2,
       "version_minor": 0
      },
      "text/plain": [
       "  0%|          | 0/100 [00:00<?, ?it/s]"
      ]
     },
     "metadata": {},
     "output_type": "display_data"
    },
    {
     "data": {
      "application/vnd.jupyter.widget-view+json": {
       "model_id": "1f5270f0edf341f3aa3b6665aba38aa7",
       "version_major": 2,
       "version_minor": 0
      },
      "text/plain": [
       "  0%|          | 0/100 [00:00<?, ?it/s]"
      ]
     },
     "metadata": {},
     "output_type": "display_data"
    },
    {
     "data": {
      "application/vnd.jupyter.widget-view+json": {
       "model_id": "1fb56dbd71aa4496908eedc05ea1535c",
       "version_major": 2,
       "version_minor": 0
      },
      "text/plain": [
       "  0%|          | 0/100 [00:00<?, ?it/s]"
      ]
     },
     "metadata": {},
     "output_type": "display_data"
    },
    {
     "name": "stdout",
     "output_type": "stream",
     "text": [
      "eps: 0.05\n"
     ]
    },
    {
     "data": {
      "application/vnd.jupyter.widget-view+json": {
       "model_id": "0ca0670b4c9141aab8a9fa3010a93943",
       "version_major": 2,
       "version_minor": 0
      },
      "text/plain": [
       "  0%|          | 0/100 [00:00<?, ?it/s]"
      ]
     },
     "metadata": {},
     "output_type": "display_data"
    },
    {
     "data": {
      "application/vnd.jupyter.widget-view+json": {
       "model_id": "712b8723360e4fcea7a9943c738c1818",
       "version_major": 2,
       "version_minor": 0
      },
      "text/plain": [
       "  0%|          | 0/100 [00:00<?, ?it/s]"
      ]
     },
     "metadata": {},
     "output_type": "display_data"
    },
    {
     "data": {
      "application/vnd.jupyter.widget-view+json": {
       "model_id": "1fcc7a9ff83b42c88c8b4bf5dde3b32b",
       "version_major": 2,
       "version_minor": 0
      },
      "text/plain": [
       "  0%|          | 0/100 [00:00<?, ?it/s]"
      ]
     },
     "metadata": {},
     "output_type": "display_data"
    },
    {
     "name": "stdout",
     "output_type": "stream",
     "text": [
      "eps: 0.01\n"
     ]
    },
    {
     "data": {
      "application/vnd.jupyter.widget-view+json": {
       "model_id": "7d54ec4a5405496f80dbdafdfedc5cbb",
       "version_major": 2,
       "version_minor": 0
      },
      "text/plain": [
       "  0%|          | 0/100 [00:00<?, ?it/s]"
      ]
     },
     "metadata": {},
     "output_type": "display_data"
    },
    {
     "data": {
      "application/vnd.jupyter.widget-view+json": {
       "model_id": "7d94094d1ca24d859906201e71a19868",
       "version_major": 2,
       "version_minor": 0
      },
      "text/plain": [
       "  0%|          | 0/100 [00:00<?, ?it/s]"
      ]
     },
     "metadata": {},
     "output_type": "display_data"
    },
    {
     "data": {
      "application/vnd.jupyter.widget-view+json": {
       "model_id": "c7cd72d8dbd94af3a3d82af36607fd5d",
       "version_major": 2,
       "version_minor": 0
      },
      "text/plain": [
       "  0%|          | 0/100 [00:00<?, ?it/s]"
      ]
     },
     "metadata": {},
     "output_type": "display_data"
    },
    {
     "name": "stdout",
     "output_type": "stream",
     "text": [
      "eps: 0.005\n"
     ]
    },
    {
     "data": {
      "application/vnd.jupyter.widget-view+json": {
       "model_id": "8c49f287ca9c4a3b900d9299a6a6d516",
       "version_major": 2,
       "version_minor": 0
      },
      "text/plain": [
       "  0%|          | 0/100 [00:00<?, ?it/s]"
      ]
     },
     "metadata": {},
     "output_type": "display_data"
    },
    {
     "data": {
      "application/vnd.jupyter.widget-view+json": {
       "model_id": "133396479917413fa33009501c5ae2bc",
       "version_major": 2,
       "version_minor": 0
      },
      "text/plain": [
       "  0%|          | 0/100 [00:00<?, ?it/s]"
      ]
     },
     "metadata": {},
     "output_type": "display_data"
    },
    {
     "data": {
      "application/vnd.jupyter.widget-view+json": {
       "model_id": "3198945a3de3498eb1d6fd64a19673f7",
       "version_major": 2,
       "version_minor": 0
      },
      "text/plain": [
       "  0%|          | 0/100 [00:00<?, ?it/s]"
      ]
     },
     "metadata": {},
     "output_type": "display_data"
    },
    {
     "name": "stdout",
     "output_type": "stream",
     "text": [
      "eps: 0.1\n"
     ]
    },
    {
     "data": {
      "application/vnd.jupyter.widget-view+json": {
       "model_id": "0b2c2ee96853496abb91ca4d726b4050",
       "version_major": 2,
       "version_minor": 0
      },
      "text/plain": [
       "  0%|          | 0/100 [00:00<?, ?it/s]"
      ]
     },
     "metadata": {},
     "output_type": "display_data"
    },
    {
     "data": {
      "application/vnd.jupyter.widget-view+json": {
       "model_id": "b0fce1658b7b410a923c1ad4287ea9c2",
       "version_major": 2,
       "version_minor": 0
      },
      "text/plain": [
       "  0%|          | 0/100 [00:00<?, ?it/s]"
      ]
     },
     "metadata": {},
     "output_type": "display_data"
    },
    {
     "data": {
      "application/vnd.jupyter.widget-view+json": {
       "model_id": "c6967fccc86d4667b870b4d0b31e71ac",
       "version_major": 2,
       "version_minor": 0
      },
      "text/plain": [
       "  0%|          | 0/100 [00:00<?, ?it/s]"
      ]
     },
     "metadata": {},
     "output_type": "display_data"
    },
    {
     "name": "stdout",
     "output_type": "stream",
     "text": [
      "eps: 0.05\n"
     ]
    },
    {
     "data": {
      "application/vnd.jupyter.widget-view+json": {
       "model_id": "d70114d1b48d4265b3d76c0b45e71d6f",
       "version_major": 2,
       "version_minor": 0
      },
      "text/plain": [
       "  0%|          | 0/100 [00:00<?, ?it/s]"
      ]
     },
     "metadata": {},
     "output_type": "display_data"
    },
    {
     "data": {
      "application/vnd.jupyter.widget-view+json": {
       "model_id": "e1991a712d734dcdaa15a10556de1225",
       "version_major": 2,
       "version_minor": 0
      },
      "text/plain": [
       "  0%|          | 0/100 [00:00<?, ?it/s]"
      ]
     },
     "metadata": {},
     "output_type": "display_data"
    },
    {
     "data": {
      "application/vnd.jupyter.widget-view+json": {
       "model_id": "da6365ad28a14f7c92a4ac265ecde9e1",
       "version_major": 2,
       "version_minor": 0
      },
      "text/plain": [
       "  0%|          | 0/100 [00:00<?, ?it/s]"
      ]
     },
     "metadata": {},
     "output_type": "display_data"
    },
    {
     "name": "stdout",
     "output_type": "stream",
     "text": [
      "eps: 0.01\n"
     ]
    },
    {
     "data": {
      "application/vnd.jupyter.widget-view+json": {
       "model_id": "eb7b77699a23403bbd01fb22ea2dfbfa",
       "version_major": 2,
       "version_minor": 0
      },
      "text/plain": [
       "  0%|          | 0/100 [00:00<?, ?it/s]"
      ]
     },
     "metadata": {},
     "output_type": "display_data"
    },
    {
     "data": {
      "application/vnd.jupyter.widget-view+json": {
       "model_id": "1bf0d3e940344384b8564ad43a1d0a83",
       "version_major": 2,
       "version_minor": 0
      },
      "text/plain": [
       "  0%|          | 0/100 [00:00<?, ?it/s]"
      ]
     },
     "metadata": {},
     "output_type": "display_data"
    },
    {
     "data": {
      "application/vnd.jupyter.widget-view+json": {
       "model_id": "a7650077f6bc47ed8d03f855581fb4bf",
       "version_major": 2,
       "version_minor": 0
      },
      "text/plain": [
       "  0%|          | 0/100 [00:00<?, ?it/s]"
      ]
     },
     "metadata": {},
     "output_type": "display_data"
    },
    {
     "name": "stdout",
     "output_type": "stream",
     "text": [
      "eps: 0.005\n"
     ]
    },
    {
     "data": {
      "application/vnd.jupyter.widget-view+json": {
       "model_id": "8780c4031ce74d58aa56062060f83327",
       "version_major": 2,
       "version_minor": 0
      },
      "text/plain": [
       "  0%|          | 0/100 [00:00<?, ?it/s]"
      ]
     },
     "metadata": {},
     "output_type": "display_data"
    },
    {
     "data": {
      "application/vnd.jupyter.widget-view+json": {
       "model_id": "a759b2d7c8ff421aa35bd8f5a32eb1d2",
       "version_major": 2,
       "version_minor": 0
      },
      "text/plain": [
       "  0%|          | 0/100 [00:00<?, ?it/s]"
      ]
     },
     "metadata": {},
     "output_type": "display_data"
    },
    {
     "data": {
      "application/vnd.jupyter.widget-view+json": {
       "model_id": "ccfd73f5c21d43dbb9af7997f2247a0f",
       "version_major": 2,
       "version_minor": 0
      },
      "text/plain": [
       "  0%|          | 0/100 [00:00<?, ?it/s]"
      ]
     },
     "metadata": {},
     "output_type": "display_data"
    },
    {
     "name": "stdout",
     "output_type": "stream",
     "text": [
      "eps: 0.1\n"
     ]
    },
    {
     "data": {
      "application/vnd.jupyter.widget-view+json": {
       "model_id": "eaee6abf85214114852308d9b27d0ad1",
       "version_major": 2,
       "version_minor": 0
      },
      "text/plain": [
       "  0%|          | 0/100 [00:00<?, ?it/s]"
      ]
     },
     "metadata": {},
     "output_type": "display_data"
    },
    {
     "data": {
      "application/vnd.jupyter.widget-view+json": {
       "model_id": "e6dabb6df46845718991958adfb87c01",
       "version_major": 2,
       "version_minor": 0
      },
      "text/plain": [
       "  0%|          | 0/100 [00:00<?, ?it/s]"
      ]
     },
     "metadata": {},
     "output_type": "display_data"
    },
    {
     "data": {
      "application/vnd.jupyter.widget-view+json": {
       "model_id": "3bc684eb5b534e73aa426861b1da361a",
       "version_major": 2,
       "version_minor": 0
      },
      "text/plain": [
       "  0%|          | 0/100 [00:00<?, ?it/s]"
      ]
     },
     "metadata": {},
     "output_type": "display_data"
    },
    {
     "name": "stdout",
     "output_type": "stream",
     "text": [
      "eps: 0.05\n"
     ]
    },
    {
     "data": {
      "application/vnd.jupyter.widget-view+json": {
       "model_id": "2d02e5d7771f47af88522929c6454eec",
       "version_major": 2,
       "version_minor": 0
      },
      "text/plain": [
       "  0%|          | 0/100 [00:00<?, ?it/s]"
      ]
     },
     "metadata": {},
     "output_type": "display_data"
    },
    {
     "data": {
      "application/vnd.jupyter.widget-view+json": {
       "model_id": "a93b8a00aefb47be825c07f280845037",
       "version_major": 2,
       "version_minor": 0
      },
      "text/plain": [
       "  0%|          | 0/100 [00:00<?, ?it/s]"
      ]
     },
     "metadata": {},
     "output_type": "display_data"
    },
    {
     "data": {
      "application/vnd.jupyter.widget-view+json": {
       "model_id": "57a845f73c37407992e6a9e73f638458",
       "version_major": 2,
       "version_minor": 0
      },
      "text/plain": [
       "  0%|          | 0/100 [00:00<?, ?it/s]"
      ]
     },
     "metadata": {},
     "output_type": "display_data"
    },
    {
     "name": "stdout",
     "output_type": "stream",
     "text": [
      "eps: 0.01\n"
     ]
    },
    {
     "data": {
      "application/vnd.jupyter.widget-view+json": {
       "model_id": "4d85c9c6c0544be2b353cd5fbc2289d4",
       "version_major": 2,
       "version_minor": 0
      },
      "text/plain": [
       "  0%|          | 0/100 [00:00<?, ?it/s]"
      ]
     },
     "metadata": {},
     "output_type": "display_data"
    },
    {
     "data": {
      "application/vnd.jupyter.widget-view+json": {
       "model_id": "51303e49696f4b13a00202da4dd199e7",
       "version_major": 2,
       "version_minor": 0
      },
      "text/plain": [
       "  0%|          | 0/100 [00:00<?, ?it/s]"
      ]
     },
     "metadata": {},
     "output_type": "display_data"
    },
    {
     "data": {
      "application/vnd.jupyter.widget-view+json": {
       "model_id": "4d24239446de4d2d97183f4dcb540b88",
       "version_major": 2,
       "version_minor": 0
      },
      "text/plain": [
       "  0%|          | 0/100 [00:00<?, ?it/s]"
      ]
     },
     "metadata": {},
     "output_type": "display_data"
    },
    {
     "name": "stdout",
     "output_type": "stream",
     "text": [
      "eps: 0.005\n"
     ]
    },
    {
     "data": {
      "application/vnd.jupyter.widget-view+json": {
       "model_id": "02b305ad076440288364f0e26ee6fe38",
       "version_major": 2,
       "version_minor": 0
      },
      "text/plain": [
       "  0%|          | 0/100 [00:00<?, ?it/s]"
      ]
     },
     "metadata": {},
     "output_type": "display_data"
    },
    {
     "data": {
      "application/vnd.jupyter.widget-view+json": {
       "model_id": "8cdb318c73a244abbb61ee304f632ac9",
       "version_major": 2,
       "version_minor": 0
      },
      "text/plain": [
       "  0%|          | 0/100 [00:00<?, ?it/s]"
      ]
     },
     "metadata": {},
     "output_type": "display_data"
    },
    {
     "data": {
      "application/vnd.jupyter.widget-view+json": {
       "model_id": "842ec591c28a41fe8f1393c48f5fa3f9",
       "version_major": 2,
       "version_minor": 0
      },
      "text/plain": [
       "  0%|          | 0/100 [00:00<?, ?it/s]"
      ]
     },
     "metadata": {},
     "output_type": "display_data"
    }
   ],
   "source": [
    "outlier_ls = [0.1, 1., 10., 100.]\n",
    "res_ol = {}\n",
    "for outlier in outlier_ls:\n",
    "    sub_res_ol = rej_rate_outliers(outlier, n_ls, eps_ls, nreps=100)\n",
    "    res_ol[outlier] = sub_res_ol"
   ]
  },
  {
   "cell_type": "code",
   "execution_count": 44,
   "id": "9d0825b7-8a8b-425c-99fe-b52456853f1b",
   "metadata": {},
   "outputs": [
    {
     "data": {
      "image/png": "[encoded data removed]",
      "text/plain": [
       "<Figure size 1200x300 with 4 Axes>"
      ]
     },
     "metadata": {},
     "output_type": "display_data"
    }
   ],
   "source": [
    "figs, axes = plt.subplots(ncols=len(eps_ls), nrows=1, figsize=(3*len(eps_ls), 3))\n",
    "            \n",
    "for j in range(len(eps_ls)):\n",
    "    ax = axes[j]\n",
    "    rej_tilted = np.array([np.mean(res_ol[ww][n][eps_ls[j]][\"tilted\"][\"rej\"]) for ww in outlier_ls])\n",
    "    rej_rbf = np.array([np.mean(res_ol[ww][n][eps_ls[j]][\"rbf\"][\"rej\"]) for ww in outlier_ls])\n",
    "    rej_ol_robust = np.array([np.mean(res_ol[ww][n][eps_ls[j]][\"tilted_ol_robust\"][\"rej\"]) for ww in outlier_ls])\n",
    "\n",
    "    ax.scatter(outlier_ls, rej_tilted, label=\"tilted\")\n",
    "    ax.scatter(outlier_ls, rej_rbf, label=\"rbf\", marker=\"x\")\n",
    "    ax.scatter(outlier_ls, rej_ol_robust, label=\"ol_robust\", marker=\"+\")\n",
    "    ax.axhline(0.05, linestyle=\"--\", color=\"grey\")\n",
    "    ax.set_title(rf\"$\\epsilon$={eps_ls[j]}\")\n",
    "    ax.set_xscale(\"log\")\n",
    "    ax.set_ylim(-0.05, 1.05)\n",
    "    # ax.set_ylabel(\"\")\n",
    "    # ax.set_xlabel(\"\")\n",
    "    \n",
    "axes.flatten()[0].legend()\n",
    "plt.tight_layout()"
   ]
  },
  {
   "cell_type": "code",
   "execution_count": 45,
   "id": "9644858f-e329-450f-8830-18e538c11162",
   "metadata": {},
   "outputs": [
    {
     "data": {
      "image/png": "[encoded data removed]",
      "text/plain": [
       "<Figure size 800x800 with 16 Axes>"
      ]
     },
     "metadata": {},
     "output_type": "display_data"
    }
   ],
   "source": [
    "figs, axes = plt.subplots(ncols=len(eps_ls), nrows=len(outlier_ls), figsize=(2*len(eps_ls), 2*len(outlier_ls)))\n",
    "\n",
    "for i in range(len(outlier_ls)):\n",
    "    for j in range(len(eps_ls)):\n",
    "        ax = axes[i][j]\n",
    "        sns.ecdfplot(ax=ax, x=np.array(res_ol[outlier_ls[i]][n][eps_ls[j]][\"tilted\"][\"pval\"]), label=\"Tilted\")\n",
    "        sns.ecdfplot(ax=ax, x=np.array(res_ol[outlier_ls[i]][n][eps_ls[j]][\"rbf\"][\"pval\"]), label=\"RBF\")\n",
    "        ax.plot([0., 1.], [0., 1.], linestyle=\"--\", color=\"grey\")\n",
    "        ax.set_xlim(-0.01, 1.01)\n",
    "        ax.set_ylim(-0.01, 1.01)\n",
    "        ax.set_title(rf\"$w$={outlier_ls[i]}; $\\epsilon$={eps_ls[j]}\")\n",
    "        ax.set_ylabel(\"\")\n",
    "        ax.set_xlabel(\"\")\n",
    "        \n",
    "        if i < len(outlier_ls) - 1:\n",
    "            ax.get_xaxis().set_ticks([])\n",
    "        if j > 0:\n",
    "            ax.get_yaxis().set_ticks([])\n",
    "        if j == 0:\n",
    "            ax.set_ylabel(\"Proportion\")\n",
    "        if i == len(outlier_ls) - 1:\n",
    "            ax.set_xlabel(r\"$p$-value\")\n",
    "        # if j == len(eps_ls) - 1:\n",
    "        #     ax.twinx().set_ylabel(f\"eps={eps_ls[j]}\")\n",
    "        #     ax.twinx().get_yaxis().set_ticks([])\n",
    "\n",
    "axes.flatten()[0].legend(loc=\"lower right\")\n",
    "plt.tight_layout()"
   ]
  },
  {
   "cell_type": "markdown",
   "id": "67f16fc9-0255-41a8-9bb8-8d539d065f30",
   "metadata": {},
   "source": [
    "# Mean-shift (power)"
   ]
  },
  {
   "cell_type": "code",
   "execution_count": 59,
   "id": "7ac4c1eb-5d89-4f8e-b34b-ac7288b611df",
   "metadata": {},
   "outputs": [],
   "source": [
    "def rej_rate_meanshift(mean_ls, n_ls, nreps, eps0, dim=1, alpha=0.05):\n",
    "    res = {nn: {kk: {\n",
    "        \"tilted\": {\"stat\": [], \"pval\": [], \"rej\": [], \"boot_stats\": []},\n",
    "        \"rbf\": {\"stat\": [], \"pval\": [], \"rej\": [], \"boot_stats\": []},\n",
    "        \"tilted_ol_robust\": {\"nonsq_stat\": [], \"threshold\": [], \"rej\": []},\n",
    "    } for kk in mean_ls} for nn in n_ls}\n",
    "    res[\"mean_ls\"] = eps_ls\n",
    "    \n",
    "    for n in n_ls:\n",
    "        for mean in mean_ls:\n",
    "            key = mean\n",
    "            print(\"key:\", key)\n",
    "            ###\n",
    "            mean1 = np.zeros((dim,)) # data\n",
    "            mean2 = np.reshape([mean], (-1,)) # model\n",
    "            \n",
    "            Xs = np.random.multivariate_normal(mean1, np.eye(dim), (nreps, n))\n",
    "        \n",
    "            score_fn = lambda x: - (x - mean2)\n",
    "            ###\n",
    "    \n",
    "            # tilted\n",
    "            score_weight_fn = kernels.PolyWeightFunction()\n",
    "            kernel0 = kernels.RBF(sigma_sq=2.)\n",
    "            kernel = kernels.TiltedKernel(kernel=kernel0, weight_fn=score_weight_fn)\n",
    "\n",
    "            ksd = metrics.KSD(kernel, score_fn=score_fn)\n",
    "            wild_boot = boot.WildBootstrap(ksd)\n",
    "            for X in tqdm(Xs):                \n",
    "                pval, stat, boot_stats = wild_boot.pval(X, X, return_stat=True, return_boot=True)\n",
    "                res[n][key][\"tilted\"][\"stat\"].append(stat)\n",
    "                res[n][key][\"tilted\"][\"pval\"].append(pval)\n",
    "                res[n][key][\"tilted\"][\"rej\"].append(int(pval < alpha))\n",
    "                res[n][key][\"tilted\"][\"boot_stats\"].append(boot_stats)\n",
    "        \n",
    "            # RBF\n",
    "            kernel = kernels.RBF(sigma_sq=2.)\n",
    "            \n",
    "            ksd = metrics.KSD(kernel, score_fn=score_fn)\n",
    "            wild_boot = boot.WildBootstrap(ksd)\n",
    "            for X in tqdm(Xs):                \n",
    "                pval, stat, boot_stats = wild_boot.pval(X, X, return_stat=True, return_boot=True)\n",
    "                res[n][key][\"rbf\"][\"stat\"].append(stat)\n",
    "                res[n][key][\"rbf\"][\"pval\"].append(pval)\n",
    "                res[n][key][\"rbf\"][\"rej\"].append(int(pval < alpha))\n",
    "                res[n][key][\"rbf\"][\"boot_stats\"].append(boot_stats)\n",
    "\n",
    "            # tilted ol robust\n",
    "            score_weight_fn = kernels.PolyWeightFunction()\n",
    "            kernel0 = kernels.RBF(sigma_sq=2.)\n",
    "            kernel = kernels.TiltedKernel(kernel=kernel0, weight_fn=score_weight_fn)\n",
    "\n",
    "            ksd = metrics.KSD(kernel, score_fn=score_fn)\n",
    "            m0 = int(np.ceil(0.01 * n))\n",
    "            threshold = ksd.test_threshold(n=n, m0=m0, alpha=alpha, method=\"ol_robust\")\n",
    "            for X in tqdm(Xs):\n",
    "                stat = ksd(X, X, vstat=True) # squared-KSD\n",
    "                stat = stat**0.5\n",
    "                res[n][key][\"tilted_ol_robust\"][\"nonsq_stat\"].append(stat)\n",
    "                res[n][key][\"tilted_ol_robust\"][\"threshold\"].append(threshold)\n",
    "                res[n][key][\"tilted_ol_robust\"][\"rej\"].append(int(stat > threshold))\n",
    "    \n",
    "    return res"
   ]
  },
  {
   "cell_type": "code",
   "execution_count": 71,
   "id": "f1d57ca0-7a7f-422a-b852-d045290b90b9",
   "metadata": {},
   "outputs": [],
   "source": [
    "np.random.seed(2024)\n",
    "\n",
    "n = 500\n",
    "n_ls = [n]\n",
    "mean_ls = [0.1, 1., 10., 100.]"
   ]
  },
  {
   "cell_type": "code",
   "execution_count": 72,
   "id": "f205a06c-c8da-4a36-8ee0-31f5cb990892",
   "metadata": {},
   "outputs": [
    {
     "name": "stdout",
     "output_type": "stream",
     "text": [
      "key: 0.1\n"
     ]
    },
    {
     "data": {
      "application/vnd.jupyter.widget-view+json": {
       "model_id": "4b8278f34a0041b480539dd88f4f75e5",
       "version_major": 2,
       "version_minor": 0
      },
      "text/plain": [
       "  0%|          | 0/100 [00:00<?, ?it/s]"
      ]
     },
     "metadata": {},
     "output_type": "display_data"
    },
    {
     "data": {
      "application/vnd.jupyter.widget-view+json": {
       "model_id": "2786f16f11e5409b9cc9d02a5d586edb",
       "version_major": 2,
       "version_minor": 0
      },
      "text/plain": [
       "  0%|          | 0/100 [00:00<?, ?it/s]"
      ]
     },
     "metadata": {},
     "output_type": "display_data"
    },
    {
     "data": {
      "application/vnd.jupyter.widget-view+json": {
       "model_id": "c6bd829a48964655ae1a45a08da2d0b3",
       "version_major": 2,
       "version_minor": 0
      },
      "text/plain": [
       "  0%|          | 0/100 [00:00<?, ?it/s]"
      ]
     },
     "metadata": {},
     "output_type": "display_data"
    },
    {
     "name": "stdout",
     "output_type": "stream",
     "text": [
      "key: 1.0\n"
     ]
    },
    {
     "data": {
      "application/vnd.jupyter.widget-view+json": {
       "model_id": "1210b315938b4c3ca7d5407313ce9131",
       "version_major": 2,
       "version_minor": 0
      },
      "text/plain": [
       "  0%|          | 0/100 [00:00<?, ?it/s]"
      ]
     },
     "metadata": {},
     "output_type": "display_data"
    },
    {
     "data": {
      "application/vnd.jupyter.widget-view+json": {
       "model_id": "0b85b18fd7fe4f80916c48833a9040d3",
       "version_major": 2,
       "version_minor": 0
      },
      "text/plain": [
       "  0%|          | 0/100 [00:00<?, ?it/s]"
      ]
     },
     "metadata": {},
     "output_type": "display_data"
    },
    {
     "data": {
      "application/vnd.jupyter.widget-view+json": {
       "model_id": "b88f92a31fed48a2ad725c0c373d45ce",
       "version_major": 2,
       "version_minor": 0
      },
      "text/plain": [
       "  0%|          | 0/100 [00:00<?, ?it/s]"
      ]
     },
     "metadata": {},
     "output_type": "display_data"
    },
    {
     "name": "stdout",
     "output_type": "stream",
     "text": [
      "key: 10.0\n"
     ]
    },
    {
     "data": {
      "application/vnd.jupyter.widget-view+json": {
       "model_id": "60f90467fa2647e79f4e0ffd05883d82",
       "version_major": 2,
       "version_minor": 0
      },
      "text/plain": [
       "  0%|          | 0/100 [00:00<?, ?it/s]"
      ]
     },
     "metadata": {},
     "output_type": "display_data"
    },
    {
     "data": {
      "application/vnd.jupyter.widget-view+json": {
       "model_id": "8daaf6b913084b8a9cba8e43c24b658f",
       "version_major": 2,
       "version_minor": 0
      },
      "text/plain": [
       "  0%|          | 0/100 [00:00<?, ?it/s]"
      ]
     },
     "metadata": {},
     "output_type": "display_data"
    },
    {
     "data": {
      "application/vnd.jupyter.widget-view+json": {
       "model_id": "115f6d0183224d3c9a3a2b6b1d316327",
       "version_major": 2,
       "version_minor": 0
      },
      "text/plain": [
       "  0%|          | 0/100 [00:00<?, ?it/s]"
      ]
     },
     "metadata": {},
     "output_type": "display_data"
    },
    {
     "name": "stdout",
     "output_type": "stream",
     "text": [
      "key: 100.0\n"
     ]
    },
    {
     "data": {
      "application/vnd.jupyter.widget-view+json": {
       "model_id": "bd43d901323742c6b33ca36a0e6ad522",
       "version_major": 2,
       "version_minor": 0
      },
      "text/plain": [
       "  0%|          | 0/100 [00:00<?, ?it/s]"
      ]
     },
     "metadata": {},
     "output_type": "display_data"
    },
    {
     "data": {
      "application/vnd.jupyter.widget-view+json": {
       "model_id": "c8162ccff71740299901daee3b929cb7",
       "version_major": 2,
       "version_minor": 0
      },
      "text/plain": [
       "  0%|          | 0/100 [00:00<?, ?it/s]"
      ]
     },
     "metadata": {},
     "output_type": "display_data"
    },
    {
     "data": {
      "application/vnd.jupyter.widget-view+json": {
       "model_id": "1a15e38e82b344009278cb399e18336b",
       "version_major": 2,
       "version_minor": 0
      },
      "text/plain": [
       "  0%|          | 0/100 [00:00<?, ?it/s]"
      ]
     },
     "metadata": {},
     "output_type": "display_data"
    }
   ],
   "source": [
    "res_ms = rej_rate_meanshift(mean_ls=mean_ls, n_ls=n_ls, eps0=0.01, nreps=100)"
   ]
  },
  {
   "cell_type": "code",
   "execution_count": 74,
   "id": "3b77f5f7-f94e-4640-bcdd-d5c71b4fb866",
   "metadata": {},
   "outputs": [
    {
     "data": {
      "image/png": "[encoded data removed]",
      "text/plain": [
       "<Figure size 300x300 with 1 Axes>"
      ]
     },
     "metadata": {},
     "output_type": "display_data"
    }
   ],
   "source": [
    "fig, ax = plt.subplots(ncols=1, nrows=1, figsize=(3, 3))\n",
    "            \n",
    "rej_tilted = np.array([np.mean(res_ms[n][kk][\"tilted\"][\"rej\"]) for kk in mean_ls])\n",
    "rej_rbf = np.array([np.mean(res_ms[n][kk][\"rbf\"][\"rej\"]) for kk in mean_ls])\n",
    "rej_ol_robust = np.array([np.mean(res_ms[n][kk][\"tilted_ol_robust\"][\"rej\"]) for kk in mean_ls])\n",
    "\n",
    "ax.scatter(mean_ls, rej_tilted, label=\"tilted\")\n",
    "ax.scatter(mean_ls, rej_rbf, label=\"rbf\", marker=\"x\")\n",
    "ax.scatter(mean_ls, rej_ol_robust, label=\"ol_robust\", marker=\"+\")\n",
    "ax.axhline(0.05, linestyle=\"--\", color=\"grey\")\n",
    "ax.set_xscale(\"log\")\n",
    "ax.set_ylim(-0.05, 1.05)\n",
    "# ax.set_ylabel(\"\")\n",
    "# ax.set_xlabel(\"\")\n",
    "\n",
    "ax.legend()\n",
    "plt.tight_layout()"
   ]
  },
  {
   "cell_type": "code",
   "execution_count": null,
   "id": "62d54d7d-d0e0-45df-addf-294b76641f7f",
   "metadata": {},
   "outputs": [],
   "source": []
  },
  {
   "cell_type": "code",
   "execution_count": null,
   "id": "7c00dc33-769f-4195-b9cc-e6c8298bdb92",
   "metadata": {},
   "outputs": [],
   "source": []
  }
 ],
 "metadata": {
  "kernelspec": {
   "display_name": "robust",
   "language": "python",
   "name": "robust"
  },
  "language_info": {
   "codemirror_mode": {
    "name": "ipython",
    "version": 3
   },
   "file_extension": ".py",
   "mimetype": "text/x-python",
   "name": "python",
   "nbconvert_exporter": "python",
   "pygments_lexer": "ipython3",
   "version": "3.8.10"
  }
 },
 "nbformat": 4,
 "nbformat_minor": 5
}
