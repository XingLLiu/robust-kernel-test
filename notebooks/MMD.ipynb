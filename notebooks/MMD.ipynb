{
 "cells": [
  {
   "cell_type": "code",
   "execution_count": 1,
   "id": "e2de8648-ca7e-44a5-bf5b-98c1206924fa",
   "metadata": {},
   "outputs": [],
   "source": [
    "%load_ext autoreload\n",
    "%autoreload 2\n",
    "\n",
    "import numpy as np\n",
    "import matplotlib.pyplot as plt\n",
    "from tqdm.notebook import tqdm, trange\n",
    "import seaborn as sns\n",
    "\n",
    "import src.metrics as metrics\n",
    "import src.kernels as kernels\n",
    "import src.bootstrap as boot"
   ]
  },
  {
   "cell_type": "markdown",
   "id": "274867a9-4726-45d3-9369-36abc12b9842",
   "metadata": {
    "jp-MarkdownHeadingCollapsed": true
   },
   "source": [
    "# MMD"
   ]
  },
  {
   "cell_type": "code",
   "execution_count": 4,
   "id": "cc0109f5-4deb-4184-b5d4-e063d9ba1fc3",
   "metadata": {},
   "outputs": [],
   "source": [
    "np.random.seed(2024)"
   ]
  },
  {
   "cell_type": "code",
   "execution_count": 5,
   "id": "73d6fc42-96c1-418b-a3cb-3df9a535e439",
   "metadata": {},
   "outputs": [],
   "source": [
    "dim = 1\n",
    "n = 50\n",
    "\n",
    "x_sample = np.random.multivariate_normal(np.zeros((dim,)), np.eye(dim), n)\n",
    "\n",
    "y_sample = np.random.multivariate_normal(np.zeros((dim,)), np.eye(dim), n)"
   ]
  },
  {
   "cell_type": "code",
   "execution_count": 6,
   "id": "a72e065c-dda2-414b-a929-15f2f286be12",
   "metadata": {},
   "outputs": [
    {
     "data": {
      "text/plain": [
       "0.028349561648773447"
      ]
     },
     "execution_count": 6,
     "metadata": {},
     "output_type": "execute_result"
    }
   ],
   "source": [
    "kernel = kernels.RBF(sigma_sq=2.)\n",
    "mmd = metrics.MMD(kernel)\n",
    "mmd(x_sample, y_sample)"
   ]
  },
  {
   "cell_type": "code",
   "execution_count": 7,
   "id": "0c32630b-3f4f-495e-8b1a-15ba043ec812",
   "metadata": {},
   "outputs": [],
   "source": [
    "bootstrap = boot.WildBootstrap(mmd, ndraws=5)\n",
    "pval = bootstrap.pval(x_sample, y_sample)"
   ]
  },
  {
   "cell_type": "code",
   "execution_count": 8,
   "id": "3a10b8db-cf48-4b40-956e-93d99fcd225d",
   "metadata": {},
   "outputs": [
    {
     "data": {
      "text/plain": [
       "0.8333333333333334"
      ]
     },
     "execution_count": 8,
     "metadata": {},
     "output_type": "execute_result"
    }
   ],
   "source": [
    "pval"
   ]
  },
  {
   "cell_type": "code",
   "execution_count": 9,
   "id": "d3391920-33fb-4903-bd29-57ca7aab31da",
   "metadata": {},
   "outputs": [],
   "source": [
    "bootstrap = boot.WildBootstrap(mmd, ndraws=5)\n",
    "pval = bootstrap.pval(x_sample, y_sample)"
   ]
  },
  {
   "cell_type": "code",
   "execution_count": 10,
   "id": "d61277aa-f1a0-4bb6-9666-7e9a3a4f5b5a",
   "metadata": {},
   "outputs": [
    {
     "data": {
      "text/plain": [
       "1.0"
      ]
     },
     "execution_count": 10,
     "metadata": {},
     "output_type": "execute_result"
    }
   ],
   "source": [
    "pval"
   ]
  },
  {
   "cell_type": "code",
   "execution_count": 11,
   "id": "e82e22bd-2364-4d2e-a25c-9063255480f3",
   "metadata": {},
   "outputs": [],
   "source": [
    "def mmd_experiment_single(kernel_class, Xs, Ys, eps, nboot=500, alpha=0.05):\n",
    "    res = {\n",
    "        \"deviation\": {\"val\": [], \"threshold\": [], \"rej\": []},\n",
    "        \"boot\": {\"val\": [], \"threshold\": [], \"pval\": [], \"rej\": []},\n",
    "        \"robust\": {\"val\": [], \"threshold\": [], \"rej\": []},\n",
    "        \"relaxed\": {\"val\": [], \"threshold\": [], \"rej\": []},\n",
    "    }\n",
    "\n",
    "    for X, Y in tqdm(zip(Xs, Ys), total=Xs.shape[0]):\n",
    "        kernel = kernel_class(sigma_sq=2.)\n",
    "        mmd = metrics.MMD(kernel)\n",
    "        val = mmd(X, Y)\n",
    "        threshold = mmd.test_threshold(X.shape[0])\n",
    "        \n",
    "        # 1. deviation bound\n",
    "        rej = float(threshold < val)\n",
    "\n",
    "        # 2. standard bootstrap\n",
    "        bootstrap = boot.WildBootstrap(mmd, ndraws=nboot)\n",
    "        pval = bootstrap.pval(X, Y)\n",
    "\n",
    "        # 3. robust bootstrap\n",
    "        robust_bstrp = boot.RobustMMDTest(mmd, eps0=eps, ndraws=nboot)\n",
    "        robust_rej = robust_bstrp.test(0.05, X, Y)\n",
    "        \n",
    "        # 4. robust deviation bound\n",
    "        # thresh_dev_robust = mmd.test_threshold(X.shape[0], method=\"deviation_robust\", eps=eps)\n",
    "        # rej_dev_robust = float(thresh_dev_robust < val)\n",
    "        thresh_relaxed = (alpha - eps) / (1 - eps)\n",
    "        rej_relaxed = float(pval < thresh_relaxed)\n",
    "        \n",
    "        # save results\n",
    "        res[\"deviation\"][\"val\"].append(val)\n",
    "        res[\"deviation\"][\"threshold\"].append(threshold)\n",
    "        res[\"deviation\"][\"rej\"].append(rej)\n",
    "        \n",
    "        res[\"boot\"][\"val\"].append(val)\n",
    "        res[\"boot\"][\"threshold\"].append(threshold)\n",
    "        res[\"boot\"][\"pval\"].append(pval)\n",
    "        res[\"boot\"][\"rej\"].append(float(pval < alpha))\n",
    "\n",
    "        res[\"robust\"][\"val\"].append(val)\n",
    "        res[\"robust\"][\"threshold\"].append(threshold)\n",
    "        res[\"robust\"][\"rej\"].append(robust_rej)\n",
    "        \n",
    "        res[\"relaxed\"][\"val\"].append(val)\n",
    "        res[\"relaxed\"][\"threshold\"].append(thresh_relaxed)\n",
    "        res[\"relaxed\"][\"rej\"].append(rej_relaxed)\n",
    "\n",
    "    return res\n",
    "\n",
    "def mmd_experiment(kernel_class, Xs, Ys, eps0, keys, nboot=500):\n",
    "    \"\"\"\n",
    "    Xs: [array(nrep, n, d), ...]\n",
    "    Ys: [array(nrep, n, d), ...]\n",
    "    \"\"\"\n",
    "    res = {}\n",
    "    for Xs_i, Ys_i, kk in zip(Xs, Ys, keys):\n",
    "        res[kk] = mmd_experiment_single(kernel_class, Xs_i, Ys_i, eps0, nboot=nboot)\n",
    "\n",
    "    return res\n",
    "    "
   ]
  },
  {
   "cell_type": "code",
   "execution_count": 17,
   "id": "0860d85c-a267-42ba-9fd5-4f105fc3d08b",
   "metadata": {},
   "outputs": [],
   "source": [
    "np.random.seed(2024)"
   ]
  },
  {
   "cell_type": "code",
   "execution_count": 18,
   "id": "08dda58d-32a7-48d1-b1ec-bb4aba0932f2",
   "metadata": {},
   "outputs": [],
   "source": [
    "nrep = 20\n",
    "n = 1000\n",
    "mean1 = np.zeros((dim,))\n",
    "mean2 = np.zeros((dim,)) + 0.8\n",
    "\n",
    "### Gaussian loc\n",
    "Xs = np.random.multivariate_normal(mean1, np.eye(dim), (nrep, n))\n",
    "\n",
    "Ys = np.random.multivariate_normal(mean2, np.eye(dim), (nrep, n))\n",
    "\n",
    "### Gaussian contam\n",
    "# Xs = np.random.multivariate_normal(mean1, np.eye(dim), (nrep, n))\n",
    "\n",
    "# eps = 0.025 # 0.28\n",
    "# outlier = 10\n",
    "# mask = np.random.binomial(1, eps, (nrep, n))\n",
    "# clean_samples = np.random.multivariate_normal(mean1, np.eye(dim), (nrep, n))\n",
    "# Ys = np.where(np.expand_dims(mask, -1), np.ones_like(clean_samples) * outlier, clean_samples)\n",
    "\n",
    "### mixture of Gaussian and t\n",
    "# Xs = np.random.multivariate_normal(mean1, np.eye(dim), (nrep, n))\n",
    "\n",
    "# eps = 0.025\n",
    "# mask = np.random.binomial(1, eps, (nrep, n))\n",
    "# norm_rvs = np.random.multivariate_normal(mean1, np.eye(dim), (nrep, n))\n",
    "# t_rvs = 10. + np.expand_dims(np.random.standard_t(df=2, size=(nrep, n)), -1) \n",
    "# Ys = np.where(np.expand_dims(mask, -1), t_rvs, norm_rvs)\n",
    "###\n",
    "\n",
    "kernel_class = kernels.RBF"
   ]
  },
  {
   "cell_type": "code",
   "execution_count": 19,
   "id": "d92809ee-93c4-4999-b0e0-1dc302466b4b",
   "metadata": {},
   "outputs": [
    {
     "data": {
      "image/png": "[encoded data removed]",
      "text/plain": [
       "<Figure size 400x400 with 1 Axes>"
      ]
     },
     "metadata": {},
     "output_type": "display_data"
    }
   ],
   "source": [
    "fig, ax = plt.subplots(nrows=1, ncols=1, figsize=(4, 4))\n",
    "_ = ax.hist(Xs[0, :, 0], bins=50, label=\"X\", alpha=0.5, density=True)\n",
    "_ = ax.hist(Ys[0, :, 0], bins=50, label=\"Y\", alpha=0.5, density=True)"
   ]
  },
  {
   "cell_type": "code",
   "execution_count": 20,
   "id": "f96e30de-fc79-4e8e-8f37-1dcf955551c1",
   "metadata": {},
   "outputs": [
    {
     "data": {
      "application/vnd.jupyter.widget-view+json": {
       "model_id": "1c3dccc536a14ea29ce50517e39591c8",
       "version_major": 2,
       "version_minor": 0
      },
      "text/plain": [
       "  0%|          | 0/20 [00:00<?, ?it/s]"
      ]
     },
     "metadata": {},
     "output_type": "display_data"
    }
   ],
   "source": [
    "res = mmd_experiment_single(kernel_class, Xs, Ys, eps=eps, nboot=500)"
   ]
  },
  {
   "cell_type": "code",
   "execution_count": 21,
   "id": "bf7a8583-f19f-4a31-b50d-22c09b913fb5",
   "metadata": {},
   "outputs": [
    {
     "data": {
      "image/png": "[encoded data removed]",
      "text/plain": [
       "<Figure size 1600x300 with 4 Axes>"
      ]
     },
     "metadata": {},
     "output_type": "display_data"
    }
   ],
   "source": [
    "figs, axes = plt.subplots(nrows=1, ncols=4, figsize=(16, 3))\n",
    "\n",
    "ax = axes[0]\n",
    "ma = np.cumsum(res[\"deviation\"][\"rej\"]) / (np.arange(nrep) + 1.)\n",
    "ax.plot(np.arange(nrep) + 1., ma)\n",
    "ax.axhline(0.05, color=\"grey\", linestyle=\"--\", label=\"level\")\n",
    "ax.set_ylim(-0.01, 1.01)\n",
    "ax.set_xlabel(\"repetitions\")\n",
    "ax.set_ylabel(\"cumulative average number of rej\")\n",
    "_ = ax.legend()\n",
    "\n",
    "ax = axes[1]\n",
    "sns.ecdfplot(ax=ax, x=res[\"boot\"][\"pval\"])\n",
    "_ = ax.axline((0., 0.), slope=1., color=\"grey\", linestyle=\"--\")\n",
    "ax.set_xlim(-0.01, 1.01)\n",
    "ax.set_ylim(0., 1.)\n",
    "_ = ax.set_xlabel(\"p-value\")\n",
    "\n",
    "ax = axes[2]\n",
    "ma = np.cumsum(res[\"robust\"][\"rej\"]) / (np.arange(nrep) + 1.)\n",
    "ax.plot(np.arange(nrep) + 1., ma)\n",
    "ax.axhline(0.05, color=\"grey\", linestyle=\"--\", label=\"level\")\n",
    "ax.set_ylim(-0.01, 1.01)\n",
    "ax.set_xlabel(\"repetitions\")\n",
    "ax.set_ylabel(\"cumulative average number of rej\")\n",
    "\n",
    "if len(res[\"relaxed\"][\"rej\"]) > 0:\n",
    "    ax = axes[3]\n",
    "    ma = np.cumsum(res[\"relaxed\"][\"rej\"]) / (np.arange(nrep) + 1.)\n",
    "    ax.plot(np.arange(nrep) + 1., ma)\n",
    "    ax.axhline(0.05, color=\"grey\", linestyle=\"--\", label=\"level\")\n",
    "    ax.set_ylim(-0.01, 1.01)\n",
    "    ax.set_xlabel(\"repetitions\")\n",
    "    ax.set_ylabel(\"cumulative average number of rej\")\n"
   ]
  },
  {
   "cell_type": "markdown",
   "id": "4d988450-96c2-4548-9648-7425cb70c0d2",
   "metadata": {},
   "source": [
    "#### Multiple experiments"
   ]
  },
  {
   "cell_type": "code",
   "execution_count": 13,
   "id": "4300af38-c946-469a-9673-8e298edcdc0f",
   "metadata": {},
   "outputs": [],
   "source": [
    "np.random.seed(2024)"
   ]
  },
  {
   "cell_type": "code",
   "execution_count": 14,
   "id": "3a4574ac-5868-4924-bf59-7b43ea23e53e",
   "metadata": {},
   "outputs": [],
   "source": [
    "nrep = 100\n",
    "mean1 = np.zeros((dim,))\n",
    "# mean2 = np.zeros((dim,)) + 0.8.\n",
    "\n",
    "eps = 0.025\n",
    "outlier_ls = [0.1, 1., 10., 100., 1e3, 1e4]\n",
    "\n",
    "Xs_ls = []\n",
    "Ys_ls = []\n",
    "\n",
    "for outlier in outlier_ls:\n",
    "    ### Gaussian contam\n",
    "    Xs = np.random.multivariate_normal(mean1, np.eye(dim), (nrep, n))\n",
    "    \n",
    "    mask = np.random.binomial(1, eps, (nrep, n))\n",
    "    clean_samples = np.random.multivariate_normal(mean1, np.eye(dim), (nrep, n))\n",
    "    Ys = np.where(np.expand_dims(mask, -1), np.ones_like(clean_samples) * outlier, clean_samples)\n",
    "    ###\n",
    "\n",
    "    Xs_ls.append(Xs)\n",
    "    Ys_ls.append(Ys)\n",
    "\n",
    "kernel_class = kernels.RBF\n",
    "\n",
    "keys = outlier_ls"
   ]
  },
  {
   "cell_type": "code",
   "execution_count": 15,
   "id": "b5ce056b-9911-424d-a0de-8ee0c4a9e329",
   "metadata": {},
   "outputs": [
    {
     "data": {
      "application/vnd.jupyter.widget-view+json": {
       "model_id": "53209495d354446c8d075b55594b0564",
       "version_major": 2,
       "version_minor": 0
      },
      "text/plain": [
       "  0%|          | 0/100 [00:00<?, ?it/s]"
      ]
     },
     "metadata": {},
     "output_type": "display_data"
    },
    {
     "data": {
      "application/vnd.jupyter.widget-view+json": {
       "model_id": "bfea49096fbf49999fc7f9427992ae9c",
       "version_major": 2,
       "version_minor": 0
      },
      "text/plain": [
       "  0%|          | 0/100 [00:00<?, ?it/s]"
      ]
     },
     "metadata": {},
     "output_type": "display_data"
    },
    {
     "data": {
      "application/vnd.jupyter.widget-view+json": {
       "model_id": "e2c00cf9844f473884c767cce92eed1a",
       "version_major": 2,
       "version_minor": 0
      },
      "text/plain": [
       "  0%|          | 0/100 [00:00<?, ?it/s]"
      ]
     },
     "metadata": {},
     "output_type": "display_data"
    },
    {
     "data": {
      "application/vnd.jupyter.widget-view+json": {
       "model_id": "90f2add8a0574de78aa1f473ef343e91",
       "version_major": 2,
       "version_minor": 0
      },
      "text/plain": [
       "  0%|          | 0/100 [00:00<?, ?it/s]"
      ]
     },
     "metadata": {},
     "output_type": "display_data"
    },
    {
     "data": {
      "application/vnd.jupyter.widget-view+json": {
       "model_id": "af2b9b8a42df46e69aed6246f7010f34",
       "version_major": 2,
       "version_minor": 0
      },
      "text/plain": [
       "  0%|          | 0/100 [00:00<?, ?it/s]"
      ]
     },
     "metadata": {},
     "output_type": "display_data"
    },
    {
     "data": {
      "application/vnd.jupyter.widget-view+json": {
       "model_id": "4e1fc9f82a6444549961d3bbdea8bf46",
       "version_major": 2,
       "version_minor": 0
      },
      "text/plain": [
       "  0%|          | 0/100 [00:00<?, ?it/s]"
      ]
     },
     "metadata": {},
     "output_type": "display_data"
    }
   ],
   "source": [
    "res = mmd_experiment(kernel_class, Xs_ls, Ys_ls, eps0=eps, keys=keys, nboot=500)"
   ]
  },
  {
   "cell_type": "code",
   "execution_count": 16,
   "id": "e276cb0e-e114-470a-ac37-fae090f2fd62",
   "metadata": {},
   "outputs": [
    {
     "data": {
      "image/png": "[encoded data removed]",
      "text/plain": [
       "<Figure size 900x300 with 3 Axes>"
      ]
     },
     "metadata": {},
     "output_type": "display_data"
    }
   ],
   "source": [
    "figs, axes = plt.subplots(nrows=1, ncols=3, figsize=(9, 3))\n",
    "\n",
    "ax = axes[0]\n",
    "rej_prob = [np.mean(res[kk][\"boot\"][\"rej\"]) for kk in keys]\n",
    "ax.scatter(keys, rej_prob)\n",
    "ax.axhline(0.05, color=\"grey\", linestyle=\"--\", label=\"level\")\n",
    "ax.set_xscale(\"log\")\n",
    "ax.set_ylim(-0.05, 1.05)\n",
    "ax.set_xlabel(\"\")\n",
    "ax.set_ylabel(\"rej prob\")\n",
    "ax.set_title(\"standard test\")\n",
    "\n",
    "ax = axes[1]\n",
    "rej_prob = [np.mean(res[kk][\"robust\"][\"rej\"]) for kk in keys]\n",
    "ax.scatter(keys, rej_prob)\n",
    "ax.axhline(0.05, color=\"grey\", linestyle=\"--\", label=\"level\")\n",
    "ax.set_xscale(\"log\")\n",
    "ax.set_ylim(-0.05, 1.05)\n",
    "ax.set_xlabel(\"\")\n",
    "ax.set_ylabel(\"rej prob\")\n",
    "ax.set_title(\"robust test\")\n",
    "\n",
    "ax = axes[2]\n",
    "rej_prob = [np.mean(res[kk][\"relaxed\"][\"rej\"]) for kk in keys]\n",
    "ax.scatter(keys, rej_prob)\n",
    "ax.axhline(0.05, color=\"grey\", linestyle=\"--\", label=\"level\")\n",
    "ax.set_xscale(\"log\")\n",
    "ax.set_ylim(-0.05, 1.05)\n",
    "ax.set_xlabel(\"\")\n",
    "ax.set_ylabel(\"rej prob\")\n",
    "ax.set_title(\"robust test\")\n",
    "\n",
    "_ = axes[0].legend()\n",
    "_ = plt.tight_layout()"
   ]
  },
  {
   "cell_type": "code",
   "execution_count": null,
   "id": "345aed95-a13b-40eb-bd54-9ff3e148d445",
   "metadata": {},
   "outputs": [],
   "source": []
  },
  {
   "cell_type": "code",
   "execution_count": 210,
   "id": "cc8ef23d-d230-4131-ba17-5d04c590e9ac",
   "metadata": {},
   "outputs": [],
   "source": [
    "np.random.seed(2024)"
   ]
  },
  {
   "cell_type": "code",
   "execution_count": 211,
   "id": "7f913fdd-b8eb-4e62-b368-f2ddbd232d98",
   "metadata": {},
   "outputs": [
    {
     "data": {
      "application/vnd.jupyter.widget-view+json": {
       "model_id": "1ddd01611f414f779b9998e402f9e7ea",
       "version_major": 2,
       "version_minor": 0
      },
      "text/plain": [
       "  0%|          | 0/6 [00:00<?, ?it/s]"
      ]
     },
     "metadata": {},
     "output_type": "display_data"
    }
   ],
   "source": [
    "nrep = 20\n",
    "mean1 = np.zeros((dim,))\n",
    "# mean2 = np.zeros((dim,)) + 0.8.\n",
    "\n",
    "eps = 0.05\n",
    "outlier_ls = [0.1, 1., 10., 100., 1e3, 1e4]\n",
    "\n",
    "mmd_res = {\"contam\": [], \"outlier_only\": []}\n",
    "\n",
    "for outlier in outlier_ls:\n",
    "    ### Gaussian contam\n",
    "    Xs = np.random.multivariate_normal(mean1, np.eye(dim), (nrep, n))\n",
    "    \n",
    "    mask = np.random.binomial(1, eps, (nrep, n))\n",
    "    clean_samples = np.random.multivariate_normal(mean1, np.eye(dim), (nrep, n))\n",
    "    Ys = np.where(np.expand_dims(mask, -1), np.ones_like(clean_samples) * outlier, clean_samples)\n",
    "\n",
    "    Ys_outliers = np.ones_like(Xs) * outlier\n",
    "    ###\n",
    "\n",
    "    mmd_contam_ls = []\n",
    "    mmd_outlier_ls = []\n",
    "    for (X, Y, Y_o) in tqdm(zip(Xs, Ys, Ys_outliers), total=X.shape[0]):\n",
    "        kernel = kernel_class(sigma_sq=2.)\n",
    "        mmd = metrics.MMD(kernel)\n",
    "\n",
    "        # contaminated data\n",
    "        val = mmd(X, Y)\n",
    "        mmd_contam_ls.append(val)\n",
    "\n",
    "        # outlier only\n",
    "        val_o = mmd(X, Y_o)\n",
    "        mmd_outlier_ls.append(val_o)\n",
    "\n",
    "    mmd_res[\"contam\"].append(mmd_contam_ls)\n",
    "    mmd_res[\"outlier_only\"].append(mmd_outlier_ls)\n"
   ]
  },
  {
   "cell_type": "code",
   "execution_count": 213,
   "id": "6ef6025e-72d0-49f9-8407-b33319e1ae6d",
   "metadata": {},
   "outputs": [
    {
     "data": {
      "image/png": "[encoded data removed]",
      "text/plain": [
       "<Figure size 300x300 with 1 Axes>"
      ]
     },
     "metadata": {},
     "output_type": "display_data"
    }
   ],
   "source": [
    "figs, axes = plt.subplots(nrows=1, ncols=1, figsize=(3, 3))\n",
    "\n",
    "ax = axes\n",
    "mmd_contam = [np.mean(mmd_res[\"contam\"]) for kk in keys]\n",
    "mmd_outlier = [np.mean(mmd_res[\"outlier_only\"]) for kk in keys]\n",
    "ax.scatter(outlier_ls, mmd_contam, label=\"contam\")\n",
    "ax.scatter(outlier_ls, mmd_outlier, label=\"dirac\")\n",
    "\n",
    "_ = ax.legend()"
   ]
  },
  {
   "cell_type": "markdown",
   "id": "3ce1e50e-dcbb-49b9-bba7-cbda3383e8fb",
   "metadata": {},
   "source": [
    "# KSD"
   ]
  },
  {
   "cell_type": "code",
   "execution_count": 2,
   "id": "818db652-157d-4595-a3ec-5cf4ee302064",
   "metadata": {},
   "outputs": [],
   "source": [
    "def ksd_experiment_single(kernel_class, Xs, score_fns, nboot=500, alpha=0.05):\n",
    "    res = {\n",
    "        \"deviation\": {\"val\": [], \"threshold\": [], \"rej\": []},\n",
    "        \"boot\": {\"val\": [], \"threshold\": [], \"pval\": [], \"rej\": [], \"boot_stat\": []},\n",
    "        \"robust\": {\"val\": [], \"threshold\": [], \"rej\": []},\n",
    "        \"relaxed\": {\"val\": [], \"threshold\": [], \"rej\": []},\n",
    "    }\n",
    "\n",
    "    for X, score_fn in tqdm(zip(Xs, score_fns), total=Xs.shape[0]):\n",
    "        kernel = kernel_class(sigma_sq=2.)\n",
    "        ksd = metrics.KSD(kernel, score_fn=score_fn)\n",
    "        val = ksd(X, X, vstat=\"vstat\")\n",
    "\n",
    "        # 1. bootstrap\n",
    "        bootstrap = boot.WildBootstrap(ksd, ndraws=nboot)\n",
    "        pval, boot_stat = bootstrap.pval(X, X, return_boot=True)\n",
    "\n",
    "        # save results\n",
    "        res[\"boot\"][\"val\"].append(val)\n",
    "        res[\"boot\"][\"pval\"].append(pval)\n",
    "        res[\"boot\"][\"rej\"].append(float(pval < alpha))\n",
    "        res[\"boot\"][\"boot_stat\"].append(boot_stat)\n",
    "\n",
    "        # # 2. Efron's bootstrap\n",
    "        # bootstrap = boot.EfronBootstrap(ksd, ndraws=nboot)\n",
    "        # pval, boot_stat = bootstrap.pval(X, return_boot=True)\n",
    "\n",
    "        # # save results\n",
    "        # res[\"boot\"][\"val\"].append(val)\n",
    "        # res[\"boot\"][\"pval\"].append(pval)\n",
    "        # res[\"boot\"][\"rej\"].append(float(pval < alpha))\n",
    "        # res[\"boot\"][\"boot_stat\"].append(boot_stat)\n",
    "\n",
    "    return res\n",
    "\n",
    "def ksd_experiment(kernel_class, Xs, score_fns, keys, nboot=500):\n",
    "    \"\"\"\n",
    "    Xs: [array(nrep, n, d), ...]\n",
    "    Ys: [array(nrep, n, d), ...]\n",
    "    \"\"\"\n",
    "    res = {}\n",
    "    for Xs_i, score_fn_i, kk in zip(Xs, score_fns, keys):\n",
    "        res[kk] = ksd_experiment_single(kernel_class, Xs_i, score_fn_i, nboot=nboot)\n",
    "\n",
    "    return res\n",
    "\n",
    "def prop_larger(t, ls):\n",
    "    return np.mean(np.array(ls) > t)"
   ]
  },
  {
   "cell_type": "code",
   "execution_count": 3,
   "id": "a240bbe7-165d-40b7-a949-9f14548e6db7",
   "metadata": {},
   "outputs": [],
   "source": [
    "np.random.seed(2024)"
   ]
  },
  {
   "cell_type": "code",
   "execution_count": 4,
   "id": "da195553-c5d7-4648-a217-7271b90fc612",
   "metadata": {},
   "outputs": [],
   "source": [
    "nrep = 10\n",
    "n = 1000\n",
    "dim = 1\n",
    "mean1 = np.zeros((dim,)) # data\n",
    "mean2 = np.zeros((dim,)) # model\n",
    "\n",
    "### Gaussian loc\n",
    "# Xs = np.random.multivariate_normal(mean1, np.eye(dim), (nrep, n))\n",
    "\n",
    "# score_fns = [lambda x: - (x - mean2) for _ in range(nrep)]\n",
    "\n",
    "# eps = 0.\n",
    "### Gaussian with outliers\n",
    "score_fns = [lambda x: - (x - mean2) for _ in range(nrep)]\n",
    "\n",
    "eps = 0.01\n",
    "outlier = 10.\n",
    "Xs = np.random.multivariate_normal(mean1, np.eye(dim), (nrep, n))\n",
    "n_outlier = max(1, int(n * eps))\n",
    "Xs[:, :n_outlier] = outlier\n",
    "###\n",
    "\n",
    "kernel_class = kernels.RBF"
   ]
  },
  {
   "cell_type": "code",
   "execution_count": 5,
   "id": "14e29c20-094c-4b82-9b6c-9115f7fd4c4b",
   "metadata": {},
   "outputs": [
    {
     "data": {
      "image/png": "[encoded data removed]",
      "text/plain": [
       "<Figure size 400x400 with 1 Axes>"
      ]
     },
     "metadata": {},
     "output_type": "display_data"
    }
   ],
   "source": [
    "fig, ax = plt.subplots(nrows=1, ncols=1, figsize=(4, 4))\n",
    "_ = ax.hist(Xs[0, :, 0], bins=50, label=\"X\", alpha=0.5, density=True)\n",
    "# _ = ax.hist(Ys[0, :, 0], bins=50, label=\"Y\", alpha=0.5, density=True)"
   ]
  },
  {
   "cell_type": "code",
   "execution_count": 6,
   "id": "2645101c-a8cd-4527-af1b-3d1b62fd07f4",
   "metadata": {
    "scrolled": true
   },
   "outputs": [
    {
     "data": {
      "application/vnd.jupyter.widget-view+json": {
       "model_id": "900b79ad705a45caa5d69d4cb5e5e921",
       "version_major": 2,
       "version_minor": 0
      },
      "text/plain": [
       "  0%|          | 0/10 [00:00<?, ?it/s]"
      ]
     },
     "metadata": {},
     "output_type": "display_data"
    },
    {
     "name": "stdout",
     "output_type": "stream",
     "text": [
      "one-sample\n"
     ]
    },
    {
     "name": "stderr",
     "output_type": "stream",
     "text": [
      "\n",
      "  0%|                                                                                                                                                                                                               | 0/1000 [00:00<?, ?it/s]\u001b[A\n",
      "  2%|██▉                                                                                                                                                                                                  | 15/1000 [00:00<00:06, 141.30it/s]\u001b[A\n",
      "  3%|█████▉                                                                                                                                                                                               | 30/1000 [00:00<00:07, 135.61it/s]\u001b[A\n",
      "  4%|████████▋                                                                                                                                                                                            | 44/1000 [00:00<00:07, 133.66it/s]\u001b[A\n",
      "  6%|███████████▍                                                                                                                                                                                         | 58/1000 [00:00<00:07, 132.88it/s]\u001b[A\n",
      "  7%|██████████████▏                                                                                                                                                                                      | 72/1000 [00:00<00:07, 132.37it/s]\u001b[A\n",
      "  9%|████████████████▉                                                                                                                                                                                    | 86/1000 [00:00<00:06, 131.82it/s]\u001b[A\n",
      " 10%|███████████████████▌                                                                                                                                                                                | 100/1000 [00:00<00:06, 132.00it/s]\u001b[A\n",
      " 11%|██████████████████████▎                                                                                                                                                                             | 114/1000 [00:00<00:06, 132.41it/s]\u001b[A\n",
      " 13%|█████████████████████████                                                                                                                                                                           | 128/1000 [00:00<00:06, 133.17it/s]\u001b[A\n",
      " 14%|███████████████████████████▊                                                                                                                                                                        | 142/1000 [00:01<00:06, 133.88it/s]\u001b[A\n",
      " 16%|██████████████████████████████▌                                                                                                                                                                     | 156/1000 [00:01<00:06, 133.90it/s]\u001b[A\n",
      " 17%|█████████████████████████████████▎                                                                                                                                                                  | 170/1000 [00:01<00:06, 133.27it/s]\u001b[A\n",
      " 18%|████████████████████████████████████                                                                                                                                                                | 184/1000 [00:01<00:06, 133.29it/s]\u001b[A\n",
      " 20%|██████████████████████████████████████▊                                                                                                                                                             | 198/1000 [00:01<00:06, 133.37it/s]\u001b[A\n",
      " 21%|█████████████████████████████████████████▌                                                                                                                                                          | 212/1000 [00:01<00:05, 133.46it/s]\u001b[A\n",
      " 23%|████████████████████████████████████████████▎                                                                                                                                                       | 226/1000 [00:01<00:05, 132.11it/s]\u001b[A\n",
      " 24%|███████████████████████████████████████████████                                                                                                                                                     | 240/1000 [00:01<00:05, 131.87it/s]\u001b[A\n",
      " 25%|█████████████████████████████████████████████████▊                                                                                                                                                  | 254/1000 [00:01<00:05, 132.33it/s]\u001b[A\n",
      " 27%|████████████████████████████████████████████████████▌                                                                                                                                               | 268/1000 [00:02<00:05, 132.78it/s]\u001b[A\n",
      " 28%|███████████████████████████████████████████████████████▎                                                                                                                                            | 282/1000 [00:02<00:05, 133.20it/s]\u001b[A\n",
      " 30%|██████████████████████████████████████████████████████████                                                                                                                                          | 296/1000 [00:02<00:05, 133.75it/s]\u001b[A\n",
      " 31%|████████████████████████████████████████████████████████████▊                                                                                                                                       | 310/1000 [00:02<00:05, 134.14it/s]\u001b[A\n",
      " 32%|███████████████████████████████████████████████████████████████▌                                                                                                                                    | 324/1000 [00:02<00:04, 135.30it/s]\u001b[A\n",
      " 34%|██████████████████████████████████████████████████████████████████▏                                                                                                                                 | 338/1000 [00:02<00:04, 135.20it/s]\u001b[A\n",
      " 35%|████████████████████████████████████████████████████████████████████▉                                                                                                                               | 352/1000 [00:02<00:04, 135.20it/s]\u001b[A\n",
      " 37%|███████████████████████████████████████████████████████████████████████▋                                                                                                                            | 366/1000 [00:02<00:04, 135.12it/s]\u001b[A\n",
      " 38%|██████████████████████████████████████████████████████████████████████████▍                                                                                                                         | 380/1000 [00:02<00:04, 135.25it/s]\u001b[A\n",
      " 39%|█████████████████████████████████████████████████████████████████████████████▏                                                                                                                      | 394/1000 [00:02<00:04, 135.06it/s]\u001b[A\n",
      " 41%|███████████████████████████████████████████████████████████████████████████████▉                                                                                                                    | 408/1000 [00:03<00:04, 135.19it/s]\u001b[A\n",
      " 42%|██████████████████████████████████████████████████████████████████████████████████▋                                                                                                                 | 422/1000 [00:03<00:04, 135.32it/s]\u001b[A\n",
      " 44%|█████████████████████████████████████████████████████████████████████████████████████▍                                                                                                              | 436/1000 [00:03<00:04, 135.28it/s]\u001b[A\n",
      " 45%|████████████████████████████████████████████████████████████████████████████████████████▏                                                                                                           | 450/1000 [00:03<00:04, 134.36it/s]\u001b[A\n",
      " 46%|██████████████████████████████████████████████████████████████████████████████████████████▉                                                                                                         | 464/1000 [00:03<00:03, 134.72it/s]\u001b[A\n",
      " 48%|█████████████████████████████████████████████████████████████████████████████████████████████▋                                                                                                      | 478/1000 [00:03<00:03, 135.21it/s]\u001b[A\n",
      " 49%|████████████████████████████████████████████████████████████████████████████████████████████████▍                                                                                                   | 492/1000 [00:03<00:03, 135.67it/s]\u001b[A\n",
      " 51%|███████████████████████████████████████████████████████████████████████████████████████████████████▏                                                                                                | 506/1000 [00:03<00:03, 136.00it/s]\u001b[A\n",
      " 52%|█████████████████████████████████████████████████████████████████████████████████████████████████████▉                                                                                              | 520/1000 [00:03<00:03, 136.26it/s]\u001b[A\n",
      " 53%|████████████████████████████████████████████████████████████████████████████████████████████████████████▋                                                                                           | 534/1000 [00:03<00:03, 136.43it/s]\u001b[A\n",
      " 55%|███████████████████████████████████████████████████████████████████████████████████████████████████████████▍                                                                                        | 548/1000 [00:04<00:03, 136.82it/s]\u001b[A\n",
      " 56%|██████████████████████████████████████████████████████████████████████████████████████████████████████████████▏                                                                                     | 562/1000 [00:04<00:03, 136.73it/s]\u001b[A\n",
      " 58%|████████████████████████████████████████████████████████████████████████████████████████████████████████████████▉                                                                                   | 576/1000 [00:04<00:03, 136.52it/s]\u001b[A\n",
      " 59%|███████████████████████████████████████████████████████████████████████████████████████████████████████████████████▋                                                                                | 590/1000 [00:04<00:02, 136.90it/s]\u001b[A\n",
      " 60%|██████████████████████████████████████████████████████████████████████████████████████████████████████████████████████▍                                                                             | 604/1000 [00:04<00:02, 137.61it/s]\u001b[A\n",
      " 62%|█████████████████████████████████████████████████████████████████████████████████████████████████████████████████████████▏                                                                          | 618/1000 [00:04<00:02, 137.62it/s]\u001b[A\n",
      " 63%|███████████████████████████████████████████████████████████████████████████████████████████████████████████████████████████▊                                                                        | 632/1000 [00:04<00:02, 138.25it/s]\u001b[A\n",
      " 65%|██████████████████████████████████████████████████████████████████████████████████████████████████████████████████████████████▌                                                                     | 646/1000 [00:04<00:02, 138.61it/s]\u001b[A\n",
      " 66%|█████████████████████████████████████████████████████████████████████████████████████████████████████████████████████████████████▎                                                                  | 660/1000 [00:04<00:02, 138.11it/s]\u001b[A\n",
      " 68%|████████████████████████████████████████████████████████████████████████████████████████████████████████████████████████████████████▎                                                               | 675/1000 [00:04<00:02, 138.85it/s]\u001b[A\n",
      " 69%|███████████████████████████████████████████████████████████████████████████████████████████████████████████████████████████████████████▏                                                            | 690/1000 [00:05<00:02, 139.56it/s]\u001b[A\n",
      " 70%|█████████████████████████████████████████████████████████████████████████████████████████████████████████████████████████████████████████▉                                                          | 704/1000 [00:05<00:02, 139.54it/s]\u001b[A\n",
      " 72%|████████████████████████████████████████████████████████████████████████████████████████████████████████████████████████████████████████████▉                                                       | 719/1000 [00:05<00:02, 139.96it/s]\u001b[A\n",
      " 73%|███████████████████████████████████████████████████████████████████████████████████████████████████████████████████████████████████████████████▊                                                    | 734/1000 [00:05<00:01, 139.97it/s]\u001b[A\n",
      " 75%|██████████████████████████████████████████████████████████████████████████████████████████████████████████████████████████████████████████████████▊                                                 | 749/1000 [00:05<00:01, 140.14it/s]\u001b[A\n",
      " 76%|█████████████████████████████████████████████████████████████████████████████████████████████████████████████████████████████████████████████████████▋                                              | 764/1000 [00:05<00:01, 139.52it/s]\u001b[A\n",
      " 78%|████████████████████████████████████████████████████████████████████████████████████████████████████████████████████████████████████████████████████████▍                                           | 778/1000 [00:05<00:01, 139.18it/s]\u001b[A\n",
      " 79%|███████████████████████████████████████████████████████████████████████████████████████████████████████████████████████████████████████████████████████████▏                                        | 792/1000 [00:05<00:01, 138.93it/s]\u001b[A\n",
      " 81%|█████████████████████████████████████████████████████████████████████████████████████████████████████████████████████████████████████████████████████████████▉                                      | 806/1000 [00:05<00:01, 138.70it/s]\u001b[A\n",
      " 82%|████████████████████████████████████████████████████████████████████████████████████████████████████████████████████████████████████████████████████████████████▋                                   | 820/1000 [00:06<00:01, 138.14it/s]\u001b[A\n",
      " 83%|███████████████████████████████████████████████████████████████████████████████████████████████████████████████████████████████████████████████████████████████████▍                                | 834/1000 [00:06<00:01, 138.26it/s]\u001b[A\n",
      " 85%|██████████████████████████████████████████████████████████████████████████████████████████████████████████████████████████████████████████████████████████████████████▏                             | 848/1000 [00:06<00:01, 138.03it/s]\u001b[A\n",
      " 86%|████████████████████████████████████████████████████████████████████████████████████████████████████████████████████████████████████████████████████████████████████████▉                           | 862/1000 [00:06<00:01, 137.98it/s]\u001b[A\n",
      " 88%|███████████████████████████████████████████████████████████████████████████████████████████████████████████████████████████████████████████████████████████████████████████▋                        | 876/1000 [00:06<00:00, 137.77it/s]\u001b[A\n",
      " 89%|██████████████████████████████████████████████████████████████████████████████████████████████████████████████████████████████████████████████████████████████████████████████▍                     | 890/1000 [00:06<00:00, 136.52it/s]\u001b[A\n",
      " 90%|█████████████████████████████████████████████████████████████████████████████████████████████████████████████████████████████████████████████████████████████████████████████████▏                  | 904/1000 [00:06<00:00, 136.74it/s]\u001b[A\n",
      " 92%|███████████████████████████████████████████████████████████████████████████████████████████████████████████████████████████████████████████████████████████████████████████████████▉                | 918/1000 [00:06<00:00, 137.16it/s]\u001b[A\n",
      " 93%|██████████████████████████████████████████████████████████████████████████████████████████████████████████████████████████████████████████████████████████████████████████████████████▋             | 932/1000 [00:06<00:00, 137.36it/s]\u001b[A\n",
      " 95%|█████████████████████████████████████████████████████████████████████████████████████████████████████████████████████████████████████████████████████████████████████████████████████████▍          | 946/1000 [00:06<00:00, 137.61it/s]\u001b[A\n",
      " 96%|████████████████████████████████████████████████████████████████████████████████████████████████████████████████████████████████████████████████████████████████████████████████████████████▏       | 960/1000 [00:07<00:00, 137.78it/s]\u001b[A\n",
      " 97%|██████████████████████████████████████████████████████████████████████████████████████████████████████████████████████████████████████████████████████████████████████████████████████████████▉     | 974/1000 [00:07<00:00, 137.67it/s]\u001b[A\n",
      "100%|███████████████████████████████████████████████████████████████████████████████████████████████████████████████████████████████████████████████████████████████████████████████████████████████████| 1000/1000 [00:07<00:00, 136.09it/s]\u001b[A\n"
     ]
    },
    {
     "name": "stdout",
     "output_type": "stream",
     "text": [
      "one-sample\n"
     ]
    },
    {
     "name": "stderr",
     "output_type": "stream",
     "text": [
      "\n",
      "  0%|                                                                                                                                                                                                               | 0/1000 [00:00<?, ?it/s]\u001b[A\n",
      "  2%|██▉                                                                                                                                                                                                  | 15/1000 [00:00<00:07, 140.55it/s]\u001b[A\n",
      "  3%|█████▉                                                                                                                                                                                               | 30/1000 [00:00<00:07, 136.23it/s]\u001b[A\n",
      "  4%|████████▋                                                                                                                                                                                            | 44/1000 [00:00<00:07, 134.66it/s]\u001b[A\n",
      "  6%|███████████▍                                                                                                                                                                                         | 58/1000 [00:00<00:07, 133.96it/s]\u001b[A\n",
      "  7%|██████████████▏                                                                                                                                                                                      | 72/1000 [00:00<00:06, 133.27it/s]\u001b[A\n",
      "  9%|████████████████▉                                                                                                                                                                                    | 86/1000 [00:00<00:06, 132.37it/s]\u001b[A\n",
      " 10%|███████████████████▌                                                                                                                                                                                | 100/1000 [00:00<00:06, 132.09it/s]\u001b[A\n",
      " 11%|██████████████████████▎                                                                                                                                                                             | 114/1000 [00:00<00:06, 131.98it/s]\u001b[A\n",
      " 13%|█████████████████████████                                                                                                                                                                           | 128/1000 [00:00<00:06, 132.33it/s]\u001b[A\n",
      " 14%|███████████████████████████▊                                                                                                                                                                        | 142/1000 [00:01<00:06, 132.87it/s]\u001b[A\n",
      " 16%|██████████████████████████████▌                                                                                                                                                                     | 156/1000 [00:01<00:06, 133.59it/s]\u001b[A\n",
      " 17%|█████████████████████████████████▎                                                                                                                                                                  | 170/1000 [00:01<00:06, 134.01it/s]\u001b[A\n",
      " 18%|████████████████████████████████████                                                                                                                                                                | 184/1000 [00:01<00:06, 134.48it/s]\u001b[A\n",
      " 20%|██████████████████████████████████████▊                                                                                                                                                             | 198/1000 [00:01<00:05, 134.96it/s]\u001b[A\n",
      " 21%|█████████████████████████████████████████▌                                                                                                                                                          | 212/1000 [00:01<00:05, 135.21it/s]\u001b[A\n",
      " 23%|████████████████████████████████████████████▎                                                                                                                                                       | 226/1000 [00:01<00:05, 134.67it/s]\u001b[A\n",
      " 24%|███████████████████████████████████████████████                                                                                                                                                     | 240/1000 [00:01<00:05, 134.24it/s]\u001b[A\n",
      " 25%|█████████████████████████████████████████████████▊                                                                                                                                                  | 254/1000 [00:01<00:05, 135.11it/s]\u001b[A\n",
      " 27%|████████████████████████████████████████████████████▌                                                                                                                                               | 268/1000 [00:01<00:05, 135.92it/s]\u001b[A\n",
      " 28%|███████████████████████████████████████████████████████▎                                                                                                                                            | 282/1000 [00:02<00:05, 136.42it/s]\u001b[A\n",
      " 30%|██████████████████████████████████████████████████████████                                                                                                                                          | 296/1000 [00:02<00:05, 136.65it/s]\u001b[A\n",
      " 31%|████████████████████████████████████████████████████████████▊                                                                                                                                       | 310/1000 [00:02<00:05, 135.96it/s]\u001b[A\n",
      " 32%|███████████████████████████████████████████████████████████████▌                                                                                                                                    | 324/1000 [00:02<00:04, 135.64it/s]\u001b[A\n",
      " 34%|██████████████████████████████████████████████████████████████████▏                                                                                                                                 | 338/1000 [00:02<00:04, 135.52it/s]\u001b[A\n",
      " 35%|████████████████████████████████████████████████████████████████████▉                                                                                                                               | 352/1000 [00:02<00:04, 135.44it/s]\u001b[A\n",
      " 37%|███████████████████████████████████████████████████████████████████████▋                                                                                                                            | 366/1000 [00:02<00:04, 135.32it/s]\u001b[A\n",
      " 38%|██████████████████████████████████████████████████████████████████████████▍                                                                                                                         | 380/1000 [00:02<00:04, 135.14it/s]\u001b[A\n",
      " 39%|█████████████████████████████████████████████████████████████████████████████▏                                                                                                                      | 394/1000 [00:02<00:04, 134.69it/s]\u001b[A\n",
      " 41%|███████████████████████████████████████████████████████████████████████████████▉                                                                                                                    | 408/1000 [00:03<00:04, 134.65it/s]\u001b[A\n",
      " 42%|██████████████████████████████████████████████████████████████████████████████████▋                                                                                                                 | 422/1000 [00:03<00:04, 134.49it/s]\u001b[A\n",
      " 44%|█████████████████████████████████████████████████████████████████████████████████████▍                                                                                                              | 436/1000 [00:03<00:04, 134.26it/s]\u001b[A\n",
      " 45%|████████████████████████████████████████████████████████████████████████████████████████▏                                                                                                           | 450/1000 [00:03<00:04, 134.49it/s]\u001b[A\n",
      " 46%|██████████████████████████████████████████████████████████████████████████████████████████▉                                                                                                         | 464/1000 [00:03<00:03, 134.52it/s]\u001b[A\n",
      " 48%|█████████████████████████████████████████████████████████████████████████████████████████████▋                                                                                                      | 478/1000 [00:03<00:03, 135.08it/s]\u001b[A\n",
      " 49%|████████████████████████████████████████████████████████████████████████████████████████████████▍                                                                                                   | 492/1000 [00:03<00:03, 134.35it/s]\u001b[A\n",
      " 51%|███████████████████████████████████████████████████████████████████████████████████████████████████▏                                                                                                | 506/1000 [00:03<00:03, 134.40it/s]\u001b[A\n",
      " 52%|█████████████████████████████████████████████████████████████████████████████████████████████████████▉                                                                                              | 520/1000 [00:03<00:03, 134.54it/s]\u001b[A\n",
      " 53%|████████████████████████████████████████████████████████████████████████████████████████████████████████▋                                                                                           | 534/1000 [00:03<00:03, 134.63it/s]\u001b[A\n",
      " 55%|███████████████████████████████████████████████████████████████████████████████████████████████████████████▍                                                                                        | 548/1000 [00:04<00:03, 135.17it/s]\u001b[A\n",
      " 56%|██████████████████████████████████████████████████████████████████████████████████████████████████████████████▏                                                                                     | 562/1000 [00:04<00:03, 135.71it/s]\u001b[A\n",
      " 58%|████████████████████████████████████████████████████████████████████████████████████████████████████████████████▉                                                                                   | 576/1000 [00:04<00:03, 136.08it/s]\u001b[A\n",
      " 59%|███████████████████████████████████████████████████████████████████████████████████████████████████████████████████▋                                                                                | 590/1000 [00:04<00:03, 136.41it/s]\u001b[A\n",
      " 60%|██████████████████████████████████████████████████████████████████████████████████████████████████████████████████████▍                                                                             | 604/1000 [00:04<00:02, 137.05it/s]\u001b[A\n",
      " 62%|█████████████████████████████████████████████████████████████████████████████████████████████████████████████████████████▏                                                                          | 618/1000 [00:04<00:02, 137.28it/s]\u001b[A\n",
      " 63%|███████████████████████████████████████████████████████████████████████████████████████████████████████████████████████████▊                                                                        | 632/1000 [00:04<00:02, 137.56it/s]\u001b[A\n",
      " 65%|██████████████████████████████████████████████████████████████████████████████████████████████████████████████████████████████▌                                                                     | 646/1000 [00:04<00:02, 137.87it/s]\u001b[A\n",
      " 66%|█████████████████████████████████████████████████████████████████████████████████████████████████████████████████████████████████▎                                                                  | 660/1000 [00:04<00:02, 138.12it/s]\u001b[A\n",
      " 67%|████████████████████████████████████████████████████████████████████████████████████████████████████████████████████████████████████                                                                | 674/1000 [00:04<00:02, 138.42it/s]\u001b[A\n",
      " 69%|██████████████████████████████████████████████████████████████████████████████████████████████████████████████████████████████████████▊                                                             | 688/1000 [00:05<00:02, 138.66it/s]\u001b[A\n",
      " 70%|█████████████████████████████████████████████████████████████████████████████████████████████████████████████████████████████████████████▌                                                          | 702/1000 [00:05<00:02, 138.95it/s]\u001b[A\n",
      " 72%|████████████████████████████████████████████████████████████████████████████████████████████████████████████████████████████████████████████▎                                                       | 716/1000 [00:05<00:02, 139.00it/s]\u001b[A\n",
      " 73%|███████████████████████████████████████████████████████████████████████████████████████████████████████████████████████████████████████████████                                                     | 730/1000 [00:05<00:01, 139.23it/s]\u001b[A\n",
      " 74%|█████████████████████████████████████████████████████████████████████████████████████████████████████████████████████████████████████████████████▊                                                  | 744/1000 [00:05<00:01, 139.15it/s]\u001b[A\n",
      " 76%|████████████████████████████████████████████████████████████████████████████████████████████████████████████████████████████████████████████████████▌                                               | 758/1000 [00:05<00:01, 138.06it/s]\u001b[A\n",
      " 77%|███████████████████████████████████████████████████████████████████████████████████████████████████████████████████████████████████████████████████████▌                                            | 773/1000 [00:05<00:01, 138.82it/s]\u001b[A\n",
      " 79%|██████████████████████████████████████████████████████████████████████████████████████████████████████████████████████████████████████████████████████████▎                                         | 787/1000 [00:05<00:01, 139.14it/s]\u001b[A\n",
      " 80%|█████████████████████████████████████████████████████████████████████████████████████████████████████████████████████████████████████████████████████████████▏                                      | 802/1000 [00:05<00:01, 139.37it/s]\u001b[A\n",
      " 82%|████████████████████████████████████████████████████████████████████████████████████████████████████████████████████████████████████████████████████████████████▏                                   | 817/1000 [00:06<00:01, 139.78it/s]\u001b[A\n",
      " 83%|██████████████████████████████████████████████████████████████████████████████████████████████████████████████████████████████████████████████████████████████████▉                                 | 831/1000 [00:06<00:01, 139.53it/s]\u001b[A\n",
      " 84%|█████████████████████████████████████████████████████████████████████████████████████████████████████████████████████████████████████████████████████████████████████▌                              | 845/1000 [00:06<00:01, 139.59it/s]\u001b[A\n",
      " 86%|████████████████████████████████████████████████████████████████████████████████████████████████████████████████████████████████████████████████████████████████████████▌                           | 860/1000 [00:06<00:00, 140.14it/s]\u001b[A\n",
      " 88%|███████████████████████████████████████████████████████████████████████████████████████████████████████████████████████████████████████████████████████████████████████████▌                        | 875/1000 [00:06<00:00, 140.43it/s]\u001b[A\n",
      " 89%|██████████████████████████████████████████████████████████████████████████████████████████████████████████████████████████████████████████████████████████████████████████████▍                     | 890/1000 [00:06<00:00, 140.45it/s]\u001b[A\n",
      " 90%|█████████████████████████████████████████████████████████████████████████████████████████████████████████████████████████████████████████████████████████████████████████████████▍                  | 905/1000 [00:06<00:00, 140.26it/s]\u001b[A\n",
      " 92%|████████████████████████████████████████████████████████████████████████████████████████████████████████████████████████████████████████████████████████████████████████████████████▎               | 920/1000 [00:06<00:00, 139.97it/s]\u001b[A\n",
      " 93%|███████████████████████████████████████████████████████████████████████████████████████████████████████████████████████████████████████████████████████████████████████████████████████             | 934/1000 [00:06<00:00, 139.83it/s]\u001b[A\n",
      " 95%|██████████████████████████████████████████████████████████████████████████████████████████████████████████████████████████████████████████████████████████████████████████████████████████          | 949/1000 [00:06<00:00, 140.31it/s]\u001b[A\n",
      " 96%|████████████████████████████████████████████████████████████████████████████████████████████████████████████████████████████████████████████████████████████████████████████████████████████▉       | 964/1000 [00:07<00:00, 140.47it/s]\u001b[A\n",
      " 98%|███████████████████████████████████████████████████████████████████████████████████████████████████████████████████████████████████████████████████████████████████████████████████████████████▉    | 979/1000 [00:07<00:00, 140.67it/s]\u001b[A\n",
      "100%|███████████████████████████████████████████████████████████████████████████████████████████████████████████████████████████████████████████████████████████████████████████████████████████████████| 1000/1000 [00:07<00:00, 136.70it/s]\u001b[A\n"
     ]
    },
    {
     "name": "stdout",
     "output_type": "stream",
     "text": [
      "one-sample\n"
     ]
    },
    {
     "name": "stderr",
     "output_type": "stream",
     "text": [
      "\n",
      "  0%|                                                                                                                                                                                                               | 0/1000 [00:00<?, ?it/s]\u001b[A\n",
      "  2%|██▉                                                                                                                                                                                                  | 15/1000 [00:00<00:06, 140.94it/s]\u001b[A\n",
      "  3%|█████▉                                                                                                                                                                                               | 30/1000 [00:00<00:07, 136.12it/s]\u001b[A\n",
      "  4%|████████▋                                                                                                                                                                                            | 44/1000 [00:00<00:07, 135.16it/s]\u001b[A\n",
      "  6%|███████████▍                                                                                                                                                                                         | 58/1000 [00:00<00:07, 134.09it/s]\u001b[A\n",
      "  7%|██████████████▏                                                                                                                                                                                      | 72/1000 [00:00<00:06, 133.48it/s]\u001b[A\n",
      "  9%|████████████████▉                                                                                                                                                                                    | 86/1000 [00:00<00:06, 132.79it/s]\u001b[A\n",
      " 10%|███████████████████▌                                                                                                                                                                                | 100/1000 [00:00<00:06, 132.54it/s]\u001b[A\n",
      " 11%|██████████████████████▎                                                                                                                                                                             | 114/1000 [00:00<00:06, 132.41it/s]\u001b[A\n",
      " 13%|█████████████████████████                                                                                                                                                                           | 128/1000 [00:00<00:06, 132.45it/s]\u001b[A\n",
      " 14%|███████████████████████████▊                                                                                                                                                                        | 142/1000 [00:01<00:06, 131.84it/s]\u001b[A\n",
      " 16%|██████████████████████████████▌                                                                                                                                                                     | 156/1000 [00:01<00:06, 131.62it/s]\u001b[A\n",
      " 17%|█████████████████████████████████▎                                                                                                                                                                  | 170/1000 [00:01<00:06, 131.66it/s]\u001b[A\n",
      " 18%|████████████████████████████████████                                                                                                                                                                | 184/1000 [00:01<00:06, 131.95it/s]\u001b[A\n",
      " 20%|██████████████████████████████████████▊                                                                                                                                                             | 198/1000 [00:01<00:06, 132.26it/s]\u001b[A\n",
      " 21%|█████████████████████████████████████████▌                                                                                                                                                          | 212/1000 [00:01<00:05, 132.25it/s]\u001b[A\n",
      " 23%|████████████████████████████████████████████▎                                                                                                                                                       | 226/1000 [00:01<00:05, 132.26it/s]\u001b[A\n",
      " 24%|███████████████████████████████████████████████                                                                                                                                                     | 240/1000 [00:01<00:05, 131.98it/s]\u001b[A\n",
      " 25%|█████████████████████████████████████████████████▊                                                                                                                                                  | 254/1000 [00:01<00:05, 132.65it/s]\u001b[A\n",
      " 27%|████████████████████████████████████████████████████▌                                                                                                                                               | 268/1000 [00:02<00:05, 133.31it/s]\u001b[A\n",
      " 28%|███████████████████████████████████████████████████████▎                                                                                                                                            | 282/1000 [00:02<00:05, 133.65it/s]\u001b[A\n",
      " 30%|██████████████████████████████████████████████████████████                                                                                                                                          | 296/1000 [00:02<00:05, 134.12it/s]\u001b[A\n",
      " 31%|████████████████████████████████████████████████████████████▊                                                                                                                                       | 310/1000 [00:02<00:05, 134.20it/s]\u001b[A\n",
      " 32%|███████████████████████████████████████████████████████████████▌                                                                                                                                    | 324/1000 [00:02<00:05, 134.41it/s]\u001b[A\n",
      " 34%|██████████████████████████████████████████████████████████████████▏                                                                                                                                 | 338/1000 [00:02<00:04, 134.65it/s]\u001b[A\n",
      " 35%|████████████████████████████████████████████████████████████████████▉                                                                                                                               | 352/1000 [00:02<00:04, 134.89it/s]\u001b[A\n",
      " 37%|███████████████████████████████████████████████████████████████████████▋                                                                                                                            | 366/1000 [00:02<00:04, 135.11it/s]\u001b[A\n",
      " 38%|██████████████████████████████████████████████████████████████████████████▍                                                                                                                         | 380/1000 [00:02<00:04, 135.57it/s]\u001b[A\n",
      " 39%|█████████████████████████████████████████████████████████████████████████████▏                                                                                                                      | 394/1000 [00:02<00:04, 135.77it/s]\u001b[A\n",
      " 41%|███████████████████████████████████████████████████████████████████████████████▉                                                                                                                    | 408/1000 [00:03<00:04, 136.27it/s]\u001b[A\n",
      " 42%|██████████████████████████████████████████████████████████████████████████████████▋                                                                                                                 | 422/1000 [00:03<00:04, 136.67it/s]\u001b[A\n",
      " 44%|█████████████████████████████████████████████████████████████████████████████████████▍                                                                                                              | 436/1000 [00:03<00:04, 136.82it/s]\u001b[A\n",
      " 45%|████████████████████████████████████████████████████████████████████████████████████████▏                                                                                                           | 450/1000 [00:03<00:04, 136.12it/s]\u001b[A\n",
      " 46%|██████████████████████████████████████████████████████████████████████████████████████████▉                                                                                                         | 464/1000 [00:03<00:03, 136.12it/s]\u001b[A\n",
      " 48%|█████████████████████████████████████████████████████████████████████████████████████████████▋                                                                                                      | 478/1000 [00:03<00:03, 136.52it/s]\u001b[A\n",
      " 49%|████████████████████████████████████████████████████████████████████████████████████████████████▍                                                                                                   | 492/1000 [00:03<00:03, 136.70it/s]\u001b[A\n",
      " 51%|███████████████████████████████████████████████████████████████████████████████████████████████████▏                                                                                                | 506/1000 [00:03<00:03, 136.69it/s]\u001b[A\n",
      " 52%|█████████████████████████████████████████████████████████████████████████████████████████████████████▉                                                                                              | 520/1000 [00:03<00:03, 136.69it/s]\u001b[A\n",
      " 53%|████████████████████████████████████████████████████████████████████████████████████████████████████████▋                                                                                           | 534/1000 [00:03<00:03, 136.47it/s]\u001b[A\n",
      " 55%|███████████████████████████████████████████████████████████████████████████████████████████████████████████▍                                                                                        | 548/1000 [00:04<00:03, 136.62it/s]\u001b[A\n",
      " 56%|██████████████████████████████████████████████████████████████████████████████████████████████████████████████▏                                                                                     | 562/1000 [00:04<00:03, 136.75it/s]\u001b[A\n",
      " 58%|████████████████████████████████████████████████████████████████████████████████████████████████████████████████▉                                                                                   | 576/1000 [00:04<00:03, 136.85it/s]\u001b[A\n",
      " 59%|███████████████████████████████████████████████████████████████████████████████████████████████████████████████████▋                                                                                | 590/1000 [00:04<00:02, 137.09it/s]\u001b[A\n",
      " 60%|██████████████████████████████████████████████████████████████████████████████████████████████████████████████████████▍                                                                             | 604/1000 [00:04<00:02, 137.10it/s]\u001b[A\n",
      " 62%|█████████████████████████████████████████████████████████████████████████████████████████████████████████████████████████▏                                                                          | 618/1000 [00:04<00:02, 137.10it/s]\u001b[A\n",
      " 63%|███████████████████████████████████████████████████████████████████████████████████████████████████████████████████████████▊                                                                        | 632/1000 [00:04<00:02, 137.46it/s]\u001b[A\n",
      " 65%|██████████████████████████████████████████████████████████████████████████████████████████████████████████████████████████████▌                                                                     | 646/1000 [00:04<00:02, 137.60it/s]\u001b[A\n",
      " 66%|█████████████████████████████████████████████████████████████████████████████████████████████████████████████████████████████████▎                                                                  | 660/1000 [00:04<00:02, 137.79it/s]\u001b[A\n",
      " 67%|████████████████████████████████████████████████████████████████████████████████████████████████████████████████████████████████████                                                                | 674/1000 [00:04<00:02, 137.95it/s]\u001b[A\n",
      " 69%|██████████████████████████████████████████████████████████████████████████████████████████████████████████████████████████████████████▊                                                             | 688/1000 [00:05<00:02, 137.90it/s]\u001b[A\n",
      " 70%|█████████████████████████████████████████████████████████████████████████████████████████████████████████████████████████████████████████▌                                                          | 702/1000 [00:05<00:02, 138.21it/s]\u001b[A\n",
      " 72%|████████████████████████████████████████████████████████████████████████████████████████████████████████████████████████████████████████████▎                                                       | 716/1000 [00:05<00:02, 138.19it/s]\u001b[A\n",
      " 73%|███████████████████████████████████████████████████████████████████████████████████████████████████████████████████████████████████████████████                                                     | 730/1000 [00:05<00:01, 138.09it/s]\u001b[A\n",
      " 74%|█████████████████████████████████████████████████████████████████████████████████████████████████████████████████████████████████████████████████▊                                                  | 744/1000 [00:05<00:01, 137.96it/s]\u001b[A\n",
      " 76%|████████████████████████████████████████████████████████████████████████████████████████████████████████████████████████████████████████████████████▌                                               | 758/1000 [00:05<00:01, 137.96it/s]\u001b[A\n",
      " 77%|███████████████████████████████████████████████████████████████████████████████████████████████████████████████████████████████████████████████████████▎                                            | 772/1000 [00:05<00:01, 137.38it/s]\u001b[A\n",
      " 79%|██████████████████████████████████████████████████████████████████████████████████████████████████████████████████████████████████████████████████████████                                          | 786/1000 [00:05<00:01, 137.92it/s]\u001b[A\n",
      " 80%|████████████████████████████████████████████████████████████████████████████████████████████████████████████████████████████████████████████████████████████▊                                       | 800/1000 [00:05<00:01, 138.51it/s]\u001b[A\n",
      " 82%|███████████████████████████████████████████████████████████████████████████████████████████████████████████████████████████████████████████████████████████████▋                                    | 815/1000 [00:06<00:01, 138.88it/s]\u001b[A\n",
      " 83%|██████████████████████████████████████████████████████████████████████████████████████████████████████████████████████████████████████████████████████████████████▍                                 | 829/1000 [00:06<00:01, 138.96it/s]\u001b[A\n",
      " 84%|█████████████████████████████████████████████████████████████████████████████████████████████████████████████████████████████████████████████████████████████████████▍                              | 844/1000 [00:06<00:01, 139.41it/s]\u001b[A\n",
      " 86%|████████████████████████████████████████████████████████████████████████████████████████████████████████████████████████████████████████████████████████████████████████▏                           | 858/1000 [00:06<00:01, 139.29it/s]\u001b[A\n",
      " 87%|██████████████████████████████████████████████████████████████████████████████████████████████████████████████████████████████████████████████████████████████████████████▉                         | 872/1000 [00:06<00:00, 139.49it/s]\u001b[A\n",
      " 89%|█████████████████████████████████████████████████████████████████████████████████████████████████████████████████████████████████████████████████████████████████████████████▋                      | 886/1000 [00:06<00:00, 139.45it/s]\u001b[A\n",
      " 90%|████████████████████████████████████████████████████████████████████████████████████████████████████████████████████████████████████████████████████████████████████████████████▍                   | 900/1000 [00:06<00:00, 138.87it/s]\u001b[A\n",
      " 91%|███████████████████████████████████████████████████████████████████████████████████████████████████████████████████████████████████████████████████████████████████████████████████▏                | 914/1000 [00:06<00:00, 137.41it/s]\u001b[A\n",
      " 93%|█████████████████████████████████████████████████████████████████████████████████████████████████████████████████████████████████████████████████████████████████████████████████████▉              | 928/1000 [00:06<00:00, 136.54it/s]\u001b[A\n",
      " 94%|████████████████████████████████████████████████████████████████████████████████████████████████████████████████████████████████████████████████████████████████████████████████████████▋           | 942/1000 [00:06<00:00, 136.55it/s]\u001b[A\n",
      " 96%|███████████████████████████████████████████████████████████████████████████████████████████████████████████████████████████████████████████████████████████████████████████████████████████▍        | 956/1000 [00:07<00:00, 136.59it/s]\u001b[A\n",
      " 97%|██████████████████████████████████████████████████████████████████████████████████████████████████████████████████████████████████████████████████████████████████████████████████████████████      | 970/1000 [00:07<00:00, 137.00it/s]\u001b[A\n",
      " 98%|████████████████████████████████████████████████████████████████████████████████████████████████████████████████████████████████████████████████████████████████████████████████████████████████▊   | 984/1000 [00:07<00:00, 137.38it/s]\u001b[A\n",
      "100%|███████████████████████████████████████████████████████████████████████████████████████████████████████████████████████████████████████████████████████████████████████████████████████████████████| 1000/1000 [00:07<00:00, 135.97it/s]\u001b[A\n"
     ]
    },
    {
     "name": "stdout",
     "output_type": "stream",
     "text": [
      "one-sample\n"
     ]
    },
    {
     "name": "stderr",
     "output_type": "stream",
     "text": [
      "\n",
      "  0%|                                                                                                                                                                                                               | 0/1000 [00:00<?, ?it/s]\u001b[A\n",
      "  2%|██▉                                                                                                                                                                                                  | 15/1000 [00:00<00:06, 142.37it/s]\u001b[A\n",
      "  3%|█████▉                                                                                                                                                                                               | 30/1000 [00:00<00:07, 135.58it/s]\u001b[A\n",
      "  4%|████████▋                                                                                                                                                                                            | 44/1000 [00:00<00:07, 135.22it/s]\u001b[A\n",
      "  6%|███████████▍                                                                                                                                                                                         | 58/1000 [00:00<00:06, 135.50it/s]\u001b[A\n",
      "  7%|██████████████▏                                                                                                                                                                                      | 72/1000 [00:00<00:06, 135.89it/s]\u001b[A\n",
      "  9%|████████████████▉                                                                                                                                                                                    | 86/1000 [00:00<00:06, 135.34it/s]\u001b[A\n",
      " 10%|███████████████████▌                                                                                                                                                                                | 100/1000 [00:00<00:06, 135.22it/s]\u001b[A\n",
      " 11%|██████████████████████▎                                                                                                                                                                             | 114/1000 [00:00<00:06, 134.53it/s]\u001b[A\n",
      " 13%|█████████████████████████                                                                                                                                                                           | 128/1000 [00:00<00:06, 134.03it/s]\u001b[A\n",
      " 14%|███████████████████████████▊                                                                                                                                                                        | 142/1000 [00:01<00:06, 133.74it/s]\u001b[A\n",
      " 16%|██████████████████████████████▌                                                                                                                                                                     | 156/1000 [00:01<00:06, 133.79it/s]\u001b[A\n",
      " 17%|█████████████████████████████████▎                                                                                                                                                                  | 170/1000 [00:01<00:06, 133.50it/s]\u001b[A\n",
      " 18%|████████████████████████████████████                                                                                                                                                                | 184/1000 [00:01<00:06, 133.35it/s]\u001b[A\n",
      " 20%|██████████████████████████████████████▊                                                                                                                                                             | 198/1000 [00:01<00:06, 133.26it/s]\u001b[A\n",
      " 21%|█████████████████████████████████████████▌                                                                                                                                                          | 212/1000 [00:01<00:05, 133.06it/s]\u001b[A\n",
      " 23%|████████████████████████████████████████████▎                                                                                                                                                       | 226/1000 [00:01<00:05, 133.22it/s]\u001b[A\n",
      " 24%|███████████████████████████████████████████████                                                                                                                                                     | 240/1000 [00:01<00:05, 133.13it/s]\u001b[A\n",
      " 25%|█████████████████████████████████████████████████▊                                                                                                                                                  | 254/1000 [00:01<00:05, 133.49it/s]\u001b[A\n",
      " 27%|████████████████████████████████████████████████████▌                                                                                                                                               | 268/1000 [00:01<00:05, 134.62it/s]\u001b[A\n",
      " 28%|███████████████████████████████████████████████████████▎                                                                                                                                            | 282/1000 [00:02<00:05, 135.47it/s]\u001b[A\n",
      " 30%|██████████████████████████████████████████████████████████                                                                                                                                          | 296/1000 [00:02<00:05, 136.30it/s]\u001b[A\n",
      " 31%|████████████████████████████████████████████████████████████▊                                                                                                                                       | 310/1000 [00:02<00:05, 136.80it/s]\u001b[A\n",
      " 32%|███████████████████████████████████████████████████████████████▌                                                                                                                                    | 324/1000 [00:02<00:04, 137.43it/s]\u001b[A\n",
      " 34%|██████████████████████████████████████████████████████████████████▏                                                                                                                                 | 338/1000 [00:02<00:04, 137.94it/s]\u001b[A\n",
      " 35%|████████████████████████████████████████████████████████████████████▉                                                                                                                               | 352/1000 [00:02<00:04, 138.20it/s]\u001b[A\n",
      " 37%|███████████████████████████████████████████████████████████████████████▋                                                                                                                            | 366/1000 [00:02<00:04, 138.41it/s]\u001b[A\n",
      " 38%|██████████████████████████████████████████████████████████████████████████▍                                                                                                                         | 380/1000 [00:02<00:04, 137.95it/s]\u001b[A\n",
      " 39%|█████████████████████████████████████████████████████████████████████████████▏                                                                                                                      | 394/1000 [00:02<00:04, 136.55it/s]\u001b[A\n",
      " 41%|███████████████████████████████████████████████████████████████████████████████▉                                                                                                                    | 408/1000 [00:03<00:04, 135.11it/s]\u001b[A\n",
      " 42%|██████████████████████████████████████████████████████████████████████████████████▋                                                                                                                 | 422/1000 [00:03<00:04, 135.13it/s]\u001b[A\n",
      " 44%|█████████████████████████████████████████████████████████████████████████████████████▍                                                                                                              | 436/1000 [00:03<00:04, 135.26it/s]\u001b[A\n",
      " 45%|████████████████████████████████████████████████████████████████████████████████████████▏                                                                                                           | 450/1000 [00:03<00:04, 135.46it/s]\u001b[A\n",
      " 46%|██████████████████████████████████████████████████████████████████████████████████████████▉                                                                                                         | 464/1000 [00:03<00:03, 135.17it/s]\u001b[A\n",
      " 48%|█████████████████████████████████████████████████████████████████████████████████████████████▋                                                                                                      | 478/1000 [00:03<00:03, 135.44it/s]\u001b[A\n",
      " 49%|████████████████████████████████████████████████████████████████████████████████████████████████▍                                                                                                   | 492/1000 [00:03<00:03, 135.54it/s]\u001b[A\n",
      " 51%|███████████████████████████████████████████████████████████████████████████████████████████████████▏                                                                                                | 506/1000 [00:03<00:03, 136.07it/s]\u001b[A\n",
      " 52%|█████████████████████████████████████████████████████████████████████████████████████████████████████▉                                                                                              | 520/1000 [00:03<00:03, 137.02it/s]\u001b[A\n",
      " 53%|████████████████████████████████████████████████████████████████████████████████████████████████████████▋                                                                                           | 534/1000 [00:03<00:03, 137.23it/s]\u001b[A\n",
      " 55%|███████████████████████████████████████████████████████████████████████████████████████████████████████████▍                                                                                        | 548/1000 [00:04<00:03, 137.10it/s]\u001b[A\n",
      " 56%|██████████████████████████████████████████████████████████████████████████████████████████████████████████████▏                                                                                     | 562/1000 [00:04<00:03, 134.80it/s]\u001b[A\n",
      " 58%|█████████████████████████████████████████████████████████████████████████████████████████████████████████████████                                                                                   | 577/1000 [00:04<00:03, 136.69it/s]\u001b[A\n",
      " 59%|███████████████████████████████████████████████████████████████████████████████████████████████████████████████████▊                                                                                | 591/1000 [00:04<00:02, 137.41it/s]\u001b[A\n",
      " 60%|██████████████████████████████████████████████████████████████████████████████████████████████████████████████████████▌                                                                             | 605/1000 [00:04<00:02, 138.00it/s]\u001b[A\n",
      " 62%|█████████████████████████████████████████████████████████████████████████████████████████████████████████████████████████▎                                                                          | 619/1000 [00:04<00:02, 138.31it/s]\u001b[A\n",
      " 63%|████████████████████████████████████████████████████████████████████████████████████████████████████████████████████████████                                                                        | 633/1000 [00:04<00:02, 138.39it/s]\u001b[A\n",
      " 65%|██████████████████████████████████████████████████████████████████████████████████████████████████████████████████████████████▊                                                                     | 647/1000 [00:04<00:02, 138.30it/s]\u001b[A\n",
      " 66%|█████████████████████████████████████████████████████████████████████████████████████████████████████████████████████████████████▌                                                                  | 661/1000 [00:04<00:02, 137.01it/s]\u001b[A\n",
      " 68%|████████████████████████████████████████████████████████████████████████████████████████████████████████████████████████████████████▎                                                               | 675/1000 [00:04<00:02, 136.82it/s]\u001b[A\n",
      " 69%|███████████████████████████████████████████████████████████████████████████████████████████████████████████████████████████████████████                                                             | 689/1000 [00:05<00:02, 136.59it/s]\u001b[A\n",
      " 70%|█████████████████████████████████████████████████████████████████████████████████████████████████████████████████████████████████████████▊                                                          | 703/1000 [00:05<00:02, 135.91it/s]\u001b[A\n",
      " 72%|████████████████████████████████████████████████████████████████████████████████████████████████████████████████████████████████████████████▌                                                       | 717/1000 [00:05<00:02, 136.52it/s]\u001b[A\n",
      " 73%|███████████████████████████████████████████████████████████████████████████████████████████████████████████████████████████████████████████████▎                                                    | 731/1000 [00:05<00:01, 136.94it/s]\u001b[A\n",
      " 75%|██████████████████████████████████████████████████████████████████████████████████████████████████████████████████████████████████████████████████▏                                                 | 746/1000 [00:05<00:01, 138.33it/s]\u001b[A\n",
      " 76%|█████████████████████████████████████████████████████████████████████████████████████████████████████████████████████████████████████████████████████▏                                              | 761/1000 [00:05<00:01, 139.19it/s]\u001b[A\n",
      " 78%|████████████████████████████████████████████████████████████████████████████████████████████████████████████████████████████████████████████████████████                                            | 776/1000 [00:05<00:01, 139.06it/s]\u001b[A\n",
      " 79%|███████████████████████████████████████████████████████████████████████████████████████████████████████████████████████████████████████████████████████████                                         | 791/1000 [00:05<00:01, 139.61it/s]\u001b[A\n",
      " 81%|█████████████████████████████████████████████████████████████████████████████████████████████████████████████████████████████████████████████████████████████▉                                      | 806/1000 [00:05<00:01, 140.22it/s]\u001b[A\n",
      " 82%|████████████████████████████████████████████████████████████████████████████████████████████████████████████████████████████████████████████████████████████████▉                                   | 821/1000 [00:06<00:01, 140.46it/s]\u001b[A\n",
      " 84%|███████████████████████████████████████████████████████████████████████████████████████████████████████████████████████████████████████████████████████████████████▊                                | 836/1000 [00:06<00:01, 140.69it/s]\u001b[A\n",
      " 85%|██████████████████████████████████████████████████████████████████████████████████████████████████████████████████████████████████████████████████████████████████████▊                             | 851/1000 [00:06<00:01, 140.49it/s]\u001b[A\n",
      " 87%|█████████████████████████████████████████████████████████████████████████████████████████████████████████████████████████████████████████████████████████████████████████▋                          | 866/1000 [00:06<00:00, 140.24it/s]\u001b[A\n",
      " 88%|████████████████████████████████████████████████████████████████████████████████████████████████████████████████████████████████████████████████████████████████████████████▋                       | 881/1000 [00:06<00:00, 140.02it/s]\u001b[A\n",
      " 90%|███████████████████████████████████████████████████████████████████████████████████████████████████████████████████████████████████████████████████████████████████████████████▌                    | 896/1000 [00:06<00:00, 139.79it/s]\u001b[A\n",
      " 91%|██████████████████████████████████████████████████████████████████████████████████████████████████████████████████████████████████████████████████████████████████████████████████▎                 | 910/1000 [00:06<00:00, 139.35it/s]\u001b[A\n",
      " 92%|█████████████████████████████████████████████████████████████████████████████████████████████████████████████████████████████████████████████████████████████████████████████████████               | 924/1000 [00:06<00:00, 139.00it/s]\u001b[A\n",
      " 94%|███████████████████████████████████████████████████████████████████████████████████████████████████████████████████████████████████████████████████████████████████████████████████████▊            | 938/1000 [00:06<00:00, 139.05it/s]\u001b[A\n",
      " 95%|██████████████████████████████████████████████████████████████████████████████████████████████████████████████████████████████████████████████████████████████████████████████████████████▌         | 952/1000 [00:06<00:00, 138.83it/s]\u001b[A\n",
      " 97%|█████████████████████████████████████████████████████████████████████████████████████████████████████████████████████████████████████████████████████████████████████████████████████████████▎      | 966/1000 [00:07<00:00, 138.40it/s]\u001b[A\n",
      " 98%|████████████████████████████████████████████████████████████████████████████████████████████████████████████████████████████████████████████████████████████████████████████████████████████████    | 980/1000 [00:07<00:00, 138.50it/s]\u001b[A\n",
      "100%|███████████████████████████████████████████████████████████████████████████████████████████████████████████████████████████████████████████████████████████████████████████████████████████████████| 1000/1000 [00:07<00:00, 136.86it/s]\u001b[A\n"
     ]
    },
    {
     "name": "stdout",
     "output_type": "stream",
     "text": [
      "one-sample\n"
     ]
    },
    {
     "name": "stderr",
     "output_type": "stream",
     "text": [
      "\n",
      "  0%|                                                                                                                                                                                                               | 0/1000 [00:00<?, ?it/s]\u001b[A\n",
      "  2%|██▉                                                                                                                                                                                                  | 15/1000 [00:00<00:06, 140.85it/s]\u001b[A\n",
      "  3%|█████▉                                                                                                                                                                                               | 30/1000 [00:00<00:07, 134.29it/s]\u001b[A\n",
      "  4%|████████▋                                                                                                                                                                                            | 44/1000 [00:00<00:07, 132.37it/s]\u001b[A\n",
      "  6%|███████████▍                                                                                                                                                                                         | 58/1000 [00:00<00:07, 131.74it/s]\u001b[A\n",
      "  7%|██████████████▏                                                                                                                                                                                      | 72/1000 [00:00<00:07, 132.03it/s]\u001b[A\n",
      "  9%|████████████████▉                                                                                                                                                                                    | 86/1000 [00:00<00:06, 131.97it/s]\u001b[A\n",
      " 10%|███████████████████▌                                                                                                                                                                                | 100/1000 [00:00<00:06, 132.00it/s]\u001b[A\n",
      " 11%|██████████████████████▎                                                                                                                                                                             | 114/1000 [00:00<00:06, 132.09it/s]\u001b[A\n",
      " 13%|█████████████████████████                                                                                                                                                                           | 128/1000 [00:00<00:06, 132.33it/s]\u001b[A\n",
      " 14%|███████████████████████████▊                                                                                                                                                                        | 142/1000 [00:01<00:06, 132.66it/s]\u001b[A\n",
      " 16%|██████████████████████████████▌                                                                                                                                                                     | 156/1000 [00:01<00:06, 133.12it/s]\u001b[A\n",
      " 17%|█████████████████████████████████▎                                                                                                                                                                  | 170/1000 [00:01<00:06, 133.25it/s]\u001b[A\n",
      " 18%|████████████████████████████████████                                                                                                                                                                | 184/1000 [00:01<00:06, 133.62it/s]\u001b[A\n",
      " 20%|██████████████████████████████████████▊                                                                                                                                                             | 198/1000 [00:01<00:05, 133.87it/s]\u001b[A\n",
      " 21%|█████████████████████████████████████████▌                                                                                                                                                          | 212/1000 [00:01<00:05, 133.37it/s]\u001b[A\n",
      " 23%|████████████████████████████████████████████▎                                                                                                                                                       | 226/1000 [00:01<00:05, 133.25it/s]\u001b[A\n",
      " 24%|███████████████████████████████████████████████                                                                                                                                                     | 240/1000 [00:01<00:05, 133.09it/s]\u001b[A\n",
      " 25%|█████████████████████████████████████████████████▊                                                                                                                                                  | 254/1000 [00:01<00:05, 132.89it/s]\u001b[A\n",
      " 27%|████████████████████████████████████████████████████▌                                                                                                                                               | 268/1000 [00:02<00:05, 133.22it/s]\u001b[A\n",
      " 28%|███████████████████████████████████████████████████████▎                                                                                                                                            | 282/1000 [00:02<00:05, 133.55it/s]\u001b[A\n",
      " 30%|██████████████████████████████████████████████████████████                                                                                                                                          | 296/1000 [00:02<00:05, 133.85it/s]\u001b[A\n",
      " 31%|████████████████████████████████████████████████████████████▊                                                                                                                                       | 310/1000 [00:02<00:05, 133.94it/s]\u001b[A\n",
      " 32%|███████████████████████████████████████████████████████████████▌                                                                                                                                    | 324/1000 [00:02<00:05, 134.24it/s]\u001b[A\n",
      " 34%|██████████████████████████████████████████████████████████████████▏                                                                                                                                 | 338/1000 [00:02<00:04, 134.45it/s]\u001b[A\n",
      " 35%|████████████████████████████████████████████████████████████████████▉                                                                                                                               | 352/1000 [00:02<00:04, 134.91it/s]\u001b[A\n",
      " 37%|███████████████████████████████████████████████████████████████████████▋                                                                                                                            | 366/1000 [00:02<00:04, 135.03it/s]\u001b[A\n",
      " 38%|██████████████████████████████████████████████████████████████████████████▍                                                                                                                         | 380/1000 [00:02<00:04, 135.38it/s]\u001b[A\n",
      " 39%|█████████████████████████████████████████████████████████████████████████████▏                                                                                                                      | 394/1000 [00:02<00:04, 135.11it/s]\u001b[A\n",
      " 41%|███████████████████████████████████████████████████████████████████████████████▉                                                                                                                    | 408/1000 [00:03<00:04, 135.25it/s]\u001b[A\n",
      " 42%|██████████████████████████████████████████████████████████████████████████████████▋                                                                                                                 | 422/1000 [00:03<00:04, 135.21it/s]\u001b[A\n",
      " 44%|█████████████████████████████████████████████████████████████████████████████████████▍                                                                                                              | 436/1000 [00:03<00:04, 135.20it/s]\u001b[A\n",
      " 45%|████████████████████████████████████████████████████████████████████████████████████████▏                                                                                                           | 450/1000 [00:03<00:04, 135.40it/s]\u001b[A\n",
      " 46%|██████████████████████████████████████████████████████████████████████████████████████████▉                                                                                                         | 464/1000 [00:03<00:03, 135.16it/s]\u001b[A\n",
      " 48%|█████████████████████████████████████████████████████████████████████████████████████████████▋                                                                                                      | 478/1000 [00:03<00:03, 135.17it/s]\u001b[A\n",
      " 49%|████████████████████████████████████████████████████████████████████████████████████████████████▍                                                                                                   | 492/1000 [00:03<00:03, 135.61it/s]\u001b[A\n",
      " 51%|███████████████████████████████████████████████████████████████████████████████████████████████████▏                                                                                                | 506/1000 [00:03<00:03, 135.93it/s]\u001b[A\n",
      " 52%|█████████████████████████████████████████████████████████████████████████████████████████████████████▉                                                                                              | 520/1000 [00:03<00:03, 136.29it/s]\u001b[A\n",
      " 53%|████████████████████████████████████████████████████████████████████████████████████████████████████████▋                                                                                           | 534/1000 [00:03<00:03, 136.40it/s]\u001b[A\n",
      " 55%|███████████████████████████████████████████████████████████████████████████████████████████████████████████▍                                                                                        | 548/1000 [00:04<00:03, 136.55it/s]\u001b[A\n",
      " 56%|██████████████████████████████████████████████████████████████████████████████████████████████████████████████▏                                                                                     | 562/1000 [00:04<00:03, 136.74it/s]\u001b[A\n",
      " 58%|████████████████████████████████████████████████████████████████████████████████████████████████████████████████▉                                                                                   | 576/1000 [00:04<00:03, 136.61it/s]\u001b[A\n",
      " 59%|███████████████████████████████████████████████████████████████████████████████████████████████████████████████████▋                                                                                | 590/1000 [00:04<00:02, 136.76it/s]\u001b[A\n",
      " 60%|██████████████████████████████████████████████████████████████████████████████████████████████████████████████████████▍                                                                             | 604/1000 [00:04<00:02, 136.87it/s]\u001b[A\n",
      " 62%|█████████████████████████████████████████████████████████████████████████████████████████████████████████████████████████▏                                                                          | 618/1000 [00:04<00:02, 136.59it/s]\u001b[A\n",
      " 63%|███████████████████████████████████████████████████████████████████████████████████████████████████████████████████████████▊                                                                        | 632/1000 [00:04<00:02, 136.66it/s]\u001b[A\n",
      " 65%|██████████████████████████████████████████████████████████████████████████████████████████████████████████████████████████████▌                                                                     | 646/1000 [00:04<00:02, 136.65it/s]\u001b[A\n",
      " 66%|█████████████████████████████████████████████████████████████████████████████████████████████████████████████████████████████████▎                                                                  | 660/1000 [00:04<00:02, 136.77it/s]\u001b[A\n",
      " 67%|████████████████████████████████████████████████████████████████████████████████████████████████████████████████████████████████████                                                                | 674/1000 [00:05<00:02, 136.82it/s]\u001b[A\n",
      " 69%|██████████████████████████████████████████████████████████████████████████████████████████████████████████████████████████████████████▊                                                             | 688/1000 [00:05<00:02, 135.87it/s]\u001b[A\n",
      " 70%|█████████████████████████████████████████████████████████████████████████████████████████████████████████████████████████████████████████▌                                                          | 702/1000 [00:05<00:02, 136.18it/s]\u001b[A\n",
      " 72%|████████████████████████████████████████████████████████████████████████████████████████████████████████████████████████████████████████████▎                                                       | 716/1000 [00:05<00:02, 136.69it/s]\u001b[A\n",
      " 73%|███████████████████████████████████████████████████████████████████████████████████████████████████████████████████████████████████████████████                                                     | 730/1000 [00:05<00:01, 136.91it/s]\u001b[A\n",
      " 74%|█████████████████████████████████████████████████████████████████████████████████████████████████████████████████████████████████████████████████▊                                                  | 744/1000 [00:05<00:01, 136.23it/s]\u001b[A\n",
      " 76%|████████████████████████████████████████████████████████████████████████████████████████████████████████████████████████████████████████████████████▌                                               | 758/1000 [00:05<00:01, 136.52it/s]\u001b[A\n",
      " 77%|███████████████████████████████████████████████████████████████████████████████████████████████████████████████████████████████████████████████████████▎                                            | 772/1000 [00:05<00:01, 136.95it/s]\u001b[A\n",
      " 79%|██████████████████████████████████████████████████████████████████████████████████████████████████████████████████████████████████████████████████████████                                          | 786/1000 [00:05<00:01, 137.37it/s]\u001b[A\n",
      " 80%|████████████████████████████████████████████████████████████████████████████████████████████████████████████████████████████████████████████████████████████▊                                       | 800/1000 [00:05<00:01, 136.69it/s]\u001b[A\n",
      " 81%|███████████████████████████████████████████████████████████████████████████████████████████████████████████████████████████████████████████████████████████████▌                                    | 814/1000 [00:06<00:01, 137.00it/s]\u001b[A\n",
      " 83%|██████████████████████████████████████████████████████████████████████████████████████████████████████████████████████████████████████████████████████████████████▎                                 | 828/1000 [00:06<00:01, 137.09it/s]\u001b[A\n",
      " 84%|█████████████████████████████████████████████████████████████████████████████████████████████████████████████████████████████████████████████████████████████████████                               | 842/1000 [00:06<00:01, 137.45it/s]\u001b[A\n",
      " 86%|███████████████████████████████████████████████████████████████████████████████████████████████████████████████████████████████████████████████████████████████████████▊                            | 856/1000 [00:06<00:01, 136.93it/s]\u001b[A\n",
      " 87%|██████████████████████████████████████████████████████████████████████████████████████████████████████████████████████████████████████████████████████████████████████████▌                         | 870/1000 [00:06<00:00, 137.72it/s]\u001b[A\n",
      " 88%|█████████████████████████████████████████████████████████████████████████████████████████████████████████████████████████████████████████████████████████████████████████████▎                      | 884/1000 [00:06<00:00, 138.09it/s]\u001b[A\n",
      " 90%|████████████████████████████████████████████████████████████████████████████████████████████████████████████████████████████████████████████████████████████████████████████████                    | 898/1000 [00:06<00:00, 138.59it/s]\u001b[A\n",
      " 91%|██████████████████████████████████████████████████████████████████████████████████████████████████████████████████████████████████████████████████████████████████████████████████▊                 | 912/1000 [00:06<00:00, 137.81it/s]\u001b[A\n",
      " 93%|█████████████████████████████████████████████████████████████████████████████████████████████████████████████████████████████████████████████████████████████████████████████████████▋              | 927/1000 [00:06<00:00, 138.67it/s]\u001b[A\n",
      " 94%|████████████████████████████████████████████████████████████████████████████████████████████████████████████████████████████████████████████████████████████████████████████████████████▍           | 941/1000 [00:06<00:00, 138.81it/s]\u001b[A\n",
      " 96%|███████████████████████████████████████████████████████████████████████████████████████████████████████████████████████████████████████████████████████████████████████████████████████████▏        | 955/1000 [00:07<00:00, 138.82it/s]\u001b[A\n",
      " 97%|█████████████████████████████████████████████████████████████████████████████████████████████████████████████████████████████████████████████████████████████████████████████████████████████▉      | 969/1000 [00:07<00:00, 138.00it/s]\u001b[A\n",
      " 98%|████████████████████████████████████████████████████████████████████████████████████████████████████████████████████████████████████████████████████████████████████████████████████████████████▊   | 984/1000 [00:07<00:00, 138.81it/s]\u001b[A\n",
      "100%|███████████████████████████████████████████████████████████████████████████████████████████████████████████████████████████████████████████████████████████████████████████████████████████████████| 1000/1000 [00:07<00:00, 135.65it/s]\u001b[A\n"
     ]
    },
    {
     "name": "stdout",
     "output_type": "stream",
     "text": [
      "one-sample\n"
     ]
    },
    {
     "name": "stderr",
     "output_type": "stream",
     "text": [
      "\n",
      "  0%|                                                                                                                                                                                                               | 0/1000 [00:00<?, ?it/s]\u001b[A\n",
      "  2%|██▉                                                                                                                                                                                                  | 15/1000 [00:00<00:07, 137.74it/s]\u001b[A\n",
      "  3%|█████▋                                                                                                                                                                                               | 29/1000 [00:00<00:07, 134.48it/s]\u001b[A\n",
      "  4%|████████▍                                                                                                                                                                                            | 43/1000 [00:00<00:07, 133.73it/s]\u001b[A\n",
      "  6%|███████████▏                                                                                                                                                                                         | 57/1000 [00:00<00:07, 133.49it/s]\u001b[A\n",
      "  7%|█████████████▉                                                                                                                                                                                       | 71/1000 [00:00<00:06, 133.12it/s]\u001b[A\n",
      "  8%|████████████████▋                                                                                                                                                                                    | 85/1000 [00:00<00:06, 132.88it/s]\u001b[A\n",
      " 10%|███████████████████▌                                                                                                                                                                                 | 99/1000 [00:00<00:06, 132.83it/s]\u001b[A\n",
      " 11%|██████████████████████▏                                                                                                                                                                             | 113/1000 [00:00<00:06, 132.47it/s]\u001b[A\n",
      " 13%|████████████████████████▉                                                                                                                                                                           | 127/1000 [00:00<00:06, 132.61it/s]\u001b[A\n",
      " 14%|███████████████████████████▋                                                                                                                                                                        | 141/1000 [00:01<00:06, 132.66it/s]\u001b[A\n",
      " 16%|██████████████████████████████▍                                                                                                                                                                     | 155/1000 [00:01<00:06, 132.42it/s]\u001b[A\n",
      " 17%|█████████████████████████████████                                                                                                                                                                   | 169/1000 [00:01<00:06, 132.27it/s]\u001b[A\n",
      " 18%|███████████████████████████████████▊                                                                                                                                                                | 183/1000 [00:01<00:06, 132.13it/s]\u001b[A\n",
      " 20%|██████████████████████████████████████▌                                                                                                                                                             | 197/1000 [00:01<00:06, 131.67it/s]\u001b[A\n",
      " 21%|█████████████████████████████████████████▎                                                                                                                                                          | 211/1000 [00:01<00:05, 131.71it/s]\u001b[A\n",
      " 22%|████████████████████████████████████████████                                                                                                                                                        | 225/1000 [00:01<00:05, 131.71it/s]\u001b[A\n",
      " 24%|██████████████████████████████████████████████▊                                                                                                                                                     | 239/1000 [00:01<00:05, 131.87it/s]\u001b[A\n",
      " 25%|█████████████████████████████████████████████████▌                                                                                                                                                  | 253/1000 [00:01<00:05, 131.98it/s]\u001b[A\n",
      " 27%|████████████████████████████████████████████████████▎                                                                                                                                               | 267/1000 [00:02<00:05, 131.77it/s]\u001b[A\n",
      " 28%|███████████████████████████████████████████████████████                                                                                                                                             | 281/1000 [00:02<00:05, 131.87it/s]\u001b[A\n",
      " 30%|█████████████████████████████████████████████████████████▊                                                                                                                                          | 295/1000 [00:02<00:05, 131.99it/s]\u001b[A\n",
      " 31%|████████████████████████████████████████████████████████████▌                                                                                                                                       | 309/1000 [00:02<00:05, 132.10it/s]\u001b[A\n",
      " 32%|███████████████████████████████████████████████████████████████▎                                                                                                                                    | 323/1000 [00:02<00:05, 132.01it/s]\u001b[A\n",
      " 34%|██████████████████████████████████████████████████████████████████                                                                                                                                  | 337/1000 [00:02<00:05, 131.64it/s]\u001b[A\n",
      " 35%|████████████████████████████████████████████████████████████████████▊                                                                                                                               | 351/1000 [00:02<00:04, 131.52it/s]\u001b[A\n",
      " 36%|███████████████████████████████████████████████████████████████████████▌                                                                                                                            | 365/1000 [00:02<00:04, 131.37it/s]\u001b[A\n",
      " 38%|██████████████████████████████████████████████████████████████████████████▎                                                                                                                         | 379/1000 [00:02<00:04, 131.52it/s]\u001b[A\n",
      " 39%|█████████████████████████████████████████████████████████████████████████████                                                                                                                       | 393/1000 [00:02<00:04, 131.41it/s]\u001b[A\n",
      " 41%|███████████████████████████████████████████████████████████████████████████████▊                                                                                                                    | 407/1000 [00:03<00:04, 131.65it/s]\u001b[A\n",
      " 42%|██████████████████████████████████████████████████████████████████████████████████▌                                                                                                                 | 421/1000 [00:03<00:04, 131.60it/s]\u001b[A\n",
      " 44%|█████████████████████████████████████████████████████████████████████████████████████▎                                                                                                              | 435/1000 [00:03<00:04, 131.51it/s]\u001b[A\n",
      " 45%|████████████████████████████████████████████████████████████████████████████████████████                                                                                                            | 449/1000 [00:03<00:04, 131.66it/s]\u001b[A\n",
      " 46%|██████████████████████████████████████████████████████████████████████████████████████████▋                                                                                                         | 463/1000 [00:03<00:04, 132.14it/s]\u001b[A\n",
      " 48%|█████████████████████████████████████████████████████████████████████████████████████████████▍                                                                                                      | 477/1000 [00:03<00:03, 132.48it/s]\u001b[A\n",
      " 49%|████████████████████████████████████████████████████████████████████████████████████████████████▏                                                                                                   | 491/1000 [00:03<00:03, 132.43it/s]\u001b[A\n",
      " 50%|██████████████████████████████████████████████████████████████████████████████████████████████████▉                                                                                                 | 505/1000 [00:03<00:03, 132.11it/s]\u001b[A\n",
      " 52%|█████████████████████████████████████████████████████████████████████████████████████████████████████▋                                                                                              | 519/1000 [00:03<00:03, 131.94it/s]\u001b[A\n",
      " 53%|████████████████████████████████████████████████████████████████████████████████████████████████████████▍                                                                                           | 533/1000 [00:04<00:03, 131.79it/s]\u001b[A\n",
      " 55%|███████████████████████████████████████████████████████████████████████████████████████████████████████████▏                                                                                        | 547/1000 [00:04<00:03, 131.60it/s]\u001b[A\n",
      " 56%|█████████████████████████████████████████████████████████████████████████████████████████████████████████████▉                                                                                      | 561/1000 [00:04<00:03, 131.42it/s]\u001b[A\n",
      " 57%|████████████████████████████████████████████████████████████████████████████████████████████████████████████████▋                                                                                   | 575/1000 [00:04<00:03, 131.46it/s]\u001b[A\n",
      " 59%|███████████████████████████████████████████████████████████████████████████████████████████████████████████████████▍                                                                                | 589/1000 [00:04<00:03, 131.46it/s]\u001b[A\n",
      " 60%|██████████████████████████████████████████████████████████████████████████████████████████████████████████████████████▏                                                                             | 603/1000 [00:04<00:03, 131.50it/s]\u001b[A\n",
      " 62%|████████████████████████████████████████████████████████████████████████████████████████████████████████████████████████▉                                                                           | 617/1000 [00:04<00:02, 131.61it/s]\u001b[A\n",
      " 63%|███████████████████████████████████████████████████████████████████████████████████████████████████████████████████████████▋                                                                        | 631/1000 [00:04<00:02, 131.64it/s]\u001b[A\n",
      " 64%|██████████████████████████████████████████████████████████████████████████████████████████████████████████████████████████████▍                                                                     | 645/1000 [00:04<00:02, 131.32it/s]\u001b[A\n",
      " 66%|█████████████████████████████████████████████████████████████████████████████████████████████████████████████████████████████████▏                                                                  | 659/1000 [00:04<00:02, 131.39it/s]\u001b[A\n",
      " 67%|███████████████████████████████████████████████████████████████████████████████████████████████████████████████████████████████████▉                                                                | 673/1000 [00:05<00:02, 131.36it/s]\u001b[A\n",
      " 69%|██████████████████████████████████████████████████████████████████████████████████████████████████████████████████████████████████████▋                                                             | 687/1000 [00:05<00:02, 131.58it/s]\u001b[A\n",
      " 70%|█████████████████████████████████████████████████████████████████████████████████████████████████████████████████████████████████████████▍                                                          | 701/1000 [00:05<00:02, 131.58it/s]\u001b[A\n",
      " 72%|████████████████████████████████████████████████████████████████████████████████████████████████████████████████████████████████████████████▏                                                       | 715/1000 [00:05<00:02, 131.40it/s]\u001b[A\n",
      " 73%|██████████████████████████████████████████████████████████████████████████████████████████████████████████████████████████████████████████████▉                                                     | 729/1000 [00:05<00:02, 131.36it/s]\u001b[A\n",
      " 74%|█████████████████████████████████████████████████████████████████████████████████████████████████████████████████████████████████████████████████▋                                                  | 743/1000 [00:05<00:01, 131.64it/s]\u001b[A\n",
      " 76%|████████████████████████████████████████████████████████████████████████████████████████████████████████████████████████████████████████████████████▎                                               | 757/1000 [00:05<00:01, 131.75it/s]\u001b[A\n",
      " 77%|███████████████████████████████████████████████████████████████████████████████████████████████████████████████████████████████████████████████████████                                             | 771/1000 [00:05<00:01, 132.11it/s]\u001b[A\n",
      " 78%|█████████████████████████████████████████████████████████████████████████████████████████████████████████████████████████████████████████████████████████▊                                          | 785/1000 [00:05<00:01, 132.33it/s]\u001b[A\n",
      " 80%|████████████████████████████████████████████████████████████████████████████████████████████████████████████████████████████████████████████████████████████▌                                       | 799/1000 [00:06<00:01, 132.89it/s]\u001b[A\n",
      " 81%|███████████████████████████████████████████████████████████████████████████████████████████████████████████████████████████████████████████████████████████████▎                                    | 813/1000 [00:06<00:01, 133.16it/s]\u001b[A\n",
      " 83%|██████████████████████████████████████████████████████████████████████████████████████████████████████████████████████████████████████████████████████████████████                                  | 827/1000 [00:06<00:01, 133.60it/s]\u001b[A\n",
      " 84%|████████████████████████████████████████████████████████████████████████████████████████████████████████████████████████████████████████████████████████████████████▊                               | 841/1000 [00:06<00:01, 133.88it/s]\u001b[A\n",
      " 86%|███████████████████████████████████████████████████████████████████████████████████████████████████████████████████████████████████████████████████████████████████████▌                            | 855/1000 [00:06<00:01, 133.97it/s]\u001b[A\n",
      " 87%|██████████████████████████████████████████████████████████████████████████████████████████████████████████████████████████████████████████████████████████████████████████▎                         | 869/1000 [00:06<00:00, 134.13it/s]\u001b[A\n",
      " 88%|█████████████████████████████████████████████████████████████████████████████████████████████████████████████████████████████████████████████████████████████████████████████                       | 883/1000 [00:06<00:00, 134.35it/s]\u001b[A\n",
      " 90%|███████████████████████████████████████████████████████████████████████████████████████████████████████████████████████████████████████████████████████████████████████████████▊                    | 897/1000 [00:06<00:00, 134.48it/s]\u001b[A\n",
      " 91%|██████████████████████████████████████████████████████████████████████████████████████████████████████████████████████████████████████████████████████████████████████████████████▌                 | 911/1000 [00:06<00:00, 134.64it/s]\u001b[A\n",
      " 92%|█████████████████████████████████████████████████████████████████████████████████████████████████████████████████████████████████████████████████████████████████████████████████████▎              | 925/1000 [00:06<00:00, 134.67it/s]\u001b[A\n",
      " 94%|████████████████████████████████████████████████████████████████████████████████████████████████████████████████████████████████████████████████████████████████████████████████████████            | 939/1000 [00:07<00:00, 134.61it/s]\u001b[A\n",
      " 95%|██████████████████████████████████████████████████████████████████████████████████████████████████████████████████████████████████████████████████████████████████████████████████████████▊         | 953/1000 [00:07<00:00, 134.65it/s]\u001b[A\n",
      " 97%|█████████████████████████████████████████████████████████████████████████████████████████████████████████████████████████████████████████████████████████████████████████████████████████████▌      | 967/1000 [00:07<00:00, 134.63it/s]\u001b[A\n",
      " 98%|████████████████████████████████████████████████████████████████████████████████████████████████████████████████████████████████████████████████████████████████████████████████████████████████▎   | 981/1000 [00:07<00:00, 134.63it/s]\u001b[A\n",
      "100%|███████████████████████████████████████████████████████████████████████████████████████████████████████████████████████████████████████████████████████████████████████████████████████████████████| 1000/1000 [00:07<00:00, 132.48it/s]\u001b[A\n"
     ]
    },
    {
     "name": "stdout",
     "output_type": "stream",
     "text": [
      "one-sample\n"
     ]
    },
    {
     "name": "stderr",
     "output_type": "stream",
     "text": [
      "\n",
      "  0%|                                                                                                                                                                                                               | 0/1000 [00:00<?, ?it/s]\u001b[A\n",
      "  1%|██▊                                                                                                                                                                                                  | 14/1000 [00:00<00:07, 138.26it/s]\u001b[A\n",
      "  3%|█████▌                                                                                                                                                                                               | 28/1000 [00:00<00:07, 132.35it/s]\u001b[A\n",
      "  4%|████████▎                                                                                                                                                                                            | 42/1000 [00:00<00:07, 133.52it/s]\u001b[A\n",
      "  6%|███████████                                                                                                                                                                                          | 56/1000 [00:00<00:07, 134.36it/s]\u001b[A\n",
      "  7%|█████████████▊                                                                                                                                                                                       | 70/1000 [00:00<00:06, 134.10it/s]\u001b[A\n",
      "  8%|████████████████▌                                                                                                                                                                                    | 84/1000 [00:00<00:06, 134.50it/s]\u001b[A\n",
      " 10%|███████████████████▎                                                                                                                                                                                 | 98/1000 [00:00<00:06, 134.75it/s]\u001b[A\n",
      " 11%|█████████████████████▉                                                                                                                                                                              | 112/1000 [00:00<00:06, 134.93it/s]\u001b[A\n",
      " 13%|████████████████████████▋                                                                                                                                                                           | 126/1000 [00:00<00:06, 135.11it/s]\u001b[A\n",
      " 14%|███████████████████████████▍                                                                                                                                                                        | 140/1000 [00:01<00:06, 134.85it/s]\u001b[A\n",
      " 15%|██████████████████████████████▏                                                                                                                                                                     | 154/1000 [00:01<00:06, 134.88it/s]\u001b[A\n",
      " 17%|████████████████████████████████▉                                                                                                                                                                   | 168/1000 [00:01<00:06, 134.84it/s]\u001b[A\n",
      " 18%|███████████████████████████████████▋                                                                                                                                                                | 182/1000 [00:01<00:06, 134.89it/s]\u001b[A\n",
      " 20%|██████████████████████████████████████▍                                                                                                                                                             | 196/1000 [00:01<00:05, 135.01it/s]\u001b[A\n",
      " 21%|█████████████████████████████████████████▏                                                                                                                                                          | 210/1000 [00:01<00:05, 135.09it/s]\u001b[A\n",
      " 22%|███████████████████████████████████████████▉                                                                                                                                                        | 224/1000 [00:01<00:05, 135.01it/s]\u001b[A\n",
      " 24%|██████████████████████████████████████████████▋                                                                                                                                                     | 238/1000 [00:01<00:05, 135.15it/s]\u001b[A\n",
      " 25%|█████████████████████████████████████████████████▍                                                                                                                                                  | 252/1000 [00:01<00:05, 135.22it/s]\u001b[A\n",
      " 27%|████████████████████████████████████████████████████▏                                                                                                                                               | 266/1000 [00:01<00:05, 135.14it/s]\u001b[A\n",
      " 28%|██████████████████████████████████████████████████████▉                                                                                                                                             | 280/1000 [00:02<00:05, 135.41it/s]\u001b[A\n",
      " 29%|█████████████████████████████████████████████████████████▌                                                                                                                                          | 294/1000 [00:02<00:05, 135.24it/s]\u001b[A\n",
      " 31%|████████████████████████████████████████████████████████████▎                                                                                                                                       | 308/1000 [00:02<00:05, 135.42it/s]\u001b[A\n",
      " 32%|███████████████████████████████████████████████████████████████                                                                                                                                     | 322/1000 [00:02<00:05, 135.50it/s]\u001b[A\n",
      " 34%|█████████████████████████████████████████████████████████████████▊                                                                                                                                  | 336/1000 [00:02<00:04, 135.73it/s]\u001b[A\n",
      " 35%|████████████████████████████████████████████████████████████████████▌                                                                                                                               | 350/1000 [00:02<00:04, 135.79it/s]\u001b[A\n",
      " 36%|███████████████████████████████████████████████████████████████████████▎                                                                                                                            | 364/1000 [00:02<00:04, 135.80it/s]\u001b[A\n",
      " 38%|██████████████████████████████████████████████████████████████████████████                                                                                                                          | 378/1000 [00:02<00:04, 136.05it/s]\u001b[A\n",
      " 39%|████████████████████████████████████████████████████████████████████████████▊                                                                                                                       | 392/1000 [00:02<00:04, 136.11it/s]\u001b[A\n",
      " 41%|███████████████████████████████████████████████████████████████████████████████▌                                                                                                                    | 406/1000 [00:03<00:04, 136.38it/s]\u001b[A\n",
      " 42%|██████████████████████████████████████████████████████████████████████████████████▎                                                                                                                 | 420/1000 [00:03<00:04, 136.83it/s]\u001b[A\n",
      " 43%|█████████████████████████████████████████████████████████████████████████████████████                                                                                                               | 434/1000 [00:03<00:04, 137.04it/s]\u001b[A\n",
      " 45%|███████████████████████████████████████████████████████████████████████████████████████▊                                                                                                            | 448/1000 [00:03<00:04, 136.65it/s]\u001b[A\n",
      " 46%|██████████████████████████████████████████████████████████████████████████████████████████▌                                                                                                         | 462/1000 [00:03<00:03, 136.23it/s]\u001b[A\n",
      " 48%|█████████████████████████████████████████████████████████████████████████████████████████████▎                                                                                                      | 476/1000 [00:03<00:03, 135.97it/s]\u001b[A\n",
      " 49%|████████████████████████████████████████████████████████████████████████████████████████████████                                                                                                    | 490/1000 [00:03<00:03, 135.98it/s]\u001b[A\n",
      " 50%|██████████████████████████████████████████████████████████████████████████████████████████████████▊                                                                                                 | 504/1000 [00:03<00:03, 135.87it/s]\u001b[A\n",
      " 52%|█████████████████████████████████████████████████████████████████████████████████████████████████████▌                                                                                              | 518/1000 [00:03<00:03, 135.56it/s]\u001b[A\n",
      " 53%|████████████████████████████████████████████████████████████████████████████████████████████████████████▎                                                                                           | 532/1000 [00:03<00:03, 135.64it/s]\u001b[A\n",
      " 55%|███████████████████████████████████████████████████████████████████████████████████████████████████████████                                                                                         | 546/1000 [00:04<00:03, 135.66it/s]\u001b[A\n",
      " 56%|█████████████████████████████████████████████████████████████████████████████████████████████████████████████▊                                                                                      | 560/1000 [00:04<00:03, 135.67it/s]\u001b[A\n",
      " 57%|████████████████████████████████████████████████████████████████████████████████████████████████████████████████▌                                                                                   | 574/1000 [00:04<00:03, 135.51it/s]\u001b[A\n",
      " 59%|███████████████████████████████████████████████████████████████████████████████████████████████████████████████████▏                                                                                | 588/1000 [00:04<00:03, 135.12it/s]\u001b[A\n",
      " 60%|█████████████████████████████████████████████████████████████████████████████████████████████████████████████████████▉                                                                              | 602/1000 [00:04<00:02, 135.27it/s]\u001b[A\n",
      " 62%|████████████████████████████████████████████████████████████████████████████████████████████████████████████████████████▋                                                                           | 616/1000 [00:04<00:02, 135.43it/s]\u001b[A\n",
      " 63%|███████████████████████████████████████████████████████████████████████████████████████████████████████████████████████████▍                                                                        | 630/1000 [00:04<00:02, 135.56it/s]\u001b[A\n",
      " 64%|██████████████████████████████████████████████████████████████████████████████████████████████████████████████████████████████▏                                                                     | 644/1000 [00:04<00:02, 135.61it/s]\u001b[A\n",
      " 66%|████████████████████████████████████████████████████████████████████████████████████████████████████████████████████████████████▉                                                                   | 658/1000 [00:04<00:02, 135.39it/s]\u001b[A\n",
      " 67%|███████████████████████████████████████████████████████████████████████████████████████████████████████████████████████████████████▋                                                                | 672/1000 [00:04<00:02, 135.45it/s]\u001b[A\n",
      " 69%|██████████████████████████████████████████████████████████████████████████████████████████████████████████████████████████████████████▍                                                             | 686/1000 [00:05<00:02, 135.63it/s]\u001b[A\n",
      " 70%|█████████████████████████████████████████████████████████████████████████████████████████████████████████████████████████████████████████▏                                                          | 700/1000 [00:05<00:02, 136.10it/s]\u001b[A\n",
      " 71%|███████████████████████████████████████████████████████████████████████████████████████████████████████████████████████████████████████████▉                                                        | 714/1000 [00:05<00:02, 136.00it/s]\u001b[A\n",
      " 73%|██████████████████████████████████████████████████████████████████████████████████████████████████████████████████████████████████████████████▋                                                     | 728/1000 [00:05<00:01, 136.10it/s]\u001b[A\n",
      " 74%|█████████████████████████████████████████████████████████████████████████████████████████████████████████████████████████████████████████████████▍                                                  | 742/1000 [00:05<00:01, 135.67it/s]\u001b[A\n",
      " 76%|████████████████████████████████████████████████████████████████████████████████████████████████████████████████████████████████████████████████████▏                                               | 756/1000 [00:05<00:01, 136.03it/s]\u001b[A\n",
      " 77%|██████████████████████████████████████████████████████████████████████████████████████████████████████████████████████████████████████████████████████▉                                             | 770/1000 [00:05<00:01, 136.89it/s]\u001b[A\n",
      " 78%|█████████████████████████████████████████████████████████████████████████████████████████████████████████████████████████████████████████████████████████▋                                          | 784/1000 [00:05<00:01, 137.41it/s]\u001b[A\n",
      " 80%|████████████████████████████████████████████████████████████████████████████████████████████████████████████████████████████████████████████████████████████▍                                       | 798/1000 [00:05<00:01, 137.74it/s]\u001b[A\n",
      " 81%|███████████████████████████████████████████████████████████████████████████████████████████████████████████████████████████████████████████████████████████████▏                                    | 812/1000 [00:05<00:01, 137.93it/s]\u001b[A\n",
      " 83%|█████████████████████████████████████████████████████████████████████████████████████████████████████████████████████████████████████████████████████████████████▉                                  | 826/1000 [00:06<00:01, 138.13it/s]\u001b[A\n",
      " 84%|████████████████████████████████████████████████████████████████████████████████████████████████████████████████████████████████████████████████████████████████████▋                               | 840/1000 [00:06<00:01, 138.41it/s]\u001b[A\n",
      " 85%|███████████████████████████████████████████████████████████████████████████████████████████████████████████████████████████████████████████████████████████████████████▍                            | 854/1000 [00:06<00:01, 138.65it/s]\u001b[A\n",
      " 87%|██████████████████████████████████████████████████████████████████████████████████████████████████████████████████████████████████████████████████████████████████████████▏                         | 868/1000 [00:06<00:00, 138.50it/s]\u001b[A\n",
      " 88%|████████████████████████████████████████████████████████████████████████████████████████████████████████████████████████████████████████████████████████████████████████████▊                       | 882/1000 [00:06<00:00, 138.29it/s]\u001b[A\n",
      " 90%|███████████████████████████████████████████████████████████████████████████████████████████████████████████████████████████████████████████████████████████████████████████████▌                    | 896/1000 [00:06<00:00, 138.52it/s]\u001b[A\n",
      " 91%|██████████████████████████████████████████████████████████████████████████████████████████████████████████████████████████████████████████████████████████████████████████████████▎                 | 910/1000 [00:06<00:00, 138.48it/s]\u001b[A\n",
      " 92%|█████████████████████████████████████████████████████████████████████████████████████████████████████████████████████████████████████████████████████████████████████████████████████               | 924/1000 [00:06<00:00, 138.41it/s]\u001b[A\n",
      " 94%|███████████████████████████████████████████████████████████████████████████████████████████████████████████████████████████████████████████████████████████████████████████████████████▊            | 938/1000 [00:06<00:00, 138.46it/s]\u001b[A\n",
      " 95%|██████████████████████████████████████████████████████████████████████████████████████████████████████████████████████████████████████████████████████████████████████████████████████████▌         | 952/1000 [00:06<00:00, 138.41it/s]\u001b[A\n",
      " 97%|█████████████████████████████████████████████████████████████████████████████████████████████████████████████████████████████████████████████████████████████████████████████████████████████▎      | 966/1000 [00:07<00:00, 138.23it/s]\u001b[A\n",
      " 98%|████████████████████████████████████████████████████████████████████████████████████████████████████████████████████████████████████████████████████████████████████████████████████████████████    | 980/1000 [00:07<00:00, 138.39it/s]\u001b[A\n",
      "100%|███████████████████████████████████████████████████████████████████████████████████████████████████████████████████████████████████████████████████████████████████████████████████████████████████| 1000/1000 [00:07<00:00, 136.20it/s]\u001b[A\n"
     ]
    },
    {
     "name": "stdout",
     "output_type": "stream",
     "text": [
      "one-sample\n"
     ]
    },
    {
     "name": "stderr",
     "output_type": "stream",
     "text": [
      "\n",
      "  0%|                                                                                                                                                                                                               | 0/1000 [00:00<?, ?it/s]\u001b[A\n",
      "  2%|██▉                                                                                                                                                                                                  | 15/1000 [00:00<00:06, 143.08it/s]\u001b[A\n",
      "  3%|█████▉                                                                                                                                                                                               | 30/1000 [00:00<00:07, 137.69it/s]\u001b[A\n",
      "  4%|████████▋                                                                                                                                                                                            | 44/1000 [00:00<00:07, 135.87it/s]\u001b[A\n",
      "  6%|███████████▍                                                                                                                                                                                         | 58/1000 [00:00<00:06, 134.78it/s]\u001b[A\n",
      "  7%|██████████████▏                                                                                                                                                                                      | 72/1000 [00:00<00:06, 133.92it/s]\u001b[A\n",
      "  9%|████████████████▉                                                                                                                                                                                    | 86/1000 [00:00<00:06, 133.47it/s]\u001b[A\n",
      " 10%|███████████████████▌                                                                                                                                                                                | 100/1000 [00:00<00:06, 133.24it/s]\u001b[A\n",
      " 11%|██████████████████████▎                                                                                                                                                                             | 114/1000 [00:00<00:06, 132.98it/s]\u001b[A\n",
      " 13%|█████████████████████████                                                                                                                                                                           | 128/1000 [00:00<00:06, 131.86it/s]\u001b[A\n",
      " 14%|███████████████████████████▊                                                                                                                                                                        | 142/1000 [00:01<00:06, 131.67it/s]\u001b[A\n",
      " 16%|██████████████████████████████▌                                                                                                                                                                     | 156/1000 [00:01<00:06, 131.93it/s]\u001b[A\n",
      " 17%|█████████████████████████████████▎                                                                                                                                                                  | 170/1000 [00:01<00:06, 131.94it/s]\u001b[A\n",
      " 18%|████████████████████████████████████                                                                                                                                                                | 184/1000 [00:01<00:06, 132.17it/s]\u001b[A\n",
      " 20%|██████████████████████████████████████▊                                                                                                                                                             | 198/1000 [00:01<00:06, 132.31it/s]\u001b[A\n",
      " 21%|█████████████████████████████████████████▌                                                                                                                                                          | 212/1000 [00:01<00:05, 132.40it/s]\u001b[A\n",
      " 23%|████████████████████████████████████████████▎                                                                                                                                                       | 226/1000 [00:01<00:05, 132.33it/s]\u001b[A\n",
      " 24%|███████████████████████████████████████████████                                                                                                                                                     | 240/1000 [00:01<00:05, 132.03it/s]\u001b[A\n",
      " 25%|█████████████████████████████████████████████████▊                                                                                                                                                  | 254/1000 [00:01<00:05, 132.22it/s]\u001b[A\n",
      " 27%|████████████████████████████████████████████████████▌                                                                                                                                               | 268/1000 [00:02<00:05, 132.34it/s]\u001b[A\n",
      " 28%|███████████████████████████████████████████████████████▎                                                                                                                                            | 282/1000 [00:02<00:05, 132.41it/s]\u001b[A\n",
      " 30%|██████████████████████████████████████████████████████████                                                                                                                                          | 296/1000 [00:02<00:05, 132.46it/s]\u001b[A\n",
      " 31%|████████████████████████████████████████████████████████████▊                                                                                                                                       | 310/1000 [00:02<00:05, 132.25it/s]\u001b[A\n",
      " 32%|███████████████████████████████████████████████████████████████▌                                                                                                                                    | 324/1000 [00:02<00:05, 132.33it/s]\u001b[A\n",
      " 34%|██████████████████████████████████████████████████████████████████▏                                                                                                                                 | 338/1000 [00:02<00:05, 132.36it/s]\u001b[A\n",
      " 35%|████████████████████████████████████████████████████████████████████▉                                                                                                                               | 352/1000 [00:02<00:04, 132.22it/s]\u001b[A\n",
      " 37%|███████████████████████████████████████████████████████████████████████▋                                                                                                                            | 366/1000 [00:02<00:04, 132.55it/s]\u001b[A\n",
      " 38%|██████████████████████████████████████████████████████████████████████████▍                                                                                                                         | 380/1000 [00:02<00:04, 132.87it/s]\u001b[A\n",
      " 39%|█████████████████████████████████████████████████████████████████████████████▏                                                                                                                      | 394/1000 [00:02<00:04, 132.50it/s]\u001b[A\n",
      " 41%|███████████████████████████████████████████████████████████████████████████████▉                                                                                                                    | 408/1000 [00:03<00:04, 132.85it/s]\u001b[A\n",
      " 42%|██████████████████████████████████████████████████████████████████████████████████▋                                                                                                                 | 422/1000 [00:03<00:04, 133.17it/s]\u001b[A\n",
      " 44%|█████████████████████████████████████████████████████████████████████████████████████▍                                                                                                              | 436/1000 [00:03<00:04, 133.42it/s]\u001b[A\n",
      " 45%|████████████████████████████████████████████████████████████████████████████████████████▏                                                                                                           | 450/1000 [00:03<00:04, 133.24it/s]\u001b[A\n",
      " 46%|██████████████████████████████████████████████████████████████████████████████████████████▉                                                                                                         | 464/1000 [00:03<00:04, 132.67it/s]\u001b[A\n",
      " 48%|█████████████████████████████████████████████████████████████████████████████████████████████▋                                                                                                      | 478/1000 [00:03<00:03, 132.44it/s]\u001b[A\n",
      " 49%|████████████████████████████████████████████████████████████████████████████████████████████████▍                                                                                                   | 492/1000 [00:03<00:03, 132.35it/s]\u001b[A\n",
      " 51%|███████████████████████████████████████████████████████████████████████████████████████████████████▏                                                                                                | 506/1000 [00:03<00:03, 132.20it/s]\u001b[A\n",
      " 52%|█████████████████████████████████████████████████████████████████████████████████████████████████████▉                                                                                              | 520/1000 [00:03<00:03, 132.15it/s]\u001b[A\n",
      " 53%|████████████████████████████████████████████████████████████████████████████████████████████████████████▋                                                                                           | 534/1000 [00:04<00:03, 131.82it/s]\u001b[A\n",
      " 55%|███████████████████████████████████████████████████████████████████████████████████████████████████████████▍                                                                                        | 548/1000 [00:04<00:03, 131.85it/s]\u001b[A\n",
      " 56%|██████████████████████████████████████████████████████████████████████████████████████████████████████████████▏                                                                                     | 562/1000 [00:04<00:03, 131.94it/s]\u001b[A\n",
      " 58%|████████████████████████████████████████████████████████████████████████████████████████████████████████████████▉                                                                                   | 576/1000 [00:04<00:03, 131.90it/s]\u001b[A\n",
      " 59%|███████████████████████████████████████████████████████████████████████████████████████████████████████████████████▋                                                                                | 590/1000 [00:04<00:03, 131.77it/s]\u001b[A\n",
      " 60%|██████████████████████████████████████████████████████████████████████████████████████████████████████████████████████▍                                                                             | 604/1000 [00:04<00:03, 131.76it/s]\u001b[A\n",
      " 62%|█████████████████████████████████████████████████████████████████████████████████████████████████████████████████████████▏                                                                          | 618/1000 [00:04<00:02, 131.58it/s]\u001b[A\n",
      " 63%|███████████████████████████████████████████████████████████████████████████████████████████████████████████████████████████▊                                                                        | 632/1000 [00:04<00:02, 131.65it/s]\u001b[A\n",
      " 65%|██████████████████████████████████████████████████████████████████████████████████████████████████████████████████████████████▌                                                                     | 646/1000 [00:04<00:02, 131.83it/s]\u001b[A\n",
      " 66%|█████████████████████████████████████████████████████████████████████████████████████████████████████████████████████████████████▎                                                                  | 660/1000 [00:04<00:02, 131.97it/s]\u001b[A\n",
      " 67%|████████████████████████████████████████████████████████████████████████████████████████████████████████████████████████████████████                                                                | 674/1000 [00:05<00:02, 131.98it/s]\u001b[A\n",
      " 69%|██████████████████████████████████████████████████████████████████████████████████████████████████████████████████████████████████████▊                                                             | 688/1000 [00:05<00:02, 131.88it/s]\u001b[A\n",
      " 70%|█████████████████████████████████████████████████████████████████████████████████████████████████████████████████████████████████████████▌                                                          | 702/1000 [00:05<00:02, 131.95it/s]\u001b[A\n",
      " 72%|████████████████████████████████████████████████████████████████████████████████████████████████████████████████████████████████████████████▎                                                       | 716/1000 [00:05<00:02, 132.01it/s]\u001b[A\n",
      " 73%|███████████████████████████████████████████████████████████████████████████████████████████████████████████████████████████████████████████████                                                     | 730/1000 [00:05<00:02, 132.07it/s]\u001b[A\n",
      " 74%|█████████████████████████████████████████████████████████████████████████████████████████████████████████████████████████████████████████████████▊                                                  | 744/1000 [00:05<00:01, 131.96it/s]\u001b[A\n",
      " 76%|████████████████████████████████████████████████████████████████████████████████████████████████████████████████████████████████████████████████████▌                                               | 758/1000 [00:05<00:01, 132.27it/s]\u001b[A\n",
      " 77%|███████████████████████████████████████████████████████████████████████████████████████████████████████████████████████████████████████████████████████▎                                            | 772/1000 [00:05<00:01, 133.00it/s]\u001b[A\n",
      " 79%|██████████████████████████████████████████████████████████████████████████████████████████████████████████████████████████████████████████████████████████                                          | 786/1000 [00:05<00:01, 133.56it/s]\u001b[A\n",
      " 80%|████████████████████████████████████████████████████████████████████████████████████████████████████████████████████████████████████████████████████████████▊                                       | 800/1000 [00:06<00:01, 133.76it/s]\u001b[A\n",
      " 81%|███████████████████████████████████████████████████████████████████████████████████████████████████████████████████████████████████████████████████████████████▌                                    | 814/1000 [00:06<00:01, 134.03it/s]\u001b[A\n",
      " 83%|██████████████████████████████████████████████████████████████████████████████████████████████████████████████████████████████████████████████████████████████████▎                                 | 828/1000 [00:06<00:01, 133.95it/s]\u001b[A\n",
      " 84%|█████████████████████████████████████████████████████████████████████████████████████████████████████████████████████████████████████████████████████████████████████                               | 842/1000 [00:06<00:01, 134.30it/s]\u001b[A\n",
      " 86%|███████████████████████████████████████████████████████████████████████████████████████████████████████████████████████████████████████████████████████████████████████▊                            | 856/1000 [00:06<00:01, 134.44it/s]\u001b[A\n",
      " 87%|██████████████████████████████████████████████████████████████████████████████████████████████████████████████████████████████████████████████████████████████████████████▌                         | 870/1000 [00:06<00:00, 134.63it/s]\u001b[A\n",
      " 88%|█████████████████████████████████████████████████████████████████████████████████████████████████████████████████████████████████████████████████████████████████████████████▎                      | 884/1000 [00:06<00:00, 134.77it/s]\u001b[A\n",
      " 90%|████████████████████████████████████████████████████████████████████████████████████████████████████████████████████████████████████████████████████████████████████████████████                    | 898/1000 [00:06<00:00, 134.76it/s]\u001b[A\n",
      " 91%|██████████████████████████████████████████████████████████████████████████████████████████████████████████████████████████████████████████████████████████████████████████████████▊                 | 912/1000 [00:06<00:00, 134.41it/s]\u001b[A\n",
      " 93%|█████████████████████████████████████████████████████████████████████████████████████████████████████████████████████████████████████████████████████████████████████████████████████▍              | 926/1000 [00:06<00:00, 134.55it/s]\u001b[A\n",
      " 94%|████████████████████████████████████████████████████████████████████████████████████████████████████████████████████████████████████████████████████████████████████████████████████████▏           | 940/1000 [00:07<00:00, 134.67it/s]\u001b[A\n",
      " 95%|██████████████████████████████████████████████████████████████████████████████████████████████████████████████████████████████████████████████████████████████████████████████████████████▉         | 954/1000 [00:07<00:00, 134.85it/s]\u001b[A\n",
      " 97%|█████████████████████████████████████████████████████████████████████████████████████████████████████████████████████████████████████████████████████████████████████████████████████████████▋      | 968/1000 [00:07<00:00, 134.92it/s]\u001b[A\n",
      " 98%|████████████████████████████████████████████████████████████████████████████████████████████████████████████████████████████████████████████████████████████████████████████████████████████████▍   | 982/1000 [00:07<00:00, 134.65it/s]\u001b[A\n",
      "100%|███████████████████████████████████████████████████████████████████████████████████████████████████████████████████████████████████████████████████████████████████████████████████████████████████| 1000/1000 [00:07<00:00, 132.98it/s]\u001b[A\n"
     ]
    },
    {
     "name": "stdout",
     "output_type": "stream",
     "text": [
      "one-sample\n"
     ]
    },
    {
     "name": "stderr",
     "output_type": "stream",
     "text": [
      "\n",
      "  0%|                                                                                                                                                                                                               | 0/1000 [00:00<?, ?it/s]\u001b[A\n",
      "  2%|██▉                                                                                                                                                                                                  | 15/1000 [00:00<00:07, 140.09it/s]\u001b[A\n",
      "  3%|█████▉                                                                                                                                                                                               | 30/1000 [00:00<00:07, 135.33it/s]\u001b[A\n",
      "  4%|████████▋                                                                                                                                                                                            | 44/1000 [00:00<00:07, 133.99it/s]\u001b[A\n",
      "  6%|███████████▍                                                                                                                                                                                         | 58/1000 [00:00<00:07, 133.02it/s]\u001b[A\n",
      "  7%|██████████████▏                                                                                                                                                                                      | 72/1000 [00:00<00:07, 132.55it/s]\u001b[A\n",
      "  9%|████████████████▉                                                                                                                                                                                    | 86/1000 [00:00<00:06, 132.27it/s]\u001b[A\n",
      " 10%|███████████████████▌                                                                                                                                                                                | 100/1000 [00:00<00:06, 132.18it/s]\u001b[A\n",
      " 11%|██████████████████████▎                                                                                                                                                                             | 114/1000 [00:00<00:06, 132.06it/s]\u001b[A\n",
      " 13%|█████████████████████████                                                                                                                                                                           | 128/1000 [00:00<00:06, 132.09it/s]\u001b[A\n",
      " 14%|███████████████████████████▊                                                                                                                                                                        | 142/1000 [00:01<00:06, 131.87it/s]\u001b[A\n",
      " 16%|██████████████████████████████▌                                                                                                                                                                     | 156/1000 [00:01<00:06, 131.75it/s]\u001b[A\n",
      " 17%|█████████████████████████████████▎                                                                                                                                                                  | 170/1000 [00:01<00:06, 131.65it/s]\u001b[A\n",
      " 18%|████████████████████████████████████                                                                                                                                                                | 184/1000 [00:01<00:06, 131.56it/s]\u001b[A\n",
      " 20%|██████████████████████████████████████▊                                                                                                                                                             | 198/1000 [00:01<00:06, 131.78it/s]\u001b[A\n",
      " 21%|█████████████████████████████████████████▌                                                                                                                                                          | 212/1000 [00:01<00:05, 131.92it/s]\u001b[A\n",
      " 23%|████████████████████████████████████████████▎                                                                                                                                                       | 226/1000 [00:01<00:05, 131.93it/s]\u001b[A\n",
      " 24%|███████████████████████████████████████████████                                                                                                                                                     | 240/1000 [00:01<00:05, 131.77it/s]\u001b[A\n",
      " 25%|█████████████████████████████████████████████████▊                                                                                                                                                  | 254/1000 [00:01<00:05, 131.82it/s]\u001b[A\n",
      " 27%|████████████████████████████████████████████████████▌                                                                                                                                               | 268/1000 [00:02<00:05, 131.88it/s]\u001b[A\n",
      " 28%|███████████████████████████████████████████████████████▎                                                                                                                                            | 282/1000 [00:02<00:05, 131.98it/s]\u001b[A\n",
      " 30%|██████████████████████████████████████████████████████████                                                                                                                                          | 296/1000 [00:02<00:05, 132.03it/s]\u001b[A\n",
      " 31%|████████████████████████████████████████████████████████████▊                                                                                                                                       | 310/1000 [00:02<00:05, 131.80it/s]\u001b[A\n",
      " 32%|███████████████████████████████████████████████████████████████▌                                                                                                                                    | 324/1000 [00:02<00:05, 131.93it/s]\u001b[A\n",
      " 34%|██████████████████████████████████████████████████████████████████▏                                                                                                                                 | 338/1000 [00:02<00:05, 132.05it/s]\u001b[A\n",
      " 35%|████████████████████████████████████████████████████████████████████▉                                                                                                                               | 352/1000 [00:02<00:04, 132.10it/s]\u001b[A\n",
      " 37%|███████████████████████████████████████████████████████████████████████▋                                                                                                                            | 366/1000 [00:02<00:04, 132.23it/s]\u001b[A\n",
      " 38%|██████████████████████████████████████████████████████████████████████████▍                                                                                                                         | 380/1000 [00:02<00:04, 132.38it/s]\u001b[A\n",
      " 39%|█████████████████████████████████████████████████████████████████████████████▏                                                                                                                      | 394/1000 [00:02<00:04, 132.03it/s]\u001b[A\n",
      " 41%|███████████████████████████████████████████████████████████████████████████████▉                                                                                                                    | 408/1000 [00:03<00:04, 132.51it/s]\u001b[A\n",
      " 42%|██████████████████████████████████████████████████████████████████████████████████▋                                                                                                                 | 422/1000 [00:03<00:04, 132.94it/s]\u001b[A\n",
      " 44%|█████████████████████████████████████████████████████████████████████████████████████▍                                                                                                              | 436/1000 [00:03<00:04, 133.34it/s]\u001b[A\n",
      " 45%|████████████████████████████████████████████████████████████████████████████████████████▏                                                                                                           | 450/1000 [00:03<00:04, 133.27it/s]\u001b[A\n",
      " 46%|██████████████████████████████████████████████████████████████████████████████████████████▉                                                                                                         | 464/1000 [00:03<00:04, 132.88it/s]\u001b[A\n",
      " 48%|█████████████████████████████████████████████████████████████████████████████████████████████▋                                                                                                      | 478/1000 [00:03<00:03, 132.93it/s]\u001b[A\n",
      " 49%|████████████████████████████████████████████████████████████████████████████████████████████████▍                                                                                                   | 492/1000 [00:03<00:03, 133.01it/s]\u001b[A\n",
      " 51%|███████████████████████████████████████████████████████████████████████████████████████████████████▏                                                                                                | 506/1000 [00:03<00:03, 132.99it/s]\u001b[A\n",
      " 52%|█████████████████████████████████████████████████████████████████████████████████████████████████████▉                                                                                              | 520/1000 [00:03<00:03, 132.94it/s]\u001b[A\n",
      " 53%|████████████████████████████████████████████████████████████████████████████████████████████████████████▋                                                                                           | 534/1000 [00:04<00:03, 132.56it/s]\u001b[A\n",
      " 55%|███████████████████████████████████████████████████████████████████████████████████████████████████████████▍                                                                                        | 548/1000 [00:04<00:03, 132.61it/s]\u001b[A\n",
      " 56%|██████████████████████████████████████████████████████████████████████████████████████████████████████████████▏                                                                                     | 562/1000 [00:04<00:03, 132.53it/s]\u001b[A\n",
      " 58%|████████████████████████████████████████████████████████████████████████████████████████████████████████████████▉                                                                                   | 576/1000 [00:04<00:03, 132.60it/s]\u001b[A\n",
      " 59%|███████████████████████████████████████████████████████████████████████████████████████████████████████████████████▋                                                                                | 590/1000 [00:04<00:03, 132.57it/s]\u001b[A\n",
      " 60%|██████████████████████████████████████████████████████████████████████████████████████████████████████████████████████▍                                                                             | 604/1000 [00:04<00:02, 132.70it/s]\u001b[A\n",
      " 62%|█████████████████████████████████████████████████████████████████████████████████████████████████████████████████████████▏                                                                          | 618/1000 [00:04<00:02, 132.50it/s]\u001b[A\n",
      " 63%|███████████████████████████████████████████████████████████████████████████████████████████████████████████████████████████▊                                                                        | 632/1000 [00:04<00:02, 132.76it/s]\u001b[A\n",
      " 65%|██████████████████████████████████████████████████████████████████████████████████████████████████████████████████████████████▌                                                                     | 646/1000 [00:04<00:02, 132.76it/s]\u001b[A\n",
      " 66%|█████████████████████████████████████████████████████████████████████████████████████████████████████████████████████████████████▎                                                                  | 660/1000 [00:04<00:02, 132.81it/s]\u001b[A\n",
      " 67%|████████████████████████████████████████████████████████████████████████████████████████████████████████████████████████████████████                                                                | 674/1000 [00:05<00:02, 132.70it/s]\u001b[A\n",
      " 69%|██████████████████████████████████████████████████████████████████████████████████████████████████████████████████████████████████████▊                                                             | 688/1000 [00:05<00:02, 132.57it/s]\u001b[A\n",
      " 70%|█████████████████████████████████████████████████████████████████████████████████████████████████████████████████████████████████████████▌                                                          | 702/1000 [00:05<00:02, 132.90it/s]\u001b[A\n",
      " 72%|████████████████████████████████████████████████████████████████████████████████████████████████████████████████████████████████████████████▎                                                       | 716/1000 [00:05<00:02, 133.05it/s]\u001b[A\n",
      " 73%|███████████████████████████████████████████████████████████████████████████████████████████████████████████████████████████████████████████████                                                     | 730/1000 [00:05<00:02, 133.01it/s]\u001b[A\n",
      " 74%|█████████████████████████████████████████████████████████████████████████████████████████████████████████████████████████████████████████████████▊                                                  | 744/1000 [00:05<00:01, 133.09it/s]\u001b[A\n",
      " 76%|████████████████████████████████████████████████████████████████████████████████████████████████████████████████████████████████████████████████████▌                                               | 758/1000 [00:05<00:01, 133.47it/s]\u001b[A\n",
      " 77%|███████████████████████████████████████████████████████████████████████████████████████████████████████████████████████████████████████████████████████▎                                            | 772/1000 [00:05<00:01, 134.32it/s]\u001b[A\n",
      " 79%|██████████████████████████████████████████████████████████████████████████████████████████████████████████████████████████████████████████████████████████                                          | 786/1000 [00:05<00:01, 134.89it/s]\u001b[A\n",
      " 80%|████████████████████████████████████████████████████████████████████████████████████████████████████████████████████████████████████████████████████████████▊                                       | 800/1000 [00:06<00:01, 135.29it/s]\u001b[A\n",
      " 81%|███████████████████████████████████████████████████████████████████████████████████████████████████████████████████████████████████████████████████████████████▌                                    | 814/1000 [00:06<00:01, 135.52it/s]\u001b[A\n",
      " 83%|██████████████████████████████████████████████████████████████████████████████████████████████████████████████████████████████████████████████████████████████████▎                                 | 828/1000 [00:06<00:01, 135.50it/s]\u001b[A\n",
      " 84%|█████████████████████████████████████████████████████████████████████████████████████████████████████████████████████████████████████████████████████████████████████                               | 842/1000 [00:06<00:01, 135.76it/s]\u001b[A\n",
      " 86%|███████████████████████████████████████████████████████████████████████████████████████████████████████████████████████████████████████████████████████████████████████▊                            | 856/1000 [00:06<00:01, 135.92it/s]\u001b[A\n",
      " 87%|██████████████████████████████████████████████████████████████████████████████████████████████████████████████████████████████████████████████████████████████████████████▌                         | 870/1000 [00:06<00:00, 136.08it/s]\u001b[A\n",
      " 88%|█████████████████████████████████████████████████████████████████████████████████████████████████████████████████████████████████████████████████████████████████████████████▎                      | 884/1000 [00:06<00:00, 135.98it/s]\u001b[A\n",
      " 90%|████████████████████████████████████████████████████████████████████████████████████████████████████████████████████████████████████████████████████████████████████████████████                    | 898/1000 [00:06<00:00, 135.99it/s]\u001b[A\n",
      " 91%|██████████████████████████████████████████████████████████████████████████████████████████████████████████████████████████████████████████████████████████████████████████████████▊                 | 912/1000 [00:06<00:00, 135.84it/s]\u001b[A\n",
      " 93%|█████████████████████████████████████████████████████████████████████████████████████████████████████████████████████████████████████████████████████████████████████████████████████▍              | 926/1000 [00:06<00:00, 135.92it/s]\u001b[A\n",
      " 94%|████████████████████████████████████████████████████████████████████████████████████████████████████████████████████████████████████████████████████████████████████████████████████████▏           | 940/1000 [00:07<00:00, 135.92it/s]\u001b[A\n",
      " 95%|██████████████████████████████████████████████████████████████████████████████████████████████████████████████████████████████████████████████████████████████████████████████████████████▉         | 954/1000 [00:07<00:00, 135.87it/s]\u001b[A\n",
      " 97%|█████████████████████████████████████████████████████████████████████████████████████████████████████████████████████████████████████████████████████████████████████████████████████████████▋      | 968/1000 [00:07<00:00, 135.98it/s]\u001b[A\n",
      " 98%|████████████████████████████████████████████████████████████████████████████████████████████████████████████████████████████████████████████████████████████████████████████████████████████████▍   | 982/1000 [00:07<00:00, 135.71it/s]\u001b[A\n",
      "100%|███████████████████████████████████████████████████████████████████████████████████████████████████████████████████████████████████████████████████████████████████████████████████████████████████| 1000/1000 [00:07<00:00, 133.34it/s]\u001b[A\n"
     ]
    },
    {
     "name": "stdout",
     "output_type": "stream",
     "text": [
      "one-sample\n"
     ]
    },
    {
     "name": "stderr",
     "output_type": "stream",
     "text": [
      "\n",
      "  0%|                                                                                                                                                                                                               | 0/1000 [00:00<?, ?it/s]\u001b[A\n",
      "  2%|██▉                                                                                                                                                                                                  | 15/1000 [00:00<00:06, 142.41it/s]\u001b[A\n",
      "  3%|█████▉                                                                                                                                                                                               | 30/1000 [00:00<00:07, 137.57it/s]\u001b[A\n",
      "  4%|████████▋                                                                                                                                                                                            | 44/1000 [00:00<00:07, 136.16it/s]\u001b[A\n",
      "  6%|███████████▍                                                                                                                                                                                         | 58/1000 [00:00<00:06, 135.49it/s]\u001b[A\n",
      "  7%|██████████████▏                                                                                                                                                                                      | 72/1000 [00:00<00:06, 134.90it/s]\u001b[A\n",
      "  9%|████████████████▉                                                                                                                                                                                    | 86/1000 [00:00<00:06, 134.57it/s]\u001b[A\n",
      " 10%|███████████████████▌                                                                                                                                                                                | 100/1000 [00:00<00:06, 134.45it/s]\u001b[A\n",
      " 11%|██████████████████████▎                                                                                                                                                                             | 114/1000 [00:00<00:06, 134.38it/s]\u001b[A\n",
      " 13%|█████████████████████████                                                                                                                                                                           | 128/1000 [00:00<00:06, 134.33it/s]\u001b[A\n",
      " 14%|███████████████████████████▊                                                                                                                                                                        | 142/1000 [00:01<00:06, 134.25it/s]\u001b[A\n",
      " 16%|██████████████████████████████▌                                                                                                                                                                     | 156/1000 [00:01<00:06, 134.16it/s]\u001b[A\n",
      " 17%|█████████████████████████████████▎                                                                                                                                                                  | 170/1000 [00:01<00:06, 134.10it/s]\u001b[A\n",
      " 18%|████████████████████████████████████                                                                                                                                                                | 184/1000 [00:01<00:06, 134.14it/s]\u001b[A\n",
      " 20%|██████████████████████████████████████▊                                                                                                                                                             | 198/1000 [00:01<00:05, 134.28it/s]\u001b[A\n",
      " 21%|█████████████████████████████████████████▌                                                                                                                                                          | 212/1000 [00:01<00:05, 134.55it/s]\u001b[A\n",
      " 23%|████████████████████████████████████████████▎                                                                                                                                                       | 226/1000 [00:01<00:05, 134.60it/s]\u001b[A\n",
      " 24%|███████████████████████████████████████████████                                                                                                                                                     | 240/1000 [00:01<00:05, 134.38it/s]\u001b[A\n",
      " 25%|█████████████████████████████████████████████████▊                                                                                                                                                  | 254/1000 [00:01<00:05, 134.56it/s]\u001b[A\n",
      " 27%|████████████████████████████████████████████████████▌                                                                                                                                               | 268/1000 [00:01<00:05, 134.54it/s]\u001b[A\n",
      " 28%|███████████████████████████████████████████████████████▎                                                                                                                                            | 282/1000 [00:02<00:05, 134.54it/s]\u001b[A\n",
      " 30%|██████████████████████████████████████████████████████████                                                                                                                                          | 296/1000 [00:02<00:05, 134.78it/s]\u001b[A\n",
      " 31%|████████████████████████████████████████████████████████████▊                                                                                                                                       | 310/1000 [00:02<00:05, 134.67it/s]\u001b[A\n",
      " 32%|███████████████████████████████████████████████████████████████▌                                                                                                                                    | 324/1000 [00:02<00:05, 134.97it/s]\u001b[A\n",
      " 34%|██████████████████████████████████████████████████████████████████▏                                                                                                                                 | 338/1000 [00:02<00:04, 135.06it/s]\u001b[A\n",
      " 35%|████████████████████████████████████████████████████████████████████▉                                                                                                                               | 352/1000 [00:02<00:04, 134.99it/s]\u001b[A\n",
      " 37%|███████████████████████████████████████████████████████████████████████▋                                                                                                                            | 366/1000 [00:02<00:04, 135.26it/s]\u001b[A\n",
      " 38%|██████████████████████████████████████████████████████████████████████████▍                                                                                                                         | 380/1000 [00:02<00:04, 135.62it/s]\u001b[A\n",
      " 39%|█████████████████████████████████████████████████████████████████████████████▏                                                                                                                      | 394/1000 [00:02<00:04, 135.45it/s]\u001b[A\n",
      " 41%|███████████████████████████████████████████████████████████████████████████████▉                                                                                                                    | 408/1000 [00:03<00:04, 135.86it/s]\u001b[A\n",
      " 42%|██████████████████████████████████████████████████████████████████████████████████▋                                                                                                                 | 422/1000 [00:03<00:04, 136.26it/s]\u001b[A\n",
      " 44%|█████████████████████████████████████████████████████████████████████████████████████▍                                                                                                              | 436/1000 [00:03<00:04, 136.36it/s]\u001b[A\n",
      " 45%|████████████████████████████████████████████████████████████████████████████████████████▏                                                                                                           | 450/1000 [00:03<00:04, 136.10it/s]\u001b[A\n",
      " 46%|██████████████████████████████████████████████████████████████████████████████████████████▉                                                                                                         | 464/1000 [00:03<00:03, 135.57it/s]\u001b[A\n",
      " 48%|█████████████████████████████████████████████████████████████████████████████████████████████▋                                                                                                      | 478/1000 [00:03<00:03, 135.40it/s]\u001b[A\n",
      " 49%|████████████████████████████████████████████████████████████████████████████████████████████████▍                                                                                                   | 492/1000 [00:03<00:03, 135.42it/s]\u001b[A\n",
      " 51%|███████████████████████████████████████████████████████████████████████████████████████████████████▏                                                                                                | 506/1000 [00:03<00:03, 135.27it/s]\u001b[A\n",
      " 52%|█████████████████████████████████████████████████████████████████████████████████████████████████████▉                                                                                              | 520/1000 [00:03<00:03, 135.30it/s]\u001b[A\n",
      " 53%|████████████████████████████████████████████████████████████████████████████████████████████████████████▋                                                                                           | 534/1000 [00:03<00:03, 135.05it/s]\u001b[A\n",
      " 55%|███████████████████████████████████████████████████████████████████████████████████████████████████████████▍                                                                                        | 548/1000 [00:04<00:03, 135.04it/s]\u001b[A\n",
      " 56%|██████████████████████████████████████████████████████████████████████████████████████████████████████████████▏                                                                                     | 562/1000 [00:04<00:03, 135.08it/s]\u001b[A\n",
      " 58%|████████████████████████████████████████████████████████████████████████████████████████████████████████████████▉                                                                                   | 576/1000 [00:04<00:03, 135.11it/s]\u001b[A\n",
      " 59%|███████████████████████████████████████████████████████████████████████████████████████████████████████████████████▋                                                                                | 590/1000 [00:04<00:03, 135.06it/s]\u001b[A\n",
      " 60%|██████████████████████████████████████████████████████████████████████████████████████████████████████████████████████▍                                                                             | 604/1000 [00:04<00:02, 134.94it/s]\u001b[A\n",
      " 62%|█████████████████████████████████████████████████████████████████████████████████████████████████████████████████████████▏                                                                          | 618/1000 [00:04<00:02, 134.93it/s]\u001b[A\n",
      " 63%|███████████████████████████████████████████████████████████████████████████████████████████████████████████████████████████▊                                                                        | 632/1000 [00:04<00:02, 135.16it/s]\u001b[A\n",
      " 65%|██████████████████████████████████████████████████████████████████████████████████████████████████████████████████████████████▌                                                                     | 646/1000 [00:04<00:02, 135.03it/s]\u001b[A\n",
      " 66%|█████████████████████████████████████████████████████████████████████████████████████████████████████████████████████████████████▎                                                                  | 660/1000 [00:04<00:02, 135.12it/s]\u001b[A\n",
      " 67%|████████████████████████████████████████████████████████████████████████████████████████████████████████████████████████████████████                                                                | 674/1000 [00:04<00:02, 135.34it/s]\u001b[A\n",
      " 69%|██████████████████████████████████████████████████████████████████████████████████████████████████████████████████████████████████████▊                                                             | 688/1000 [00:05<00:02, 135.24it/s]\u001b[A\n",
      " 70%|█████████████████████████████████████████████████████████████████████████████████████████████████████████████████████████████████████████▌                                                          | 702/1000 [00:05<00:02, 134.72it/s]\u001b[A\n",
      " 72%|████████████████████████████████████████████████████████████████████████████████████████████████████████████████████████████████████████████▎                                                       | 716/1000 [00:05<00:02, 134.91it/s]\u001b[A\n",
      " 73%|███████████████████████████████████████████████████████████████████████████████████████████████████████████████████████████████████████████████                                                     | 730/1000 [00:05<00:01, 135.19it/s]\u001b[A\n",
      " 74%|█████████████████████████████████████████████████████████████████████████████████████████████████████████████████████████████████████████████████▊                                                  | 744/1000 [00:05<00:01, 135.30it/s]\u001b[A\n",
      " 76%|████████████████████████████████████████████████████████████████████████████████████████████████████████████████████████████████████████████████████▌                                               | 758/1000 [00:05<00:01, 135.57it/s]\u001b[A\n",
      " 77%|███████████████████████████████████████████████████████████████████████████████████████████████████████████████████████████████████████████████████████▎                                            | 772/1000 [00:05<00:01, 136.30it/s]\u001b[A\n",
      " 79%|██████████████████████████████████████████████████████████████████████████████████████████████████████████████████████████████████████████████████████████                                          | 786/1000 [00:05<00:01, 136.96it/s]\u001b[A\n",
      " 80%|████████████████████████████████████████████████████████████████████████████████████████████████████████████████████████████████████████████████████████████▊                                       | 800/1000 [00:05<00:01, 137.40it/s]\u001b[A\n",
      " 81%|███████████████████████████████████████████████████████████████████████████████████████████████████████████████████████████████████████████████████████████████▌                                    | 814/1000 [00:06<00:01, 137.77it/s]\u001b[A\n",
      " 83%|██████████████████████████████████████████████████████████████████████████████████████████████████████████████████████████████████████████████████████████████████▎                                 | 828/1000 [00:06<00:01, 137.70it/s]\u001b[A\n",
      " 84%|█████████████████████████████████████████████████████████████████████████████████████████████████████████████████████████████████████████████████████████████████████                               | 842/1000 [00:06<00:01, 137.85it/s]\u001b[A\n",
      " 86%|███████████████████████████████████████████████████████████████████████████████████████████████████████████████████████████████████████████████████████████████████████▊                            | 856/1000 [00:06<00:01, 137.96it/s]\u001b[A\n",
      " 87%|██████████████████████████████████████████████████████████████████████████████████████████████████████████████████████████████████████████████████████████████████████████▌                         | 870/1000 [00:06<00:00, 138.08it/s]\u001b[A\n",
      " 88%|█████████████████████████████████████████████████████████████████████████████████████████████████████████████████████████████████████████████████████████████████████████████▎                      | 884/1000 [00:06<00:00, 138.05it/s]\u001b[A\n",
      " 90%|████████████████████████████████████████████████████████████████████████████████████████████████████████████████████████████████████████████████████████████████████████████████                    | 898/1000 [00:06<00:00, 138.07it/s]\u001b[A\n",
      " 91%|██████████████████████████████████████████████████████████████████████████████████████████████████████████████████████████████████████████████████████████████████████████████████▊                 | 912/1000 [00:06<00:00, 137.91it/s]\u001b[A\n",
      " 93%|█████████████████████████████████████████████████████████████████████████████████████████████████████████████████████████████████████████████████████████████████████████████████████▍              | 926/1000 [00:06<00:00, 138.12it/s]\u001b[A\n",
      " 94%|████████████████████████████████████████████████████████████████████████████████████████████████████████████████████████████████████████████████████████████████████████████████████████▏           | 940/1000 [00:06<00:00, 138.22it/s]\u001b[A\n",
      " 95%|██████████████████████████████████████████████████████████████████████████████████████████████████████████████████████████████████████████████████████████████████████████████████████████▉         | 954/1000 [00:07<00:00, 138.24it/s]\u001b[A\n",
      " 97%|█████████████████████████████████████████████████████████████████████████████████████████████████████████████████████████████████████████████████████████████████████████████████████████████▋      | 968/1000 [00:07<00:00, 138.46it/s]\u001b[A\n",
      " 98%|████████████████████████████████████████████████████████████████████████████████████████████████████████████████████████████████████████████████████████████████████████████████████████████████▍   | 982/1000 [00:07<00:00, 138.19it/s]\u001b[A\n",
      "100%|███████████████████████████████████████████████████████████████████████████████████████████████████████████████████████████████████████████████████████████████████████████████████████████████████| 1000/1000 [00:07<00:00, 135.81it/s]\u001b[A\n"
     ]
    }
   ],
   "source": [
    "res = ksd_experiment_single(kernel_class, Xs, score_fns, nboot=1000)"
   ]
  },
  {
   "cell_type": "code",
   "execution_count": 7,
   "id": "838b7be2-6403-4c0e-b9d5-71df96a1eca2",
   "metadata": {},
   "outputs": [],
   "source": [
    "# get test statistic and bootstrap stats\n",
    "boot_stat = res[\"boot\"][\"boot_stat\"][0]\n",
    "stat = res[\"boot\"][\"val\"][0]"
   ]
  },
  {
   "cell_type": "code",
   "execution_count": 12,
   "id": "898ac5fc-f9d0-48d8-b01b-fc35eae46ac6",
   "metadata": {},
   "outputs": [],
   "source": [
    "np.random.seed(2024)"
   ]
  },
  {
   "cell_type": "code",
   "execution_count": 13,
   "id": "ad7e9c43-1fd5-4c82-89d7-e69b1e51160a",
   "metadata": {},
   "outputs": [
    {
     "data": {
      "application/vnd.jupyter.widget-view+json": {
       "model_id": "179b1e85fbfc4382842319176a7534dd",
       "version_major": 2,
       "version_minor": 0
      },
      "text/plain": [
       "  0%|          | 0/1000 [00:00<?, ?it/s]"
      ]
     },
     "metadata": {},
     "output_type": "display_data"
    }
   ],
   "source": [
    "# simulate sampling distribution for stat\n",
    "stat_ls = []\n",
    "Xs = np.random.multivariate_normal(mean1, np.eye(dim), (1000, n))\n",
    "score_fn = score_fns[0]\n",
    "\n",
    "kernel = kernels.RBF(sigma_sq=2.)\n",
    "ksd = metrics.KSD(kernel, score_fn=score_fn)\n",
    "for X in tqdm(Xs):\n",
    "    stat_ls.append(ksd(X, X, vstat=True))"
   ]
  },
  {
   "cell_type": "code",
   "execution_count": 10,
   "id": "96c81f03-27c5-469e-8b93-74334df35687",
   "metadata": {},
   "outputs": [
    {
     "name": "stdout",
     "output_type": "stream",
     "text": [
      "one-sample\n"
     ]
    },
    {
     "name": "stderr",
     "output_type": "stream",
     "text": [
      "100%|███████████████████████████████████████████████████████████████████████████████████████████████████████████████████████████████████████████████████████████████████████████████████████████████████| 1000/1000 [00:07<00:00, 136.19it/s]\n"
     ]
    }
   ],
   "source": [
    "np.random.seed(2024)\n",
    "efron_bootstrap = boot.EfronBootstrap(ksd, ndraws=1000)\n",
    "efron_boot_stats, efron_test_stat = efron_bootstrap.compute_bootstrap(Xs[0])"
   ]
  },
  {
   "cell_type": "code",
   "execution_count": 15,
   "id": "eca0ff87-9107-485d-9080-e55acad33d64",
   "metadata": {},
   "outputs": [
    {
     "data": {
      "text/plain": [
       "<matplotlib.lines.Line2D at 0x7f90324af3a0>"
      ]
     },
     "execution_count": 15,
     "metadata": {},
     "output_type": "execute_result"
    },
    {
     "data": {
      "image/png": "[encoded data removed]",
      "text/plain": [
       "<Figure size 640x480 with 1 Axes>"
      ]
     },
     "metadata": {},
     "output_type": "display_data"
    }
   ],
   "source": [
    "_ = plt.hist(stat_ls, bins=50, alpha=0.2, color=\"C1\")\n",
    "_ = plt.hist(efron_boot_stats, bins=50, alpha=0.2, color=\"C2\")\n",
    "\n",
    "plt.axvline(efron_test_stat, color=\"grey\")"
   ]
  },
  {
   "cell_type": "code",
   "execution_count": 82,
   "id": "8976055f-7920-404f-bb2e-0750c1224eae",
   "metadata": {},
   "outputs": [
    {
     "data": {
      "text/plain": [
       "(0.05, 0.007)"
      ]
     },
     "execution_count": 82,
     "metadata": {},
     "output_type": "execute_result"
    }
   ],
   "source": [
    "t = np.percentile(efron_boot_stats, 95)\n",
    "prop_larger(t, efron_boot_stats), prop_larger(t, stat_ls)"
   ]
  },
  {
   "cell_type": "code",
   "execution_count": 27,
   "id": "9d678f89-c148-4c35-9fe6-b520e03a92ed",
   "metadata": {},
   "outputs": [
    {
     "data": {
      "text/plain": [
       "[0.0020215138269906057, 0.0025863062444021804, 0.0017635422209850654]"
      ]
     },
     "execution_count": 27,
     "metadata": {},
     "output_type": "execute_result"
    }
   ],
   "source": [
    "xx = Xs[:3]\n",
    "rr = []\n",
    "for xxx in xx:\n",
    "    rr.append(ksd(xxx, xxx, vstat=True))\n",
    "rr"
   ]
  },
  {
   "cell_type": "code",
   "execution_count": 28,
   "id": "7453537d-3433-4139-9eba-68a782c765fb",
   "metadata": {},
   "outputs": [
    {
     "data": {
      "text/plain": [
       "array([0.00202151, 0.00258631, 0.00176354])"
      ]
     },
     "execution_count": 28,
     "metadata": {},
     "output_type": "execute_result"
    }
   ],
   "source": [
    "ksd(xx, xx, vstat=True)"
   ]
  },
  {
   "cell_type": "code",
   "execution_count": 138,
   "id": "b27c3186-bea4-4469-ba27-77e92d85ea3d",
   "metadata": {},
   "outputs": [
    {
     "name": "stdout",
     "output_type": "stream",
     "text": [
      "one-sample\n"
     ]
    },
    {
     "name": "stderr",
     "output_type": "stream",
     "text": [
      "100%|██████████████████████████████████████████████████████████████████████████████████████████████████████████████████████████████████████████████████████████████████████████████████████████████████████████| 5/5 [00:00<00:00, 32.12it/s]\n"
     ]
    },
    {
     "data": {
      "text/plain": [
       "(array([0.00451231, 0.00285355, 0.00267437, 0.00267581, 0.00869919]),\n",
       " 0.0020215138269906057)"
      ]
     },
     "execution_count": 138,
     "metadata": {},
     "output_type": "execute_result"
    }
   ],
   "source": [
    "np.random.seed(2024)\n",
    "efron_bootstrap.ndraws = 5\n",
    "efron_bootstrap.compute_bootstrap(xx[0])"
   ]
  },
  {
   "cell_type": "code",
   "execution_count": 94,
   "id": "c901101e-1284-48e8-8ecd-881cd104739d",
   "metadata": {},
   "outputs": [
    {
     "name": "stdout",
     "output_type": "stream",
     "text": [
      "one-sample\n"
     ]
    },
    {
     "data": {
      "text/plain": [
       "(array([0.00451231, 0.00285355, 0.00267437, 0.00267581, 0.00869919]),\n",
       " 0.0020215138269906057)"
      ]
     },
     "execution_count": 94,
     "metadata": {},
     "output_type": "execute_result"
    }
   ],
   "source": [
    "np.random.seed(2024)\n",
    "efron_bootstrap.compute_bootstrap(xx[0])"
   ]
  },
  {
   "cell_type": "code",
   "execution_count": 45,
   "id": "14c62188-2fc3-454b-bd4b-448686b70204",
   "metadata": {},
   "outputs": [
    {
     "data": {
      "text/plain": [
       "array([[1., 0., 0.],\n",
       "       [0., 1., 0.],\n",
       "       [1., 0., 0.]])"
      ]
     },
     "execution_count": 45,
     "metadata": {},
     "output_type": "execute_result"
    }
   ],
   "source": [
    "ii = [0, 1, 0]\n",
    "AA = np.eye(3)\n",
    "AA[ii]"
   ]
  },
  {
   "cell_type": "code",
   "execution_count": 46,
   "id": "72cfb213-a20d-46d8-ad7c-85417df76e22",
   "metadata": {},
   "outputs": [
    {
     "data": {
      "text/plain": [
       "array([1., 0., 0., 0., 1., 0., 0., 0., 1.])"
      ]
     },
     "execution_count": 46,
     "metadata": {},
     "output_type": "execute_result"
    }
   ],
   "source": [
    "np.reshape(AA, (-1,))"
   ]
  },
  {
   "cell_type": "code",
   "execution_count": 47,
   "id": "050de9cc-85bc-4f9f-b420-44fa5e24cd02",
   "metadata": {},
   "outputs": [],
   "source": [
    "ii_conv = np.array([[i1, i2] for i2 in ii for i1 in ii])"
   ]
  },
  {
   "cell_type": "code",
   "execution_count": 49,
   "id": "9c8650d3-86a9-48d2-be58-91c309089244",
   "metadata": {},
   "outputs": [
    {
     "data": {
      "text/plain": [
       "array([[1., 0., 1.],\n",
       "       [0., 1., 0.],\n",
       "       [1., 0., 1.]])"
      ]
     },
     "execution_count": 49,
     "metadata": {},
     "output_type": "execute_result"
    }
   ],
   "source": [
    "np.reshape(AA[ii_conv[:, 0], ii_conv[:, 1]], AA.shape)"
   ]
  },
  {
   "cell_type": "code",
   "execution_count": 61,
   "id": "8de38311-46b5-4ad6-b55a-f19648a2b18b",
   "metadata": {},
   "outputs": [
    {
     "data": {
      "text/plain": [
       "array([[1., 0., 1.],\n",
       "       [0., 1., 0.],\n",
       "       [1., 0., 1.]])"
      ]
     },
     "execution_count": 61,
     "metadata": {},
     "output_type": "execute_result"
    }
   ],
   "source": [
    "ii1, ii2 = np.meshgrid(ii, ii)\n",
    "AA[ii1, ii2]"
   ]
  },
  {
   "cell_type": "code",
   "execution_count": 73,
   "id": "9f662118-544b-437f-8bfb-27a6c326cddc",
   "metadata": {},
   "outputs": [
    {
     "data": {
      "text/plain": [
       "(2, 3, 3)"
      ]
     },
     "execution_count": 73,
     "metadata": {},
     "output_type": "execute_result"
    }
   ],
   "source": [
    "iib1 = np.repeat(ii1[np.newaxis], 2, 0)\n",
    "iib2 = np.repeat(ii2[np.newaxis], 2, 0)\n",
    "iib1.shape"
   ]
  },
  {
   "cell_type": "code",
   "execution_count": 75,
   "id": "bcaf22d2-f92e-4bbf-8e50-bc4876d994ba",
   "metadata": {},
   "outputs": [
    {
     "data": {
      "text/plain": [
       "array([[[1., 0., 1.],\n",
       "        [0., 1., 0.],\n",
       "        [1., 0., 1.]],\n",
       "\n",
       "       [[1., 0., 1.],\n",
       "        [0., 1., 0.],\n",
       "        [1., 0., 1.]]])"
      ]
     },
     "execution_count": 75,
     "metadata": {},
     "output_type": "execute_result"
    }
   ],
   "source": [
    "AA[iib1, iib2]"
   ]
  },
  {
   "cell_type": "code",
   "execution_count": 98,
   "id": "332ef7b8-60a1-4cb3-a1a6-ea620eb1f2a8",
   "metadata": {},
   "outputs": [
    {
     "data": {
      "text/plain": [
       "(1000, 1000)"
      ]
     },
     "execution_count": 98,
     "metadata": {},
     "output_type": "execute_result"
    }
   ],
   "source": [
    "vv = ksd.vstat(xx[0], xx[0])\n",
    "vv"
   ]
  },
  {
   "cell_type": "code",
   "execution_count": 131,
   "id": "e449ee09-98ee-4f61-9fc5-af87b2088eb4",
   "metadata": {},
   "outputs": [
    {
     "data": {
      "text/plain": [
       "[array([[3.78238187, 0.32264409, 3.78238187],\n",
       "        [0.32264409, 1.54368167, 0.32264409],\n",
       "        [3.78238187, 0.32264409, 3.78238187]]),\n",
       " array([[3.78238187, 0.32264409, 3.78238187],\n",
       "        [0.32264409, 1.54368167, 0.32264409],\n",
       "        [3.78238187, 0.32264409, 3.78238187]])]"
      ]
     },
     "execution_count": 131,
     "metadata": {},
     "output_type": "execute_result"
    }
   ],
   "source": [
    "def ff(jj):\n",
    "    return vv[iib1[jj], iib2[jj]]\n",
    "\n",
    "ff_vec = np.vectorize(ff)\n",
    "# ff_vec(np.arange(0, iib1.shape[0], 1))\n",
    "# ff_vec(np.array([0, 1], np.int64))"
   ]
  },
  {
   "cell_type": "code",
   "execution_count": 127,
   "id": "e6c89cb8-67bf-4c2d-af52-159521097009",
   "metadata": {},
   "outputs": [
    {
     "data": {
      "text/plain": [
       "array([0, 1])"
      ]
     },
     "execution_count": 127,
     "metadata": {},
     "output_type": "execute_result"
    }
   ],
   "source": [
    "np.arange(0, iib1.shape[0])"
   ]
  },
  {
   "cell_type": "code",
   "execution_count": 116,
   "id": "fb15487d-bc61-4346-8e8c-c53876b39ecd",
   "metadata": {},
   "outputs": [
    {
     "data": {
      "text/plain": [
       "(2, 3, 3)"
      ]
     },
     "execution_count": 116,
     "metadata": {},
     "output_type": "execute_result"
    }
   ],
   "source": [
    "iib1.shape"
   ]
  },
  {
   "cell_type": "code",
   "execution_count": 37,
   "id": "375993a9-8d21-46e8-bd44-c569a4308b96",
   "metadata": {},
   "outputs": [
    {
     "data": {
      "image/png": "[encoded data removed]",
      "text/plain": [
       "<Figure size 1600x300 with 4 Axes>"
      ]
     },
     "metadata": {},
     "output_type": "display_data"
    }
   ],
   "source": [
    "figs, axes = plt.subplots(nrows=1, ncols=4, figsize=(16, 3))\n",
    "\n",
    "ax = axes[0]\n",
    "sns.ecdfplot(ax=ax, x=res[\"boot\"][\"pval\"])\n",
    "_ = ax.axline((0., 0.), slope=1., color=\"grey\", linestyle=\"--\")\n",
    "ax.set_xlim(-0.01, 1.01)\n",
    "ax.set_ylim(0., 1.)\n",
    "_ = ax.set_xlabel(\"p-value\")\n"
   ]
  },
  {
   "cell_type": "markdown",
   "id": "ab15d1c3-9718-4c51-9ac1-ae2c65e2569b",
   "metadata": {},
   "source": [
    "Simulating test statistic with increasing outlier vals (non-robustness of KSD)"
   ]
  },
  {
   "cell_type": "code",
   "execution_count": 81,
   "id": "c7644ee6-46bf-46ed-a47f-3da401786442",
   "metadata": {},
   "outputs": [],
   "source": [
    "np.random.seed(2024)"
   ]
  },
  {
   "cell_type": "code",
   "execution_count": 82,
   "id": "38ec4b31-b6fe-46ad-8532-8c0b921644a8",
   "metadata": {},
   "outputs": [
    {
     "data": {
      "application/vnd.jupyter.widget-view+json": {
       "model_id": "015e5b159b3a442683adc48b86140a9b",
       "version_major": 2,
       "version_minor": 0
      },
      "text/plain": [
       "  0%|          | 0/1000 [00:00<?, ?it/s]"
      ]
     },
     "metadata": {},
     "output_type": "display_data"
    },
    {
     "data": {
      "application/vnd.jupyter.widget-view+json": {
       "model_id": "72106409103c4655b4246f4a1b58f9e2",
       "version_major": 2,
       "version_minor": 0
      },
      "text/plain": [
       "  0%|          | 0/1000 [00:00<?, ?it/s]"
      ]
     },
     "metadata": {},
     "output_type": "display_data"
    },
    {
     "data": {
      "application/vnd.jupyter.widget-view+json": {
       "model_id": "5ffaed987bd4457d83f2cb984edd4b70",
       "version_major": 2,
       "version_minor": 0
      },
      "text/plain": [
       "  0%|          | 0/1000 [00:00<?, ?it/s]"
      ]
     },
     "metadata": {},
     "output_type": "display_data"
    },
    {
     "data": {
      "application/vnd.jupyter.widget-view+json": {
       "model_id": "87952623a3c44affad54bf7f2b3d2d62",
       "version_major": 2,
       "version_minor": 0
      },
      "text/plain": [
       "  0%|          | 0/1000 [00:00<?, ?it/s]"
      ]
     },
     "metadata": {},
     "output_type": "display_data"
    },
    {
     "data": {
      "application/vnd.jupyter.widget-view+json": {
       "model_id": "aacfe2398773482d9fc8c7b295909c25",
       "version_major": 2,
       "version_minor": 0
      },
      "text/plain": [
       "  0%|          | 0/1000 [00:00<?, ?it/s]"
      ]
     },
     "metadata": {},
     "output_type": "display_data"
    },
    {
     "data": {
      "application/vnd.jupyter.widget-view+json": {
       "model_id": "dfeb4606b61644c59ca6fc3299afe139",
       "version_major": 2,
       "version_minor": 0
      },
      "text/plain": [
       "  0%|          | 0/1000 [00:00<?, ?it/s]"
      ]
     },
     "metadata": {},
     "output_type": "display_data"
    }
   ],
   "source": [
    "# simulate sampling distribution for stat\n",
    "stats_ls_all_ol = []\n",
    "outliers_ls = [0.001, 0.01, 0.1, 1., 10., 100.]\n",
    "\n",
    "for outlier in outliers_ls:\n",
    "    stat_ls = []\n",
    "    \n",
    "    ###\n",
    "    mean1 = np.zeros((dim,)) # data\n",
    "    mean2 = np.zeros((dim,)) # model\n",
    "    \n",
    "    eps = 0.01\n",
    "    Xs = np.random.multivariate_normal(mean1, np.eye(dim), (1000, n))\n",
    "    n_outlier = max(1, int(n * eps))\n",
    "    Xs[:, :n_outlier] = outlier\n",
    "\n",
    "    score_fn = lambda x: - (x - mean2)\n",
    "    ###\n",
    "    \n",
    "    kernel = kernels.RBF(sigma_sq=2.)\n",
    "    ksd = metrics.KSD(kernel, score_fn=score_fn)\n",
    "    for X in tqdm(Xs):\n",
    "        stat_ls.append(ksd(X, X))\n",
    "\n",
    "    stats_ls_all_ol.append(stat_ls)"
   ]
  },
  {
   "cell_type": "code",
   "execution_count": 64,
   "id": "a22bca9b-28c3-4ae3-89f5-f9c61c0a76e6",
   "metadata": {},
   "outputs": [],
   "source": [
    "# # stats_ls_all2 = stats_ls_all\n",
    "\n",
    "# stats_ls_all3 = stats_ls_all\n",
    "\n",
    "# outliers_ls = [0.001, 0.01, 0.1, 1., 10., 100.]\n",
    "# stats_ls_all = stats_ls_all + stats_ls_all2"
   ]
  },
  {
   "cell_type": "code",
   "execution_count": 75,
   "id": "7355ce48-f00f-42c7-83a6-2852027c8030",
   "metadata": {},
   "outputs": [
    {
     "data": {
      "image/png": "[encoded data removed]",
      "text/plain": [
       "<Figure size 900x600 with 6 Axes>"
      ]
     },
     "metadata": {},
     "output_type": "display_data"
    }
   ],
   "source": [
    "# true sampling distribution\n",
    "figs, axes = plt.subplots(nrows=2, ncols=3, figsize=(9, 6))\n",
    "\n",
    "for i, ww in enumerate(outliers_ls):\n",
    "    ax = axes.flatten()[i]\n",
    "    ax.hist(stats_ls_all_ol[i], bins=50, label=f\"outlier = {ww}\")\n",
    "    ax.set_xlim(0., 0.02)\n",
    "    ax.legend()"
   ]
  },
  {
   "cell_type": "code",
   "execution_count": 65,
   "id": "ad25e3cd-b01c-487c-af28-ed7f13448057",
   "metadata": {},
   "outputs": [
    {
     "data": {
      "image/png": "[encoded data removed]",
      "text/plain": [
       "<Figure size 900x600 with 6 Axes>"
      ]
     },
     "metadata": {},
     "output_type": "display_data"
    }
   ],
   "source": [
    "# true sampling distribution\n",
    "figs, axes = plt.subplots(nrows=2, ncols=3, figsize=(9, 6))\n",
    "\n",
    "for i, ww in enumerate(outliers_ls):\n",
    "    ax = axes.flatten()[i]\n",
    "    ax.hist(stats_ls_all_ol[i], bins=50, label=f\"outlier = {ww}\")\n",
    "    ax.legend()"
   ]
  },
  {
   "cell_type": "markdown",
   "id": "0840fa45-c751-44df-92b9-150f6fb333e5",
   "metadata": {},
   "source": [
    "Simulating test statistic with increasing contam levels (non-robustness of KSD)"
   ]
  },
  {
   "cell_type": "code",
   "execution_count": 66,
   "id": "841711c9-177f-4913-a5e2-3a23787e9926",
   "metadata": {},
   "outputs": [],
   "source": [
    "np.random.seed(2024)"
   ]
  },
  {
   "cell_type": "code",
   "execution_count": 67,
   "id": "dee55891-5a16-4023-81d0-74a0ec1a87b6",
   "metadata": {},
   "outputs": [
    {
     "data": {
      "application/vnd.jupyter.widget-view+json": {
       "model_id": "a6c8830e2f5a49a984fcd8f90acefeef",
       "version_major": 2,
       "version_minor": 0
      },
      "text/plain": [
       "  0%|          | 0/1000 [00:00<?, ?it/s]"
      ]
     },
     "metadata": {},
     "output_type": "display_data"
    },
    {
     "data": {
      "application/vnd.jupyter.widget-view+json": {
       "model_id": "b1373e7dd329480ab93ddd787dce1a61",
       "version_major": 2,
       "version_minor": 0
      },
      "text/plain": [
       "  0%|          | 0/1000 [00:00<?, ?it/s]"
      ]
     },
     "metadata": {},
     "output_type": "display_data"
    },
    {
     "data": {
      "application/vnd.jupyter.widget-view+json": {
       "model_id": "dcd1871605ea4f6991a4ba8ccb42f1c3",
       "version_major": 2,
       "version_minor": 0
      },
      "text/plain": [
       "  0%|          | 0/1000 [00:00<?, ?it/s]"
      ]
     },
     "metadata": {},
     "output_type": "display_data"
    },
    {
     "data": {
      "application/vnd.jupyter.widget-view+json": {
       "model_id": "e18a2d104a0f4b30a2b96479ef5c0479",
       "version_major": 2,
       "version_minor": 0
      },
      "text/plain": [
       "  0%|          | 0/1000 [00:00<?, ?it/s]"
      ]
     },
     "metadata": {},
     "output_type": "display_data"
    },
    {
     "data": {
      "application/vnd.jupyter.widget-view+json": {
       "model_id": "465b4f70c8554e0d9505879bbfed5e21",
       "version_major": 2,
       "version_minor": 0
      },
      "text/plain": [
       "  0%|          | 0/1000 [00:00<?, ?it/s]"
      ]
     },
     "metadata": {},
     "output_type": "display_data"
    }
   ],
   "source": [
    "# simulate sampling distribution for stat\n",
    "stats_ls_all_eps = []\n",
    "eps_ls = [0.001, 0.005, 0.01, 0.05, 0.1]\n",
    "\n",
    "for eps in eps_ls:\n",
    "    stat_ls = []\n",
    "    \n",
    "    ###\n",
    "    mean1 = np.zeros((dim,)) # data\n",
    "    mean2 = np.zeros((dim,)) # model\n",
    "    \n",
    "    Xs = np.random.multivariate_normal(mean1, np.eye(dim), (1000, n))\n",
    "    n_outlier = max(1, int(n * eps))\n",
    "    Xs[:, :n_outlier] = outlier\n",
    "\n",
    "    score_fn = lambda x: - (x - mean2)\n",
    "    ###\n",
    "    \n",
    "    kernel = kernels.RBF(sigma_sq=2.)\n",
    "    ksd = metrics.KSD(kernel, score_fn=score_fn)\n",
    "    for X in tqdm(Xs):\n",
    "        stat_ls.append(ksd(X, X, vstat=True))\n",
    "\n",
    "    stats_ls_all_eps.append(stat_ls)"
   ]
  },
  {
   "cell_type": "code",
   "execution_count": 71,
   "id": "893a00a3-1104-4c5f-b3be-3ebcd237de6e",
   "metadata": {},
   "outputs": [
    {
     "data": {
      "image/png": "[encoded data removed]",
      "text/plain": [
       "<Figure size 900x600 with 6 Axes>"
      ]
     },
     "metadata": {},
     "output_type": "display_data"
    }
   ],
   "source": [
    "# true sampling distribution\n",
    "figs, axes = plt.subplots(nrows=2, ncols=3, figsize=(9, 6))\n",
    "\n",
    "for i, ww in enumerate(eps_ls):\n",
    "    ax = axes.flatten()[i]\n",
    "    ax.hist(stats_ls_all_eps[i], bins=50, label=f\"eps = {ww}\")\n",
    "    ax.legend()"
   ]
  },
  {
   "cell_type": "markdown",
   "id": "65eadb39-95d5-4949-8199-3a656007359f",
   "metadata": {},
   "source": [
    "#### Multiple experiments"
   ]
  },
  {
   "cell_type": "code",
   "execution_count": 7,
   "id": "c274c969-2734-4dca-9f1f-253b778bb497",
   "metadata": {},
   "outputs": [],
   "source": [
    "np.random.seed(2024)"
   ]
  },
  {
   "cell_type": "code",
   "execution_count": 8,
   "id": "d9302c69-2aa0-46ad-a1ba-4fde7c088402",
   "metadata": {},
   "outputs": [
    {
     "name": "stdout",
     "output_type": "stream",
     "text": [
      "eps: 0.001\n"
     ]
    },
    {
     "data": {
      "application/vnd.jupyter.widget-view+json": {
       "model_id": "89001717517446c9b582b6dd384541a9",
       "version_major": 2,
       "version_minor": 0
      },
      "text/plain": [
       "  0%|          | 0/2 [00:00<?, ?it/s]"
      ]
     },
     "metadata": {},
     "output_type": "display_data"
    },
    {
     "data": {
      "application/vnd.jupyter.widget-view+json": {
       "model_id": "f0a9c146ff5441d9879a44ad1c5614c5",
       "version_major": 2,
       "version_minor": 0
      },
      "text/plain": [
       "  0%|          | 0/2 [00:00<?, ?it/s]"
      ]
     },
     "metadata": {},
     "output_type": "display_data"
    },
    {
     "data": {
      "application/vnd.jupyter.widget-view+json": {
       "model_id": "42275193ac874ad5859907e40c2f67bf",
       "version_major": 2,
       "version_minor": 0
      },
      "text/plain": [
       "  0%|          | 0/2 [00:00<?, ?it/s]"
      ]
     },
     "metadata": {},
     "output_type": "display_data"
    },
    {
     "data": {
      "application/vnd.jupyter.widget-view+json": {
       "model_id": "3cc4d27542794bb4b865dcf12203823a",
       "version_major": 2,
       "version_minor": 0
      },
      "text/plain": [
       "  0%|          | 0/2 [00:00<?, ?it/s]"
      ]
     },
     "metadata": {},
     "output_type": "display_data"
    },
    {
     "data": {
      "application/vnd.jupyter.widget-view+json": {
       "model_id": "8d921be925944cb78f90c3309d7044e4",
       "version_major": 2,
       "version_minor": 0
      },
      "text/plain": [
       "  0%|          | 0/2 [00:00<?, ?it/s]"
      ]
     },
     "metadata": {},
     "output_type": "display_data"
    },
    {
     "data": {
      "application/vnd.jupyter.widget-view+json": {
       "model_id": "7b0b3f6806484a348fcad96df4c10b5e",
       "version_major": 2,
       "version_minor": 0
      },
      "text/plain": [
       "  0%|          | 0/2 [00:00<?, ?it/s]"
      ]
     },
     "metadata": {},
     "output_type": "display_data"
    },
    {
     "name": "stdout",
     "output_type": "stream",
     "text": [
      "eps: 0.0025\n"
     ]
    },
    {
     "data": {
      "application/vnd.jupyter.widget-view+json": {
       "model_id": "9d2f1dbbd2d34554874fa2871f3e38aa",
       "version_major": 2,
       "version_minor": 0
      },
      "text/plain": [
       "  0%|          | 0/2 [00:00<?, ?it/s]"
      ]
     },
     "metadata": {},
     "output_type": "display_data"
    },
    {
     "data": {
      "application/vnd.jupyter.widget-view+json": {
       "model_id": "c687a28c709b4cd0bdeb579257489537",
       "version_major": 2,
       "version_minor": 0
      },
      "text/plain": [
       "  0%|          | 0/2 [00:00<?, ?it/s]"
      ]
     },
     "metadata": {},
     "output_type": "display_data"
    },
    {
     "data": {
      "application/vnd.jupyter.widget-view+json": {
       "model_id": "3c1512066510477eae8afc18e82265b0",
       "version_major": 2,
       "version_minor": 0
      },
      "text/plain": [
       "  0%|          | 0/2 [00:00<?, ?it/s]"
      ]
     },
     "metadata": {},
     "output_type": "display_data"
    },
    {
     "data": {
      "application/vnd.jupyter.widget-view+json": {
       "model_id": "478d053d2ec047b6ae03bce2978d1800",
       "version_major": 2,
       "version_minor": 0
      },
      "text/plain": [
       "  0%|          | 0/2 [00:00<?, ?it/s]"
      ]
     },
     "metadata": {},
     "output_type": "display_data"
    },
    {
     "data": {
      "application/vnd.jupyter.widget-view+json": {
       "model_id": "31a437664dd549149931feaed4fa6903",
       "version_major": 2,
       "version_minor": 0
      },
      "text/plain": [
       "  0%|          | 0/2 [00:00<?, ?it/s]"
      ]
     },
     "metadata": {},
     "output_type": "display_data"
    },
    {
     "data": {
      "application/vnd.jupyter.widget-view+json": {
       "model_id": "9d37deecfdc64e43b9d3b978918291fc",
       "version_major": 2,
       "version_minor": 0
      },
      "text/plain": [
       "  0%|          | 0/2 [00:00<?, ?it/s]"
      ]
     },
     "metadata": {},
     "output_type": "display_data"
    },
    {
     "name": "stdout",
     "output_type": "stream",
     "text": [
      "eps: 0.005\n"
     ]
    },
    {
     "data": {
      "application/vnd.jupyter.widget-view+json": {
       "model_id": "5fc11489c9544485a058c8df30aa045e",
       "version_major": 2,
       "version_minor": 0
      },
      "text/plain": [
       "  0%|          | 0/2 [00:00<?, ?it/s]"
      ]
     },
     "metadata": {},
     "output_type": "display_data"
    },
    {
     "data": {
      "application/vnd.jupyter.widget-view+json": {
       "model_id": "d271a62e81314a37bcf90b44d3b26fa7",
       "version_major": 2,
       "version_minor": 0
      },
      "text/plain": [
       "  0%|          | 0/2 [00:00<?, ?it/s]"
      ]
     },
     "metadata": {},
     "output_type": "display_data"
    },
    {
     "data": {
      "application/vnd.jupyter.widget-view+json": {
       "model_id": "e9674d5fa8574e2eb94a143093d80ac0",
       "version_major": 2,
       "version_minor": 0
      },
      "text/plain": [
       "  0%|          | 0/2 [00:00<?, ?it/s]"
      ]
     },
     "metadata": {},
     "output_type": "display_data"
    },
    {
     "data": {
      "application/vnd.jupyter.widget-view+json": {
       "model_id": "36516c2e6ea246a899530bfea870c822",
       "version_major": 2,
       "version_minor": 0
      },
      "text/plain": [
       "  0%|          | 0/2 [00:00<?, ?it/s]"
      ]
     },
     "metadata": {},
     "output_type": "display_data"
    },
    {
     "data": {
      "application/vnd.jupyter.widget-view+json": {
       "model_id": "1742277bb139474a95758be147fb4598",
       "version_major": 2,
       "version_minor": 0
      },
      "text/plain": [
       "  0%|          | 0/2 [00:00<?, ?it/s]"
      ]
     },
     "metadata": {},
     "output_type": "display_data"
    },
    {
     "data": {
      "application/vnd.jupyter.widget-view+json": {
       "model_id": "6e2f02a70b844b6395cde0f3395d35c0",
       "version_major": 2,
       "version_minor": 0
      },
      "text/plain": [
       "  0%|          | 0/2 [00:00<?, ?it/s]"
      ]
     },
     "metadata": {},
     "output_type": "display_data"
    },
    {
     "name": "stdout",
     "output_type": "stream",
     "text": [
      "eps: 0.01\n"
     ]
    },
    {
     "data": {
      "application/vnd.jupyter.widget-view+json": {
       "model_id": "18f941161fa14daead090f5cbc26d0d3",
       "version_major": 2,
       "version_minor": 0
      },
      "text/plain": [
       "  0%|          | 0/2 [00:00<?, ?it/s]"
      ]
     },
     "metadata": {},
     "output_type": "display_data"
    },
    {
     "data": {
      "application/vnd.jupyter.widget-view+json": {
       "model_id": "ab4c768aeb1e4390b88cab68f1527176",
       "version_major": 2,
       "version_minor": 0
      },
      "text/plain": [
       "  0%|          | 0/2 [00:00<?, ?it/s]"
      ]
     },
     "metadata": {},
     "output_type": "display_data"
    },
    {
     "data": {
      "application/vnd.jupyter.widget-view+json": {
       "model_id": "5e0f769f06644656a9c43f94a0d8fb86",
       "version_major": 2,
       "version_minor": 0
      },
      "text/plain": [
       "  0%|          | 0/2 [00:00<?, ?it/s]"
      ]
     },
     "metadata": {},
     "output_type": "display_data"
    },
    {
     "data": {
      "application/vnd.jupyter.widget-view+json": {
       "model_id": "e1329514340748f49842f9f041638c5e",
       "version_major": 2,
       "version_minor": 0
      },
      "text/plain": [
       "  0%|          | 0/2 [00:00<?, ?it/s]"
      ]
     },
     "metadata": {},
     "output_type": "display_data"
    },
    {
     "data": {
      "application/vnd.jupyter.widget-view+json": {
       "model_id": "508f2bc2d98442f39fa06d3f6cde837b",
       "version_major": 2,
       "version_minor": 0
      },
      "text/plain": [
       "  0%|          | 0/2 [00:00<?, ?it/s]"
      ]
     },
     "metadata": {},
     "output_type": "display_data"
    },
    {
     "data": {
      "application/vnd.jupyter.widget-view+json": {
       "model_id": "fbe95333ff4648d387787e73d60c5388",
       "version_major": 2,
       "version_minor": 0
      },
      "text/plain": [
       "  0%|          | 0/2 [00:00<?, ?it/s]"
      ]
     },
     "metadata": {},
     "output_type": "display_data"
    }
   ],
   "source": [
    "nrep = 2\n",
    "mean1 = np.zeros((dim,))\n",
    "\n",
    "# eps = 0.01\n",
    "# eps_list = [0.001, 0.005, 0.01]\n",
    "eps_list = [0.001, 0.0025, 0.005, 0.01]\n",
    "outlier_ls = [0.1, 1., 10., 100., 1e3, 1e4]\n",
    "\n",
    "res = {}\n",
    "\n",
    "for eps in eps_list:\n",
    "    print(f\"eps: {eps}\")\n",
    "    \n",
    "    Xs_ls = []\n",
    "    score_fns_ls = []\n",
    "    \n",
    "    for outlier in outlier_ls:\n",
    "        ### Gaussian contam\n",
    "        # outliers = np.random.multivariate_normal(mean1 + outlier, np.eye(dim), (nrep, n))\n",
    "        # clean_samples = np.random.multivariate_normal(mean1, np.eye(dim), (nrep, n))\n",
    "        # mask = np.random.binomial(1, eps, (nrep, n))\n",
    "        # Xs = np.where(np.expand_dims(mask, -1), outliers, clean_samples)\n",
    "\n",
    "        Xs = np.random.multivariate_normal(mean1, np.eye(dim), (nrep, n))\n",
    "        n_outlier = max(1, int(n * eps))\n",
    "        Xs[:, :n_outlier] = outlier\n",
    "    \n",
    "        score_fns = [lambda x: - (x - mean1) for _ in range(nrep)]\n",
    "        ###\n",
    "    \n",
    "        Xs_ls.append(Xs)\n",
    "        score_fns_ls.append(score_fns)\n",
    "    \n",
    "    kernel_class = kernels.RBF\n",
    "    \n",
    "    keys = outlier_ls\n",
    "    \n",
    "    res_sub = ksd_experiment(kernel_class, Xs_ls, score_fns_ls, keys=keys, nboot=500)\n",
    "    res[eps] = res_sub"
   ]
  },
  {
   "cell_type": "code",
   "execution_count": 21,
   "id": "03a8ce95-1df9-4c09-8fcd-78aaede27fc8",
   "metadata": {},
   "outputs": [
    {
     "data": {
      "image/png": "[encoded data removed]",
      "text/plain": [
       "<Figure size 900x300 with 3 Axes>"
      ]
     },
     "metadata": {},
     "output_type": "display_data"
    }
   ],
   "source": [
    "figs, axes = plt.subplots(nrows=1, ncols=3, figsize=(9, 3))\n",
    "\n",
    "ax = axes[0]\n",
    "for eps in eps_list:\n",
    "    r = res[eps]\n",
    "    rej_prob = [np.mean(r[kk][\"boot\"][\"rej\"]) for kk in keys]\n",
    "    ax.scatter(keys, rej_prob, label=f\"eps={eps}\")\n",
    "\n",
    "ax.axhline(0.05, color=\"grey\", linestyle=\"--\", label=\"level\")\n",
    "ax.set_xscale(\"log\")\n",
    "ax.set_ylim(-0.05, 1.05)\n",
    "ax.set_xlabel(\"outlier mean\")\n",
    "ax.set_ylabel(\"rej prob\")\n",
    "ax.set_title(\"standard test\")\n",
    "ax.legend()\n",
    "\n",
    "ax = axes[1]\n",
    "# for eps in eps_list[:1]:\n",
    "for eps in eps_list:\n",
    "    r = res[eps]\n",
    "    rej_prob = [np.mean(r[kk][\"boot\"][\"val\"]) for kk in keys]\n",
    "    ax.scatter(keys, rej_prob, label=f\"eps={eps}\")\n",
    "ax.set_ylabel(\"ksd\")\n",
    "ax.set_xlabel(\"outlier mean\")\n",
    "ax.set_xscale(\"log\")\n",
    "ax.set_yscale(\"log\")\n",
    "ax.legend()\n",
    "\n",
    "_ = plt.tight_layout()"
   ]
  },
  {
   "cell_type": "code",
   "execution_count": 16,
   "id": "7c6d956e-d0d3-4dd3-ad2b-b4f19fcfe28b",
   "metadata": {},
   "outputs": [
    {
     "data": {
      "image/png": "[encoded data removed]",
      "text/plain": [
       "<Figure size 900x300 with 3 Axes>"
      ]
     },
     "metadata": {},
     "output_type": "display_data"
    }
   ],
   "source": [
    "figs, axes = plt.subplots(nrows=1, ncols=3, figsize=(9, 3))\n",
    "\n",
    "ax = axes[0]\n",
    "for eps in eps_list:\n",
    "    r = res[eps]\n",
    "    rej_prob = [np.mean(r[kk][\"boot\"][\"rej\"]) for kk in keys]\n",
    "    ax.scatter(keys, rej_prob, label=f\"eps={eps}\")\n",
    "\n",
    "ax.axhline(0.05, color=\"grey\", linestyle=\"--\", label=\"level\")\n",
    "ax.set_xscale(\"log\")\n",
    "ax.set_ylim(-0.05, 1.05)\n",
    "ax.set_xlabel(\"outlier mean\")\n",
    "ax.set_ylabel(\"rej prob\")\n",
    "ax.set_title(\"standard test\")\n",
    "ax.legend()\n",
    "\n",
    "ax = axes[1]\n",
    "# for eps in eps_list[:1]:\n",
    "for eps in eps_list:\n",
    "    r = res[eps]\n",
    "    rej_prob = [np.mean(r[kk][\"boot\"][\"val\"]) for kk in keys]\n",
    "    ax.scatter(keys, rej_prob, label=f\"eps={eps}\")\n",
    "ax.set_ylabel(\"ksd\")\n",
    "ax.set_xlabel(\"outlier mean\")\n",
    "ax.set_xscale(\"log\")\n",
    "ax.set_yscale(\"log\")\n",
    "ax.legend()\n",
    "\n",
    "_ = plt.tight_layout()"
   ]
  },
  {
   "cell_type": "code",
   "execution_count": 23,
   "id": "94f5face-ba39-4d1c-9348-b5ad68be1b3c",
   "metadata": {},
   "outputs": [
    {
     "data": {
      "image/png": "[encoded data removed]",
      "text/plain": [
       "<Figure size 900x600 with 6 Axes>"
      ]
     },
     "metadata": {},
     "output_type": "display_data"
    }
   ],
   "source": [
    "# check bootstrap distributions as a func of outliers\n",
    "figs, axes = plt.subplots(nrows=2, ncols=3, figsize=(9, 6))\n",
    "eps = 0.01\n",
    "r = res[eps]\n",
    "bb_stats = [r[kk][\"boot\"][\"boot_stat\"][0] for kk in keys]\n",
    "\n",
    "for i, ww in enumerate(outlier_ls):\n",
    "    ax = axes.flatten()[i]\n",
    "    ax.hist(bb_stats[i], bins=20, label=f\"outlier = {ww}\")\n",
    "    ax.legend()"
   ]
  },
  {
   "cell_type": "markdown",
   "id": "af96ae9d-324f-4967-bf6b-fc6a5169d167",
   "metadata": {},
   "source": [
    " Gaussian loc model (to check the power)"
   ]
  },
  {
   "cell_type": "code",
   "execution_count": 56,
   "id": "ee348617-0dd2-448b-91ac-85356f99acaa",
   "metadata": {},
   "outputs": [],
   "source": [
    "np.random.seed(2024)"
   ]
  },
  {
   "cell_type": "code",
   "execution_count": null,
   "id": "efd84b59-a4d5-4358-862a-c99362397fc9",
   "metadata": {},
   "outputs": [
    {
     "name": "stdout",
     "output_type": "stream",
     "text": [
      "key: 50\n"
     ]
    },
    {
     "data": {
      "application/vnd.jupyter.widget-view+json": {
       "model_id": "6f0e7f1f0dad454cab8ba50c2f097c9b",
       "version_major": 2,
       "version_minor": 0
      },
      "text/plain": [
       "  0%|          | 0/50 [00:00<?, ?it/s]"
      ]
     },
     "metadata": {},
     "output_type": "display_data"
    },
    {
     "data": {
      "application/vnd.jupyter.widget-view+json": {
       "model_id": "4761099d1de74070bff4ab86ef6bb853",
       "version_major": 2,
       "version_minor": 0
      },
      "text/plain": [
       "  0%|          | 0/50 [00:00<?, ?it/s]"
      ]
     },
     "metadata": {},
     "output_type": "display_data"
    },
    {
     "data": {
      "application/vnd.jupyter.widget-view+json": {
       "model_id": "a978fbf6ce6f427eb018804cb385afd0",
       "version_major": 2,
       "version_minor": 0
      },
      "text/plain": [
       "  0%|          | 0/50 [00:00<?, ?it/s]"
      ]
     },
     "metadata": {},
     "output_type": "display_data"
    },
    {
     "data": {
      "application/vnd.jupyter.widget-view+json": {
       "model_id": "bd80ae1f3fdd4d72af1fcdbd05b36e8d",
       "version_major": 2,
       "version_minor": 0
      },
      "text/plain": [
       "  0%|          | 0/50 [00:00<?, ?it/s]"
      ]
     },
     "metadata": {},
     "output_type": "display_data"
    },
    {
     "name": "stdout",
     "output_type": "stream",
     "text": [
      "key: 100\n"
     ]
    },
    {
     "data": {
      "application/vnd.jupyter.widget-view+json": {
       "model_id": "b89788ccac5146a28c532a77f071e796",
       "version_major": 2,
       "version_minor": 0
      },
      "text/plain": [
       "  0%|          | 0/50 [00:00<?, ?it/s]"
      ]
     },
     "metadata": {},
     "output_type": "display_data"
    },
    {
     "data": {
      "application/vnd.jupyter.widget-view+json": {
       "model_id": "4c591ba5668c4a5cbb1fc3dc0eec9f54",
       "version_major": 2,
       "version_minor": 0
      },
      "text/plain": [
       "  0%|          | 0/50 [00:00<?, ?it/s]"
      ]
     },
     "metadata": {},
     "output_type": "display_data"
    },
    {
     "data": {
      "application/vnd.jupyter.widget-view+json": {
       "model_id": "f26b0bcf38d841f28799848cd4a15915",
       "version_major": 2,
       "version_minor": 0
      },
      "text/plain": [
       "  0%|          | 0/50 [00:00<?, ?it/s]"
      ]
     },
     "metadata": {},
     "output_type": "display_data"
    },
    {
     "data": {
      "application/vnd.jupyter.widget-view+json": {
       "model_id": "aeb5c85fbd5c43fe8b3963029c5bcf6a",
       "version_major": 2,
       "version_minor": 0
      },
      "text/plain": [
       "  0%|          | 0/50 [00:00<?, ?it/s]"
      ]
     },
     "metadata": {},
     "output_type": "display_data"
    },
    {
     "name": "stdout",
     "output_type": "stream",
     "text": [
      "key: 500\n"
     ]
    },
    {
     "data": {
      "application/vnd.jupyter.widget-view+json": {
       "model_id": "fa96b36f6ce242adbf609fd0d5544854",
       "version_major": 2,
       "version_minor": 0
      },
      "text/plain": [
       "  0%|          | 0/50 [00:00<?, ?it/s]"
      ]
     },
     "metadata": {},
     "output_type": "display_data"
    },
    {
     "data": {
      "application/vnd.jupyter.widget-view+json": {
       "model_id": "e0988f5978a54cbb86fb9e3f4d383c4a",
       "version_major": 2,
       "version_minor": 0
      },
      "text/plain": [
       "  0%|          | 0/50 [00:00<?, ?it/s]"
      ]
     },
     "metadata": {},
     "output_type": "display_data"
    },
    {
     "data": {
      "application/vnd.jupyter.widget-view+json": {
       "model_id": "0cc64ccf9e4446688abab772a5ca85ba",
       "version_major": 2,
       "version_minor": 0
      },
      "text/plain": [
       "  0%|          | 0/50 [00:00<?, ?it/s]"
      ]
     },
     "metadata": {},
     "output_type": "display_data"
    },
    {
     "data": {
      "application/vnd.jupyter.widget-view+json": {
       "model_id": "63e500d2cba44b29a93348f3130a3504",
       "version_major": 2,
       "version_minor": 0
      },
      "text/plain": [
       "  0%|          | 0/50 [00:00<?, ?it/s]"
      ]
     },
     "metadata": {},
     "output_type": "display_data"
    },
    {
     "name": "stdout",
     "output_type": "stream",
     "text": [
      "key: 1000\n"
     ]
    },
    {
     "data": {
      "application/vnd.jupyter.widget-view+json": {
       "model_id": "e344d3e6696a41a5af7fdf7eea703f7d",
       "version_major": 2,
       "version_minor": 0
      },
      "text/plain": [
       "  0%|          | 0/50 [00:00<?, ?it/s]"
      ]
     },
     "metadata": {},
     "output_type": "display_data"
    },
    {
     "data": {
      "application/vnd.jupyter.widget-view+json": {
       "model_id": "24e8f7460fa44a08bb88ec14b13eba9d",
       "version_major": 2,
       "version_minor": 0
      },
      "text/plain": [
       "  0%|          | 0/50 [00:00<?, ?it/s]"
      ]
     },
     "metadata": {},
     "output_type": "display_data"
    },
    {
     "data": {
      "application/vnd.jupyter.widget-view+json": {
       "model_id": "53cfdf22bf284c81b791dc3fb3e02540",
       "version_major": 2,
       "version_minor": 0
      },
      "text/plain": [
       "  0%|          | 0/50 [00:00<?, ?it/s]"
      ]
     },
     "metadata": {},
     "output_type": "display_data"
    },
    {
     "data": {
      "application/vnd.jupyter.widget-view+json": {
       "model_id": "2212a065ba8440cb8a4fbb02de0cb9a8",
       "version_major": 2,
       "version_minor": 0
      },
      "text/plain": [
       "  0%|          | 0/50 [00:00<?, ?it/s]"
      ]
     },
     "metadata": {},
     "output_type": "display_data"
    }
   ],
   "source": [
    "nrep = 50\n",
    "\n",
    "n_ls = [50, 100, 500, 1000]\n",
    "offset_ls = [1e-1, 1., 10., 100.]\n",
    "\n",
    "res = {}\n",
    "\n",
    "for n in n_ls:\n",
    "    print(f\"key: {n}\")\n",
    "    \n",
    "    Xs_ls = []\n",
    "    score_fns_ls = []\n",
    "    \n",
    "    for c in offset_ls:\n",
    "        ### Gaussian loc\n",
    "        mean1 = np.zeros((dim,)) + c # data\n",
    "        mean2 = np.zeros((dim,)) # model\n",
    "\n",
    "        Xs = np.random.multivariate_normal(mean1, np.eye(dim), (nrep, n))\n",
    "\n",
    "        score_fns = [lambda x: - (x - mean2) for _ in range(nrep)]\n",
    "        ###\n",
    "\n",
    "        Xs_ls.append(Xs)\n",
    "        score_fns_ls.append(score_fns)\n",
    "    \n",
    "    kernel_class = kernels.RBF\n",
    "    \n",
    "    keys = offset_ls\n",
    "    \n",
    "    res_sub = ksd_experiment(kernel_class, Xs_ls, score_fns_ls, keys=keys, nboot=500)\n",
    "    res[n] = res_sub"
   ]
  },
  {
   "cell_type": "code",
   "execution_count": 55,
   "id": "f4a27da7-392a-4062-8541-aca74018c2e2",
   "metadata": {},
   "outputs": [
    {
     "data": {
      "image/png": "[encoded data removed]",
      "text/plain": [
       "<Figure size 900x300 with 3 Axes>"
      ]
     },
     "metadata": {},
     "output_type": "display_data"
    }
   ],
   "source": [
    "markers = [\"o\", \"x\", \"+\", \">\", \"D\"]\n",
    "\n",
    "figs, axes = plt.subplots(nrows=1, ncols=3, figsize=(9, 3))\n",
    "\n",
    "ax = axes[0]\n",
    "for i, k in enumerate(n_ls):\n",
    "    r = res[k]\n",
    "    rej_prob = [np.mean(r[kk][\"boot\"][\"rej\"]) for kk in keys]\n",
    "    ax.scatter(keys, rej_prob, label=f\"n={k}\", marker=markers[i])\n",
    "\n",
    "ax.axhline(0.05, color=\"grey\", linestyle=\"--\", label=\"level\")\n",
    "ax.set_xscale(\"log\")\n",
    "ax.set_ylim(-0.05, 1.05)\n",
    "ax.set_xlabel(\"offset mean\")\n",
    "ax.set_ylabel(\"rej prob\")\n",
    "ax.set_title(\"standard test\")\n",
    "ax.legend()\n",
    "\n",
    "ax = axes[1]\n",
    "# for eps in eps_list[:1]:\n",
    "for i, k in enumerate(n_ls):\n",
    "    r = res[k]\n",
    "    rej_prob = [np.mean(r[kk][\"boot\"][\"val\"]) for kk in keys]\n",
    "    ax.scatter(keys, rej_prob, label=f\"n={k}\", marker=markers[i])\n",
    "ax.set_ylabel(\"ksd\")\n",
    "ax.set_xlabel(\"offset mean\")\n",
    "ax.set_xscale(\"log\")\n",
    "ax.set_yscale(\"log\")\n",
    "ax.legend()\n",
    "\n",
    "_ = plt.tight_layout()"
   ]
  },
  {
   "cell_type": "markdown",
   "id": "ab4f79ae-9792-4c72-8a68-3c8eff60f549",
   "metadata": {},
   "source": [
    "# Score functions of contaminated distributions"
   ]
  },
  {
   "cell_type": "code",
   "execution_count": 92,
   "id": "25c10c49-3be5-4fa0-b880-a2e0a9bfbef1",
   "metadata": {},
   "outputs": [],
   "source": [
    "import jax.numpy as jnp\n",
    "import jax"
   ]
  },
  {
   "cell_type": "code",
   "execution_count": 100,
   "id": "22f0fbdf-4950-4dd8-8da2-2227694833b6",
   "metadata": {},
   "outputs": [],
   "source": [
    "eps = 0.01\n",
    "noise_mu = 3.\n",
    "\n",
    "def log_q(x):\n",
    "    \"\"\"Assume unit var\n",
    "    \"\"\"\n",
    "    val = jnp.log((1 - eps) * jnp.exp(- 0.5 * x**2) + eps * jnp.exp(- 0.5 * (x - noise_mu)**2))\n",
    "    return val\n",
    "\n",
    "def log_p(x):\n",
    "    val = - 0.5 * x**2\n",
    "    return val\n",
    "\n",
    "def log_r(x):\n",
    "    \"\"\"Assume unit var\n",
    "    \"\"\"\n",
    "    val = - 0.5 * (x - noise_mu)**2\n",
    "    return val\n",
    "\n",
    "score_q_fn = jax.vmap(jax.grad(log_q))\n",
    "score_p_fn = jax.vmap(jax.grad(log_p))"
   ]
  },
  {
   "cell_type": "code",
   "execution_count": 101,
   "id": "87e14f61-683c-43b4-b2b4-95b4a85e19b4",
   "metadata": {},
   "outputs": [],
   "source": [
    "xx = jnp.reshape(jnp.linspace(-10., 10., 1001), (-1,))\n",
    "\n",
    "s_q = score_q_fn(xx)\n",
    "s_p = score_p_fn(xx)"
   ]
  },
  {
   "cell_type": "code",
   "execution_count": 102,
   "id": "83527f6c-3f81-477d-b33f-8aa473e1762b",
   "metadata": {},
   "outputs": [
    {
     "data": {
      "text/plain": [
       "<matplotlib.collections.PathCollection at 0x7f1227a517c0>"
      ]
     },
     "execution_count": 102,
     "metadata": {},
     "output_type": "execute_result"
    },
    {
     "data": {
      "image/png": "[encoded data removed]",
      "text/plain": [
       "<Figure size 640x480 with 1 Axes>"
      ]
     },
     "metadata": {},
     "output_type": "display_data"
    }
   ],
   "source": [
    "plt.scatter(xx, s_p, label=\"s_p\")\n",
    "plt.scatter(xx, s_q, label=\"s_q\")"
   ]
  },
  {
   "cell_type": "code",
   "execution_count": 103,
   "id": "b284048f-fce5-41f3-8125-6eb2908388d9",
   "metadata": {},
   "outputs": [],
   "source": [
    "def score_diff(log_r, log_p, eps, xx):\n",
    "    score_r_fn = jax.vmap(jax.grad(log_r))\n",
    "    score_p_fn = jax.vmap(jax.grad(log_p))\n",
    "    \n",
    "    s_r = score_r_fn(xx)\n",
    "    s_p = score_p_fn(xx)\n",
    "    sr_minus_sp = s_r - s_p\n",
    "\n",
    "    prob_r = np.exp(log_r(xx))\n",
    "    prob_p = np.exp(log_p(xx))\n",
    "\n",
    "    sq_minus_sp = eps * prob_r / (eps * prob_r + (1 - eps) * prob_p) * sr_minus_sp\n",
    "    return sq_minus_sp"
   ]
  },
  {
   "cell_type": "code",
   "execution_count": 112,
   "id": "0ff45408-a480-4126-a52f-499bfe58de94",
   "metadata": {},
   "outputs": [
    {
     "data": {
      "text/plain": [
       "<matplotlib.collections.PathCollection at 0x7f1225549a00>"
      ]
     },
     "execution_count": 112,
     "metadata": {},
     "output_type": "execute_result"
    },
    {
     "data": {
      "image/png": "[encoded data removed]",
      "text/plain": [
       "<Figure size 640x480 with 1 Axes>"
      ]
     },
     "metadata": {},
     "output_type": "display_data"
    }
   ],
   "source": [
    "# plt.scatter(xx, score_diff(log_r, log_p, eps=eps, xx=xx))\n",
    "plt.scatter(xx, s_q - s_p, label=\"(s_q - s_p)*m\", marker=\"x\")"
   ]
  },
  {
   "cell_type": "code",
   "execution_count": 105,
   "id": "a8cd648c-8197-4361-a2b3-f6f73024fdfa",
   "metadata": {},
   "outputs": [
    {
     "data": {
      "text/plain": [
       "<matplotlib.collections.PathCollection at 0x7f12279a3b50>"
      ]
     },
     "execution_count": 105,
     "metadata": {},
     "output_type": "execute_result"
    },
    {
     "data": {
      "image/png": "[encoded data removed]",
      "text/plain": [
       "<Figure size 640x480 with 1 Axes>"
      ]
     },
     "metadata": {},
     "output_type": "display_data"
    }
   ],
   "source": [
    "mm = kernels.PolyWeightFunction()(np.reshape(xx, (-1, 1)))\n",
    "# plt.scatter(xx, s_q - s_p, label=\"(s_q - s_p)*m\")\n",
    "plt.scatter(xx, (s_q - s_p) * mm, label=\"(s_q - s_p)*m\")"
   ]
  },
  {
   "cell_type": "code",
   "execution_count": null,
   "id": "5c969fe8-86f5-4e41-a38b-9414b521b00f",
   "metadata": {},
   "outputs": [],
   "source": []
  },
  {
   "cell_type": "code",
   "execution_count": null,
   "id": "c2a4eda2-9fab-4bd1-bcb5-fae8c136a04a",
   "metadata": {},
   "outputs": [],
   "source": []
  }
 ],
 "metadata": {
  "kernelspec": {
   "display_name": "robust",
   "language": "python",
   "name": "robust"
  },
  "language_info": {
   "codemirror_mode": {
    "name": "ipython",
    "version": 3
   },
   "file_extension": ".py",
   "mimetype": "text/x-python",
   "name": "python",
   "nbconvert_exporter": "python",
   "pygments_lexer": "ipython3",
   "version": "3.8.10"
  }
 },
 "nbformat": 4,
 "nbformat_minor": 5
}
