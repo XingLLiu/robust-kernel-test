{
 "cells": [
  {
   "cell_type": "code",
   "execution_count": 173,
   "id": "e2de8648-ca7e-44a5-bf5b-98c1206924fa",
   "metadata": {},
   "outputs": [
    {
     "name": "stdout",
     "output_type": "stream",
     "text": [
      "The autoreload extension is already loaded. To reload it, use:\n",
      "  %reload_ext autoreload\n"
     ]
    }
   ],
   "source": [
    "%load_ext autoreload\n",
    "%autoreload 2\n",
    "\n",
    "import numpy as np\n",
    "import matplotlib.pyplot as plt\n",
    "from tqdm.notebook import tqdm, trange\n",
    "import seaborn as sns\n",
    "\n",
    "import src.metrics as metrics\n",
    "import src.kernels as kernels\n",
    "import src.bootstrap as boot"
   ]
  },
  {
   "cell_type": "code",
   "execution_count": 188,
   "id": "cc0109f5-4deb-4184-b5d4-e063d9ba1fc3",
   "metadata": {},
   "outputs": [],
   "source": [
    "np.random.seed(2024)"
   ]
  },
  {
   "cell_type": "code",
   "execution_count": 189,
   "id": "73d6fc42-96c1-418b-a3cb-3df9a535e439",
   "metadata": {},
   "outputs": [],
   "source": [
    "dim = 1\n",
    "n = 1000\n",
    "\n",
    "x_sample = np.random.multivariate_normal(np.zeros((dim,)), np.eye(dim), n)\n",
    "\n",
    "y_sample = np.random.multivariate_normal(np.zeros((dim,)), np.eye(dim), n)"
   ]
  },
  {
   "cell_type": "code",
   "execution_count": 190,
   "id": "a72e065c-dda2-414b-a929-15f2f286be12",
   "metadata": {},
   "outputs": [
    {
     "data": {
      "text/plain": [
       "0.001984325400114839"
      ]
     },
     "execution_count": 190,
     "metadata": {},
     "output_type": "execute_result"
    }
   ],
   "source": [
    "kernel = kernels.RBF(sigma_sq=2.)\n",
    "mmd = metrics.MMD(kernel)\n",
    "mmd(x_sample, y_sample)"
   ]
  },
  {
   "cell_type": "code",
   "execution_count": 177,
   "id": "0c32630b-3f4f-495e-8b1a-15ba043ec812",
   "metadata": {},
   "outputs": [
    {
     "name": "stdout",
     "output_type": "stream",
     "text": [
      "boot_stats [0.15740258 0.20144756 0.07016762 0.14974205 0.07403273]\n"
     ]
    }
   ],
   "source": [
    "bootstrap = boot.WildBootstrap(mmd, ndraws=5)\n",
    "pval = bootstrap.pval(x_sample, y_sample)"
   ]
  },
  {
   "cell_type": "code",
   "execution_count": 178,
   "id": "3a10b8db-cf48-4b40-956e-93d99fcd225d",
   "metadata": {},
   "outputs": [
    {
     "data": {
      "text/plain": [
       "0.5"
      ]
     },
     "execution_count": 178,
     "metadata": {},
     "output_type": "execute_result"
    }
   ],
   "source": [
    "pval"
   ]
  },
  {
   "cell_type": "code",
   "execution_count": 184,
   "id": "d3391920-33fb-4903-bd29-57ca7aab31da",
   "metadata": {},
   "outputs": [
    {
     "name": "stdout",
     "output_type": "stream",
     "text": [
      "boot_stats [0.15740258 0.20144756 0.07016762 0.14974205 0.07403273]\n"
     ]
    }
   ],
   "source": [
    "bootstrap = boot.WildBootstrap(mmd, ndraws=5)\n",
    "pval = bootstrap.pval(x_sample, y_sample)"
   ]
  },
  {
   "cell_type": "code",
   "execution_count": 185,
   "id": "d61277aa-f1a0-4bb6-9666-7e9a3a4f5b5a",
   "metadata": {},
   "outputs": [
    {
     "data": {
      "text/plain": [
       "0.5"
      ]
     },
     "execution_count": 185,
     "metadata": {},
     "output_type": "execute_result"
    }
   ],
   "source": [
    "pval"
   ]
  },
  {
   "cell_type": "code",
   "execution_count": 191,
   "id": "e82e22bd-2364-4d2e-a25c-9063255480f3",
   "metadata": {},
   "outputs": [],
   "source": [
    "def mmd_experiment(kernel_class, Xs, Ys, nboot=500):\n",
    "    res = {\n",
    "        \"deviation\": {\"val\": [], \"threshold\": [], \"rej\": []},\n",
    "        \"boot\": {\"val\": [], \"threshold\": [], \"pval\": []},\n",
    "    }\n",
    "\n",
    "    for X, Y in tqdm(zip(Xs, Ys), total=Xs.shape[0]):\n",
    "        kernel = kernel_class(sigma_sq=2.)\n",
    "        mmd = metrics.MMD(kernel)\n",
    "        val = mmd(X, Y)\n",
    "        threshold = mmd.test_threshold(X.shape[0])\n",
    "        # deviation bound\n",
    "        rej = float(threshold < val)\n",
    "        # bootstrap\n",
    "        bootstrap = boot.WildBootstrap(mmd, ndraws=nboot)\n",
    "        pval = bootstrap.pval(X, Y)\n",
    "\n",
    "        # save results\n",
    "        res[\"deviation\"][\"val\"].append(val)\n",
    "        res[\"deviation\"][\"threshold\"].append(threshold)\n",
    "        res[\"deviation\"][\"rej\"].append(rej)\n",
    "        \n",
    "        res[\"boot\"][\"val\"].append(val)\n",
    "        res[\"boot\"][\"threshold\"].append(threshold)\n",
    "        res[\"boot\"][\"pval\"].append(pval)\n",
    "\n",
    "    return res"
   ]
  },
  {
   "cell_type": "code",
   "execution_count": 192,
   "id": "0860d85c-a267-42ba-9fd5-4f105fc3d08b",
   "metadata": {},
   "outputs": [],
   "source": [
    "np.random.seed(2024)"
   ]
  },
  {
   "cell_type": "code",
   "execution_count": 193,
   "id": "08dda58d-32a7-48d1-b1ec-bb4aba0932f2",
   "metadata": {},
   "outputs": [],
   "source": [
    "nrep = 50\n",
    "mean1 = np.zeros((dim,))\n",
    "mean2 = np.zeros((dim,)) #+ 0.8\n",
    "\n",
    "### Gaussian loc\n",
    "# Xs = np.random.multivariate_normal(mean1, np.eye(dim), (nrep, n))\n",
    "\n",
    "# Ys = np.random.multivariate_normal(mean2, np.eye(dim), (nrep, n))\n",
    "### Gaussian contam\n",
    "Xs = np.random.multivariate_normal(mean1, np.eye(dim), (nrep, n))\n",
    "\n",
    "eps = 0.02\n",
    "outlier = 5.\n",
    "mask = np.random.binomial(1, eps, (nrep, n))\n",
    "clean_samples = np.random.multivariate_normal(mean1, np.eye(dim), (nrep, n))\n",
    "Ys = np.where(np.expand_dims(mask, -1), np.ones_like(clean_samples) * outlier, clean_samples)\n",
    "###\n",
    "\n",
    "kernel_class = kernels.RBF"
   ]
  },
  {
   "cell_type": "code",
   "execution_count": 194,
   "id": "d92809ee-93c4-4999-b0e0-1dc302466b4b",
   "metadata": {},
   "outputs": [
    {
     "data": {
      "image/png": "[encoded data removed]",
      "text/plain": [
       "<Figure size 400x400 with 1 Axes>"
      ]
     },
     "metadata": {},
     "output_type": "display_data"
    }
   ],
   "source": [
    "fig, ax = plt.subplots(nrows=1, ncols=1, figsize=(4, 4))\n",
    "_ = ax.hist(Xs[0, :, 0], bins=50, label=\"X\", alpha=0.5, density=True)\n",
    "_ = ax.hist(Ys[0, :, 0], bins=50, label=\"Y\", alpha=0.5, density=True)"
   ]
  },
  {
   "cell_type": "code",
   "execution_count": 195,
   "id": "f96e30de-fc79-4e8e-8f37-1dcf955551c1",
   "metadata": {},
   "outputs": [
    {
     "data": {
      "application/vnd.jupyter.widget-view+json": {
       "model_id": "d678b21d0cb04e27a621de6fb7aa151a",
       "version_major": 2,
       "version_minor": 0
      },
      "text/plain": [
       "  0%|          | 0/50 [00:00<?, ?it/s]"
      ]
     },
     "metadata": {},
     "output_type": "display_data"
    }
   ],
   "source": [
    "res = mmd_experiment(kernel_class, Xs, Ys, nboot=200)"
   ]
  },
  {
   "cell_type": "code",
   "execution_count": 196,
   "id": "bf7a8583-f19f-4a31-b50d-22c09b913fb5",
   "metadata": {},
   "outputs": [
    {
     "data": {
      "image/png": "[encoded data removed]",
      "text/plain": [
       "<Figure size 800x300 with 2 Axes>"
      ]
     },
     "metadata": {},
     "output_type": "display_data"
    }
   ],
   "source": [
    "figs, axes = plt.subplots(nrows=1, ncols=2, figsize=(8, 3))\n",
    "\n",
    "ax = axes[0]\n",
    "ma = np.cumsum(res[\"deviation\"][\"rej\"]) / (np.arange(nrep) + 1.)\n",
    "ax.plot(np.arange(nrep) + 1., ma)\n",
    "ax.axhline(0.05, color=\"grey\", linestyle=\"--\", label=\"level\")\n",
    "ax.set_ylim(-0.01, 1.01)\n",
    "ax.set_xlabel(\"repetitions\")\n",
    "ax.set_ylabel(\"cumulative average number of rej\")\n",
    "_ = ax.legend()\n",
    "\n",
    "ax = axes[1]\n",
    "sns.ecdfplot(ax=ax, x=res[\"boot\"][\"pval\"])\n",
    "_ = ax.axline((0., 0.), slope=1., color=\"grey\", linestyle=\"--\")\n",
    "ax.set_xlim(-0.01, 1.01)\n",
    "ax.set_ylim(0., 1.)\n",
    "_ = ax.set_xlabel(\"p-value\")"
   ]
  },
  {
   "cell_type": "code",
   "execution_count": null,
   "id": "e276cb0e-e114-470a-ac37-fae090f2fd62",
   "metadata": {},
   "outputs": [],
   "source": []
  },
  {
   "cell_type": "code",
   "execution_count": null,
   "id": "7f913fdd-b8eb-4e62-b368-f2ddbd232d98",
   "metadata": {},
   "outputs": [],
   "source": []
  },
  {
   "cell_type": "code",
   "execution_count": null,
   "id": "6ef6025e-72d0-49f9-8407-b33319e1ae6d",
   "metadata": {},
   "outputs": [],
   "source": []
  },
  {
   "cell_type": "code",
   "execution_count": null,
   "id": "7087db3e-c499-4f5d-86e2-851a3916a4bf",
   "metadata": {},
   "outputs": [],
   "source": []
  },
  {
   "cell_type": "code",
   "execution_count": null,
   "id": "7c6d956e-d0d3-4dd3-ad2b-b4f19fcfe28b",
   "metadata": {},
   "outputs": [],
   "source": []
  }
 ],
 "metadata": {
  "kernelspec": {
   "display_name": "robust",
   "language": "python",
   "name": "robust"
  },
  "language_info": {
   "codemirror_mode": {
    "name": "ipython",
    "version": 3
   },
   "file_extension": ".py",
   "mimetype": "text/x-python",
   "name": "python",
   "nbconvert_exporter": "python",
   "pygments_lexer": "ipython3",
   "version": "3.8.10"
  }
 },
 "nbformat": 4,
 "nbformat_minor": 5
}
