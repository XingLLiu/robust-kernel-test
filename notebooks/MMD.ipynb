{
 "cells": [
  {
   "cell_type": "code",
   "execution_count": 1,
   "id": "e2de8648-ca7e-44a5-bf5b-98c1206924fa",
   "metadata": {},
   "outputs": [],
   "source": [
    "%load_ext autoreload\n",
    "%autoreload 2\n",
    "\n",
    "import numpy as np\n",
    "import matplotlib.pyplot as plt\n",
    "from tqdm.notebook import tqdm, trange\n",
    "import seaborn as sns\n",
    "\n",
    "import src.metrics as metrics\n",
    "import src.kernels as kernels\n",
    "import src.bootstrap as boot"
   ]
  },
  {
   "cell_type": "markdown",
   "id": "274867a9-4726-45d3-9369-36abc12b9842",
   "metadata": {
    "jp-MarkdownHeadingCollapsed": true
   },
   "source": [
    "# MMD"
   ]
  },
  {
   "cell_type": "code",
   "execution_count": 4,
   "id": "cc0109f5-4deb-4184-b5d4-e063d9ba1fc3",
   "metadata": {},
   "outputs": [],
   "source": [
    "np.random.seed(2024)"
   ]
  },
  {
   "cell_type": "code",
   "execution_count": 5,
   "id": "73d6fc42-96c1-418b-a3cb-3df9a535e439",
   "metadata": {},
   "outputs": [],
   "source": [
    "dim = 1\n",
    "n = 50\n",
    "\n",
    "x_sample = np.random.multivariate_normal(np.zeros((dim,)), np.eye(dim), n)\n",
    "\n",
    "y_sample = np.random.multivariate_normal(np.zeros((dim,)), np.eye(dim), n)"
   ]
  },
  {
   "cell_type": "code",
   "execution_count": 6,
   "id": "a72e065c-dda2-414b-a929-15f2f286be12",
   "metadata": {},
   "outputs": [
    {
     "data": {
      "text/plain": [
       "0.028349561648773447"
      ]
     },
     "execution_count": 6,
     "metadata": {},
     "output_type": "execute_result"
    }
   ],
   "source": [
    "kernel = kernels.RBF(sigma_sq=2.)\n",
    "mmd = metrics.MMD(kernel)\n",
    "mmd(x_sample, y_sample)"
   ]
  },
  {
   "cell_type": "code",
   "execution_count": 7,
   "id": "0c32630b-3f4f-495e-8b1a-15ba043ec812",
   "metadata": {},
   "outputs": [],
   "source": [
    "bootstrap = boot.WildBootstrap(mmd, ndraws=5)\n",
    "pval = bootstrap.pval(x_sample, y_sample)"
   ]
  },
  {
   "cell_type": "code",
   "execution_count": 8,
   "id": "3a10b8db-cf48-4b40-956e-93d99fcd225d",
   "metadata": {},
   "outputs": [
    {
     "data": {
      "text/plain": [
       "0.8333333333333334"
      ]
     },
     "execution_count": 8,
     "metadata": {},
     "output_type": "execute_result"
    }
   ],
   "source": [
    "pval"
   ]
  },
  {
   "cell_type": "code",
   "execution_count": 9,
   "id": "d3391920-33fb-4903-bd29-57ca7aab31da",
   "metadata": {},
   "outputs": [],
   "source": [
    "bootstrap = boot.WildBootstrap(mmd, ndraws=5)\n",
    "pval = bootstrap.pval(x_sample, y_sample)"
   ]
  },
  {
   "cell_type": "code",
   "execution_count": 10,
   "id": "d61277aa-f1a0-4bb6-9666-7e9a3a4f5b5a",
   "metadata": {},
   "outputs": [
    {
     "data": {
      "text/plain": [
       "1.0"
      ]
     },
     "execution_count": 10,
     "metadata": {},
     "output_type": "execute_result"
    }
   ],
   "source": [
    "pval"
   ]
  },
  {
   "cell_type": "code",
   "execution_count": 11,
   "id": "e82e22bd-2364-4d2e-a25c-9063255480f3",
   "metadata": {},
   "outputs": [],
   "source": [
    "def mmd_experiment_single(kernel_class, Xs, Ys, eps, nboot=500, alpha=0.05):\n",
    "    res = {\n",
    "        \"deviation\": {\"val\": [], \"threshold\": [], \"rej\": []},\n",
    "        \"boot\": {\"val\": [], \"threshold\": [], \"pval\": [], \"rej\": []},\n",
    "        \"robust\": {\"val\": [], \"threshold\": [], \"rej\": []},\n",
    "        \"relaxed\": {\"val\": [], \"threshold\": [], \"rej\": []},\n",
    "    }\n",
    "\n",
    "    for X, Y in tqdm(zip(Xs, Ys), total=Xs.shape[0]):\n",
    "        kernel = kernel_class(sigma_sq=2.)\n",
    "        mmd = metrics.MMD(kernel)\n",
    "        val = mmd(X, Y)\n",
    "        threshold = mmd.test_threshold(X.shape[0])\n",
    "        \n",
    "        # 1. deviation bound\n",
    "        rej = float(threshold < val)\n",
    "\n",
    "        # 2. standard bootstrap\n",
    "        bootstrap = boot.WildBootstrap(mmd, ndraws=nboot)\n",
    "        pval = bootstrap.pval(X, Y)\n",
    "\n",
    "        # 3. robust bootstrap\n",
    "        robust_bstrp = boot.RobustMMDTest(mmd, eps0=eps, ndraws=nboot)\n",
    "        robust_rej = robust_bstrp.test(0.05, X, Y)\n",
    "        \n",
    "        # 4. robust deviation bound\n",
    "        # thresh_dev_robust = mmd.test_threshold(X.shape[0], method=\"deviation_robust\", eps=eps)\n",
    "        # rej_dev_robust = float(thresh_dev_robust < val)\n",
    "        thresh_relaxed = (alpha - eps) / (1 - eps)\n",
    "        rej_relaxed = float(pval < thresh_relaxed)\n",
    "        \n",
    "        # save results\n",
    "        res[\"deviation\"][\"val\"].append(val)\n",
    "        res[\"deviation\"][\"threshold\"].append(threshold)\n",
    "        res[\"deviation\"][\"rej\"].append(rej)\n",
    "        \n",
    "        res[\"boot\"][\"val\"].append(val)\n",
    "        res[\"boot\"][\"threshold\"].append(threshold)\n",
    "        res[\"boot\"][\"pval\"].append(pval)\n",
    "        res[\"boot\"][\"rej\"].append(float(pval < alpha))\n",
    "\n",
    "        res[\"robust\"][\"val\"].append(val)\n",
    "        res[\"robust\"][\"threshold\"].append(threshold)\n",
    "        res[\"robust\"][\"rej\"].append(robust_rej)\n",
    "        \n",
    "        res[\"relaxed\"][\"val\"].append(val)\n",
    "        res[\"relaxed\"][\"threshold\"].append(thresh_relaxed)\n",
    "        res[\"relaxed\"][\"rej\"].append(rej_relaxed)\n",
    "\n",
    "    return res\n",
    "\n",
    "def mmd_experiment(kernel_class, Xs, Ys, eps0, keys, nboot=500):\n",
    "    \"\"\"\n",
    "    Xs: [array(nrep, n, d), ...]\n",
    "    Ys: [array(nrep, n, d), ...]\n",
    "    \"\"\"\n",
    "    res = {}\n",
    "    for Xs_i, Ys_i, kk in zip(Xs, Ys, keys):\n",
    "        res[kk] = mmd_experiment_single(kernel_class, Xs_i, Ys_i, eps0, nboot=nboot)\n",
    "\n",
    "    return res\n",
    "    "
   ]
  },
  {
   "cell_type": "code",
   "execution_count": 17,
   "id": "0860d85c-a267-42ba-9fd5-4f105fc3d08b",
   "metadata": {},
   "outputs": [],
   "source": [
    "np.random.seed(2024)"
   ]
  },
  {
   "cell_type": "code",
   "execution_count": 18,
   "id": "08dda58d-32a7-48d1-b1ec-bb4aba0932f2",
   "metadata": {},
   "outputs": [],
   "source": [
    "nrep = 20\n",
    "n = 1000\n",
    "mean1 = np.zeros((dim,))\n",
    "mean2 = np.zeros((dim,)) + 0.8\n",
    "\n",
    "### Gaussian loc\n",
    "Xs = np.random.multivariate_normal(mean1, np.eye(dim), (nrep, n))\n",
    "\n",
    "Ys = np.random.multivariate_normal(mean2, np.eye(dim), (nrep, n))\n",
    "\n",
    "### Gaussian contam\n",
    "# Xs = np.random.multivariate_normal(mean1, np.eye(dim), (nrep, n))\n",
    "\n",
    "# eps = 0.025 # 0.28\n",
    "# outlier = 10\n",
    "# mask = np.random.binomial(1, eps, (nrep, n))\n",
    "# clean_samples = np.random.multivariate_normal(mean1, np.eye(dim), (nrep, n))\n",
    "# Ys = np.where(np.expand_dims(mask, -1), np.ones_like(clean_samples) * outlier, clean_samples)\n",
    "\n",
    "### mixture of Gaussian and t\n",
    "# Xs = np.random.multivariate_normal(mean1, np.eye(dim), (nrep, n))\n",
    "\n",
    "# eps = 0.025\n",
    "# mask = np.random.binomial(1, eps, (nrep, n))\n",
    "# norm_rvs = np.random.multivariate_normal(mean1, np.eye(dim), (nrep, n))\n",
    "# t_rvs = 10. + np.expand_dims(np.random.standard_t(df=2, size=(nrep, n)), -1) \n",
    "# Ys = np.where(np.expand_dims(mask, -1), t_rvs, norm_rvs)\n",
    "###\n",
    "\n",
    "kernel_class = kernels.RBF"
   ]
  },
  {
   "cell_type": "code",
   "execution_count": 19,
   "id": "d92809ee-93c4-4999-b0e0-1dc302466b4b",
   "metadata": {},
   "outputs": [
    {
     "data": {
      "image/png": "[encoded data removed]",
      "text/plain": [
       "<Figure size 400x400 with 1 Axes>"
      ]
     },
     "metadata": {},
     "output_type": "display_data"
    }
   ],
   "source": [
    "fig, ax = plt.subplots(nrows=1, ncols=1, figsize=(4, 4))\n",
    "_ = ax.hist(Xs[0, :, 0], bins=50, label=\"X\", alpha=0.5, density=True)\n",
    "_ = ax.hist(Ys[0, :, 0], bins=50, label=\"Y\", alpha=0.5, density=True)"
   ]
  },
  {
   "cell_type": "code",
   "execution_count": 20,
   "id": "f96e30de-fc79-4e8e-8f37-1dcf955551c1",
   "metadata": {},
   "outputs": [
    {
     "data": {
      "application/vnd.jupyter.widget-view+json": {
       "model_id": "1c3dccc536a14ea29ce50517e39591c8",
       "version_major": 2,
       "version_minor": 0
      },
      "text/plain": [
       "  0%|          | 0/20 [00:00<?, ?it/s]"
      ]
     },
     "metadata": {},
     "output_type": "display_data"
    }
   ],
   "source": [
    "res = mmd_experiment_single(kernel_class, Xs, Ys, eps=eps, nboot=500)"
   ]
  },
  {
   "cell_type": "code",
   "execution_count": 21,
   "id": "bf7a8583-f19f-4a31-b50d-22c09b913fb5",
   "metadata": {},
   "outputs": [
    {
     "data": {
      "image/png": "[encoded data removed]",
      "text/plain": [
       "<Figure size 1600x300 with 4 Axes>"
      ]
     },
     "metadata": {},
     "output_type": "display_data"
    }
   ],
   "source": [
    "figs, axes = plt.subplots(nrows=1, ncols=4, figsize=(16, 3))\n",
    "\n",
    "ax = axes[0]\n",
    "ma = np.cumsum(res[\"deviation\"][\"rej\"]) / (np.arange(nrep) + 1.)\n",
    "ax.plot(np.arange(nrep) + 1., ma)\n",
    "ax.axhline(0.05, color=\"grey\", linestyle=\"--\", label=\"level\")\n",
    "ax.set_ylim(-0.01, 1.01)\n",
    "ax.set_xlabel(\"repetitions\")\n",
    "ax.set_ylabel(\"cumulative average number of rej\")\n",
    "_ = ax.legend()\n",
    "\n",
    "ax = axes[1]\n",
    "sns.ecdfplot(ax=ax, x=res[\"boot\"][\"pval\"])\n",
    "_ = ax.axline((0., 0.), slope=1., color=\"grey\", linestyle=\"--\")\n",
    "ax.set_xlim(-0.01, 1.01)\n",
    "ax.set_ylim(0., 1.)\n",
    "_ = ax.set_xlabel(\"p-value\")\n",
    "\n",
    "ax = axes[2]\n",
    "ma = np.cumsum(res[\"robust\"][\"rej\"]) / (np.arange(nrep) + 1.)\n",
    "ax.plot(np.arange(nrep) + 1., ma)\n",
    "ax.axhline(0.05, color=\"grey\", linestyle=\"--\", label=\"level\")\n",
    "ax.set_ylim(-0.01, 1.01)\n",
    "ax.set_xlabel(\"repetitions\")\n",
    "ax.set_ylabel(\"cumulative average number of rej\")\n",
    "\n",
    "if len(res[\"relaxed\"][\"rej\"]) > 0:\n",
    "    ax = axes[3]\n",
    "    ma = np.cumsum(res[\"relaxed\"][\"rej\"]) / (np.arange(nrep) + 1.)\n",
    "    ax.plot(np.arange(nrep) + 1., ma)\n",
    "    ax.axhline(0.05, color=\"grey\", linestyle=\"--\", label=\"level\")\n",
    "    ax.set_ylim(-0.01, 1.01)\n",
    "    ax.set_xlabel(\"repetitions\")\n",
    "    ax.set_ylabel(\"cumulative average number of rej\")\n"
   ]
  },
  {
   "cell_type": "markdown",
   "id": "4d988450-96c2-4548-9648-7425cb70c0d2",
   "metadata": {},
   "source": [
    "#### Multiple experiments"
   ]
  },
  {
   "cell_type": "code",
   "execution_count": 13,
   "id": "4300af38-c946-469a-9673-8e298edcdc0f",
   "metadata": {},
   "outputs": [],
   "source": [
    "np.random.seed(2024)"
   ]
  },
  {
   "cell_type": "code",
   "execution_count": 14,
   "id": "3a4574ac-5868-4924-bf59-7b43ea23e53e",
   "metadata": {},
   "outputs": [],
   "source": [
    "nrep = 100\n",
    "mean1 = np.zeros((dim,))\n",
    "# mean2 = np.zeros((dim,)) + 0.8.\n",
    "\n",
    "eps = 0.025\n",
    "outlier_ls = [0.1, 1., 10., 100., 1e3, 1e4]\n",
    "\n",
    "Xs_ls = []\n",
    "Ys_ls = []\n",
    "\n",
    "for outlier in outlier_ls:\n",
    "    ### Gaussian contam\n",
    "    Xs = np.random.multivariate_normal(mean1, np.eye(dim), (nrep, n))\n",
    "    \n",
    "    mask = np.random.binomial(1, eps, (nrep, n))\n",
    "    clean_samples = np.random.multivariate_normal(mean1, np.eye(dim), (nrep, n))\n",
    "    Ys = np.where(np.expand_dims(mask, -1), np.ones_like(clean_samples) * outlier, clean_samples)\n",
    "    ###\n",
    "\n",
    "    Xs_ls.append(Xs)\n",
    "    Ys_ls.append(Ys)\n",
    "\n",
    "kernel_class = kernels.RBF\n",
    "\n",
    "keys = outlier_ls"
   ]
  },
  {
   "cell_type": "code",
   "execution_count": 15,
   "id": "b5ce056b-9911-424d-a0de-8ee0c4a9e329",
   "metadata": {},
   "outputs": [
    {
     "data": {
      "application/vnd.jupyter.widget-view+json": {
       "model_id": "53209495d354446c8d075b55594b0564",
       "version_major": 2,
       "version_minor": 0
      },
      "text/plain": [
       "  0%|          | 0/100 [00:00<?, ?it/s]"
      ]
     },
     "metadata": {},
     "output_type": "display_data"
    },
    {
     "data": {
      "application/vnd.jupyter.widget-view+json": {
       "model_id": "bfea49096fbf49999fc7f9427992ae9c",
       "version_major": 2,
       "version_minor": 0
      },
      "text/plain": [
       "  0%|          | 0/100 [00:00<?, ?it/s]"
      ]
     },
     "metadata": {},
     "output_type": "display_data"
    },
    {
     "data": {
      "application/vnd.jupyter.widget-view+json": {
       "model_id": "e2c00cf9844f473884c767cce92eed1a",
       "version_major": 2,
       "version_minor": 0
      },
      "text/plain": [
       "  0%|          | 0/100 [00:00<?, ?it/s]"
      ]
     },
     "metadata": {},
     "output_type": "display_data"
    },
    {
     "data": {
      "application/vnd.jupyter.widget-view+json": {
       "model_id": "90f2add8a0574de78aa1f473ef343e91",
       "version_major": 2,
       "version_minor": 0
      },
      "text/plain": [
       "  0%|          | 0/100 [00:00<?, ?it/s]"
      ]
     },
     "metadata": {},
     "output_type": "display_data"
    },
    {
     "data": {
      "application/vnd.jupyter.widget-view+json": {
       "model_id": "af2b9b8a42df46e69aed6246f7010f34",
       "version_major": 2,
       "version_minor": 0
      },
      "text/plain": [
       "  0%|          | 0/100 [00:00<?, ?it/s]"
      ]
     },
     "metadata": {},
     "output_type": "display_data"
    },
    {
     "data": {
      "application/vnd.jupyter.widget-view+json": {
       "model_id": "4e1fc9f82a6444549961d3bbdea8bf46",
       "version_major": 2,
       "version_minor": 0
      },
      "text/plain": [
       "  0%|          | 0/100 [00:00<?, ?it/s]"
      ]
     },
     "metadata": {},
     "output_type": "display_data"
    }
   ],
   "source": [
    "res = mmd_experiment(kernel_class, Xs_ls, Ys_ls, eps0=eps, keys=keys, nboot=500)"
   ]
  },
  {
   "cell_type": "code",
   "execution_count": 16,
   "id": "e276cb0e-e114-470a-ac37-fae090f2fd62",
   "metadata": {},
   "outputs": [
    {
     "data": {
      "image/png": "[encoded data removed]",
      "text/plain": [
       "<Figure size 900x300 with 3 Axes>"
      ]
     },
     "metadata": {},
     "output_type": "display_data"
    }
   ],
   "source": [
    "figs, axes = plt.subplots(nrows=1, ncols=3, figsize=(9, 3))\n",
    "\n",
    "ax = axes[0]\n",
    "rej_prob = [np.mean(res[kk][\"boot\"][\"rej\"]) for kk in keys]\n",
    "ax.scatter(keys, rej_prob)\n",
    "ax.axhline(0.05, color=\"grey\", linestyle=\"--\", label=\"level\")\n",
    "ax.set_xscale(\"log\")\n",
    "ax.set_ylim(-0.05, 1.05)\n",
    "ax.set_xlabel(\"\")\n",
    "ax.set_ylabel(\"rej prob\")\n",
    "ax.set_title(\"standard test\")\n",
    "\n",
    "ax = axes[1]\n",
    "rej_prob = [np.mean(res[kk][\"robust\"][\"rej\"]) for kk in keys]\n",
    "ax.scatter(keys, rej_prob)\n",
    "ax.axhline(0.05, color=\"grey\", linestyle=\"--\", label=\"level\")\n",
    "ax.set_xscale(\"log\")\n",
    "ax.set_ylim(-0.05, 1.05)\n",
    "ax.set_xlabel(\"\")\n",
    "ax.set_ylabel(\"rej prob\")\n",
    "ax.set_title(\"robust test\")\n",
    "\n",
    "ax = axes[2]\n",
    "rej_prob = [np.mean(res[kk][\"relaxed\"][\"rej\"]) for kk in keys]\n",
    "ax.scatter(keys, rej_prob)\n",
    "ax.axhline(0.05, color=\"grey\", linestyle=\"--\", label=\"level\")\n",
    "ax.set_xscale(\"log\")\n",
    "ax.set_ylim(-0.05, 1.05)\n",
    "ax.set_xlabel(\"\")\n",
    "ax.set_ylabel(\"rej prob\")\n",
    "ax.set_title(\"robust test\")\n",
    "\n",
    "_ = axes[0].legend()\n",
    "_ = plt.tight_layout()"
   ]
  },
  {
   "cell_type": "code",
   "execution_count": null,
   "id": "345aed95-a13b-40eb-bd54-9ff3e148d445",
   "metadata": {},
   "outputs": [],
   "source": []
  },
  {
   "cell_type": "code",
   "execution_count": 210,
   "id": "cc8ef23d-d230-4131-ba17-5d04c590e9ac",
   "metadata": {},
   "outputs": [],
   "source": [
    "np.random.seed(2024)"
   ]
  },
  {
   "cell_type": "code",
   "execution_count": 211,
   "id": "7f913fdd-b8eb-4e62-b368-f2ddbd232d98",
   "metadata": {},
   "outputs": [
    {
     "data": {
      "application/vnd.jupyter.widget-view+json": {
       "model_id": "1ddd01611f414f779b9998e402f9e7ea",
       "version_major": 2,
       "version_minor": 0
      },
      "text/plain": [
       "  0%|          | 0/6 [00:00<?, ?it/s]"
      ]
     },
     "metadata": {},
     "output_type": "display_data"
    }
   ],
   "source": [
    "nrep = 20\n",
    "mean1 = np.zeros((dim,))\n",
    "# mean2 = np.zeros((dim,)) + 0.8.\n",
    "\n",
    "eps = 0.05\n",
    "outlier_ls = [0.1, 1., 10., 100., 1e3, 1e4]\n",
    "\n",
    "mmd_res = {\"contam\": [], \"outlier_only\": []}\n",
    "\n",
    "for outlier in outlier_ls:\n",
    "    ### Gaussian contam\n",
    "    Xs = np.random.multivariate_normal(mean1, np.eye(dim), (nrep, n))\n",
    "    \n",
    "    mask = np.random.binomial(1, eps, (nrep, n))\n",
    "    clean_samples = np.random.multivariate_normal(mean1, np.eye(dim), (nrep, n))\n",
    "    Ys = np.where(np.expand_dims(mask, -1), np.ones_like(clean_samples) * outlier, clean_samples)\n",
    "\n",
    "    Ys_outliers = np.ones_like(Xs) * outlier\n",
    "    ###\n",
    "\n",
    "    mmd_contam_ls = []\n",
    "    mmd_outlier_ls = []\n",
    "    for (X, Y, Y_o) in tqdm(zip(Xs, Ys, Ys_outliers), total=X.shape[0]):\n",
    "        kernel = kernel_class(sigma_sq=2.)\n",
    "        mmd = metrics.MMD(kernel)\n",
    "\n",
    "        # contaminated data\n",
    "        val = mmd(X, Y)\n",
    "        mmd_contam_ls.append(val)\n",
    "\n",
    "        # outlier only\n",
    "        val_o = mmd(X, Y_o)\n",
    "        mmd_outlier_ls.append(val_o)\n",
    "\n",
    "    mmd_res[\"contam\"].append(mmd_contam_ls)\n",
    "    mmd_res[\"outlier_only\"].append(mmd_outlier_ls)\n"
   ]
  },
  {
   "cell_type": "code",
   "execution_count": 213,
   "id": "6ef6025e-72d0-49f9-8407-b33319e1ae6d",
   "metadata": {},
   "outputs": [
    {
     "data": {
      "image/png": "[encoded data removed]",
      "text/plain": [
       "<Figure size 300x300 with 1 Axes>"
      ]
     },
     "metadata": {},
     "output_type": "display_data"
    }
   ],
   "source": [
    "figs, axes = plt.subplots(nrows=1, ncols=1, figsize=(3, 3))\n",
    "\n",
    "ax = axes\n",
    "mmd_contam = [np.mean(mmd_res[\"contam\"]) for kk in keys]\n",
    "mmd_outlier = [np.mean(mmd_res[\"outlier_only\"]) for kk in keys]\n",
    "ax.scatter(outlier_ls, mmd_contam, label=\"contam\")\n",
    "ax.scatter(outlier_ls, mmd_outlier, label=\"dirac\")\n",
    "\n",
    "_ = ax.legend()"
   ]
  },
  {
   "cell_type": "markdown",
   "id": "3ce1e50e-dcbb-49b9-bba7-cbda3383e8fb",
   "metadata": {},
   "source": [
    "# KSD"
   ]
  },
  {
   "cell_type": "code",
   "execution_count": 23,
   "id": "818db652-157d-4595-a3ec-5cf4ee302064",
   "metadata": {},
   "outputs": [],
   "source": [
    "def ksd_experiment_single(kernel_class, Xs, score_fns, nboot=500, alpha=0.05):\n",
    "    res = {\n",
    "        \"deviation\": {\"val\": [], \"threshold\": [], \"rej\": []},\n",
    "        \"boot\": {\"val\": [], \"threshold\": [], \"pval\": [], \"rej\": [], \"boot_stat\": []},\n",
    "        \"robust\": {\"val\": [], \"threshold\": [], \"rej\": []},\n",
    "        \"relaxed\": {\"val\": [], \"threshold\": [], \"rej\": []},\n",
    "    }\n",
    "\n",
    "    for X, score_fn in tqdm(zip(Xs, score_fns), total=Xs.shape[0]):\n",
    "        kernel = kernel_class(sigma_sq=2.)\n",
    "        ksd = metrics.KSD(kernel, score_fn=score_fn)\n",
    "        val = ksd(X, X, vstat=\"vstat\")\n",
    "\n",
    "        # 1. bootstrap\n",
    "        bootstrap = boot.WildBootstrap(ksd, ndraws=nboot)\n",
    "        pval, boot_stat = bootstrap.pval(X, X, return_boot=True)\n",
    "\n",
    "        # save results\n",
    "        res[\"boot\"][\"val\"].append(val)\n",
    "        res[\"boot\"][\"pval\"].append(pval)\n",
    "        res[\"boot\"][\"rej\"].append(float(pval < alpha))\n",
    "        res[\"boot\"][\"boot_stat\"].append(boot_stat)\n",
    "\n",
    "    return res\n",
    "\n",
    "def ksd_experiment(kernel_class, Xs, score_fns, keys, nboot=500):\n",
    "    \"\"\"\n",
    "    Xs: [array(nrep, n, d), ...]\n",
    "    Ys: [array(nrep, n, d), ...]\n",
    "    \"\"\"\n",
    "    res = {}\n",
    "    for Xs_i, score_fn_i, kk in zip(Xs, score_fns, keys):\n",
    "        res[kk] = ksd_experiment_single(kernel_class, Xs_i, score_fn_i, nboot=nboot)\n",
    "\n",
    "    return res\n",
    "\n",
    "def prop_larger(t, ls):\n",
    "    return np.mean(np.array(ls) > t)"
   ]
  },
  {
   "cell_type": "code",
   "execution_count": 13,
   "id": "a240bbe7-165d-40b7-a949-9f14548e6db7",
   "metadata": {},
   "outputs": [],
   "source": [
    "np.random.seed(2024)"
   ]
  },
  {
   "cell_type": "code",
   "execution_count": 14,
   "id": "da195553-c5d7-4648-a217-7271b90fc612",
   "metadata": {},
   "outputs": [],
   "source": [
    "nrep = 10\n",
    "n = 1000\n",
    "dim = 1\n",
    "mean1 = np.zeros((dim,)) # data\n",
    "mean2 = np.zeros((dim,)) # model\n",
    "\n",
    "### Gaussian loc\n",
    "# Xs = np.random.multivariate_normal(mean1, np.eye(dim), (nrep, n))\n",
    "\n",
    "# score_fns = [lambda x: - (x - mean2) for _ in range(nrep)]\n",
    "\n",
    "# eps = 0.\n",
    "### Gaussian with outliers\n",
    "score_fns = [lambda x: - (x - mean2) for _ in range(nrep)]\n",
    "\n",
    "eps = 0.01\n",
    "outlier = 10.\n",
    "Xs = np.random.multivariate_normal(mean1, np.eye(dim), (nrep, n))\n",
    "n_outlier = max(1, int(n * eps))\n",
    "Xs[:, :n_outlier] = outlier\n",
    "###\n",
    "\n",
    "kernel_class = kernels.RBF"
   ]
  },
  {
   "cell_type": "code",
   "execution_count": 15,
   "id": "14e29c20-094c-4b82-9b6c-9115f7fd4c4b",
   "metadata": {},
   "outputs": [
    {
     "data": {
      "image/png": "[encoded data removed]",
      "text/plain": [
       "<Figure size 400x400 with 1 Axes>"
      ]
     },
     "metadata": {},
     "output_type": "display_data"
    }
   ],
   "source": [
    "fig, ax = plt.subplots(nrows=1, ncols=1, figsize=(4, 4))\n",
    "_ = ax.hist(Xs[0, :, 0], bins=50, label=\"X\", alpha=0.5, density=True)\n",
    "# _ = ax.hist(Ys[0, :, 0], bins=50, label=\"Y\", alpha=0.5, density=True)"
   ]
  },
  {
   "cell_type": "code",
   "execution_count": 16,
   "id": "2645101c-a8cd-4527-af1b-3d1b62fd07f4",
   "metadata": {},
   "outputs": [
    {
     "data": {
      "application/vnd.jupyter.widget-view+json": {
       "model_id": "0d00860b09e34cf58fb3bff52c4069b8",
       "version_major": 2,
       "version_minor": 0
      },
      "text/plain": [
       "  0%|          | 0/10 [00:00<?, ?it/s]"
      ]
     },
     "metadata": {},
     "output_type": "display_data"
    }
   ],
   "source": [
    "res = ksd_experiment_single(kernel_class, Xs, score_fns, nboot=1000)"
   ]
  },
  {
   "cell_type": "code",
   "execution_count": 17,
   "id": "838b7be2-6403-4c0e-b9d5-71df96a1eca2",
   "metadata": {},
   "outputs": [],
   "source": [
    "# get test statistic and bootstrap stats\n",
    "boot_stat = res[\"boot\"][\"boot_stat\"][0]\n",
    "stat = res[\"boot\"][\"val\"][0]"
   ]
  },
  {
   "cell_type": "code",
   "execution_count": 18,
   "id": "898ac5fc-f9d0-48d8-b01b-fc35eae46ac6",
   "metadata": {},
   "outputs": [],
   "source": [
    "np.random.seed(2024)"
   ]
  },
  {
   "cell_type": "code",
   "execution_count": 19,
   "id": "ad7e9c43-1fd5-4c82-89d7-e69b1e51160a",
   "metadata": {},
   "outputs": [
    {
     "data": {
      "application/vnd.jupyter.widget-view+json": {
       "model_id": "bf71f9f740704fe88b924d3e163d0862",
       "version_major": 2,
       "version_minor": 0
      },
      "text/plain": [
       "  0%|          | 0/1000 [00:00<?, ?it/s]"
      ]
     },
     "metadata": {},
     "output_type": "display_data"
    }
   ],
   "source": [
    "# simulate sampling distribution for stat\n",
    "stat_ls = []\n",
    "Xs = np.random.multivariate_normal(mean1, np.eye(dim), (1000, n))\n",
    "score_fn = score_fns[0]\n",
    "\n",
    "kernel = kernels.RBF(sigma_sq=2.)\n",
    "ksd = metrics.KSD(kernel, score_fn=score_fn)\n",
    "for X in tqdm(Xs):\n",
    "    stat_ls.append(ksd(X, X, vstat=True))"
   ]
  },
  {
   "cell_type": "code",
   "execution_count": 20,
   "id": "96c81f03-27c5-469e-8b93-74334df35687",
   "metadata": {},
   "outputs": [
    {
     "name": "stdout",
     "output_type": "stream",
     "text": [
      "one-sample\n"
     ]
    },
    {
     "name": "stderr",
     "output_type": "stream",
     "text": [
      "100%|████████████████████████████████████████████████████████████████████████████████████████████████████████████████████████████████████████████████████████████████████████████████████████████████████| 1000/1000 [04:53<00:00,  3.41it/s]\n"
     ]
    }
   ],
   "source": [
    "efron_bootstrap = boot.EfronBootstrap(ksd, ndraws=1000)\n",
    "efron_boot_stats, efron_test_stat = efron_bootstrap.compute_bootstrap(Xs[0])"
   ]
  },
  {
   "cell_type": "code",
   "execution_count": 26,
   "id": "eca0ff87-9107-485d-9080-e55acad33d64",
   "metadata": {},
   "outputs": [
    {
     "data": {
      "text/plain": [
       "<matplotlib.lines.Line2D at 0x7f05dc497670>"
      ]
     },
     "execution_count": 26,
     "metadata": {},
     "output_type": "execute_result"
    },
    {
     "data": {
      "image/png": "[encoded data removed]",
      "text/plain": [
       "<Figure size 640x480 with 1 Axes>"
      ]
     },
     "metadata": {},
     "output_type": "display_data"
    }
   ],
   "source": [
    "_ = plt.hist(stat_ls, bins=50, alpha=0.2, color=\"C1\")\n",
    "_ = plt.hist(efron_boot_stats, bins=50, alpha=0.2, color=\"C2\")\n",
    "\n",
    "plt.axvline(efron_test_stat, color=\"grey\")"
   ]
  },
  {
   "cell_type": "code",
   "execution_count": 24,
   "id": "8976055f-7920-404f-bb2e-0750c1224eae",
   "metadata": {},
   "outputs": [
    {
     "data": {
      "text/plain": [
       "(0.05, 0.009)"
      ]
     },
     "execution_count": 24,
     "metadata": {},
     "output_type": "execute_result"
    }
   ],
   "source": [
    "t = np.percentile(efron_boot_stats, 95)\n",
    "prop_larger(t, efron_boot_stats), prop_larger(t, stat_ls)"
   ]
  },
  {
   "cell_type": "code",
   "execution_count": null,
   "id": "281ce5ed-8800-4ce5-a7f5-cd798aa8e345",
   "metadata": {},
   "outputs": [],
   "source": []
  },
  {
   "cell_type": "code",
   "execution_count": null,
   "id": "e980f3fe-2111-412f-a623-fc17cd930b49",
   "metadata": {},
   "outputs": [],
   "source": []
  },
  {
   "cell_type": "code",
   "execution_count": 85,
   "id": "40a305e6-668e-4f75-b893-d5ba0ded4a09",
   "metadata": {},
   "outputs": [
    {
     "data": {
      "text/plain": [
       "<matplotlib.lines.Line2D at 0x7f6fdc6c7f70>"
      ]
     },
     "execution_count": 85,
     "metadata": {},
     "output_type": "execute_result"
    },
    {
     "data": {
      "image/png": "[encoded data removed]",
      "text/plain": [
       "<Figure size 640x480 with 1 Axes>"
      ]
     },
     "metadata": {},
     "output_type": "display_data"
    }
   ],
   "source": [
    "_ = plt.hist(boot_stat, bins=50, alpha=0.2)\n",
    "_ = plt.hist(stat_ls, bins=50, alpha=0.2)\n",
    "\n",
    "plt.axvline(stat, color=\"grey\")"
   ]
  },
  {
   "cell_type": "code",
   "execution_count": 86,
   "id": "bbd53fed-573c-4d6e-bf32-71648f3a72a6",
   "metadata": {},
   "outputs": [
    {
     "data": {
      "text/plain": [
       "(0.087, 0.092)"
      ]
     },
     "execution_count": 86,
     "metadata": {},
     "output_type": "execute_result"
    }
   ],
   "source": [
    "t = 0.004\n",
    "prop_larger(t, boot_stat), prop_larger(t, stat_ls)"
   ]
  },
  {
   "cell_type": "code",
   "execution_count": null,
   "id": "165aff99-b805-4b12-89b0-6684f89dbf75",
   "metadata": {},
   "outputs": [],
   "source": []
  },
  {
   "cell_type": "code",
   "execution_count": 104,
   "id": "2230d8e1-d90f-4c0b-88bf-be4a2bbc6952",
   "metadata": {},
   "outputs": [
    {
     "data": {
      "text/plain": [
       "<matplotlib.lines.Line2D at 0x7f6fdeaf20d0>"
      ]
     },
     "execution_count": 104,
     "metadata": {},
     "output_type": "execute_result"
    },
    {
     "data": {
      "image/png": "[encoded data removed]",
      "text/plain": [
       "<Figure size 640x480 with 1 Axes>"
      ]
     },
     "metadata": {},
     "output_type": "display_data"
    }
   ],
   "source": [
    "_ = plt.hist(boot_stat, bins=50, alpha=0.2)\n",
    "_ = plt.hist(stat_ls, bins=50, alpha=0.2)\n",
    "\n",
    "plt.axvline(stat, color=\"grey\")"
   ]
  },
  {
   "cell_type": "code",
   "execution_count": 102,
   "id": "225f8f1c-a006-487b-b001-5f73f0f3a13d",
   "metadata": {},
   "outputs": [
    {
     "data": {
      "text/plain": [
       "(0.05, 0.0)"
      ]
     },
     "execution_count": 102,
     "metadata": {},
     "output_type": "execute_result"
    }
   ],
   "source": [
    "t = np.percentile(boot_stat, 95)\n",
    "prop_larger(t, boot_stat), prop_larger(t, stat_ls)"
   ]
  },
  {
   "cell_type": "code",
   "execution_count": 114,
   "id": "57241033-5c7f-4bee-b5a0-5008df9d3084",
   "metadata": {},
   "outputs": [
    {
     "data": {
      "text/plain": [
       "<matplotlib.lines.Line2D at 0x7f6fdc0799d0>"
      ]
     },
     "execution_count": 114,
     "metadata": {},
     "output_type": "execute_result"
    },
    {
     "data": {
      "image/png": "[encoded data removed]",
      "text/plain": [
       "<Figure size 640x480 with 1 Axes>"
      ]
     },
     "metadata": {},
     "output_type": "display_data"
    }
   ],
   "source": [
    "_ = plt.hist(boot_stat, bins=50, alpha=0.2)\n",
    "_ = plt.hist(stat_ls, bins=50, alpha=0.2)\n",
    "\n",
    "plt.axvline(stat, color=\"grey\")"
   ]
  },
  {
   "cell_type": "code",
   "execution_count": null,
   "id": "bcaf22d2-f92e-4bbf-8e50-bc4876d994ba",
   "metadata": {},
   "outputs": [],
   "source": []
  },
  {
   "cell_type": "code",
   "execution_count": null,
   "id": "3877c5d2-18b8-4112-b411-5a4e022d9641",
   "metadata": {},
   "outputs": [],
   "source": []
  },
  {
   "cell_type": "code",
   "execution_count": 37,
   "id": "375993a9-8d21-46e8-bd44-c569a4308b96",
   "metadata": {},
   "outputs": [
    {
     "data": {
      "image/png": "[encoded data removed]",
      "text/plain": [
       "<Figure size 1600x300 with 4 Axes>"
      ]
     },
     "metadata": {},
     "output_type": "display_data"
    }
   ],
   "source": [
    "figs, axes = plt.subplots(nrows=1, ncols=4, figsize=(16, 3))\n",
    "\n",
    "ax = axes[0]\n",
    "sns.ecdfplot(ax=ax, x=res[\"boot\"][\"pval\"])\n",
    "_ = ax.axline((0., 0.), slope=1., color=\"grey\", linestyle=\"--\")\n",
    "ax.set_xlim(-0.01, 1.01)\n",
    "ax.set_ylim(0., 1.)\n",
    "_ = ax.set_xlabel(\"p-value\")\n"
   ]
  },
  {
   "cell_type": "markdown",
   "id": "65eadb39-95d5-4949-8199-3a656007359f",
   "metadata": {},
   "source": [
    "#### Multiple experiments"
   ]
  },
  {
   "cell_type": "code",
   "execution_count": 8,
   "id": "c274c969-2734-4dca-9f1f-253b778bb497",
   "metadata": {},
   "outputs": [],
   "source": [
    "np.random.seed(2024)"
   ]
  },
  {
   "cell_type": "code",
   "execution_count": 9,
   "id": "d9302c69-2aa0-46ad-a1ba-4fde7c088402",
   "metadata": {},
   "outputs": [
    {
     "name": "stdout",
     "output_type": "stream",
     "text": [
      "eps: 0.001\n"
     ]
    },
    {
     "data": {
      "application/vnd.jupyter.widget-view+json": {
       "model_id": "2ad33447598e4ddaaa96a40176e61dc3",
       "version_major": 2,
       "version_minor": 0
      },
      "text/plain": [
       "  0%|          | 0/20 [00:00<?, ?it/s]"
      ]
     },
     "metadata": {},
     "output_type": "display_data"
    },
    {
     "data": {
      "application/vnd.jupyter.widget-view+json": {
       "model_id": "e973f68f8ad248eea9a0870b5726dc39",
       "version_major": 2,
       "version_minor": 0
      },
      "text/plain": [
       "  0%|          | 0/20 [00:00<?, ?it/s]"
      ]
     },
     "metadata": {},
     "output_type": "display_data"
    },
    {
     "data": {
      "application/vnd.jupyter.widget-view+json": {
       "model_id": "4621b11fac31459faad0a26d3e9e4b23",
       "version_major": 2,
       "version_minor": 0
      },
      "text/plain": [
       "  0%|          | 0/20 [00:00<?, ?it/s]"
      ]
     },
     "metadata": {},
     "output_type": "display_data"
    },
    {
     "data": {
      "application/vnd.jupyter.widget-view+json": {
       "model_id": "9aae99576eee45c8a0a4f16e53ef25c9",
       "version_major": 2,
       "version_minor": 0
      },
      "text/plain": [
       "  0%|          | 0/20 [00:00<?, ?it/s]"
      ]
     },
     "metadata": {},
     "output_type": "display_data"
    },
    {
     "data": {
      "application/vnd.jupyter.widget-view+json": {
       "model_id": "66dadcbfc8df4f5b9fccf82c4bd2beb3",
       "version_major": 2,
       "version_minor": 0
      },
      "text/plain": [
       "  0%|          | 0/20 [00:00<?, ?it/s]"
      ]
     },
     "metadata": {},
     "output_type": "display_data"
    },
    {
     "data": {
      "application/vnd.jupyter.widget-view+json": {
       "model_id": "8902bb63afa94c019cb3ca592d8e110a",
       "version_major": 2,
       "version_minor": 0
      },
      "text/plain": [
       "  0%|          | 0/20 [00:00<?, ?it/s]"
      ]
     },
     "metadata": {},
     "output_type": "display_data"
    },
    {
     "name": "stdout",
     "output_type": "stream",
     "text": [
      "eps: 0.0025\n"
     ]
    },
    {
     "data": {
      "application/vnd.jupyter.widget-view+json": {
       "model_id": "9ba5fe0be1784e4db5b62db51b03c1d5",
       "version_major": 2,
       "version_minor": 0
      },
      "text/plain": [
       "  0%|          | 0/20 [00:00<?, ?it/s]"
      ]
     },
     "metadata": {},
     "output_type": "display_data"
    },
    {
     "data": {
      "application/vnd.jupyter.widget-view+json": {
       "model_id": "7ba34f8784944d4ea1e38822ed7708a8",
       "version_major": 2,
       "version_minor": 0
      },
      "text/plain": [
       "  0%|          | 0/20 [00:00<?, ?it/s]"
      ]
     },
     "metadata": {},
     "output_type": "display_data"
    },
    {
     "data": {
      "application/vnd.jupyter.widget-view+json": {
       "model_id": "a423123f8e374056adc73ace03650033",
       "version_major": 2,
       "version_minor": 0
      },
      "text/plain": [
       "  0%|          | 0/20 [00:00<?, ?it/s]"
      ]
     },
     "metadata": {},
     "output_type": "display_data"
    },
    {
     "data": {
      "application/vnd.jupyter.widget-view+json": {
       "model_id": "ef4100ff8dc543028beceeb04de5be59",
       "version_major": 2,
       "version_minor": 0
      },
      "text/plain": [
       "  0%|          | 0/20 [00:00<?, ?it/s]"
      ]
     },
     "metadata": {},
     "output_type": "display_data"
    },
    {
     "data": {
      "application/vnd.jupyter.widget-view+json": {
       "model_id": "b95dcc35045b43329af85626d7679121",
       "version_major": 2,
       "version_minor": 0
      },
      "text/plain": [
       "  0%|          | 0/20 [00:00<?, ?it/s]"
      ]
     },
     "metadata": {},
     "output_type": "display_data"
    },
    {
     "data": {
      "application/vnd.jupyter.widget-view+json": {
       "model_id": "97f33104aad84c519723fcd5337acd54",
       "version_major": 2,
       "version_minor": 0
      },
      "text/plain": [
       "  0%|          | 0/20 [00:00<?, ?it/s]"
      ]
     },
     "metadata": {},
     "output_type": "display_data"
    },
    {
     "name": "stdout",
     "output_type": "stream",
     "text": [
      "eps: 0.005\n"
     ]
    },
    {
     "data": {
      "application/vnd.jupyter.widget-view+json": {
       "model_id": "7cd9b0beda0b40bcb318955b45dc1f1d",
       "version_major": 2,
       "version_minor": 0
      },
      "text/plain": [
       "  0%|          | 0/20 [00:00<?, ?it/s]"
      ]
     },
     "metadata": {},
     "output_type": "display_data"
    },
    {
     "data": {
      "application/vnd.jupyter.widget-view+json": {
       "model_id": "b85214f112354d139c1d3b29d4e2e71b",
       "version_major": 2,
       "version_minor": 0
      },
      "text/plain": [
       "  0%|          | 0/20 [00:00<?, ?it/s]"
      ]
     },
     "metadata": {},
     "output_type": "display_data"
    },
    {
     "data": {
      "application/vnd.jupyter.widget-view+json": {
       "model_id": "e92ec136141643e783005576c3e474f3",
       "version_major": 2,
       "version_minor": 0
      },
      "text/plain": [
       "  0%|          | 0/20 [00:00<?, ?it/s]"
      ]
     },
     "metadata": {},
     "output_type": "display_data"
    },
    {
     "data": {
      "application/vnd.jupyter.widget-view+json": {
       "model_id": "c743c222fc5d4fc088c068368bf89338",
       "version_major": 2,
       "version_minor": 0
      },
      "text/plain": [
       "  0%|          | 0/20 [00:00<?, ?it/s]"
      ]
     },
     "metadata": {},
     "output_type": "display_data"
    },
    {
     "data": {
      "application/vnd.jupyter.widget-view+json": {
       "model_id": "9c6b66479d1446aeaa8825220e0e9a1c",
       "version_major": 2,
       "version_minor": 0
      },
      "text/plain": [
       "  0%|          | 0/20 [00:00<?, ?it/s]"
      ]
     },
     "metadata": {},
     "output_type": "display_data"
    },
    {
     "data": {
      "application/vnd.jupyter.widget-view+json": {
       "model_id": "141fe62b90194ee798390f1f5c6d7016",
       "version_major": 2,
       "version_minor": 0
      },
      "text/plain": [
       "  0%|          | 0/20 [00:00<?, ?it/s]"
      ]
     },
     "metadata": {},
     "output_type": "display_data"
    },
    {
     "name": "stdout",
     "output_type": "stream",
     "text": [
      "eps: 0.01\n"
     ]
    },
    {
     "data": {
      "application/vnd.jupyter.widget-view+json": {
       "model_id": "16177a4b60e242ee85d2fc7a7c3d3310",
       "version_major": 2,
       "version_minor": 0
      },
      "text/plain": [
       "  0%|          | 0/20 [00:00<?, ?it/s]"
      ]
     },
     "metadata": {},
     "output_type": "display_data"
    },
    {
     "data": {
      "application/vnd.jupyter.widget-view+json": {
       "model_id": "26edeaf2040e4c54b65403724d952654",
       "version_major": 2,
       "version_minor": 0
      },
      "text/plain": [
       "  0%|          | 0/20 [00:00<?, ?it/s]"
      ]
     },
     "metadata": {},
     "output_type": "display_data"
    },
    {
     "data": {
      "application/vnd.jupyter.widget-view+json": {
       "model_id": "86c5d7c5059d4b7196967d99b74006a2",
       "version_major": 2,
       "version_minor": 0
      },
      "text/plain": [
       "  0%|          | 0/20 [00:00<?, ?it/s]"
      ]
     },
     "metadata": {},
     "output_type": "display_data"
    },
    {
     "data": {
      "application/vnd.jupyter.widget-view+json": {
       "model_id": "78e6a9b287b345749c778a6cae9c24b4",
       "version_major": 2,
       "version_minor": 0
      },
      "text/plain": [
       "  0%|          | 0/20 [00:00<?, ?it/s]"
      ]
     },
     "metadata": {},
     "output_type": "display_data"
    },
    {
     "data": {
      "application/vnd.jupyter.widget-view+json": {
       "model_id": "9898980e81f1459aaf2434259e3bbc30",
       "version_major": 2,
       "version_minor": 0
      },
      "text/plain": [
       "  0%|          | 0/20 [00:00<?, ?it/s]"
      ]
     },
     "metadata": {},
     "output_type": "display_data"
    },
    {
     "data": {
      "application/vnd.jupyter.widget-view+json": {
       "model_id": "cca0c8814a1c40beae001c1cd32c9cad",
       "version_major": 2,
       "version_minor": 0
      },
      "text/plain": [
       "  0%|          | 0/20 [00:00<?, ?it/s]"
      ]
     },
     "metadata": {},
     "output_type": "display_data"
    }
   ],
   "source": [
    "nrep = 20\n",
    "mean1 = np.zeros((dim,))\n",
    "\n",
    "# eps = 0.01\n",
    "# eps_list = [0.001, 0.005, 0.01]\n",
    "eps_list = [0.001, 0.0025, 0.005, 0.01]\n",
    "outlier_ls = [0.1, 1., 10., 100., 1e3, 1e4]\n",
    "\n",
    "res = {}\n",
    "\n",
    "for eps in eps_list:\n",
    "    print(f\"eps: {eps}\")\n",
    "    \n",
    "    Xs_ls = []\n",
    "    score_fns_ls = []\n",
    "    \n",
    "    for outlier in outlier_ls:\n",
    "        ### Gaussian contam\n",
    "        # outliers = np.random.multivariate_normal(mean1 + outlier, np.eye(dim), (nrep, n))\n",
    "        # clean_samples = np.random.multivariate_normal(mean1, np.eye(dim), (nrep, n))\n",
    "        # mask = np.random.binomial(1, eps, (nrep, n))\n",
    "        # Xs = np.where(np.expand_dims(mask, -1), outliers, clean_samples)\n",
    "\n",
    "        Xs = np.random.multivariate_normal(mean1, np.eye(dim), (nrep, n))\n",
    "        n_outlier = max(1, int(n * eps))\n",
    "        Xs[:, :n_outlier] = outlier\n",
    "    \n",
    "        score_fns = [lambda x: - (x - mean1) for _ in range(nrep)]\n",
    "        ###\n",
    "    \n",
    "        Xs_ls.append(Xs)\n",
    "        score_fns_ls.append(score_fns)\n",
    "    \n",
    "    kernel_class = kernels.RBF\n",
    "    \n",
    "    keys = outlier_ls\n",
    "    \n",
    "    res_sub = ksd_experiment(kernel_class, Xs_ls, score_fns_ls, keys=keys, nboot=500)\n",
    "    res[eps] = res_sub"
   ]
  },
  {
   "cell_type": "code",
   "execution_count": 10,
   "id": "e2e56dd4-689d-455f-a9a8-feda8855289c",
   "metadata": {},
   "outputs": [],
   "source": [
    "# eps_list = [0.001, 0.0025, 0.005, 0.01]"
   ]
  },
  {
   "cell_type": "code",
   "execution_count": 16,
   "id": "7c6d956e-d0d3-4dd3-ad2b-b4f19fcfe28b",
   "metadata": {},
   "outputs": [
    {
     "data": {
      "image/png": "[encoded data removed]",
      "text/plain": [
       "<Figure size 900x300 with 3 Axes>"
      ]
     },
     "metadata": {},
     "output_type": "display_data"
    }
   ],
   "source": [
    "figs, axes = plt.subplots(nrows=1, ncols=3, figsize=(9, 3))\n",
    "\n",
    "ax = axes[0]\n",
    "for eps in eps_list:\n",
    "    r = res[eps]\n",
    "    rej_prob = [np.mean(r[kk][\"boot\"][\"rej\"]) for kk in keys]\n",
    "    ax.scatter(keys, rej_prob, label=f\"eps={eps}\")\n",
    "\n",
    "ax.axhline(0.05, color=\"grey\", linestyle=\"--\", label=\"level\")\n",
    "ax.set_xscale(\"log\")\n",
    "ax.set_ylim(-0.05, 1.05)\n",
    "ax.set_xlabel(\"outlier mean\")\n",
    "ax.set_ylabel(\"rej prob\")\n",
    "ax.set_title(\"standard test\")\n",
    "ax.legend()\n",
    "\n",
    "ax = axes[1]\n",
    "# for eps in eps_list[:1]:\n",
    "for eps in eps_list:\n",
    "    r = res[eps]\n",
    "    rej_prob = [np.mean(r[kk][\"boot\"][\"val\"]) for kk in keys]\n",
    "    ax.scatter(keys, rej_prob, label=f\"eps={eps}\")\n",
    "ax.set_ylabel(\"ksd\")\n",
    "ax.set_xlabel(\"outlier mean\")\n",
    "ax.set_xscale(\"log\")\n",
    "ax.set_yscale(\"log\")\n",
    "ax.legend()\n",
    "\n",
    "_ = plt.tight_layout()"
   ]
  },
  {
   "cell_type": "code",
   "execution_count": 13,
   "id": "c3b309c1-cecd-4379-a4ea-5168a45b0624",
   "metadata": {},
   "outputs": [],
   "source": [
    "# resold = res"
   ]
  },
  {
   "cell_type": "code",
   "execution_count": 27,
   "id": "bb445639-7d90-473e-b803-b0ef2919cbe0",
   "metadata": {},
   "outputs": [],
   "source": [
    "xx = np.reshape(np.linspace(-10., 10., 1001), (-1, 1))\n",
    "aa = np.reshape(np.linspace(0., 1., 6), (1, -1))\n",
    "pp = np.exp(- (1-aa) * 0.5 * xx**2) * np.exp(- aa * 0.5 * (xx - 6)**2)"
   ]
  },
  {
   "cell_type": "code",
   "execution_count": 31,
   "id": "daf60d6f-8e44-4977-95ca-7bfbda63c7a4",
   "metadata": {},
   "outputs": [
    {
     "data": {
      "text/plain": [
       "<matplotlib.legend.Legend at 0x7eff9e54c970>"
      ]
     },
     "execution_count": 31,
     "metadata": {},
     "output_type": "execute_result"
    },
    {
     "data": {
      "image/png": "[encoded data removed]",
      "text/plain": [
       "<Figure size 640x480 with 1 Axes>"
      ]
     },
     "metadata": {},
     "output_type": "display_data"
    }
   ],
   "source": [
    "for i, a in enumerate(np.squeeze(aa)):\n",
    "    plt.plot(xx[:, 0], pp[:, i], label=a)\n",
    "plt.legend()"
   ]
  },
  {
   "cell_type": "code",
   "execution_count": 32,
   "id": "3e6be493-e942-4e0e-8ee9-3d3f99d7a4cf",
   "metadata": {},
   "outputs": [
    {
     "data": {
      "text/plain": [
       "[<matplotlib.lines.Line2D at 0x7eff9e4a6c70>]"
      ]
     },
     "execution_count": 32,
     "metadata": {},
     "output_type": "execute_result"
    },
    {
     "data": {
      "image/png": "[encoded data removed]",
      "text/plain": [
       "<Figure size 640x480 with 1 Axes>"
      ]
     },
     "metadata": {},
     "output_type": "display_data"
    }
   ],
   "source": [
    "plt.plot(xx[:, 0], pp[:, 2])"
   ]
  },
  {
   "cell_type": "code",
   "execution_count": null,
   "id": "5c969fe8-86f5-4e41-a38b-9414b521b00f",
   "metadata": {},
   "outputs": [],
   "source": []
  }
 ],
 "metadata": {
  "kernelspec": {
   "display_name": "robust",
   "language": "python",
   "name": "robust"
  },
  "language_info": {
   "codemirror_mode": {
    "name": "ipython",
    "version": 3
   },
   "file_extension": ".py",
   "mimetype": "text/x-python",
   "name": "python",
   "nbconvert_exporter": "python",
   "pygments_lexer": "ipython3",
   "version": "3.8.10"
  }
 },
 "nbformat": 4,
 "nbformat_minor": 5
}
